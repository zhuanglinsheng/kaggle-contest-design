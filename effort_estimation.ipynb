{
 "cells": [
  {
   "cell_type": "markdown",
   "id": "048e6c3e",
   "metadata": {},
   "source": [
    "# Explore `meta-kaggle` Dataset"
   ]
  },
  {
   "cell_type": "markdown",
   "id": "f3136aec",
   "metadata": {},
   "source": [
    "## --- Effort Estimation"
   ]
  },
  {
   "cell_type": "markdown",
   "id": "08eeebe3",
   "metadata": {},
   "source": [
    "Pre-requisites: \n",
    "\n",
    "1. Install Python package `kaggle`\n",
    "2. [Create token](https://www.kaggle.com/docs/api) and \n",
    "3. Put the `kaggle.json` file to the `.kaggle` folder of your home directory\n",
    "4. Download dataset `meta-kaggle` if haven't yet, by excuting: \n",
    "   ```python\n",
    "   from metakaggle import api\n",
    "   api.download_rawdata(rawdata_path)\n",
    "   ```"
   ]
  },
  {
   "cell_type": "code",
   "execution_count": null,
   "id": "76d0f266",
   "metadata": {},
   "outputs": [],
   "source": [
    "import os\n",
    "import pandas as pd\n",
    "from matplotlib import pyplot as plt\n",
    "import metakaggle as mk"
   ]
  },
  {
   "cell_type": "code",
   "execution_count": 2,
   "id": "457a7f2d",
   "metadata": {},
   "outputs": [],
   "source": [
    "rawdata_path = os.path.abspath('./rawdata')"
   ]
  },
  {
   "cell_type": "markdown",
   "id": "88b86395",
   "metadata": {},
   "source": [
    "### 1. Merge Datasets"
   ]
  },
  {
   "cell_type": "markdown",
   "id": "15309878",
   "metadata": {},
   "source": [
    "- Submissions\n",
    "- Teams\n",
    "- Competitions"
   ]
  },
  {
   "cell_type": "code",
   "execution_count": 3,
   "id": "e9ddc353",
   "metadata": {},
   "outputs": [],
   "source": [
    "# Submissions\n",
    "# - TeamId\n",
    "# - SubmissionDate\n",
    "tbl_submissions = mk.table_filter( \\\n",
    "\t'Submissions', rawdata_path,\n",
    "\tfields = ['Id', 'TeamId', 'SubmissionDate', 'IsAfterDeadline',\n",
    "\t\t'PublicScoreLeaderboardDisplay', 'PrivateScoreFullPrecision'],\n",
    "\tfields_index = ['Id'],\n",
    "\tfields_datetime = ['SubmissionDate'],\n",
    ")\n",
    "# drop all submissions after deadlines\n",
    "tbl_submissions = tbl_submissions[~tbl_submissions['IsAfterDeadline']]\n",
    "tbl_submissions.drop('IsAfterDeadline', axis=1, inplace=True)\n",
    "# rename long name\n",
    "tbl_submissions.rename(columns={\n",
    "\t'PublicScoreLeaderboardDisplay': 'PublicScore',\n",
    "\t'PrivateScoreFullPrecision': 'PrivateScore'\n",
    "}, inplace=True)"
   ]
  },
  {
   "cell_type": "code",
   "execution_count": 4,
   "id": "c69a4698",
   "metadata": {},
   "outputs": [],
   "source": [
    "# Mapping: Teams\n",
    "# - CompetitionId\n",
    "map_teams_competitions = mk.table_filter( \\\n",
    "\t'Teams', rawdata_path,\n",
    "\tfields = ['Id', 'CompetitionId'],\n",
    "\tfields_index = ['Id'],\n",
    ")\n",
    "# Map: Competitions\n",
    "# - EnabledDate\n",
    "# - DeadlineDate\n",
    "map_competitions_dates = mk.table_filter( \\\n",
    "\t'Competitions', rawdata_path,\n",
    "\tfields=['Id', 'EnabledDate', 'DeadlineDate'],\n",
    "\tfields_datetime=['EnabledDate', 'DeadlineDate'],\n",
    "\tfields_index=['Id'],\n",
    ")"
   ]
  },
  {
   "cell_type": "code",
   "execution_count": 49,
   "id": "342a432c",
   "metadata": {},
   "outputs": [
    {
     "data": {
      "text/plain": [
       "TeamId                                int64\n",
       "SubmissionDate               datetime64[ns]\n",
       "PublicScore                         float64\n",
       "PrivateScore                        float64\n",
       "CompetitionId                         int64\n",
       "EnabledDate                  datetime64[ns]\n",
       "DeadlineDate                 datetime64[ns]\n",
       "CompetitionId_Team                    int64\n",
       "EnabledDate_Competitions     datetime64[ns]\n",
       "DeadlineDate_Competitions    datetime64[ns]\n",
       "dtype: object"
      ]
     },
     "execution_count": 49,
     "metadata": {},
     "output_type": "execute_result"
    }
   ],
   "source": [
    "# Merge `Submissions` and `TeamsCompetition`\n",
    "tbl_submissions = pd.merge(tbl_submissions, map_teams_competitions,\n",
    "\thow = 'left', left_on = 'TeamId', right_on = 'Id', sort = False,\n",
    "\tsuffixes=('', '_Team'))\n",
    "tbl_submissions.drop(columns='Id_Team', inplace=True)\n",
    "\n",
    "# Further merge  with `Competitions`\n",
    "tbl_submissions = pd.merge(tbl_submissions, map_competitions_dates,\n",
    "\thow='left', left_on='CompetitionId', right_on='Id', sort = False,\n",
    "\tsuffixes=('', '_Competitions'))\n",
    "tbl_submissions.drop(columns='Id_Competitions', inplace=True)\n",
    "\n",
    "tbl_submissions.set_index('Id', inplace = True)\n",
    "tbl_submissions.dtypes"
   ]
  },
  {
   "cell_type": "code",
   "execution_count": 52,
   "id": "e89a1c78",
   "metadata": {},
   "outputs": [
    {
     "name": "stdout",
     "output_type": "stream",
     "text": [
      "How many contests in total?\n",
      " 5693\n"
     ]
    }
   ],
   "source": [
    "all_contests = tbl_submissions['CompetitionId'].unique()\n",
    "print('How many contests in total?\\n', len(all_contests))"
   ]
  },
  {
   "cell_type": "markdown",
   "id": "4f01457c",
   "metadata": {},
   "source": [
    "### 2. Visualize Submissions"
   ]
  },
  {
   "cell_type": "code",
   "execution_count": null,
   "id": "eba08e0d",
   "metadata": {},
   "outputs": [],
   "source": [
    "\n",
    "\n",
    "def plot_contest_submissions(submissions: pd.DataFrame, max_nteams: int = 5):\n",
    "\t\"\"\"\n",
    "\t\"\"\"\n",
    "\tcontest_time_start = submissions['EnabledDate_Competitions'].iloc[0]\n",
    "\tcontest_time_end = submissions['DeadlineDate_Competitions'].iloc[0]\n",
    "\tcontest_teams_n_submits = submissions.groupby('TeamId').size().sort_values(ascending=False)\n",
    "\n",
    "\tplt.figure(figsize=(10, 5))\n",
    "\tidx_team = 0\n",
    "\ty_ticks = ([], [])\n",
    "\n",
    "\tfor team in contest_teams_n_submits.index:\n",
    "\t\tteam_submissiondates = submissions.loc[submissions['TeamId'] == team, ['SubmissionDate']]\n",
    "\t\tif idx_team < max_nteams:\n",
    "\t\t\tidx_team += 1\n",
    "\t\t\tteam_loc = idx_team\n",
    "\t\t\ty_ticks[0].append(team_loc)\n",
    "\t\t\ty_ticks[1].append(team)\n",
    "\t\t\tplt.hlines(y=team_loc, xmax=contest_time_start, xmin=contest_time_end)\n",
    "\t\t\tplt.vlines(x=team_submissiondates, ymax=idx_team + 0.1, ymin=idx_team - 0.1)\n",
    "\tplt.xlim(contest_time_start, contest_time_end)\n",
    "\tplt.yticks(*y_ticks)\n",
    "\tplt.ylabel('Team', rotation=0)\n",
    "\tax = plt.gca()\n",
    "\t#ax.xaxis.set_label_coords(1.0, -0.05)\n",
    "\tax.yaxis.set_label_coords(-0.05, 1.0)\n",
    "\t#plt.tight_layout()\n",
    "\tplt.show()"
   ]
  },
  {
   "cell_type": "code",
   "execution_count": 150,
   "id": "279466ac",
   "metadata": {},
   "outputs": [
    {
     "data": {
      "image/png": "[encoded data removed]",
      "text/plain": [
       "<Figure size 1000x500 with 1 Axes>"
      ]
     },
     "metadata": {},
     "output_type": "display_data"
    }
   ],
   "source": [
    "# Select one contest indexed by `2435` as example\n",
    "submissions_2435 = tbl_submissions[tbl_submissions['CompetitionId'] == 2435]\n",
    "\n",
    "plot_contest_submissions(submissions_2435)"
   ]
  },
  {
   "cell_type": "markdown",
   "id": "82d1fdd3",
   "metadata": {},
   "source": [
    "### 3. Estimate the Arrival Intensity (Rate) of Submissions over Time"
   ]
  },
  {
   "cell_type": "markdown",
   "id": "5c4d5224",
   "metadata": {},
   "source": [
    "> Reference: \n",
    "> \n",
    "> Adams, R. P., Murray, I., & MacKay, D. J. C. (2009). Tractable nonparametric Bayesian inference in Poisson processes with Gaussian process intensities. Proceedings of the 26th Annual International Conference on Machine Learning, 9–16. https://doi.org/10.1145/1553374.1553376\n",
    "\n",
    "\n",
    "For each team $i$, the inhomogeneous Poisson rate is denoted by $\\lambda_i(s)$, $s\\in \\mathcal{S}$, where $\\mathcal{S}$ stands for the contest duration."
   ]
  },
  {
   "cell_type": "code",
   "execution_count": null,
   "id": "79e59314",
   "metadata": {},
   "outputs": [],
   "source": []
  }
 ],
 "metadata": {
  "kernelspec": {
   "display_name": ".venv",
   "language": "python",
   "name": "python3"
  },
  "language_info": {
   "codemirror_mode": {
    "name": "ipython",
    "version": 3
   },
   "file_extension": ".py",
   "mimetype": "text/x-python",
   "name": "python",
   "nbconvert_exporter": "python",
   "pygments_lexer": "ipython3",
   "version": "3.13.2"
  }
 },
 "nbformat": 4,
 "nbformat_minor": 5
}
