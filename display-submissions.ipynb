{
 "cells": [
  {
   "cell_type": "markdown",
   "id": "0ec91ace",
   "metadata": {},
   "source": [
    "# Kaggle Players' Submissions"
   ]
  },
  {
   "cell_type": "markdown",
   "id": "3d617975",
   "metadata": {},
   "source": [
    "Pre-requisites: \n",
    "\n",
    "1. install Python package `kaggle`\n",
    "2. [create token](https://www.kaggle.com/docs/api) and \n",
    "3. put the `kaggle.json` file to the `.kaggle` folder of your home directory"
   ]
  },
  {
   "cell_type": "code",
   "execution_count": 1,
   "id": "99279e46",
   "metadata": {},
   "outputs": [],
   "source": [
    "import metakaggle as mk"
   ]
  },
  {
   "cell_type": "markdown",
   "id": "5862eeda",
   "metadata": {},
   "source": [
    "Download raw data:"
   ]
  },
  {
   "cell_type": "code",
   "execution_count": 2,
   "id": "80237f67",
   "metadata": {},
   "outputs": [],
   "source": [
    "import os\n",
    "rawdata_path = os.path.abspath('./rawdata')\n",
    "\n",
    "# from metakaggle import api\n",
    "# api.download_rawdata(rawdata_path)"
   ]
  },
  {
   "cell_type": "markdown",
   "id": "62382678",
   "metadata": {},
   "source": [
    "..."
   ]
  },
  {
   "cell_type": "code",
   "execution_count": 3,
   "id": "4f38be9c",
   "metadata": {},
   "outputs": [
    {
     "data": {
      "text/plain": [
       "{'Id': ['2180'],\n",
       " 'SubmittedUserId': ['647'],\n",
       " 'TeamId': ['496'],\n",
       " 'SourceKernelVersionId': [''],\n",
       " 'SubmissionDate': ['04/29/2010'],\n",
       " 'ScoreDate': [''],\n",
       " 'IsAfterDeadline': ['False'],\n",
       " 'PublicScoreLeaderboardDisplay': ['55.76919'],\n",
       " 'PublicScoreFullPrecision': ['55.76919937133789'],\n",
       " 'PrivateScoreLeaderboardDisplay': ['56.21390'],\n",
       " 'PrivateScoreFullPrecision': ['56.21390151977539']}"
      ]
     },
     "execution_count": 3,
     "metadata": {},
     "output_type": "execute_result"
    }
   ],
   "source": [
    "mk.table_header('Submissions', rawdata_path)"
   ]
  }
 ],
 "metadata": {
  "kernelspec": {
   "display_name": ".venv_macbook",
   "language": "python",
   "name": "python3"
  },
  "language_info": {
   "codemirror_mode": {
    "name": "ipython",
    "version": 3
   },
   "file_extension": ".py",
   "mimetype": "text/x-python",
   "name": "python",
   "nbconvert_exporter": "python",
   "pygments_lexer": "ipython3",
   "version": "3.13.2"
  }
 },
 "nbformat": 4,
 "nbformat_minor": 5
}
