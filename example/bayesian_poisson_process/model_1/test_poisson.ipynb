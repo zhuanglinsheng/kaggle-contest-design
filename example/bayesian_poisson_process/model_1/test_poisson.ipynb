{
 "cells": [
  {
   "cell_type": "markdown",
   "id": "56842f6d",
   "metadata": {},
   "source": [
    "# Test Homogeneous Poisson"
   ]
  },
  {
   "cell_type": "code",
   "execution_count": 1,
   "id": "7970db79",
   "metadata": {},
   "outputs": [
    {
     "name": "stdout",
     "output_type": "stream",
     "text": [
      "CmdStan install directory: /Users/zhuanglinsheng/.cmdstan\n",
      "CmdStan version 2.36.0 already installed\n",
      "Test model compilation\n"
     ]
    }
   ],
   "source": [
    "# std library\n",
    "import os\n",
    "import sys\n",
    "import json\n",
    "import random\n",
    "from datetime import datetime\n",
    "\n",
    "# third-party\n",
    "import numpy as np\n",
    "from scipy.interpolate import interp1d\n",
    "from matplotlib import pyplot as plt\n",
    "import cmdstanpy\n",
    "cmdstanpy.install_cmdstan()\n",
    "from cmdstanpy import CmdStanModel"
   ]
  },
  {
   "cell_type": "code",
   "execution_count": 2,
   "id": "2ec3098e",
   "metadata": {},
   "outputs": [],
   "source": [
    "wd = os.getcwd()\n",
    "current_dir = os.path.dirname(wd + '/')\n",
    "parent_dir = os.path.dirname(current_dir)\n",
    "\n",
    "# wd, current_dir, parent_dir\n",
    "sys.path.append(parent_dir)\n",
    "\n",
    "# import local modual\n",
    "from poisson import simulate_hpp"
   ]
  },
  {
   "cell_type": "code",
   "execution_count": 3,
   "id": "bb49a7db",
   "metadata": {},
   "outputs": [],
   "source": [
    "start_time = datetime(2025, 1, 1, 0, 0, 0)\n",
    "end_time = datetime(2025, 4, 1, 0, 0, 0)"
   ]
  },
  {
   "cell_type": "code",
   "execution_count": 4,
   "id": "0961e354",
   "metadata": {},
   "outputs": [],
   "source": [
    "# Set parameter\n",
    "real_arrival_rate = 0.1"
   ]
  },
  {
   "cell_type": "code",
   "execution_count": 5,
   "id": "0a96c538",
   "metadata": {},
   "outputs": [],
   "source": [
    "# Generate data\n",
    "rng_poisson = random.Random(42)  # set seed for generator\n",
    "events = simulate_hpp(start_time, end_time, real_arrival_rate, rng_poisson)\n",
    "\n",
    "# Save the data to json\n",
    "test_poisson_data = os.path.join(wd, 'test_poisson_data.json')\n",
    "with open(test_poisson_data, 'w') as f:\n",
    "\tjson.dump({\n",
    "\t\t'T': (end_time - start_time).total_seconds() / 3600,\n",
    "\t\t'N': len(events),\n",
    "\t\t'events': [(t - start_time).total_seconds() / 3600 for t in events],\n",
    "\t}, f, indent=4)"
   ]
  },
  {
   "cell_type": "code",
   "execution_count": 6,
   "id": "8871fbc3",
   "metadata": {},
   "outputs": [],
   "source": [
    "# Build model\n",
    "stan_file_poisson = os.path.join(wd, 'test_poisson.stan')\n",
    "stan_model_poisson = CmdStanModel(stan_file=stan_file_poisson)"
   ]
  },
  {
   "cell_type": "code",
   "execution_count": 7,
   "id": "77a2f11a",
   "metadata": {},
   "outputs": [
    {
     "name": "stderr",
     "output_type": "stream",
     "text": [
      "16:55:30 - cmdstanpy - INFO - CmdStan start processing\n"
     ]
    },
    {
     "data": {
      "application/vnd.jupyter.widget-view+json": {
       "model_id": "c9044d2cdc634d8295aaebde336102cf",
       "version_major": 2,
       "version_minor": 0
      },
      "text/plain": [
       "chain 1 |          | 00:00 Status"
      ]
     },
     "metadata": {},
     "output_type": "display_data"
    },
    {
     "data": {
      "application/vnd.jupyter.widget-view+json": {
       "model_id": "b4494591e5b548dcbfbe969aba5f114c",
       "version_major": 2,
       "version_minor": 0
      },
      "text/plain": [
       "chain 2 |          | 00:00 Status"
      ]
     },
     "metadata": {},
     "output_type": "display_data"
    },
    {
     "data": {
      "application/vnd.jupyter.widget-view+json": {
       "model_id": "fd96fa8b2fdd49f2b5ef7c8248f8d013",
       "version_major": 2,
       "version_minor": 0
      },
      "text/plain": [
       "chain 3 |          | 00:00 Status"
      ]
     },
     "metadata": {},
     "output_type": "display_data"
    },
    {
     "data": {
      "application/vnd.jupyter.widget-view+json": {
       "model_id": "6af07cc2232f48acb48b458cadbc18af",
       "version_major": 2,
       "version_minor": 0
      },
      "text/plain": [
       "chain 4 |          | 00:00 Status"
      ]
     },
     "metadata": {},
     "output_type": "display_data"
    },
    {
     "name": "stdout",
     "output_type": "stream",
     "text": [
      "                                                                                                                                                                                                                                                                                                                                "
     ]
    },
    {
     "name": "stderr",
     "output_type": "stream",
     "text": [
      "16:55:30 - cmdstanpy - INFO - CmdStan done processing.\n"
     ]
    },
    {
     "name": "stdout",
     "output_type": "stream",
     "text": [
      "\n"
     ]
    }
   ],
   "source": [
    "# Fit data\n",
    "fit_poisson = stan_model_poisson.sample(\n",
    "\tdata=test_poisson_data,\n",
    "\tchains=4,\n",
    "\titer_warmup=2000,\n",
    "\titer_sampling=4000,\n",
    "\tparallel_chains=4,\n",
    "\tshow_console=False,\n",
    ")"
   ]
  },
  {
   "cell_type": "markdown",
   "id": "7ed0f6f6",
   "metadata": {},
   "source": [
    "Compare:\n",
    "- real_arrival_rate = 0.1"
   ]
  },
  {
   "cell_type": "code",
   "execution_count": 8,
   "id": "bc541a00",
   "metadata": {},
   "outputs": [
    {
     "data": {
      "application/vnd.microsoft.datawrangler.viewer.v0+json": {
       "columns": [
        {
         "name": "index",
         "rawType": "object",
         "type": "string"
        },
        {
         "name": "Mean",
         "rawType": "float64",
         "type": "float"
        },
        {
         "name": "MCSE",
         "rawType": "float64",
         "type": "float"
        },
        {
         "name": "StdDev",
         "rawType": "float64",
         "type": "float"
        },
        {
         "name": "MAD",
         "rawType": "float64",
         "type": "float"
        },
        {
         "name": "5%",
         "rawType": "float64",
         "type": "float"
        },
        {
         "name": "50%",
         "rawType": "float64",
         "type": "float"
        },
        {
         "name": "95%",
         "rawType": "float64",
         "type": "float"
        },
        {
         "name": "ESS_bulk",
         "rawType": "float64",
         "type": "float"
        },
        {
         "name": "ESS_tail",
         "rawType": "float64",
         "type": "float"
        },
        {
         "name": "R_hat",
         "rawType": "float64",
         "type": "float"
        }
       ],
       "ref": "0c74232f-22ec-4436-966c-a7ed82d990d5",
       "rows": [
        [
         "lp__",
         "-704.793",
         "0.00754972",
         "0.699375",
         "0.312829",
         "-706.198",
         "-704.525",
         "-704.297",
         "8305.51",
         "11041.2",
         "1.00022"
        ],
        [
         "lambda",
         "0.0981575",
         "8.71872e-05",
         "0.00672289",
         "0.00678112",
         "0.0874164",
         "0.0980901",
         "0.109461",
         "5943.46",
         "9931.66",
         "1.00077"
        ]
       ],
       "shape": {
        "columns": 10,
        "rows": 2
       }
      },
      "text/html": [
       "<div>\n",
       "<style scoped>\n",
       "    .dataframe tbody tr th:only-of-type {\n",
       "        vertical-align: middle;\n",
       "    }\n",
       "\n",
       "    .dataframe tbody tr th {\n",
       "        vertical-align: top;\n",
       "    }\n",
       "\n",
       "    .dataframe thead th {\n",
       "        text-align: right;\n",
       "    }\n",
       "</style>\n",
       "<table border=\"1\" class=\"dataframe\">\n",
       "  <thead>\n",
       "    <tr style=\"text-align: right;\">\n",
       "      <th></th>\n",
       "      <th>Mean</th>\n",
       "      <th>MCSE</th>\n",
       "      <th>StdDev</th>\n",
       "      <th>MAD</th>\n",
       "      <th>5%</th>\n",
       "      <th>50%</th>\n",
       "      <th>95%</th>\n",
       "      <th>ESS_bulk</th>\n",
       "      <th>ESS_tail</th>\n",
       "      <th>R_hat</th>\n",
       "    </tr>\n",
       "  </thead>\n",
       "  <tbody>\n",
       "    <tr>\n",
       "      <th>lp__</th>\n",
       "      <td>-704.793000</td>\n",
       "      <td>0.007550</td>\n",
       "      <td>0.699375</td>\n",
       "      <td>0.312829</td>\n",
       "      <td>-706.198000</td>\n",
       "      <td>-704.52500</td>\n",
       "      <td>-704.297000</td>\n",
       "      <td>8305.51</td>\n",
       "      <td>11041.20</td>\n",
       "      <td>1.00022</td>\n",
       "    </tr>\n",
       "    <tr>\n",
       "      <th>lambda</th>\n",
       "      <td>0.098157</td>\n",
       "      <td>0.000087</td>\n",
       "      <td>0.006723</td>\n",
       "      <td>0.006781</td>\n",
       "      <td>0.087416</td>\n",
       "      <td>0.09809</td>\n",
       "      <td>0.109461</td>\n",
       "      <td>5943.46</td>\n",
       "      <td>9931.66</td>\n",
       "      <td>1.00077</td>\n",
       "    </tr>\n",
       "  </tbody>\n",
       "</table>\n",
       "</div>"
      ],
      "text/plain": [
       "              Mean      MCSE    StdDev       MAD          5%        50%  \\\n",
       "lp__   -704.793000  0.007550  0.699375  0.312829 -706.198000 -704.52500   \n",
       "lambda    0.098157  0.000087  0.006723  0.006781    0.087416    0.09809   \n",
       "\n",
       "               95%  ESS_bulk  ESS_tail    R_hat  \n",
       "lp__   -704.297000   8305.51  11041.20  1.00022  \n",
       "lambda    0.109461   5943.46   9931.66  1.00077  "
      ]
     },
     "execution_count": 8,
     "metadata": {},
     "output_type": "execute_result"
    }
   ],
   "source": [
    "fit_poisson.summary()"
   ]
  }
 ],
 "metadata": {
  "kernelspec": {
   "display_name": ".venv",
   "language": "python",
   "name": "python3"
  },
  "language_info": {
   "codemirror_mode": {
    "name": "ipython",
    "version": 3
   },
   "file_extension": ".py",
   "mimetype": "text/x-python",
   "name": "python",
   "nbconvert_exporter": "python",
   "pygments_lexer": "ipython3",
   "version": "3.13.3"
  }
 },
 "nbformat": 4,
 "nbformat_minor": 5
}
