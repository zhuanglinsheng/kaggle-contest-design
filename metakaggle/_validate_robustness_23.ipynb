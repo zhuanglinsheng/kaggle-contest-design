{
 "cells": [
  {
   "cell_type": "markdown",
   "id": "231bea14",
   "metadata": {},
   "source": [
    "# Validate"
   ]
  },
  {
   "cell_type": "code",
   "execution_count": 1,
   "id": "3265257e",
   "metadata": {},
   "outputs": [],
   "source": [
    "import os\n",
    "import pickle\n",
    "import json\n",
    "from pathlib import Path\n",
    "from typing import Sequence\n",
    "from datetime import datetime, timedelta\n",
    "from pprint import pprint\n",
    "\n",
    "import numpy as np\n",
    "import pandas as pd\n",
    "from scipy.stats import gaussian_kde, normaltest, shapiro\n",
    "from numpy import typing as npt\n",
    "from matplotlib import pyplot as plt\n",
    "from matplotlib.ticker import MaxNLocator\n",
    "import statsmodels.api as sm"
   ]
  },
  {
   "cell_type": "markdown",
   "id": "cf933d86",
   "metadata": {},
   "source": [
    "### Load Data"
   ]
  },
  {
   "cell_type": "code",
   "execution_count": 2,
   "id": "d31ec29a",
   "metadata": {},
   "outputs": [],
   "source": [
    "list_percentage_leaderboard = [\n",
    "\t2435, 2445, 2454, 2464, 2467, 2478, 2549, 2762, 2860, 3507, 3526, 3928, 4493,\n",
    "\t2489, 3353, 3366, 3509,\n",
    "\t2551, 2667, 2749, 3064, 3080, 3288, 3338, 3517, 3641, 3774, 3800, 3926, 3929,\n",
    "\t3960, 4031, 4043, 4104, 4366, 4407, 4453, 4477, 4488, 4657, 4699, 4986, 5056,\n",
    "\t5144, 5174, 5229, 5261, 5357, 5390, 5497, 6322, 6927, 7115, 7162, 7634, 7878,\n",
    "\t8076, 8078, 8219, 8396, 8540, 9120, 9949, 10200, 10684, 13333, 14242, 14420,\n",
    "\t18045, 19018, 19991, 20270, 21669, 22962, 23249, 23652, 37077, 38128, 38760,\n",
    "]"
   ]
  },
  {
   "cell_type": "code",
   "execution_count": 3,
   "id": "05d1dc6d",
   "metadata": {},
   "outputs": [
    {
     "name": "stdout",
     "output_type": "stream",
     "text": [
      "/Volumes/RAWDATA/__jsondata_robust23__\n"
     ]
    },
    {
     "data": {
      "text/plain": [
       "75"
      ]
     },
     "execution_count": 3,
     "metadata": {},
     "output_type": "execute_result"
    }
   ],
   "source": [
    "# wd = os.getcwd()\n",
    "wd = '/Volumes/RAWDATA/'\n",
    "wd_data = Path(os.path.join(wd, '__jsondata_robust23__'))\n",
    "print(wd_data)\n",
    "lst_data_json = list(wd_data.glob(\"*.json\"))\n",
    "len(lst_data_json)"
   ]
  },
  {
   "cell_type": "markdown",
   "id": "327a75fc",
   "metadata": {},
   "source": [
    "### Display Data"
   ]
  },
  {
   "cell_type": "code",
   "execution_count": 4,
   "id": "fcc0c6c3",
   "metadata": {},
   "outputs": [],
   "source": [
    "def plot_ts_events(\n",
    "\t\ttime_grids: Sequence[datetime],\n",
    "\t\tts: dict[str, Sequence | npt.NDArray],\n",
    "\t\tevents: dict[str, Sequence | npt.NDArray],\n",
    "\t\tts_colors,\n",
    "\t\tts_linestyles,\n",
    "\t\t*,\n",
    "\t\tylim=None,\n",
    "\t\tfigsize=(10, 5),\n",
    "\t\theight_ratios=[3, 1],\n",
    "):\n",
    "\tfig, (ax_main, ax_events) = plt.subplots(\n",
    "\t\tnrows=2, ncols=1, figsize=figsize, height_ratios=height_ratios,\n",
    "\t)\n",
    "\tif ylim is not None:\n",
    "\t\tax_main.set_ylim(ylim[0], ylim[1])\n",
    "\t# plot time series\n",
    "\tidx_line = 0\n",
    "\tfor ts_key, ts_val in ts.items():\n",
    "\t\tax_main.plot(\n",
    "\t\t\ttime_grids, ts_val, label=ts_key,\n",
    "\t\t\tcolor=ts_colors[idx_line],\n",
    "\t\t\tlinestyle=ts_linestyles[idx_line],\n",
    "\t\t)\n",
    "\t\tidx_line += 1\n",
    "\tax_main.legend(frameon=False)\n",
    "\tax_main.xaxis.set_major_locator(MaxNLocator(nbins=8))\n",
    "\txrange = ax_main.get_xlim()\n",
    "\t# plot events\n",
    "\tevent_height = 0.2\n",
    "\tytick = 0\n",
    "\tyticks = []\n",
    "\tyticklabels = []\n",
    "\tfor event_key, event_val in events.items():\n",
    "\t\tyticks.append(ytick)\n",
    "\t\tyticklabels.append(event_key)\n",
    "\t\tax_events.hlines(y=ytick, xmin=xrange[0], xmax=xrange[1], color='black')\n",
    "\t\tax_events.vlines(x=event_val, ymin=ytick - event_height, ymax=ytick + event_height, color='black')\n",
    "\t\tytick -= 2.5 * event_height\n",
    "\tax_events.set_xlim(xrange)\n",
    "\tax_events.get_xaxis().set_visible(False)\n",
    "\tax_events.set_yticks(yticks)\n",
    "\tax_events.set_yticklabels(yticklabels)\n",
    "\treturn fig, ax_main, ax_events\n",
    "\n",
    "def plot_contest_data(contest_data_json, contest_data_post):\n",
    "\tstart_time = datetime.fromtimestamp(contest_data_json['start_time'])\n",
    "\tN_Delta = contest_data_json['N_Delta']\n",
    "\ttime_grids = [start_time + i * timedelta(hours=1) for i in range(N_Delta)]\n",
    "\tarr_hat_y = contest_data_json['hat_y']\n",
    "\tarr_real_y = contest_data_json['real_y']\n",
    "\tarr_tilde_y = contest_data_post['tilde_y'].mean(axis=0)\n",
    "\that_t_i = [start_time + timedelta(hours=t) for t in contest_data_json['hat_t_i']]\n",
    "\that_t_j = [start_time + timedelta(hours=t) for t in contest_data_json['hat_t_j']]\n",
    "\t#print(len(time_grids), len(arr_tilde_y))\n",
    "\tfig, ax_main, ax_events = plot_ts_events(\n",
    "\t\ttime_grids=time_grids,\n",
    "\t\tts={\n",
    "\t\t\tr'real output gap ($y_t$)': arr_real_y,\n",
    "\t\t\tr'observed output gap ($\\hat{y}_t$)': arr_hat_y,\n",
    "\t\t\tr'perceived output gap ($\\tilde{y}_t$)': arr_tilde_y[:-1],\n",
    "\t\t},\n",
    "\t\tevents={\n",
    "\t\t\tr'player $i$': hat_t_i,\n",
    "\t\t\tr'player $j$': hat_t_j,\n",
    "\t\t},\n",
    "\t\tts_colors = ['blue', 'black', 'black'],\n",
    "\t\tts_linestyles=['solid', 'solid', 'dashed']\n",
    "\t)\n",
    "\treturn fig, ax_main, ax_events\n",
    "\n",
    "def plot_post_efforts(contest_data_json, contest_data_post):\n",
    "\tstart_time = datetime.fromtimestamp(contest_data_json['start_time'])\n",
    "\tN_Delta = contest_data_json['N_Delta']\n",
    "\ttime_grids = [start_time + i * timedelta(hours=1) for i in range(N_Delta)]\n",
    "\ti_effort_dynamic = contest_data_post['m_i'].mean(axis=0)\n",
    "\tj_effort_dynamic = contest_data_post['m_j'].mean(axis=0)\n",
    "\tplt.figure(figsize=(10, 3))\n",
    "\tplt.plot(np.array(time_grids), i_effort_dynamic, label='player i')\n",
    "\tplt.plot(np.array(time_grids), j_effort_dynamic, label='player j')\n",
    "\tplt.legend()\n",
    "\tplt.gca().xaxis.set_major_locator(MaxNLocator(nbins=8))\n",
    "\tplt.show()"
   ]
  },
  {
   "cell_type": "code",
   "execution_count": 5,
   "id": "212c433a",
   "metadata": {},
   "outputs": [],
   "source": [
    "def calculate_lambda_mle(arr_hat_y, arr_real_y, Delta2f) -> tuple[float, bool]:\n",
    "\t\"\"\"\n",
    "\t\"\"\"\n",
    "\tgap = [hat_y - y for hat_y, y in zip(arr_hat_y, arr_real_y)]\n",
    "\tgap_data = list(set(gap))\n",
    "\t# mle\n",
    "\tn = len(gap_data)\n",
    "\tmse = sum([x**2 for x in gap_data])\n",
    "\tif mse == 0.0:\n",
    "\t\tlambda_mle = float('nan')\n",
    "\telse:\n",
    "\t\tlambda_mle = n / mse / Delta2f\n",
    "\t# normal test\n",
    "\tnormaltest_1 = normaltest(gap_data)\n",
    "\tnormaltest_2 = shapiro(gap_data)\n",
    "\treturn lambda_mle, normaltest_1.pvalue > 0.05 or normaltest_2.pvalue > 0.05\n",
    "\n",
    "def estimate_effort_kde(contest_data_json, bw: float = 0.5):\n",
    "\t\"\"\"Using kernel density estimation to estimate submisison intensity\n",
    "\n",
    "\tReturn: intensity per hour\n",
    "\t\"\"\"\n",
    "\tN_Delta = contest_data_json['N_Delta']\n",
    "\ttime_grids_f = [i for i in range(N_Delta)]  # float\n",
    "\that_t_i_f = np.array(contest_data_json['hat_t_i'])\n",
    "\that_t_j_f = np.array(contest_data_json['hat_t_j'])\n",
    "\n",
    "\tkde_i = gaussian_kde(hat_t_i_f, bw_method=bw)\n",
    "\tkde_j = gaussian_kde(hat_t_j_f, bw_method=bw)\n",
    "\tdensity_i = kde_i(time_grids_f)\n",
    "\tdensity_j = kde_j(time_grids_f)\n",
    "\tintensity_i = density_i * len(hat_t_i_f)\n",
    "\tintensity_j = density_j * len(hat_t_j_f)\n",
    "\n",
    "\tstart_time = datetime.fromtimestamp(contest_data_json['start_time'])\n",
    "\ttime_grids = [start_time + timedelta(hours=i) for i in time_grids_f]\n",
    "\that_t_i = [start_time + timedelta(hours=t) for t in hat_t_i_f]\n",
    "\that_t_j = [start_time + timedelta(hours=t) for t in hat_t_j_f]\n",
    "\treturn time_grids, hat_t_i, intensity_i, hat_t_j, intensity_j\n",
    "\n",
    "def calculate_sigma_mle(contest_data_json, contest_data_post) -> tuple[float, bool]:\n",
    "\t# json data\n",
    "\tN_Delta = contest_data_json['N_Delta']\n",
    "\ttime_grids_f = [i for i in range(N_Delta)]  # float\n",
    "\tstart_time = datetime.fromtimestamp(contest_data_json['start_time'])\n",
    "\ttime_grids = time_grids = [start_time + timedelta(hours=i) for i in time_grids_f]\n",
    "\tarr_real_y = contest_data_json['real_y']\n",
    "\tDelta2f = contest_data_json['Delta2f']\n",
    "\that_t_i_f = np.array(contest_data_json['hat_t_i'])\n",
    "\that_t_j_f = np.array(contest_data_json['hat_t_j'])\n",
    "\that_t_i = [start_time + timedelta(hours=t) for t in hat_t_i_f]\n",
    "\that_t_j = [start_time + timedelta(hours=t) for t in hat_t_j_f]\n",
    "\n",
    "\t# posteriors\n",
    "\teffort_gap = contest_data_post['effort_gap'].mean(axis=0)\n",
    "\n",
    "\t# departion\n",
    "\tN = n_i = n_j = 0\n",
    "\tarr_tk = []\n",
    "\tarr_y_tk = []\n",
    "\tarr_sum_effort_gap = []\n",
    "\tsum_effort_gap = 0\n",
    "\tfor t, y, effort_gap_s in zip(time_grids, arr_real_y, effort_gap):\n",
    "\t\tsum_effort_gap += effort_gap_s\n",
    "\t\tif n_i < len(hat_t_i) and t - timedelta(hours=1) < hat_t_i[n_i] < t:\n",
    "\t\t\tif len(arr_tk) > 0 and hat_t_i[n_i] <= arr_tk[-1]:\n",
    "\t\t\t\tn_i += 1\n",
    "\t\t\t\tcontinue\n",
    "\t\t\tarr_tk.append(hat_t_i[n_i])\n",
    "\t\t\tarr_y_tk.append(y)\n",
    "\t\t\tarr_sum_effort_gap.append(sum_effort_gap * Delta2f)\n",
    "\t\t\tsum_effort_gap = 0\n",
    "\t\t\tn_i += 1\n",
    "\t\t\tN += 1\n",
    "\t\tif n_j < len(hat_t_j) and t - timedelta(hours=1) < hat_t_j[n_j] < t:\n",
    "\t\t\tif len(arr_tk) > 0 and hat_t_j[n_j] <= arr_tk[-1]:\n",
    "\t\t\t\tn_j += 1\n",
    "\t\t\t\tcontinue\n",
    "\t\t\tarr_tk.append(hat_t_j[n_j])\n",
    "\t\t\tarr_y_tk.append(y)\n",
    "\t\t\tarr_sum_effort_gap.append(sum_effort_gap * Delta2f)\n",
    "\t\t\tsum_effort_gap = 0\n",
    "\t\t\tn_j += 1\n",
    "\t\t\tN += 1\n",
    "\tarr_sum_effort_gap = arr_sum_effort_gap[1:]  # drop the first\n",
    "\n",
    "\t# MLE\n",
    "\tarr_delta_tk = [(arr_tk[ii + 1] - arr_tk[ii]).total_seconds() / 3600 * Delta2f \\\n",
    "\t\t\tfor ii in range(N - 1)]\n",
    "\tarr_delta_y_tk = [arr_y_tk[ii + 1] - arr_y_tk[ii] for ii in range(N - 1)]\n",
    "\tarr_delta_y_tk_demean = [Xk - Mk for Xk, Mk in zip(arr_delta_y_tk, arr_sum_effort_gap)]\n",
    "\tmle_sigma_squared = np.mean([Xk**2 / Tk for Tk, Xk in zip(arr_delta_tk, arr_delta_y_tk_demean)])\n",
    "\n",
    "\t# normal test\n",
    "\tnormaltest_1 = normaltest(arr_delta_y_tk_demean)\n",
    "\tnormaltest_2 = shapiro(arr_delta_y_tk_demean)\n",
    "\n",
    "\treturn float(mle_sigma_squared**0.5), normaltest_1.pvalue > 0.05 or normaltest_2.pvalue > 0.05\n",
    "\n",
    "def get_contest_data(contest_id: int):\n",
    "\tpath_json = wd_data.joinpath(f'contest_{contest_id}.json')\n",
    "\tpath_post = path_json.with_suffix(\".pkl\")\n",
    "\twith open(path_json, \"r\", encoding=\"utf-8\") as f:\n",
    "\t\tdata_json = json.load(f)\n",
    "\twith open(path_post, \"rb\") as f:\n",
    "\t\tdata_post = pickle.load(f)\n",
    "\treturn data_json, data_post\n",
    "\n",
    "def display_estimation_results(lst_data_json: list[Path], threshold_N_Delta=2300):\n",
    "\tdf = pd.DataFrame()\n",
    "\tfor path_json in lst_data_json:\n",
    "\t\tpath_post = path_json.with_suffix(\".pkl\")\n",
    "\t\tcontest_id = int(path_json.stem.split('_')[1])\n",
    "\t\tif contest_id not in list_percentage_leaderboard:\n",
    "\t\t\tcontinue\n",
    "\t\twith open(path_json, \"r\", encoding=\"utf-8\") as f:\n",
    "\t\t\tdata_json = json.load(f)\n",
    "\t\tif data_json['N_Delta'] > threshold_N_Delta:\n",
    "\t\t\tcontinue\n",
    "\t\tif not path_post.exists():\n",
    "\t\t\tcontinue\n",
    "\t\twith open(path_post, \"rb\") as f:\n",
    "\t\t\tdata_post = pickle.load(f)\n",
    "\t\tlamb_mle, lamb_mle_normaltest = calculate_lambda_mle(\n",
    "\t\t\t\tdata_json['hat_y'], data_json['real_y'], data_json['Delta2f']\n",
    "\t\t\t)\n",
    "\t\tsigma_mle, sigma_mle_normaltest = calculate_sigma_mle(data_json, data_post)\n",
    "\n",
    "\t\trecord = {\n",
    "\t\t\t'Id': contest_id,\n",
    "\t\t\t'Ni': data_json['Ni'],\n",
    "\t\t\t'Nj': data_json['Nj'],\n",
    "\t\t\t'prize (k, USD)': data_json['theta'],\n",
    "\t\t\t'Percentage (%)': data_json['percentage'],\n",
    "\t\t\t'lambda_mle': lamb_mle,\n",
    "\t\t\t'lamb_normaltest': lamb_mle_normaltest,\n",
    "\t\t\t'lambda_post_mean': data_post['lambda'].mean(),\n",
    "\t\t\t'sigma_mle': sigma_mle,\n",
    "\t\t\t'sigma_normaltest': sigma_mle_normaltest,\n",
    "\t\t\t'sigma_post_mean': data_post['sigma'].mean(),\n",
    "\t\t\t'r_post_mean': data_post['r'].mean(),\n",
    "\t\t\t'mu0_post_mean': data_post['mu_0'].mean(),\n",
    "\t\t\t'c_i_post_mean': data_post['c_i'].mean(),\n",
    "\t\t\t'c_j_post_mean': data_post['c_j'].mean(),\n",
    "\t\t}\n",
    "\t\tdf = pd.concat([df, pd.DataFrame([record])], ignore_index=True)\n",
    "\treturn df"
   ]
  },
  {
   "cell_type": "code",
   "execution_count": null,
   "id": "c12ec77d",
   "metadata": {},
   "outputs": [
    {
     "name": "stderr",
     "output_type": "stream",
     "text": [
      "/var/folders/7g/nxmw_wbs1nsfwhdcb7s3zrtc0000gn/T/ipykernel_10781/112366410.py:14: SmallSampleWarning: One or more sample arguments is too small; all returned values will be NaN. See documentation for sample size requirements.\n",
      "  normaltest_1 = normaltest(gap_data)\n",
      "/var/folders/7g/nxmw_wbs1nsfwhdcb7s3zrtc0000gn/T/ipykernel_10781/112366410.py:15: SmallSampleWarning: One or more sample arguments is too small; all returned values will be NaN. See documentation for sample size requirements.\n",
      "  normaltest_2 = shapiro(gap_data)\n"
     ]
    }
   ],
   "source": [
    "cross_contests = display_estimation_results(lst_data_json)\n",
    "cross_contests"
   ]
  },
  {
   "cell_type": "code",
   "execution_count": null,
   "id": "7d62c2fc",
   "metadata": {},
   "outputs": [
    {
     "data": {
      "text/plain": [
       "np.int64(45)"
      ]
     },
     "execution_count": 7,
     "metadata": {},
     "output_type": "execute_result"
    }
   ],
   "source": [
    "cross_contests['lamb_normaltest'].sum()"
   ]
  },
  {
   "cell_type": "code",
   "execution_count": null,
   "id": "3d04116c",
   "metadata": {},
   "outputs": [
    {
     "data": {
      "text/plain": [
       "np.int64(14)"
      ]
     },
     "execution_count": 8,
     "metadata": {},
     "output_type": "execute_result"
    }
   ],
   "source": [
    "cross_contests['sigma_normaltest'].sum()"
   ]
  },
  {
   "cell_type": "markdown",
   "id": "b91d4e01",
   "metadata": {},
   "source": [
    "#### Example"
   ]
  },
  {
   "cell_type": "code",
   "execution_count": null,
   "id": "1fee43dd",
   "metadata": {},
   "outputs": [],
   "source": [
    "contest_id = 2464\n",
    "contest_data_json, contest_data_post = get_contest_data(contest_id)"
   ]
  },
  {
   "cell_type": "code",
   "execution_count": null,
   "id": "0c43fa4d",
   "metadata": {},
   "outputs": [
    {
     "data": {
      "image/png": "[encoded data removed]",
      "text/plain": [
       "<Figure size 1000x500 with 2 Axes>"
      ]
     },
     "metadata": {},
     "output_type": "display_data"
    },
    {
     "data": {
      "image/png": "[encoded data removed]",
      "text/plain": [
       "<Figure size 1000x300 with 1 Axes>"
      ]
     },
     "metadata": {},
     "output_type": "display_data"
    }
   ],
   "source": [
    "_ = plot_contest_data(contest_data_json, contest_data_post)\n",
    "plot_post_efforts(contest_data_json, contest_data_post)"
   ]
  },
  {
   "cell_type": "code",
   "execution_count": null,
   "id": "3929d312",
   "metadata": {},
   "outputs": [
    {
     "data": {
      "image/png": "[encoded data removed]",
      "text/plain": [
       "<Figure size 1000x500 with 2 Axes>"
      ]
     },
     "metadata": {},
     "output_type": "display_data"
    }
   ],
   "source": [
    "# Display submission intensity\n",
    "contest_m_i = contest_data_post['m_i'].mean(axis=0)\n",
    "contest_m_j = contest_data_post['m_j'].mean(axis=0)\n",
    "contest_r = contest_data_post['r'].mean()\n",
    "time_grids, hat_t_i, intensity_i, hat_t_j, intensity_j = estimate_effort_kde(contest_data_json, 2)\n",
    "_ = plot_ts_events(time_grids, ts={\n",
    "\t'submit intensity KDE (player i)': intensity_i,\n",
    "\t'submit intensity Bayesian (player i)': contest_m_i * contest_r / 24,\n",
    "\t#'submit intensity (player j)': intensity_j,\n",
    "\t#'effort level (player j)': contest_m_j,\n",
    "}, events={\n",
    "\t'hat_t_i': hat_t_i,\n",
    "\t#'hat_t_j': hat_t_j,\n",
    "}, ts_colors = ['black', 'blue', 'black', 'blue'], ts_linestyles = ['solid', 'solid', 'dashed', 'dashed'],\n",
    ")"
   ]
  },
  {
   "cell_type": "markdown",
   "id": "285bacb1",
   "metadata": {},
   "source": [
    "#### Validate $\\lambda$"
   ]
  },
  {
   "cell_type": "code",
   "execution_count": null,
   "id": "f035abc3",
   "metadata": {},
   "outputs": [
    {
     "data": {
      "text/html": [
       "<table class=\"simpletable\">\n",
       "<caption>OLS Regression Results</caption>\n",
       "<tr>\n",
       "  <th>Dep. Variable:</th>           <td>mle</td>       <th>  R-squared:         </th> <td>   0.096</td>\n",
       "</tr>\n",
       "<tr>\n",
       "  <th>Model:</th>                   <td>OLS</td>       <th>  Adj. R-squared:    </th> <td>   0.084</td>\n",
       "</tr>\n",
       "<tr>\n",
       "  <th>Method:</th>             <td>Least Squares</td>  <th>  F-statistic:       </th> <td>   7.563</td>\n",
       "</tr>\n",
       "<tr>\n",
       "  <th>Date:</th>             <td>Mon, 04 Aug 2025</td> <th>  Prob (F-statistic):</th>  <td>0.00755</td>\n",
       "</tr>\n",
       "<tr>\n",
       "  <th>Time:</th>                 <td>09:41:33</td>     <th>  Log-Likelihood:    </th> <td> -182.79</td>\n",
       "</tr>\n",
       "<tr>\n",
       "  <th>No. Observations:</th>      <td>    73</td>      <th>  AIC:               </th> <td>   369.6</td>\n",
       "</tr>\n",
       "<tr>\n",
       "  <th>Df Residuals:</th>          <td>    71</td>      <th>  BIC:               </th> <td>   374.2</td>\n",
       "</tr>\n",
       "<tr>\n",
       "  <th>Df Model:</th>              <td>     1</td>      <th>                     </th>     <td> </td>   \n",
       "</tr>\n",
       "<tr>\n",
       "  <th>Covariance Type:</th>      <td>nonrobust</td>    <th>                     </th>     <td> </td>   \n",
       "</tr>\n",
       "</table>\n",
       "<table class=\"simpletable\">\n",
       "<tr>\n",
       "    <td></td>       <th>coef</th>     <th>std err</th>      <th>t</th>      <th>P>|t|</th>  <th>[0.025</th>    <th>0.975]</th>  \n",
       "</tr>\n",
       "<tr>\n",
       "  <th>const</th> <td>   -0.2901</td> <td>    3.819</td> <td>   -0.076</td> <td> 0.940</td> <td>   -7.905</td> <td>    7.324</td>\n",
       "</tr>\n",
       "<tr>\n",
       "  <th>bayes</th> <td>    3.4210</td> <td>    1.244</td> <td>    2.750</td> <td> 0.008</td> <td>    0.941</td> <td>    5.901</td>\n",
       "</tr>\n",
       "</table>\n",
       "<table class=\"simpletable\">\n",
       "<tr>\n",
       "  <th>Omnibus:</th>       <td> 3.192</td> <th>  Durbin-Watson:     </th> <td>   2.236</td>\n",
       "</tr>\n",
       "<tr>\n",
       "  <th>Prob(Omnibus):</th> <td> 0.203</td> <th>  Jarque-Bera (JB):  </th> <td>   2.424</td>\n",
       "</tr>\n",
       "<tr>\n",
       "  <th>Skew:</th>          <td>-0.411</td> <th>  Prob(JB):          </th> <td>   0.298</td>\n",
       "</tr>\n",
       "<tr>\n",
       "  <th>Kurtosis:</th>      <td> 3.350</td> <th>  Cond. No.          </th> <td>    36.9</td>\n",
       "</tr>\n",
       "</table><br/><br/>Notes:<br/>[1] Standard Errors assume that the covariance matrix of the errors is correctly specified."
      ],
      "text/latex": [
       "\\begin{center}\n",
       "\\begin{tabular}{lclc}\n",
       "\\toprule\n",
       "\\textbf{Dep. Variable:}    &       mle        & \\textbf{  R-squared:         } &     0.096   \\\\\n",
       "\\textbf{Model:}            &       OLS        & \\textbf{  Adj. R-squared:    } &     0.084   \\\\\n",
       "\\textbf{Method:}           &  Least Squares   & \\textbf{  F-statistic:       } &     7.563   \\\\\n",
       "\\textbf{Date:}             & Mon, 04 Aug 2025 & \\textbf{  Prob (F-statistic):} &  0.00755    \\\\\n",
       "\\textbf{Time:}             &     09:41:33     & \\textbf{  Log-Likelihood:    } &   -182.79   \\\\\n",
       "\\textbf{No. Observations:} &          73      & \\textbf{  AIC:               } &     369.6   \\\\\n",
       "\\textbf{Df Residuals:}     &          71      & \\textbf{  BIC:               } &     374.2   \\\\\n",
       "\\textbf{Df Model:}         &           1      & \\textbf{                     } &             \\\\\n",
       "\\textbf{Covariance Type:}  &    nonrobust     & \\textbf{                     } &             \\\\\n",
       "\\bottomrule\n",
       "\\end{tabular}\n",
       "\\begin{tabular}{lcccccc}\n",
       "               & \\textbf{coef} & \\textbf{std err} & \\textbf{t} & \\textbf{P$> |$t$|$} & \\textbf{[0.025} & \\textbf{0.975]}  \\\\\n",
       "\\midrule\n",
       "\\textbf{const} &      -0.2901  &        3.819     &    -0.076  &         0.940        &       -7.905    &        7.324     \\\\\n",
       "\\textbf{bayes} &       3.4210  &        1.244     &     2.750  &         0.008        &        0.941    &        5.901     \\\\\n",
       "\\bottomrule\n",
       "\\end{tabular}\n",
       "\\begin{tabular}{lclc}\n",
       "\\textbf{Omnibus:}       &  3.192 & \\textbf{  Durbin-Watson:     } &    2.236  \\\\\n",
       "\\textbf{Prob(Omnibus):} &  0.203 & \\textbf{  Jarque-Bera (JB):  } &    2.424  \\\\\n",
       "\\textbf{Skew:}          & -0.411 & \\textbf{  Prob(JB):          } &    0.298  \\\\\n",
       "\\textbf{Kurtosis:}      &  3.350 & \\textbf{  Cond. No.          } &     36.9  \\\\\n",
       "\\bottomrule\n",
       "\\end{tabular}\n",
       "%\\caption{OLS Regression Results}\n",
       "\\end{center}\n",
       "\n",
       "Notes: \\newline\n",
       " [1] Standard Errors assume that the covariance matrix of the errors is correctly specified."
      ],
      "text/plain": [
       "<class 'statsmodels.iolib.summary.Summary'>\n",
       "\"\"\"\n",
       "                            OLS Regression Results                            \n",
       "==============================================================================\n",
       "Dep. Variable:                    mle   R-squared:                       0.096\n",
       "Model:                            OLS   Adj. R-squared:                  0.084\n",
       "Method:                 Least Squares   F-statistic:                     7.563\n",
       "Date:                Mon, 04 Aug 2025   Prob (F-statistic):            0.00755\n",
       "Time:                        09:41:33   Log-Likelihood:                -182.79\n",
       "No. Observations:                  73   AIC:                             369.6\n",
       "Df Residuals:                      71   BIC:                             374.2\n",
       "Df Model:                           1                                         \n",
       "Covariance Type:            nonrobust                                         \n",
       "==============================================================================\n",
       "                 coef    std err          t      P>|t|      [0.025      0.975]\n",
       "------------------------------------------------------------------------------\n",
       "const         -0.2901      3.819     -0.076      0.940      -7.905       7.324\n",
       "bayes          3.4210      1.244      2.750      0.008       0.941       5.901\n",
       "==============================================================================\n",
       "Omnibus:                        3.192   Durbin-Watson:                   2.236\n",
       "Prob(Omnibus):                  0.203   Jarque-Bera (JB):                2.424\n",
       "Skew:                          -0.411   Prob(JB):                        0.298\n",
       "Kurtosis:                       3.350   Cond. No.                         36.9\n",
       "==============================================================================\n",
       "\n",
       "Notes:\n",
       "[1] Standard Errors assume that the covariance matrix of the errors is correctly specified.\n",
       "\"\"\""
      ]
     },
     "metadata": {},
     "output_type": "display_data"
    },
    {
     "data": {
      "image/png": "[encoded data removed]",
      "text/plain": [
       "<Figure size 640x480 with 1 Axes>"
      ]
     },
     "metadata": {},
     "output_type": "display_data"
    }
   ],
   "source": [
    "lamb_hat_bayes = np.log(1 + cross_contests['lambda_post_mean'])\n",
    "lamb_hat_mle = np.log(1 + cross_contests['lambda_mle'])\n",
    "\n",
    "df_lamb = pd.DataFrame({\n",
    "\t'bayes': lamb_hat_bayes,\n",
    "\t'mle': lamb_hat_mle\n",
    "}).dropna()\n",
    "\n",
    "X_lamb = sm.add_constant(df_lamb['bayes'])\n",
    "y_lamb = df_lamb['mle']\n",
    "\n",
    "model_lambda = sm.OLS(y_lamb, X_lamb).fit()\n",
    "lamb_hat_fit = model_lambda.predict(X_lamb)\n",
    "display(model_lambda.summary())\n",
    "\n",
    "plt.rcParams.update({'font.size': 15})\n",
    "plt.scatter(df_lamb['bayes'], y_lamb, s=20, label=\"Data\", color=\"black\", )\n",
    "plt.plot(df_lamb['bayes'], lamb_hat_fit, label=\"OLS Fit\", color=\"black\")\n",
    "plt.xlabel(r\"$\\log(1+\\hat\\lambda)$, estimated by Bayesian\")\n",
    "plt.ylabel(r\"$\\log(1+\\lambda^{MLE})$\")\n",
    "plt.legend(loc='upper left', frameon=False)\n",
    "plt.show()"
   ]
  },
  {
   "cell_type": "code",
   "execution_count": null,
   "id": "fb862d4d",
   "metadata": {},
   "outputs": [
    {
     "data": {
      "application/vnd.microsoft.datawrangler.viewer.v0+json": {
       "columns": [
        {
         "name": "index",
         "rawType": "int64",
         "type": "integer"
        },
        {
         "name": "student_resid",
         "rawType": "float64",
         "type": "float"
        },
        {
         "name": "unadj_p",
         "rawType": "float64",
         "type": "float"
        },
        {
         "name": "bonf(p)",
         "rawType": "float64",
         "type": "float"
        }
       ],
       "ref": "f098c9b4-3f0b-46fd-ab85-6c9d8aa96a72",
       "rows": [
        [
         "1",
         "-0.5592216995383072",
         "0.577795291909708",
         "1.0"
        ],
        [
         "2",
         "-1.0097383464849659",
         "0.3160983135333493",
         "1.0"
        ],
        [
         "3",
         "-0.15459194431489",
         "0.8775878915133939",
         "1.0"
        ],
        [
         "4",
         "0.7882492596194162",
         "0.43321224830343474",
         "1.0"
        ],
        [
         "5",
         "-1.4992222266903832",
         "0.13831265833302944",
         "1.0"
        ],
        [
         "6",
         "0.28492307181624976",
         "0.7765443606254008",
         "1.0"
        ],
        [
         "7",
         "2.592163298561214",
         "0.01160159085640924",
         "0.8469161325178746"
        ],
        [
         "8",
         "-2.9581415859854268",
         "0.0042186016191435565",
         "0.30795791819747964"
        ],
        [
         "9",
         "0.07062457228900325",
         "0.9438979364589362",
         "1.0"
        ],
        [
         "10",
         "-0.17619827670713903",
         "0.8606469348496188",
         "1.0"
        ],
        [
         "11",
         "0.4376912837822814",
         "0.6629576501939933",
         "1.0"
        ],
        [
         "12",
         "0.7028103077352656",
         "0.48450477865134267",
         "1.0"
        ],
        [
         "13",
         "0.04608663674739254",
         "0.963372424917811",
         "1.0"
        ],
        [
         "14",
         "-1.7230219117636554",
         "0.08929970933667003",
         "1.0"
        ],
        [
         "15",
         "-1.6432063259417025",
         "0.10482499440927896",
         "1.0"
        ],
        [
         "16",
         "-1.5908758960108174",
         "0.1161439239128539",
         "1.0"
        ],
        [
         "17",
         "-0.3129061422125417",
         "0.7552823323064235",
         "1.0"
        ],
        [
         "18",
         "-0.22801238297519283",
         "0.8203013401985135",
         "1.0"
        ],
        [
         "19",
         "-0.6862519285380492",
         "0.4948211349262699",
         "1.0"
        ],
        [
         "20",
         "0.14830266183278076",
         "0.8825302993675381",
         "1.0"
        ],
        [
         "21",
         "-0.623361530068049",
         "0.5350728745695231",
         "1.0"
        ],
        [
         "22",
         "-0.11337277939723599",
         "0.9100595454979488",
         "1.0"
        ],
        [
         "23",
         "-0.2537815886400892",
         "0.8004082350013204",
         "1.0"
        ],
        [
         "24",
         "-2.607156763668916",
         "0.011149364699364478",
         "0.8139036230536069"
        ],
        [
         "25",
         "0.4327995581504794",
         "0.6664909739620895",
         "1.0"
        ],
        [
         "26",
         "0.068985388333256",
         "0.94519793698667",
         "1.0"
        ],
        [
         "27",
         "2.0409088069461334",
         "0.045032263375041195",
         "1.0"
        ],
        [
         "28",
         "-2.0641858542110243",
         "0.042707934570254055",
         "1.0"
        ],
        [
         "29",
         "0.6548551036043719",
         "0.5147071857789259",
         "1.0"
        ],
        [
         "30",
         "-0.15566540842064647",
         "0.8767447951808718",
         "1.0"
        ],
        [
         "31",
         "-0.8035494902543837",
         "0.4243774867066459",
         "1.0"
        ],
        [
         "32",
         "0.3575809817560516",
         "0.7217328221158335",
         "1.0"
        ],
        [
         "33",
         "0.2883464679677151",
         "0.7739336360266204",
         "1.0"
        ],
        [
         "34",
         "0.4840682895171078",
         "0.6298484463173968",
         "1.0"
        ],
        [
         "35",
         "1.4713522959073535",
         "0.14567733999302526",
         "1.0"
        ],
        [
         "36",
         "-0.6265472071834649",
         "0.5329940996712192",
         "1.0"
        ],
        [
         "37",
         "0.6804751340013798",
         "0.49844827169935924",
         "1.0"
        ],
        [
         "38",
         "-0.772052327550378",
         "0.44268220416819415",
         "1.0"
        ],
        [
         "39",
         "0.5195661231972112",
         "0.6050050984571469",
         "1.0"
        ],
        [
         "40",
         "1.7232518532235976",
         "0.08925787514759911",
         "1.0"
        ],
        [
         "41",
         "0.1554048407595588",
         "0.8769494313542116",
         "1.0"
        ],
        [
         "42",
         "0.5270135766777053",
         "0.5998504100529818",
         "1.0"
        ],
        [
         "43",
         "1.1127663386956603",
         "0.26961562323424515",
         "1.0"
        ],
        [
         "44",
         "-0.9258340197695207",
         "0.35771321974858294",
         "1.0"
        ],
        [
         "45",
         "0.946739085166987",
         "0.3470285506704651",
         "1.0"
        ],
        [
         "47",
         "0.9539310139320227",
         "0.3434011847148196",
         "1.0"
        ],
        [
         "48",
         "-0.39954559442868326",
         "0.6907077261323552",
         "1.0"
        ],
        [
         "49",
         "-0.027253757923024237",
         "0.9783348885174408",
         "1.0"
        ],
        [
         "50",
         "-0.7514760319307617",
         "0.4548853750420767",
         "1.0"
        ],
        [
         "51",
         "-0.032044152870892066",
         "0.9745280333785182",
         "1.0"
        ]
       ],
       "shape": {
        "columns": 3,
        "rows": 73
       }
      },
      "text/html": [
       "<div>\n",
       "<style scoped>\n",
       "    .dataframe tbody tr th:only-of-type {\n",
       "        vertical-align: middle;\n",
       "    }\n",
       "\n",
       "    .dataframe tbody tr th {\n",
       "        vertical-align: top;\n",
       "    }\n",
       "\n",
       "    .dataframe thead th {\n",
       "        text-align: right;\n",
       "    }\n",
       "</style>\n",
       "<table border=\"1\" class=\"dataframe\">\n",
       "  <thead>\n",
       "    <tr style=\"text-align: right;\">\n",
       "      <th></th>\n",
       "      <th>student_resid</th>\n",
       "      <th>unadj_p</th>\n",
       "      <th>bonf(p)</th>\n",
       "    </tr>\n",
       "  </thead>\n",
       "  <tbody>\n",
       "    <tr>\n",
       "      <th>1</th>\n",
       "      <td>-0.559222</td>\n",
       "      <td>0.577795</td>\n",
       "      <td>1.0</td>\n",
       "    </tr>\n",
       "    <tr>\n",
       "      <th>2</th>\n",
       "      <td>-1.009738</td>\n",
       "      <td>0.316098</td>\n",
       "      <td>1.0</td>\n",
       "    </tr>\n",
       "    <tr>\n",
       "      <th>3</th>\n",
       "      <td>-0.154592</td>\n",
       "      <td>0.877588</td>\n",
       "      <td>1.0</td>\n",
       "    </tr>\n",
       "    <tr>\n",
       "      <th>4</th>\n",
       "      <td>0.788249</td>\n",
       "      <td>0.433212</td>\n",
       "      <td>1.0</td>\n",
       "    </tr>\n",
       "    <tr>\n",
       "      <th>5</th>\n",
       "      <td>-1.499222</td>\n",
       "      <td>0.138313</td>\n",
       "      <td>1.0</td>\n",
       "    </tr>\n",
       "    <tr>\n",
       "      <th>...</th>\n",
       "      <td>...</td>\n",
       "      <td>...</td>\n",
       "      <td>...</td>\n",
       "    </tr>\n",
       "    <tr>\n",
       "      <th>70</th>\n",
       "      <td>0.702352</td>\n",
       "      <td>0.484789</td>\n",
       "      <td>1.0</td>\n",
       "    </tr>\n",
       "    <tr>\n",
       "      <th>71</th>\n",
       "      <td>-0.075158</td>\n",
       "      <td>0.940303</td>\n",
       "      <td>1.0</td>\n",
       "    </tr>\n",
       "    <tr>\n",
       "      <th>72</th>\n",
       "      <td>-1.372130</td>\n",
       "      <td>0.174404</td>\n",
       "      <td>1.0</td>\n",
       "    </tr>\n",
       "    <tr>\n",
       "      <th>73</th>\n",
       "      <td>0.860472</td>\n",
       "      <td>0.392467</td>\n",
       "      <td>1.0</td>\n",
       "    </tr>\n",
       "    <tr>\n",
       "      <th>74</th>\n",
       "      <td>0.372776</td>\n",
       "      <td>0.710441</td>\n",
       "      <td>1.0</td>\n",
       "    </tr>\n",
       "  </tbody>\n",
       "</table>\n",
       "<p>73 rows × 3 columns</p>\n",
       "</div>"
      ],
      "text/plain": [
       "    student_resid   unadj_p  bonf(p)\n",
       "1       -0.559222  0.577795      1.0\n",
       "2       -1.009738  0.316098      1.0\n",
       "3       -0.154592  0.877588      1.0\n",
       "4        0.788249  0.433212      1.0\n",
       "5       -1.499222  0.138313      1.0\n",
       "..            ...       ...      ...\n",
       "70       0.702352  0.484789      1.0\n",
       "71      -0.075158  0.940303      1.0\n",
       "72      -1.372130  0.174404      1.0\n",
       "73       0.860472  0.392467      1.0\n",
       "74       0.372776  0.710441      1.0\n",
       "\n",
       "[73 rows x 3 columns]"
      ]
     },
     "metadata": {},
     "output_type": "display_data"
    },
    {
     "data": {
      "text/html": [
       "<table class=\"simpletable\">\n",
       "<caption>OLS Regression Results</caption>\n",
       "<tr>\n",
       "  <th>Dep. Variable:</th>           <td>mle</td>       <th>  R-squared:         </th> <td>   0.096</td>\n",
       "</tr>\n",
       "<tr>\n",
       "  <th>Model:</th>                   <td>OLS</td>       <th>  Adj. R-squared:    </th> <td>   0.084</td>\n",
       "</tr>\n",
       "<tr>\n",
       "  <th>Method:</th>             <td>Least Squares</td>  <th>  F-statistic:       </th> <td>   7.563</td>\n",
       "</tr>\n",
       "<tr>\n",
       "  <th>Date:</th>             <td>Mon, 04 Aug 2025</td> <th>  Prob (F-statistic):</th>  <td>0.00755</td>\n",
       "</tr>\n",
       "<tr>\n",
       "  <th>Time:</th>                 <td>09:41:33</td>     <th>  Log-Likelihood:    </th> <td> -182.79</td>\n",
       "</tr>\n",
       "<tr>\n",
       "  <th>No. Observations:</th>      <td>    73</td>      <th>  AIC:               </th> <td>   369.6</td>\n",
       "</tr>\n",
       "<tr>\n",
       "  <th>Df Residuals:</th>          <td>    71</td>      <th>  BIC:               </th> <td>   374.2</td>\n",
       "</tr>\n",
       "<tr>\n",
       "  <th>Df Model:</th>              <td>     1</td>      <th>                     </th>     <td> </td>   \n",
       "</tr>\n",
       "<tr>\n",
       "  <th>Covariance Type:</th>      <td>nonrobust</td>    <th>                     </th>     <td> </td>   \n",
       "</tr>\n",
       "</table>\n",
       "<table class=\"simpletable\">\n",
       "<tr>\n",
       "    <td></td>       <th>coef</th>     <th>std err</th>      <th>t</th>      <th>P>|t|</th>  <th>[0.025</th>    <th>0.975]</th>  \n",
       "</tr>\n",
       "<tr>\n",
       "  <th>const</th> <td>   -0.2901</td> <td>    3.819</td> <td>   -0.076</td> <td> 0.940</td> <td>   -7.905</td> <td>    7.324</td>\n",
       "</tr>\n",
       "<tr>\n",
       "  <th>bayes</th> <td>    3.4210</td> <td>    1.244</td> <td>    2.750</td> <td> 0.008</td> <td>    0.941</td> <td>    5.901</td>\n",
       "</tr>\n",
       "</table>\n",
       "<table class=\"simpletable\">\n",
       "<tr>\n",
       "  <th>Omnibus:</th>       <td> 3.192</td> <th>  Durbin-Watson:     </th> <td>   2.236</td>\n",
       "</tr>\n",
       "<tr>\n",
       "  <th>Prob(Omnibus):</th> <td> 0.203</td> <th>  Jarque-Bera (JB):  </th> <td>   2.424</td>\n",
       "</tr>\n",
       "<tr>\n",
       "  <th>Skew:</th>          <td>-0.411</td> <th>  Prob(JB):          </th> <td>   0.298</td>\n",
       "</tr>\n",
       "<tr>\n",
       "  <th>Kurtosis:</th>      <td> 3.350</td> <th>  Cond. No.          </th> <td>    36.9</td>\n",
       "</tr>\n",
       "</table><br/><br/>Notes:<br/>[1] Standard Errors assume that the covariance matrix of the errors is correctly specified."
      ],
      "text/latex": [
       "\\begin{center}\n",
       "\\begin{tabular}{lclc}\n",
       "\\toprule\n",
       "\\textbf{Dep. Variable:}    &       mle        & \\textbf{  R-squared:         } &     0.096   \\\\\n",
       "\\textbf{Model:}            &       OLS        & \\textbf{  Adj. R-squared:    } &     0.084   \\\\\n",
       "\\textbf{Method:}           &  Least Squares   & \\textbf{  F-statistic:       } &     7.563   \\\\\n",
       "\\textbf{Date:}             & Mon, 04 Aug 2025 & \\textbf{  Prob (F-statistic):} &  0.00755    \\\\\n",
       "\\textbf{Time:}             &     09:41:33     & \\textbf{  Log-Likelihood:    } &   -182.79   \\\\\n",
       "\\textbf{No. Observations:} &          73      & \\textbf{  AIC:               } &     369.6   \\\\\n",
       "\\textbf{Df Residuals:}     &          71      & \\textbf{  BIC:               } &     374.2   \\\\\n",
       "\\textbf{Df Model:}         &           1      & \\textbf{                     } &             \\\\\n",
       "\\textbf{Covariance Type:}  &    nonrobust     & \\textbf{                     } &             \\\\\n",
       "\\bottomrule\n",
       "\\end{tabular}\n",
       "\\begin{tabular}{lcccccc}\n",
       "               & \\textbf{coef} & \\textbf{std err} & \\textbf{t} & \\textbf{P$> |$t$|$} & \\textbf{[0.025} & \\textbf{0.975]}  \\\\\n",
       "\\midrule\n",
       "\\textbf{const} &      -0.2901  &        3.819     &    -0.076  &         0.940        &       -7.905    &        7.324     \\\\\n",
       "\\textbf{bayes} &       3.4210  &        1.244     &     2.750  &         0.008        &        0.941    &        5.901     \\\\\n",
       "\\bottomrule\n",
       "\\end{tabular}\n",
       "\\begin{tabular}{lclc}\n",
       "\\textbf{Omnibus:}       &  3.192 & \\textbf{  Durbin-Watson:     } &    2.236  \\\\\n",
       "\\textbf{Prob(Omnibus):} &  0.203 & \\textbf{  Jarque-Bera (JB):  } &    2.424  \\\\\n",
       "\\textbf{Skew:}          & -0.411 & \\textbf{  Prob(JB):          } &    0.298  \\\\\n",
       "\\textbf{Kurtosis:}      &  3.350 & \\textbf{  Cond. No.          } &     36.9  \\\\\n",
       "\\bottomrule\n",
       "\\end{tabular}\n",
       "%\\caption{OLS Regression Results}\n",
       "\\end{center}\n",
       "\n",
       "Notes: \\newline\n",
       " [1] Standard Errors assume that the covariance matrix of the errors is correctly specified."
      ],
      "text/plain": [
       "<class 'statsmodels.iolib.summary.Summary'>\n",
       "\"\"\"\n",
       "                            OLS Regression Results                            \n",
       "==============================================================================\n",
       "Dep. Variable:                    mle   R-squared:                       0.096\n",
       "Model:                            OLS   Adj. R-squared:                  0.084\n",
       "Method:                 Least Squares   F-statistic:                     7.563\n",
       "Date:                Mon, 04 Aug 2025   Prob (F-statistic):            0.00755\n",
       "Time:                        09:41:33   Log-Likelihood:                -182.79\n",
       "No. Observations:                  73   AIC:                             369.6\n",
       "Df Residuals:                      71   BIC:                             374.2\n",
       "Df Model:                           1                                         \n",
       "Covariance Type:            nonrobust                                         \n",
       "==============================================================================\n",
       "                 coef    std err          t      P>|t|      [0.025      0.975]\n",
       "------------------------------------------------------------------------------\n",
       "const         -0.2901      3.819     -0.076      0.940      -7.905       7.324\n",
       "bayes          3.4210      1.244      2.750      0.008       0.941       5.901\n",
       "==============================================================================\n",
       "Omnibus:                        3.192   Durbin-Watson:                   2.236\n",
       "Prob(Omnibus):                  0.203   Jarque-Bera (JB):                2.424\n",
       "Skew:                          -0.411   Prob(JB):                        0.298\n",
       "Kurtosis:                       3.350   Cond. No.                         36.9\n",
       "==============================================================================\n",
       "\n",
       "Notes:\n",
       "[1] Standard Errors assume that the covariance matrix of the errors is correctly specified.\n",
       "\"\"\""
      ]
     },
     "metadata": {},
     "output_type": "display_data"
    },
    {
     "data": {
      "image/png": "[encoded data removed]",
      "text/plain": [
       "<Figure size 640x480 with 1 Axes>"
      ]
     },
     "metadata": {},
     "output_type": "display_data"
    }
   ],
   "source": [
    "outlier_test_result = model_lambda.outlier_test(method='bonf', alpha=0.05)\n",
    "# outlier_test_result = outlier_test_result_unclean.dropna(subset=['bonf(p)'])\n",
    "\n",
    "display(outlier_test_result)\n",
    "non_outliers = outlier_test_result['bonf(p)'] > 0.05\n",
    "outliers = outlier_test_result['bonf(p)'] <= 0.05\n",
    "X_lamb_clean = X_lamb[non_outliers]\n",
    "y_lamb_clean = y_lamb[non_outliers]\n",
    "model_sigma_clean = sm.OLS(y_lamb_clean, X_lamb_clean, missing='drop').fit()\n",
    "sigma_hat_fit_clean = model_sigma_clean.predict(X_lamb)\n",
    "display(model_sigma_clean.summary())\n",
    "\n",
    "plt.rcParams.update({'font.size': 15})\n",
    "if sum(outliers) > 0:\n",
    "\tplt.scatter(df_lamb['bayes'][outliers], y_lamb[outliers],\n",
    "\t\t\ts=20, label=\"Outliers\", color=\"red\")\n",
    "plt.scatter(df_lamb['bayes'][non_outliers], y_lamb[non_outliers],\n",
    "\t\ts=20, label=\"Contest\", color=\"black\")\n",
    "plt.plot(df_lamb['bayes'], sigma_hat_fit_clean, label=\"OLS Fit\", color=\"black\")\n",
    "\n",
    "plt.xlabel(r\"$\\log(1+\\hat\\lambda)$, estimated by Bayesian\")\n",
    "plt.ylabel(r\"$\\log(1+\\lambda^{MLE})$\")\n",
    "plt.legend(loc='upper left', frameon=False)\n",
    "plt.savefig(\"../paper/validate_lamb_robust23.pdf\", bbox_inches='tight')\n",
    "plt.show()"
   ]
  },
  {
   "cell_type": "markdown",
   "id": "eacbb961",
   "metadata": {},
   "source": [
    "#### Validate $\\sigma$"
   ]
  },
  {
   "cell_type": "code",
   "execution_count": null,
   "id": "fd796395",
   "metadata": {},
   "outputs": [
    {
     "data": {
      "text/html": [
       "<table class=\"simpletable\">\n",
       "<caption>OLS Regression Results</caption>\n",
       "<tr>\n",
       "  <th>Dep. Variable:</th>        <td>sigma_mle</td>    <th>  R-squared:         </th> <td>   0.071</td>\n",
       "</tr>\n",
       "<tr>\n",
       "  <th>Model:</th>                   <td>OLS</td>       <th>  Adj. R-squared:    </th> <td>   0.059</td>\n",
       "</tr>\n",
       "<tr>\n",
       "  <th>Method:</th>             <td>Least Squares</td>  <th>  F-statistic:       </th> <td>   5.620</td>\n",
       "</tr>\n",
       "<tr>\n",
       "  <th>Date:</th>             <td>Mon, 04 Aug 2025</td> <th>  Prob (F-statistic):</th>  <td>0.0204</td> \n",
       "</tr>\n",
       "<tr>\n",
       "  <th>Time:</th>                 <td>09:41:33</td>     <th>  Log-Likelihood:    </th> <td> -19.010</td>\n",
       "</tr>\n",
       "<tr>\n",
       "  <th>No. Observations:</th>      <td>    75</td>      <th>  AIC:               </th> <td>   42.02</td>\n",
       "</tr>\n",
       "<tr>\n",
       "  <th>Df Residuals:</th>          <td>    73</td>      <th>  BIC:               </th> <td>   46.66</td>\n",
       "</tr>\n",
       "<tr>\n",
       "  <th>Df Model:</th>              <td>     1</td>      <th>                     </th>     <td> </td>   \n",
       "</tr>\n",
       "<tr>\n",
       "  <th>Covariance Type:</th>      <td>nonrobust</td>    <th>                     </th>     <td> </td>   \n",
       "</tr>\n",
       "</table>\n",
       "<table class=\"simpletable\">\n",
       "<tr>\n",
       "         <td></td>            <th>coef</th>     <th>std err</th>      <th>t</th>      <th>P>|t|</th>  <th>[0.025</th>    <th>0.975]</th>  \n",
       "</tr>\n",
       "<tr>\n",
       "  <th>const</th>           <td>    0.1166</td> <td>    0.130</td> <td>    0.900</td> <td> 0.371</td> <td>   -0.142</td> <td>    0.375</td>\n",
       "</tr>\n",
       "<tr>\n",
       "  <th>sigma_post_mean</th> <td>    0.5014</td> <td>    0.212</td> <td>    2.371</td> <td> 0.020</td> <td>    0.080</td> <td>    0.923</td>\n",
       "</tr>\n",
       "</table>\n",
       "<table class=\"simpletable\">\n",
       "<tr>\n",
       "  <th>Omnibus:</th>       <td>12.724</td> <th>  Durbin-Watson:     </th> <td>   1.866</td>\n",
       "</tr>\n",
       "<tr>\n",
       "  <th>Prob(Omnibus):</th> <td> 0.002</td> <th>  Jarque-Bera (JB):  </th> <td>  13.657</td>\n",
       "</tr>\n",
       "<tr>\n",
       "  <th>Skew:</th>          <td> 1.015</td> <th>  Prob(JB):          </th> <td> 0.00108</td>\n",
       "</tr>\n",
       "<tr>\n",
       "  <th>Kurtosis:</th>      <td> 3.501</td> <th>  Cond. No.          </th> <td>    7.84</td>\n",
       "</tr>\n",
       "</table><br/><br/>Notes:<br/>[1] Standard Errors assume that the covariance matrix of the errors is correctly specified."
      ],
      "text/latex": [
       "\\begin{center}\n",
       "\\begin{tabular}{lclc}\n",
       "\\toprule\n",
       "\\textbf{Dep. Variable:}    &    sigma\\_mle    & \\textbf{  R-squared:         } &     0.071   \\\\\n",
       "\\textbf{Model:}            &       OLS        & \\textbf{  Adj. R-squared:    } &     0.059   \\\\\n",
       "\\textbf{Method:}           &  Least Squares   & \\textbf{  F-statistic:       } &     5.620   \\\\\n",
       "\\textbf{Date:}             & Mon, 04 Aug 2025 & \\textbf{  Prob (F-statistic):} &   0.0204    \\\\\n",
       "\\textbf{Time:}             &     09:41:33     & \\textbf{  Log-Likelihood:    } &   -19.010   \\\\\n",
       "\\textbf{No. Observations:} &          75      & \\textbf{  AIC:               } &     42.02   \\\\\n",
       "\\textbf{Df Residuals:}     &          73      & \\textbf{  BIC:               } &     46.66   \\\\\n",
       "\\textbf{Df Model:}         &           1      & \\textbf{                     } &             \\\\\n",
       "\\textbf{Covariance Type:}  &    nonrobust     & \\textbf{                     } &             \\\\\n",
       "\\bottomrule\n",
       "\\end{tabular}\n",
       "\\begin{tabular}{lcccccc}\n",
       "                           & \\textbf{coef} & \\textbf{std err} & \\textbf{t} & \\textbf{P$> |$t$|$} & \\textbf{[0.025} & \\textbf{0.975]}  \\\\\n",
       "\\midrule\n",
       "\\textbf{const}             &       0.1166  &        0.130     &     0.900  &         0.371        &       -0.142    &        0.375     \\\\\n",
       "\\textbf{sigma\\_post\\_mean} &       0.5014  &        0.212     &     2.371  &         0.020        &        0.080    &        0.923     \\\\\n",
       "\\bottomrule\n",
       "\\end{tabular}\n",
       "\\begin{tabular}{lclc}\n",
       "\\textbf{Omnibus:}       & 12.724 & \\textbf{  Durbin-Watson:     } &    1.866  \\\\\n",
       "\\textbf{Prob(Omnibus):} &  0.002 & \\textbf{  Jarque-Bera (JB):  } &   13.657  \\\\\n",
       "\\textbf{Skew:}          &  1.015 & \\textbf{  Prob(JB):          } &  0.00108  \\\\\n",
       "\\textbf{Kurtosis:}      &  3.501 & \\textbf{  Cond. No.          } &     7.84  \\\\\n",
       "\\bottomrule\n",
       "\\end{tabular}\n",
       "%\\caption{OLS Regression Results}\n",
       "\\end{center}\n",
       "\n",
       "Notes: \\newline\n",
       " [1] Standard Errors assume that the covariance matrix of the errors is correctly specified."
      ],
      "text/plain": [
       "<class 'statsmodels.iolib.summary.Summary'>\n",
       "\"\"\"\n",
       "                            OLS Regression Results                            \n",
       "==============================================================================\n",
       "Dep. Variable:              sigma_mle   R-squared:                       0.071\n",
       "Model:                            OLS   Adj. R-squared:                  0.059\n",
       "Method:                 Least Squares   F-statistic:                     5.620\n",
       "Date:                Mon, 04 Aug 2025   Prob (F-statistic):             0.0204\n",
       "Time:                        09:41:33   Log-Likelihood:                -19.010\n",
       "No. Observations:                  75   AIC:                             42.02\n",
       "Df Residuals:                      73   BIC:                             46.66\n",
       "Df Model:                           1                                         \n",
       "Covariance Type:            nonrobust                                         \n",
       "===================================================================================\n",
       "                      coef    std err          t      P>|t|      [0.025      0.975]\n",
       "-----------------------------------------------------------------------------------\n",
       "const               0.1166      0.130      0.900      0.371      -0.142       0.375\n",
       "sigma_post_mean     0.5014      0.212      2.371      0.020       0.080       0.923\n",
       "==============================================================================\n",
       "Omnibus:                       12.724   Durbin-Watson:                   1.866\n",
       "Prob(Omnibus):                  0.002   Jarque-Bera (JB):               13.657\n",
       "Skew:                           1.015   Prob(JB):                      0.00108\n",
       "Kurtosis:                       3.501   Cond. No.                         7.84\n",
       "==============================================================================\n",
       "\n",
       "Notes:\n",
       "[1] Standard Errors assume that the covariance matrix of the errors is correctly specified.\n",
       "\"\"\""
      ]
     },
     "metadata": {},
     "output_type": "display_data"
    },
    {
     "data": {
      "image/png": "[encoded data removed]",
      "text/plain": [
       "<Figure size 640x480 with 1 Axes>"
      ]
     },
     "metadata": {},
     "output_type": "display_data"
    }
   ],
   "source": [
    "sigma_hat_bayes = np.log(1 + cross_contests['sigma_post_mean'])\n",
    "sigma_hat_mle = np.log(1 + cross_contests['sigma_mle'])\n",
    "X_sigma = sm.add_constant(sigma_hat_bayes)\n",
    "model_sigma = sm.OLS(sigma_hat_mle, X_sigma).fit()\n",
    "sigma_hat_fit = model_sigma.predict(X_sigma)\n",
    "display(model_sigma.summary())\n",
    "\n",
    "plt.rcParams.update({'font.size': 15})\n",
    "plt.scatter(sigma_hat_bayes, sigma_hat_mle, s=20, label=\"Data\", color=\"black\", )\n",
    "plt.plot(sigma_hat_bayes, sigma_hat_fit, label=\"OLS Fit\", color=\"black\")\n",
    "plt.xlabel(r\"$\\log(1+\\hat\\sigma)$, estimated by Bayesian\")\n",
    "plt.ylabel(r\"$\\log(1+\\sigma^{MLE})$\")\n",
    "plt.legend(loc='upper left', frameon=False)\n",
    "plt.show()"
   ]
  },
  {
   "cell_type": "code",
   "execution_count": null,
   "id": "227ffb8f",
   "metadata": {},
   "outputs": [
    {
     "data": {
      "text/html": [
       "<table class=\"simpletable\">\n",
       "<caption>OLS Regression Results</caption>\n",
       "<tr>\n",
       "  <th>Dep. Variable:</th>        <td>sigma_mle</td>    <th>  R-squared:         </th> <td>   0.071</td>\n",
       "</tr>\n",
       "<tr>\n",
       "  <th>Model:</th>                   <td>OLS</td>       <th>  Adj. R-squared:    </th> <td>   0.059</td>\n",
       "</tr>\n",
       "<tr>\n",
       "  <th>Method:</th>             <td>Least Squares</td>  <th>  F-statistic:       </th> <td>   5.620</td>\n",
       "</tr>\n",
       "<tr>\n",
       "  <th>Date:</th>             <td>Mon, 04 Aug 2025</td> <th>  Prob (F-statistic):</th>  <td>0.0204</td> \n",
       "</tr>\n",
       "<tr>\n",
       "  <th>Time:</th>                 <td>09:41:33</td>     <th>  Log-Likelihood:    </th> <td> -19.010</td>\n",
       "</tr>\n",
       "<tr>\n",
       "  <th>No. Observations:</th>      <td>    75</td>      <th>  AIC:               </th> <td>   42.02</td>\n",
       "</tr>\n",
       "<tr>\n",
       "  <th>Df Residuals:</th>          <td>    73</td>      <th>  BIC:               </th> <td>   46.66</td>\n",
       "</tr>\n",
       "<tr>\n",
       "  <th>Df Model:</th>              <td>     1</td>      <th>                     </th>     <td> </td>   \n",
       "</tr>\n",
       "<tr>\n",
       "  <th>Covariance Type:</th>      <td>nonrobust</td>    <th>                     </th>     <td> </td>   \n",
       "</tr>\n",
       "</table>\n",
       "<table class=\"simpletable\">\n",
       "<tr>\n",
       "         <td></td>            <th>coef</th>     <th>std err</th>      <th>t</th>      <th>P>|t|</th>  <th>[0.025</th>    <th>0.975]</th>  \n",
       "</tr>\n",
       "<tr>\n",
       "  <th>const</th>           <td>    0.1166</td> <td>    0.130</td> <td>    0.900</td> <td> 0.371</td> <td>   -0.142</td> <td>    0.375</td>\n",
       "</tr>\n",
       "<tr>\n",
       "  <th>sigma_post_mean</th> <td>    0.5014</td> <td>    0.212</td> <td>    2.371</td> <td> 0.020</td> <td>    0.080</td> <td>    0.923</td>\n",
       "</tr>\n",
       "</table>\n",
       "<table class=\"simpletable\">\n",
       "<tr>\n",
       "  <th>Omnibus:</th>       <td>12.724</td> <th>  Durbin-Watson:     </th> <td>   1.866</td>\n",
       "</tr>\n",
       "<tr>\n",
       "  <th>Prob(Omnibus):</th> <td> 0.002</td> <th>  Jarque-Bera (JB):  </th> <td>  13.657</td>\n",
       "</tr>\n",
       "<tr>\n",
       "  <th>Skew:</th>          <td> 1.015</td> <th>  Prob(JB):          </th> <td> 0.00108</td>\n",
       "</tr>\n",
       "<tr>\n",
       "  <th>Kurtosis:</th>      <td> 3.501</td> <th>  Cond. No.          </th> <td>    7.84</td>\n",
       "</tr>\n",
       "</table><br/><br/>Notes:<br/>[1] Standard Errors assume that the covariance matrix of the errors is correctly specified."
      ],
      "text/latex": [
       "\\begin{center}\n",
       "\\begin{tabular}{lclc}\n",
       "\\toprule\n",
       "\\textbf{Dep. Variable:}    &    sigma\\_mle    & \\textbf{  R-squared:         } &     0.071   \\\\\n",
       "\\textbf{Model:}            &       OLS        & \\textbf{  Adj. R-squared:    } &     0.059   \\\\\n",
       "\\textbf{Method:}           &  Least Squares   & \\textbf{  F-statistic:       } &     5.620   \\\\\n",
       "\\textbf{Date:}             & Mon, 04 Aug 2025 & \\textbf{  Prob (F-statistic):} &   0.0204    \\\\\n",
       "\\textbf{Time:}             &     09:41:33     & \\textbf{  Log-Likelihood:    } &   -19.010   \\\\\n",
       "\\textbf{No. Observations:} &          75      & \\textbf{  AIC:               } &     42.02   \\\\\n",
       "\\textbf{Df Residuals:}     &          73      & \\textbf{  BIC:               } &     46.66   \\\\\n",
       "\\textbf{Df Model:}         &           1      & \\textbf{                     } &             \\\\\n",
       "\\textbf{Covariance Type:}  &    nonrobust     & \\textbf{                     } &             \\\\\n",
       "\\bottomrule\n",
       "\\end{tabular}\n",
       "\\begin{tabular}{lcccccc}\n",
       "                           & \\textbf{coef} & \\textbf{std err} & \\textbf{t} & \\textbf{P$> |$t$|$} & \\textbf{[0.025} & \\textbf{0.975]}  \\\\\n",
       "\\midrule\n",
       "\\textbf{const}             &       0.1166  &        0.130     &     0.900  &         0.371        &       -0.142    &        0.375     \\\\\n",
       "\\textbf{sigma\\_post\\_mean} &       0.5014  &        0.212     &     2.371  &         0.020        &        0.080    &        0.923     \\\\\n",
       "\\bottomrule\n",
       "\\end{tabular}\n",
       "\\begin{tabular}{lclc}\n",
       "\\textbf{Omnibus:}       & 12.724 & \\textbf{  Durbin-Watson:     } &    1.866  \\\\\n",
       "\\textbf{Prob(Omnibus):} &  0.002 & \\textbf{  Jarque-Bera (JB):  } &   13.657  \\\\\n",
       "\\textbf{Skew:}          &  1.015 & \\textbf{  Prob(JB):          } &  0.00108  \\\\\n",
       "\\textbf{Kurtosis:}      &  3.501 & \\textbf{  Cond. No.          } &     7.84  \\\\\n",
       "\\bottomrule\n",
       "\\end{tabular}\n",
       "%\\caption{OLS Regression Results}\n",
       "\\end{center}\n",
       "\n",
       "Notes: \\newline\n",
       " [1] Standard Errors assume that the covariance matrix of the errors is correctly specified."
      ],
      "text/plain": [
       "<class 'statsmodels.iolib.summary.Summary'>\n",
       "\"\"\"\n",
       "                            OLS Regression Results                            \n",
       "==============================================================================\n",
       "Dep. Variable:              sigma_mle   R-squared:                       0.071\n",
       "Model:                            OLS   Adj. R-squared:                  0.059\n",
       "Method:                 Least Squares   F-statistic:                     5.620\n",
       "Date:                Mon, 04 Aug 2025   Prob (F-statistic):             0.0204\n",
       "Time:                        09:41:33   Log-Likelihood:                -19.010\n",
       "No. Observations:                  75   AIC:                             42.02\n",
       "Df Residuals:                      73   BIC:                             46.66\n",
       "Df Model:                           1                                         \n",
       "Covariance Type:            nonrobust                                         \n",
       "===================================================================================\n",
       "                      coef    std err          t      P>|t|      [0.025      0.975]\n",
       "-----------------------------------------------------------------------------------\n",
       "const               0.1166      0.130      0.900      0.371      -0.142       0.375\n",
       "sigma_post_mean     0.5014      0.212      2.371      0.020       0.080       0.923\n",
       "==============================================================================\n",
       "Omnibus:                       12.724   Durbin-Watson:                   1.866\n",
       "Prob(Omnibus):                  0.002   Jarque-Bera (JB):               13.657\n",
       "Skew:                           1.015   Prob(JB):                      0.00108\n",
       "Kurtosis:                       3.501   Cond. No.                         7.84\n",
       "==============================================================================\n",
       "\n",
       "Notes:\n",
       "[1] Standard Errors assume that the covariance matrix of the errors is correctly specified.\n",
       "\"\"\""
      ]
     },
     "metadata": {},
     "output_type": "display_data"
    },
    {
     "data": {
      "image/png": "[encoded data removed]",
      "text/plain": [
       "<Figure size 640x480 with 1 Axes>"
      ]
     },
     "metadata": {},
     "output_type": "display_data"
    }
   ],
   "source": [
    "outlier_test_result = model_sigma.outlier_test(method='bonf', alpha=0.05)\n",
    "#display(outlier_test_result)\n",
    "non_outliers = outlier_test_result['bonf(p)'] > 0.05\n",
    "outliers = outlier_test_result['bonf(p)'] <= 0.05\n",
    "X_sigma_clean = X_sigma[non_outliers]\n",
    "y_sigma_clean = sigma_hat_mle[non_outliers]\n",
    "model_sigma_clean = sm.OLS(y_sigma_clean, X_sigma_clean).fit()\n",
    "sigma_hat_fit_clean = model_sigma_clean.predict(X_sigma)\n",
    "display(model_sigma_clean.summary())\n",
    "\n",
    "plt.rcParams.update({'font.size': 15})\n",
    "if sum(outliers):\n",
    "\tplt.scatter(sigma_hat_bayes[outliers], sigma_hat_mle[outliers],\n",
    "\t\t\ts=20, label=\"Outliers\", color=\"red\", )\n",
    "plt.scatter(sigma_hat_bayes[non_outliers], sigma_hat_mle[non_outliers],\n",
    "\t\ts=20, label=\"Contest\", color=\"black\", )\n",
    "plt.plot(sigma_hat_bayes, sigma_hat_fit_clean, label=\"OLS Fit\", color=\"black\")\n",
    "plt.ylim((0, 2))\n",
    "plt.xlabel(r\"$\\log(1+\\hat\\sigma)$, estimated by Bayesian\")\n",
    "plt.ylabel(r\"$\\log(1+\\sigma^{MLE})$\")\n",
    "plt.legend(loc='upper left', frameon=False)\n",
    "plt.savefig(\"../paper/validate_sigma_robust23.pdf\", bbox_inches='tight')\n",
    "plt.show()"
   ]
  }
 ],
 "metadata": {
  "kernelspec": {
   "display_name": ".venv (3.13.3)",
   "language": "python",
   "name": "python3"
  },
  "language_info": {
   "codemirror_mode": {
    "name": "ipython",
    "version": 3
   },
   "file_extension": ".py",
   "mimetype": "text/x-python",
   "name": "python",
   "nbconvert_exporter": "python",
   "pygments_lexer": "ipython3",
   "version": "3.13.3"
  }
 },
 "nbformat": 4,
 "nbformat_minor": 5
}
