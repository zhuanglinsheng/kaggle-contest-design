{
 "cells": [
  {
   "cell_type": "markdown",
   "id": "231bea14",
   "metadata": {},
   "source": [
    "# Validate"
   ]
  },
  {
   "cell_type": "code",
   "execution_count": 1,
   "id": "3265257e",
   "metadata": {},
   "outputs": [],
   "source": [
    "import os\n",
    "import pickle\n",
    "import json\n",
    "from pathlib import Path\n",
    "\n",
    "import numpy as np\n",
    "import pandas as pd\n",
    "from matplotlib import pyplot as plt\n",
    "import statsmodels.api as sm"
   ]
  },
  {
   "cell_type": "code",
   "execution_count": 2,
   "id": "05d1dc6d",
   "metadata": {},
   "outputs": [
    {
     "data": {
      "text/plain": [
       "(13, 13)"
      ]
     },
     "execution_count": 2,
     "metadata": {},
     "output_type": "execute_result"
    }
   ],
   "source": [
    "#\n",
    "wd = os.getcwd()\n",
    "wd_data = Path(os.path.join(wd, '__jsondata__'))\n",
    "lst_data_json = list(wd_data.glob(\"*.json\"))\n",
    "lst_data_post = list(wd_data.glob(\"*.pkl\"))\n",
    "len(lst_data_json), len(lst_data_post)"
   ]
  },
  {
   "cell_type": "code",
   "execution_count": 3,
   "id": "9ed2c773",
   "metadata": {},
   "outputs": [
    {
     "name": "stdout",
     "output_type": "stream",
     "text": [
      "[2467, 2762, 2549, 2860, 3928, 4493, 3507, 2435, 3526, 2478, 2454, 2445, 2464]\n"
     ]
    }
   ],
   "source": [
    "contests_data = {\n",
    "\t'contest_id' : [],\n",
    "\t'data_json' : [],\n",
    "\t'data_post' : []\n",
    "}\n",
    "\n",
    "for path_json, path_post in zip(lst_data_json, lst_data_post):\n",
    "\tcontest_id = path_json.stem.split('_')[1]\n",
    "\twith open(path_json, \"r\", encoding=\"utf-8\") as f:\n",
    "\t\tdata_json = json.load(f)\n",
    "\twith open(path_post, \"rb\") as f:\n",
    "\t\tdata_post = pickle.load(f)\n",
    "\tcontests_data['contest_id'].append(int(contest_id))\n",
    "\tcontests_data['data_json'].append(data_json)\n",
    "\tcontests_data['data_post'].append(data_post)\n",
    "\n",
    "print(contests_data['contest_id'])"
   ]
  },
  {
   "cell_type": "code",
   "execution_count": 4,
   "id": "aee946c2",
   "metadata": {},
   "outputs": [
    {
     "data": {
      "text/plain": [
       "['theta',\n",
       " 'percentage',\n",
       " 'max_daily_submit',\n",
       " 'ratio',\n",
       " 'N_Delta',\n",
       " 'Delta2f',\n",
       " 'Ni',\n",
       " 'Nj',\n",
       " 'hat_t_i',\n",
       " 'hat_t_j',\n",
       " 'hat_y',\n",
       " 'real_y']"
      ]
     },
     "execution_count": 4,
     "metadata": {},
     "output_type": "execute_result"
    }
   ],
   "source": [
    "list(contests_data['data_json'][0].keys())"
   ]
  },
  {
   "cell_type": "code",
   "execution_count": 5,
   "id": "3910e136",
   "metadata": {},
   "outputs": [
    {
     "data": {
      "text/plain": [
       "['mu_0',\n",
       " 'c_i',\n",
       " 'c_j',\n",
       " 'sigma',\n",
       " 'lambda',\n",
       " 'm_i',\n",
       " 'm_j',\n",
       " 'tilde_y',\n",
       " 'intensity_i',\n",
       " 'intensity_i_at_events',\n",
       " 'intensity_j',\n",
       " 'intensity_j_at_events',\n",
       " 'effort_gap',\n",
       " 'hat_y_mean',\n",
       " 'hat_y_cov']"
      ]
     },
     "execution_count": 5,
     "metadata": {},
     "output_type": "execute_result"
    }
   ],
   "source": [
    "list(contests_data['data_post'][0].keys())"
   ]
  },
  {
   "cell_type": "markdown",
   "id": "22d99c95",
   "metadata": {},
   "source": [
    "### Display Figure"
   ]
  },
  {
   "cell_type": "code",
   "execution_count": 6,
   "id": "d84b76b4",
   "metadata": {},
   "outputs": [],
   "source": [
    "#"
   ]
  },
  {
   "cell_type": "markdown",
   "id": "327a75fc",
   "metadata": {},
   "source": [
    "### Display Statistics"
   ]
  },
  {
   "cell_type": "code",
   "execution_count": 7,
   "id": "212c433a",
   "metadata": {},
   "outputs": [],
   "source": [
    "def calculate_lambda_mle(arr_hat_y, arr_real_y, Delta2f):\n",
    "\t\"\"\"\n",
    "\t\"\"\"\n",
    "\tn = len(arr_hat_y)\n",
    "\tmse = sum([(hat_y - y)**2 for hat_y, y in zip(arr_hat_y, arr_real_y)])\n",
    "\treturn n / mse / Delta2f"
   ]
  },
  {
   "cell_type": "code",
   "execution_count": 8,
   "id": "5b374da4",
   "metadata": {},
   "outputs": [],
   "source": [
    "def display_estimation_results():\n",
    "\tdata = []\n",
    "\tfor id, json_data, posteriors in zip(\n",
    "\t\tcontests_data['contest_id'], contests_data['data_json'], contests_data['data_post']\n",
    "\t):\n",
    "\t\trecord = {\n",
    "\t\t\t'Id': id,\n",
    "\t\t\t'Ni': json_data['Ni'],\n",
    "\t\t\t'Nj': json_data['Nj'],\n",
    "\t\t\t'prize (k, USD)': json_data['theta'],\n",
    "\t\t\t'Percentage (%)': json_data['percentage'],\n",
    "\t\t\t'lambda_mle': calculate_lambda_mle(json_data['hat_y'], json_data['real_y'], json_data['Delta2f']),\n",
    "\t\t\t'lambda_post_mean': posteriors['lambda'].mean(),\n",
    "\t\t\t'sigma_post_mean': posteriors['sigma'].mean(),\n",
    "\t\t}\n",
    "\t\tdata.append(record)\n",
    "\treturn pd.DataFrame(data)"
   ]
  },
  {
   "cell_type": "code",
   "execution_count": 20,
   "id": "c12ec77d",
   "metadata": {},
   "outputs": [
    {
     "data": {
      "application/vnd.microsoft.datawrangler.viewer.v0+json": {
       "columns": [
        {
         "name": "index",
         "rawType": "int64",
         "type": "integer"
        },
        {
         "name": "Id",
         "rawType": "int64",
         "type": "integer"
        },
        {
         "name": "Ni",
         "rawType": "int64",
         "type": "integer"
        },
        {
         "name": "Nj",
         "rawType": "int64",
         "type": "integer"
        },
        {
         "name": "prize (k, USD)",
         "rawType": "float64",
         "type": "float"
        },
        {
         "name": "Percentage (%)",
         "rawType": "float64",
         "type": "float"
        },
        {
         "name": "lambda_mle",
         "rawType": "float64",
         "type": "float"
        },
        {
         "name": "lambda_post_mean",
         "rawType": "float64",
         "type": "float"
        },
        {
         "name": "sigma_post_mean",
         "rawType": "float64",
         "type": "float"
        }
       ],
       "ref": "5fa467b7-855f-4c69-92e3-ba7337092039",
       "rows": [
        [
         "0",
         "2467",
         "9",
         "6",
         "10.0",
         "30.0",
         "93.00818832811126",
         "7.20364421",
         "9.753148193749999"
        ],
        [
         "1",
         "2762",
         "12",
         "21",
         "1.0",
         "35.0",
         "0.017897344139285787",
         "0.10025250921250001",
         "9.192003860000002"
        ],
        [
         "2",
         "2549",
         "13",
         "9",
         "0.5",
         "30.0",
         "0.16410636829828287",
         "0.19738645859249998",
         "9.84756276625"
        ],
        [
         "3",
         "2860",
         "16",
         "5",
         "1.0",
         "30.0",
         "0.033051157041720514",
         "0.42698008175",
         "9.668195283749998"
        ],
        [
         "4",
         "3928",
         "15",
         "21",
         "0.68",
         "70.0",
         "2.5552183125947563",
         "7.237237159125001",
         "9.84761219875"
        ],
        [
         "5",
         "4493",
         "19",
         "14",
         "10.0",
         "40.0",
         "1.0520053918926482",
         "3.6467455174999994",
         "9.7629653"
        ],
        [
         "6",
         "3507",
         "14",
         "11",
         "0.5",
         "33.0",
         "0.013709318954775718",
         "0.0069769711905625",
         "3.0896048346249994"
        ],
        [
         "7",
         "2435",
         "19",
         "13",
         "0.5",
         "30.0",
         "0.045923131483820635",
         "0.1828729637875",
         "9.91272616625"
        ],
        [
         "8",
         "3526",
         "15",
         "13",
         "5.0",
         "20.0",
         "0.5491126609367593",
         "0.143413042375",
         "7.39057158625"
        ],
        [
         "9",
         "2478",
         "12",
         "13",
         "0.95",
         "30.0",
         "5.533019968201592",
         "0.350066849625",
         "9.83596533125"
        ],
        [
         "10",
         "2454",
         "19",
         "13",
         "0.15",
         "62.0",
         "0.6296764191711983",
         "0.05267385923125",
         "8.537025627499998"
        ],
        [
         "11",
         "2445",
         "19",
         "8",
         "5.0",
         "25.0",
         "0.04584014588466704",
         "5.06941393875",
         "9.0674582575"
        ],
        [
         "12",
         "2464",
         "11",
         "12",
         "0.95",
         "20.0",
         "0.04788831519009643",
         "0.0557903991875",
         "9.95466674375"
        ]
       ],
       "shape": {
        "columns": 8,
        "rows": 13
       }
      },
      "text/html": [
       "<div>\n",
       "<style scoped>\n",
       "    .dataframe tbody tr th:only-of-type {\n",
       "        vertical-align: middle;\n",
       "    }\n",
       "\n",
       "    .dataframe tbody tr th {\n",
       "        vertical-align: top;\n",
       "    }\n",
       "\n",
       "    .dataframe thead th {\n",
       "        text-align: right;\n",
       "    }\n",
       "</style>\n",
       "<table border=\"1\" class=\"dataframe\">\n",
       "  <thead>\n",
       "    <tr style=\"text-align: right;\">\n",
       "      <th></th>\n",
       "      <th>Id</th>\n",
       "      <th>Ni</th>\n",
       "      <th>Nj</th>\n",
       "      <th>prize (k, USD)</th>\n",
       "      <th>Percentage (%)</th>\n",
       "      <th>lambda_mle</th>\n",
       "      <th>lambda_post_mean</th>\n",
       "      <th>sigma_post_mean</th>\n",
       "    </tr>\n",
       "  </thead>\n",
       "  <tbody>\n",
       "    <tr>\n",
       "      <th>0</th>\n",
       "      <td>2467</td>\n",
       "      <td>9</td>\n",
       "      <td>6</td>\n",
       "      <td>10.00</td>\n",
       "      <td>30.0</td>\n",
       "      <td>93.008188</td>\n",
       "      <td>7.203644</td>\n",
       "      <td>9.753148</td>\n",
       "    </tr>\n",
       "    <tr>\n",
       "      <th>1</th>\n",
       "      <td>2762</td>\n",
       "      <td>12</td>\n",
       "      <td>21</td>\n",
       "      <td>1.00</td>\n",
       "      <td>35.0</td>\n",
       "      <td>0.017897</td>\n",
       "      <td>0.100253</td>\n",
       "      <td>9.192004</td>\n",
       "    </tr>\n",
       "    <tr>\n",
       "      <th>2</th>\n",
       "      <td>2549</td>\n",
       "      <td>13</td>\n",
       "      <td>9</td>\n",
       "      <td>0.50</td>\n",
       "      <td>30.0</td>\n",
       "      <td>0.164106</td>\n",
       "      <td>0.197386</td>\n",
       "      <td>9.847563</td>\n",
       "    </tr>\n",
       "    <tr>\n",
       "      <th>3</th>\n",
       "      <td>2860</td>\n",
       "      <td>16</td>\n",
       "      <td>5</td>\n",
       "      <td>1.00</td>\n",
       "      <td>30.0</td>\n",
       "      <td>0.033051</td>\n",
       "      <td>0.426980</td>\n",
       "      <td>9.668195</td>\n",
       "    </tr>\n",
       "    <tr>\n",
       "      <th>4</th>\n",
       "      <td>3928</td>\n",
       "      <td>15</td>\n",
       "      <td>21</td>\n",
       "      <td>0.68</td>\n",
       "      <td>70.0</td>\n",
       "      <td>2.555218</td>\n",
       "      <td>7.237237</td>\n",
       "      <td>9.847612</td>\n",
       "    </tr>\n",
       "    <tr>\n",
       "      <th>5</th>\n",
       "      <td>4493</td>\n",
       "      <td>19</td>\n",
       "      <td>14</td>\n",
       "      <td>10.00</td>\n",
       "      <td>40.0</td>\n",
       "      <td>1.052005</td>\n",
       "      <td>3.646746</td>\n",
       "      <td>9.762965</td>\n",
       "    </tr>\n",
       "    <tr>\n",
       "      <th>6</th>\n",
       "      <td>3507</td>\n",
       "      <td>14</td>\n",
       "      <td>11</td>\n",
       "      <td>0.50</td>\n",
       "      <td>33.0</td>\n",
       "      <td>0.013709</td>\n",
       "      <td>0.006977</td>\n",
       "      <td>3.089605</td>\n",
       "    </tr>\n",
       "    <tr>\n",
       "      <th>7</th>\n",
       "      <td>2435</td>\n",
       "      <td>19</td>\n",
       "      <td>13</td>\n",
       "      <td>0.50</td>\n",
       "      <td>30.0</td>\n",
       "      <td>0.045923</td>\n",
       "      <td>0.182873</td>\n",
       "      <td>9.912726</td>\n",
       "    </tr>\n",
       "    <tr>\n",
       "      <th>8</th>\n",
       "      <td>3526</td>\n",
       "      <td>15</td>\n",
       "      <td>13</td>\n",
       "      <td>5.00</td>\n",
       "      <td>20.0</td>\n",
       "      <td>0.549113</td>\n",
       "      <td>0.143413</td>\n",
       "      <td>7.390572</td>\n",
       "    </tr>\n",
       "    <tr>\n",
       "      <th>9</th>\n",
       "      <td>2478</td>\n",
       "      <td>12</td>\n",
       "      <td>13</td>\n",
       "      <td>0.95</td>\n",
       "      <td>30.0</td>\n",
       "      <td>5.533020</td>\n",
       "      <td>0.350067</td>\n",
       "      <td>9.835965</td>\n",
       "    </tr>\n",
       "    <tr>\n",
       "      <th>10</th>\n",
       "      <td>2454</td>\n",
       "      <td>19</td>\n",
       "      <td>13</td>\n",
       "      <td>0.15</td>\n",
       "      <td>62.0</td>\n",
       "      <td>0.629676</td>\n",
       "      <td>0.052674</td>\n",
       "      <td>8.537026</td>\n",
       "    </tr>\n",
       "    <tr>\n",
       "      <th>11</th>\n",
       "      <td>2445</td>\n",
       "      <td>19</td>\n",
       "      <td>8</td>\n",
       "      <td>5.00</td>\n",
       "      <td>25.0</td>\n",
       "      <td>0.045840</td>\n",
       "      <td>5.069414</td>\n",
       "      <td>9.067458</td>\n",
       "    </tr>\n",
       "    <tr>\n",
       "      <th>12</th>\n",
       "      <td>2464</td>\n",
       "      <td>11</td>\n",
       "      <td>12</td>\n",
       "      <td>0.95</td>\n",
       "      <td>20.0</td>\n",
       "      <td>0.047888</td>\n",
       "      <td>0.055790</td>\n",
       "      <td>9.954667</td>\n",
       "    </tr>\n",
       "  </tbody>\n",
       "</table>\n",
       "</div>"
      ],
      "text/plain": [
       "      Id  Ni  Nj  prize (k, USD)  Percentage (%)  lambda_mle  \\\n",
       "0   2467   9   6           10.00            30.0   93.008188   \n",
       "1   2762  12  21            1.00            35.0    0.017897   \n",
       "2   2549  13   9            0.50            30.0    0.164106   \n",
       "3   2860  16   5            1.00            30.0    0.033051   \n",
       "4   3928  15  21            0.68            70.0    2.555218   \n",
       "5   4493  19  14           10.00            40.0    1.052005   \n",
       "6   3507  14  11            0.50            33.0    0.013709   \n",
       "7   2435  19  13            0.50            30.0    0.045923   \n",
       "8   3526  15  13            5.00            20.0    0.549113   \n",
       "9   2478  12  13            0.95            30.0    5.533020   \n",
       "10  2454  19  13            0.15            62.0    0.629676   \n",
       "11  2445  19   8            5.00            25.0    0.045840   \n",
       "12  2464  11  12            0.95            20.0    0.047888   \n",
       "\n",
       "    lambda_post_mean  sigma_post_mean  \n",
       "0           7.203644         9.753148  \n",
       "1           0.100253         9.192004  \n",
       "2           0.197386         9.847563  \n",
       "3           0.426980         9.668195  \n",
       "4           7.237237         9.847612  \n",
       "5           3.646746         9.762965  \n",
       "6           0.006977         3.089605  \n",
       "7           0.182873         9.912726  \n",
       "8           0.143413         7.390572  \n",
       "9           0.350067         9.835965  \n",
       "10          0.052674         8.537026  \n",
       "11          5.069414         9.067458  \n",
       "12          0.055790         9.954667  "
      ]
     },
     "execution_count": 20,
     "metadata": {},
     "output_type": "execute_result"
    }
   ],
   "source": [
    "corss_contests = display_estimation_results()\n",
    "corss_contests"
   ]
  },
  {
   "cell_type": "code",
   "execution_count": 26,
   "id": "8eb48aa9",
   "metadata": {},
   "outputs": [
    {
     "name": "stderr",
     "output_type": "stream",
     "text": [
      "/Users/zhuanglinsheng/Documents/Github/kaggle-contest-design/.venv/lib/python3.13/site-packages/scipy/stats/_axis_nan_policy.py:430: UserWarning: `kurtosistest` p-value may be inaccurate with fewer than 20 observations; only n=13 observations were given.\n",
      "  return hypotest_fun_in(*args, **kwds)\n"
     ]
    },
    {
     "data": {
      "text/html": [
       "<table class=\"simpletable\">\n",
       "<caption>OLS Regression Results</caption>\n",
       "<tr>\n",
       "  <th>Dep. Variable:</th>       <td>lambda_mle</td>    <th>  R-squared:         </th> <td>   0.330</td>\n",
       "</tr>\n",
       "<tr>\n",
       "  <th>Model:</th>                   <td>OLS</td>       <th>  Adj. R-squared:    </th> <td>   0.269</td>\n",
       "</tr>\n",
       "<tr>\n",
       "  <th>Method:</th>             <td>Least Squares</td>  <th>  F-statistic:       </th> <td>   5.413</td>\n",
       "</tr>\n",
       "<tr>\n",
       "  <th>Date:</th>             <td>Wed, 21 May 2025</td> <th>  Prob (F-statistic):</th>  <td>0.0401</td> \n",
       "</tr>\n",
       "<tr>\n",
       "  <th>Time:</th>                 <td>17:53:23</td>     <th>  Log-Likelihood:    </th> <td> -18.492</td>\n",
       "</tr>\n",
       "<tr>\n",
       "  <th>No. Observations:</th>      <td>    13</td>      <th>  AIC:               </th> <td>   40.98</td>\n",
       "</tr>\n",
       "<tr>\n",
       "  <th>Df Residuals:</th>          <td>    11</td>      <th>  BIC:               </th> <td>   42.11</td>\n",
       "</tr>\n",
       "<tr>\n",
       "  <th>Df Model:</th>              <td>     1</td>      <th>                     </th>     <td> </td>   \n",
       "</tr>\n",
       "<tr>\n",
       "  <th>Covariance Type:</th>      <td>nonrobust</td>    <th>                     </th>     <td> </td>   \n",
       "</tr>\n",
       "</table>\n",
       "<table class=\"simpletable\">\n",
       "<tr>\n",
       "          <td></td>            <th>coef</th>     <th>std err</th>      <th>t</th>      <th>P>|t|</th>  <th>[0.025</th>    <th>0.975]</th>  \n",
       "</tr>\n",
       "<tr>\n",
       "  <th>const</th>            <td>    0.1562</td> <td>    0.394</td> <td>    0.396</td> <td> 0.700</td> <td>   -0.712</td> <td>    1.024</td>\n",
       "</tr>\n",
       "<tr>\n",
       "  <th>lambda_post_mean</th> <td>    0.8603</td> <td>    0.370</td> <td>    2.327</td> <td> 0.040</td> <td>    0.046</td> <td>    1.674</td>\n",
       "</tr>\n",
       "</table>\n",
       "<table class=\"simpletable\">\n",
       "<tr>\n",
       "  <th>Omnibus:</th>       <td> 7.531</td> <th>  Durbin-Watson:     </th> <td>   1.350</td>\n",
       "</tr>\n",
       "<tr>\n",
       "  <th>Prob(Omnibus):</th> <td> 0.023</td> <th>  Jarque-Bera (JB):  </th> <td>   3.677</td>\n",
       "</tr>\n",
       "<tr>\n",
       "  <th>Skew:</th>          <td> 1.124</td> <th>  Prob(JB):          </th> <td>   0.159</td>\n",
       "</tr>\n",
       "<tr>\n",
       "  <th>Kurtosis:</th>      <td> 4.317</td> <th>  Cond. No.          </th> <td>    2.15</td>\n",
       "</tr>\n",
       "</table><br/><br/>Notes:<br/>[1] Standard Errors assume that the covariance matrix of the errors is correctly specified."
      ],
      "text/latex": [
       "\\begin{center}\n",
       "\\begin{tabular}{lclc}\n",
       "\\toprule\n",
       "\\textbf{Dep. Variable:}     &   lambda\\_mle    & \\textbf{  R-squared:         } &     0.330   \\\\\n",
       "\\textbf{Model:}             &       OLS        & \\textbf{  Adj. R-squared:    } &     0.269   \\\\\n",
       "\\textbf{Method:}            &  Least Squares   & \\textbf{  F-statistic:       } &     5.413   \\\\\n",
       "\\textbf{Date:}              & Wed, 21 May 2025 & \\textbf{  Prob (F-statistic):} &   0.0401    \\\\\n",
       "\\textbf{Time:}              &     17:53:23     & \\textbf{  Log-Likelihood:    } &   -18.492   \\\\\n",
       "\\textbf{No. Observations:}  &          13      & \\textbf{  AIC:               } &     40.98   \\\\\n",
       "\\textbf{Df Residuals:}      &          11      & \\textbf{  BIC:               } &     42.11   \\\\\n",
       "\\textbf{Df Model:}          &           1      & \\textbf{                     } &             \\\\\n",
       "\\textbf{Covariance Type:}   &    nonrobust     & \\textbf{                     } &             \\\\\n",
       "\\bottomrule\n",
       "\\end{tabular}\n",
       "\\begin{tabular}{lcccccc}\n",
       "                            & \\textbf{coef} & \\textbf{std err} & \\textbf{t} & \\textbf{P$> |$t$|$} & \\textbf{[0.025} & \\textbf{0.975]}  \\\\\n",
       "\\midrule\n",
       "\\textbf{const}              &       0.1562  &        0.394     &     0.396  &         0.700        &       -0.712    &        1.024     \\\\\n",
       "\\textbf{lambda\\_post\\_mean} &       0.8603  &        0.370     &     2.327  &         0.040        &        0.046    &        1.674     \\\\\n",
       "\\bottomrule\n",
       "\\end{tabular}\n",
       "\\begin{tabular}{lclc}\n",
       "\\textbf{Omnibus:}       &  7.531 & \\textbf{  Durbin-Watson:     } &    1.350  \\\\\n",
       "\\textbf{Prob(Omnibus):} &  0.023 & \\textbf{  Jarque-Bera (JB):  } &    3.677  \\\\\n",
       "\\textbf{Skew:}          &  1.124 & \\textbf{  Prob(JB):          } &    0.159  \\\\\n",
       "\\textbf{Kurtosis:}      &  4.317 & \\textbf{  Cond. No.          } &     2.15  \\\\\n",
       "\\bottomrule\n",
       "\\end{tabular}\n",
       "%\\caption{OLS Regression Results}\n",
       "\\end{center}\n",
       "\n",
       "Notes: \\newline\n",
       " [1] Standard Errors assume that the covariance matrix of the errors is correctly specified."
      ],
      "text/plain": [
       "<class 'statsmodels.iolib.summary.Summary'>\n",
       "\"\"\"\n",
       "                            OLS Regression Results                            \n",
       "==============================================================================\n",
       "Dep. Variable:             lambda_mle   R-squared:                       0.330\n",
       "Model:                            OLS   Adj. R-squared:                  0.269\n",
       "Method:                 Least Squares   F-statistic:                     5.413\n",
       "Date:                Wed, 21 May 2025   Prob (F-statistic):             0.0401\n",
       "Time:                        17:53:23   Log-Likelihood:                -18.492\n",
       "No. Observations:                  13   AIC:                             40.98\n",
       "Df Residuals:                      11   BIC:                             42.11\n",
       "Df Model:                           1                                         \n",
       "Covariance Type:            nonrobust                                         \n",
       "====================================================================================\n",
       "                       coef    std err          t      P>|t|      [0.025      0.975]\n",
       "------------------------------------------------------------------------------------\n",
       "const                0.1562      0.394      0.396      0.700      -0.712       1.024\n",
       "lambda_post_mean     0.8603      0.370      2.327      0.040       0.046       1.674\n",
       "==============================================================================\n",
       "Omnibus:                        7.531   Durbin-Watson:                   1.350\n",
       "Prob(Omnibus):                  0.023   Jarque-Bera (JB):                3.677\n",
       "Skew:                           1.124   Prob(JB):                        0.159\n",
       "Kurtosis:                       4.317   Cond. No.                         2.15\n",
       "==============================================================================\n",
       "\n",
       "Notes:\n",
       "[1] Standard Errors assume that the covariance matrix of the errors is correctly specified.\n",
       "\"\"\""
      ]
     },
     "execution_count": 26,
     "metadata": {},
     "output_type": "execute_result"
    }
   ],
   "source": [
    "log_lamb_hat_bayes = np.log(1 + corss_contests['lambda_post_mean'])\n",
    "log_lamb_hat_real = np.log(1 + corss_contests['lambda_mle'])\n",
    "X = sm.add_constant(log_lamb_hat_bayes)\n",
    "model_lambda = sm.OLS(log_lamb_hat_real, X).fit()\n",
    "log_lamb_hat_fit = model_lambda.predict(X)\n",
    "model_lambda.summary()"
   ]
  },
  {
   "cell_type": "code",
   "execution_count": 30,
   "id": "ea2a050e",
   "metadata": {},
   "outputs": [
    {
     "data": {
      "image/png": "[encoded data removed]",
      "text/plain": [
       "<Figure size 640x480 with 1 Axes>"
      ]
     },
     "metadata": {},
     "output_type": "display_data"
    }
   ],
   "source": [
    "plt.scatter(log_lamb_hat_bayes, log_lamb_hat_real, s=20, label=\"Data\", color=\"black\", )\n",
    "plt.plot(log_lamb_hat_bayes, log_lamb_hat_fit, label=\"OLS Fit\", color=\"black\")\n",
    "plt.legend()\n",
    "plt.xlabel(r\"$\\hat\\lambda$ (Bayesian)\")\n",
    "plt.ylabel(r\"$\\lambda$ (Real, Estimated by MLE)\")\n",
    "plt.show()"
   ]
  }
 ],
 "metadata": {
  "kernelspec": {
   "display_name": ".venv",
   "language": "python",
   "name": "python3"
  },
  "language_info": {
   "codemirror_mode": {
    "name": "ipython",
    "version": 3
   },
   "file_extension": ".py",
   "mimetype": "text/x-python",
   "name": "python",
   "nbconvert_exporter": "python",
   "pygments_lexer": "ipython3",
   "version": "3.13.3"
  }
 },
 "nbformat": 4,
 "nbformat_minor": 5
}
