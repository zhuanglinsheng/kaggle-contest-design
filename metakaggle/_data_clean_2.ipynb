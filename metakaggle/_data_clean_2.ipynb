{
 "cells": [
  {
   "cell_type": "markdown",
   "id": "9b3d209a",
   "metadata": {},
   "source": [
    "# Data Clean 2"
   ]
  },
  {
   "cell_type": "code",
   "execution_count": 1,
   "id": "dcfceafe",
   "metadata": {},
   "outputs": [],
   "source": [
    "# std library\n",
    "import os\n",
    "from datetime import datetime\n",
    "from pprint import pprint\n",
    "from typing import Literal\n",
    "\n",
    "# third-party\n",
    "import pandas as pd\n",
    "from IPython.display import HTML, display\n",
    "\n",
    "# local\n",
    "from datafilter import table_filter, table_header\n",
    "from _data_clean import contest_basic_setting, \\\n",
    "\tcontest_basic_submission_info, leaderboard_fulfill, \\\n",
    "\tselect_2_strongest, save_contest_data, Leaderboard_Type"
   ]
  },
  {
   "cell_type": "code",
   "execution_count": 2,
   "id": "bd1ba9aa",
   "metadata": {},
   "outputs": [],
   "source": [
    "rawdata_path = os.path.abspath('./__rawdata__')"
   ]
  },
  {
   "cell_type": "code",
   "execution_count": null,
   "id": "c7f80c02",
   "metadata": {},
   "outputs": [],
   "source": [
    "# Download rawdata\n",
    "if not os.path.exists(rawdata_path):\n",
    "\timport api\n",
    "\tapi.download_rawdata(rawdata_path)"
   ]
  },
  {
   "cell_type": "code",
   "execution_count": 3,
   "id": "0a3d62b0",
   "metadata": {},
   "outputs": [],
   "source": [
    "# Submissions\n",
    "# - TeamId\n",
    "# - SubmissionDate\n",
    "tbl_submissions = table_filter( \\\n",
    "\t'Submissions', rawdata_path,\n",
    "\tfields = ['Id', 'TeamId', 'SubmissionDate', 'IsAfterDeadline',\n",
    "\t\t'PublicScoreLeaderboardDisplay', 'PrivateScoreFullPrecision'],\n",
    "\tfields_index = ['Id'],\n",
    "\tfields_datetime = ['SubmissionDate'],\n",
    ")\n",
    "# drop all submissions after deadlines\n",
    "tbl_submissions = tbl_submissions[~tbl_submissions['IsAfterDeadline']]\n",
    "tbl_submissions.drop('IsAfterDeadline', axis=1, inplace=True)\n",
    "# rename long name\n",
    "tbl_submissions.rename(columns={\n",
    "\t'PublicScoreLeaderboardDisplay': 'PublicScore',\n",
    "\t'PrivateScoreFullPrecision': 'PrivateScore'\n",
    "}, inplace=True)\n",
    "# drop duplicated\n",
    "## One team can submit only once at a time point\n",
    "tbl_submissions = tbl_submissions.drop_duplicates(subset=['SubmissionDate', 'TeamId'])"
   ]
  },
  {
   "cell_type": "code",
   "execution_count": 4,
   "id": "10946a10",
   "metadata": {},
   "outputs": [],
   "source": [
    "# Mapping: Teams\n",
    "# - CompetitionId\n",
    "map_teams_competitions = table_filter( \\\n",
    "\t'Teams', rawdata_path,\n",
    "\tfields = ['Id', 'CompetitionId'],\n",
    "\tfields_index = ['Id'],\n",
    ")"
   ]
  },
  {
   "cell_type": "code",
   "execution_count": 5,
   "id": "23d340e9",
   "metadata": {},
   "outputs": [
    {
     "data": {
      "text/plain": [
       "Id                         int64\n",
       "TeamId                     int64\n",
       "SubmissionDate    datetime64[ns]\n",
       "PublicScore              float64\n",
       "PrivateScore             float64\n",
       "CompetitionId              int64\n",
       "dtype: object"
      ]
     },
     "execution_count": 5,
     "metadata": {},
     "output_type": "execute_result"
    }
   ],
   "source": [
    "# Merge `Submissions` and `TeamsCompetition`\n",
    "tbl_submissions = pd.merge(tbl_submissions, map_teams_competitions,\n",
    "\thow = 'left', left_on = 'TeamId', right_on = 'Id', sort = False,\n",
    "\tsuffixes=('', '_Team'))\n",
    "tbl_submissions.drop(columns='Id_Team', inplace=True)\n",
    "tbl_submissions.dtypes"
   ]
  },
  {
   "cell_type": "code",
   "execution_count": 6,
   "id": "701b03cf",
   "metadata": {},
   "outputs": [
    {
     "data": {
      "text/plain": [
       "9446"
      ]
     },
     "execution_count": 6,
     "metadata": {},
     "output_type": "execute_result"
    }
   ],
   "source": [
    "# Create Table of Contests\n",
    "tbl_contests = table_filter( \\\n",
    "\t'Competitions', rawdata_path,\n",
    "\tfields=['Id',\n",
    "\t\t'EnabledDate', 'DeadlineDate', 'ProhibitNewEntrantsDeadlineDate',\n",
    "\t\t'TeamMergerDeadlineDate', 'TeamModelDeadlineDate', 'TeamModelDeadlineDate',\n",
    "\t\t'ModelSubmissionDeadlineDate',\n",
    "\t\t'HasLeaderboard', 'LeaderboardPercentage', 'MaxDailySubmissions',\n",
    "\t\t'RewardType', 'RewardQuantity', 'NumPrizes',\n",
    "\t\t'FinalLeaderboardHasBeenVerified', 'EvaluationAlgorithmName', 'Overview', 'Rules'\n",
    "\t],\n",
    "\tfields_datetime=[\n",
    "\t\t'EnabledDate', 'DeadlineDate', 'ProhibitNewEntrantsDeadlineDate',\n",
    "\t\t'TeamMergerDeadlineDate', 'TeamModelDeadlineDate', 'TeamModelDeadlineDate',\n",
    "\t\t'ModelSubmissionDeadlineDate'\n",
    "\t],\n",
    "\tfields_index=['Id'],\n",
    ")\n",
    "len(tbl_contests)"
   ]
  },
  {
   "cell_type": "code",
   "execution_count": 7,
   "id": "b21cdd0b",
   "metadata": {},
   "outputs": [],
   "source": [
    "# Split contests with prize type\n",
    "lst_contest_Usd = tbl_contests.loc[tbl_contests['RewardType']=='USD']['Id']\n",
    "lst_contest_Knowledge = tbl_contests.loc[tbl_contests['RewardType']=='Knowledge']['Id']\n",
    "lst_contest_Swag = tbl_contests.loc[tbl_contests['RewardType']=='Swag']['Id']\n",
    "lst_contest_Kudos = tbl_contests.loc[tbl_contests['RewardType']=='Kudos']['Id']\n",
    "lst_contest_EUR = tbl_contests.loc[tbl_contests['RewardType']=='EUR']['Id']\n",
    "\n",
    "# Split contests with prize number\n",
    "lst_contest_1_prize = tbl_contests.loc[tbl_contests['NumPrizes']==1]['Id']\n",
    "lst_contest_2_prize = tbl_contests.loc[tbl_contests['NumPrizes']==2]['Id']\n",
    "lst_contest_3_prize = tbl_contests.loc[tbl_contests['NumPrizes']==3]['Id']\n",
    "lst_contest_4_prize = tbl_contests.loc[tbl_contests['NumPrizes']==4]['Id']\n",
    "lst_contest_5_prize = tbl_contests.loc[tbl_contests['NumPrizes']==5]['Id']\n",
    "lst_contest_6_prize = tbl_contests.loc[tbl_contests['NumPrizes']==6]['Id']\n",
    "lst_contest_7_prize = tbl_contests.loc[tbl_contests['NumPrizes']==7]['Id']\n",
    "lst_contest_8_prize = tbl_contests.loc[tbl_contests['NumPrizes']==8]['Id']\n",
    "lst_contest_9_prize = tbl_contests.loc[tbl_contests['NumPrizes']==9]['Id']"
   ]
  },
  {
   "cell_type": "code",
   "execution_count": 8,
   "id": "7f436cde",
   "metadata": {},
   "outputs": [],
   "source": [
    "def save_to_device(\n",
    "\t\tcontest_id: int,\n",
    "\t\tleaderboard_type: Leaderboard_Type,\n",
    "\t\tprize: float | None = None\n",
    "):\n",
    "\tdeadline, total_prize, max_daily_submit, percentage = \\\n",
    "\t\t\tcontest_basic_setting(tbl_contests, contest_id)\n",
    "\tif prize is None:\n",
    "\t\tprize = total_prize\n",
    "\tassert prize is not None\n",
    "\tplayers = \\\n",
    "\t\t\tselect_2_strongest(tbl_submissions, contest_id, deadline, leaderboard_type)\n",
    "\tif players is None:\n",
    "\t\tprint(f'Warning: cannot find 2 players in contest {contest_id}')\n",
    "\t\treturn\n",
    "\telse:\n",
    "\t\tplayer_i, player_j = players\n",
    "\tsave_contest_data( \\\n",
    "\t\ttbl_submissions, contest_id, player_i, player_j,\n",
    "\t\tdeadline, prize, max_daily_submit, percentage, leaderboard_type)"
   ]
  },
  {
   "cell_type": "markdown",
   "id": "d703ea32",
   "metadata": {},
   "source": [
    "### 1. Select contest providing 1 single USD prize"
   ]
  },
  {
   "cell_type": "code",
   "execution_count": 9,
   "id": "1282efe0",
   "metadata": {},
   "outputs": [
    {
     "name": "stdout",
     "output_type": "stream",
     "text": [
      "Warning: cannot find 2 players in contest 2435; not sufficient submissions\n",
      "Warning: cannot find 2 players in contest 2467; not sufficient submissions\n"
     ]
    }
   ],
   "source": [
    "list_percentage_leaderboard = [\n",
    "\t2435, 2445, 2454, 2464, 2467, 2478, 2549, 2762, 2860, 3507, 3526, 3928, 4493,\n",
    "]\n",
    "for contest_id in list_percentage_leaderboard:\n",
    "\tsave_to_device(contest_id, 'Percentage_Small')"
   ]
  },
  {
   "cell_type": "markdown",
   "id": "0fb9dcc5",
   "metadata": {},
   "source": [
    "### 2. For those Contests with 2 Prizes"
   ]
  },
  {
   "cell_type": "code",
   "execution_count": 10,
   "id": "1a446c9e",
   "metadata": {},
   "outputs": [],
   "source": [
    "contest_2prize_gap = {\n",
    "\t2489: 100,\n",
    "\t2499: 2000,\n",
    "\t3023: 4500,\n",
    "\t3353: 6000,\n",
    "\t3366: 200,\n",
    "\t3471: 200,\n",
    "\t3477: 200,\n",
    "\t3509: 200,\n",
    "\t4066: 5000\n",
    "}"
   ]
  },
  {
   "cell_type": "code",
   "execution_count": 11,
   "id": "983ae405",
   "metadata": {},
   "outputs": [],
   "source": [
    "list_percentage_leaderboard = [\n",
    "\t2489, 3353, 3366, 3509,\n",
    "]\n",
    "for contest_id in list_percentage_leaderboard:\n",
    "\tsave_to_device(contest_id, 'Percentage_Small')"
   ]
  },
  {
   "cell_type": "markdown",
   "id": "55c76809",
   "metadata": {},
   "source": [
    "### 3. For those Contests with 3  Prizes"
   ]
  },
  {
   "cell_type": "code",
   "execution_count": null,
   "id": "a2c0cbbf",
   "metadata": {},
   "outputs": [],
   "source": [
    "contest_3prize_gap = {\n",
    "\t2509: 3000,  # normal\n",
    "\t2518: 3000,  # normal\n",
    "\t2551: 1500,  # small\n",
    "\t2602: 2000,\n",
    "\t2606: 1500,\n",
    "\t2609: 1000,\n",
    "\t2667: 30000,  # small\n",
    "\t2732: 5000,\n",
    "\t2748: 3000,  # normal\n",
    "\t2749: 3000,  # small\n",
    "\t2780: 4000,\n",
    "\t2840: 10000,\n",
    "\t2888: 2000,\n",
    "\t2917: 3000,  # normal\n",
    "\t2969: 6500,\n",
    "\t2975: 12000,  # normal\n",
    "\t2984: 5000,  # normal\n",
    "\t3043: 5000,\n",
    "\t3046: 5000,  # normal\n",
    "\t3064: 200,  # small\n",
    "\t3080: 90,  # small\n",
    "\t3084: 7000,\n",
    "\t3175: 6000,\n",
    "\t3288: 1000,  # small\n",
    "\t3316: 4000,\n",
    "\t3338: 1500,  # small\n",
    "\t3342: 1000,\n",
    "\t3354: 200,\n",
    "\t3517: 100,  # small\n",
    "\t3599: 1000,\n",
    "\t3641: 1500,  # small\n",
    "\t3756: 2000,\n",
    "\t3772: 2500,\n",
    "\t3774: 500,  # small\n",
    "\t3800: 3000,  # small\n",
    "\t3887: 3000,  # normal\n",
    "\t3926: 300,   # small\n",
    "\t3929: 8000,  # small\n",
    "\t3934: 6000,\n",
    "\t3951: 4000,  # normal\n",
    "\t3960: 8000,  # small\n",
    "\t3966: 3000,\n",
    "\t3978: 55000,\n",
    "\t4031: 5000,  # small\n",
    "\t4043: 200,  # small\n",
    "\t4104: 20000,  # small\n",
    "\t4117: 9000,\n",
    "\t4120: 7000,\n",
    "\t4272: 5000,\n",
    "\t4280: 2000,\n",
    "\t4366: 8000,  # small\n",
    "\t4407: 4000,  # small\n",
    "\t4438: 4000,\n",
    "\t4453: 2000,  # small\n",
    "\t4467: 5000,\n",
    "\t4471: 4000,  # normal\n",
    "\t4477: 2000,  # small\n",
    "\t4481: 15000,  # normal\n",
    "\t4488: 2000,  # small\n",
    "\t4521: 2000,\n",
    "\t4571: 30000,\n",
    "\t4594: 5000,\n",
    "\t4657: 4000,  # small\n",
    "\t4699: 5000,  # small\n",
    "\t4729: 75000,\n",
    "\t4852: 5000,\n",
    "\t4853: 8000,\n",
    "\t4986: 10000,  # small\n",
    "\t5048: 10000,\n",
    "\t5056: 5000,  # small\n",
    "\t5144: 20000,  # small\n",
    "\t5174: 3000,  # small\n",
    "\t5229: 15000,  # small\n",
    "\t5260: 4000,\n",
    "\t5261: 10000,  # small\n",
    "\t5340: 5000,\n",
    "\t5357: 5000,  # small\n",
    "\t5390: 4000,  # small\n",
    "\t5497: 4000,  # small\n",
    "\t5558: 10000,\n",
    "\t5916: 20000,  # normal\n",
    "\t6116: 4000,\n",
    "\t6243: 30000,\n",
    "\t6277: 4000,\n",
    "\t6322: 10000,  # small\n",
    "\t6392: 4000,\n",
    "\t6565: 4000,\n",
    "\t6644: 4000,  # normal\n",
    "\t6768: 4000,\n",
    "\t6841: 7000,\n",
    "\t6927: 4000,  # small\n",
    "\t7042: 4000,\n",
    "\t7043: 4000,\n",
    "\t7082: 4000,  # normal\n",
    "\t7115: 4000,  # small\n",
    "\t7162: 1000,  # small\n",
    "\t7163: 1000,\n",
    "\t7277: 4000,\n",
    "\t7380: 10000,\n",
    "\t7391: 5000,\n",
    "\t7456: 500,\n",
    "\t7559: 30000,\n",
    "\t7634: 2000,  # small\n",
    "\t7878: 4000,  # small\n",
    "\t8076: 6000,  # small\n",
    "\t8078: 4000,  # small\n",
    "\t8219: 400,   # small\n",
    "\t8220: 400,\n",
    "\t8310: 10000,\n",
    "\t8311: 10000,\n",
    "\t8396: 500,  # small\n",
    "\t8540: 5000,  # small\n",
    "\t8586: 4000,\n",
    "\t8899: 400,\n",
    "\t9120: 10000,  # small\n",
    "\t9949: 5000,  # small\n",
    "\t9951: 3000,\n",
    "\t9988: 10000,\n",
    "\t9993: 4000,\n",
    "\t10038: 3000,\n",
    "\t10200: 4000,  # small\n",
    "\t10384: 4000,\n",
    "\t10684: 4000,  # small\n",
    "\t10700: 1000,\n",
    "\t10733: 2000,\n",
    "\t10737: 4000,\n",
    "\t11836: 4000,\n",
    "\t12797: 4000,\n",
    "\t12863: 4000,\n",
    "\t13333: 2000,  # small\n",
    "\t14239: 1000,\n",
    "\t14242: 3000,  # small\n",
    "\t14420: 20000,  # small\n",
    "\t14897: 3000,\n",
    "\t15696: 35000,\n",
    "\t15768: 4000,\n",
    "\t16245: 4000,\n",
    "\t16295: 2000,\n",
    "\t17233: 2000,\n",
    "\t18045: 4000,  # small\n",
    "\t18329: 1000,\n",
    "\t18647: 4000,\n",
    "\t19018: 8000,  # small\n",
    "\t19231: 4000,\n",
    "\t19233: 4000,\n",
    "\t19596: 4000,\n",
    "\t19989: 4000,\n",
    "\t19991: 4000,  # small\n",
    "\t20270: 4000,  # small\n",
    "\t20604: 15000,\n",
    "\t21669: 1000,  # small\n",
    "\t21723: 1000,  # normal\n",
    "\t22111: 4000,\n",
    "\t22422: 10000,\n",
    "\t22559: 2000,\n",
    "\t22962: 4000,  # small\n",
    "\t23249: 1000,  # small\n",
    "\t23652: 1000,  # small\n",
    "\t23823: 4000,\n",
    "\t24286: 5000,\n",
    "\t24800: 6000,\n",
    "\t25383: 4000,\n",
    "\t25954: 1000,\n",
    "\t26933: 2000,\n",
    "\t27783: 3000,\n",
    "\t27923: 4000,\n",
    "\t29594: 100,\n",
    "\t33246: 1000,\n",
    "\t37077: 4000,  # small\n",
    "\t37190: 4000,\n",
    "\t37244: 4000,\n",
    "\t37333: 2000,\n",
    "\t38128: 8000,  # small\n",
    "\t38257: 6000,\n",
    "\t38760: 5000,  # small\n",
    "\t59291: 5000,\n",
    "}"
   ]
  },
  {
   "cell_type": "code",
   "execution_count": null,
   "id": "3831c804",
   "metadata": {},
   "outputs": [
    {
     "name": "stdout",
     "output_type": "stream",
     "text": [
      "Warning: cannot find 2 players in contest 3517; not sufficient submissions\n"
     ]
    }
   ],
   "source": [
    "list_percentage_leaderboard = [\n",
    "\t2551, 2667, 2749, 3064, 3080, 3288, 3338, 3517, 3641, 3774, 3800, 3926, 3929,\n",
    "\t3960, 4031, 4043, 4104, 4366, 4407, 4453, 4477, 4488, 4657, 4699, 4986, 5056,\n",
    "\t5144, 5174, 5229, 5261, 5357, 5390, 5497, 6322, 6927, 7115, 7162, 7634, 7878,\n",
    "\t8076, 8078, 8219, 8396, 8540, 9120, 9949, 10200, 10684, 13333, 14242, 14420,\n",
    "\t18045, 19018, 19991, 20270, 21669, 22962, 23249, 23652, 37077, 38128, 38760,\n",
    "]\n",
    "for contest_id in list_percentage_leaderboard:\n",
    "\tsave_to_device(contest_id, 'Percentage_Small', prize=contest_3prize_gap[contest_id])"
   ]
  }
 ],
 "metadata": {
  "kernelspec": {
   "display_name": ".venv",
   "language": "python",
   "name": "python3"
  },
  "language_info": {
   "codemirror_mode": {
    "name": "ipython",
    "version": 3
   },
   "file_extension": ".py",
   "mimetype": "text/x-python",
   "name": "python",
   "nbconvert_exporter": "python",
   "pygments_lexer": "ipython3",
   "version": "3.13.3"
  }
 },
 "nbformat": 4,
 "nbformat_minor": 5
}
