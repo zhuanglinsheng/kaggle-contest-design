{
 "cells": [
  {
   "cell_type": "markdown",
   "id": "7715078b",
   "metadata": {},
   "source": [
    "# Explore `meta-kaggle` Dataset"
   ]
  },
  {
   "cell_type": "markdown",
   "id": "5cc27de2",
   "metadata": {},
   "source": [
    "## ---- Capacities"
   ]
  },
  {
   "cell_type": "markdown",
   "id": "c133ae06",
   "metadata": {},
   "source": [
    "Pre-requisites: \n",
    "\n",
    "1. Install Python package `kaggle`\n",
    "2. [Create token](https://www.kaggle.com/docs/api) and \n",
    "3. Put the `kaggle.json` file to the `.kaggle` folder of your home directory\n",
    "4. Download dataset `meta-kaggle` if haven't yet, by excuting: \n",
    "   ```python\n",
    "   import api\n",
    "   api.download_rawdata(rawdata_path)\n",
    "   ```"
   ]
  },
  {
   "cell_type": "code",
   "execution_count": 1,
   "id": "f47fe1fd",
   "metadata": {},
   "outputs": [],
   "source": [
    "# std library\n",
    "import os\n",
    "import json\n",
    "from datetime import datetime, timedelta\n",
    "from pprint import pprint\n",
    "\n",
    "# third-party\n",
    "import pandas as pd\n",
    "import numpy as np\n",
    "from matplotlib import pyplot as plt\n",
    "\n",
    "# local\n",
    "from datafilter import table_filter, table_header\n",
    "from leaderboard import Leaderboard"
   ]
  },
  {
   "cell_type": "code",
   "execution_count": 2,
   "id": "8da50f50",
   "metadata": {},
   "outputs": [],
   "source": [
    "rawdata_path = os.path.abspath('./__rawdata__')"
   ]
  },
  {
   "cell_type": "markdown",
   "id": "8c9829a8",
   "metadata": {},
   "source": [
    "### 1. Mapping"
   ]
  },
  {
   "cell_type": "code",
   "execution_count": null,
   "id": "260aac02",
   "metadata": {},
   "outputs": [],
   "source": [
    "def capacity_of_team(teamId: int):\n",
    "\tpass\n"
   ]
  },
  {
   "cell_type": "code",
   "execution_count": 4,
   "id": "e6dcc16c",
   "metadata": {},
   "outputs": [
    {
     "data": {
      "text/plain": [
       "{'Id': ['16458'], 'TeamId': ['518'], 'UserId': ['635'], 'RequestDate': ['']}"
      ]
     },
     "execution_count": 4,
     "metadata": {},
     "output_type": "execute_result"
    }
   ],
   "source": [
    "table_header('TeamMemberships', rawdata_path)"
   ]
  },
  {
   "cell_type": "code",
   "execution_count": 3,
   "id": "46f2e17a",
   "metadata": {},
   "outputs": [
    {
     "data": {
      "text/plain": [
       "{'Id': ['1'],\n",
       " 'UserName': ['kaggleteam'],\n",
       " 'DisplayName': ['Kaggle Team'],\n",
       " 'RegisterDate': ['03/24/2011'],\n",
       " 'PerformanceTier': ['5'],\n",
       " 'Country': [''],\n",
       " 'LocationSharingOptOut': ['False']}"
      ]
     },
     "execution_count": 3,
     "metadata": {},
     "output_type": "execute_result"
    }
   ],
   "source": [
    "table_header('Users', rawdata_path)"
   ]
  },
  {
   "cell_type": "code",
   "execution_count": 5,
   "id": "a126625a",
   "metadata": {},
   "outputs": [
    {
     "data": {
      "text/plain": [
       "{'Id': ['996246'],\n",
       " 'UserId': ['9590323'],\n",
       " 'FollowingUserId': ['1185728'],\n",
       " 'CreationDate': ['02/08/2022']}"
      ]
     },
     "execution_count": 5,
     "metadata": {},
     "output_type": "execute_result"
    }
   ],
   "source": [
    "table_header('UserFollowers', rawdata_path)"
   ]
  },
  {
   "cell_type": "code",
   "execution_count": 6,
   "id": "46edeb6e",
   "metadata": {},
   "outputs": [
    {
     "data": {
      "text/plain": [
       "{'Id': ['3739823'],\n",
       " 'UserId': ['368'],\n",
       " 'AchievementType': ['Competitions'],\n",
       " 'Tier': ['1'],\n",
       " 'TierAchievementDate': ['07/15/2016'],\n",
       " 'Points': ['30'],\n",
       " 'CurrentRanking': [''],\n",
       " 'HighestRanking': ['75'],\n",
       " 'TotalGold': ['0'],\n",
       " 'TotalSilver': ['0'],\n",
       " 'TotalBronze': ['0']}"
      ]
     },
     "execution_count": 6,
     "metadata": {},
     "output_type": "execute_result"
    }
   ],
   "source": [
    "table_header('UserAchievements', rawdata_path)"
   ]
  }
 ],
 "metadata": {
  "kernelspec": {
   "display_name": ".venv",
   "language": "python",
   "name": "python3"
  },
  "language_info": {
   "codemirror_mode": {
    "name": "ipython",
    "version": 3
   },
   "file_extension": ".py",
   "mimetype": "text/x-python",
   "name": "python",
   "nbconvert_exporter": "python",
   "pygments_lexer": "ipython3",
   "version": "3.13.2"
  }
 },
 "nbformat": 4,
 "nbformat_minor": 5
}
