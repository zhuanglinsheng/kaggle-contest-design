{
 "cells": [
  {
   "cell_type": "markdown",
   "id": "048e6c3e",
   "metadata": {},
   "source": [
    "# Explore `meta-kaggle` Dataset"
   ]
  },
  {
   "cell_type": "markdown",
   "id": "f3136aec",
   "metadata": {},
   "source": [
    "## --- Submissions"
   ]
  },
  {
   "cell_type": "markdown",
   "id": "08eeebe3",
   "metadata": {},
   "source": [
    "Pre-requisites: \n",
    "\n",
    "1. Install Python package `kaggle`\n",
    "2. [Create token](https://www.kaggle.com/docs/api) and \n",
    "3. Put the `kaggle.json` file to the `.kaggle` folder of your home directory\n",
    "4. Download dataset `meta-kaggle` if haven't yet, by excuting: \n",
    "   ```python\n",
    "   import api\n",
    "   api.download_rawdata(rawdata_path)\n",
    "   ```"
   ]
  },
  {
   "cell_type": "code",
   "execution_count": 1,
   "id": "76d0f266",
   "metadata": {},
   "outputs": [],
   "source": [
    "# std library\n",
    "import os\n",
    "from datetime import datetime\n",
    "from pprint import pprint\n",
    "from typing import Literal\n",
    "\n",
    "# third-party\n",
    "import pandas as pd\n",
    "from IPython.display import HTML, display\n",
    "\n",
    "# local\n",
    "from datafilter import table_filter, table_header\n",
    "from _data_clean import contest_basic_setting, \\\n",
    "\tcontest_basic_submission_info, leaderboard_fulfill, \\\n",
    "\tselect_2_strongest, save_contest_data, Leaderboard_Type"
   ]
  },
  {
   "cell_type": "code",
   "execution_count": 2,
   "id": "457a7f2d",
   "metadata": {},
   "outputs": [],
   "source": [
    "rawdata_path = os.path.abspath('./__rawdata__')"
   ]
  },
  {
   "cell_type": "code",
   "execution_count": null,
   "id": "eea17a49",
   "metadata": {},
   "outputs": [],
   "source": []
  },
  {
   "cell_type": "markdown",
   "id": "88b86395",
   "metadata": {},
   "source": [
    "### 1. Mapping Datasets"
   ]
  },
  {
   "cell_type": "markdown",
   "id": "15309878",
   "metadata": {},
   "source": [
    "Create a dataset of submissions, containing the following fields:\n",
    "- Id \n",
    "- TeamId \n",
    "- CompetitionId \n",
    "- SubmissionDate\n",
    "- PublicScore\n",
    "- PrivateScore"
   ]
  },
  {
   "cell_type": "code",
   "execution_count": 3,
   "id": "e9ddc353",
   "metadata": {},
   "outputs": [],
   "source": [
    "# Submissions\n",
    "# - TeamId\n",
    "# - SubmissionDate\n",
    "tbl_submissions = table_filter( \\\n",
    "\t'Submissions', rawdata_path,\n",
    "\tfields = ['Id', 'TeamId', 'SubmissionDate', 'IsAfterDeadline',\n",
    "\t\t'PublicScoreLeaderboardDisplay', 'PrivateScoreFullPrecision'],\n",
    "\tfields_index = ['Id'],\n",
    "\tfields_datetime = ['SubmissionDate'],\n",
    ")\n",
    "# drop all submissions after deadlines\n",
    "tbl_submissions = tbl_submissions[~tbl_submissions['IsAfterDeadline']]\n",
    "tbl_submissions.drop('IsAfterDeadline', axis=1, inplace=True)\n",
    "# rename long name\n",
    "tbl_submissions.rename(columns={\n",
    "\t'PublicScoreLeaderboardDisplay': 'PublicScore',\n",
    "\t'PrivateScoreFullPrecision': 'PrivateScore'\n",
    "}, inplace=True)\n",
    "# drop duplicated\n",
    "## One team can submit only once at a time point\n",
    "tbl_submissions = tbl_submissions.drop_duplicates(subset=['SubmissionDate', 'TeamId'])"
   ]
  },
  {
   "cell_type": "code",
   "execution_count": 4,
   "id": "c69a4698",
   "metadata": {},
   "outputs": [],
   "source": [
    "# Mapping: Teams\n",
    "# - CompetitionId\n",
    "map_teams_competitions = table_filter( \\\n",
    "\t'Teams', rawdata_path,\n",
    "\tfields = ['Id', 'CompetitionId'],\n",
    "\tfields_index = ['Id'],\n",
    ")"
   ]
  },
  {
   "cell_type": "code",
   "execution_count": 5,
   "id": "342a432c",
   "metadata": {},
   "outputs": [
    {
     "data": {
      "application/vnd.microsoft.datawrangler.viewer.v0+json": {
       "columns": [
        {
         "name": "index",
         "rawType": "object",
         "type": "string"
        },
        {
         "name": "0",
         "rawType": "object",
         "type": "unknown"
        }
       ],
       "ref": "e922894b-ef32-4c61-b9a5-61f9ddb658d1",
       "rows": [
        [
         "Id",
         "int64"
        ],
        [
         "TeamId",
         "int64"
        ],
        [
         "SubmissionDate",
         "datetime64[ns]"
        ],
        [
         "PublicScore",
         "float64"
        ],
        [
         "PrivateScore",
         "float64"
        ],
        [
         "CompetitionId",
         "int64"
        ]
       ],
       "shape": {
        "columns": 1,
        "rows": 6
       }
      },
      "text/plain": [
       "Id                         int64\n",
       "TeamId                     int64\n",
       "SubmissionDate    datetime64[ns]\n",
       "PublicScore              float64\n",
       "PrivateScore             float64\n",
       "CompetitionId              int64\n",
       "dtype: object"
      ]
     },
     "execution_count": 5,
     "metadata": {},
     "output_type": "execute_result"
    }
   ],
   "source": [
    "# Merge `Submissions` and `TeamsCompetition`\n",
    "tbl_submissions = pd.merge(tbl_submissions, map_teams_competitions,\n",
    "\thow = 'left', left_on = 'TeamId', right_on = 'Id', sort = False,\n",
    "\tsuffixes=('', '_Team'))\n",
    "tbl_submissions.drop(columns='Id_Team', inplace=True)\n",
    "tbl_submissions.dtypes"
   ]
  },
  {
   "cell_type": "code",
   "execution_count": 6,
   "id": "f17f659c",
   "metadata": {},
   "outputs": [
    {
     "data": {
      "text/plain": [
       "{'Id': ['2408'],\n",
       " 'Slug': ['Eurovision2010'],\n",
       " 'Title': ['Forecast Eurovision Voting'],\n",
       " 'Subtitle': [\"This competition requires contestants to forecast the voting for this year's Eurovision Song Contest in Norway on May 25th, 27th and 29th.\"],\n",
       " 'HostSegmentTitle': ['Featured'],\n",
       " 'ForumId': ['2'],\n",
       " 'OrganizationId': [''],\n",
       " 'EnabledDate': ['04/07/2010 07:57:43'],\n",
       " 'DeadlineDate': ['05/25/2010 18:00:00'],\n",
       " 'ProhibitNewEntrantsDeadlineDate': [''],\n",
       " 'TeamMergerDeadlineDate': [''],\n",
       " 'TeamModelDeadlineDate': [''],\n",
       " 'ModelSubmissionDeadlineDate': [''],\n",
       " 'FinalLeaderboardHasBeenVerified': ['True'],\n",
       " 'HasKernels': ['True'],\n",
       " 'OnlyAllowKernelSubmissions': ['False'],\n",
       " 'HasLeaderboard': ['False'],\n",
       " 'LeaderboardPercentage': ['10'],\n",
       " 'ScoreTruncationNumDecimals': ['5'],\n",
       " 'EvaluationAlgorithmAbbreviation': ['AE'],\n",
       " 'EvaluationAlgorithmName': ['Absolute Error'],\n",
       " 'EvaluationAlgorithmDescription': ['Sum of absolute values of all errors.'],\n",
       " 'EvaluationAlgorithmIsMax': ['False'],\n",
       " 'MaxDailySubmissions': ['5'],\n",
       " 'NumScoredSubmissions': ['5'],\n",
       " 'MaxTeamSize': ['20'],\n",
       " 'BanTeamMergers': ['False'],\n",
       " 'EnableTeamModels': ['False'],\n",
       " 'RewardType': ['USD'],\n",
       " 'RewardQuantity': ['1000.0000'],\n",
       " 'NumPrizes': ['1'],\n",
       " 'UserRankMultiplier': ['1'],\n",
       " 'CanQualifyTiers': ['False'],\n",
       " 'TotalTeams': ['22'],\n",
       " 'TotalCompetitors': ['25'],\n",
       " 'TotalSubmissions': ['22'],\n",
       " 'LicenseName': ['Subject to Competition Rules'],\n",
       " 'Overview': ['# Background\\n\\nThe Eurovision Song Contest is an annual competition broadcast worldwide which is open to entrants from active members of the European Broadcasting Union (EBU).\\xa0 This is not defined by Europe\\'s geographical bounds; for example Israel and Cyprus compete in the contest.\\xa0 This year\\'s contest is being held in Oslo, Norway.\\xa0 The location is usually the country of the previous year\\'s winner.\\xa0 The number of entrants changes on a yearly basis, due to flux in EBU membership, political shifts such as the dissolution of the Former Soviet Union and Yugoslavia, and desire (or lack thereof) of countries to participate.\\xa0 \\xa0<br /><br />Each country must submit one song to represent it, which must not have been previously commercially released.\\xa0 All songs are, however, made public by a deadline several weeks before the contest, and this year\\'s entrants are all known already with details such as title, language and artist included in the database provided.\\xa0\\xa0 Since 1999 songs may be sung in any language, whereas prior to this point (up to 1998 inclusive) songs had to be sung in one of the entrant country\\'s national languages.<br /><br />Although the voting format has changed over time, the modern positional voting system has been in place since 1975.\\xa0 Voting countries award scores of 1, 2, 3, 4, 5, 6, 7, 8, 10, and 12 to competitors, with 12 allocated to the favourite song.\\xa0 Each score can only be awarded once; ie: each voting country can only allocate scores to 10 countries, with all other countries automatically allocated a score of 0.\\xa0 These scores are then added up to determine a competitor\\'s final score.\\xa0 No country can vote for itself.<br /><br />Although mass televoting has been the primary mode of final voting since its implementation in 1998, each country also has a back-up jury in the event of failure of the televoting system.\\xa0 Some countries also supplement televotes with sms votes.<br /><br />Despite the introduction of semi-finals in 2004, the four same countries - Germany, Spain, United Kingdom and France - automatically qualify for the final each year.\\xa0 This means that they do not compete in the semi-final.\\xa0 Additionally, the host country - this year, Norway - is also exempt from performing in the semi-final, automatically qualifying for the final.\\xa0 However, these five countries do vote in the semi-final, specifically France, Germany and Spain in semi-final 1, and United Kingdom and Norway in semi-final 2 this year. <br />\\n----------------------\\n# Custom\\n\\n<b>Hint 1</b><br />We suggest browsing\\xa0Dr. Tim Cocx\\'s\\xa0\\'Analysis on the Eurovision Songcontest\\' available at <a href=\"http://www.liacs.nl/%7Etcocx/songfestival/indexenglish.html\" mce_href=\"http://www.liacs.nl/~tcocx/songfestival/indexenglish.html\">http://www.liacs.nl/~tcocx/songfestival/indexenglish.html</a>.\\xa0 It contains an interesting document - a \\'Distance matrix\\' - which\\xa0represent an abstract (non-geographic) distance that denotes how many points the countries awarded one another in past contests, where a shorter distance implies higher exchanged scores and a larger distance\\xa0implies\\xa0fewer exchanged points.\\xa0 You may consider it worth utilising or producing your own, up-to-date, version based on a similar concept<br /><br /><b>Hint 2</b><br />One way to approach this competition might be to work out that country A normally allocates country B between 4 and 10 votes (with the precise score depending on the performance\\'s quality). Once you have determined these ranges for all countries, you can use betting market data as a proxy for performance quality. <br /><br /><b>Hint 3</b><br />If you\\'re thinking about augmenting our dataset, you may be want to try and track down data on expatriate populations in each voting country.<br />\\n----------------------\\n# Custom\\n\\nThank you to Stephanie Wayne for putting this competition together.<br /><br />We would also like to thank Betfair Pty Ltd for supplying\\xa0betting prices\\xa0data\\n----------------------\\n# Description\\n\\n<B>The intrigue of Eurovision - the modeller\\'s delight</B><BR /><BR />Since its inauguration in 1956, the Eurovision Song Contest has transfixed millions of viewers worldwide with its bubblegum pop, quirks, ballads and flops.\\xa0 During its tenure as one of the world\\'s longest-running television programs, it has attracted its fair share of controversy, with claims that the voting outcomes don\\'t simply reflect performance quality but are influenced by factors such as regional politics, expatriate populations, alliances, and artists\\' sexual appeal.\\xa0 Patterns have appeared over time which support this hypothesis. <BR /><BR />Contestants will attempt to exploit these patterns in order to predict the voting for the 2010 Eurovision Song Contest. <BR /><BR /><B>Down to the details</B><BR /><BR />We will provide you with publicly-available data on variables we have deemed potentially important, such as historical voting patterns, betting odds, song details and artist details.\\xa0 You are welcome to supplement this with any data you believe will improve the accuracy of your model.<BR /><BR />As the voting method for the Contest has changed over time, we will supply \\'Finals\\' data from 1998 when the current \"televoting\" format was implemented, and \\'semi-finals\\' data from 2004 when semi-finals were introduced.\\xa0 We will detail Eurovision\\'s voting procedures and their minor changes/exceptions pertinent to the provided data in the \\'Data\\' page of this competition. <BR /><BR />Your entry will involve submitting a matrix of the individual votes of each voting country for the competitor countries. <BR /><BR /><B>What is your incentive to enter?</B><BR /><BR />There will be a cash prize of USD1000 for the contestant who produces the most accurate predictions. And just as the Contest has launched the high-flying careers of its own performers - notably ABBA and Céline Dion - creating a strong model for this competition will land you a top ranking as a modeler on the Kaggle website.\\n----------------------\\n# Evaluation\\n\\n<P>Evaluation will be performed using the \\'Absolute Error\\' method.\\xa0A submission\\'s absolute error is calculated by summing the absolute difference between predicted and actual votes.\\xa0 A low score implies a small deviation of predicted votes from actual votes; a higher score implies a larger difference between predicted votes and actual votes.\\xa0\\xa0The most accurate prediction has the lowest Absolute Error score.\\xa0 <BR /><BR />Here is an example of how \\'Absolute Error\\' evaluation works:<BR /><BR />Predicted voting (submitted by contestant X)<BR />\\xa0\\xa0\\xa0\\xa0\\xa0\\xa0\\xa0\\xa0\\xa0\\xa0\\xa0\\xa0\\xa0\\xa0\\xa0\\xa0\\xa0\\xa0\\xa0France\\xa0\\xa0\\xa0\\xa0\\xa0\\xa0Moldova \\xa0\\xa0\\xa0 Norway<BR />France\\xa0\\xa0\\xa0\\xa0\\xa0\\xa0\\xa0\\xa0\\xa00\\xa0\\xa0\\xa0\\xa0\\xa0\\xa0\\xa0\\xa0\\xa0\\xa0\\xa0\\xa0\\xa0 1\\xa0\\xa0\\xa0\\xa0\\xa0\\xa0\\xa0\\xa0\\xa0\\xa0\\xa0\\xa0\\xa0\\xa0\\xa01<BR />Moldova \\xa0\\xa0\\xa0\\xa0\\xa0 2\\xa0\\xa0\\xa0\\xa0\\xa0\\xa0\\xa0\\xa0\\xa0\\xa0\\xa0\\xa0\\xa0 0\\xa0\\xa0\\xa0\\xa0\\xa0\\xa0\\xa0\\xa0\\xa0\\xa0\\xa0\\xa0\\xa0\\xa0\\xa02<BR />Norway\\xa0\\xa0\\xa0\\xa0\\xa0\\xa0\\xa0 1\\xa0\\xa0\\xa0\\xa0\\xa0\\xa0\\xa0\\xa0\\xa0\\xa0\\xa0\\xa0\\xa0 2\\xa0\\xa0\\xa0\\xa0\\xa0\\xa0\\xa0\\xa0\\xa0\\xa0\\xa0\\xa0\\xa0\\xa0\\xa00</P>\\n<P><BR />Actual voting<BR />\\xa0\\xa0\\xa0\\xa0\\xa0\\xa0\\xa0\\xa0\\xa0\\xa0\\xa0\\xa0\\xa0\\xa0\\xa0\\xa0\\xa0\\xa0\\xa0France\\xa0\\xa0\\xa0\\xa0\\xa0\\xa0Moldova \\xa0\\xa0\\xa0 Norway<BR />France\\xa0\\xa0\\xa0\\xa0\\xa0\\xa0\\xa0\\xa0\\xa00\\xa0\\xa0\\xa0\\xa0\\xa0\\xa0\\xa0\\xa0\\xa0\\xa0\\xa0\\xa0\\xa0\\xa01\\xa0\\xa0\\xa0\\xa0\\xa0\\xa0\\xa0\\xa0\\xa0\\xa0\\xa0\\xa0\\xa0\\xa0\\xa02<BR />Moldova \\xa0\\xa0\\xa0\\xa0\\xa0 1\\xa0\\xa0\\xa0\\xa0\\xa0\\xa0\\xa0\\xa0\\xa0\\xa0\\xa0\\xa0\\xa0\\xa00\\xa0\\xa0\\xa0\\xa0\\xa0\\xa0\\xa0\\xa0\\xa0\\xa0\\xa0\\xa0\\xa0\\xa0\\xa01<BR />Norway\\xa0\\xa0\\xa0\\xa0\\xa0\\xa0\\xa0\\xa02\\xa0\\xa0\\xa0\\xa0\\xa0\\xa0\\xa0\\xa0\\xa0\\xa0\\xa0\\xa0\\xa0\\xa02\\xa0\\xa0\\xa0\\xa0\\xa0\\xa0\\xa0\\xa0\\xa0\\xa0\\xa0\\xa0\\xa0\\xa0\\xa00 </P>\\n<P>Contestant\\xa0X\\'s Absolute Error score,\\xa0working row-by-row, would be calculated as follows:\\xa0<BR />Absolute Error(X) = abs(0-0) + abs(1-1) + abs(2-1) + abs(1-2) + abs(0-0) + abs(1-2) + abs(2-1) + abs(2-2) + abs(0-0)<BR />\\xa0\\xa0\\xa0\\xa0\\xa0\\xa0\\xa0\\xa0\\xa0\\xa0\\xa0\\xa0\\xa0\\xa0\\xa0\\xa0\\xa0\\xa0\\xa0\\xa0\\xa0\\xa0\\xa0\\xa0\\xa0 = 0 + 0 + 1 + 1 + 0 + 1 + 1+ 0 + 0<BR />\\xa0\\xa0\\xa0\\xa0\\xa0\\xa0\\xa0\\xa0\\xa0\\xa0\\xa0\\xa0\\xa0\\xa0\\xa0\\xa0\\xa0\\xa0\\xa0\\xa0\\xa0\\xa0\\xa0\\xa0\\xa0 = 4 </P>\\n----------------------\\n# Prizes\\n\\nThe Eurovision Song Contest 2010 forecasting competition will award a prize of US$1000 to the winning entrant.<br />The prize money will only be awarded once the winner has sent a brief description of the methodology employed to generate his/her submission.\\n----------------------\\n# SubmissionInstructions\\n\\nSubmissions\\xa0must be made using the\\xa0template attached.<br /><br />The countries listed in column one are the competitors in the Eurovision Song Contest 2010 final. The countries listed in row one are the voting countries. Only 25 of these 39 competing (column one) countries will progress from the semi-finals to the final, however each voting country listed in (row one) will vote in the final.\\xa0 <br /><br />Your task effectively involves  two steps:<br />1. Firstly you must predict which 25 countries will make it to the final. Keep in mind that\\xa0Spain, United\\nKingdom, France, Germany and Norway\\xa0are guaranteed final competitors.<br />2. Once you have chosen your 25 finalists you must predict the voting (ie who will vote for who). Make sure you only allocate votes to the 25 countries you predict will make the final. <br /><br />Submissions will only be accepted if each voting country (in row one) has allocated all its votes once to the potential final competitors (in column one), ie:\\xa0the scores of 1, 2, 3, 4, 5, 6, 7, 8, 10, 12 have been allocated exactly once per voting country.<br />Submissions with scores other than 1, 2, 3, 4, 5, 6, 7, 8, 10 or 12 will not be accepted.<br />Submissions will only be accepted if votes are allocated to ≤ 25 countries.\\xa0 Submissions with votes allocated to > 25 countries will not be accepted. Note: all 39 countries vote regardless of whether or not they make the final. <br /><br />Each\\xa0contestant may only enter with one submission. However, a contestant can delete and replace their submission at any time up until the competition\\'s deadline. <br /><br />As exemplified by the example submission, please ensure that there are no blank cells; instead, where no vote is allocated, enter a \\'0\\'.<br /><br />Note: you can open CSV files with Microsoft Excel or OpenOffice for more human-friendly viewing. <br />'],\n",
       " 'Rules': [\"# Competition Rules\\n\\n\\n\\t<!-- Begin Base Rules -->\\n    <h3>One account per participant</h3>\\n    <p>You cannot sign up to Kaggle from multiple accounts and therefore you cannot submit from multiple accounts.</p>\\n    <h3>No private sharing outside teams</h3>\\n    <p>\\n        Privately sharing code or data outside of teams is not permitted.\\n        It's okay to share code if made available to all participants on the forums.\\n    </p>\\n    <h3>Team Mergers</h3>\\n    <p>\\n        Team mergers are allowed and can be performed by the team leader. In order to merge, the combined team must have a total submission count less than or equal to the maximum allowed as of the merge date. The maximum allowed is the number of submissions per day multiplied by the number of days the competition has been running.<br/>\\n    </p>\\n\\n    <h3>Team Limits</h3>\\n    <p>There is no maximum team size.</p>\\n    <h3>Submission Limits</h3>\\n    <p>You may submit a maximum of 5 entries per day.</p>\\n    <p>You may select up to 5 final submissions for judging.</p>\\n    <h3>Competition Timeline</h3>\\n    <p>Start Date: <strong>4/7/2010 7:57 AM UTC</strong></p>\\n    <p>Merger Deadline: <strong>None</strong></p>\\n    <p>Entry Deadline: <strong>None</strong></p>\\n    <p>End Date: <strong>5/25/2010 6:00 PM UTC</strong></p>\\n\\t<!-- End Base Rules -->\\n<b>Who may enter</b><br /><br />Anybody who complies with the rules of the challenge Eurovision Song Contest 2010\\xa0is welcome to participate.\\xa0\\xa0<br />Only the competition organisers and employees of the European Broadcasting Union are excluded from participating.\\xa0 <br />Contestants may\\xa0enter as individuals or as groups, however the subsequent ranking achieved by their model will be allocated to their individual self/group accordingly.\\xa0 <br />All entrants must identify themselves by registering on Kaggle website, however personal data will only be utilised by the competition organisers and Kaggle in order to communicate with participants.\\xa0\\xa0<br /><br /><b>Submission details</b><br /><br />Submissions should be made via the 'Make a Submission' page in order to be ranked.\\xa0\\xa0<br />Each contestant may only enter one submission.\\xa0 <br />If you encounter any\\xa0problems with the submission process, please contact the Kaggle administrator.<br /><br /><b>Evaluation and prize-giving</b><br /><br />The scoring method is detailed on the 'Evaluation' page.\\xa0\\xa0<br />The winner of the Eurovision Song Contest 2010 will only receive the prize money after\\xa0a brief description of\\xa0their methodology has been submitted to the competition host.\\xa0\\xa0<br />We may ask other top-ranking participants to voluntarily fill out a form regarding their modelling\\xa0methods.\"],\n",
       " 'DatasetDescription': ['# Dataset Description\\n\\n<p><b>Data provided<br /></b><br />Historical data for \\'Finals\\' is provided from 1998, when mass televoting was first implemented.\\xa0 <br />Historical data for \\'Semi-finals\\' is provided from 2004, when semi-finals were introduced.\\xa0 Please note that from 2004 to 2007 there was one semi-final; from 2008 onwards there have been two semi-finals.<br /><br />The dataset incorporates\\xa03 sheets.\\xa0 These are provided in a single Microsoft Excel file, or alternatively the identical sheets are\\xa0available in a different format\\xa0as\\xa03 separate\\xa0csv files.<br /><br />The\\xa03 sheets are as follows:<br />1)\\xa0 \\'Final data by year\\'<br />2)\\xa0 \\'Semi-final data by year\\'<br />3)\\xa0 \\'2010 Data\\'<br /><br /><i>Final data by year</i><u><br /></u></p>\\n<p>The data in this sheet can be used to calibrate your model.<br /></p>\\n<p>Column A - Year of competition, from 1998 - 2009<br />Column B - Competitor country<br />Column C - Region of competitor country (nb: please see \\'Region Classifications\\' below)<br />Column D - Language of song entered by competitor country<br />Column E - Name of performing artist<br />Column F - Name of song<br />Column G - Name of song, English translation<br />Column H - Gender of artist (nb: this is designated as \"male\" or \"female\" or \"both\" if a mixed-gender group)<br />Column I - Group or solo performer<br />Column J - Place achieved in final (nb: the # of competitors and thus places has changed on a yearly basis)<br />Column K - Total points received by competing country, an aggregate of votes<br />Column L - Host country<br />Column M - Region of host country (nb: please see \\'Region Classifications\\' below)<br />Column N - Whether the Contest was held in the competitor\\'s own country (\"Home\") or another country (\"Away\")<br />Column O - Whether the Contest was held in the competitor\\'s own region (\"Home\") or another region (\"Away\")<br />Column P - Approximate betting prices (nb: please see \\'Approximate Betting Prices data\\' below)<br />Columns Q-BK - Voting countries and their allocation of scores to competitor countries listed in Column A (nb: these columns contain the list of all countries which have competed in the Eurovision Song Contest Final from 1998-2009, however not every country voted/entered the Contest every year)<br /><br /><i>Semi-final data by year</i><u><br /></u></p>\\n<p><br />The data in this sheet can also be used to calibrate your model.</p>\\n<p>Column A - Year of competition, from\\xa02004 - 2009, and designation as \"SF1\" (semi-final 1) or \"SF2\" (semi-final 2).\\xa0 (nb: for years 2004-2007, there was only one semi-final per year, and these have been designated as \"SF1\")<br />Column B - Competitor country<br />Column C - Region of competitor country (nb: please see \\'Region Classifications\\' below)<br />Column D - Language of song entered by competitor country<br />Column E - Name of performing artist<br />Column F - Name of song<br />Column G - Name of song, English translation<br />Column\\xa0H - Place achieved in final (nb: the # of competitors and thus places has changed on a yearly basis)<br />Column\\xa0I - Total points received by competing country, an aggregate of votes<br />Column\\xa0J - Host country<br />Column\\xa0K - Region of host country (nb: please see \\'Region Classifications\\' below)<br />Column\\xa0L - Whether the Contest was held in the competitor\\'s own country (\"Home\") or another country (\"Away\")<br />Column\\xa0M - Whether the Contest was held in the competitor\\'s own region (\"Home\") or another region (\"Away\")<br />Column\\xa0N - Approximate betting prices (nb: please see \\'Approximate Betting Prices data\\' below)<br />Columns O-BI - Voting countries and their allocation of scores to competitor countries listed in Column A (nb: these columns contain the list of all countries which have competed in the Eurovision Song Contest semi-finals from 2004-2009, however not every country voted/entered the Contest every year)<br /><br /><i>2010 Data</i><u><br /></u></p>\\n<p>The data in this sheet can be used to generate your entry.\\xa0</p>\\n<p>Column A - Year of competition, ie: 2010<br />Column B - Competitor country (nb: this contains list of all 2010 Contest contestants, of which only 25 will compete in the final.\\xa0 Germany, United Kingdom, Spain, France and Norway will definitely compete in the Final)<br />Column C - Region of competitor country (nb: please see \\'Region Classifications\\' below)<br />Column D - Language of song entered by competitor country<br />Column E - Name of performing artist<br />Column F - Name of song<br />Column G - Name of song, English translation<br />Column H - Gender of artist (nb: this is designated as \"male\" or \"female\" or \"both\" if a mixed-gender group)<br />Column I - Group or solo performer<br />Column J - Place achieved in final<br />Column K - Total points received by competing country, an aggregate of votes<br />Column L - Host country<br />Column M - Region of host country (nb: please see \\'Region Classifications\\' below)<br />Column N - Whether the Contest\\xa0is being held in the competitor\\'s own country (\"Home\") or another country (\"Away\") (nb: this will read \"Home\" for Norway and \"Away\" for every other country)<br />Column O - Whether the Contest\\xa0is being\\xa0held in the competitor\\'s own region (\"Home\") or another region (\"Away\") (nb: this will read \"Home\" for Scandinavian countries and \"Away\" for all other countries)<br />Column P - Approximate betting prices (nb: please see \\'Approximate Betting Prices data\\' below)<br /><br /><b>This year\\'s participants<br /><br /></b>39 countries have confirmed their participation in this year\\'s Eurovision Song Contest.\\xa0 <br /><i>Semi-final 1</i> - Moldova, Russia, Estonia, Slovakia, Finland, Latvia, Serbia, Bosnia and Herzegovina, Poland, Belgium, Malta, Albania, Greece, Portugal, Macedonia, Belarus, Iceland<br /><i>Semi-final 2</i> - Lithuania, Armenia, Israel, Denmark, Switzerland, Sweden, Azerbaijan, Ukraine, Netherlands, Romania, Slovenia, Ireland, Bulgaria, Cyprus, Croatia, Georgia, Turkey<br /><i>Straight to final</i> - Spain, Norway, United Kingdom, France, Germany<br /><br /><b>Voting procedure in semi-finals<br /></b><br />Semi-finals were introduced in 2004.\\xa0 There was one semi-final every year from 2004-2007, and two semi-finals per year for 2008 onwards (including this year).\\xa0\\xa0 <br /><br />As explained in the \\'Background\\' sheet, a \\'positional voting\\' system is used, whereby each voting country must allocate scores of 1, 2, 3, 4, 5, 6, 7, 8, 10, and 12 to competitor countries.\\xa0 Only the countries competing in that semi-final vote, the exception being the 5 countries which automatically qualify for the final.\\xa0 In 2008, Germany and Spain voted in semi-final 1; France, United Kingdom and Serbia voted in semi-final 2.\\xa0 In 2009, Germany and United Kingdom voted in semi-final 1; France, Spain and Russia voted in semi-final 2.\\xa0 This year, France, Germany and Spain will vote in semi-final 1; Norway and United Kingdom will vote in semi-final 2.<i><br /><br />Voting procedure for 2004-2007</i> - the top 10 from the previous year\\'s final and this year\\'s semi-final would qualify for this year\\'s final.\\xa0 (eg: in 2004, the final contestants were the top 10 from 2004\\'s semi-final plus the top 10 from 2003\\'s final.)<i><br />Voting procedure for 2008-2009</i> - the top 9 from each semi-final, as determined by televote, would proceed to the final.\\xa0 Additionally, the top country in each semi-final\\xa0as voted by\\xa0the back-up juries, but\\xa0which was not in the top 9 televotes, would also proceed to the final.\\xa0 In total, this meant 9 televotes + 1 jury wild-card per semi-final, ie: 20 final contestants.<br /><i>Voting procedure for 2010</i>\\xa0- replacing the system from the previous 2 years, the top 10 from each semi-final, determined by 50% jury vote and 50% televote, will proceed to the final.<br /><br /><b>Voting procedure in the final<br /><br /></b>As explained in the \\'Background\\' sheet, a \\'positional voting\\' system is used, whereby each voting country must allocate scores of 1, 2, 3, 4, 5, 6, 7, 8, 10, and 12 to competitor countries.\\xa0 All countries involved in the Contest,\\xa0whether knocked out after the semi-finals or competing in the final, must vote.\\xa0 Thus, in this year\\'s final, there will be 25 competing countries, and 39 voting countries.<br /><br /><b>Region classifications<br /><br /></b>We have classified the countries by region as follows:<br /><br /><i>Scandinavia</i> - Denmark, Finland, Iceland, Norway, Sweden<br /><i>Western Europe</i> - Andorra, Austria, Belgium, France, Germany, Greece,\\xa0Italy, Luxembourg, Malta, Monaco, Netherlands, Portugal, San Marino,\\xa0Spain, Switzerland<br /><i>Independent</i> - Cyprus, Ireland, Israel, Turkey, United Kingdom<br /><i>Former Socialist Bloc</i> - Albania, Armenia, Azerbaijan, Belarus, Bulgaria, Czech Republic, Estonia, Georgia, Hungary, Latvia, Lithuania, Moldova, Poland, Romania,\\xa0Russia, Slovakia, Ukraine<br /><i>Former Yugoslavia</i> - Bosnia and Herzegovina, Croatia, Kosovo, Macedonia, Montenegro / Serbia and Montenegro\\xa0/ Serbia, Slovenia<br /><br /><b>Approximate Betting Prices data<br /><br /></b>You will notice that Column P \\'Approximate Betting Prices\\' in the \\'2010 Data\\' sheet has been filled however this data is\\xa0obviously\\xa0constantly changing.\\xa0 For the most up-to-date price data, we\\xa0suggest using the\\xa0following website:<br /><a href=\"http://www.oddschecker.com/specials/tv/eurovision/win-market\" mce_href=\"http://www.oddschecker.com/specials/tv/eurovision/win-market\"><span style=\"color: rgb(0, 0, 0);\" mce_style=\"FONT-FAMILY: ; COLOR: #000000\">http://www.oddschecker.com/specials/tv/eurovision/win-market</span></a><br mce_bogus=\"1\" /><br />The historical \\'Approximate Betting Prices\\' data (Column P and Column N in the \\'Final data by year\\' and \\'Semi-final data by year\\' sheets respectively) is provided by Betfair, and is an average over time of betting prices\\xa0for each competitor country from one particular betting website, Betfair Pty Ltd.\\xa0 In contrast, the above link for oddschecker.com provides spot data which averages betting prices for each competitor country across a range of betting websites.\\xa0\\xa0<br /><br />The \\'Approximate Betting Prices\\' data for semi-finals is the same as for finals.<br /><br /><b>Anomalies by year including exceptions to televoting rule</b><br /><br /><i>1998</i> - Hungary, Ireland, Romania and Turkey used back-up jury vote<br /><i>1999</i> - Lithuania, Turkey, Ireland, and Bosnia and Herzegovina used back-up jury vote<br /><i>2000</i> - Netherlands, Romania, Russia, Macedonia and Turkey used back-up jury vote<br /><i>2001</i> - Bosnia and Herzegovina, Russia and Turkey used\\xa0back-up jury vote; Croatia, Malta and Greece used a 50/50 jury/televote system<br /><i>2002</i> - Russia, Bosnia and Herzegovina, Turkey and Romania used back-up jury vote; Cyprus, Greece, Croatia and Malta used a 50/50 jury/televote system<br /><i>2003</i> - Ireland, Bosnia and Herzegovina and Russia used back-up jury vote<br /><i>2004</i> - Turkey did not hear Slovenia\\'s entry due to technical faults and therefore could not vote for it<br /><i>2005</i> - Monaco, Andorra and Moldova used back-up jury vote in the final.\\xa0 (Andorra, Monaco and Albania used back-up jury vote in the semi-final)<br /><i>2006</i> - Monaco and Albania used back-up jury vote in the final.\\xa0 (Andorra, Monaco and Albania used back-up jury vote in the semi-final)<br /><i>2007</i> - Albania and Andorra used back-up jury vote in the final.\\xa0 (Albania and Andorra used back-up jury vote in the semi-final).\\xa0 This was the first year that Serbia and Montenegro competed as separate entities<br /><i>2008</i> - Germany, Poland and United Kingdom all received a total of 14 points in the final however have been ranked in the provided data as 23rd, 24th and 25th respectively, as Germany received the most 12s, Poland the most 10s, and United Kingdom the fewest 2009 - Norway used back-up\\xa0jury vote and Hungary used sms vote only in the final.\\xa0 (Spain and Albania used back-up jury vote in the semi-final).</p><p>Note: you can open CSV files with Microsoft Excel or OpenOffice for more human-friendly viewing. </p>'],\n",
       " 'TotalCompressedBytes': ['800614'],\n",
       " 'TotalUncompressedBytes': ['400307'],\n",
       " 'ValidationSetName': [''],\n",
       " 'ValidationSetValue': [''],\n",
       " 'EnableSubmissionModelHashes': ['False'],\n",
       " 'EnableSubmissionModelAttachments': ['False'],\n",
       " 'HostName': [''],\n",
       " 'CompetitionTypeId': ['1']}"
      ]
     },
     "execution_count": 6,
     "metadata": {},
     "output_type": "execute_result"
    }
   ],
   "source": [
    "# All fields in `Competitions`\n",
    "table_header('Competitions', rawdata_path)"
   ]
  },
  {
   "cell_type": "code",
   "execution_count": 7,
   "id": "c04e9d5d",
   "metadata": {},
   "outputs": [
    {
     "data": {
      "text/plain": [
       "9442"
      ]
     },
     "execution_count": 7,
     "metadata": {},
     "output_type": "execute_result"
    }
   ],
   "source": [
    "# Create Table of Contests\n",
    "tbl_contests = table_filter( \\\n",
    "\t'Competitions', rawdata_path,\n",
    "\tfields=['Id',\n",
    "\t\t'EnabledDate', 'DeadlineDate', 'ProhibitNewEntrantsDeadlineDate',\n",
    "\t\t'TeamMergerDeadlineDate', 'TeamModelDeadlineDate', 'TeamModelDeadlineDate',\n",
    "\t\t'ModelSubmissionDeadlineDate',\n",
    "\t\t'HasLeaderboard', 'LeaderboardPercentage', 'MaxDailySubmissions',\n",
    "\t\t'RewardType', 'RewardQuantity', 'NumPrizes',\n",
    "\t\t'FinalLeaderboardHasBeenVerified', 'EvaluationAlgorithmName', 'Overview', 'Rules'\n",
    "\t],\n",
    "\tfields_datetime=[\n",
    "\t\t'EnabledDate', 'DeadlineDate', 'ProhibitNewEntrantsDeadlineDate',\n",
    "\t\t'TeamMergerDeadlineDate', 'TeamModelDeadlineDate', 'TeamModelDeadlineDate',\n",
    "\t\t'ModelSubmissionDeadlineDate'\n",
    "\t],\n",
    "\tfields_index=['Id'],\n",
    ")\n",
    "len(tbl_contests)"
   ]
  },
  {
   "cell_type": "code",
   "execution_count": 8,
   "id": "7722c6aa",
   "metadata": {},
   "outputs": [],
   "source": [
    "def save_to_device(\n",
    "\t\tcontest_id: int,\n",
    "\t\tleaderboard_type: Leaderboard_Type,\n",
    "\t\tprize: float | None = None\n",
    "):\n",
    "\tdeadline, total_prize, max_daily_submit, percentage = \\\n",
    "\t\t\tcontest_basic_setting(tbl_contests, contest_id)\n",
    "\tif prize is None:\n",
    "\t\tprize = total_prize\n",
    "\tassert prize is not None\n",
    "\tplayers = \\\n",
    "\t\t\tselect_2_strongest(tbl_submissions, contest_id, deadline, leaderboard_type)\n",
    "\tif players is None:\n",
    "\t\tprint(f'Warning: cannot find 2 players in contest {contest_id}')\n",
    "\t\treturn\n",
    "\telse:\n",
    "\t\tplayer_i, player_j = players\n",
    "\tsave_contest_data( \\\n",
    "\t\ttbl_submissions, contest_id, player_i, player_j,\n",
    "\t\tdeadline, prize, max_daily_submit, percentage, leaderboard_type)"
   ]
  },
  {
   "cell_type": "markdown",
   "id": "edbb01f1",
   "metadata": {},
   "source": [
    "### 2. Splitting Contests by Types"
   ]
  },
  {
   "cell_type": "code",
   "execution_count": 9,
   "id": "e89a1c78",
   "metadata": {},
   "outputs": [
    {
     "name": "stdout",
     "output_type": "stream",
     "text": [
      ">>> Filter 1: How many contests are there having records of submissions from players?\n",
      "5693\n",
      ">>> We only consider these contests\n"
     ]
    }
   ],
   "source": [
    "print('>>> Filter 1: How many contests are there having records of submissions from players?')\n",
    "lst_contests_with_submissions = tbl_submissions['CompetitionId'].unique()\n",
    "print(len(lst_contests_with_submissions))\n",
    "\n",
    "# Filter 1\n",
    "print('>>> We only consider these contests')\n",
    "tbl_contests = tbl_contests[tbl_contests['Id'].isin(lst_contests_with_submissions)]\n",
    "tbl_submissions = tbl_submissions.loc[tbl_submissions['CompetitionId'].isin(tbl_contests['Id'])]"
   ]
  },
  {
   "cell_type": "code",
   "execution_count": 10,
   "id": "7d461d8f",
   "metadata": {},
   "outputs": [
    {
     "name": "stdout",
     "output_type": "stream",
     "text": [
      ">>> Filter 2: In above, how many contests are there having public leaderboard?\n",
      "5693\n",
      ">>> We only consider these contests\n"
     ]
    }
   ],
   "source": [
    "print('>>> Filter 2: In above, how many contests are there having public leaderboard?')\n",
    "lst_contests_with_leaderboard = tbl_contests.loc[tbl_contests['HasLeaderboard']==True]['Id']\n",
    "print(len(lst_contests_with_submissions))\n",
    "\n",
    "# Filter 2\n",
    "print('>>> We only consider these contests')\n",
    "tbl_contests = tbl_contests[tbl_contests['Id'].isin(lst_contests_with_leaderboard)]\n",
    "tbl_submissions = tbl_submissions.loc[tbl_submissions['CompetitionId'].isin(tbl_contests['Id'])]"
   ]
  },
  {
   "cell_type": "code",
   "execution_count": 11,
   "id": "4a97d645",
   "metadata": {},
   "outputs": [
    {
     "name": "stdout",
     "output_type": "stream",
     "text": [
      ">>> Is there never-ending contests?\n",
      "0\n",
      "0\n"
     ]
    }
   ],
   "source": [
    "print('>>> Is there never-ending contests?')\n",
    "forever_date = datetime(2029, 1, 1, 0, 0, 0)\n",
    "print((tbl_contests['DeadlineDate'] > forever_date).sum())\n",
    "print((tbl_contests['DeadlineDate'].isna()).sum())"
   ]
  },
  {
   "cell_type": "code",
   "execution_count": 12,
   "id": "51534011",
   "metadata": {},
   "outputs": [
    {
     "name": "stdout",
     "output_type": "stream",
     "text": [
      ">>> How many reward types are there?\n",
      "RewardType\n",
      "NaN          4777\n",
      "USD           407\n",
      "Knowledge     381\n",
      "Swag           95\n",
      "Jobs           14\n",
      "Kudos          10\n",
      "Prizes          6\n",
      "EUR             1\n",
      "Name: count, dtype: int64\n"
     ]
    }
   ],
   "source": [
    "print('>>> How many reward types are there?')\n",
    "print(tbl_contests['RewardType'].value_counts(dropna=False))"
   ]
  },
  {
   "cell_type": "code",
   "execution_count": 13,
   "id": "2c6dd693",
   "metadata": {},
   "outputs": [
    {
     "name": "stdout",
     "output_type": "stream",
     "text": [
      ">>> List of the number of contests providing multiple prize:\n",
      "NumPrizes\n",
      "1     4721\n",
      "0      498\n",
      "3      292\n",
      "5       82\n",
      "4       28\n",
      "10      18\n",
      "6       16\n",
      "2       11\n",
      "8       10\n",
      "7        9\n",
      "9        4\n",
      "13       1\n",
      "12       1\n",
      "Name: count, dtype: int64\n"
     ]
    }
   ],
   "source": [
    "print('>>> List of the number of contests providing multiple prize:')\n",
    "pprint(tbl_contests['NumPrizes'].value_counts())"
   ]
  },
  {
   "cell_type": "code",
   "execution_count": 14,
   "id": "554a914d",
   "metadata": {},
   "outputs": [],
   "source": [
    "# Split contests with prize type\n",
    "lst_contest_Usd = tbl_contests.loc[tbl_contests['RewardType']=='USD']['Id']\n",
    "lst_contest_Knowledge = tbl_contests.loc[tbl_contests['RewardType']=='Knowledge']['Id']\n",
    "lst_contest_Swag = tbl_contests.loc[tbl_contests['RewardType']=='Swag']['Id']\n",
    "lst_contest_Kudos = tbl_contests.loc[tbl_contests['RewardType']=='Kudos']['Id']\n",
    "lst_contest_EUR = tbl_contests.loc[tbl_contests['RewardType']=='EUR']['Id']\n",
    "\n",
    "# Split contests with prize number\n",
    "lst_contest_1_prize = tbl_contests.loc[tbl_contests['NumPrizes']==1]['Id']\n",
    "lst_contest_2_prize = tbl_contests.loc[tbl_contests['NumPrizes']==2]['Id']\n",
    "lst_contest_3_prize = tbl_contests.loc[tbl_contests['NumPrizes']==3]['Id']\n",
    "lst_contest_4_prize = tbl_contests.loc[tbl_contests['NumPrizes']==4]['Id']\n",
    "lst_contest_5_prize = tbl_contests.loc[tbl_contests['NumPrizes']==5]['Id']\n",
    "lst_contest_6_prize = tbl_contests.loc[tbl_contests['NumPrizes']==6]['Id']\n",
    "lst_contest_7_prize = tbl_contests.loc[tbl_contests['NumPrizes']==7]['Id']\n",
    "lst_contest_8_prize = tbl_contests.loc[tbl_contests['NumPrizes']==8]['Id']\n",
    "lst_contest_9_prize = tbl_contests.loc[tbl_contests['NumPrizes']==9]['Id']"
   ]
  },
  {
   "cell_type": "code",
   "execution_count": 15,
   "id": "ba1a706b",
   "metadata": {},
   "outputs": [
    {
     "name": "stdout",
     "output_type": "stream",
     "text": [
      ">>> In the list of contest with 1 single prize, how many of them has positive reward quantity?\n",
      "84\n",
      "'>>> List their reward types:'\n",
      "RewardType\n",
      "USD          42\n",
      "Knowledge    35\n",
      "Jobs          6\n",
      "Name: count, dtype: int64\n"
     ]
    }
   ],
   "source": [
    "print('>>> In the list of contest with 1 single prize, how many of them has positive reward quantity?')\n",
    "tbl_contest_1_prize = tbl_contests.loc[tbl_contests['Id'].isin(lst_contest_1_prize)]\n",
    "tbl_contest_1_prize_has_reward = tbl_contest_1_prize.loc[tbl_contest_1_prize['RewardQuantity'] > 0]\n",
    "pprint(len(tbl_contest_1_prize_has_reward))\n",
    "\n",
    "pprint('>>> List their reward types:')\n",
    "pprint(tbl_contest_1_prize_has_reward['RewardType'].value_counts())"
   ]
  },
  {
   "cell_type": "code",
   "execution_count": 16,
   "id": "a29b7ed0",
   "metadata": {},
   "outputs": [
    {
     "name": "stdout",
     "output_type": "stream",
     "text": [
      ">>> In the list of contest with 3 prizes, how many of them has positive reward quantity?\n",
      "196\n",
      "'>>> List their reward types:'\n",
      "RewardType\n",
      "USD     194\n",
      "Jobs      1\n",
      "EUR       1\n",
      "Name: count, dtype: int64\n"
     ]
    }
   ],
   "source": [
    "print('>>> In the list of contest with 3 prizes, how many of them has positive reward quantity?')\n",
    "tbl_contest_3_prize = tbl_contests.loc[tbl_contests['Id'].isin(lst_contest_3_prize)]\n",
    "tbl_contest_3_prize_has_reward = tbl_contest_3_prize.loc[tbl_contest_3_prize['RewardQuantity'] > 0]\n",
    "pprint(len(tbl_contest_3_prize_has_reward))\n",
    "\n",
    "pprint('>>> List their reward types:')\n",
    "pprint(tbl_contest_3_prize_has_reward['RewardType'].value_counts())"
   ]
  },
  {
   "cell_type": "code",
   "execution_count": 17,
   "id": "2e78dc46",
   "metadata": {},
   "outputs": [
    {
     "name": "stdout",
     "output_type": "stream",
     "text": [
      ">>> In the list of contest with USD prize, list the reward quantity:\n",
      "NumPrizes\n",
      "3     194\n",
      "5      74\n",
      "1      43\n",
      "4      27\n",
      "6      16\n",
      "10     15\n",
      "2      10\n",
      "8      10\n",
      "7       9\n",
      "9       4\n",
      "0       3\n",
      "13      1\n",
      "12      1\n",
      "Name: count, dtype: int64\n"
     ]
    }
   ],
   "source": [
    "print('>>> In the list of contest with USD prize, list the reward quantity:')\n",
    "tbl_contest_Usd_prize = tbl_contests.loc[tbl_contests['Id'].isin(lst_contest_Usd)]\n",
    "pprint(tbl_contest_Usd_prize['NumPrizes'].value_counts())"
   ]
  },
  {
   "cell_type": "markdown",
   "id": "c566eedb",
   "metadata": {},
   "source": [
    "### 3. Select contest providing 1 single USD prize"
   ]
  },
  {
   "cell_type": "code",
   "execution_count": 18,
   "id": "220bcc66",
   "metadata": {},
   "outputs": [],
   "source": [
    "# select\n",
    "tbl_contest_1_Usd_prize = tbl_contests[tbl_contests['Id'].isin(lst_contest_Usd)]\n",
    "tbl_contest_1_Usd_prize = tbl_contest_1_Usd_prize[tbl_contest_1_Usd_prize['Id'].isin(lst_contest_1_prize)]\n",
    "\n",
    "# filter\n",
    "tbl_contest_1_Usd_prize = tbl_contest_1_Usd_prize.loc[tbl_contest_1_Usd_prize['RewardQuantity'] > 0]\n",
    "lst_contest_1_Usd_prize = tbl_contest_1_Usd_prize['Id'].values"
   ]
  },
  {
   "cell_type": "code",
   "execution_count": 19,
   "id": "9f71a7e1",
   "metadata": {},
   "outputs": [
    {
     "data": {
      "text/plain": [
       "array([2435, 2445, 2448, 2452, 2454, 2464, 2467, 2478, 2479, 2487, 2488,\n",
       "       2496, 2549, 2589, 2762, 2860, 2895, 2963, 3065, 3294, 3364, 3370,\n",
       "       3377, 3385, 3386, 3469, 3493, 3507, 3521, 3526, 3586, 3706, 3867,\n",
       "       3928, 3973, 3984, 4195, 4378, 4383, 4493, 4495, 4704])"
      ]
     },
     "execution_count": 19,
     "metadata": {},
     "output_type": "execute_result"
    }
   ],
   "source": [
    "lst_contest_1_Usd_prize"
   ]
  },
  {
   "cell_type": "markdown",
   "id": "3cb41a42",
   "metadata": {},
   "source": [
    "Note: \n",
    "Finally, we pick 13 contests......\n",
    "\n",
    "2435 (big), 2445 (small), 2454 (small), 2464 (small), 2467 (normal), 2478 (small),<br>\n",
    "2549 (small), 2762 (small), 2860 (small), 3507 (small), 3526 (small), 3928 (small),<br>\n",
    "4493 (small)\n"
   ]
  },
  {
   "cell_type": "code",
   "execution_count": 20,
   "id": "4b71d189",
   "metadata": {},
   "outputs": [
    {
     "name": "stdout",
     "output_type": "stream",
     "text": [
      ">>> prize = 10000.0\n",
      ">>> percentage = 0 %\n",
      ">>> daily submit (max) = 5\n",
      ">>> deadline = 2013-09-03 00:00:00\n",
      ">>> How many teams are there in this contest?\n",
      "269\n",
      ">>> How many submissions are there in total?\n",
      "1705\n",
      ">>> List the number of submissions for the most active 5 teams:\n",
      "TeamId\n",
      "42604    88\n",
      "38475    84\n",
      "38577    66\n",
      "42593    54\n",
      "40024    47\n",
      "dtype: int64\n"
     ]
    },
    {
     "data": {
      "text/plain": [
       "(datetime.datetime(2013, 9, 2, 23, 42, 27),\n",
       "     rank     score  submit_count  participate_days  last_submit_days_ago\n",
       " 0  52440  0.819605            18                62                     6\n",
       " 1  38148  0.810542             7               157                     6\n",
       " 2  40024  0.810524            47               140                     6\n",
       " 3  47290  0.807197            22                84                     0\n",
       " 4  42593  0.799571            54               117                     6\n",
       " 5  42692  0.787822            12               117                     5\n",
       " 6  38475  0.781332            84               150                     5\n",
       " 7  54707  0.775953            13                27                     6\n",
       " 8  38577  0.770812            66               147                     3\n",
       " 9  42349  0.767801            14               121                     6)"
      ]
     },
     "metadata": {},
     "output_type": "display_data"
    },
    {
     "data": {
      "text/plain": [
       "(datetime.datetime(2013, 9, 2, 23, 42, 27),\n",
       "     rank  score  submit_count  participate_days  last_submit_days_ago\n",
       " 0  52479    1.0             1                 0                     0\n",
       " 1  54190    1.0            19                36                     0\n",
       " 2  55675    1.0             2                14                     0\n",
       " 3  52486    1.0             3                63                     0\n",
       " 4  55031    1.0             2                16                     0\n",
       " 5  47290    1.0            22                84                     0\n",
       " 6  42531    1.0             2                15                     0\n",
       " 7  48841    1.0            15                62                     0\n",
       " 8  53084    1.0             3                54                     0\n",
       " 9  56858    1.0             1                 0                     0)"
      ]
     },
     "metadata": {},
     "output_type": "display_data"
    }
   ],
   "source": [
    "# Contest Info\n",
    "contest_id = 3370\n",
    "\n",
    "# Contest settings\n",
    "deadline, total_prize, max_daily_submit, percentage = contest_basic_setting(tbl_contests, contest_id)\n",
    "print('>>> prize =', total_prize)\n",
    "print('>>> percentage =', percentage, '%')\n",
    "print('>>> daily submit (max) =', max_daily_submit)\n",
    "print('>>> deadline =', deadline)\n",
    "\n",
    "# Display basic info\n",
    "tbl_submissions_specific = contest_basic_submission_info(tbl_submissions, contest_id)\n",
    "\n",
    "# Create leaderboard\n",
    "leaderboard_pub, leaderboard_pri = leaderboard_fulfill(\n",
    "\t\ttbl_submissions_specific, deadline, 'Normal')\n",
    "display(leaderboard_pri.display(-1, 10))\n",
    "display(leaderboard_pub.display(-1, 10))"
   ]
  },
  {
   "cell_type": "code",
   "execution_count": 21,
   "id": "bfdac463",
   "metadata": {},
   "outputs": [
    {
     "name": "stdout",
     "output_type": "stream",
     "text": [
      "Warning: cannot find 2 players in contest 3370; not sufficient submissions\n"
     ]
    }
   ],
   "source": [
    "# save_to_device(contest_id, 'Percentage_Big')\n",
    "save_to_device(contest_id, 'Percentage_Small')\n",
    "# save_to_device(contest_id, 'Normal')"
   ]
  },
  {
   "cell_type": "markdown",
   "id": "079eeaaa",
   "metadata": {},
   "source": [
    "### 4. For those Contests with 2 Prizes"
   ]
  },
  {
   "cell_type": "code",
   "execution_count": 22,
   "id": "e99f5ef0",
   "metadata": {},
   "outputs": [
    {
     "name": "stdout",
     "output_type": "stream",
     "text": [
      ">>> In the list of contest with 2 positive USD prizes, what are the values of the prizes?\n",
      "array([2489, 2499, 3023, 3353, 3366, 3403, 3471, 3477, 3509, 4066])\n"
     ]
    }
   ],
   "source": [
    "print('>>> In the list of contest with 2 positive USD prizes, what are the values of the prizes?')\n",
    "tbl_contest_2_Usd_prize = tbl_contests[tbl_contests['Id'].isin(lst_contest_Usd)]\n",
    "tbl_contest_2_Usd_prize = tbl_contest_2_Usd_prize[tbl_contest_2_Usd_prize['Id'].isin(lst_contest_2_prize)]\n",
    "tbl_contest_2_Usd_prize = tbl_contest_2_Usd_prize.loc[tbl_contest_2_Usd_prize['RewardQuantity'] > 0]\n",
    "pprint(tbl_contest_2_Usd_prize['Id'].values)"
   ]
  },
  {
   "cell_type": "markdown",
   "id": "82c5606f",
   "metadata": {},
   "source": [
    "Note: \n",
    " - 2489: 2 $250\n",
    " - 2499: $5,000 vs $3,000 \n",
    " - 3023: $7,000 vs $2,500\n",
    " - 3353: $8,000 vs $2,000\n",
    " - 3366: $350 vs $150\n",
    " - 3403: complicated\n",
    " - 3471: $350 vs $150\n",
    " - 3477: $350 vs $150\n",
    " - 3509: $350 vs $150\n",
    " - 4066: $10,000 vs $5,000\n",
    "\n",
    "Finally, we pick \n",
    "\n",
    "2489 (small), 3353 (small), 3366 (small), 3509 (small), "
   ]
  },
  {
   "cell_type": "code",
   "execution_count": 23,
   "id": "ec05d1f0",
   "metadata": {},
   "outputs": [],
   "source": [
    "contest_2prize_gap = {\n",
    "\t2489: 100, 2499: 2000, 3023: 4500, 3353: 6000, 3366: 200, 3471: 200, 3477: 200, 3509: 200, 4066: 5000\n",
    "}"
   ]
  },
  {
   "cell_type": "code",
   "execution_count": 24,
   "id": "e6dd51e2",
   "metadata": {},
   "outputs": [],
   "source": [
    "## check prize info by:\n",
    "# display(HTML(tbl_contest_2_Usd_prize.loc[tbl_contest_2_Usd_prize['Id']==4066, ['Overview']].values[0][0]))"
   ]
  },
  {
   "cell_type": "code",
   "execution_count": 25,
   "id": "2e69901b",
   "metadata": {},
   "outputs": [
    {
     "name": "stdout",
     "output_type": "stream",
     "text": [
      ">>> percentage = 30 %\n",
      ">>> daily submit (max) = 3\n",
      ">>> deadline = 2013-06-18 00:00:00\n",
      ">>> How many teams are there in this contest?\n",
      "129\n",
      ">>> How many submissions are there in total?\n",
      "491\n",
      ">>> List the number of submissions for the most active 5 teams:\n",
      "TeamId\n",
      "44526    18\n",
      "43929    15\n",
      "44729    15\n",
      "44521    15\n",
      "45618    13\n",
      "dtype: int64\n"
     ]
    },
    {
     "data": {
      "text/plain": [
       "(datetime.datetime(2013, 6, 17, 23, 59, 40),\n",
       "     rank     score  submit_count  participate_days  last_submit_days_ago\n",
       " 0  43019  0.993798             9                37                     1\n",
       " 1  42947  0.992147             7                16                     0\n",
       " 2  43160  0.991891            13                36                     0\n",
       " 3  44779  0.991872             6                19                     0\n",
       " 4  46797  0.991531             5                 8                     0\n",
       " 5  43772  0.991183            13                29                     0\n",
       " 6  45618  0.991011            13                13                     0\n",
       " 7  43929  0.990442            15                26                     0\n",
       " 8  45149  0.989619             1                17                    17\n",
       " 9  51085  0.989582             1                 0                     0)"
      ]
     },
     "metadata": {},
     "output_type": "display_data"
    },
    {
     "data": {
      "text/plain": [
       "(datetime.datetime(2013, 6, 17, 23, 59, 40),\n",
       "     rank    score  submit_count  participate_days  last_submit_days_ago\n",
       " 0  43019  0.99365             9                37                     1\n",
       " 1  44160  0.99266             7                25                     1\n",
       " 2  43160  0.99239            13                36                     0\n",
       " 3  42947  0.99233             7                16                     0\n",
       " 4  45618  0.99189            13                13                     0\n",
       " 5  43929  0.99097            15                26                     0\n",
       " 6  46797  0.99046             5                 8                     0\n",
       " 7  45149  0.99034             1                17                    17\n",
       " 8  44779  0.98982             6                19                     0\n",
       " 9  43772  0.98934            13                29                     0)"
      ]
     },
     "metadata": {},
     "output_type": "display_data"
    }
   ],
   "source": [
    "# Contest Info\n",
    "contest_id = 3509\n",
    "\n",
    "# Contest settings\n",
    "deadline, total_prize, max_daily_submit, percentage = contest_basic_setting(tbl_contests, contest_id)\n",
    "print('>>> percentage =', percentage, '%')\n",
    "print('>>> daily submit (max) =', max_daily_submit)\n",
    "print('>>> deadline =', deadline)\n",
    "\n",
    "# Display basic info\n",
    "tbl_submissions_specific = contest_basic_submission_info(tbl_submissions, contest_id)\n",
    "\n",
    "# Create leaderboard\n",
    "leaderboard_pub, leaderboard_pri = leaderboard_fulfill(\n",
    "\t\ttbl_submissions_specific, deadline, 'Normal')\n",
    "display(leaderboard_pri.display(-1, 10))\n",
    "display(leaderboard_pub.display(-1, 10))"
   ]
  },
  {
   "cell_type": "code",
   "execution_count": 26,
   "id": "b3226d5c",
   "metadata": {},
   "outputs": [],
   "source": [
    "# save_to_device(contest_id, 'Percentage_Big', prize=contest_2prize_gap[contest_id])\n",
    "save_to_device(contest_id, 'Percentage_Small', prize=contest_2prize_gap[contest_id])\n",
    "# save_to_device(contest_id, 'Normal', prize=contest_2prize_gap[contest_id])"
   ]
  },
  {
   "cell_type": "markdown",
   "id": "3fa64557",
   "metadata": {},
   "source": [
    "### 4. For those Contests with 3  Prizes"
   ]
  },
  {
   "cell_type": "code",
   "execution_count": 27,
   "id": "c3b4431d",
   "metadata": {},
   "outputs": [
    {
     "name": "stdout",
     "output_type": "stream",
     "text": [
      ">>> In the list of contest with 3 positive USD prizes, what are the values of the prizes?\n",
      "array([ 2509,  2518,  2551,  2602,  2606,  2609,  2667,  2732,  2748,\n",
      "        2749,  2780,  2840,  2888,  2889,  2917,  2958,  2969,  2975,\n",
      "        2984,  3043,  3046,  3064,  3080,  3084,  3175,  3288,  3316,\n",
      "        3338,  3342,  3354,  3517,  3599,  3641,  3670,  3756,  3772,\n",
      "        3774,  3800,  3887,  3926,  3929,  3934,  3951,  3960,  3966,\n",
      "        3978,  4031,  4043,  4104,  4117,  4120,  4272,  4280,  4366,\n",
      "        4407,  4438,  4453,  4467,  4471,  4477,  4481,  4488,  4521,\n",
      "        4571,  4594,  4657,  4699,  4729,  4852,  4853,  4986,  5048,\n",
      "        5056,  5144,  5174,  5229,  5260,  5261,  5340,  5357,  5390,\n",
      "        5497,  5558,  5916,  6116,  6243,  6277,  6322,  6392,  6565,\n",
      "        6644,  6649,  6768,  6841,  6927,  7042,  7043,  7082,  7115,\n",
      "        7162,  7163,  7277,  7380,  7391,  7456,  7559,  7634,  7878,\n",
      "        8011,  8076,  8078,  8219,  8220,  8310,  8311,  8396,  8540,\n",
      "        8586,  8899,  9120,  9949,  9951,  9988,  9993, 10038, 10200,\n",
      "       10384, 10684, 10700, 10733, 10737, 11836, 11838, 12797, 12863,\n",
      "       13333, 13836, 14239, 14242, 14420, 14897, 15696, 15768, 16245,\n",
      "       16295, 17233, 18045, 18329, 18647, 19018, 19231, 19233, 19596,\n",
      "       19989, 19991, 20270, 20604, 21669, 21723, 22111, 22422, 22559,\n",
      "       22962, 22990, 23249, 23652, 23823, 24286, 24800, 25383, 25954,\n",
      "       26933, 27783, 27923, 29594, 33246, 33657, 34547, 34970, 35308,\n",
      "       35476, 35779, 37077, 37190, 37244, 37333, 37794, 38128, 38257,\n",
      "       38321, 38760, 59291, 66653, 71485])\n"
     ]
    }
   ],
   "source": [
    "print('>>> In the list of contest with 3 positive USD prizes, what are the values of the prizes?')\n",
    "tbl_contest_3_Usd_prize = tbl_contests[tbl_contests['Id'].isin(lst_contest_Usd)]\n",
    "tbl_contest_3_Usd_prize = tbl_contest_3_Usd_prize[tbl_contest_3_Usd_prize['Id'].isin(lst_contest_3_prize)]\n",
    "tbl_contest_3_Usd_prize = tbl_contest_3_Usd_prize.loc[tbl_contest_3_Usd_prize['RewardQuantity'] > 0]\n",
    "pprint(tbl_contest_3_Usd_prize['Id'].values)"
   ]
  },
  {
   "cell_type": "markdown",
   "id": "b87997e4",
   "metadata": {},
   "source": [
    "Note: \n",
    " - 2509: $6,000 vs $3,000 vs $1,000\n",
    " - 2518: $6,000 vs $3,000 vs $1,000\n",
    " - 2551: $3,000 vs $1,500 vs $500\n",
    " - 2602: 5,000 vs 3000 vs 2000\n",
    " - 2606: $3,000 vs 1500 vs 500\n",
    " - 2609: $2,500 vs $1,500 vs $1,000\n",
    " - 2667: $60,000 vs $30,000 vs $10,000\n",
    " - 2732: $10,000 vs $5,000 vs $2,500\n",
    " - 2748: $5000, $2000, and $1000\n",
    " - 2749: $5000, $2000, and $1000\n",
    " - 2780: $10000 vs $6000 vs $4000\n",
    " - 2840: $15000, $5000, $2500\n",
    " - 2888: 5,000, 3000, 2000\n",
    " - 2889: complicated\n",
    " - 2917: $6,000 for first, $3,000 for second and $1,000 for third place submissions.\n",
    " - 2958: ???\n",
    " - 2969: 1st Place: $14,000, 2nd Place: $7,500, 3rd Place: $2,500\n",
    " - 2975: 1st Place: $22,000, 2nd Place: $10,000, 3rd Place: $6,000\n",
    " - 2984: First place: $7,000, Second place: $2,000, Third place: $1,000\n",
    " - 3043: 1st place: $11,000, 2nd place: $6,000, 3rd place: $2,000\n",
    " - 3046: 1st Place: $11,000, 2nd Place: $6,000, 3rd Place: $2,000\n",
    " - 3064: $500  1st place, $350  2nd place, $150  3rd place\n",
    " - 3080: $300  1st place, $210  2nd place, $  90  3rd place\n",
    " - 3084: First place       $12,000, Second place  $5,000, Third place      $3,000\n",
    " - 3175: 1st Place: $10,000 USD, 2nd Place: $4,000 USD, 3rd Place: $2,000 USD\n",
    " - 3288: 1st Place: $2,500, 2nd Place: $1,500, 3rd Place: $1,000\n",
    " - 3316: 1st place: $6,500, 2nd place: $2,500, 3rd place: $1,000\n",
    " - 3338: 1st place - $3000, 2nd place - $1500, 3rd place - $500\n",
    " - 3342: 1st place: $3000, 2nd place: $2000, 3rd place: $1000\n",
    " - 3354: First Place: $500, Second Place: $300, Third Place: $200\n",
    " - 3517: 1st place: $700, 2nd place: $600, 3rd place: $500\n",
    " - 3599: 1st Place - $2000, 2nd Place - $1000, 3rd Place - $500\n",
    " - 3641: 1st place - $3000, 2nd place - $1500, 3rd place - $500\n",
    " - 3670: complex\n",
    " - 3756: 1st place: $5,000, 2nd place: $3,000, 3rd place: $2,000\n",
    " - 3772: 1st place - $5000, 2nd place - $2500, 3rd place - $1000\n",
    " - 3774: First place: 500 USD and 1000 USD travel award (*) + Award certificate, Second place: 250 USD and 750 USD travel award (*) + Award certificate, Third place: 100 USD and 400 USD travel award (*) + Award certificate\n",
    " - 3800: 1st place - $5000, 2nd place - $2000, 3rd place - $1000\n",
    " - 3887: 1st Place - $7,000, 2nd Place - $4,000, 3rd Place - $2,000\n",
    " - 3926: 1st place - $1,000, 2nd place - $700, 3rd place - $300\n",
    " - 3929: 1st Place - $15,000, 2nd Place - $7,000, 3rd Place - $3,000\n",
    " - 3934: 1st Place - $10,000, 2nd Place - $4,000, 3rd Place - $2,000\n",
    " - 3951: 1st place - $12,000 (+ $25,000 if license option is exercised), 2nd place - $8,000 (+ $25,000 if license option is exercised), 3rd place - $5,000 (+ $25,000 if license option is exercised)\n",
    " - 3960: 1st place - $15000, 2nd place - $7000, 3rd place - $3000\n",
    " - 3966: 1st place - $5,000, 2nd place - $2,000, 3rd place - $1,000\n",
    " - 3978: 1st place - $100,000, 2nd place - $45,000, 3rd place - $15,000\n",
    " - 4031: 1st place - $15,000, 2nd place - $10,000, 3rd place - $5,000\n",
    " - 4043: 1st place - $500, 2nd place - $300, 3rd place - $200\n",
    " - 4104: 1st place - $50,000, 2nd place - $30,000, 3rd place - $20,000\n",
    " - 4117: 1st place - $12000, 2nd place - $3000, 3rd place - $1000\n",
    " - 4120: 1st Place - $10,000, 2nd Place - $3,000, 3rd Place - $2,000\n",
    " - 4272: 1st place - $15,000, 2nd place - $10,000, 3rd place - $5,000\n",
    " - 4280: 1st place - $5000, 2nd place - $3000, 3rd place - $2000\n",
    " - 4366: 1st place - $20,000, 2nd place - $12,000, 3rd place - $8,000\n",
    " - 4407: 1st place - $10,000, 2nd place - $6,000, 3rd place - $4,000\n",
    " - 4438: 1st place - $10,000, 2nd place - $6,000, 3rd place - $4,000\n",
    " - 4453: 1st place - $5000, 2nd place - $3000, 3rd place - $2000\n",
    " - 4467: 1st place - $15,000, 2nd place - $10,000, 3rd place - $5,000\n",
    " - 4471: 1st place - $12,000 (+ $25,000 if license option is exercised), 2nd place - $8,000 (+ $25,000 if license option is exercised), 3rd place - $5,000 (+ $25,000 if license option is exercised)\n",
    " - 4477: 1st place - $5000, 2nd place - $3000, 3rd place - $2000\n",
    " - 4481: 1st place - $30,000, 2nd place - $15,000, 3rd place - $5,000\n",
    " - 4488: 1st Place - $7,000, 2nd Place - $5,000, 3rd Place - $3,000\n",
    " - 4521: 1st place - $5,000, 2nd place - $3,000, 3rd place - $2,000\n",
    " - 4571: 1st place - $50,000, 2nd place - $20,000, 3rd place - $10,000\n",
    " - 4594: 1st place - $15,000, 2nd place - $10,000, 3rd place - $5,000\n",
    " - 4657: 1st place - $10,000, 2nd place - $6,000, 3rd place - $4,000\n",
    " - 4699: 1st place - $15,000, 2nd place - $10,000, 3rd place - $5,000\n",
    " - 4729: 1st place - $125,000, 2nd place - $50,000, 3rd place - $25,000\n",
    " - 4852: 1st place - $15,000, 2nd place - $10,000, 3rd place - $5,000\n",
    " - 4853: 1st place - $20,000, 2nd place - $12,000, 3rd place - $8,000\n",
    " - 4986: 1st place - $30,000, 2nd place - $20,000, 3rd place - $10,000\n",
    " - 5048: 1st place - $30,000, 2nd place - $20,000, 3rd place - $15,000\n",
    " - 5056: 1st place - $12,500, 2nd place - $7,500, 3rd place -  $5,000\n",
    " - 5144: 1st place - $50,000, 2nd place - $30,000, 3rd place - $20,000\n",
    " - 5174: 1st place - $10,000, 2nd place - $7,000, 3rd place - $3,000\n",
    " - 5229: 1st place - $40,000, 2nd place - $25,000, 3rd place - $10,000\n",
    " - 5260: 1st place - $12,000, 2nd place - $8,000, 3rd place - $5,000\n",
    " - 5261: 1st place - $25,000, 2nd place - $15,000, 3rd place - $10,000\n",
    " - 5340: 1st place - $12,500, 2nd place - $7,500, 3rd place - $5,000\n",
    " - 5357: 1st place - $15,000, 2nd place - $10,000, 3rd place - $5,000\n",
    " - 5390: 1st place - $10,000, 2nd place - $6,000, 3rd place - $4,000\n",
    " - 5497: 1st place - $12,000, 2nd place - $8,000, 3rd place - $5,000\n",
    " - 5558: 1st place - $30,000, 2nd place - $20,000, 3rd place - $10,000\n",
    " - 5916: 1st place - $50,000, 2nd place - $30,000, 3rd place - $20,000\n",
    " - 6116: 1st place - $12,000, 2nd place - $8,000, 3rd place - $5,000\n",
    " - 6243: 1st place - $50,000, 2nd place - $20,000, 3rd place - $10,000\n",
    " - 6277: 1st place - $12,500, 2nd place - $8,500, 3rd place - $4,000\n",
    " - 6322: 1st place - $30,000, 2nd place - $20,000, 3rd place - $10,000\n",
    " - 6392: 1st place - $12,000, 2nd place - $8,000, 3rd place - $5,000\n",
    " - 6565: 1st place - $12,000, 2nd place - $8,000, 3rd place - $5,000\n",
    " - 6644: 1. $12,000 2. $8,000 3. $5,000\n",
    " - 6649: complicated <<<< A REALLY BIG PRIZE\n",
    " - 6768: $12,000, $8,000, $5,000\n",
    " - 6841: 1st place - $10,000, 2nd place - $3,000, 3rd place - $2,000\n",
    " - 6927: 1st place - $12,000, 2nd place - $8,000, 3rd place - $5,000\n",
    " - 7042: 1st place - $12,000, 2nd place - $8,000, 3rd place - $5,000\n",
    " - 7043: 1st place - $12,000, 2nd place - $8,000, 3rd place - $5,000\n",
    " - 7082: 1st place - $12,000, 2nd place - $8,000, 3rd place - $5,000\n",
    " - 7115: 1st place - $12,000, 2nd place - $8,000, 3rd place - $5,000"
   ]
  },
  {
   "cell_type": "code",
   "execution_count": null,
   "id": "58ce47f1",
   "metadata": {},
   "outputs": [],
   "source": [
    "contest_3prize_gap = {\n",
    "\t2509: 3000,  # normal\n",
    "\t2518: 3000,  # normal\n",
    "\t2551: 1500,  # small\n",
    "\t2602: 2000,\n",
    "\t2606: 1500,\n",
    "\t2609: 1000,\n",
    "\t2667: 30000,  # small\n",
    "\t2732: 5000,\n",
    "\t2748: 3000,  # normal\n",
    "\t2749: 3000,  # small\n",
    "\t2780: 4000,\n",
    "\t2840: 10000,\n",
    "\t2888: 2000,\n",
    "\t2917: 3000,  # normal\n",
    "\t2969: 6500,\n",
    "\t2975: 12000,  # normal\n",
    "\t2984: 5000,  # normal\n",
    "\t3043: 5000,\n",
    "\t3046: 5000,  # normal\n",
    "\t3064: 200,  # small\n",
    "\t3080: 90,  # small\n",
    "\t3084: 7000,\n",
    "\t3175: 6000,\n",
    "\t3288: 1000,  # small\n",
    "\t3316: 4000,\n",
    "\t3338: 1500,  # small\n",
    "\t3342: 1000,\n",
    "\t3354: 200,\n",
    "\t3517: 100,  # small\n",
    "\t3599: 1000,\n",
    "\t3641: 1500,  # small\n",
    "\t3756: 2000,\n",
    "\t3772: 2500,\n",
    "\t3774: 500,  # small\n",
    "\t3800: 3000,  # small\n",
    "\t3887: 3000,  # normal\n",
    "\t3926: 300,   # small\n",
    "\t3929: 8000,  # small\n",
    "\t3934: 6000,\n",
    "\t3951: 4000,  # normal\n",
    "\t3960: 8000,  # small\n",
    "\t3966: 3000,\n",
    "\t3978: 55000,\n",
    "\t4031: 5000,  # small\n",
    "\t4043: 200,  # small\n",
    "\t4104: 20000,  # small\n",
    "\t4117: 9000,\n",
    "\t4120: 7000,\n",
    "\t4272: 5000,\n",
    "\t4280: 2000,\n",
    "\t4366: 8000,  # small\n",
    "\t4407: 4000,  # small\n",
    "\t4438: 4000,\n",
    "\t4453: 2000,  # small\n",
    "\t4467: 5000,\n",
    "\t4471: 4000,  # normal\n",
    "\t4477: 2000,  # small\n",
    "\t4481: 15000,  # normal\n",
    "\t4488: 2000,  # small\n",
    "\t4521: 2000,\n",
    "\t4571: 30000,\n",
    "\t4594: 5000,\n",
    "\t4657: 4000,  # small\n",
    "\t4699: 5000,  # small\n",
    "\t4729: 75000,\n",
    "\t4852: 5000,\n",
    "\t4853: 8000,\n",
    "\t4986: 10000,  # small\n",
    "\t5048: 10000,\n",
    "\t5056: 5000,  # small\n",
    "\t5144: 20000,  # small\n",
    "\t5174: 3000,  # small\n",
    "\t5229: 15000,  # small\n",
    "\t5260: 4000,\n",
    "\t5261: 10000,  # small\n",
    "\t5340: 5000,\n",
    "\t5357: 5000,  # small\n",
    "\t5390: 4000,  # small\n",
    "\t5497: 4000,  # small\n",
    "\t5558: 10000,\n",
    "\t5916: 20000,  # normal\n",
    "\t6116: 4000,\n",
    "\t6243: 30000,\n",
    "\t6277: 4000,\n",
    "\t6322: 10000,  # small\n",
    "\t6392: 4000,\n",
    "\t6565: 4000,\n",
    "\t6644: 4000,  # normal\n",
    "\t6768: 4000,\n",
    "\t6841: 7000,\n",
    "\t6927: 4000,  # small\n",
    "\t7042: 4000,\n",
    "\t7043: 4000,\n",
    "\t7082: 4000,  # normal\n",
    "\t7115: 4000,  # small\n",
    "}"
   ]
  },
  {
   "cell_type": "code",
   "execution_count": 358,
   "id": "89495988",
   "metadata": {},
   "outputs": [
    {
     "data": {
      "text/html": [
       "# Description\n",
       "\n",
       "<a href=\"https://www.cdiscount.com\"><img src=\"https://storage.googleapis.com/kaggle-media/competitions/kaggle/3333/media/Cdiscount.png\" width=\"400\" align=\"right\"></a>\n",
       "\n",
       "<p><a href=\"https://www.kaggle.com/c/cdiscount-image-classification-challenge/rules\">Rules Update:</a> The CDiscount team has updated their rules to allow for use of this dataset for research and academic purposes only. To access the data, go to rules and accept the terms to download the data.</p>\n",
       "\n",
       "<p><a href=\"https://www.cdiscount.com/\">Cdiscount.com</a> generated nearly 3 billion euros last year, making it France’s largest non-food e-commerce company. While the company already sells everything from TVs to trampolines, the list of products is still rapidly growing. By the end of this year, Cdiscount.com will have over 30 million products up for sale. This is up from 10 million products only 2 years ago. Ensuring that so many products are well classified is a challenging task.</p>\n",
       "\n",
       "<p>Currently, Cdiscount.com applies machine learning algorithms to the text description of the products in order to automatically predict their category. As these methods now seem close to their maximum potential, Cdiscount.com believes that the next quantitative improvement will be driven by the application of data science techniques to images.</p>\n",
       "\n",
       "<p>In this challenge you will be building a model that automatically classifies the products based on their images. As a quick tour of Cdiscount.com's website can confirm, one product can have one or several images. The data set Cdiscount.com is making available is unique and characterized by superlative numbers in several ways:</p>\n",
       "\n",
       "<ul>\n",
       "<li>Almost 9 million products: half of the current catalogue</li>\n",
       "<li>More than 15 million images at 180x180 resolution</li>\n",
       "<li>More than 5000 categories: yes this is quite an extreme multi-class classification!</li>\n",
       "</ul>\n",
       "----------------------\n",
       "# Evaluation\n",
       "\n",
       "<h2>Goal</h2>\n",
       "The goal of this competition is to predict the category of a product based on its image(s). Note that a product can have one or several images associated. For every product <i>_id</i> in the test set, you should predict the correct <i>category_id</i>.\n",
       "\n",
       "<h2>Metric</h2>\n",
       "This competition is evaluated on the categorization accuracy of your predictions (the percentage of products you get correct).\n",
       "<h2>Submission File</h2>\n",
       "<p>For each <i>_id</i>&nbsp;in the test set, you must predict a <i>category_id</i>. The file should contain a header and have the following format:</p>\n",
       "<pre>_id,category_id<br>2,1000000055<br>5,1000016018<br>6,1000016055<br>etc.</pre>\n",
       "----------------------\n",
       "# Prizes\n",
       "\n",
       "<ul>\n",
       "<li>1st place - $20,000</li>\n",
       "<li>2nd place - $10,000</li>\n",
       "<li>3rd place - $5,000</li>\n",
       "</ul>\n",
       "----------------------\n",
       "# Timeline\n",
       "\n",
       "<ul>\n",
       "<li><strong>December 7, 2017</strong>&nbsp;-&nbsp;Entry deadline. You must accept the competition rules before this date in order to compete.</li>\n",
       "<li><strong>December 7, 2017</strong>&nbsp;- Team Merger deadline. This is the last day participants&nbsp;may join or merge teams.</li>\n",
       "<li><strong>December 14, 2017</strong>&nbsp;- Final submission deadline.</li>\n",
       "</ul>\n",
       "<p>All deadlines are at 11:59 PM UTC on the corresponding day unless otherwise noted. The competition organizers reserve the right to update the contest timeline if they deem it necessary.</p>\n",
       "----------------------\n",
       "# About Cdiscount\n",
       "\n",
       "<a href=\"https://www.cdiscount.com\"><img src=\"https://storage.googleapis.com/kaggle-media/competitions/kaggle/3333/media/Cdiscount.png\" width=\"400\" align=\"right\"></a>\n",
       "\n",
       "<p><a href=\"https://www.cdiscount.com/\">Cdiscount.com</a>, a subsidiary company of the Casino Group, is a major online retailer in France. The company has reported outstanding growth and generated a business volume of nearly 3 billion euros in 2016 supported by a constantly growing Marketplace, with products sold by more than 9,000 partnering merchants. <br><br>\n",
       "\n",
       "Focusing on four core values: proximity, audacity, engagement and reliability, Cdiscount.com strives to make everyday products and services affordable to everyone, while working hard to better understand and serve the customers’ needs.<br><br>\n",
       "\n",
       "One way to reach these goals is to develop the offer. Cdiscount.com's product catalog is growing rapidly and should reach more than 30 million items by the end of the year. In order to support this development and allow clients to browse intuitively through such a large range of products, it is important that each item is well-classified.<br><br>\n",
       "\n",
       "Therefore, Cdiscount.com believes that data science is the way forward to automatically select the best category for each new product and improve the shopping experience.<br><br>\n",
       "\n",
       "</p><h1> Key figures </h1>\n",
       "\n",
       "<ul>\n",
       "  <li>3 billion euros GMV</li>\n",
       "  <li>8 million active customers</li>\n",
       "  <li>9,000 partnering merchants</li>\n",
       "  <li>1,500 employees</li>\n",
       "</ul>\n",
       "\n",
       "Don't hesitate to have a look at Cdiscount.com's <a href=\"https://emploi.cdiscount.com/\">job offers</a>. Data scientists are being hired!"
      ],
      "text/plain": [
       "<IPython.core.display.HTML object>"
      ]
     },
     "metadata": {},
     "output_type": "display_data"
    }
   ],
   "source": [
    "# # check prize info by:\n",
    "contest_id = 7115\n",
    "\n",
    "display(HTML(tbl_contest_3_Usd_prize.loc[tbl_contest_3_Usd_prize['Id']==contest_id, ['Overview']].values[0][0]))"
   ]
  },
  {
   "cell_type": "code",
   "execution_count": 359,
   "id": "1b6a6985",
   "metadata": {},
   "outputs": [
    {
     "name": "stdout",
     "output_type": "stream",
     "text": [
      ">>> percentage = 30 %\n",
      ">>> daily submit (max) = 5\n",
      ">>> deadline = 2017-12-15 00:00:00\n",
      ">>> How many teams are there in this contest?\n",
      "629\n",
      ">>> How many submissions are there in total?\n",
      "3185\n",
      ">>> List the number of submissions for the most active 5 teams:\n",
      "TeamId\n",
      "917620    56\n",
      "915631    48\n",
      "939322    47\n",
      "948083    38\n",
      "915734    38\n",
      "dtype: int64\n"
     ]
    },
    {
     "data": {
      "text/plain": [
       "(datetime.datetime(2017, 12, 14, 23, 58, 38),\n",
       "       rank     score  submit_count  participate_days  last_submit_days_ago\n",
       " 0   917022  0.793391            19                59                     0\n",
       " 1   917620  0.792615            56                77                     0\n",
       " 2   928461  0.788715            32                80                     0\n",
       " 3   939322  0.786606            47                81                     0\n",
       " 4   914725  0.782443            38                62                     0\n",
       " 5   918309  0.777145             9                88                     0\n",
       " 6   916474  0.776112            28                78                     0\n",
       " 7   956406  0.774093            11                54                     0\n",
       " 8   917910  0.772199            12                30                     0\n",
       " 9  1047807  0.769721            23                63                     0)"
      ]
     },
     "metadata": {},
     "output_type": "display_data"
    },
    {
     "data": {
      "text/plain": [
       "(datetime.datetime(2017, 12, 14, 23, 58, 38),\n",
       "      rank    score  submit_count  participate_days  last_submit_days_ago\n",
       " 0  917022  0.79172            19                59                     0\n",
       " 1  917620  0.79088            56                77                     0\n",
       " 2  928461  0.78671            32                80                     0\n",
       " 3  939322  0.78455            47                81                     0\n",
       " 4  914725  0.78049            38                62                     0\n",
       " 5  918309  0.77582             9                88                     0\n",
       " 6  916474  0.77434            28                78                     0\n",
       " 7  956406  0.77229            11                54                     0\n",
       " 8  917910  0.77032            12                30                     0\n",
       " 9  915131  0.76867            26                81                     0)"
      ]
     },
     "metadata": {},
     "output_type": "display_data"
    }
   ],
   "source": [
    "# Contest settings\n",
    "deadline, total_prize, max_daily_submit, percentage = contest_basic_setting(tbl_contests, contest_id)\n",
    "print('>>> percentage =', percentage, '%')\n",
    "print('>>> daily submit (max) =', max_daily_submit)\n",
    "print('>>> deadline =', deadline)\n",
    "\n",
    "# Display basic info\n",
    "tbl_submissions_specific = contest_basic_submission_info(tbl_submissions, contest_id)\n",
    "\n",
    "# Create leaderboard\n",
    "leaderboard_pub, leaderboard_pri = leaderboard_fulfill(\n",
    "\t\ttbl_submissions_specific, deadline, 'Normal')\n",
    "display(leaderboard_pri.display(-1, 10))\n",
    "display(leaderboard_pub.display(-1, 10))"
   ]
  },
  {
   "cell_type": "code",
   "execution_count": 360,
   "id": "a17ab4b1",
   "metadata": {},
   "outputs": [],
   "source": [
    "# save_to_device(contest_id, 'Percentage_Big', prize=contest_3prize_gap[contest_id])\n",
    "save_to_device(contest_id, 'Percentage_Small', prize=contest_3prize_gap[contest_id])\n",
    "# save_to_device(contest_id, 'Normal', prize=contest_3prize_gap[contest_id])"
   ]
  }
 ],
 "metadata": {
  "kernelspec": {
   "display_name": ".venv",
   "language": "python",
   "name": "python3"
  },
  "language_info": {
   "codemirror_mode": {
    "name": "ipython",
    "version": 3
   },
   "file_extension": ".py",
   "mimetype": "text/x-python",
   "name": "python",
   "nbconvert_exporter": "python",
   "pygments_lexer": "ipython3",
   "version": "3.13.3"
  }
 },
 "nbformat": 4,
 "nbformat_minor": 5
}
