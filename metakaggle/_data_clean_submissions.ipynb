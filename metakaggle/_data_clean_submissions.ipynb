{
 "cells": [
  {
   "cell_type": "markdown",
   "id": "048e6c3e",
   "metadata": {},
   "source": [
    "# Explore `meta-kaggle` Dataset"
   ]
  },
  {
   "cell_type": "markdown",
   "id": "f3136aec",
   "metadata": {},
   "source": [
    "## --- Submissions"
   ]
  },
  {
   "cell_type": "markdown",
   "id": "08eeebe3",
   "metadata": {},
   "source": [
    "Pre-requisites: \n",
    "\n",
    "1. Install Python package `kaggle`\n",
    "2. [Create token](https://www.kaggle.com/docs/api) and \n",
    "3. Put the `kaggle.json` file to the `.kaggle` folder of your home directory\n",
    "4. Download dataset `meta-kaggle` if haven't yet, by excuting: \n",
    "   ```python\n",
    "   import api\n",
    "   api.download_rawdata(rawdata_path)\n",
    "   ```"
   ]
  },
  {
   "cell_type": "code",
   "execution_count": 1,
   "id": "76d0f266",
   "metadata": {},
   "outputs": [],
   "source": [
    "# std library\n",
    "import os\n",
    "from datetime import datetime\n",
    "from pprint import pprint\n",
    "\n",
    "# third-party\n",
    "import pandas as pd\n",
    "\n",
    "# local\n",
    "from datafilter import table_filter, table_header"
   ]
  },
  {
   "cell_type": "code",
   "execution_count": 2,
   "id": "457a7f2d",
   "metadata": {},
   "outputs": [],
   "source": [
    "rawdata_path = os.path.abspath('./__rawdata__')"
   ]
  },
  {
   "cell_type": "markdown",
   "id": "88b86395",
   "metadata": {},
   "source": [
    "### 1. Mapping Datasets"
   ]
  },
  {
   "cell_type": "markdown",
   "id": "15309878",
   "metadata": {},
   "source": [
    "Create a dataset of submissions, containing the following fields:\n",
    "- Id \n",
    "- TeamId \n",
    "- CompetitionId \n",
    "- SubmissionDate\n",
    "- PublicScore\n",
    "- PrivateScore"
   ]
  },
  {
   "cell_type": "code",
   "execution_count": 3,
   "id": "e9ddc353",
   "metadata": {},
   "outputs": [],
   "source": [
    "# Submissions\n",
    "# - TeamId\n",
    "# - SubmissionDate\n",
    "tbl_submissions = table_filter( \\\n",
    "\t'Submissions', rawdata_path,\n",
    "\tfields = ['Id', 'TeamId', 'SubmissionDate', 'IsAfterDeadline',\n",
    "\t\t'PublicScoreLeaderboardDisplay', 'PrivateScoreFullPrecision'],\n",
    "\tfields_index = ['Id'],\n",
    "\tfields_datetime = ['SubmissionDate'],\n",
    ")\n",
    "# drop all submissions after deadlines\n",
    "tbl_submissions = tbl_submissions[~tbl_submissions['IsAfterDeadline']]\n",
    "tbl_submissions.drop('IsAfterDeadline', axis=1, inplace=True)\n",
    "# rename long name\n",
    "tbl_submissions.rename(columns={\n",
    "\t'PublicScoreLeaderboardDisplay': 'PublicScore',\n",
    "\t'PrivateScoreFullPrecision': 'PrivateScore'\n",
    "}, inplace=True)\n",
    "# drop duplicated\n",
    "## One team can submit only once at a time point\n",
    "tbl_submissions = tbl_submissions.drop_duplicates(subset=['SubmissionDate', 'TeamId'])"
   ]
  },
  {
   "cell_type": "code",
   "execution_count": 4,
   "id": "c69a4698",
   "metadata": {},
   "outputs": [],
   "source": [
    "# Mapping: Teams\n",
    "# - CompetitionId\n",
    "map_teams_competitions = table_filter( \\\n",
    "\t'Teams', rawdata_path,\n",
    "\tfields = ['Id', 'CompetitionId'],\n",
    "\tfields_index = ['Id'],\n",
    ")"
   ]
  },
  {
   "cell_type": "code",
   "execution_count": 5,
   "id": "342a432c",
   "metadata": {},
   "outputs": [
    {
     "data": {
      "text/plain": [
       "Id                         int64\n",
       "TeamId                     int64\n",
       "SubmissionDate    datetime64[ns]\n",
       "PublicScore              float64\n",
       "PrivateScore             float64\n",
       "CompetitionId              int64\n",
       "dtype: object"
      ]
     },
     "execution_count": 5,
     "metadata": {},
     "output_type": "execute_result"
    }
   ],
   "source": [
    "# Merge `Submissions` and `TeamsCompetition`\n",
    "tbl_submissions = pd.merge(tbl_submissions, map_teams_competitions,\n",
    "\thow = 'left', left_on = 'TeamId', right_on = 'Id', sort = False,\n",
    "\tsuffixes=('', '_Team'))\n",
    "tbl_submissions.drop(columns='Id_Team', inplace=True)\n",
    "tbl_submissions.dtypes"
   ]
  },
  {
   "cell_type": "markdown",
   "id": "338d7da7",
   "metadata": {},
   "source": [
    "### 2. Splitting Contests by Types"
   ]
  },
  {
   "cell_type": "code",
   "execution_count": 6,
   "id": "f17f659c",
   "metadata": {},
   "outputs": [
    {
     "data": {
      "text/plain": [
       "{'Id': ['2408'],\n",
       " 'Slug': ['Eurovision2010'],\n",
       " 'Title': ['Forecast Eurovision Voting'],\n",
       " 'Subtitle': [\"This competition requires contestants to forecast the voting for this year's Eurovision Song Contest in Norway on May 25th, 27th and 29th.\"],\n",
       " 'HostSegmentTitle': ['Featured'],\n",
       " 'ForumId': ['2'],\n",
       " 'OrganizationId': [''],\n",
       " 'EnabledDate': ['04/07/2010 07:57:43'],\n",
       " 'DeadlineDate': ['05/25/2010 18:00:00'],\n",
       " 'ProhibitNewEntrantsDeadlineDate': [''],\n",
       " 'TeamMergerDeadlineDate': [''],\n",
       " 'TeamModelDeadlineDate': [''],\n",
       " 'ModelSubmissionDeadlineDate': [''],\n",
       " 'FinalLeaderboardHasBeenVerified': ['True'],\n",
       " 'HasKernels': ['True'],\n",
       " 'OnlyAllowKernelSubmissions': ['False'],\n",
       " 'HasLeaderboard': ['False'],\n",
       " 'LeaderboardPercentage': ['10'],\n",
       " 'ScoreTruncationNumDecimals': ['5'],\n",
       " 'EvaluationAlgorithmAbbreviation': ['AE'],\n",
       " 'EvaluationAlgorithmName': ['Absolute Error'],\n",
       " 'EvaluationAlgorithmDescription': ['Sum of absolute values of all errors.'],\n",
       " 'EvaluationAlgorithmIsMax': ['False'],\n",
       " 'MaxDailySubmissions': ['5'],\n",
       " 'NumScoredSubmissions': ['5'],\n",
       " 'MaxTeamSize': ['20'],\n",
       " 'BanTeamMergers': ['False'],\n",
       " 'EnableTeamModels': ['False'],\n",
       " 'RewardType': ['USD'],\n",
       " 'RewardQuantity': ['1000.0000'],\n",
       " 'NumPrizes': ['1'],\n",
       " 'UserRankMultiplier': ['1'],\n",
       " 'CanQualifyTiers': ['False'],\n",
       " 'TotalTeams': ['22'],\n",
       " 'TotalCompetitors': ['25'],\n",
       " 'TotalSubmissions': ['22'],\n",
       " 'LicenseName': ['Subject to Competition Rules'],\n",
       " 'Overview': ['# Background\\n\\nThe Eurovision Song Contest is an annual competition broadcast worldwide which is open to entrants from active members of the European Broadcasting Union (EBU).\\xa0 This is not defined by Europe\\'s geographical bounds; for example Israel and Cyprus compete in the contest.\\xa0 This year\\'s contest is being held in Oslo, Norway.\\xa0 The location is usually the country of the previous year\\'s winner.\\xa0 The number of entrants changes on a yearly basis, due to flux in EBU membership, political shifts such as the dissolution of the Former Soviet Union and Yugoslavia, and desire (or lack thereof) of countries to participate.\\xa0 \\xa0<br /><br />Each country must submit one song to represent it, which must not have been previously commercially released.\\xa0 All songs are, however, made public by a deadline several weeks before the contest, and this year\\'s entrants are all known already with details such as title, language and artist included in the database provided.\\xa0\\xa0 Since 1999 songs may be sung in any language, whereas prior to this point (up to 1998 inclusive) songs had to be sung in one of the entrant country\\'s national languages.<br /><br />Although the voting format has changed over time, the modern positional voting system has been in place since 1975.\\xa0 Voting countries award scores of 1, 2, 3, 4, 5, 6, 7, 8, 10, and 12 to competitors, with 12 allocated to the favourite song.\\xa0 Each score can only be awarded once; ie: each voting country can only allocate scores to 10 countries, with all other countries automatically allocated a score of 0.\\xa0 These scores are then added up to determine a competitor\\'s final score.\\xa0 No country can vote for itself.<br /><br />Although mass televoting has been the primary mode of final voting since its implementation in 1998, each country also has a back-up jury in the event of failure of the televoting system.\\xa0 Some countries also supplement televotes with sms votes.<br /><br />Despite the introduction of semi-finals in 2004, the four same countries - Germany, Spain, United Kingdom and France - automatically qualify for the final each year.\\xa0 This means that they do not compete in the semi-final.\\xa0 Additionally, the host country - this year, Norway - is also exempt from performing in the semi-final, automatically qualifying for the final.\\xa0 However, these five countries do vote in the semi-final, specifically France, Germany and Spain in semi-final 1, and United Kingdom and Norway in semi-final 2 this year. <br />\\n----------------------\\n# Custom\\n\\n<b>Hint 1</b><br />We suggest browsing\\xa0Dr. Tim Cocx\\'s\\xa0\\'Analysis on the Eurovision Songcontest\\' available at <a href=\"http://www.liacs.nl/%7Etcocx/songfestival/indexenglish.html\" mce_href=\"http://www.liacs.nl/~tcocx/songfestival/indexenglish.html\">http://www.liacs.nl/~tcocx/songfestival/indexenglish.html</a>.\\xa0 It contains an interesting document - a \\'Distance matrix\\' - which\\xa0represent an abstract (non-geographic) distance that denotes how many points the countries awarded one another in past contests, where a shorter distance implies higher exchanged scores and a larger distance\\xa0implies\\xa0fewer exchanged points.\\xa0 You may consider it worth utilising or producing your own, up-to-date, version based on a similar concept<br /><br /><b>Hint 2</b><br />One way to approach this competition might be to work out that country A normally allocates country B between 4 and 10 votes (with the precise score depending on the performance\\'s quality). Once you have determined these ranges for all countries, you can use betting market data as a proxy for performance quality. <br /><br /><b>Hint 3</b><br />If you\\'re thinking about augmenting our dataset, you may be want to try and track down data on expatriate populations in each voting country.<br />\\n----------------------\\n# Custom\\n\\nThank you to Stephanie Wayne for putting this competition together.<br /><br />We would also like to thank Betfair Pty Ltd for supplying\\xa0betting prices\\xa0data\\n----------------------\\n# Description\\n\\n<B>The intrigue of Eurovision - the modeller\\'s delight</B><BR /><BR />Since its inauguration in 1956, the Eurovision Song Contest has transfixed millions of viewers worldwide with its bubblegum pop, quirks, ballads and flops.\\xa0 During its tenure as one of the world\\'s longest-running television programs, it has attracted its fair share of controversy, with claims that the voting outcomes don\\'t simply reflect performance quality but are influenced by factors such as regional politics, expatriate populations, alliances, and artists\\' sexual appeal.\\xa0 Patterns have appeared over time which support this hypothesis. <BR /><BR />Contestants will attempt to exploit these patterns in order to predict the voting for the 2010 Eurovision Song Contest. <BR /><BR /><B>Down to the details</B><BR /><BR />We will provide you with publicly-available data on variables we have deemed potentially important, such as historical voting patterns, betting odds, song details and artist details.\\xa0 You are welcome to supplement this with any data you believe will improve the accuracy of your model.<BR /><BR />As the voting method for the Contest has changed over time, we will supply \\'Finals\\' data from 1998 when the current \"televoting\" format was implemented, and \\'semi-finals\\' data from 2004 when semi-finals were introduced.\\xa0 We will detail Eurovision\\'s voting procedures and their minor changes/exceptions pertinent to the provided data in the \\'Data\\' page of this competition. <BR /><BR />Your entry will involve submitting a matrix of the individual votes of each voting country for the competitor countries. <BR /><BR /><B>What is your incentive to enter?</B><BR /><BR />There will be a cash prize of USD1000 for the contestant who produces the most accurate predictions. And just as the Contest has launched the high-flying careers of its own performers - notably ABBA and Céline Dion - creating a strong model for this competition will land you a top ranking as a modeler on the Kaggle website.\\n----------------------\\n# Evaluation\\n\\n<P>Evaluation will be performed using the \\'Absolute Error\\' method.\\xa0A submission\\'s absolute error is calculated by summing the absolute difference between predicted and actual votes.\\xa0 A low score implies a small deviation of predicted votes from actual votes; a higher score implies a larger difference between predicted votes and actual votes.\\xa0\\xa0The most accurate prediction has the lowest Absolute Error score.\\xa0 <BR /><BR />Here is an example of how \\'Absolute Error\\' evaluation works:<BR /><BR />Predicted voting (submitted by contestant X)<BR />\\xa0\\xa0\\xa0\\xa0\\xa0\\xa0\\xa0\\xa0\\xa0\\xa0\\xa0\\xa0\\xa0\\xa0\\xa0\\xa0\\xa0\\xa0\\xa0France\\xa0\\xa0\\xa0\\xa0\\xa0\\xa0Moldova \\xa0\\xa0\\xa0 Norway<BR />France\\xa0\\xa0\\xa0\\xa0\\xa0\\xa0\\xa0\\xa0\\xa00\\xa0\\xa0\\xa0\\xa0\\xa0\\xa0\\xa0\\xa0\\xa0\\xa0\\xa0\\xa0\\xa0 1\\xa0\\xa0\\xa0\\xa0\\xa0\\xa0\\xa0\\xa0\\xa0\\xa0\\xa0\\xa0\\xa0\\xa0\\xa01<BR />Moldova \\xa0\\xa0\\xa0\\xa0\\xa0 2\\xa0\\xa0\\xa0\\xa0\\xa0\\xa0\\xa0\\xa0\\xa0\\xa0\\xa0\\xa0\\xa0 0\\xa0\\xa0\\xa0\\xa0\\xa0\\xa0\\xa0\\xa0\\xa0\\xa0\\xa0\\xa0\\xa0\\xa0\\xa02<BR />Norway\\xa0\\xa0\\xa0\\xa0\\xa0\\xa0\\xa0 1\\xa0\\xa0\\xa0\\xa0\\xa0\\xa0\\xa0\\xa0\\xa0\\xa0\\xa0\\xa0\\xa0 2\\xa0\\xa0\\xa0\\xa0\\xa0\\xa0\\xa0\\xa0\\xa0\\xa0\\xa0\\xa0\\xa0\\xa0\\xa00</P>\\n<P><BR />Actual voting<BR />\\xa0\\xa0\\xa0\\xa0\\xa0\\xa0\\xa0\\xa0\\xa0\\xa0\\xa0\\xa0\\xa0\\xa0\\xa0\\xa0\\xa0\\xa0\\xa0France\\xa0\\xa0\\xa0\\xa0\\xa0\\xa0Moldova \\xa0\\xa0\\xa0 Norway<BR />France\\xa0\\xa0\\xa0\\xa0\\xa0\\xa0\\xa0\\xa0\\xa00\\xa0\\xa0\\xa0\\xa0\\xa0\\xa0\\xa0\\xa0\\xa0\\xa0\\xa0\\xa0\\xa0\\xa01\\xa0\\xa0\\xa0\\xa0\\xa0\\xa0\\xa0\\xa0\\xa0\\xa0\\xa0\\xa0\\xa0\\xa0\\xa02<BR />Moldova \\xa0\\xa0\\xa0\\xa0\\xa0 1\\xa0\\xa0\\xa0\\xa0\\xa0\\xa0\\xa0\\xa0\\xa0\\xa0\\xa0\\xa0\\xa0\\xa00\\xa0\\xa0\\xa0\\xa0\\xa0\\xa0\\xa0\\xa0\\xa0\\xa0\\xa0\\xa0\\xa0\\xa0\\xa01<BR />Norway\\xa0\\xa0\\xa0\\xa0\\xa0\\xa0\\xa0\\xa02\\xa0\\xa0\\xa0\\xa0\\xa0\\xa0\\xa0\\xa0\\xa0\\xa0\\xa0\\xa0\\xa0\\xa02\\xa0\\xa0\\xa0\\xa0\\xa0\\xa0\\xa0\\xa0\\xa0\\xa0\\xa0\\xa0\\xa0\\xa0\\xa00 </P>\\n<P>Contestant\\xa0X\\'s Absolute Error score,\\xa0working row-by-row, would be calculated as follows:\\xa0<BR />Absolute Error(X) = abs(0-0) + abs(1-1) + abs(2-1) + abs(1-2) + abs(0-0) + abs(1-2) + abs(2-1) + abs(2-2) + abs(0-0)<BR />\\xa0\\xa0\\xa0\\xa0\\xa0\\xa0\\xa0\\xa0\\xa0\\xa0\\xa0\\xa0\\xa0\\xa0\\xa0\\xa0\\xa0\\xa0\\xa0\\xa0\\xa0\\xa0\\xa0\\xa0\\xa0 = 0 + 0 + 1 + 1 + 0 + 1 + 1+ 0 + 0<BR />\\xa0\\xa0\\xa0\\xa0\\xa0\\xa0\\xa0\\xa0\\xa0\\xa0\\xa0\\xa0\\xa0\\xa0\\xa0\\xa0\\xa0\\xa0\\xa0\\xa0\\xa0\\xa0\\xa0\\xa0\\xa0 = 4 </P>\\n----------------------\\n# Prizes\\n\\nThe Eurovision Song Contest 2010 forecasting competition will award a prize of US$1000 to the winning entrant.<br />The prize money will only be awarded once the winner has sent a brief description of the methodology employed to generate his/her submission.\\n----------------------\\n# SubmissionInstructions\\n\\nSubmissions\\xa0must be made using the\\xa0template attached.<br /><br />The countries listed in column one are the competitors in the Eurovision Song Contest 2010 final. The countries listed in row one are the voting countries. Only 25 of these 39 competing (column one) countries will progress from the semi-finals to the final, however each voting country listed in (row one) will vote in the final.\\xa0 <br /><br />Your task effectively involves  two steps:<br />1. Firstly you must predict which 25 countries will make it to the final. Keep in mind that\\xa0Spain, United\\nKingdom, France, Germany and Norway\\xa0are guaranteed final competitors.<br />2. Once you have chosen your 25 finalists you must predict the voting (ie who will vote for who). Make sure you only allocate votes to the 25 countries you predict will make the final. <br /><br />Submissions will only be accepted if each voting country (in row one) has allocated all its votes once to the potential final competitors (in column one), ie:\\xa0the scores of 1, 2, 3, 4, 5, 6, 7, 8, 10, 12 have been allocated exactly once per voting country.<br />Submissions with scores other than 1, 2, 3, 4, 5, 6, 7, 8, 10 or 12 will not be accepted.<br />Submissions will only be accepted if votes are allocated to ≤ 25 countries.\\xa0 Submissions with votes allocated to > 25 countries will not be accepted. Note: all 39 countries vote regardless of whether or not they make the final. <br /><br />Each\\xa0contestant may only enter with one submission. However, a contestant can delete and replace their submission at any time up until the competition\\'s deadline. <br /><br />As exemplified by the example submission, please ensure that there are no blank cells; instead, where no vote is allocated, enter a \\'0\\'.<br /><br />Note: you can open CSV files with Microsoft Excel or OpenOffice for more human-friendly viewing. <br />'],\n",
       " 'Rules': [\"# Competition Rules\\n\\n\\n\\t<!-- Begin Base Rules -->\\n    <h3>One account per participant</h3>\\n    <p>You cannot sign up to Kaggle from multiple accounts and therefore you cannot submit from multiple accounts.</p>\\n    <h3>No private sharing outside teams</h3>\\n    <p>\\n        Privately sharing code or data outside of teams is not permitted.\\n        It's okay to share code if made available to all participants on the forums.\\n    </p>\\n    <h3>Team Mergers</h3>\\n    <p>\\n        Team mergers are allowed and can be performed by the team leader. In order to merge, the combined team must have a total submission count less than or equal to the maximum allowed as of the merge date. The maximum allowed is the number of submissions per day multiplied by the number of days the competition has been running.<br/>\\n    </p>\\n\\n    <h3>Team Limits</h3>\\n    <p>There is no maximum team size.</p>\\n    <h3>Submission Limits</h3>\\n    <p>You may submit a maximum of 5 entries per day.</p>\\n    <p>You may select up to 5 final submissions for judging.</p>\\n    <h3>Competition Timeline</h3>\\n    <p>Start Date: <strong>4/7/2010 7:57 AM UTC</strong></p>\\n    <p>Merger Deadline: <strong>None</strong></p>\\n    <p>Entry Deadline: <strong>None</strong></p>\\n    <p>End Date: <strong>5/25/2010 6:00 PM UTC</strong></p>\\n\\t<!-- End Base Rules -->\\n<b>Who may enter</b><br /><br />Anybody who complies with the rules of the challenge Eurovision Song Contest 2010\\xa0is welcome to participate.\\xa0\\xa0<br />Only the competition organisers and employees of the European Broadcasting Union are excluded from participating.\\xa0 <br />Contestants may\\xa0enter as individuals or as groups, however the subsequent ranking achieved by their model will be allocated to their individual self/group accordingly.\\xa0 <br />All entrants must identify themselves by registering on Kaggle website, however personal data will only be utilised by the competition organisers and Kaggle in order to communicate with participants.\\xa0\\xa0<br /><br /><b>Submission details</b><br /><br />Submissions should be made via the 'Make a Submission' page in order to be ranked.\\xa0\\xa0<br />Each contestant may only enter one submission.\\xa0 <br />If you encounter any\\xa0problems with the submission process, please contact the Kaggle administrator.<br /><br /><b>Evaluation and prize-giving</b><br /><br />The scoring method is detailed on the 'Evaluation' page.\\xa0\\xa0<br />The winner of the Eurovision Song Contest 2010 will only receive the prize money after\\xa0a brief description of\\xa0their methodology has been submitted to the competition host.\\xa0\\xa0<br />We may ask other top-ranking participants to voluntarily fill out a form regarding their modelling\\xa0methods.\"],\n",
       " 'DatasetDescription': ['# Dataset Description\\n\\n<p><b>Data provided<br /></b><br />Historical data for \\'Finals\\' is provided from 1998, when mass televoting was first implemented.\\xa0 <br />Historical data for \\'Semi-finals\\' is provided from 2004, when semi-finals were introduced.\\xa0 Please note that from 2004 to 2007 there was one semi-final; from 2008 onwards there have been two semi-finals.<br /><br />The dataset incorporates\\xa03 sheets.\\xa0 These are provided in a single Microsoft Excel file, or alternatively the identical sheets are\\xa0available in a different format\\xa0as\\xa03 separate\\xa0csv files.<br /><br />The\\xa03 sheets are as follows:<br />1)\\xa0 \\'Final data by year\\'<br />2)\\xa0 \\'Semi-final data by year\\'<br />3)\\xa0 \\'2010 Data\\'<br /><br /><i>Final data by year</i><u><br /></u></p>\\n<p>The data in this sheet can be used to calibrate your model.<br /></p>\\n<p>Column A - Year of competition, from 1998 - 2009<br />Column B - Competitor country<br />Column C - Region of competitor country (nb: please see \\'Region Classifications\\' below)<br />Column D - Language of song entered by competitor country<br />Column E - Name of performing artist<br />Column F - Name of song<br />Column G - Name of song, English translation<br />Column H - Gender of artist (nb: this is designated as \"male\" or \"female\" or \"both\" if a mixed-gender group)<br />Column I - Group or solo performer<br />Column J - Place achieved in final (nb: the # of competitors and thus places has changed on a yearly basis)<br />Column K - Total points received by competing country, an aggregate of votes<br />Column L - Host country<br />Column M - Region of host country (nb: please see \\'Region Classifications\\' below)<br />Column N - Whether the Contest was held in the competitor\\'s own country (\"Home\") or another country (\"Away\")<br />Column O - Whether the Contest was held in the competitor\\'s own region (\"Home\") or another region (\"Away\")<br />Column P - Approximate betting prices (nb: please see \\'Approximate Betting Prices data\\' below)<br />Columns Q-BK - Voting countries and their allocation of scores to competitor countries listed in Column A (nb: these columns contain the list of all countries which have competed in the Eurovision Song Contest Final from 1998-2009, however not every country voted/entered the Contest every year)<br /><br /><i>Semi-final data by year</i><u><br /></u></p>\\n<p><br />The data in this sheet can also be used to calibrate your model.</p>\\n<p>Column A - Year of competition, from\\xa02004 - 2009, and designation as \"SF1\" (semi-final 1) or \"SF2\" (semi-final 2).\\xa0 (nb: for years 2004-2007, there was only one semi-final per year, and these have been designated as \"SF1\")<br />Column B - Competitor country<br />Column C - Region of competitor country (nb: please see \\'Region Classifications\\' below)<br />Column D - Language of song entered by competitor country<br />Column E - Name of performing artist<br />Column F - Name of song<br />Column G - Name of song, English translation<br />Column\\xa0H - Place achieved in final (nb: the # of competitors and thus places has changed on a yearly basis)<br />Column\\xa0I - Total points received by competing country, an aggregate of votes<br />Column\\xa0J - Host country<br />Column\\xa0K - Region of host country (nb: please see \\'Region Classifications\\' below)<br />Column\\xa0L - Whether the Contest was held in the competitor\\'s own country (\"Home\") or another country (\"Away\")<br />Column\\xa0M - Whether the Contest was held in the competitor\\'s own region (\"Home\") or another region (\"Away\")<br />Column\\xa0N - Approximate betting prices (nb: please see \\'Approximate Betting Prices data\\' below)<br />Columns O-BI - Voting countries and their allocation of scores to competitor countries listed in Column A (nb: these columns contain the list of all countries which have competed in the Eurovision Song Contest semi-finals from 2004-2009, however not every country voted/entered the Contest every year)<br /><br /><i>2010 Data</i><u><br /></u></p>\\n<p>The data in this sheet can be used to generate your entry.\\xa0</p>\\n<p>Column A - Year of competition, ie: 2010<br />Column B - Competitor country (nb: this contains list of all 2010 Contest contestants, of which only 25 will compete in the final.\\xa0 Germany, United Kingdom, Spain, France and Norway will definitely compete in the Final)<br />Column C - Region of competitor country (nb: please see \\'Region Classifications\\' below)<br />Column D - Language of song entered by competitor country<br />Column E - Name of performing artist<br />Column F - Name of song<br />Column G - Name of song, English translation<br />Column H - Gender of artist (nb: this is designated as \"male\" or \"female\" or \"both\" if a mixed-gender group)<br />Column I - Group or solo performer<br />Column J - Place achieved in final<br />Column K - Total points received by competing country, an aggregate of votes<br />Column L - Host country<br />Column M - Region of host country (nb: please see \\'Region Classifications\\' below)<br />Column N - Whether the Contest\\xa0is being held in the competitor\\'s own country (\"Home\") or another country (\"Away\") (nb: this will read \"Home\" for Norway and \"Away\" for every other country)<br />Column O - Whether the Contest\\xa0is being\\xa0held in the competitor\\'s own region (\"Home\") or another region (\"Away\") (nb: this will read \"Home\" for Scandinavian countries and \"Away\" for all other countries)<br />Column P - Approximate betting prices (nb: please see \\'Approximate Betting Prices data\\' below)<br /><br /><b>This year\\'s participants<br /><br /></b>39 countries have confirmed their participation in this year\\'s Eurovision Song Contest.\\xa0 <br /><i>Semi-final 1</i> - Moldova, Russia, Estonia, Slovakia, Finland, Latvia, Serbia, Bosnia and Herzegovina, Poland, Belgium, Malta, Albania, Greece, Portugal, Macedonia, Belarus, Iceland<br /><i>Semi-final 2</i> - Lithuania, Armenia, Israel, Denmark, Switzerland, Sweden, Azerbaijan, Ukraine, Netherlands, Romania, Slovenia, Ireland, Bulgaria, Cyprus, Croatia, Georgia, Turkey<br /><i>Straight to final</i> - Spain, Norway, United Kingdom, France, Germany<br /><br /><b>Voting procedure in semi-finals<br /></b><br />Semi-finals were introduced in 2004.\\xa0 There was one semi-final every year from 2004-2007, and two semi-finals per year for 2008 onwards (including this year).\\xa0\\xa0 <br /><br />As explained in the \\'Background\\' sheet, a \\'positional voting\\' system is used, whereby each voting country must allocate scores of 1, 2, 3, 4, 5, 6, 7, 8, 10, and 12 to competitor countries.\\xa0 Only the countries competing in that semi-final vote, the exception being the 5 countries which automatically qualify for the final.\\xa0 In 2008, Germany and Spain voted in semi-final 1; France, United Kingdom and Serbia voted in semi-final 2.\\xa0 In 2009, Germany and United Kingdom voted in semi-final 1; France, Spain and Russia voted in semi-final 2.\\xa0 This year, France, Germany and Spain will vote in semi-final 1; Norway and United Kingdom will vote in semi-final 2.<i><br /><br />Voting procedure for 2004-2007</i> - the top 10 from the previous year\\'s final and this year\\'s semi-final would qualify for this year\\'s final.\\xa0 (eg: in 2004, the final contestants were the top 10 from 2004\\'s semi-final plus the top 10 from 2003\\'s final.)<i><br />Voting procedure for 2008-2009</i> - the top 9 from each semi-final, as determined by televote, would proceed to the final.\\xa0 Additionally, the top country in each semi-final\\xa0as voted by\\xa0the back-up juries, but\\xa0which was not in the top 9 televotes, would also proceed to the final.\\xa0 In total, this meant 9 televotes + 1 jury wild-card per semi-final, ie: 20 final contestants.<br /><i>Voting procedure for 2010</i>\\xa0- replacing the system from the previous 2 years, the top 10 from each semi-final, determined by 50% jury vote and 50% televote, will proceed to the final.<br /><br /><b>Voting procedure in the final<br /><br /></b>As explained in the \\'Background\\' sheet, a \\'positional voting\\' system is used, whereby each voting country must allocate scores of 1, 2, 3, 4, 5, 6, 7, 8, 10, and 12 to competitor countries.\\xa0 All countries involved in the Contest,\\xa0whether knocked out after the semi-finals or competing in the final, must vote.\\xa0 Thus, in this year\\'s final, there will be 25 competing countries, and 39 voting countries.<br /><br /><b>Region classifications<br /><br /></b>We have classified the countries by region as follows:<br /><br /><i>Scandinavia</i> - Denmark, Finland, Iceland, Norway, Sweden<br /><i>Western Europe</i> - Andorra, Austria, Belgium, France, Germany, Greece,\\xa0Italy, Luxembourg, Malta, Monaco, Netherlands, Portugal, San Marino,\\xa0Spain, Switzerland<br /><i>Independent</i> - Cyprus, Ireland, Israel, Turkey, United Kingdom<br /><i>Former Socialist Bloc</i> - Albania, Armenia, Azerbaijan, Belarus, Bulgaria, Czech Republic, Estonia, Georgia, Hungary, Latvia, Lithuania, Moldova, Poland, Romania,\\xa0Russia, Slovakia, Ukraine<br /><i>Former Yugoslavia</i> - Bosnia and Herzegovina, Croatia, Kosovo, Macedonia, Montenegro / Serbia and Montenegro\\xa0/ Serbia, Slovenia<br /><br /><b>Approximate Betting Prices data<br /><br /></b>You will notice that Column P \\'Approximate Betting Prices\\' in the \\'2010 Data\\' sheet has been filled however this data is\\xa0obviously\\xa0constantly changing.\\xa0 For the most up-to-date price data, we\\xa0suggest using the\\xa0following website:<br /><a href=\"http://www.oddschecker.com/specials/tv/eurovision/win-market\" mce_href=\"http://www.oddschecker.com/specials/tv/eurovision/win-market\"><span style=\"color: rgb(0, 0, 0);\" mce_style=\"FONT-FAMILY: ; COLOR: #000000\">http://www.oddschecker.com/specials/tv/eurovision/win-market</span></a><br mce_bogus=\"1\" /><br />The historical \\'Approximate Betting Prices\\' data (Column P and Column N in the \\'Final data by year\\' and \\'Semi-final data by year\\' sheets respectively) is provided by Betfair, and is an average over time of betting prices\\xa0for each competitor country from one particular betting website, Betfair Pty Ltd.\\xa0 In contrast, the above link for oddschecker.com provides spot data which averages betting prices for each competitor country across a range of betting websites.\\xa0\\xa0<br /><br />The \\'Approximate Betting Prices\\' data for semi-finals is the same as for finals.<br /><br /><b>Anomalies by year including exceptions to televoting rule</b><br /><br /><i>1998</i> - Hungary, Ireland, Romania and Turkey used back-up jury vote<br /><i>1999</i> - Lithuania, Turkey, Ireland, and Bosnia and Herzegovina used back-up jury vote<br /><i>2000</i> - Netherlands, Romania, Russia, Macedonia and Turkey used back-up jury vote<br /><i>2001</i> - Bosnia and Herzegovina, Russia and Turkey used\\xa0back-up jury vote; Croatia, Malta and Greece used a 50/50 jury/televote system<br /><i>2002</i> - Russia, Bosnia and Herzegovina, Turkey and Romania used back-up jury vote; Cyprus, Greece, Croatia and Malta used a 50/50 jury/televote system<br /><i>2003</i> - Ireland, Bosnia and Herzegovina and Russia used back-up jury vote<br /><i>2004</i> - Turkey did not hear Slovenia\\'s entry due to technical faults and therefore could not vote for it<br /><i>2005</i> - Monaco, Andorra and Moldova used back-up jury vote in the final.\\xa0 (Andorra, Monaco and Albania used back-up jury vote in the semi-final)<br /><i>2006</i> - Monaco and Albania used back-up jury vote in the final.\\xa0 (Andorra, Monaco and Albania used back-up jury vote in the semi-final)<br /><i>2007</i> - Albania and Andorra used back-up jury vote in the final.\\xa0 (Albania and Andorra used back-up jury vote in the semi-final).\\xa0 This was the first year that Serbia and Montenegro competed as separate entities<br /><i>2008</i> - Germany, Poland and United Kingdom all received a total of 14 points in the final however have been ranked in the provided data as 23rd, 24th and 25th respectively, as Germany received the most 12s, Poland the most 10s, and United Kingdom the fewest 2009 - Norway used back-up\\xa0jury vote and Hungary used sms vote only in the final.\\xa0 (Spain and Albania used back-up jury vote in the semi-final).</p><p>Note: you can open CSV files with Microsoft Excel or OpenOffice for more human-friendly viewing. </p>'],\n",
       " 'TotalCompressedBytes': ['800614'],\n",
       " 'TotalUncompressedBytes': ['400307'],\n",
       " 'ValidationSetName': [''],\n",
       " 'ValidationSetValue': [''],\n",
       " 'EnableSubmissionModelHashes': ['False'],\n",
       " 'EnableSubmissionModelAttachments': ['False'],\n",
       " 'HostName': [''],\n",
       " 'CompetitionTypeId': ['1']}"
      ]
     },
     "execution_count": 6,
     "metadata": {},
     "output_type": "execute_result"
    }
   ],
   "source": [
    "# All fields in `Competitions`\n",
    "table_header('Competitions', rawdata_path)"
   ]
  },
  {
   "cell_type": "code",
   "execution_count": 7,
   "id": "c04e9d5d",
   "metadata": {},
   "outputs": [
    {
     "data": {
      "text/plain": [
       "9446"
      ]
     },
     "execution_count": 7,
     "metadata": {},
     "output_type": "execute_result"
    }
   ],
   "source": [
    "# Create Table of Contests\n",
    "tbl_contests = table_filter( \\\n",
    "\t'Competitions', rawdata_path,\n",
    "\tfields=['Id',\n",
    "\t\t'EnabledDate', 'DeadlineDate', 'ProhibitNewEntrantsDeadlineDate',\n",
    "\t\t'TeamMergerDeadlineDate', 'TeamModelDeadlineDate', 'TeamModelDeadlineDate',\n",
    "\t\t'ModelSubmissionDeadlineDate',\n",
    "\t\t'HasLeaderboard', 'LeaderboardPercentage', 'MaxDailySubmissions',\n",
    "\t\t'RewardType', 'RewardQuantity', 'NumPrizes',\n",
    "\t\t'FinalLeaderboardHasBeenVerified', 'EvaluationAlgorithmName'\n",
    "\t],\n",
    "\tfields_datetime=[\n",
    "\t\t'EnabledDate', 'DeadlineDate', 'ProhibitNewEntrantsDeadlineDate',\n",
    "\t\t'TeamMergerDeadlineDate', 'TeamModelDeadlineDate', 'TeamModelDeadlineDate',\n",
    "\t\t'ModelSubmissionDeadlineDate'\n",
    "\t],\n",
    "\tfields_index=['Id'],\n",
    ")\n",
    "len(tbl_contests)"
   ]
  },
  {
   "cell_type": "code",
   "execution_count": 8,
   "id": "e89a1c78",
   "metadata": {},
   "outputs": [
    {
     "name": "stdout",
     "output_type": "stream",
     "text": [
      ">>> Filter 1: How many contests are there having records of submissions from players?\n",
      "5694\n",
      ">>> We only consider these contests\n"
     ]
    }
   ],
   "source": [
    "print('>>> Filter 1: How many contests are there having records of submissions from players?')\n",
    "lst_contests_with_submissions = tbl_submissions['CompetitionId'].unique()\n",
    "print(len(lst_contests_with_submissions))\n",
    "\n",
    "# Filter 1\n",
    "print('>>> We only consider these contests')\n",
    "tbl_contests = tbl_contests[tbl_contests['Id'].isin(lst_contests_with_submissions)]\n",
    "tbl_submissions = tbl_submissions.loc[tbl_submissions['CompetitionId'].isin(tbl_contests['Id'])]"
   ]
  },
  {
   "cell_type": "code",
   "execution_count": 9,
   "id": "7d461d8f",
   "metadata": {},
   "outputs": [
    {
     "name": "stdout",
     "output_type": "stream",
     "text": [
      ">>> Filter 2: In above, how many contests are there having public leaderboard?\n",
      "5694\n",
      ">>> We only consider these contests\n"
     ]
    }
   ],
   "source": [
    "print('>>> Filter 2: In above, how many contests are there having public leaderboard?')\n",
    "lst_contests_with_leaderboard = tbl_contests.loc[tbl_contests['HasLeaderboard']==True]['Id']\n",
    "print(len(lst_contests_with_submissions))\n",
    "\n",
    "# Filter 2\n",
    "print('>>> We only consider these contests')\n",
    "tbl_contests = tbl_contests[tbl_contests['Id'].isin(lst_contests_with_leaderboard)]\n",
    "tbl_submissions = tbl_submissions.loc[tbl_submissions['CompetitionId'].isin(tbl_contests['Id'])]"
   ]
  },
  {
   "cell_type": "code",
   "execution_count": 10,
   "id": "4a97d645",
   "metadata": {},
   "outputs": [
    {
     "name": "stdout",
     "output_type": "stream",
     "text": [
      ">>> Is there never-ending contests?\n",
      "0\n",
      "0\n"
     ]
    }
   ],
   "source": [
    "print('>>> Is there never-ending contests?')\n",
    "forever_date = datetime(2029, 1, 1, 0, 0, 0)\n",
    "print((tbl_contests['DeadlineDate'] > forever_date).sum())\n",
    "print((tbl_contests['DeadlineDate'].isna()).sum())"
   ]
  },
  {
   "cell_type": "code",
   "execution_count": 11,
   "id": "51534011",
   "metadata": {},
   "outputs": [
    {
     "name": "stdout",
     "output_type": "stream",
     "text": [
      ">>> How many reward types are there?\n",
      "RewardType\n",
      "NaN          4778\n",
      "USD           407\n",
      "Knowledge     381\n",
      "Swag           95\n",
      "Jobs           14\n",
      "Kudos          10\n",
      "Prizes          6\n",
      "EUR             1\n",
      "Name: count, dtype: int64\n"
     ]
    }
   ],
   "source": [
    "print('>>> How many reward types are there?')\n",
    "print(tbl_contests['RewardType'].value_counts(dropna=False))"
   ]
  },
  {
   "cell_type": "code",
   "execution_count": 12,
   "id": "2c6dd693",
   "metadata": {},
   "outputs": [
    {
     "name": "stdout",
     "output_type": "stream",
     "text": [
      ">>> List of the number of contests providing multiple prize:\n",
      "NumPrizes\n",
      "1     4722\n",
      "0      498\n",
      "3      292\n",
      "5       82\n",
      "4       28\n",
      "10      18\n",
      "6       16\n",
      "2       11\n",
      "8       10\n",
      "7        9\n",
      "9        4\n",
      "13       1\n",
      "12       1\n",
      "Name: count, dtype: int64\n"
     ]
    }
   ],
   "source": [
    "print('>>> List of the number of contests providing multiple prize:')\n",
    "pprint(tbl_contests['NumPrizes'].value_counts())"
   ]
  },
  {
   "cell_type": "code",
   "execution_count": 13,
   "id": "554a914d",
   "metadata": {},
   "outputs": [],
   "source": [
    "# Split contests with prize type\n",
    "lst_contest_Usd = tbl_contests.loc[tbl_contests['RewardType']=='USD']['Id']\n",
    "lst_contest_Knowledge = tbl_contests.loc[tbl_contests['RewardType']=='Knowledge']['Id']\n",
    "lst_contest_Swag = tbl_contests.loc[tbl_contests['RewardType']=='Swag']['Id']\n",
    "lst_contest_Kudos = tbl_contests.loc[tbl_contests['RewardType']=='Kudos']['Id']\n",
    "lst_contest_EUR = tbl_contests.loc[tbl_contests['RewardType']=='EUR']['Id']\n",
    "\n",
    "# Split contests with prize number\n",
    "lst_contest_1_prize = tbl_contests.loc[tbl_contests['NumPrizes']==1]['Id']\n",
    "lst_contest_2_prize = tbl_contests.loc[tbl_contests['NumPrizes']==2]['Id']\n",
    "lst_contest_3_prize = tbl_contests.loc[tbl_contests['NumPrizes']==3]['Id']\n",
    "lst_contest_4_prize = tbl_contests.loc[tbl_contests['NumPrizes']==4]['Id']\n",
    "lst_contest_5_prize = tbl_contests.loc[tbl_contests['NumPrizes']==5]['Id']\n",
    "lst_contest_6_prize = tbl_contests.loc[tbl_contests['NumPrizes']==6]['Id']\n",
    "lst_contest_7_prize = tbl_contests.loc[tbl_contests['NumPrizes']==7]['Id']\n",
    "lst_contest_8_prize = tbl_contests.loc[tbl_contests['NumPrizes']==8]['Id']\n",
    "lst_contest_9_prize = tbl_contests.loc[tbl_contests['NumPrizes']==9]['Id']"
   ]
  },
  {
   "cell_type": "markdown",
   "id": "c566eedb",
   "metadata": {},
   "source": [
    "### 3. Select contest providing single USD prize"
   ]
  },
  {
   "cell_type": "code",
   "execution_count": 14,
   "id": "220bcc66",
   "metadata": {},
   "outputs": [],
   "source": [
    "# select\n",
    "tbl_contest_1_Usd_prize = tbl_contests[tbl_contests['Id'].isin(lst_contest_Usd)]\n",
    "tbl_contest_1_Usd_prize = tbl_contest_1_Usd_prize[tbl_contest_1_Usd_prize['Id'].isin(lst_contest_1_prize)]\n",
    "\n",
    "# filter\n",
    "tbl_contest_1_Usd_prize = tbl_contest_1_Usd_prize.loc[tbl_contest_1_Usd_prize['RewardQuantity'] > 0]\n",
    "lst_contest_1_Usd_prize = tbl_contest_1_Usd_prize['Id'].values"
   ]
  },
  {
   "cell_type": "code",
   "execution_count": 15,
   "id": "8d5727d6",
   "metadata": {},
   "outputs": [
    {
     "data": {
      "text/plain": [
       "(array([2435, 2445, 2448, 2452, 2454, 2464, 2467, 2478, 2479, 2487, 2488,\n",
       "        2496, 2549, 2589, 2762, 2860, 2895, 2963, 3065, 3294, 3364, 3370,\n",
       "        3377, 3385, 3386, 3469, 3493, 3507, 3521, 3526, 3586, 3706, 3867,\n",
       "        3928, 3973, 3984, 4195, 4378, 4383, 4493, 4495, 4704]),\n",
       " 42)"
      ]
     },
     "execution_count": 15,
     "metadata": {},
     "output_type": "execute_result"
    }
   ],
   "source": [
    "lst_contest_1_Usd_prize, len(lst_contest_1_Usd_prize)"
   ]
  },
  {
   "cell_type": "markdown",
   "id": "98b333b2",
   "metadata": {},
   "source": [
    "### 4. Work on all Contests"
   ]
  },
  {
   "cell_type": "code",
   "execution_count": 16,
   "id": "4b71d189",
   "metadata": {},
   "outputs": [],
   "source": [
    "from _data_clean import \\\n",
    "\tcontest_basic_setting, \\\n",
    "\tcontest_basic_submission_info, \\\n",
    "\tleaderboard_fulfill, \\\n",
    "\tselect_2_strongest, \\\n",
    "\tsave_contest_data"
   ]
  },
  {
   "cell_type": "code",
   "execution_count": 17,
   "id": "bc61f750",
   "metadata": {},
   "outputs": [
    {
     "name": "stdout",
     "output_type": "stream",
     "text": [
      "Warning: cannot find 2 players in contest 2448\n",
      "Warning: cannot find 2 players in contest 2452; not sufficient submissions\n",
      "Warning: cannot find 2 players in contest 2479; not sufficient submissions\n",
      "Warning: cannot find 2 players in contest 2487\n",
      "Warning: cannot find 2 players in contest 2488; not sufficient submissions\n",
      "Warning: cannot find 2 players in contest 2895; not sufficient submissions\n",
      "Warning: cannot find 2 players in contest 2963\n",
      "Warning: cannot find 2 players in contest 3065\n",
      "Warning: cannot find 2 players in contest 3294\n",
      "Warning: cannot find 2 players in contest 3364\n",
      "Warning: cannot find 2 players in contest 3370; not sufficient submissions\n",
      "Warning: cannot find 2 players in contest 3377; not sufficient submissions\n",
      "Warning: cannot find 2 players in contest 3385\n",
      "Warning: cannot find 2 players in contest 3386\n",
      "Warning: cannot find 2 players in contest 3469\n",
      "Warning: cannot find 2 players in contest 3493\n",
      "Warning: cannot find 2 players in contest 3521; not sufficient submissions\n",
      "Warning: cannot find 2 players in contest 3586; not sufficient submissions\n",
      "Warning: cannot find 2 players in contest 3706\n",
      "Warning: cannot find 2 players in contest 3867\n",
      "Warning: cannot find 2 players in contest 3973; not sufficient submissions\n",
      "Warning: cannot find 2 players in contest 3984\n",
      "Warning: cannot find 2 players in contest 4195; not sufficient submissions\n",
      "Warning: cannot find 2 players in contest 4378; not sufficient submissions\n",
      "Warning: cannot find 2 players in contest 4383; not sufficient submissions\n",
      "Warning: cannot find 2 players in contest 4495; not sufficient submissions\n",
      "Warning: cannot find 2 players in contest 4704\n"
     ]
    }
   ],
   "source": [
    "for contest_id in lst_contest_1_Usd_prize:\n",
    "\tdeadline, prize, max_daily_submit, percentage = contest_basic_setting(tbl_contests, contest_id)\n",
    "\tplayers = select_2_strongest(tbl_submissions, contest_id, deadline)\n",
    "\tif players is None:\n",
    "\t\tprint(f'Warning: cannot find 2 players in contest {contest_id}')\n",
    "\t\tcontinue\n",
    "\telse:\n",
    "\t\tplayer_i, player_j = players\n",
    "\tsave_contest_data( \\\n",
    "\t\ttbl_submissions, contest_id, player_i, player_j, deadline, prize, max_daily_submit, percentage)"
   ]
  },
  {
   "cell_type": "markdown",
   "id": "67ed1406",
   "metadata": {},
   "source": [
    "#### For Those Failed, Double Check "
   ]
  },
  {
   "cell_type": "code",
   "execution_count": 18,
   "id": "c6f37862",
   "metadata": {},
   "outputs": [
    {
     "name": "stdout",
     "output_type": "stream",
     "text": [
      ">>> prize = 500.0\n",
      ">>> percentage = 20 %\n",
      ">>> daily submit (max) = 2\n",
      ">>> deadline = 2010-09-20 00:00:00\n",
      ">>> How many teams are there in this contest?\n",
      "55\n",
      ">>> How many submissions are there in total?\n",
      "275\n",
      ">>> List the number of submissions for the most active 5 teams:\n",
      "TeamId\n",
      "963     19\n",
      "992     19\n",
      "1033    18\n",
      "957     16\n",
      "1061    16\n",
      "dtype: int64\n"
     ]
    }
   ],
   "source": [
    "# select one\n",
    "contest_id = 2448\n",
    "\n",
    "# Contest settings\n",
    "deadline, prize, max_daily_submit, percentage = contest_basic_setting(tbl_contests, contest_id)\n",
    "print('>>> prize =', prize)\n",
    "print('>>> percentage =', percentage, '%')\n",
    "print('>>> daily submit (max) =', max_daily_submit)\n",
    "print('>>> deadline =', deadline)\n",
    "\n",
    "# Display basic info\n",
    "tbl_submissions_specific = contest_basic_submission_info(tbl_submissions, contest_id)\n",
    "\n",
    "# Create leaderboard\n",
    "leaderboard_pub, leaderboard_pri = leaderboard_fulfill(tbl_submissions_specific, deadline)"
   ]
  }
 ],
 "metadata": {
  "kernelspec": {
   "display_name": ".venv_macbook",
   "language": "python",
   "name": "python3"
  },
  "language_info": {
   "codemirror_mode": {
    "name": "ipython",
    "version": 3
   },
   "file_extension": ".py",
   "mimetype": "text/x-python",
   "name": "python",
   "nbconvert_exporter": "python",
   "pygments_lexer": "ipython3",
   "version": "3.13.2"
  }
 },
 "nbformat": 4,
 "nbformat_minor": 5
}
