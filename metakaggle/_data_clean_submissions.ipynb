{
 "cells": [
  {
   "cell_type": "markdown",
   "id": "048e6c3e",
   "metadata": {},
   "source": [
    "# Explore `meta-kaggle` Dataset"
   ]
  },
  {
   "cell_type": "markdown",
   "id": "f3136aec",
   "metadata": {},
   "source": [
    "## --- Submissions"
   ]
  },
  {
   "cell_type": "code",
   "execution_count": 1,
   "id": "76d0f266",
   "metadata": {},
   "outputs": [],
   "source": [
    "# std library\n",
    "import os\n",
    "from datetime import datetime\n",
    "from pprint import pprint\n",
    "from typing import Literal\n",
    "\n",
    "# third-party\n",
    "import pandas as pd\n",
    "from IPython.display import HTML, display\n",
    "\n",
    "# local\n",
    "from datafilter import table_filter, table_header\n",
    "from _data_clean import contest_basic_setting, \\\n",
    "\tcontest_basic_submission_info, leaderboard_fulfill, \\\n",
    "\tselect_2_strongest, save_contest_data, Leaderboard_Type"
   ]
  },
  {
   "cell_type": "code",
   "execution_count": 2,
   "id": "457a7f2d",
   "metadata": {},
   "outputs": [],
   "source": [
    "rawdata_path = os.path.abspath('./__rawdata__')"
   ]
  },
  {
   "cell_type": "markdown",
   "id": "08eeebe3",
   "metadata": {},
   "source": [
    "Download RawData: \n",
    "\n",
    "1. Install Python package `kaggle`\n",
    "2. [Create token](https://www.kaggle.com/docs/api) and \n",
    "3. Put the `kaggle.json` file to the `.kaggle` folder of your home directory\n",
    "4. Download dataset `meta-kaggle` if haven't yet, by excuting: "
   ]
  },
  {
   "cell_type": "code",
   "execution_count": null,
   "id": "c4f2f30f",
   "metadata": {},
   "outputs": [
    {
     "name": "stdout",
     "output_type": "stream",
     "text": [
      "Dataset URL: https://www.kaggle.com/datasets/kaggle/meta-kaggle\n"
     ]
    }
   ],
   "source": [
    "if not os.path.exists(rawdata_path):\n",
    "\timport api\n",
    "\tapi.download_rawdata(rawdata_path)"
   ]
  },
  {
   "cell_type": "markdown",
   "id": "88b86395",
   "metadata": {},
   "source": [
    "### 1. Mapping Datasets"
   ]
  },
  {
   "cell_type": "markdown",
   "id": "15309878",
   "metadata": {},
   "source": [
    "Create a dataset of submissions, containing the following fields:\n",
    "- Id \n",
    "- TeamId \n",
    "- CompetitionId \n",
    "- SubmissionDate\n",
    "- PublicScore\n",
    "- PrivateScore"
   ]
  },
  {
   "cell_type": "code",
   "execution_count": null,
   "id": "e9ddc353",
   "metadata": {},
   "outputs": [],
   "source": [
    "# Submissions\n",
    "# - TeamId\n",
    "# - SubmissionDate\n",
    "tbl_submissions = table_filter( \\\n",
    "\t'Submissions', rawdata_path,\n",
    "\tfields = ['Id', 'TeamId', 'SubmissionDate', 'IsAfterDeadline',\n",
    "\t\t'PublicScoreLeaderboardDisplay', 'PrivateScoreFullPrecision'],\n",
    "\tfields_index = ['Id'],\n",
    "\tfields_datetime = ['SubmissionDate'],\n",
    ")\n",
    "# drop all submissions after deadlines\n",
    "tbl_submissions = tbl_submissions[~tbl_submissions['IsAfterDeadline']]\n",
    "tbl_submissions.drop('IsAfterDeadline', axis=1, inplace=True)\n",
    "# rename long name\n",
    "tbl_submissions.rename(columns={\n",
    "\t'PublicScoreLeaderboardDisplay': 'PublicScore',\n",
    "\t'PrivateScoreFullPrecision': 'PrivateScore'\n",
    "}, inplace=True)\n",
    "# drop duplicated\n",
    "## One team can submit only once at a time point\n",
    "tbl_submissions = tbl_submissions.drop_duplicates(subset=['SubmissionDate', 'TeamId'])"
   ]
  },
  {
   "cell_type": "code",
   "execution_count": null,
   "id": "c69a4698",
   "metadata": {},
   "outputs": [],
   "source": [
    "# Mapping: Teams\n",
    "# - CompetitionId\n",
    "map_teams_competitions = table_filter( \\\n",
    "\t'Teams', rawdata_path,\n",
    "\tfields = ['Id', 'CompetitionId'],\n",
    "\tfields_index = ['Id'],\n",
    ")"
   ]
  },
  {
   "cell_type": "code",
   "execution_count": null,
   "id": "342a432c",
   "metadata": {},
   "outputs": [],
   "source": [
    "# Merge `Submissions` and `TeamsCompetition`\n",
    "tbl_submissions = pd.merge(tbl_submissions, map_teams_competitions,\n",
    "\thow = 'left', left_on = 'TeamId', right_on = 'Id', sort = False,\n",
    "\tsuffixes=('', '_Team'))\n",
    "tbl_submissions.drop(columns='Id_Team', inplace=True)\n",
    "tbl_submissions.dtypes"
   ]
  },
  {
   "cell_type": "code",
   "execution_count": null,
   "id": "f17f659c",
   "metadata": {},
   "outputs": [],
   "source": [
    "# All fields in `Competitions`\n",
    "table_header('Competitions', rawdata_path)"
   ]
  },
  {
   "cell_type": "code",
   "execution_count": null,
   "id": "c04e9d5d",
   "metadata": {},
   "outputs": [],
   "source": [
    "# Create Table of Contests\n",
    "tbl_contests = table_filter( \\\n",
    "\t'Competitions', rawdata_path,\n",
    "\tfields=['Id',\n",
    "\t\t'EnabledDate', 'DeadlineDate', 'ProhibitNewEntrantsDeadlineDate',\n",
    "\t\t'TeamMergerDeadlineDate', 'TeamModelDeadlineDate', 'TeamModelDeadlineDate',\n",
    "\t\t'ModelSubmissionDeadlineDate',\n",
    "\t\t'HasLeaderboard', 'LeaderboardPercentage', 'MaxDailySubmissions',\n",
    "\t\t'RewardType', 'RewardQuantity', 'NumPrizes',\n",
    "\t\t'FinalLeaderboardHasBeenVerified', 'EvaluationAlgorithmName', 'Overview', 'Rules'\n",
    "\t],\n",
    "\tfields_datetime=[\n",
    "\t\t'EnabledDate', 'DeadlineDate', 'ProhibitNewEntrantsDeadlineDate',\n",
    "\t\t'TeamMergerDeadlineDate', 'TeamModelDeadlineDate', 'TeamModelDeadlineDate',\n",
    "\t\t'ModelSubmissionDeadlineDate'\n",
    "\t],\n",
    "\tfields_index=['Id'],\n",
    ")\n",
    "len(tbl_contests)"
   ]
  },
  {
   "cell_type": "code",
   "execution_count": null,
   "id": "7722c6aa",
   "metadata": {},
   "outputs": [],
   "source": [
    "def save_to_device(\n",
    "\t\tcontest_id: int,\n",
    "\t\tleaderboard_type: Leaderboard_Type,\n",
    "\t\tprize: float | None = None\n",
    "):\n",
    "\tdeadline, total_prize, max_daily_submit, percentage = \\\n",
    "\t\t\tcontest_basic_setting(tbl_contests, contest_id)\n",
    "\tif prize is None:\n",
    "\t\tprize = total_prize\n",
    "\tassert prize is not None\n",
    "\tplayers = \\\n",
    "\t\t\tselect_2_strongest(tbl_submissions, contest_id, deadline, leaderboard_type)\n",
    "\tif players is None:\n",
    "\t\tprint(f'Warning: cannot find 2 players in contest {contest_id}')\n",
    "\t\treturn\n",
    "\telse:\n",
    "\t\tplayer_i, player_j = players\n",
    "\tsave_contest_data( \\\n",
    "\t\ttbl_submissions, contest_id, player_i, player_j,\n",
    "\t\tdeadline, prize, max_daily_submit, percentage, leaderboard_type)"
   ]
  },
  {
   "cell_type": "markdown",
   "id": "edbb01f1",
   "metadata": {},
   "source": [
    "### 2. Splitting Contests by Types"
   ]
  },
  {
   "cell_type": "code",
   "execution_count": null,
   "id": "e89a1c78",
   "metadata": {},
   "outputs": [],
   "source": [
    "print('>>> Filter 1: How many contests are there having records of submissions from players?')\n",
    "lst_contests_with_submissions = tbl_submissions['CompetitionId'].unique()\n",
    "print(len(lst_contests_with_submissions))\n",
    "\n",
    "# Filter 1\n",
    "print('>>> We only consider these contests')\n",
    "tbl_contests = tbl_contests[tbl_contests['Id'].isin(lst_contests_with_submissions)]\n",
    "tbl_submissions = tbl_submissions.loc[tbl_submissions['CompetitionId'].isin(tbl_contests['Id'])]"
   ]
  },
  {
   "cell_type": "code",
   "execution_count": null,
   "id": "7d461d8f",
   "metadata": {},
   "outputs": [],
   "source": [
    "print('>>> Filter 2: In above, how many contests are there having public leaderboard?')\n",
    "lst_contests_with_leaderboard = tbl_contests.loc[tbl_contests['HasLeaderboard']==True]['Id']\n",
    "print(len(lst_contests_with_submissions))\n",
    "\n",
    "# Filter 2\n",
    "print('>>> We only consider these contests')\n",
    "tbl_contests = tbl_contests[tbl_contests['Id'].isin(lst_contests_with_leaderboard)]\n",
    "tbl_submissions = tbl_submissions.loc[tbl_submissions['CompetitionId'].isin(tbl_contests['Id'])]"
   ]
  },
  {
   "cell_type": "code",
   "execution_count": null,
   "id": "4a97d645",
   "metadata": {},
   "outputs": [],
   "source": [
    "print('>>> Is there never-ending contests?')\n",
    "forever_date = datetime(2029, 1, 1, 0, 0, 0)\n",
    "print((tbl_contests['DeadlineDate'] > forever_date).sum())\n",
    "print((tbl_contests['DeadlineDate'].isna()).sum())"
   ]
  },
  {
   "cell_type": "code",
   "execution_count": null,
   "id": "51534011",
   "metadata": {},
   "outputs": [],
   "source": [
    "print('>>> How many reward types are there?')\n",
    "print(tbl_contests['RewardType'].value_counts(dropna=False))"
   ]
  },
  {
   "cell_type": "code",
   "execution_count": null,
   "id": "2c6dd693",
   "metadata": {},
   "outputs": [],
   "source": [
    "print('>>> List of the number of contests providing multiple prize:')\n",
    "pprint(tbl_contests['NumPrizes'].value_counts())"
   ]
  },
  {
   "cell_type": "code",
   "execution_count": null,
   "id": "554a914d",
   "metadata": {},
   "outputs": [],
   "source": [
    "# Split contests with prize type\n",
    "lst_contest_Usd = tbl_contests.loc[tbl_contests['RewardType']=='USD']['Id']\n",
    "lst_contest_Knowledge = tbl_contests.loc[tbl_contests['RewardType']=='Knowledge']['Id']\n",
    "lst_contest_Swag = tbl_contests.loc[tbl_contests['RewardType']=='Swag']['Id']\n",
    "lst_contest_Kudos = tbl_contests.loc[tbl_contests['RewardType']=='Kudos']['Id']\n",
    "lst_contest_EUR = tbl_contests.loc[tbl_contests['RewardType']=='EUR']['Id']\n",
    "\n",
    "# Split contests with prize number\n",
    "lst_contest_1_prize = tbl_contests.loc[tbl_contests['NumPrizes']==1]['Id']\n",
    "lst_contest_2_prize = tbl_contests.loc[tbl_contests['NumPrizes']==2]['Id']\n",
    "lst_contest_3_prize = tbl_contests.loc[tbl_contests['NumPrizes']==3]['Id']\n",
    "lst_contest_4_prize = tbl_contests.loc[tbl_contests['NumPrizes']==4]['Id']\n",
    "lst_contest_5_prize = tbl_contests.loc[tbl_contests['NumPrizes']==5]['Id']\n",
    "lst_contest_6_prize = tbl_contests.loc[tbl_contests['NumPrizes']==6]['Id']\n",
    "lst_contest_7_prize = tbl_contests.loc[tbl_contests['NumPrizes']==7]['Id']\n",
    "lst_contest_8_prize = tbl_contests.loc[tbl_contests['NumPrizes']==8]['Id']\n",
    "lst_contest_9_prize = tbl_contests.loc[tbl_contests['NumPrizes']==9]['Id']"
   ]
  },
  {
   "cell_type": "code",
   "execution_count": null,
   "id": "ba1a706b",
   "metadata": {},
   "outputs": [],
   "source": [
    "print('>>> In the list of contest with 1 single prize, how many of them has positive reward quantity?')\n",
    "tbl_contest_1_prize = tbl_contests.loc[tbl_contests['Id'].isin(lst_contest_1_prize)]\n",
    "tbl_contest_1_prize_has_reward = tbl_contest_1_prize.loc[tbl_contest_1_prize['RewardQuantity'] > 0]\n",
    "pprint(len(tbl_contest_1_prize_has_reward))\n",
    "\n",
    "pprint('>>> List their reward types:')\n",
    "pprint(tbl_contest_1_prize_has_reward['RewardType'].value_counts())"
   ]
  },
  {
   "cell_type": "code",
   "execution_count": null,
   "id": "a29b7ed0",
   "metadata": {},
   "outputs": [],
   "source": [
    "print('>>> In the list of contest with 3 prizes, how many of them has positive reward quantity?')\n",
    "tbl_contest_3_prize = tbl_contests.loc[tbl_contests['Id'].isin(lst_contest_3_prize)]\n",
    "tbl_contest_3_prize_has_reward = tbl_contest_3_prize.loc[tbl_contest_3_prize['RewardQuantity'] > 0]\n",
    "pprint(len(tbl_contest_3_prize_has_reward))\n",
    "\n",
    "pprint('>>> List their reward types:')\n",
    "pprint(tbl_contest_3_prize_has_reward['RewardType'].value_counts())"
   ]
  },
  {
   "cell_type": "code",
   "execution_count": null,
   "id": "2e78dc46",
   "metadata": {},
   "outputs": [],
   "source": [
    "print('>>> In the list of contest with USD prize, list the reward quantity:')\n",
    "tbl_contest_Usd_prize = tbl_contests.loc[tbl_contests['Id'].isin(lst_contest_Usd)]\n",
    "pprint(tbl_contest_Usd_prize['NumPrizes'].value_counts())"
   ]
  },
  {
   "cell_type": "markdown",
   "id": "c566eedb",
   "metadata": {},
   "source": [
    "### 3. Select contest providing 1 single USD prize"
   ]
  },
  {
   "cell_type": "code",
   "execution_count": null,
   "id": "220bcc66",
   "metadata": {},
   "outputs": [],
   "source": [
    "# select\n",
    "tbl_contest_1_Usd_prize = tbl_contests[tbl_contests['Id'].isin(lst_contest_Usd)]\n",
    "tbl_contest_1_Usd_prize = tbl_contest_1_Usd_prize[tbl_contest_1_Usd_prize['Id'].isin(lst_contest_1_prize)]\n",
    "\n",
    "# filter\n",
    "tbl_contest_1_Usd_prize = tbl_contest_1_Usd_prize.loc[tbl_contest_1_Usd_prize['RewardQuantity'] > 0]\n",
    "lst_contest_1_Usd_prize = tbl_contest_1_Usd_prize['Id'].values"
   ]
  },
  {
   "cell_type": "code",
   "execution_count": null,
   "id": "9f71a7e1",
   "metadata": {},
   "outputs": [],
   "source": [
    "lst_contest_1_Usd_prize"
   ]
  },
  {
   "cell_type": "markdown",
   "id": "3cb41a42",
   "metadata": {},
   "source": [
    "Note: \n",
    "Finally, we pick 13 contests......\n",
    "\n",
    "2435 (big), 2445 (small), 2454 (small), 2464 (small), 2467 (normal), 2478 (small),<br>\n",
    "2549 (small), 2762 (small), 2860 (small), 3507 (small), 3526 (small), 3928 (small),<br>\n",
    "4493 (small)\n"
   ]
  },
  {
   "cell_type": "code",
   "execution_count": null,
   "id": "4b71d189",
   "metadata": {},
   "outputs": [],
   "source": [
    "# Contest Info\n",
    "contest_id = 3370\n",
    "\n",
    "# Contest settings\n",
    "deadline, total_prize, max_daily_submit, percentage = contest_basic_setting(tbl_contests, contest_id)\n",
    "print('>>> prize =', total_prize)\n",
    "print('>>> percentage =', percentage, '%')\n",
    "print('>>> daily submit (max) =', max_daily_submit)\n",
    "print('>>> deadline =', deadline)\n",
    "\n",
    "# Display basic info\n",
    "tbl_submissions_specific = contest_basic_submission_info(tbl_submissions, contest_id)\n",
    "\n",
    "# Create leaderboard\n",
    "leaderboard_pub, leaderboard_pri = leaderboard_fulfill(\n",
    "\t\ttbl_submissions_specific, deadline, 'Normal')\n",
    "display(leaderboard_pri.display(-1, 10))\n",
    "display(leaderboard_pub.display(-1, 10))"
   ]
  },
  {
   "cell_type": "code",
   "execution_count": null,
   "id": "bfdac463",
   "metadata": {},
   "outputs": [],
   "source": [
    "# save_to_device(contest_id, 'Percentage_Big')\n",
    "save_to_device(contest_id, 'Percentage_Small')\n",
    "# save_to_device(contest_id, 'Normal')"
   ]
  },
  {
   "cell_type": "markdown",
   "id": "079eeaaa",
   "metadata": {},
   "source": [
    "### 4. For those Contests with 2 Prizes"
   ]
  },
  {
   "cell_type": "code",
   "execution_count": null,
   "id": "e99f5ef0",
   "metadata": {},
   "outputs": [],
   "source": [
    "print('>>> In the list of contest with 2 positive USD prizes, what are the values of the prizes?')\n",
    "tbl_contest_2_Usd_prize = tbl_contests[tbl_contests['Id'].isin(lst_contest_Usd)]\n",
    "tbl_contest_2_Usd_prize = tbl_contest_2_Usd_prize[tbl_contest_2_Usd_prize['Id'].isin(lst_contest_2_prize)]\n",
    "tbl_contest_2_Usd_prize = tbl_contest_2_Usd_prize.loc[tbl_contest_2_Usd_prize['RewardQuantity'] > 0]\n",
    "pprint(tbl_contest_2_Usd_prize['Id'].values)"
   ]
  },
  {
   "cell_type": "markdown",
   "id": "82c5606f",
   "metadata": {},
   "source": [
    "Note: \n",
    " - 2489: 2 $250\n",
    " - 2499: $5,000 vs $3,000 \n",
    " - 3023: $7,000 vs $2,500\n",
    " - 3353: $8,000 vs $2,000\n",
    " - 3366: $350 vs $150\n",
    " - 3403: complicated\n",
    " - 3471: $350 vs $150\n",
    " - 3477: $350 vs $150\n",
    " - 3509: $350 vs $150\n",
    " - 4066: $10,000 vs $5,000\n",
    "\n",
    "Finally, we pick \n",
    "\n",
    "2489 (small), 3353 (small), 3366 (small), 3509 (small), "
   ]
  },
  {
   "cell_type": "code",
   "execution_count": null,
   "id": "ec05d1f0",
   "metadata": {},
   "outputs": [],
   "source": [
    "contest_2prize_gap = {\n",
    "\t2489: 100,\n",
    "\t2499: 2000,\n",
    "\t3023: 4500,\n",
    "\t3353: 6000,\n",
    "\t3366: 200,\n",
    "\t3471: 200,\n",
    "\t3477: 200,\n",
    "\t3509: 200,\n",
    "\t4066: 5000\n",
    "}"
   ]
  },
  {
   "cell_type": "code",
   "execution_count": null,
   "id": "e6dd51e2",
   "metadata": {},
   "outputs": [],
   "source": [
    "## check prize info by:\n",
    "# display(HTML(tbl_contest_2_Usd_prize.loc[tbl_contest_2_Usd_prize['Id']==4066, ['Overview']].values[0][0]))"
   ]
  },
  {
   "cell_type": "code",
   "execution_count": null,
   "id": "2e69901b",
   "metadata": {},
   "outputs": [],
   "source": [
    "# Contest Info\n",
    "contest_id = 3509\n",
    "\n",
    "# Contest settings\n",
    "deadline, total_prize, max_daily_submit, percentage = contest_basic_setting(tbl_contests, contest_id)\n",
    "print('>>> percentage =', percentage, '%')\n",
    "print('>>> daily submit (max) =', max_daily_submit)\n",
    "print('>>> deadline =', deadline)\n",
    "\n",
    "# Display basic info\n",
    "tbl_submissions_specific = contest_basic_submission_info(tbl_submissions, contest_id)\n",
    "\n",
    "# Create leaderboard\n",
    "leaderboard_pub, leaderboard_pri = leaderboard_fulfill(\n",
    "\t\ttbl_submissions_specific, deadline, 'Normal')\n",
    "display(leaderboard_pri.display(-1, 10))\n",
    "display(leaderboard_pub.display(-1, 10))"
   ]
  },
  {
   "cell_type": "code",
   "execution_count": null,
   "id": "b3226d5c",
   "metadata": {},
   "outputs": [],
   "source": [
    "# save_to_device(contest_id, 'Percentage_Big', prize=contest_2prize_gap[contest_id])\n",
    "save_to_device(contest_id, 'Percentage_Small', prize=contest_2prize_gap[contest_id])\n",
    "# save_to_device(contest_id, 'Normal', prize=contest_2prize_gap[contest_id])"
   ]
  },
  {
   "cell_type": "markdown",
   "id": "3fa64557",
   "metadata": {},
   "source": [
    "### 4. For those Contests with 3  Prizes"
   ]
  },
  {
   "cell_type": "code",
   "execution_count": null,
   "id": "c3b4431d",
   "metadata": {},
   "outputs": [],
   "source": [
    "print('>>> In the list of contest with 3 positive USD prizes, what are the values of the prizes?')\n",
    "tbl_contest_3_Usd_prize = tbl_contests[tbl_contests['Id'].isin(lst_contest_Usd)]\n",
    "tbl_contest_3_Usd_prize = tbl_contest_3_Usd_prize[tbl_contest_3_Usd_prize['Id'].isin(lst_contest_3_prize)]\n",
    "tbl_contest_3_Usd_prize = tbl_contest_3_Usd_prize.loc[tbl_contest_3_Usd_prize['RewardQuantity'] > 0]\n",
    "pprint(tbl_contest_3_Usd_prize['Id'].values)"
   ]
  },
  {
   "cell_type": "code",
   "execution_count": null,
   "id": "58ce47f1",
   "metadata": {},
   "outputs": [],
   "source": [
    "contest_3prize_gap = {\n",
    "\t2509: 3000,  # normal\n",
    "\t2518: 3000,  # normal\n",
    "\t2551: 1500,  # small\n",
    "\t2602: 2000,\n",
    "\t2606: 1500,\n",
    "\t2609: 1000,\n",
    "\t2667: 30000,  # small\n",
    "\t2732: 5000,\n",
    "\t2748: 3000,  # normal\n",
    "\t2749: 3000,  # small\n",
    "\t2780: 4000,\n",
    "\t2840: 10000,\n",
    "\t2888: 2000,\n",
    "\t2917: 3000,  # normal\n",
    "\t2969: 6500,\n",
    "\t2975: 12000,  # normal\n",
    "\t2984: 5000,  # normal\n",
    "\t3043: 5000,\n",
    "\t3046: 5000,  # normal\n",
    "\t3064: 200,  # small\n",
    "\t3080: 90,  # small\n",
    "\t3084: 7000,\n",
    "\t3175: 6000,\n",
    "\t3288: 1000,  # small\n",
    "\t3316: 4000,\n",
    "\t3338: 1500,  # small\n",
    "\t3342: 1000,\n",
    "\t3354: 200,\n",
    "\t3517: 100,  # small\n",
    "\t3599: 1000,\n",
    "\t3641: 1500,  # small\n",
    "\t3756: 2000,\n",
    "\t3772: 2500,\n",
    "\t3774: 500,  # small\n",
    "\t3800: 3000,  # small\n",
    "\t3887: 3000,  # normal\n",
    "\t3926: 300,   # small\n",
    "\t3929: 8000,  # small\n",
    "\t3934: 6000,\n",
    "\t3951: 4000,  # normal\n",
    "\t3960: 8000,  # small\n",
    "\t3966: 3000,\n",
    "\t3978: 55000,\n",
    "\t4031: 5000,  # small\n",
    "\t4043: 200,  # small\n",
    "\t4104: 20000,  # small\n",
    "\t4117: 9000,\n",
    "\t4120: 7000,\n",
    "\t4272: 5000,\n",
    "\t4280: 2000,\n",
    "\t4366: 8000,  # small\n",
    "\t4407: 4000,  # small\n",
    "\t4438: 4000,\n",
    "\t4453: 2000,  # small\n",
    "\t4467: 5000,\n",
    "\t4471: 4000,  # normal\n",
    "\t4477: 2000,  # small\n",
    "\t4481: 15000,  # normal\n",
    "\t4488: 2000,  # small\n",
    "\t4521: 2000,\n",
    "\t4571: 30000,\n",
    "\t4594: 5000,\n",
    "\t4657: 4000,  # small\n",
    "\t4699: 5000,  # small\n",
    "\t4729: 75000,\n",
    "\t4852: 5000,\n",
    "\t4853: 8000,\n",
    "\t4986: 10000,  # small\n",
    "\t5048: 10000,\n",
    "\t5056: 5000,  # small\n",
    "\t5144: 20000,  # small\n",
    "\t5174: 3000,  # small\n",
    "\t5229: 15000,  # small\n",
    "\t5260: 4000,\n",
    "\t5261: 10000,  # small\n",
    "\t5340: 5000,\n",
    "\t5357: 5000,  # small\n",
    "\t5390: 4000,  # small\n",
    "\t5497: 4000,  # small\n",
    "\t5558: 10000,\n",
    "\t5916: 20000,  # normal\n",
    "\t6116: 4000,\n",
    "\t6243: 30000,\n",
    "\t6277: 4000,\n",
    "\t6322: 10000,  # small\n",
    "\t6392: 4000,\n",
    "\t6565: 4000,\n",
    "\t6644: 4000,  # normal\n",
    "\t6768: 4000,\n",
    "\t6841: 7000,\n",
    "\t6927: 4000,  # small\n",
    "\t7042: 4000,\n",
    "\t7043: 4000,\n",
    "\t7082: 4000,  # normal\n",
    "\t7115: 4000,  # small\n",
    "\t7162: 1000,  # small\n",
    "\t7163: 1000,\n",
    "\t7277: 4000,\n",
    "\t7380: 10000,\n",
    "\t7391: 5000,\n",
    "\t7456: 500,\n",
    "\t7559: 30000,\n",
    "\t7634: 2000,  # small\n",
    "\t7878: 4000,  # small\n",
    "\t8076: 6000,  # small\n",
    "\t8078: 4000,  # small\n",
    "\t8219: 400,   # small\n",
    "\t8220: 400,\n",
    "\t8310: 10000,\n",
    "\t8311: 10000,\n",
    "\t8396: 500,  # small\n",
    "\t8540: 5000,  # small\n",
    "\t8586: 4000,\n",
    "\t8899: 400,\n",
    "\t9120: 10000,  # small\n",
    "\t9949: 5000,  # small\n",
    "\t9951: 3000,\n",
    "\t9988: 10000,\n",
    "\t9993: 4000,\n",
    "\t10038: 3000,\n",
    "\t10200: 4000,  # small\n",
    "\t10384: 4000,\n",
    "\t10684: 4000,  # small\n",
    "\t10700: 1000,\n",
    "\t10733: 2000,\n",
    "\t10737: 4000,\n",
    "\t11836: 4000,\n",
    "\t12797: 4000,\n",
    "\t12863: 4000,\n",
    "\t13333: 2000,  # small\n",
    "\t14239: 1000,\n",
    "\t14242: 3000,  # small\n",
    "\t14420: 20000,  # small\n",
    "\t14897: 3000,\n",
    "\t15696: 35000,\n",
    "\t15768: 4000,\n",
    "\t16245: 4000,\n",
    "\t16295: 2000,\n",
    "\t17233: 2000,\n",
    "\t18045: 4000,  # small\n",
    "\t18329: 1000,\n",
    "\t18647: 4000,\n",
    "\t19018: 8000,  # small\n",
    "\t19231: 4000,\n",
    "\t19233: 4000,\n",
    "\t19596: 4000,\n",
    "\t19989: 4000,\n",
    "\t19991: 4000,  # small\n",
    "\t20270: 4000,  # small\n",
    "\t20604: 15000,\n",
    "\t21669: 1000,  # small\n",
    "\t21723: 1000,  # normal\n",
    "\t22111: 4000,\n",
    "\t22422: 10000,\n",
    "\t22559: 2000,\n",
    "\t22962: 4000,  # small\n",
    "\t23249: 1000,  # small\n",
    "\t23652: 1000,  # small\n",
    "\t23823: 4000,\n",
    "\t24286: 5000,\n",
    "\t24800: 6000,\n",
    "\t25383: 4000,\n",
    "\t25954: 1000,\n",
    "\t26933: 2000,\n",
    "\t27783: 3000,\n",
    "\t27923: 4000,\n",
    "\t29594: 100,\n",
    "\t33246: 1000,\n",
    "\t37077: 4000,  # small\n",
    "\t37190: 4000,\n",
    "\t37244: 4000,\n",
    "\t37333: 2000,\n",
    "\t38128: 8000,  # small\n",
    "\t38257: 6000,\n",
    "\t38760: 5000,  # small\n",
    "\t59291: 5000,\n",
    "}"
   ]
  },
  {
   "cell_type": "code",
   "execution_count": null,
   "id": "89495988",
   "metadata": {},
   "outputs": [],
   "source": [
    "# # check prize info by:\n",
    "contest_id = 38760\n",
    "\n",
    "display(HTML( \\\n",
    "\ttbl_contest_3_Usd_prize.loc[tbl_contest_3_Usd_prize['Id']==contest_id, ['Overview']].values[0][0]\n",
    "))"
   ]
  },
  {
   "cell_type": "code",
   "execution_count": null,
   "id": "1b6a6985",
   "metadata": {},
   "outputs": [],
   "source": [
    "# Contest settings\n",
    "deadline, total_prize, max_daily_submit, percentage = contest_basic_setting(tbl_contests, contest_id)\n",
    "print('>>> percentage =', percentage, '%')\n",
    "print('>>> daily submit (max) =', max_daily_submit)\n",
    "print('>>> deadline =', deadline)\n",
    "\n",
    "# Display basic info\n",
    "tbl_submissions_specific = contest_basic_submission_info(tbl_submissions, contest_id)\n",
    "\n",
    "# Create leaderboard\n",
    "leaderboard_pub, leaderboard_pri = leaderboard_fulfill(\n",
    "\t\ttbl_submissions_specific, deadline, 'Normal')\n",
    "display(leaderboard_pri.display(-1, 10))\n",
    "display(leaderboard_pub.display(-1, 10))"
   ]
  },
  {
   "cell_type": "code",
   "execution_count": null,
   "id": "a17ab4b1",
   "metadata": {},
   "outputs": [],
   "source": [
    "# save_to_device(contest_id, 'Percentage_Big', prize=contest_3prize_gap[contest_id])\n",
    "save_to_device(contest_id, 'Percentage_Small', prize=contest_3prize_gap[contest_id])\n",
    "# save_to_device(contest_id, 'Normal', prize=contest_3prize_gap[contest_id])"
   ]
  }
 ],
 "metadata": {
  "kernelspec": {
   "display_name": ".venv",
   "language": "python",
   "name": "python3"
  },
  "language_info": {
   "codemirror_mode": {
    "name": "ipython",
    "version": 3
   },
   "file_extension": ".py",
   "mimetype": "text/x-python",
   "name": "python",
   "nbconvert_exporter": "python",
   "pygments_lexer": "ipython3",
   "version": "3.13.3"
  }
 },
 "nbformat": 4,
 "nbformat_minor": 5
}
