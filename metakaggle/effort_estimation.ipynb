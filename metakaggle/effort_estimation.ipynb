{
 "cells": [
  {
   "cell_type": "markdown",
   "id": "048e6c3e",
   "metadata": {},
   "source": [
    "# Explore `meta-kaggle` Dataset"
   ]
  },
  {
   "cell_type": "markdown",
   "id": "f3136aec",
   "metadata": {},
   "source": [
    "## --- Data Clean"
   ]
  },
  {
   "cell_type": "markdown",
   "id": "08eeebe3",
   "metadata": {},
   "source": [
    "Pre-requisites: \n",
    "\n",
    "1. Install Python package `kaggle`\n",
    "2. [Create token](https://www.kaggle.com/docs/api) and \n",
    "3. Put the `kaggle.json` file to the `.kaggle` folder of your home directory\n",
    "4. Download dataset `meta-kaggle` if haven't yet, by excuting: \n",
    "   ```python\n",
    "   from metakaggle import api\n",
    "   api.download_rawdata(rawdata_path)\n",
    "   ```"
   ]
  },
  {
   "cell_type": "code",
   "execution_count": null,
   "id": "76d0f266",
   "metadata": {},
   "outputs": [],
   "source": [
    "import os\n",
    "import pandas as pd\n",
    "import numpy as np\n",
    "\n",
    "from matplotlib import pyplot as plt\n",
    "from datetime import datetime\n",
    "\n",
    "import metakaggle as mk"
   ]
  },
  {
   "cell_type": "code",
   "execution_count": 2,
   "id": "457a7f2d",
   "metadata": {},
   "outputs": [],
   "source": [
    "rawdata_path = os.path.abspath('./rawdata')"
   ]
  },
  {
   "cell_type": "markdown",
   "id": "88b86395",
   "metadata": {},
   "source": [
    "### 1. Mapping Datasets"
   ]
  },
  {
   "cell_type": "markdown",
   "id": "15309878",
   "metadata": {},
   "source": [
    "Create a dataset of submissions, containing the following fields:\n",
    "- Id \n",
    "- TeamId \n",
    "- CompetitionId \n",
    "- SubmissionDate\n",
    "- PublicScore\n",
    "- PrivateScore"
   ]
  },
  {
   "cell_type": "code",
   "execution_count": 3,
   "id": "e9ddc353",
   "metadata": {},
   "outputs": [],
   "source": [
    "# Submissions\n",
    "# - TeamId\n",
    "# - SubmissionDate\n",
    "tbl_submissions = mk.table_filter( \\\n",
    "\t'Submissions', rawdata_path,\n",
    "\tfields = ['Id', 'TeamId', 'SubmissionDate', 'IsAfterDeadline',\n",
    "\t\t'PublicScoreLeaderboardDisplay', 'PrivateScoreFullPrecision'],\n",
    "\tfields_index = ['Id'],\n",
    "\tfields_datetime = ['SubmissionDate'],\n",
    ")\n",
    "# drop all submissions after deadlines\n",
    "tbl_submissions = tbl_submissions[~tbl_submissions['IsAfterDeadline']]\n",
    "tbl_submissions.drop('IsAfterDeadline', axis=1, inplace=True)\n",
    "# rename long name\n",
    "tbl_submissions.rename(columns={\n",
    "\t'PublicScoreLeaderboardDisplay': 'PublicScore',\n",
    "\t'PrivateScoreFullPrecision': 'PrivateScore'\n",
    "}, inplace=True)"
   ]
  },
  {
   "cell_type": "code",
   "execution_count": 4,
   "id": "c69a4698",
   "metadata": {},
   "outputs": [],
   "source": [
    "# Mapping: Teams\n",
    "# - CompetitionId\n",
    "map_teams_competitions = mk.table_filter( \\\n",
    "\t'Teams', rawdata_path,\n",
    "\tfields = ['Id', 'CompetitionId'],\n",
    "\tfields_index = ['Id'],\n",
    ")"
   ]
  },
  {
   "cell_type": "code",
   "execution_count": 5,
   "id": "342a432c",
   "metadata": {},
   "outputs": [
    {
     "data": {
      "text/plain": [
       "Id                         int64\n",
       "TeamId                     int64\n",
       "SubmissionDate    datetime64[ns]\n",
       "PublicScore              float64\n",
       "PrivateScore             float64\n",
       "CompetitionId              int64\n",
       "dtype: object"
      ]
     },
     "execution_count": 5,
     "metadata": {},
     "output_type": "execute_result"
    }
   ],
   "source": [
    "# Merge `Submissions` and `TeamsCompetition`\n",
    "tbl_submissions = pd.merge(tbl_submissions, map_teams_competitions,\n",
    "\thow = 'left', left_on = 'TeamId', right_on = 'Id', sort = False,\n",
    "\tsuffixes=('', '_Team'))\n",
    "tbl_submissions.drop(columns='Id_Team', inplace=True)\n",
    "tbl_submissions.dtypes"
   ]
  },
  {
   "cell_type": "markdown",
   "id": "338d7da7",
   "metadata": {},
   "source": [
    "### 2. Splitting Submissions Data by Contest Types"
   ]
  },
  {
   "cell_type": "code",
   "execution_count": 6,
   "id": "7ce1196c",
   "metadata": {},
   "outputs": [],
   "source": [
    "# # explore `Competitions` dataset\n",
    "# import pprint\n",
    "# pprint.pprint(list(mk.table_header('Competitions', rawdata_path, n=1).keys()))"
   ]
  },
  {
   "cell_type": "code",
   "execution_count": 7,
   "id": "c04e9d5d",
   "metadata": {},
   "outputs": [
    {
     "data": {
      "text/plain": [
       "9442"
      ]
     },
     "execution_count": 7,
     "metadata": {},
     "output_type": "execute_result"
    }
   ],
   "source": [
    "# Table of Contests\n",
    "tbl_contests = mk.table_filter( \\\n",
    "\t'Competitions', rawdata_path,\n",
    "\tfields=['Id',\n",
    "\t\t'EnabledDate', 'DeadlineDate', 'ProhibitNewEntrantsDeadlineDate',\n",
    "\t\t'TeamMergerDeadlineDate', 'TeamModelDeadlineDate', 'TeamModelDeadlineDate',\n",
    "\t\t'ModelSubmissionDeadlineDate',\n",
    "\t\t'HasLeaderboard', 'LeaderboardPercentage', 'MaxDailySubmissions',\n",
    "\t\t'RewardType', 'RewardQuantity', 'NumPrizes',\n",
    "\t\t'FinalLeaderboardHasBeenVerified'\n",
    "\t],\n",
    "\tfields_datetime=[\n",
    "\t\t'EnabledDate', 'DeadlineDate', 'ProhibitNewEntrantsDeadlineDate',\n",
    "\t\t'TeamMergerDeadlineDate', 'TeamModelDeadlineDate', 'TeamModelDeadlineDate',\n",
    "\t\t'ModelSubmissionDeadlineDate'\n",
    "\t],\n",
    "\tfields_index=['Id'],\n",
    ")\n",
    "len(tbl_contests)"
   ]
  },
  {
   "cell_type": "code",
   "execution_count": 8,
   "id": "e89a1c78",
   "metadata": {},
   "outputs": [
    {
     "name": "stdout",
     "output_type": "stream",
     "text": [
      "How many contests are there having records of submissions from players?\n",
      "5693\n"
     ]
    }
   ],
   "source": [
    "print('How many contests are there having records of submissions from players?')\n",
    "lst_contests_with_submissions = tbl_submissions['CompetitionId'].unique()\n",
    "print(len(lst_contests_with_submissions))\n",
    "\n",
    "# Filter\n",
    "tbl_contests = tbl_contests[tbl_contests['Id'].isin(lst_contests_with_submissions)]"
   ]
  },
  {
   "cell_type": "code",
   "execution_count": 9,
   "id": "4a97d645",
   "metadata": {},
   "outputs": [
    {
     "name": "stdout",
     "output_type": "stream",
     "text": [
      "Is there never-ending contests?\n",
      "0\n",
      "0\n"
     ]
    }
   ],
   "source": [
    "print('Is there never-ending contests?')\n",
    "forever_date = datetime(2029, 1, 1, 0, 0, 0)\n",
    "print((tbl_contests['DeadlineDate'] > forever_date).sum())\n",
    "print((tbl_contests['DeadlineDate'].isna()).sum())"
   ]
  },
  {
   "cell_type": "code",
   "execution_count": 10,
   "id": "51534011",
   "metadata": {},
   "outputs": [
    {
     "name": "stdout",
     "output_type": "stream",
     "text": [
      "How many reward types are there?\n",
      "RewardType\n",
      "NaN          4777\n",
      "USD           409\n",
      "Knowledge     381\n",
      "Swag           95\n",
      "Jobs           14\n",
      "Kudos          10\n",
      "Prizes          6\n",
      "EUR             1\n",
      "Name: count, dtype: int64\n"
     ]
    }
   ],
   "source": [
    "print('How many reward types are there?')\n",
    "print(tbl_contests['RewardType'].value_counts(dropna=False))"
   ]
  },
  {
   "cell_type": "code",
   "execution_count": 11,
   "id": "554a914d",
   "metadata": {},
   "outputs": [],
   "source": [
    "# Split: contests with prize `USD`\n",
    "lst_contest_Usd = tbl_contests.loc[tbl_contests['RewardType']=='USD']['Id']\n",
    "tbl_contest_Usd = tbl_contests[tbl_contests['Id'].isin(lst_contest_Usd)]\n",
    "\n",
    "# Split: contests with prize `Knowledge`\n",
    "lst_contest_Knowledge = tbl_contests.loc[tbl_contests['RewardType']=='Knowledge']['Id']\n",
    "tbl_contest_Knowledge = tbl_contests[tbl_contests['Id'].isin(lst_contest_Knowledge)]\n",
    "\n",
    "# Split: contest with prize `Swag`\n",
    "lst_contest_Swag = tbl_contests.loc[tbl_contests['RewardType']=='Swag']['Id']\n",
    "tbl_contest_Swag = tbl_contests[tbl_contests['Id'].isin(lst_contest_Swag)]\n",
    "\n",
    "# Split: contest with prize `Kudos`\n",
    "lst_contest_Kudos = tbl_contests.loc[tbl_contests['RewardType']=='Kudos']['Id']\n",
    "tbl_contest_Kudos = tbl_contests[tbl_contests['Id'].isin(lst_contest_Kudos)]\n",
    "\n",
    "# Split: contest with prize `EUR`\n",
    "lst_contest_EUR = tbl_contests.loc[tbl_contests['RewardType']=='EUR']['Id']\n",
    "tbl_contest_EUR = tbl_contests[tbl_contests['Id'].isin(lst_contest_EUR)]"
   ]
  },
  {
   "cell_type": "code",
   "execution_count": 12,
   "id": "b4649c10",
   "metadata": {},
   "outputs": [
    {
     "data": {
      "text/plain": [
       "NumPrizes\n",
       "3     194\n",
       "5      74\n",
       "1      45\n",
       "4      27\n",
       "6      16\n",
       "10     15\n",
       "2      10\n",
       "8      10\n",
       "7       9\n",
       "9       4\n",
       "0       3\n",
       "13      1\n",
       "12      1\n",
       "Name: count, dtype: int64"
      ]
     },
     "execution_count": 12,
     "metadata": {},
     "output_type": "execute_result"
    }
   ],
   "source": [
    "tbl_contest_Usd['NumPrizes'].value_counts()"
   ]
  },
  {
   "cell_type": "code",
   "execution_count": 13,
   "id": "68f2d6bf",
   "metadata": {},
   "outputs": [],
   "source": [
    "# Submissions - contest `USD`\n",
    "tbl_submissions_Usd = tbl_submissions.loc[tbl_submissions['CompetitionId'].isin(lst_contest_Usd)]\n",
    "\n",
    "# Submissions - contest `Knowledge`\n"
   ]
  },
  {
   "cell_type": "code",
   "execution_count": 14,
   "id": "cdb6a6e8",
   "metadata": {},
   "outputs": [
    {
     "data": {
      "text/plain": [
       "409"
      ]
     },
     "execution_count": 14,
     "metadata": {},
     "output_type": "execute_result"
    }
   ],
   "source": [
    "tbl_submissions_Usd['CompetitionId'].unique().size"
   ]
  },
  {
   "cell_type": "markdown",
   "id": "4f01457c",
   "metadata": {},
   "source": [
    "### 2. Estimate Reat-time Effort"
   ]
  },
  {
   "cell_type": "markdown",
   "id": "b30f2564",
   "metadata": {},
   "source": [
    "For each team $i$, the inhomogeneous Poisson rate is denoted by $\\lambda_i(s)$, $s\\in \\mathcal{S}$, where $\\mathcal{S}$ stands for the contest duration.\n",
    "\n",
    "Then, at any time duration $\\mathcal{T}\\subset\\mathcal{S}$, the Poisson submission rate is \n",
    "$$\n",
    "\\lambda_i(\\mathcal{T}) = \\int_\\mathcal{T}\\lambda_i(s)ds\n",
    "$$\n",
    "The likelihood function of any realization of this point process $(t_1, t_2, ..., t_n)$ is given by (Adams et al. (2)): \n",
    "$$\n",
    "\\mathcal{L}_i(\\{t_k\\}_{k=1}^{n}) = \\exp\\left\\{-\\int_{\\mathcal{T}}\\lambda_i(s)ds\\right\\}\\prod_{k=1}^{n}\\lambda_i(t_k)\n",
    "$$"
   ]
  },
  {
   "cell_type": "markdown",
   "id": "0c299933",
   "metadata": {},
   "source": [
    "Estimating the inensity function by kernel density estimation (KDE). \n",
    "\n",
    "> Reference:\n",
    "> \n",
    "> Flaxman, S., Teh, Y.W. &amp; Sejdinovic, D.. (2017). Poisson intensity estimation with reproducing kernels. <i>Proceedings of the 20th International Conference on Artificial Intelligence and Statistics</i>, in <i>Proceedings of Machine Learning Research</i> 54:270-279 Available from https://proceedings.mlr.press/v54/flaxman17a.html.\n",
    "\n",
    "By Flaxman et al. (2017), a simple kernel smoothed intensity estimation performs well for the one-dimensional inhomogeneous Poisson process."
   ]
  },
  {
   "cell_type": "code",
   "execution_count": 15,
   "id": "05104890",
   "metadata": {},
   "outputs": [],
   "source": [
    "def filling_contest_data(submissions: pd.DataFrame, contestId: int):\n",
    "\t\"\"\"\n",
    "\tReturn\n",
    "\t\tA dataframe of the specified contest containing all fields we need\n",
    "\t\"\"\"\n",
    "\t# 1. Get the sub-dataframe of the specified contest\n",
    "\tcontest_submissions = submissions.loc[submissions['CompetitionId'] == contestId]\n",
    "\t# 2. Add `efforts`\n",
    "\tcontest_submissions['Intensity'] = np.nan\n",
    "\t#\n",
    "\treturn contest_submissions"
   ]
  },
  {
   "cell_type": "code",
   "execution_count": 16,
   "id": "eba08e0d",
   "metadata": {},
   "outputs": [],
   "source": [
    "def plot_contest_submissions(submissions: pd.DataFrame, max_nteams: int = 5):\n",
    "\t\"\"\"\n",
    "\t\"\"\"\n",
    "\tcontest_time_start = submissions['EnabledDate'].iloc[0]\n",
    "\tcontest_time_end = submissions['DeadlineDate'].iloc[0]\n",
    "\tcontest_teams_n_submits = submissions.groupby('TeamId').size().sort_values(ascending=False)\n",
    "\n",
    "\tfig = plt.figure(figsize=(10, 5))\n",
    "\tax = plt.gca()\n",
    "\n",
    "\tidx_team = 0\n",
    "\ty_ticks = ([], [])\n",
    "\n",
    "\tfor team in contest_teams_n_submits.index:\n",
    "\t\tteam_submissiondates = submissions.loc[submissions['TeamId'] == team, ['SubmissionDate']]\n",
    "\t\tif idx_team < max_nteams:\n",
    "\t\t\tidx_team += 1\n",
    "\t\t\tteam_loc = idx_team\n",
    "\t\t\ty_ticks[0].append(team_loc)\n",
    "\t\t\ty_ticks[1].append(team)\n",
    "\t\t\tax.hlines(y=team_loc, xmax=contest_time_start, xmin=contest_time_end)\n",
    "\t\t\tax.vlines(x=team_submissiondates, ymax=idx_team + 0.1, ymin=idx_team - 0.1)\n",
    "\tax.set_xlim(contest_time_start, contest_time_end)\n",
    "\tax.set_yticks(*y_ticks)\n",
    "\tax.set_ylabel('Team', rotation=0)\n",
    "\t#ax.xaxis.set_label_coords(1.0, -0.05)\n",
    "\tax.yaxis.set_label_coords(-0.05, 1.0)\n",
    "\t#plt.tight_layout()\n",
    "\tplt.show()\n",
    "\treturn ax, fig"
   ]
  },
  {
   "cell_type": "code",
   "execution_count": 21,
   "id": "279466ac",
   "metadata": {},
   "outputs": [],
   "source": [
    "# Select one contest indexed by `2435` as example\n",
    "submissions_2435 = tbl_submissions[tbl_submissions['CompetitionId'] == 2435]\n",
    "#contest_time_start = submissions_2435['EnabledDate'].iloc[0]\n",
    "#contest_time_end = submissions_2435['DeadlineDate'].iloc[0]\n",
    "\n",
    "# plot_contest_submissions(submissions_2435)"
   ]
  },
  {
   "cell_type": "code",
   "execution_count": 22,
   "id": "8ef65529",
   "metadata": {},
   "outputs": [
    {
     "data": {
      "application/vnd.microsoft.datawrangler.viewer.v0+json": {
       "columns": [
        {
         "name": "index",
         "rawType": "int64",
         "type": "integer"
        },
        {
         "name": "SubmissionDate",
         "rawType": "datetime64[ns]",
         "type": "datetime"
        }
       ],
       "conversionMethod": "pd.DataFrame",
       "ref": "ccaa6e46-47d3-4aa4-b995-1561a75df25f",
       "rows": [
        [
         "4",
         "2010-05-04 00:00:00"
        ],
        [
         "21",
         "2010-05-13 00:00:00"
        ]
       ],
       "shape": {
        "columns": 1,
        "rows": 2
       }
      },
      "text/html": [
       "<div>\n",
       "<style scoped>\n",
       "    .dataframe tbody tr th:only-of-type {\n",
       "        vertical-align: middle;\n",
       "    }\n",
       "\n",
       "    .dataframe tbody tr th {\n",
       "        vertical-align: top;\n",
       "    }\n",
       "\n",
       "    .dataframe thead th {\n",
       "        text-align: right;\n",
       "    }\n",
       "</style>\n",
       "<table border=\"1\" class=\"dataframe\">\n",
       "  <thead>\n",
       "    <tr style=\"text-align: right;\">\n",
       "      <th></th>\n",
       "      <th>SubmissionDate</th>\n",
       "    </tr>\n",
       "  </thead>\n",
       "  <tbody>\n",
       "    <tr>\n",
       "      <th>4</th>\n",
       "      <td>2010-05-04</td>\n",
       "    </tr>\n",
       "    <tr>\n",
       "      <th>21</th>\n",
       "      <td>2010-05-13</td>\n",
       "    </tr>\n",
       "  </tbody>\n",
       "</table>\n",
       "</div>"
      ],
      "text/plain": [
       "   SubmissionDate\n",
       "4      2010-05-04\n",
       "21     2010-05-13"
      ]
     },
     "execution_count": 22,
     "metadata": {},
     "output_type": "execute_result"
    }
   ],
   "source": [
    "submissions_2435_team502 = submissions_2435.loc[submissions_2435['TeamId'] == 502, ['SubmissionDate']]\n",
    "submissions_2435_team502.drop_duplicates(subset='SubmissionDate', keep='last', inplace=True)\n",
    "submissions_2435_team502"
   ]
  },
  {
   "cell_type": "code",
   "execution_count": 24,
   "id": "eaec3778",
   "metadata": {},
   "outputs": [],
   "source": [
    "# _ = poisson.plot_poisson_events(submissions_2435_team502.values,\n",
    "# \t(contest_time_start, contest_time_end), 0.5, 0.2)"
   ]
  },
  {
   "cell_type": "markdown",
   "id": "82d1fdd3",
   "metadata": {},
   "source": [
    "### 3. Estimate the Arrival Rate (Intensity) of Submissions over Time"
   ]
  },
  {
   "cell_type": "code",
   "execution_count": 25,
   "id": "79e59314",
   "metadata": {},
   "outputs": [
    {
     "data": {
      "text/plain": [
       "Id                         int64\n",
       "TeamId                     int64\n",
       "SubmissionDate    datetime64[ns]\n",
       "PublicScore              float64\n",
       "PrivateScore             float64\n",
       "CompetitionId              int64\n",
       "dtype: object"
      ]
     },
     "execution_count": 25,
     "metadata": {},
     "output_type": "execute_result"
    }
   ],
   "source": [
    "submissions_2435.dtypes"
   ]
  }
 ],
 "metadata": {
  "kernelspec": {
   "display_name": ".venv",
   "language": "python",
   "name": "python3"
  },
  "language_info": {
   "codemirror_mode": {
    "name": "ipython",
    "version": 3
   },
   "file_extension": ".py",
   "mimetype": "text/x-python",
   "name": "python",
   "nbconvert_exporter": "python",
   "pygments_lexer": "ipython3",
   "version": "3.13.2"
  }
 },
 "nbformat": 4,
 "nbformat_minor": 5
}
