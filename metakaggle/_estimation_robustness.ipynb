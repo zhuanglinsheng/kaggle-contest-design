{
 "cells": [
  {
   "cell_type": "markdown",
   "id": "d51a2d1e",
   "metadata": {},
   "source": [
    "# Estimation"
   ]
  },
  {
   "cell_type": "code",
   "execution_count": 1,
   "id": "9e7a7bad",
   "metadata": {},
   "outputs": [],
   "source": [
    "import os\n",
    "import pickle\n",
    "import json\n",
    "from pathlib import Path"
   ]
  },
  {
   "cell_type": "code",
   "execution_count": 2,
   "id": "624e04ae",
   "metadata": {},
   "outputs": [],
   "source": [
    "# import cmdstanpy\n",
    "# cmdstanpy.install_cmdstan()\n",
    "from cmdstanpy import CmdStanModel, compile_stan_file"
   ]
  },
  {
   "cell_type": "markdown",
   "id": "95682e6a",
   "metadata": {},
   "source": [
    "### Estimations"
   ]
  },
  {
   "cell_type": "code",
   "execution_count": 3,
   "id": "3e7b081a",
   "metadata": {},
   "outputs": [],
   "source": [
    "wd = os.getcwd()\n",
    "wd_jsondata = Path(os.path.join(wd, '__jsondata_robust__'))"
   ]
  },
  {
   "cell_type": "code",
   "execution_count": 4,
   "id": "582f5c69",
   "metadata": {},
   "outputs": [
    {
     "data": {
      "text/plain": [
       "75"
      ]
     },
     "execution_count": 4,
     "metadata": {},
     "output_type": "execute_result"
    }
   ],
   "source": [
    "all_json_datas = list(wd_jsondata.rglob('*.json'))\n",
    "len(all_json_datas)"
   ]
  },
  {
   "cell_type": "code",
   "execution_count": null,
   "id": "f6b3fec2",
   "metadata": {},
   "outputs": [
    {
     "name": "stderr",
     "output_type": "stream",
     "text": [
      "13:49:49 - cmdstanpy - INFO - compiling stan file /Users/zhuanglinsheng/Documents/Github/kaggle-contest-design/metakaggle/real_data.stan to exe file /Users/zhuanglinsheng/Documents/Github/kaggle-contest-design/metakaggle/real_data\n",
      "13:50:04 - cmdstanpy - INFO - compiled model executable: /Users/zhuanglinsheng/Documents/Github/kaggle-contest-design/metakaggle/real_data\n"
     ]
    }
   ],
   "source": [
    "# build stan model\n",
    "stan_file = os.path.join(wd, 'real_data.stan')\n",
    "output_dir = Path('./tmp')\n",
    "exe_path = compile_stan_file(\n",
    "\tsrc=stan_file,\n",
    "\tcpp_options={\n",
    "\t\t\"LDFLAGS\": \"-headerpad_max_install_names\",\n",
    "\t\t\"CXXFLAGS\": \"-O2\",\n",
    "})\n",
    "model = CmdStanModel(stan_file=stan_file, exe_file=exe_path)"
   ]
  },
  {
   "cell_type": "code",
   "execution_count": null,
   "id": "a379835d",
   "metadata": {},
   "outputs": [
    {
     "name": "stdout",
     "output_type": "stream",
     "text": [
      "contest_2467 begin\n"
     ]
    },
    {
     "name": "stderr",
     "output_type": "stream",
     "text": [
      "13:51:18 - cmdstanpy - INFO - CmdStan start processing\n"
     ]
    },
    {
     "data": {
      "application/vnd.jupyter.widget-view+json": {
       "model_id": "ed3c69bb29b94486bbee463f2d26c9a0",
       "version_major": 2,
       "version_minor": 0
      },
      "text/plain": [
       "chain 1 |          | 00:00 Status"
      ]
     },
     "metadata": {},
     "output_type": "display_data"
    },
    {
     "data": {
      "application/vnd.jupyter.widget-view+json": {
       "model_id": "31cbc0e72b094c90bf0fcc323edbf59c",
       "version_major": 2,
       "version_minor": 0
      },
      "text/plain": [
       "chain 2 |          | 00:00 Status"
      ]
     },
     "metadata": {},
     "output_type": "display_data"
    },
    {
     "data": {
      "application/vnd.jupyter.widget-view+json": {
       "model_id": "30a595d45b474be28bb741031e68d15e",
       "version_major": 2,
       "version_minor": 0
      },
      "text/plain": [
       "chain 3 |          | 00:00 Status"
      ]
     },
     "metadata": {},
     "output_type": "display_data"
    },
    {
     "data": {
      "application/vnd.jupyter.widget-view+json": {
       "model_id": "0798fb728a974609b72cb8def8473dce",
       "version_major": 2,
       "version_minor": 0
      },
      "text/plain": [
       "chain 4 |          | 00:00 Status"
      ]
     },
     "metadata": {},
     "output_type": "display_data"
    },
    {
     "name": "stdout",
     "output_type": "stream",
     "text": [
      "                                                                                                                                                                                                                                                                                                                                "
     ]
    },
    {
     "name": "stderr",
     "output_type": "stream",
     "text": [
      "13:51:38 - cmdstanpy - INFO - CmdStan done processing.\n",
      "13:51:38 - cmdstanpy - WARNING - Non-fatal error during sampling:\n",
      "Exception: Exception: normal_lpdf: Random variable is nan, but must be not nan! (in 'real_data.stan', line 81, column 2 to column 53) (in 'real_data.stan', line 175, column 2 to line 180, column 4)\n",
      "\tException: Exception: normal_lpdf: Random variable is nan, but must be not nan! (in 'real_data.stan', line 81, column 2 to column 53) (in 'real_data.stan', line 175, column 2 to line 180, column 4)\n",
      "\tException: Exception: normal_lpdf: Random variable is nan, but must be not nan! (in 'real_data.stan', line 81, column 2 to column 53) (in 'real_data.stan', line 175, column 2 to line 180, column 4)\n",
      "\tException: Exception: normal_lpdf: Random variable is nan, but must be not nan! (in 'real_data.stan', line 81, column 2 to column 53) (in 'real_data.stan', line 175, column 2 to line 180, column 4)\n",
      "\tException: Exception: normal_lpdf: Random variable is nan, but must be not nan! (in 'real_data.stan', line 81, column 2 to column 53) (in 'real_data.stan', line 175, column 2 to line 180, column 4)\n",
      "\tException: Exception: normal_lpdf: Random variable is nan, but must be not nan! (in 'real_data.stan', line 81, column 2 to column 53) (in 'real_data.stan', line 175, column 2 to line 180, column 4)\n",
      "Exception: Exception: normal_lpdf: Random variable is nan, but must be not nan! (in 'real_data.stan', line 81, column 2 to column 53) (in 'real_data.stan', line 175, column 2 to line 180, column 4)\n",
      "\tException: Exception: normal_lpdf: Random variable is nan, but must be not nan! (in 'real_data.stan', line 81, column 2 to column 53) (in 'real_data.stan', line 175, column 2 to line 180, column 4)\n",
      "\tException: Exception: normal_lpdf: Random variable is nan, but must be not nan! (in 'real_data.stan', line 81, column 2 to column 53) (in 'real_data.stan', line 175, column 2 to line 180, column 4)\n",
      "\tException: Exception: normal_lpdf: Random variable is nan, but must be not nan! (in 'real_data.stan', line 81, column 2 to column 53) (in 'real_data.stan', line 175, column 2 to line 180, column 4)\n",
      "\tException: Exception: normal_lpdf: Random variable is nan, but must be not nan! (in 'real_data.stan', line 81, column 2 to column 53) (in 'real_data.stan', line 175, column 2 to line 180, column 4)\n",
      "Exception: Exception: normal_lpdf: Random variable is nan, but must be not nan! (in 'real_data.stan', line 81, column 2 to column 53) (in 'real_data.stan', line 175, column 2 to line 180, column 4)\n",
      "\tException: Exception: normal_lpdf: Random variable is nan, but must be not nan! (in 'real_data.stan', line 81, column 2 to column 53) (in 'real_data.stan', line 175, column 2 to line 180, column 4)\n",
      "\tException: Exception: normal_lpdf: Random variable is nan, but must be not nan! (in 'real_data.stan', line 81, column 2 to column 53) (in 'real_data.stan', line 175, column 2 to line 180, column 4)\n",
      "\tException: Exception: normal_lpdf: Random variable is nan, but must be not nan! (in 'real_data.stan', line 81, column 2 to column 53) (in 'real_data.stan', line 175, column 2 to line 180, column 4)\n",
      "Exception: Exception: normal_lpdf: Random variable is nan, but must be not nan! (in 'real_data.stan', line 81, column 2 to column 53) (in 'real_data.stan', line 175, column 2 to line 180, column 4)\n",
      "\tException: Exception: normal_lpdf: Random variable is nan, but must be not nan! (in 'real_data.stan', line 81, column 2 to column 53) (in 'real_data.stan', line 175, column 2 to line 180, column 4)\n",
      "\tException: Exception: normal_lpdf: Random variable is nan, but must be not nan! (in 'real_data.stan', line 81, column 2 to column 53) (in 'real_data.stan', line 175, column 2 to line 180, column 4)\n",
      "\tException: Exception: normal_lpdf: Random variable is nan, but must be not nan! (in 'real_data.stan', line 81, column 2 to column 53) (in 'real_data.stan', line 175, column 2 to line 180, column 4)\n",
      "\tException: Exception: normal_lpdf: Random variable is nan, but must be not nan! (in 'real_data.stan', line 81, column 2 to column 53) (in 'real_data.stan', line 175, column 2 to line 180, column 4)\n",
      "\tException: Exception: normal_lpdf: Random variable is nan, but must be not nan! (in 'real_data.stan', line 81, column 2 to column 53) (in 'real_data.stan', line 175, column 2 to line 180, column 4)\n",
      "Consider re-running with show_console=True if the above output is unclear!\n"
     ]
    },
    {
     "name": "stdout",
     "output_type": "stream",
     "text": [
      "\n"
     ]
    },
    {
     "name": "stderr",
     "output_type": "stream",
     "text": [
      "13:51:38 - cmdstanpy - WARNING - Some chains may have failed to converge.\n",
      "\tChain 1 had 3 divergent transitions (0.1%)\n",
      "\tChain 2 had 2 divergent transitions (0.1%)\n",
      "\tChain 3 had 2 divergent transitions (0.1%)\n",
      "\tChain 4 had 5 divergent transitions (0.2%)\n",
      "\tUse the \"diagnose()\" method on the CmdStanMCMC object to see further information.\n",
      "13:51:40 - cmdstanpy - INFO - CmdStan start processing\n"
     ]
    },
    {
     "name": "stdout",
     "output_type": "stream",
     "text": [
      "contest_2467 end\n",
      "contest_8396 begin\n"
     ]
    },
    {
     "data": {
      "application/vnd.jupyter.widget-view+json": {
       "model_id": "2da19d2b04a4442baa1066b61fb0f50d",
       "version_major": 2,
       "version_minor": 0
      },
      "text/plain": [
       "chain 1 |          | 00:00 Status"
      ]
     },
     "metadata": {},
     "output_type": "display_data"
    },
    {
     "data": {
      "application/vnd.jupyter.widget-view+json": {
       "model_id": "f103f72344e44f339920b15786e63f1f",
       "version_major": 2,
       "version_minor": 0
      },
      "text/plain": [
       "chain 2 |          | 00:00 Status"
      ]
     },
     "metadata": {},
     "output_type": "display_data"
    },
    {
     "data": {
      "application/vnd.jupyter.widget-view+json": {
       "model_id": "a66a8dc238c346f6b9c10be233246877",
       "version_major": 2,
       "version_minor": 0
      },
      "text/plain": [
       "chain 3 |          | 00:00 Status"
      ]
     },
     "metadata": {},
     "output_type": "display_data"
    },
    {
     "data": {
      "application/vnd.jupyter.widget-view+json": {
       "model_id": "0eb0b69b562e4b2d8848a00e8bca451f",
       "version_major": 2,
       "version_minor": 0
      },
      "text/plain": [
       "chain 4 |          | 00:00 Status"
      ]
     },
     "metadata": {},
     "output_type": "display_data"
    },
    {
     "name": "stdout",
     "output_type": "stream",
     "text": [
      "                                                                                                                                                                                                                                                                                                                                "
     ]
    },
    {
     "name": "stderr",
     "output_type": "stream",
     "text": [
      "13:55:05 - cmdstanpy - INFO - CmdStan done processing.\n",
      "13:55:05 - cmdstanpy - WARNING - Non-fatal error during sampling:\n",
      "Exception: Exception: normal_lpdf: Random variable is nan, but must be not nan! (in 'real_data.stan', line 81, column 2 to column 53) (in 'real_data.stan', line 175, column 2 to line 180, column 4)\n",
      "\tException: Exception: normal_lpdf: Random variable is nan, but must be not nan! (in 'real_data.stan', line 81, column 2 to column 53) (in 'real_data.stan', line 175, column 2 to line 180, column 4)\n",
      "\tException: Exception: normal_lpdf: Random variable is nan, but must be not nan! (in 'real_data.stan', line 81, column 2 to column 53) (in 'real_data.stan', line 175, column 2 to line 180, column 4)\n",
      "\tException: Exception: normal_lpdf: Random variable is nan, but must be not nan! (in 'real_data.stan', line 81, column 2 to column 53) (in 'real_data.stan', line 175, column 2 to line 180, column 4)\n",
      "Exception: Exception: normal_lpdf: Random variable is nan, but must be not nan! (in 'real_data.stan', line 81, column 2 to column 53) (in 'real_data.stan', line 175, column 2 to line 180, column 4)\n",
      "\tException: Exception: normal_lpdf: Random variable is nan, but must be not nan! (in 'real_data.stan', line 81, column 2 to column 53) (in 'real_data.stan', line 175, column 2 to line 180, column 4)\n",
      "\tException: Exception: normal_lpdf: Random variable is nan, but must be not nan! (in 'real_data.stan', line 81, column 2 to column 53) (in 'real_data.stan', line 175, column 2 to line 180, column 4)\n",
      "\tException: Exception: normal_lpdf: Random variable is nan, but must be not nan! (in 'real_data.stan', line 81, column 2 to column 53) (in 'real_data.stan', line 175, column 2 to line 180, column 4)\n",
      "Exception: Exception: normal_lpdf: Random variable is nan, but must be not nan! (in 'real_data.stan', line 81, column 2 to column 53) (in 'real_data.stan', line 175, column 2 to line 180, column 4)\n",
      "\tException: Exception: normal_lpdf: Random variable is nan, but must be not nan! (in 'real_data.stan', line 81, column 2 to column 53) (in 'real_data.stan', line 175, column 2 to line 180, column 4)\n",
      "\tException: Exception: normal_lpdf: Random variable is nan, but must be not nan! (in 'real_data.stan', line 81, column 2 to column 53) (in 'real_data.stan', line 175, column 2 to line 180, column 4)\n",
      "Exception: Exception: normal_lpdf: Random variable is nan, but must be not nan! (in 'real_data.stan', line 81, column 2 to column 53) (in 'real_data.stan', line 175, column 2 to line 180, column 4)\n",
      "\tException: Exception: normal_lpdf: Random variable is nan, but must be not nan! (in 'real_data.stan', line 81, column 2 to column 53) (in 'real_data.stan', line 175, column 2 to line 180, column 4)\n",
      "\tException: Exception: normal_lpdf: Random variable is nan, but must be not nan! (in 'real_data.stan', line 81, column 2 to column 53) (in 'real_data.stan', line 175, column 2 to line 180, column 4)\n",
      "\tException: Exception: normal_lpdf: Random variable is nan, but must be not nan! (in 'real_data.stan', line 81, column 2 to column 53) (in 'real_data.stan', line 175, column 2 to line 180, column 4)\n",
      "\tException: Exception: normal_lpdf: Random variable is nan, but must be not nan! (in 'real_data.stan', line 81, column 2 to column 53) (in 'real_data.stan', line 175, column 2 to line 180, column 4)\n",
      "Consider re-running with show_console=True if the above output is unclear!\n"
     ]
    },
    {
     "name": "stdout",
     "output_type": "stream",
     "text": [
      "\n",
      "contest_8396 end\n",
      "contest_20270 begin\n"
     ]
    },
    {
     "name": "stderr",
     "output_type": "stream",
     "text": [
      "13:55:33 - cmdstanpy - INFO - CmdStan start processing\n"
     ]
    },
    {
     "data": {
      "application/vnd.jupyter.widget-view+json": {
       "model_id": "96f83fed317341bda72d7e689b74d3c7",
       "version_major": 2,
       "version_minor": 0
      },
      "text/plain": [
       "chain 1 |          | 00:00 Status"
      ]
     },
     "metadata": {},
     "output_type": "display_data"
    },
    {
     "data": {
      "application/vnd.jupyter.widget-view+json": {
       "model_id": "d6f0da1b93d141b9b54b8ab0d1c9ed43",
       "version_major": 2,
       "version_minor": 0
      },
      "text/plain": [
       "chain 2 |          | 00:00 Status"
      ]
     },
     "metadata": {},
     "output_type": "display_data"
    },
    {
     "data": {
      "application/vnd.jupyter.widget-view+json": {
       "model_id": "0da8bcb8df744dfd9f8c6b47a855a6ca",
       "version_major": 2,
       "version_minor": 0
      },
      "text/plain": [
       "chain 3 |          | 00:00 Status"
      ]
     },
     "metadata": {},
     "output_type": "display_data"
    },
    {
     "data": {
      "application/vnd.jupyter.widget-view+json": {
       "model_id": "0d98cd166ca04d07a72dd267a9dcc613",
       "version_major": 2,
       "version_minor": 0
      },
      "text/plain": [
       "chain 4 |          | 00:00 Status"
      ]
     },
     "metadata": {},
     "output_type": "display_data"
    }
   ],
   "source": [
    "contest_max_longivity = 2300\n",
    "output_dir.mkdir(parents=True, exist_ok=True)\n",
    "\n",
    "# fit the model with data\n",
    "for json_data in all_json_datas:\n",
    "\tfor file in output_dir.iterdir():\n",
    "\t\tif file.is_file():\n",
    "\t\t\tfile.unlink()\n",
    "\tcontest_name = json_data.stem\n",
    "\tposterior_file = f'{contest_name}.pkl'\n",
    "\tposterior_file_path = wd_jsondata.joinpath(posterior_file)\n",
    "\tif posterior_file_path.exists():\n",
    "\t\tcontinue\n",
    "\twith open(json_data, \"r\", encoding=\"utf-8\") as f:\n",
    "\t\tdata_json = json.load(f)\n",
    "\tif data_json['N_Delta'] > contest_max_longivity:\n",
    "\t\tcontinue\n",
    "\tprint(contest_name, 'begin')\n",
    "\tfit = model.sample( \\\n",
    "\t\tdata=json_data,\n",
    "\t\titer_warmup=1000,\n",
    "\t\titer_sampling=2000,\n",
    "\t\tchains=4,\n",
    "\t\tparallel_chains=4,\n",
    "\t\tshow_console=False,\n",
    "\t\t#max_treedepth=12,  # for difficult model\n",
    "\t\t#adapt_delta=0.99,  # for difficult model\n",
    "\t\toutput_dir=output_dir,\n",
    "\t\tseed=12345,\n",
    "\t)\n",
    "\tposteriors = fit.stan_variables()\n",
    "\twith open(posterior_file_path, 'wb') as f:\n",
    "\t\tpickle.dump(posteriors, f)\n",
    "\tprint(contest_name, 'end')\n"
   ]
  }
 ],
 "metadata": {
  "kernelspec": {
   "display_name": ".venv (3.13.3)",
   "language": "python",
   "name": "python3"
  },
  "language_info": {
   "codemirror_mode": {
    "name": "ipython",
    "version": 3
   },
   "file_extension": ".py",
   "mimetype": "text/x-python",
   "name": "python",
   "nbconvert_exporter": "python",
   "pygments_lexer": "ipython3",
   "version": "3.13.3"
  }
 },
 "nbformat": 4,
 "nbformat_minor": 5
}
