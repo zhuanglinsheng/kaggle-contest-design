{
 "cells": [
  {
   "cell_type": "markdown",
   "id": "d51a2d1e",
   "metadata": {},
   "source": [
    "# Estimation"
   ]
  },
  {
   "cell_type": "code",
   "execution_count": 1,
   "id": "9e7a7bad",
   "metadata": {},
   "outputs": [],
   "source": [
    "import os\n",
    "import pickle\n",
    "import json\n",
    "from pathlib import Path"
   ]
  },
  {
   "cell_type": "code",
   "execution_count": 2,
   "id": "624e04ae",
   "metadata": {},
   "outputs": [],
   "source": [
    "# import cmdstanpy\n",
    "# cmdstanpy.install_cmdstan()\n",
    "from cmdstanpy import CmdStanModel, compile_stan_file"
   ]
  },
  {
   "cell_type": "markdown",
   "id": "95682e6a",
   "metadata": {},
   "source": [
    "### Estimations"
   ]
  },
  {
   "cell_type": "code",
   "execution_count": null,
   "id": "3e7b081a",
   "metadata": {},
   "outputs": [],
   "source": [
    "wd = os.getcwd()\n",
    "wd_jsondata = Path(os.path.join(wd, '__jsondata_robust23__'))"
   ]
  },
  {
   "cell_type": "code",
   "execution_count": 4,
   "id": "582f5c69",
   "metadata": {},
   "outputs": [
    {
     "data": {
      "text/plain": [
       "75"
      ]
     },
     "execution_count": 4,
     "metadata": {},
     "output_type": "execute_result"
    }
   ],
   "source": [
    "all_json_datas = list(wd_jsondata.rglob('*.json'))\n",
    "len(all_json_datas)"
   ]
  },
  {
   "cell_type": "code",
   "execution_count": 5,
   "id": "f6b3fec2",
   "metadata": {},
   "outputs": [
    {
     "name": "stderr",
     "output_type": "stream",
     "text": [
      "13:49:49 - cmdstanpy - INFO - compiling stan file /Users/zhuanglinsheng/Documents/Github/kaggle-contest-design/metakaggle/real_data.stan to exe file /Users/zhuanglinsheng/Documents/Github/kaggle-contest-design/metakaggle/real_data\n",
      "13:50:04 - cmdstanpy - INFO - compiled model executable: /Users/zhuanglinsheng/Documents/Github/kaggle-contest-design/metakaggle/real_data\n"
     ]
    }
   ],
   "source": [
    "# build stan model\n",
    "stan_file = os.path.join(wd, 'real_data.stan')\n",
    "output_dir = Path('./tmp')\n",
    "exe_path = compile_stan_file(\n",
    "\tsrc=stan_file,\n",
    "\tcpp_options={\n",
    "\t\t\"LDFLAGS\": \"-headerpad_max_install_names\",\n",
    "\t\t\"CXXFLAGS\": \"-O2\",\n",
    "})\n",
    "model = CmdStanModel(stan_file=stan_file, exe_file=exe_path)"
   ]
  },
  {
   "cell_type": "code",
   "execution_count": 7,
   "id": "a379835d",
   "metadata": {},
   "outputs": [
    {
     "name": "stdout",
     "output_type": "stream",
     "text": [
      "contest_2467 begin\n"
     ]
    },
    {
     "name": "stderr",
     "output_type": "stream",
     "text": [
      "13:51:18 - cmdstanpy - INFO - CmdStan start processing\n"
     ]
    },
    {
     "data": {
      "application/vnd.jupyter.widget-view+json": {
       "model_id": "ed3c69bb29b94486bbee463f2d26c9a0",
       "version_major": 2,
       "version_minor": 0
      },
      "text/plain": [
       "chain 1 |          | 00:00 Status"
      ]
     },
     "metadata": {},
     "output_type": "display_data"
    },
    {
     "data": {
      "application/vnd.jupyter.widget-view+json": {
       "model_id": "31cbc0e72b094c90bf0fcc323edbf59c",
       "version_major": 2,
       "version_minor": 0
      },
      "text/plain": [
       "chain 2 |          | 00:00 Status"
      ]
     },
     "metadata": {},
     "output_type": "display_data"
    },
    {
     "data": {
      "application/vnd.jupyter.widget-view+json": {
       "model_id": "30a595d45b474be28bb741031e68d15e",
       "version_major": 2,
       "version_minor": 0
      },
      "text/plain": [
       "chain 3 |          | 00:00 Status"
      ]
     },
     "metadata": {},
     "output_type": "display_data"
    },
    {
     "data": {
      "application/vnd.jupyter.widget-view+json": {
       "model_id": "0798fb728a974609b72cb8def8473dce",
       "version_major": 2,
       "version_minor": 0
      },
      "text/plain": [
       "chain 4 |          | 00:00 Status"
      ]
     },
     "metadata": {},
     "output_type": "display_data"
    },
    {
     "name": "stdout",
     "output_type": "stream",
     "text": [
      "                                                                                                                                                                                                                                                                                                                                "
     ]
    },
    {
     "name": "stderr",
     "output_type": "stream",
     "text": [
      "13:51:38 - cmdstanpy - INFO - CmdStan done processing.\n",
      "13:51:38 - cmdstanpy - WARNING - Non-fatal error during sampling:\n",
      "Exception: Exception: normal_lpdf: Random variable is nan, but must be not nan! (in 'real_data.stan', line 81, column 2 to column 53) (in 'real_data.stan', line 175, column 2 to line 180, column 4)\n",
      "\tException: Exception: normal_lpdf: Random variable is nan, but must be not nan! (in 'real_data.stan', line 81, column 2 to column 53) (in 'real_data.stan', line 175, column 2 to line 180, column 4)\n",
      "\tException: Exception: normal_lpdf: Random variable is nan, but must be not nan! (in 'real_data.stan', line 81, column 2 to column 53) (in 'real_data.stan', line 175, column 2 to line 180, column 4)\n",
      "\tException: Exception: normal_lpdf: Random variable is nan, but must be not nan! (in 'real_data.stan', line 81, column 2 to column 53) (in 'real_data.stan', line 175, column 2 to line 180, column 4)\n",
      "\tException: Exception: normal_lpdf: Random variable is nan, but must be not nan! (in 'real_data.stan', line 81, column 2 to column 53) (in 'real_data.stan', line 175, column 2 to line 180, column 4)\n",
      "\tException: Exception: normal_lpdf: Random variable is nan, but must be not nan! (in 'real_data.stan', line 81, column 2 to column 53) (in 'real_data.stan', line 175, column 2 to line 180, column 4)\n",
      "Exception: Exception: normal_lpdf: Random variable is nan, but must be not nan! (in 'real_data.stan', line 81, column 2 to column 53) (in 'real_data.stan', line 175, column 2 to line 180, column 4)\n",
      "\tException: Exception: normal_lpdf: Random variable is nan, but must be not nan! (in 'real_data.stan', line 81, column 2 to column 53) (in 'real_data.stan', line 175, column 2 to line 180, column 4)\n",
      "\tException: Exception: normal_lpdf: Random variable is nan, but must be not nan! (in 'real_data.stan', line 81, column 2 to column 53) (in 'real_data.stan', line 175, column 2 to line 180, column 4)\n",
      "\tException: Exception: normal_lpdf: Random variable is nan, but must be not nan! (in 'real_data.stan', line 81, column 2 to column 53) (in 'real_data.stan', line 175, column 2 to line 180, column 4)\n",
      "\tException: Exception: normal_lpdf: Random variable is nan, but must be not nan! (in 'real_data.stan', line 81, column 2 to column 53) (in 'real_data.stan', line 175, column 2 to line 180, column 4)\n",
      "Exception: Exception: normal_lpdf: Random variable is nan, but must be not nan! (in 'real_data.stan', line 81, column 2 to column 53) (in 'real_data.stan', line 175, column 2 to line 180, column 4)\n",
      "\tException: Exception: normal_lpdf: Random variable is nan, but must be not nan! (in 'real_data.stan', line 81, column 2 to column 53) (in 'real_data.stan', line 175, column 2 to line 180, column 4)\n",
      "\tException: Exception: normal_lpdf: Random variable is nan, but must be not nan! (in 'real_data.stan', line 81, column 2 to column 53) (in 'real_data.stan', line 175, column 2 to line 180, column 4)\n",
      "\tException: Exception: normal_lpdf: Random variable is nan, but must be not nan! (in 'real_data.stan', line 81, column 2 to column 53) (in 'real_data.stan', line 175, column 2 to line 180, column 4)\n",
      "Exception: Exception: normal_lpdf: Random variable is nan, but must be not nan! (in 'real_data.stan', line 81, column 2 to column 53) (in 'real_data.stan', line 175, column 2 to line 180, column 4)\n",
      "\tException: Exception: normal_lpdf: Random variable is nan, but must be not nan! (in 'real_data.stan', line 81, column 2 to column 53) (in 'real_data.stan', line 175, column 2 to line 180, column 4)\n",
      "\tException: Exception: normal_lpdf: Random variable is nan, but must be not nan! (in 'real_data.stan', line 81, column 2 to column 53) (in 'real_data.stan', line 175, column 2 to line 180, column 4)\n",
      "\tException: Exception: normal_lpdf: Random variable is nan, but must be not nan! (in 'real_data.stan', line 81, column 2 to column 53) (in 'real_data.stan', line 175, column 2 to line 180, column 4)\n",
      "\tException: Exception: normal_lpdf: Random variable is nan, but must be not nan! (in 'real_data.stan', line 81, column 2 to column 53) (in 'real_data.stan', line 175, column 2 to line 180, column 4)\n",
      "\tException: Exception: normal_lpdf: Random variable is nan, but must be not nan! (in 'real_data.stan', line 81, column 2 to column 53) (in 'real_data.stan', line 175, column 2 to line 180, column 4)\n",
      "Consider re-running with show_console=True if the above output is unclear!\n"
     ]
    },
    {
     "name": "stdout",
     "output_type": "stream",
     "text": [
      "\n"
     ]
    },
    {
     "name": "stderr",
     "output_type": "stream",
     "text": [
      "13:51:38 - cmdstanpy - WARNING - Some chains may have failed to converge.\n",
      "\tChain 1 had 3 divergent transitions (0.1%)\n",
      "\tChain 2 had 2 divergent transitions (0.1%)\n",
      "\tChain 3 had 2 divergent transitions (0.1%)\n",
      "\tChain 4 had 5 divergent transitions (0.2%)\n",
      "\tUse the \"diagnose()\" method on the CmdStanMCMC object to see further information.\n",
      "13:51:40 - cmdstanpy - INFO - CmdStan start processing\n"
     ]
    },
    {
     "name": "stdout",
     "output_type": "stream",
     "text": [
      "contest_2467 end\n",
      "contest_8396 begin\n"
     ]
    },
    {
     "data": {
      "application/vnd.jupyter.widget-view+json": {
       "model_id": "2da19d2b04a4442baa1066b61fb0f50d",
       "version_major": 2,
       "version_minor": 0
      },
      "text/plain": [
       "chain 1 |          | 00:00 Status"
      ]
     },
     "metadata": {},
     "output_type": "display_data"
    },
    {
     "data": {
      "application/vnd.jupyter.widget-view+json": {
       "model_id": "f103f72344e44f339920b15786e63f1f",
       "version_major": 2,
       "version_minor": 0
      },
      "text/plain": [
       "chain 2 |          | 00:00 Status"
      ]
     },
     "metadata": {},
     "output_type": "display_data"
    },
    {
     "data": {
      "application/vnd.jupyter.widget-view+json": {
       "model_id": "a66a8dc238c346f6b9c10be233246877",
       "version_major": 2,
       "version_minor": 0
      },
      "text/plain": [
       "chain 3 |          | 00:00 Status"
      ]
     },
     "metadata": {},
     "output_type": "display_data"
    },
    {
     "data": {
      "application/vnd.jupyter.widget-view+json": {
       "model_id": "0eb0b69b562e4b2d8848a00e8bca451f",
       "version_major": 2,
       "version_minor": 0
      },
      "text/plain": [
       "chain 4 |          | 00:00 Status"
      ]
     },
     "metadata": {},
     "output_type": "display_data"
    },
    {
     "name": "stdout",
     "output_type": "stream",
     "text": [
      "                                                                                                                                                                                                                                                                                                                                "
     ]
    },
    {
     "name": "stderr",
     "output_type": "stream",
     "text": [
      "13:55:05 - cmdstanpy - INFO - CmdStan done processing.\n",
      "13:55:05 - cmdstanpy - WARNING - Non-fatal error during sampling:\n",
      "Exception: Exception: normal_lpdf: Random variable is nan, but must be not nan! (in 'real_data.stan', line 81, column 2 to column 53) (in 'real_data.stan', line 175, column 2 to line 180, column 4)\n",
      "\tException: Exception: normal_lpdf: Random variable is nan, but must be not nan! (in 'real_data.stan', line 81, column 2 to column 53) (in 'real_data.stan', line 175, column 2 to line 180, column 4)\n",
      "\tException: Exception: normal_lpdf: Random variable is nan, but must be not nan! (in 'real_data.stan', line 81, column 2 to column 53) (in 'real_data.stan', line 175, column 2 to line 180, column 4)\n",
      "\tException: Exception: normal_lpdf: Random variable is nan, but must be not nan! (in 'real_data.stan', line 81, column 2 to column 53) (in 'real_data.stan', line 175, column 2 to line 180, column 4)\n",
      "Exception: Exception: normal_lpdf: Random variable is nan, but must be not nan! (in 'real_data.stan', line 81, column 2 to column 53) (in 'real_data.stan', line 175, column 2 to line 180, column 4)\n",
      "\tException: Exception: normal_lpdf: Random variable is nan, but must be not nan! (in 'real_data.stan', line 81, column 2 to column 53) (in 'real_data.stan', line 175, column 2 to line 180, column 4)\n",
      "\tException: Exception: normal_lpdf: Random variable is nan, but must be not nan! (in 'real_data.stan', line 81, column 2 to column 53) (in 'real_data.stan', line 175, column 2 to line 180, column 4)\n",
      "\tException: Exception: normal_lpdf: Random variable is nan, but must be not nan! (in 'real_data.stan', line 81, column 2 to column 53) (in 'real_data.stan', line 175, column 2 to line 180, column 4)\n",
      "Exception: Exception: normal_lpdf: Random variable is nan, but must be not nan! (in 'real_data.stan', line 81, column 2 to column 53) (in 'real_data.stan', line 175, column 2 to line 180, column 4)\n",
      "\tException: Exception: normal_lpdf: Random variable is nan, but must be not nan! (in 'real_data.stan', line 81, column 2 to column 53) (in 'real_data.stan', line 175, column 2 to line 180, column 4)\n",
      "\tException: Exception: normal_lpdf: Random variable is nan, but must be not nan! (in 'real_data.stan', line 81, column 2 to column 53) (in 'real_data.stan', line 175, column 2 to line 180, column 4)\n",
      "Exception: Exception: normal_lpdf: Random variable is nan, but must be not nan! (in 'real_data.stan', line 81, column 2 to column 53) (in 'real_data.stan', line 175, column 2 to line 180, column 4)\n",
      "\tException: Exception: normal_lpdf: Random variable is nan, but must be not nan! (in 'real_data.stan', line 81, column 2 to column 53) (in 'real_data.stan', line 175, column 2 to line 180, column 4)\n",
      "\tException: Exception: normal_lpdf: Random variable is nan, but must be not nan! (in 'real_data.stan', line 81, column 2 to column 53) (in 'real_data.stan', line 175, column 2 to line 180, column 4)\n",
      "\tException: Exception: normal_lpdf: Random variable is nan, but must be not nan! (in 'real_data.stan', line 81, column 2 to column 53) (in 'real_data.stan', line 175, column 2 to line 180, column 4)\n",
      "\tException: Exception: normal_lpdf: Random variable is nan, but must be not nan! (in 'real_data.stan', line 81, column 2 to column 53) (in 'real_data.stan', line 175, column 2 to line 180, column 4)\n",
      "Consider re-running with show_console=True if the above output is unclear!\n"
     ]
    },
    {
     "name": "stdout",
     "output_type": "stream",
     "text": [
      "\n",
      "contest_8396 end\n",
      "contest_20270 begin\n"
     ]
    },
    {
     "name": "stderr",
     "output_type": "stream",
     "text": [
      "13:55:33 - cmdstanpy - INFO - CmdStan start processing\n"
     ]
    },
    {
     "data": {
      "application/vnd.jupyter.widget-view+json": {
       "model_id": "96f83fed317341bda72d7e689b74d3c7",
       "version_major": 2,
       "version_minor": 0
      },
      "text/plain": [
       "chain 1 |          | 00:00 Status"
      ]
     },
     "metadata": {},
     "output_type": "display_data"
    },
    {
     "data": {
      "application/vnd.jupyter.widget-view+json": {
       "model_id": "d6f0da1b93d141b9b54b8ab0d1c9ed43",
       "version_major": 2,
       "version_minor": 0
      },
      "text/plain": [
       "chain 2 |          | 00:00 Status"
      ]
     },
     "metadata": {},
     "output_type": "display_data"
    },
    {
     "data": {
      "application/vnd.jupyter.widget-view+json": {
       "model_id": "0da8bcb8df744dfd9f8c6b47a855a6ca",
       "version_major": 2,
       "version_minor": 0
      },
      "text/plain": [
       "chain 3 |          | 00:00 Status"
      ]
     },
     "metadata": {},
     "output_type": "display_data"
    },
    {
     "data": {
      "application/vnd.jupyter.widget-view+json": {
       "model_id": "0d98cd166ca04d07a72dd267a9dcc613",
       "version_major": 2,
       "version_minor": 0
      },
      "text/plain": [
       "chain 4 |          | 00:00 Status"
      ]
     },
     "metadata": {},
     "output_type": "display_data"
    },
    {
     "name": "stdout",
     "output_type": "stream",
     "text": [
      "                                                                                                                                                                                                                                                                                                                                "
     ]
    },
    {
     "name": "stderr",
     "output_type": "stream",
     "text": [
      "13:58:42 - cmdstanpy - INFO - CmdStan done processing.\n",
      "13:58:42 - cmdstanpy - WARNING - Non-fatal error during sampling:\n",
      "Exception: Exception: normal_lpdf: Random variable is nan, but must be not nan! (in 'real_data.stan', line 81, column 2 to column 53) (in 'real_data.stan', line 175, column 2 to line 180, column 4)\n",
      "\tException: Exception: normal_lpdf: Random variable is nan, but must be not nan! (in 'real_data.stan', line 81, column 2 to column 53) (in 'real_data.stan', line 175, column 2 to line 180, column 4)\n",
      "\tException: Exception: normal_lpdf: Random variable is nan, but must be not nan! (in 'real_data.stan', line 81, column 2 to column 53) (in 'real_data.stan', line 175, column 2 to line 180, column 4)\n",
      "Exception: Exception: normal_lpdf: Random variable is nan, but must be not nan! (in 'real_data.stan', line 81, column 2 to column 53) (in 'real_data.stan', line 175, column 2 to line 180, column 4)\n",
      "\tException: Exception: normal_lpdf: Random variable is nan, but must be not nan! (in 'real_data.stan', line 81, column 2 to column 53) (in 'real_data.stan', line 175, column 2 to line 180, column 4)\n",
      "Exception: Exception: normal_lpdf: Random variable is nan, but must be not nan! (in 'real_data.stan', line 81, column 2 to column 53) (in 'real_data.stan', line 175, column 2 to line 180, column 4)\n",
      "\tException: Exception: normal_lpdf: Random variable is nan, but must be not nan! (in 'real_data.stan', line 81, column 2 to column 53) (in 'real_data.stan', line 175, column 2 to line 180, column 4)\n",
      "\tException: Exception: normal_lpdf: Random variable is nan, but must be not nan! (in 'real_data.stan', line 81, column 2 to column 53) (in 'real_data.stan', line 175, column 2 to line 180, column 4)\n",
      "\tException: Exception: normal_lpdf: Random variable is nan, but must be not nan! (in 'real_data.stan', line 81, column 2 to column 53) (in 'real_data.stan', line 175, column 2 to line 180, column 4)\n",
      "Exception: Exception: normal_lpdf: Random variable is nan, but must be not nan! (in 'real_data.stan', line 81, column 2 to column 53) (in 'real_data.stan', line 175, column 2 to line 180, column 4)\n",
      "\tException: Exception: normal_lpdf: Random variable is nan, but must be not nan! (in 'real_data.stan', line 81, column 2 to column 53) (in 'real_data.stan', line 175, column 2 to line 180, column 4)\n",
      "\tException: Exception: normal_lpdf: Random variable is nan, but must be not nan! (in 'real_data.stan', line 81, column 2 to column 53) (in 'real_data.stan', line 175, column 2 to line 180, column 4)\n",
      "Consider re-running with show_console=True if the above output is unclear!\n"
     ]
    },
    {
     "name": "stdout",
     "output_type": "stream",
     "text": [
      "\n"
     ]
    },
    {
     "name": "stderr",
     "output_type": "stream",
     "text": [
      "13:58:43 - cmdstanpy - WARNING - Some chains may have failed to converge.\n",
      "\tChain 1 had 46 divergent transitions (2.3%)\n",
      "\tChain 2 had 40 divergent transitions (2.0%)\n",
      "\tChain 3 had 43 divergent transitions (2.1%)\n",
      "\tChain 4 had 31 divergent transitions (1.6%)\n",
      "\tChain 4 had 1 iterations at max treedepth (0.1%)\n",
      "\tUse the \"diagnose()\" method on the CmdStanMCMC object to see further information.\n",
      "13:58:47 - cmdstanpy - INFO - CmdStan start processing\n"
     ]
    },
    {
     "name": "stdout",
     "output_type": "stream",
     "text": [
      "contest_20270 end\n",
      "contest_5357 begin\n"
     ]
    },
    {
     "data": {
      "application/vnd.jupyter.widget-view+json": {
       "model_id": "f00f9d32bc3c435b887f0fc4c6fc9dad",
       "version_major": 2,
       "version_minor": 0
      },
      "text/plain": [
       "chain 1 |          | 00:00 Status"
      ]
     },
     "metadata": {},
     "output_type": "display_data"
    },
    {
     "data": {
      "application/vnd.jupyter.widget-view+json": {
       "model_id": "4f7d7463eeb647e7a749baf03d6a8ead",
       "version_major": 2,
       "version_minor": 0
      },
      "text/plain": [
       "chain 2 |          | 00:00 Status"
      ]
     },
     "metadata": {},
     "output_type": "display_data"
    },
    {
     "data": {
      "application/vnd.jupyter.widget-view+json": {
       "model_id": "a4ce1ecf0fe447f19692c3aa8563d229",
       "version_major": 2,
       "version_minor": 0
      },
      "text/plain": [
       "chain 3 |          | 00:00 Status"
      ]
     },
     "metadata": {},
     "output_type": "display_data"
    },
    {
     "data": {
      "application/vnd.jupyter.widget-view+json": {
       "model_id": "139c05bb245b42a2b2d5926b7571b08d",
       "version_major": 2,
       "version_minor": 0
      },
      "text/plain": [
       "chain 4 |          | 00:00 Status"
      ]
     },
     "metadata": {},
     "output_type": "display_data"
    },
    {
     "name": "stdout",
     "output_type": "stream",
     "text": [
      "                                                                                                                                                                                                                                                                                                                                "
     ]
    },
    {
     "name": "stderr",
     "output_type": "stream",
     "text": [
      "14:55:48 - cmdstanpy - INFO - CmdStan done processing.\n",
      "14:55:48 - cmdstanpy - WARNING - Non-fatal error during sampling:\n",
      "Exception: Exception: normal_lpdf: Random variable is nan, but must be not nan! (in 'real_data.stan', line 81, column 2 to column 53) (in 'real_data.stan', line 175, column 2 to line 180, column 4)\n",
      "\tException: Exception: normal_lpdf: Random variable is nan, but must be not nan! (in 'real_data.stan', line 81, column 2 to column 53) (in 'real_data.stan', line 175, column 2 to line 180, column 4)\n",
      "\tException: Exception: normal_lpdf: Random variable is nan, but must be not nan! (in 'real_data.stan', line 81, column 2 to column 53) (in 'real_data.stan', line 175, column 2 to line 180, column 4)\n",
      "\tException: Exception: normal_lpdf: Random variable is nan, but must be not nan! (in 'real_data.stan', line 81, column 2 to column 53) (in 'real_data.stan', line 175, column 2 to line 180, column 4)\n",
      "Exception: Exception: normal_lpdf: Random variable is nan, but must be not nan! (in 'real_data.stan', line 81, column 2 to column 53) (in 'real_data.stan', line 175, column 2 to line 180, column 4)\n",
      "\tException: Exception: normal_lpdf: Random variable is nan, but must be not nan! (in 'real_data.stan', line 81, column 2 to column 53) (in 'real_data.stan', line 175, column 2 to line 180, column 4)\n",
      "Exception: Exception: normal_lpdf: Random variable is nan, but must be not nan! (in 'real_data.stan', line 81, column 2 to column 53) (in 'real_data.stan', line 175, column 2 to line 180, column 4)\n",
      "\tException: Exception: normal_lpdf: Random variable is nan, but must be not nan! (in 'real_data.stan', line 81, column 2 to column 53) (in 'real_data.stan', line 175, column 2 to line 180, column 4)\n",
      "\tException: Exception: normal_lpdf: Random variable is nan, but must be not nan! (in 'real_data.stan', line 81, column 2 to column 53) (in 'real_data.stan', line 175, column 2 to line 180, column 4)\n",
      "\tException: Exception: normal_lpdf: Random variable is nan, but must be not nan! (in 'real_data.stan', line 81, column 2 to column 53) (in 'real_data.stan', line 175, column 2 to line 180, column 4)\n",
      "Exception: Exception: normal_lpdf: Random variable is nan, but must be not nan! (in 'real_data.stan', line 81, column 2 to column 53) (in 'real_data.stan', line 175, column 2 to line 180, column 4)\n",
      "\tException: Exception: normal_lpdf: Random variable is nan, but must be not nan! (in 'real_data.stan', line 81, column 2 to column 53) (in 'real_data.stan', line 175, column 2 to line 180, column 4)\n",
      "\tException: Exception: normal_lpdf: Random variable is nan, but must be not nan! (in 'real_data.stan', line 81, column 2 to column 53) (in 'real_data.stan', line 175, column 2 to line 180, column 4)\n",
      "\tException: Exception: normal_lpdf: Random variable is nan, but must be not nan! (in 'real_data.stan', line 81, column 2 to column 53) (in 'real_data.stan', line 175, column 2 to line 180, column 4)\n",
      "Consider re-running with show_console=True if the above output is unclear!\n"
     ]
    },
    {
     "name": "stdout",
     "output_type": "stream",
     "text": [
      "\n"
     ]
    },
    {
     "name": "stderr",
     "output_type": "stream",
     "text": [
      "14:55:51 - cmdstanpy - WARNING - Some chains may have failed to converge.\n",
      "\tChain 1 had 2 divergent transitions (0.1%)\n",
      "\tChain 1 had 1954 iterations at max treedepth (97.7%)\n",
      "\tChain 2 had 6 divergent transitions (0.3%)\n",
      "\tChain 2 had 1938 iterations at max treedepth (96.9%)\n",
      "\tChain 3 had 12 divergent transitions (0.6%)\n",
      "\tChain 3 had 1875 iterations at max treedepth (93.8%)\n",
      "\tChain 4 had 11 divergent transitions (0.5%)\n",
      "\tChain 4 had 1799 iterations at max treedepth (90.0%)\n",
      "\tUse the \"diagnose()\" method on the CmdStanMCMC object to see further information.\n",
      "14:56:01 - cmdstanpy - INFO - CmdStan start processing\n"
     ]
    },
    {
     "name": "stdout",
     "output_type": "stream",
     "text": [
      "contest_5357 end\n",
      "contest_3353 begin\n"
     ]
    },
    {
     "data": {
      "application/vnd.jupyter.widget-view+json": {
       "model_id": "8f8a93f3c0db440687618ee7dac64e7c",
       "version_major": 2,
       "version_minor": 0
      },
      "text/plain": [
       "chain 1 |          | 00:00 Status"
      ]
     },
     "metadata": {},
     "output_type": "display_data"
    },
    {
     "data": {
      "application/vnd.jupyter.widget-view+json": {
       "model_id": "4ba6f9a5d2f64b3c9fb03b1806aee1fb",
       "version_major": 2,
       "version_minor": 0
      },
      "text/plain": [
       "chain 2 |          | 00:00 Status"
      ]
     },
     "metadata": {},
     "output_type": "display_data"
    },
    {
     "data": {
      "application/vnd.jupyter.widget-view+json": {
       "model_id": "eb1499c23c804fbf9c4474b9ba69b905",
       "version_major": 2,
       "version_minor": 0
      },
      "text/plain": [
       "chain 3 |          | 00:00 Status"
      ]
     },
     "metadata": {},
     "output_type": "display_data"
    },
    {
     "data": {
      "application/vnd.jupyter.widget-view+json": {
       "model_id": "8fd394746c6142148cfa00341fd2a1b6",
       "version_major": 2,
       "version_minor": 0
      },
      "text/plain": [
       "chain 4 |          | 00:00 Status"
      ]
     },
     "metadata": {},
     "output_type": "display_data"
    },
    {
     "name": "stdout",
     "output_type": "stream",
     "text": [
      "                                                                                                                                                                                                                                                                                                                                "
     ]
    },
    {
     "name": "stderr",
     "output_type": "stream",
     "text": [
      "14:56:23 - cmdstanpy - INFO - CmdStan done processing.\n",
      "14:56:23 - cmdstanpy - WARNING - Non-fatal error during sampling:\n",
      "Exception: Exception: normal_lpdf: Random variable is nan, but must be not nan! (in 'real_data.stan', line 81, column 2 to column 53) (in 'real_data.stan', line 175, column 2 to line 180, column 4)\n",
      "\tException: Exception: normal_lpdf: Random variable is nan, but must be not nan! (in 'real_data.stan', line 81, column 2 to column 53) (in 'real_data.stan', line 175, column 2 to line 180, column 4)\n",
      "\tException: Exception: normal_lpdf: Random variable is nan, but must be not nan! (in 'real_data.stan', line 81, column 2 to column 53) (in 'real_data.stan', line 175, column 2 to line 180, column 4)\n",
      "\tException: Exception: normal_lpdf: Random variable is nan, but must be not nan! (in 'real_data.stan', line 81, column 2 to column 53) (in 'real_data.stan', line 175, column 2 to line 180, column 4)\n",
      "\tException: Exception: normal_lpdf: Random variable is nan, but must be not nan! (in 'real_data.stan', line 81, column 2 to column 53) (in 'real_data.stan', line 175, column 2 to line 180, column 4)\n",
      "Exception: Exception: normal_lpdf: Random variable is nan, but must be not nan! (in 'real_data.stan', line 81, column 2 to column 53) (in 'real_data.stan', line 175, column 2 to line 180, column 4)\n",
      "\tException: Exception: normal_lpdf: Random variable is nan, but must be not nan! (in 'real_data.stan', line 81, column 2 to column 53) (in 'real_data.stan', line 175, column 2 to line 180, column 4)\n",
      "\tException: Exception: normal_lpdf: Random variable is nan, but must be not nan! (in 'real_data.stan', line 81, column 2 to column 53) (in 'real_data.stan', line 175, column 2 to line 180, column 4)\n",
      "Exception: Exception: normal_lpdf: Random variable is nan, but must be not nan! (in 'real_data.stan', line 81, column 2 to column 53) (in 'real_data.stan', line 175, column 2 to line 180, column 4)\n",
      "\tException: Exception: normal_lpdf: Random variable is nan, but must be not nan! (in 'real_data.stan', line 81, column 2 to column 53) (in 'real_data.stan', line 175, column 2 to line 180, column 4)\n",
      "\tException: Exception: normal_lpdf: Random variable is nan, but must be not nan! (in 'real_data.stan', line 81, column 2 to column 53) (in 'real_data.stan', line 175, column 2 to line 180, column 4)\n",
      "Exception: Exception: normal_lpdf: Random variable is nan, but must be not nan! (in 'real_data.stan', line 81, column 2 to column 53) (in 'real_data.stan', line 175, column 2 to line 180, column 4)\n",
      "\tException: Exception: normal_lpdf: Random variable is nan, but must be not nan! (in 'real_data.stan', line 81, column 2 to column 53) (in 'real_data.stan', line 175, column 2 to line 180, column 4)\n",
      "\tException: Exception: normal_lpdf: Random variable is nan, but must be not nan! (in 'real_data.stan', line 81, column 2 to column 53) (in 'real_data.stan', line 175, column 2 to line 180, column 4)\n",
      "\tException: Exception: normal_lpdf: Random variable is nan, but must be not nan! (in 'real_data.stan', line 81, column 2 to column 53) (in 'real_data.stan', line 175, column 2 to line 180, column 4)\n",
      "Consider re-running with show_console=True if the above output is unclear!\n"
     ]
    },
    {
     "name": "stdout",
     "output_type": "stream",
     "text": [
      "\n"
     ]
    },
    {
     "name": "stderr",
     "output_type": "stream",
     "text": [
      "14:56:24 - cmdstanpy - WARNING - Some chains may have failed to converge.\n",
      "\tChain 1 had 6 divergent transitions (0.3%)\n",
      "\tChain 2 had 10 divergent transitions (0.5%)\n",
      "\tChain 3 had 5 divergent transitions (0.2%)\n",
      "\tChain 4 had 4 divergent transitions (0.2%)\n",
      "\tUse the \"diagnose()\" method on the CmdStanMCMC object to see further information.\n",
      "14:56:26 - cmdstanpy - INFO - CmdStan start processing\n"
     ]
    },
    {
     "name": "stdout",
     "output_type": "stream",
     "text": [
      "contest_3353 end\n",
      "contest_5229 begin\n"
     ]
    },
    {
     "data": {
      "application/vnd.jupyter.widget-view+json": {
       "model_id": "6839482e06b845abba6583dfb46aaa90",
       "version_major": 2,
       "version_minor": 0
      },
      "text/plain": [
       "chain 1 |          | 00:00 Status"
      ]
     },
     "metadata": {},
     "output_type": "display_data"
    },
    {
     "data": {
      "application/vnd.jupyter.widget-view+json": {
       "model_id": "69f7a5214d8c4f7ebbc0f38a962cb73f",
       "version_major": 2,
       "version_minor": 0
      },
      "text/plain": [
       "chain 2 |          | 00:00 Status"
      ]
     },
     "metadata": {},
     "output_type": "display_data"
    },
    {
     "data": {
      "application/vnd.jupyter.widget-view+json": {
       "model_id": "bd52bef25ccd478e8aef14d183a46868",
       "version_major": 2,
       "version_minor": 0
      },
      "text/plain": [
       "chain 3 |          | 00:00 Status"
      ]
     },
     "metadata": {},
     "output_type": "display_data"
    },
    {
     "data": {
      "application/vnd.jupyter.widget-view+json": {
       "model_id": "056e0728b6f04438a31a6b82a4a6caea",
       "version_major": 2,
       "version_minor": 0
      },
      "text/plain": [
       "chain 4 |          | 00:00 Status"
      ]
     },
     "metadata": {},
     "output_type": "display_data"
    },
    {
     "name": "stdout",
     "output_type": "stream",
     "text": [
      "                                                                                                                                                                                                                                                                                                                                "
     ]
    },
    {
     "name": "stderr",
     "output_type": "stream",
     "text": [
      "14:56:44 - cmdstanpy - INFO - CmdStan done processing.\n",
      "14:56:44 - cmdstanpy - WARNING - Non-fatal error during sampling:\n",
      "Exception: Exception: normal_lpdf: Random variable is nan, but must be not nan! (in 'real_data.stan', line 81, column 2 to column 53) (in 'real_data.stan', line 175, column 2 to line 180, column 4)\n",
      "\tException: Exception: normal_lpdf: Random variable is nan, but must be not nan! (in 'real_data.stan', line 81, column 2 to column 53) (in 'real_data.stan', line 175, column 2 to line 180, column 4)\n",
      "\tException: Exception: normal_lpdf: Random variable is nan, but must be not nan! (in 'real_data.stan', line 81, column 2 to column 53) (in 'real_data.stan', line 175, column 2 to line 180, column 4)\n",
      "Exception: Exception: normal_lpdf: Random variable is nan, but must be not nan! (in 'real_data.stan', line 81, column 2 to column 53) (in 'real_data.stan', line 175, column 2 to line 180, column 4)\n",
      "\tException: Exception: normal_lpdf: Random variable is nan, but must be not nan! (in 'real_data.stan', line 81, column 2 to column 53) (in 'real_data.stan', line 175, column 2 to line 180, column 4)\n",
      "Exception: Exception: normal_lpdf: Random variable is nan, but must be not nan! (in 'real_data.stan', line 81, column 2 to column 53) (in 'real_data.stan', line 175, column 2 to line 180, column 4)\n",
      "\tException: Exception: normal_lpdf: Random variable is nan, but must be not nan! (in 'real_data.stan', line 81, column 2 to column 53) (in 'real_data.stan', line 175, column 2 to line 180, column 4)\n",
      "\tException: Exception: normal_lpdf: Random variable is nan, but must be not nan! (in 'real_data.stan', line 81, column 2 to column 53) (in 'real_data.stan', line 175, column 2 to line 180, column 4)\n",
      "\tException: Exception: normal_lpdf: Random variable is nan, but must be not nan! (in 'real_data.stan', line 81, column 2 to column 53) (in 'real_data.stan', line 175, column 2 to line 180, column 4)\n",
      "\tException: Exception: normal_lpdf: Random variable is nan, but must be not nan! (in 'real_data.stan', line 81, column 2 to column 53) (in 'real_data.stan', line 175, column 2 to line 180, column 4)\n",
      "\tException: Exception: normal_lpdf: Random variable is nan, but must be not nan! (in 'real_data.stan', line 81, column 2 to column 53) (in 'real_data.stan', line 175, column 2 to line 180, column 4)\n",
      "Exception: Exception: normal_lpdf: Random variable is nan, but must be not nan! (in 'real_data.stan', line 81, column 2 to column 53) (in 'real_data.stan', line 175, column 2 to line 180, column 4)\n",
      "\tException: Exception: normal_lpdf: Random variable is nan, but must be not nan! (in 'real_data.stan', line 81, column 2 to column 53) (in 'real_data.stan', line 175, column 2 to line 180, column 4)\n",
      "\tException: Exception: normal_lpdf: Random variable is nan, but must be not nan! (in 'real_data.stan', line 81, column 2 to column 53) (in 'real_data.stan', line 175, column 2 to line 180, column 4)\n",
      "\tException: Exception: normal_lpdf: Random variable is nan, but must be not nan! (in 'real_data.stan', line 81, column 2 to column 53) (in 'real_data.stan', line 175, column 2 to line 180, column 4)\n",
      "\tException: Exception: normal_lpdf: Random variable is nan, but must be not nan! (in 'real_data.stan', line 81, column 2 to column 53) (in 'real_data.stan', line 175, column 2 to line 180, column 4)\n",
      "\tException: Exception: normal_lpdf: Random variable is nan, but must be not nan! (in 'real_data.stan', line 81, column 2 to column 53) (in 'real_data.stan', line 175, column 2 to line 180, column 4)\n",
      "Consider re-running with show_console=True if the above output is unclear!\n"
     ]
    },
    {
     "name": "stdout",
     "output_type": "stream",
     "text": [
      "\n"
     ]
    },
    {
     "name": "stderr",
     "output_type": "stream",
     "text": [
      "14:56:47 - cmdstanpy - INFO - CmdStan start processing\n"
     ]
    },
    {
     "name": "stdout",
     "output_type": "stream",
     "text": [
      "contest_5229 end\n",
      "contest_9949 begin\n"
     ]
    },
    {
     "data": {
      "application/vnd.jupyter.widget-view+json": {
       "model_id": "2d661211287348eca3c954d5eaae01a5",
       "version_major": 2,
       "version_minor": 0
      },
      "text/plain": [
       "chain 1 |          | 00:00 Status"
      ]
     },
     "metadata": {},
     "output_type": "display_data"
    },
    {
     "data": {
      "application/vnd.jupyter.widget-view+json": {
       "model_id": "5b437cd282764c00af7a5c5423517f91",
       "version_major": 2,
       "version_minor": 0
      },
      "text/plain": [
       "chain 2 |          | 00:00 Status"
      ]
     },
     "metadata": {},
     "output_type": "display_data"
    },
    {
     "data": {
      "application/vnd.jupyter.widget-view+json": {
       "model_id": "3dd4b6c35a8b49aab48bf29a75c85f5b",
       "version_major": 2,
       "version_minor": 0
      },
      "text/plain": [
       "chain 3 |          | 00:00 Status"
      ]
     },
     "metadata": {},
     "output_type": "display_data"
    },
    {
     "data": {
      "application/vnd.jupyter.widget-view+json": {
       "model_id": "27d2f34d9caa450d80d86bbc35354bb9",
       "version_major": 2,
       "version_minor": 0
      },
      "text/plain": [
       "chain 4 |          | 00:00 Status"
      ]
     },
     "metadata": {},
     "output_type": "display_data"
    },
    {
     "name": "stdout",
     "output_type": "stream",
     "text": [
      "                                                                                                                                                                                                                                                                                                                                "
     ]
    },
    {
     "name": "stderr",
     "output_type": "stream",
     "text": [
      "14:58:34 - cmdstanpy - INFO - CmdStan done processing.\n",
      "14:58:34 - cmdstanpy - WARNING - Non-fatal error during sampling:\n",
      "Exception: Exception: normal_lpdf: Random variable is nan, but must be not nan! (in 'real_data.stan', line 81, column 2 to column 53) (in 'real_data.stan', line 175, column 2 to line 180, column 4)\n",
      "\tException: Exception: normal_lpdf: Random variable is nan, but must be not nan! (in 'real_data.stan', line 81, column 2 to column 53) (in 'real_data.stan', line 175, column 2 to line 180, column 4)\n",
      "\tException: Exception: normal_lpdf: Random variable is nan, but must be not nan! (in 'real_data.stan', line 81, column 2 to column 53) (in 'real_data.stan', line 175, column 2 to line 180, column 4)\n",
      "\tException: Exception: normal_lpdf: Random variable is nan, but must be not nan! (in 'real_data.stan', line 81, column 2 to column 53) (in 'real_data.stan', line 175, column 2 to line 180, column 4)\n",
      "\tException: Exception: normal_lpdf: Random variable is nan, but must be not nan! (in 'real_data.stan', line 81, column 2 to column 53) (in 'real_data.stan', line 175, column 2 to line 180, column 4)\n",
      "Exception: Exception: normal_lpdf: Random variable is nan, but must be not nan! (in 'real_data.stan', line 81, column 2 to column 53) (in 'real_data.stan', line 175, column 2 to line 180, column 4)\n",
      "\tException: Exception: normal_lpdf: Random variable is nan, but must be not nan! (in 'real_data.stan', line 81, column 2 to column 53) (in 'real_data.stan', line 175, column 2 to line 180, column 4)\n",
      "\tException: Exception: normal_lpdf: Random variable is nan, but must be not nan! (in 'real_data.stan', line 81, column 2 to column 53) (in 'real_data.stan', line 175, column 2 to line 180, column 4)\n",
      "\tException: Exception: normal_lpdf: Random variable is nan, but must be not nan! (in 'real_data.stan', line 81, column 2 to column 53) (in 'real_data.stan', line 175, column 2 to line 180, column 4)\n",
      "Exception: Exception: normal_lpdf: Random variable is nan, but must be not nan! (in 'real_data.stan', line 81, column 2 to column 53) (in 'real_data.stan', line 175, column 2 to line 180, column 4)\n",
      "\tException: Exception: normal_lpdf: Random variable is nan, but must be not nan! (in 'real_data.stan', line 81, column 2 to column 53) (in 'real_data.stan', line 175, column 2 to line 180, column 4)\n",
      "\tException: Exception: normal_lpdf: Random variable is nan, but must be not nan! (in 'real_data.stan', line 81, column 2 to column 53) (in 'real_data.stan', line 175, column 2 to line 180, column 4)\n",
      "\tException: Exception: normal_lpdf: Random variable is nan, but must be not nan! (in 'real_data.stan', line 81, column 2 to column 53) (in 'real_data.stan', line 175, column 2 to line 180, column 4)\n",
      "\tException: Exception: normal_lpdf: Random variable is nan, but must be not nan! (in 'real_data.stan', line 81, column 2 to column 53) (in 'real_data.stan', line 175, column 2 to line 180, column 4)\n",
      "\tException: Exception: normal_lpdf: Random variable is nan, but must be not nan! (in 'real_data.stan', line 81, column 2 to column 53) (in 'real_data.stan', line 175, column 2 to line 180, column 4)\n",
      "\tException: Exception: normal_lpdf: Random variable is nan, but must be not nan! (in 'real_data.stan', line 81, column 2 to column 53) (in 'real_data.stan', line 175, column 2 to line 180, column 4)\n",
      "Consider re-running with show_console=True if the above output is unclear!\n"
     ]
    },
    {
     "name": "stdout",
     "output_type": "stream",
     "text": [
      "\n"
     ]
    },
    {
     "name": "stderr",
     "output_type": "stream",
     "text": [
      "14:58:36 - cmdstanpy - WARNING - Some chains may have failed to converge.\n",
      "\tChain 1 had 9 divergent transitions (0.4%)\n",
      "\tChain 2 had 4 divergent transitions (0.2%)\n",
      "\tChain 3 had 11 divergent transitions (0.5%)\n",
      "\tChain 4 had 9 divergent transitions (0.4%)\n",
      "\tUse the \"diagnose()\" method on the CmdStanMCMC object to see further information.\n",
      "14:58:45 - cmdstanpy - INFO - CmdStan start processing\n"
     ]
    },
    {
     "name": "stdout",
     "output_type": "stream",
     "text": [
      "contest_9949 end\n",
      "contest_5497 begin\n"
     ]
    },
    {
     "data": {
      "application/vnd.jupyter.widget-view+json": {
       "model_id": "3a9f7866b4334cb1bfbe964ff430e770",
       "version_major": 2,
       "version_minor": 0
      },
      "text/plain": [
       "chain 1 |          | 00:00 Status"
      ]
     },
     "metadata": {},
     "output_type": "display_data"
    },
    {
     "data": {
      "application/vnd.jupyter.widget-view+json": {
       "model_id": "773e8565fba9484385134f26f0d7e428",
       "version_major": 2,
       "version_minor": 0
      },
      "text/plain": [
       "chain 2 |          | 00:00 Status"
      ]
     },
     "metadata": {},
     "output_type": "display_data"
    },
    {
     "data": {
      "application/vnd.jupyter.widget-view+json": {
       "model_id": "880e93989b83441a885547e0ad296144",
       "version_major": 2,
       "version_minor": 0
      },
      "text/plain": [
       "chain 3 |          | 00:00 Status"
      ]
     },
     "metadata": {},
     "output_type": "display_data"
    },
    {
     "data": {
      "application/vnd.jupyter.widget-view+json": {
       "model_id": "5ca2b7c93a0a4f83aba701255913f7c1",
       "version_major": 2,
       "version_minor": 0
      },
      "text/plain": [
       "chain 4 |          | 00:00 Status"
      ]
     },
     "metadata": {},
     "output_type": "display_data"
    },
    {
     "name": "stdout",
     "output_type": "stream",
     "text": [
      "                                                                                                                                                                                                                                                                                                                                "
     ]
    },
    {
     "name": "stderr",
     "output_type": "stream",
     "text": [
      "16:17:56 - cmdstanpy - INFO - CmdStan done processing.\n",
      "16:17:56 - cmdstanpy - WARNING - Non-fatal error during sampling:\n",
      "Exception: Exception: normal_lpdf: Random variable is nan, but must be not nan! (in 'real_data.stan', line 81, column 2 to column 53) (in 'real_data.stan', line 175, column 2 to line 180, column 4)\n",
      "\tException: Exception: normal_lpdf: Random variable is nan, but must be not nan! (in 'real_data.stan', line 81, column 2 to column 53) (in 'real_data.stan', line 175, column 2 to line 180, column 4)\n",
      "\tException: Exception: normal_lpdf: Random variable is nan, but must be not nan! (in 'real_data.stan', line 81, column 2 to column 53) (in 'real_data.stan', line 175, column 2 to line 180, column 4)\n",
      "\tException: Exception: normal_lpdf: Random variable is nan, but must be not nan! (in 'real_data.stan', line 81, column 2 to column 53) (in 'real_data.stan', line 175, column 2 to line 180, column 4)\n",
      "\tException: Exception: normal_lpdf: Random variable is nan, but must be not nan! (in 'real_data.stan', line 81, column 2 to column 53) (in 'real_data.stan', line 175, column 2 to line 180, column 4)\n",
      "Exception: Exception: normal_lpdf: Random variable is nan, but must be not nan! (in 'real_data.stan', line 81, column 2 to column 53) (in 'real_data.stan', line 175, column 2 to line 180, column 4)\n",
      "\tException: Exception: normal_lpdf: Random variable is nan, but must be not nan! (in 'real_data.stan', line 81, column 2 to column 53) (in 'real_data.stan', line 175, column 2 to line 180, column 4)\n",
      "\tException: Exception: normal_lpdf: Random variable is nan, but must be not nan! (in 'real_data.stan', line 81, column 2 to column 53) (in 'real_data.stan', line 175, column 2 to line 180, column 4)\n",
      "Exception: Exception: normal_lpdf: Random variable is nan, but must be not nan! (in 'real_data.stan', line 81, column 2 to column 53) (in 'real_data.stan', line 175, column 2 to line 180, column 4)\n",
      "\tException: Exception: normal_lpdf: Random variable is nan, but must be not nan! (in 'real_data.stan', line 81, column 2 to column 53) (in 'real_data.stan', line 175, column 2 to line 180, column 4)\n",
      "\tException: Exception: normal_lpdf: Random variable is nan, but must be not nan! (in 'real_data.stan', line 81, column 2 to column 53) (in 'real_data.stan', line 175, column 2 to line 180, column 4)\n",
      "\tException: Exception: normal_lpdf: Random variable is nan, but must be not nan! (in 'real_data.stan', line 81, column 2 to column 53) (in 'real_data.stan', line 175, column 2 to line 180, column 4)\n",
      "\tException: Exception: normal_lpdf: Random variable is nan, but must be not nan! (in 'real_data.stan', line 81, column 2 to column 53) (in 'real_data.stan', line 175, column 2 to line 180, column 4)\n",
      "Exception: Exception: normal_lpdf: Random variable is nan, but must be not nan! (in 'real_data.stan', line 81, column 2 to column 53) (in 'real_data.stan', line 175, column 2 to line 180, column 4)\n",
      "\tException: Exception: normal_lpdf: Random variable is nan, but must be not nan! (in 'real_data.stan', line 81, column 2 to column 53) (in 'real_data.stan', line 175, column 2 to line 180, column 4)\n",
      "\tException: Exception: normal_lpdf: Random variable is nan, but must be not nan! (in 'real_data.stan', line 81, column 2 to column 53) (in 'real_data.stan', line 175, column 2 to line 180, column 4)\n",
      "Consider re-running with show_console=True if the above output is unclear!\n"
     ]
    },
    {
     "name": "stdout",
     "output_type": "stream",
     "text": [
      "\n"
     ]
    },
    {
     "name": "stderr",
     "output_type": "stream",
     "text": [
      "16:17:59 - cmdstanpy - WARNING - Some chains may have failed to converge.\n",
      "\tChain 1 had 44 divergent transitions (2.2%)\n",
      "\tChain 1 had 1509 iterations at max treedepth (75.4%)\n",
      "\tChain 2 had 33 divergent transitions (1.7%)\n",
      "\tChain 2 had 1663 iterations at max treedepth (83.2%)\n",
      "\tChain 3 had 83 divergent transitions (4.2%)\n",
      "\tChain 3 had 406 iterations at max treedepth (20.3%)\n",
      "\tChain 4 had 36 divergent transitions (1.8%)\n",
      "\tChain 4 had 1709 iterations at max treedepth (85.5%)\n",
      "\tUse the \"diagnose()\" method on the CmdStanMCMC object to see further information.\n",
      "16:18:14 - cmdstanpy - INFO - CmdStan start processing\n"
     ]
    },
    {
     "name": "stdout",
     "output_type": "stream",
     "text": [
      "contest_5497 end\n",
      "contest_2667 begin\n"
     ]
    },
    {
     "data": {
      "application/vnd.jupyter.widget-view+json": {
       "model_id": "93c716054b3a4722adae06d6bec9fe6f",
       "version_major": 2,
       "version_minor": 0
      },
      "text/plain": [
       "chain 1 |          | 00:00 Status"
      ]
     },
     "metadata": {},
     "output_type": "display_data"
    },
    {
     "data": {
      "application/vnd.jupyter.widget-view+json": {
       "model_id": "169126c7b17c47f08441346ad8277138",
       "version_major": 2,
       "version_minor": 0
      },
      "text/plain": [
       "chain 2 |          | 00:00 Status"
      ]
     },
     "metadata": {},
     "output_type": "display_data"
    },
    {
     "data": {
      "application/vnd.jupyter.widget-view+json": {
       "model_id": "db69eebb7bc541b4ab3de197c4bdad29",
       "version_major": 2,
       "version_minor": 0
      },
      "text/plain": [
       "chain 3 |          | 00:00 Status"
      ]
     },
     "metadata": {},
     "output_type": "display_data"
    },
    {
     "data": {
      "application/vnd.jupyter.widget-view+json": {
       "model_id": "466f4b85773c449180d7a84a7345fa36",
       "version_major": 2,
       "version_minor": 0
      },
      "text/plain": [
       "chain 4 |          | 00:00 Status"
      ]
     },
     "metadata": {},
     "output_type": "display_data"
    },
    {
     "name": "stdout",
     "output_type": "stream",
     "text": [
      "                                                                                                                                                                                                                                                                                                                                "
     ]
    },
    {
     "name": "stderr",
     "output_type": "stream",
     "text": [
      "16:22:45 - cmdstanpy - INFO - CmdStan done processing.\n",
      "16:22:45 - cmdstanpy - WARNING - Non-fatal error during sampling:\n",
      "Exception: Exception: normal_lpdf: Random variable is nan, but must be not nan! (in 'real_data.stan', line 81, column 2 to column 53) (in 'real_data.stan', line 175, column 2 to line 180, column 4)\n",
      "\tException: Exception: normal_lpdf: Random variable is nan, but must be not nan! (in 'real_data.stan', line 81, column 2 to column 53) (in 'real_data.stan', line 175, column 2 to line 180, column 4)\n",
      "\tException: Exception: normal_lpdf: Random variable is nan, but must be not nan! (in 'real_data.stan', line 81, column 2 to column 53) (in 'real_data.stan', line 175, column 2 to line 180, column 4)\n",
      "\tException: Exception: normal_lpdf: Random variable is nan, but must be not nan! (in 'real_data.stan', line 81, column 2 to column 53) (in 'real_data.stan', line 175, column 2 to line 180, column 4)\n",
      "\tException: Exception: normal_lpdf: Random variable is nan, but must be not nan! (in 'real_data.stan', line 81, column 2 to column 53) (in 'real_data.stan', line 175, column 2 to line 180, column 4)\n",
      "\tException: Exception: normal_lpdf: Random variable is nan, but must be not nan! (in 'real_data.stan', line 81, column 2 to column 53) (in 'real_data.stan', line 175, column 2 to line 180, column 4)\n",
      "Exception: Exception: normal_lpdf: Random variable is nan, but must be not nan! (in 'real_data.stan', line 81, column 2 to column 53) (in 'real_data.stan', line 175, column 2 to line 180, column 4)\n",
      "\tException: Exception: normal_lpdf: Random variable is nan, but must be not nan! (in 'real_data.stan', line 81, column 2 to column 53) (in 'real_data.stan', line 175, column 2 to line 180, column 4)\n",
      "\tException: Exception: normal_lpdf: Random variable is nan, but must be not nan! (in 'real_data.stan', line 81, column 2 to column 53) (in 'real_data.stan', line 175, column 2 to line 180, column 4)\n",
      "\tException: Exception: normal_lpdf: Random variable is nan, but must be not nan! (in 'real_data.stan', line 81, column 2 to column 53) (in 'real_data.stan', line 175, column 2 to line 180, column 4)\n",
      "\tException: Exception: normal_lpdf: Random variable is nan, but must be not nan! (in 'real_data.stan', line 81, column 2 to column 53) (in 'real_data.stan', line 175, column 2 to line 180, column 4)\n",
      "Exception: Exception: normal_lpdf: Random variable is nan, but must be not nan! (in 'real_data.stan', line 81, column 2 to column 53) (in 'real_data.stan', line 175, column 2 to line 180, column 4)\n",
      "\tException: Exception: normal_lpdf: Random variable is nan, but must be not nan! (in 'real_data.stan', line 81, column 2 to column 53) (in 'real_data.stan', line 175, column 2 to line 180, column 4)\n",
      "\tException: Exception: normal_lpdf: Random variable is nan, but must be not nan! (in 'real_data.stan', line 81, column 2 to column 53) (in 'real_data.stan', line 175, column 2 to line 180, column 4)\n",
      "\tException: Exception: normal_lpdf: Random variable is nan, but must be not nan! (in 'real_data.stan', line 81, column 2 to column 53) (in 'real_data.stan', line 175, column 2 to line 180, column 4)\n",
      "\tException: Exception: normal_lpdf: Random variable is nan, but must be not nan! (in 'real_data.stan', line 81, column 2 to column 53) (in 'real_data.stan', line 175, column 2 to line 180, column 4)\n",
      "\tException: Exception: normal_lpdf: Random variable is nan, but must be not nan! (in 'real_data.stan', line 81, column 2 to column 53) (in 'real_data.stan', line 175, column 2 to line 180, column 4)\n",
      "Exception: Exception: normal_lpdf: Random variable is nan, but must be not nan! (in 'real_data.stan', line 81, column 2 to column 53) (in 'real_data.stan', line 175, column 2 to line 180, column 4)\n",
      "\tException: Exception: normal_lpdf: Random variable is nan, but must be not nan! (in 'real_data.stan', line 81, column 2 to column 53) (in 'real_data.stan', line 175, column 2 to line 180, column 4)\n",
      "\tException: Exception: normal_lpdf: Random variable is nan, but must be not nan! (in 'real_data.stan', line 81, column 2 to column 53) (in 'real_data.stan', line 175, column 2 to line 180, column 4)\n",
      "\tException: Exception: normal_lpdf: Random variable is nan, but must be not nan! (in 'real_data.stan', line 81, column 2 to column 53) (in 'real_data.stan', line 175, column 2 to line 180, column 4)\n",
      "\tException: Exception: normal_lpdf: Random variable is nan, but must be not nan! (in 'real_data.stan', line 81, column 2 to column 53) (in 'real_data.stan', line 175, column 2 to line 180, column 4)\n",
      "\tException: Exception: normal_lpdf: Random variable is nan, but must be not nan! (in 'real_data.stan', line 81, column 2 to column 53) (in 'real_data.stan', line 175, column 2 to line 180, column 4)\n",
      "\tException: Exception: normal_lpdf: Random variable is nan, but must be not nan! (in 'real_data.stan', line 81, column 2 to column 53) (in 'real_data.stan', line 175, column 2 to line 180, column 4)\n",
      "Consider re-running with show_console=True if the above output is unclear!\n"
     ]
    },
    {
     "name": "stdout",
     "output_type": "stream",
     "text": [
      "\n"
     ]
    },
    {
     "name": "stderr",
     "output_type": "stream",
     "text": [
      "16:22:50 - cmdstanpy - WARNING - Some chains may have failed to converge.\n",
      "\tChain 1 had 3 divergent transitions (0.1%)\n",
      "\tChain 2 had 14 divergent transitions (0.7%)\n",
      "\tChain 3 had 29 divergent transitions (1.5%)\n",
      "\tUse the \"diagnose()\" method on the CmdStanMCMC object to see further information.\n",
      "16:23:13 - cmdstanpy - INFO - CmdStan start processing\n"
     ]
    },
    {
     "name": "stdout",
     "output_type": "stream",
     "text": [
      "contest_2667 end\n",
      "contest_19018 begin\n"
     ]
    },
    {
     "data": {
      "application/vnd.jupyter.widget-view+json": {
       "model_id": "5526d280449c487c9602e6e601bd3d27",
       "version_major": 2,
       "version_minor": 0
      },
      "text/plain": [
       "chain 1 |          | 00:00 Status"
      ]
     },
     "metadata": {},
     "output_type": "display_data"
    },
    {
     "data": {
      "application/vnd.jupyter.widget-view+json": {
       "model_id": "a6758e63cf174c7ea73d62278750c8a2",
       "version_major": 2,
       "version_minor": 0
      },
      "text/plain": [
       "chain 2 |          | 00:00 Status"
      ]
     },
     "metadata": {},
     "output_type": "display_data"
    },
    {
     "data": {
      "application/vnd.jupyter.widget-view+json": {
       "model_id": "40ecd9550be247c099340d4df3925db9",
       "version_major": 2,
       "version_minor": 0
      },
      "text/plain": [
       "chain 3 |          | 00:00 Status"
      ]
     },
     "metadata": {},
     "output_type": "display_data"
    },
    {
     "data": {
      "application/vnd.jupyter.widget-view+json": {
       "model_id": "7af8227132594b88bf01830868524100",
       "version_major": 2,
       "version_minor": 0
      },
      "text/plain": [
       "chain 4 |          | 00:00 Status"
      ]
     },
     "metadata": {},
     "output_type": "display_data"
    },
    {
     "name": "stdout",
     "output_type": "stream",
     "text": [
      "                                                                                                                                                                                                                                                                                                                                "
     ]
    },
    {
     "name": "stderr",
     "output_type": "stream",
     "text": [
      "17:28:13 - cmdstanpy - INFO - CmdStan done processing.\n",
      "17:28:13 - cmdstanpy - WARNING - Non-fatal error during sampling:\n",
      "Exception: Exception: normal_lpdf: Random variable is nan, but must be not nan! (in 'real_data.stan', line 81, column 2 to column 53) (in 'real_data.stan', line 175, column 2 to line 180, column 4)\n",
      "\tException: Exception: normal_lpdf: Random variable is nan, but must be not nan! (in 'real_data.stan', line 81, column 2 to column 53) (in 'real_data.stan', line 175, column 2 to line 180, column 4)\n",
      "\tException: Exception: normal_lpdf: Random variable is nan, but must be not nan! (in 'real_data.stan', line 81, column 2 to column 53) (in 'real_data.stan', line 175, column 2 to line 180, column 4)\n",
      "\tException: Exception: normal_lpdf: Random variable is nan, but must be not nan! (in 'real_data.stan', line 81, column 2 to column 53) (in 'real_data.stan', line 175, column 2 to line 180, column 4)\n",
      "\tException: Exception: normal_lpdf: Random variable is nan, but must be not nan! (in 'real_data.stan', line 81, column 2 to column 53) (in 'real_data.stan', line 175, column 2 to line 180, column 4)\n",
      "Exception: Exception: normal_lpdf: Random variable is nan, but must be not nan! (in 'real_data.stan', line 81, column 2 to column 53) (in 'real_data.stan', line 175, column 2 to line 180, column 4)\n",
      "\tException: Exception: normal_lpdf: Random variable is nan, but must be not nan! (in 'real_data.stan', line 81, column 2 to column 53) (in 'real_data.stan', line 175, column 2 to line 180, column 4)\n",
      "\tException: Exception: normal_lpdf: Random variable is nan, but must be not nan! (in 'real_data.stan', line 81, column 2 to column 53) (in 'real_data.stan', line 175, column 2 to line 180, column 4)\n",
      "Exception: Exception: normal_lpdf: Random variable is nan, but must be not nan! (in 'real_data.stan', line 81, column 2 to column 53) (in 'real_data.stan', line 175, column 2 to line 180, column 4)\n",
      "\tException: Exception: normal_lpdf: Random variable is nan, but must be not nan! (in 'real_data.stan', line 81, column 2 to column 53) (in 'real_data.stan', line 175, column 2 to line 180, column 4)\n",
      "\tException: Exception: normal_lpdf: Random variable is nan, but must be not nan! (in 'real_data.stan', line 81, column 2 to column 53) (in 'real_data.stan', line 175, column 2 to line 180, column 4)\n",
      "\tException: Exception: normal_lpdf: Random variable is nan, but must be not nan! (in 'real_data.stan', line 81, column 2 to column 53) (in 'real_data.stan', line 175, column 2 to line 180, column 4)\n",
      "\tException: Exception: normal_lpdf: Random variable is nan, but must be not nan! (in 'real_data.stan', line 81, column 2 to column 53) (in 'real_data.stan', line 175, column 2 to line 180, column 4)\n",
      "\tException: Exception: normal_lpdf: Random variable is nan, but must be not nan! (in 'real_data.stan', line 81, column 2 to column 53) (in 'real_data.stan', line 175, column 2 to line 180, column 4)\n",
      "Exception: Exception: normal_lpdf: Random variable is nan, but must be not nan! (in 'real_data.stan', line 81, column 2 to column 53) (in 'real_data.stan', line 175, column 2 to line 180, column 4)\n",
      "\tException: Exception: normal_lpdf: Random variable is nan, but must be not nan! (in 'real_data.stan', line 81, column 2 to column 53) (in 'real_data.stan', line 175, column 2 to line 180, column 4)\n",
      "\tException: Exception: normal_lpdf: Random variable is nan, but must be not nan! (in 'real_data.stan', line 81, column 2 to column 53) (in 'real_data.stan', line 175, column 2 to line 180, column 4)\n",
      "\tException: Exception: normal_lpdf: Random variable is nan, but must be not nan! (in 'real_data.stan', line 81, column 2 to column 53) (in 'real_data.stan', line 175, column 2 to line 180, column 4)\n",
      "\tException: Exception: normal_lpdf: Random variable is nan, but must be not nan! (in 'real_data.stan', line 81, column 2 to column 53) (in 'real_data.stan', line 175, column 2 to line 180, column 4)\n",
      "Consider re-running with show_console=True if the above output is unclear!\n"
     ]
    },
    {
     "name": "stdout",
     "output_type": "stream",
     "text": [
      "\n"
     ]
    },
    {
     "name": "stderr",
     "output_type": "stream",
     "text": [
      "17:28:18 - cmdstanpy - WARNING - Some chains may have failed to converge.\n",
      "\tChain 1 had 54 divergent transitions (2.7%)\n",
      "\tChain 1 had 11 iterations at max treedepth (0.5%)\n",
      "\tChain 2 had 56 divergent transitions (2.8%)\n",
      "\tChain 2 had 8 iterations at max treedepth (0.4%)\n",
      "\tChain 3 had 65 divergent transitions (3.2%)\n",
      "\tChain 4 had 62 divergent transitions (3.1%)\n",
      "\tChain 4 had 492 iterations at max treedepth (24.6%)\n",
      "\tUse the \"diagnose()\" method on the CmdStanMCMC object to see further information.\n"
     ]
    },
    {
     "name": "stdout",
     "output_type": "stream",
     "text": [
      "contest_19018 end\n"
     ]
    },
    {
     "name": "stderr",
     "output_type": "stream",
     "text": [
      "17:28:40 - cmdstanpy - INFO - CmdStan start processing\n"
     ]
    },
    {
     "name": "stdout",
     "output_type": "stream",
     "text": [
      "contest_22962 begin\n"
     ]
    },
    {
     "data": {
      "application/vnd.jupyter.widget-view+json": {
       "model_id": "94fed9c6a9834508893f3e6bed6629ee",
       "version_major": 2,
       "version_minor": 0
      },
      "text/plain": [
       "chain 1 |          | 00:00 Status"
      ]
     },
     "metadata": {},
     "output_type": "display_data"
    },
    {
     "data": {
      "application/vnd.jupyter.widget-view+json": {
       "model_id": "f826353fe6bf4495ae96ea19dddda865",
       "version_major": 2,
       "version_minor": 0
      },
      "text/plain": [
       "chain 2 |          | 00:00 Status"
      ]
     },
     "metadata": {},
     "output_type": "display_data"
    },
    {
     "data": {
      "application/vnd.jupyter.widget-view+json": {
       "model_id": "62fa78f824144176a84f3dc3e54363e6",
       "version_major": 2,
       "version_minor": 0
      },
      "text/plain": [
       "chain 3 |          | 00:00 Status"
      ]
     },
     "metadata": {},
     "output_type": "display_data"
    },
    {
     "data": {
      "application/vnd.jupyter.widget-view+json": {
       "model_id": "80ef1293f6ff4550897b2a53384b8c48",
       "version_major": 2,
       "version_minor": 0
      },
      "text/plain": [
       "chain 4 |          | 00:00 Status"
      ]
     },
     "metadata": {},
     "output_type": "display_data"
    },
    {
     "name": "stdout",
     "output_type": "stream",
     "text": [
      "                                                                                                                                                                                                                                                                                                                                "
     ]
    },
    {
     "name": "stderr",
     "output_type": "stream",
     "text": [
      "17:29:49 - cmdstanpy - INFO - CmdStan done processing.\n",
      "17:29:49 - cmdstanpy - WARNING - Non-fatal error during sampling:\n",
      "Exception: Exception: normal_lpdf: Random variable is nan, but must be not nan! (in 'real_data.stan', line 81, column 2 to column 53) (in 'real_data.stan', line 175, column 2 to line 180, column 4)\n",
      "\tException: Exception: normal_lpdf: Random variable is nan, but must be not nan! (in 'real_data.stan', line 81, column 2 to column 53) (in 'real_data.stan', line 175, column 2 to line 180, column 4)\n",
      "\tException: Exception: normal_lpdf: Random variable is nan, but must be not nan! (in 'real_data.stan', line 81, column 2 to column 53) (in 'real_data.stan', line 175, column 2 to line 180, column 4)\n",
      "\tException: Exception: normal_lpdf: Random variable is nan, but must be not nan! (in 'real_data.stan', line 81, column 2 to column 53) (in 'real_data.stan', line 175, column 2 to line 180, column 4)\n",
      "Exception: Exception: normal_lpdf: Random variable is nan, but must be not nan! (in 'real_data.stan', line 81, column 2 to column 53) (in 'real_data.stan', line 175, column 2 to line 180, column 4)\n",
      "\tException: Exception: normal_lpdf: Random variable is nan, but must be not nan! (in 'real_data.stan', line 81, column 2 to column 53) (in 'real_data.stan', line 175, column 2 to line 180, column 4)\n",
      "Exception: Exception: normal_lpdf: Random variable is nan, but must be not nan! (in 'real_data.stan', line 81, column 2 to column 53) (in 'real_data.stan', line 175, column 2 to line 180, column 4)\n",
      "\tException: Exception: normal_lpdf: Random variable is nan, but must be not nan! (in 'real_data.stan', line 81, column 2 to column 53) (in 'real_data.stan', line 175, column 2 to line 180, column 4)\n",
      "\tException: Exception: normal_lpdf: Random variable is nan, but must be not nan! (in 'real_data.stan', line 81, column 2 to column 53) (in 'real_data.stan', line 175, column 2 to line 180, column 4)\n",
      "\tException: Exception: normal_lpdf: Random variable is nan, but must be not nan! (in 'real_data.stan', line 81, column 2 to column 53) (in 'real_data.stan', line 175, column 2 to line 180, column 4)\n",
      "Exception: Exception: normal_lpdf: Random variable is nan, but must be not nan! (in 'real_data.stan', line 81, column 2 to column 53) (in 'real_data.stan', line 175, column 2 to line 180, column 4)\n",
      "\tException: Exception: normal_lpdf: Random variable is nan, but must be not nan! (in 'real_data.stan', line 81, column 2 to column 53) (in 'real_data.stan', line 175, column 2 to line 180, column 4)\n",
      "\tException: Exception: normal_lpdf: Random variable is nan, but must be not nan! (in 'real_data.stan', line 81, column 2 to column 53) (in 'real_data.stan', line 175, column 2 to line 180, column 4)\n",
      "Consider re-running with show_console=True if the above output is unclear!\n"
     ]
    },
    {
     "name": "stdout",
     "output_type": "stream",
     "text": [
      "\n"
     ]
    },
    {
     "name": "stderr",
     "output_type": "stream",
     "text": [
      "17:29:50 - cmdstanpy - WARNING - Some chains may have failed to converge.\n",
      "\tChain 1 had 11 divergent transitions (0.5%)\n",
      "\tChain 2 had 11 divergent transitions (0.5%)\n",
      "\tChain 3 had 8 divergent transitions (0.4%)\n",
      "\tChain 4 had 6 divergent transitions (0.3%)\n",
      "\tUse the \"diagnose()\" method on the CmdStanMCMC object to see further information.\n",
      "17:29:55 - cmdstanpy - INFO - CmdStan start processing\n"
     ]
    },
    {
     "name": "stdout",
     "output_type": "stream",
     "text": [
      "contest_22962 end\n",
      "contest_2489 begin\n"
     ]
    },
    {
     "data": {
      "application/vnd.jupyter.widget-view+json": {
       "model_id": "a2a44c30d2724682a8eb38b26393d9e7",
       "version_major": 2,
       "version_minor": 0
      },
      "text/plain": [
       "chain 1 |          | 00:00 Status"
      ]
     },
     "metadata": {},
     "output_type": "display_data"
    },
    {
     "data": {
      "application/vnd.jupyter.widget-view+json": {
       "model_id": "6a1d767fe7b64eb4a3b633e8eceaaf2d",
       "version_major": 2,
       "version_minor": 0
      },
      "text/plain": [
       "chain 2 |          | 00:00 Status"
      ]
     },
     "metadata": {},
     "output_type": "display_data"
    },
    {
     "data": {
      "application/vnd.jupyter.widget-view+json": {
       "model_id": "74dae35834184869b3618f75967f01ce",
       "version_major": 2,
       "version_minor": 0
      },
      "text/plain": [
       "chain 3 |          | 00:00 Status"
      ]
     },
     "metadata": {},
     "output_type": "display_data"
    },
    {
     "data": {
      "application/vnd.jupyter.widget-view+json": {
       "model_id": "c3a98c455b734acab565795ff4273bf3",
       "version_major": 2,
       "version_minor": 0
      },
      "text/plain": [
       "chain 4 |          | 00:00 Status"
      ]
     },
     "metadata": {},
     "output_type": "display_data"
    },
    {
     "name": "stdout",
     "output_type": "stream",
     "text": [
      "                                                                                                                                                                                                                                                                                                                                "
     ]
    },
    {
     "name": "stderr",
     "output_type": "stream",
     "text": [
      "17:30:08 - cmdstanpy - INFO - CmdStan done processing.\n",
      "17:30:08 - cmdstanpy - WARNING - Non-fatal error during sampling:\n",
      "Exception: Exception: normal_lpdf: Random variable is nan, but must be not nan! (in 'real_data.stan', line 81, column 2 to column 53) (in 'real_data.stan', line 175, column 2 to line 180, column 4)\n",
      "\tException: Exception: normal_lpdf: Random variable is nan, but must be not nan! (in 'real_data.stan', line 81, column 2 to column 53) (in 'real_data.stan', line 175, column 2 to line 180, column 4)\n",
      "Exception: Exception: normal_lpdf: Random variable is nan, but must be not nan! (in 'real_data.stan', line 81, column 2 to column 53) (in 'real_data.stan', line 175, column 2 to line 180, column 4)\n",
      "Exception: Exception: normal_lpdf: Random variable is nan, but must be not nan! (in 'real_data.stan', line 81, column 2 to column 53) (in 'real_data.stan', line 175, column 2 to line 180, column 4)\n",
      "\tException: Exception: normal_lpdf: Random variable is nan, but must be not nan! (in 'real_data.stan', line 81, column 2 to column 53) (in 'real_data.stan', line 175, column 2 to line 180, column 4)\n",
      "Exception: Exception: normal_lpdf: Random variable is nan, but must be not nan! (in 'real_data.stan', line 81, column 2 to column 53) (in 'real_data.stan', line 175, column 2 to line 180, column 4)\n",
      "\tException: Exception: normal_lpdf: Random variable is nan, but must be not nan! (in 'real_data.stan', line 81, column 2 to column 53) (in 'real_data.stan', line 175, column 2 to line 180, column 4)\n",
      "Consider re-running with show_console=True if the above output is unclear!\n"
     ]
    },
    {
     "name": "stdout",
     "output_type": "stream",
     "text": [
      "\n"
     ]
    },
    {
     "name": "stderr",
     "output_type": "stream",
     "text": [
      "17:30:10 - cmdstanpy - INFO - CmdStan start processing\n"
     ]
    },
    {
     "name": "stdout",
     "output_type": "stream",
     "text": [
      "contest_2489 end\n",
      "contest_3774 begin\n"
     ]
    },
    {
     "data": {
      "application/vnd.jupyter.widget-view+json": {
       "model_id": "c63221b1fd8a4bfb897d252d91bfdd9e",
       "version_major": 2,
       "version_minor": 0
      },
      "text/plain": [
       "chain 1 |          | 00:00 Status"
      ]
     },
     "metadata": {},
     "output_type": "display_data"
    },
    {
     "data": {
      "application/vnd.jupyter.widget-view+json": {
       "model_id": "a06e8876b10242baabe8d0c1738e37ef",
       "version_major": 2,
       "version_minor": 0
      },
      "text/plain": [
       "chain 2 |          | 00:00 Status"
      ]
     },
     "metadata": {},
     "output_type": "display_data"
    },
    {
     "data": {
      "application/vnd.jupyter.widget-view+json": {
       "model_id": "6986533cf9cf4d6b8983706ebf0438d9",
       "version_major": 2,
       "version_minor": 0
      },
      "text/plain": [
       "chain 3 |          | 00:00 Status"
      ]
     },
     "metadata": {},
     "output_type": "display_data"
    },
    {
     "data": {
      "application/vnd.jupyter.widget-view+json": {
       "model_id": "49f5ad6610a84057938188f491007355",
       "version_major": 2,
       "version_minor": 0
      },
      "text/plain": [
       "chain 4 |          | 00:00 Status"
      ]
     },
     "metadata": {},
     "output_type": "display_data"
    },
    {
     "name": "stdout",
     "output_type": "stream",
     "text": [
      "                                                                                                                                                                                                                                                                                                                                "
     ]
    },
    {
     "name": "stderr",
     "output_type": "stream",
     "text": [
      "17:31:03 - cmdstanpy - INFO - CmdStan done processing.\n",
      "17:31:03 - cmdstanpy - WARNING - Non-fatal error during sampling:\n",
      "Exception: Exception: normal_lpdf: Random variable is nan, but must be not nan! (in 'real_data.stan', line 81, column 2 to column 53) (in 'real_data.stan', line 175, column 2 to line 180, column 4)\n",
      "\tException: Exception: normal_lpdf: Random variable is nan, but must be not nan! (in 'real_data.stan', line 81, column 2 to column 53) (in 'real_data.stan', line 175, column 2 to line 180, column 4)\n",
      "Exception: Exception: normal_lpdf: Random variable is nan, but must be not nan! (in 'real_data.stan', line 81, column 2 to column 53) (in 'real_data.stan', line 175, column 2 to line 180, column 4)\n",
      "\tException: Exception: normal_lpdf: Random variable is nan, but must be not nan! (in 'real_data.stan', line 81, column 2 to column 53) (in 'real_data.stan', line 175, column 2 to line 180, column 4)\n",
      "Exception: Exception: normal_lpdf: Random variable is nan, but must be not nan! (in 'real_data.stan', line 81, column 2 to column 53) (in 'real_data.stan', line 175, column 2 to line 180, column 4)\n",
      "\tException: Exception: normal_lpdf: Random variable is nan, but must be not nan! (in 'real_data.stan', line 81, column 2 to column 53) (in 'real_data.stan', line 175, column 2 to line 180, column 4)\n",
      "\tException: Exception: normal_lpdf: Random variable is nan, but must be not nan! (in 'real_data.stan', line 81, column 2 to column 53) (in 'real_data.stan', line 175, column 2 to line 180, column 4)\n",
      "\tException: Exception: normal_lpdf: Random variable is nan, but must be not nan! (in 'real_data.stan', line 81, column 2 to column 53) (in 'real_data.stan', line 175, column 2 to line 180, column 4)\n",
      "Exception: Exception: normal_lpdf: Random variable is nan, but must be not nan! (in 'real_data.stan', line 81, column 2 to column 53) (in 'real_data.stan', line 175, column 2 to line 180, column 4)\n",
      "\tException: Exception: normal_lpdf: Random variable is nan, but must be not nan! (in 'real_data.stan', line 81, column 2 to column 53) (in 'real_data.stan', line 175, column 2 to line 180, column 4)\n",
      "\tException: Exception: normal_lpdf: Random variable is nan, but must be not nan! (in 'real_data.stan', line 81, column 2 to column 53) (in 'real_data.stan', line 175, column 2 to line 180, column 4)\n",
      "Consider re-running with show_console=True if the above output is unclear!\n"
     ]
    },
    {
     "name": "stdout",
     "output_type": "stream",
     "text": [
      "\n"
     ]
    },
    {
     "name": "stderr",
     "output_type": "stream",
     "text": [
      "17:31:05 - cmdstanpy - WARNING - Some chains may have failed to converge.\n",
      "\tChain 2 had 1 divergent transitions (0.1%)\n",
      "\tUse the \"diagnose()\" method on the CmdStanMCMC object to see further information.\n",
      "17:31:13 - cmdstanpy - INFO - CmdStan start processing\n"
     ]
    },
    {
     "name": "stdout",
     "output_type": "stream",
     "text": [
      "contest_3774 end\n",
      "contest_8076 begin\n"
     ]
    },
    {
     "data": {
      "application/vnd.jupyter.widget-view+json": {
       "model_id": "973406b7b8534ce3bd91e8c976b156d8",
       "version_major": 2,
       "version_minor": 0
      },
      "text/plain": [
       "chain 1 |          | 00:00 Status"
      ]
     },
     "metadata": {},
     "output_type": "display_data"
    },
    {
     "data": {
      "application/vnd.jupyter.widget-view+json": {
       "model_id": "591bcd8eadac475a9451a0084704bf9a",
       "version_major": 2,
       "version_minor": 0
      },
      "text/plain": [
       "chain 2 |          | 00:00 Status"
      ]
     },
     "metadata": {},
     "output_type": "display_data"
    },
    {
     "data": {
      "application/vnd.jupyter.widget-view+json": {
       "model_id": "221fa7100045470c830cf08069fa28a1",
       "version_major": 2,
       "version_minor": 0
      },
      "text/plain": [
       "chain 3 |          | 00:00 Status"
      ]
     },
     "metadata": {},
     "output_type": "display_data"
    },
    {
     "data": {
      "application/vnd.jupyter.widget-view+json": {
       "model_id": "1aea5acb75fe4f758a2849e6d341ab6f",
       "version_major": 2,
       "version_minor": 0
      },
      "text/plain": [
       "chain 4 |          | 00:00 Status"
      ]
     },
     "metadata": {},
     "output_type": "display_data"
    },
    {
     "name": "stdout",
     "output_type": "stream",
     "text": [
      "                                                                                                                                                                                                                                                                                                                                "
     ]
    },
    {
     "name": "stderr",
     "output_type": "stream",
     "text": [
      "17:39:27 - cmdstanpy - INFO - CmdStan done processing.\n",
      "17:39:27 - cmdstanpy - WARNING - Non-fatal error during sampling:\n",
      "Exception: Exception: normal_lpdf: Random variable is nan, but must be not nan! (in 'real_data.stan', line 81, column 2 to column 53) (in 'real_data.stan', line 175, column 2 to line 180, column 4)\n",
      "\tException: Exception: normal_lpdf: Random variable is nan, but must be not nan! (in 'real_data.stan', line 81, column 2 to column 53) (in 'real_data.stan', line 175, column 2 to line 180, column 4)\n",
      "\tException: Exception: normal_lpdf: Random variable is nan, but must be not nan! (in 'real_data.stan', line 81, column 2 to column 53) (in 'real_data.stan', line 175, column 2 to line 180, column 4)\n",
      "\tException: Exception: normal_lpdf: Random variable is nan, but must be not nan! (in 'real_data.stan', line 81, column 2 to column 53) (in 'real_data.stan', line 175, column 2 to line 180, column 4)\n",
      "\tException: Exception: normal_lpdf: Random variable is nan, but must be not nan! (in 'real_data.stan', line 81, column 2 to column 53) (in 'real_data.stan', line 175, column 2 to line 180, column 4)\n",
      "Exception: Exception: normal_lpdf: Random variable is nan, but must be not nan! (in 'real_data.stan', line 81, column 2 to column 53) (in 'real_data.stan', line 175, column 2 to line 180, column 4)\n",
      "\tException: Exception: normal_lpdf: Random variable is nan, but must be not nan! (in 'real_data.stan', line 81, column 2 to column 53) (in 'real_data.stan', line 175, column 2 to line 180, column 4)\n",
      "\tException: Exception: normal_lpdf: Random variable is nan, but must be not nan! (in 'real_data.stan', line 81, column 2 to column 53) (in 'real_data.stan', line 175, column 2 to line 180, column 4)\n",
      "Exception: Exception: normal_lpdf: Random variable is nan, but must be not nan! (in 'real_data.stan', line 81, column 2 to column 53) (in 'real_data.stan', line 175, column 2 to line 180, column 4)\n",
      "\tException: Exception: normal_lpdf: Random variable is nan, but must be not nan! (in 'real_data.stan', line 81, column 2 to column 53) (in 'real_data.stan', line 175, column 2 to line 180, column 4)\n",
      "\tException: Exception: normal_lpdf: Random variable is nan, but must be not nan! (in 'real_data.stan', line 81, column 2 to column 53) (in 'real_data.stan', line 175, column 2 to line 180, column 4)\n",
      "\tException: Exception: normal_lpdf: Random variable is nan, but must be not nan! (in 'real_data.stan', line 81, column 2 to column 53) (in 'real_data.stan', line 175, column 2 to line 180, column 4)\n",
      "\tException: Exception: normal_lpdf: Random variable is nan, but must be not nan! (in 'real_data.stan', line 81, column 2 to column 53) (in 'real_data.stan', line 175, column 2 to line 180, column 4)\n",
      "Exception: Exception: normal_lpdf: Random variable is nan, but must be not nan! (in 'real_data.stan', line 81, column 2 to column 53) (in 'real_data.stan', line 175, column 2 to line 180, column 4)\n",
      "\tException: Exception: normal_lpdf: Random variable is nan, but must be not nan! (in 'real_data.stan', line 81, column 2 to column 53) (in 'real_data.stan', line 175, column 2 to line 180, column 4)\n",
      "\tException: Exception: normal_lpdf: Random variable is nan, but must be not nan! (in 'real_data.stan', line 81, column 2 to column 53) (in 'real_data.stan', line 175, column 2 to line 180, column 4)\n",
      "\tException: Exception: normal_lpdf: Random variable is nan, but must be not nan! (in 'real_data.stan', line 81, column 2 to column 53) (in 'real_data.stan', line 175, column 2 to line 180, column 4)\n",
      "\tException: Exception: normal_lpdf: Random variable is nan, but must be not nan! (in 'real_data.stan', line 81, column 2 to column 53) (in 'real_data.stan', line 175, column 2 to line 180, column 4)\n",
      "Consider re-running with show_console=True if the above output is unclear!\n"
     ]
    },
    {
     "name": "stdout",
     "output_type": "stream",
     "text": [
      "\n"
     ]
    },
    {
     "name": "stderr",
     "output_type": "stream",
     "text": [
      "17:39:29 - cmdstanpy - WARNING - Some chains may have failed to converge.\n",
      "\tChain 1 had 47 divergent transitions (2.4%)\n",
      "\tChain 1 had 1 iterations at max treedepth (0.1%)\n",
      "\tChain 2 had 46 divergent transitions (2.3%)\n",
      "\tChain 3 had 48 divergent transitions (2.4%)\n",
      "\tChain 4 had 57 divergent transitions (2.9%)\n",
      "\tUse the \"diagnose()\" method on the CmdStanMCMC object to see further information.\n",
      "17:39:37 - cmdstanpy - INFO - CmdStan start processing\n"
     ]
    },
    {
     "name": "stdout",
     "output_type": "stream",
     "text": [
      "contest_8076 end\n",
      "contest_14420 begin\n"
     ]
    },
    {
     "data": {
      "application/vnd.jupyter.widget-view+json": {
       "model_id": "9c5f19518ee34ec78b8e855feb96c657",
       "version_major": 2,
       "version_minor": 0
      },
      "text/plain": [
       "chain 1 |          | 00:00 Status"
      ]
     },
     "metadata": {},
     "output_type": "display_data"
    },
    {
     "data": {
      "application/vnd.jupyter.widget-view+json": {
       "model_id": "060e41ba4d0e4f3aa4c15a7a5133b387",
       "version_major": 2,
       "version_minor": 0
      },
      "text/plain": [
       "chain 2 |          | 00:00 Status"
      ]
     },
     "metadata": {},
     "output_type": "display_data"
    },
    {
     "data": {
      "application/vnd.jupyter.widget-view+json": {
       "model_id": "50a1a57b73744e738d6f958d82fb4473",
       "version_major": 2,
       "version_minor": 0
      },
      "text/plain": [
       "chain 3 |          | 00:00 Status"
      ]
     },
     "metadata": {},
     "output_type": "display_data"
    },
    {
     "data": {
      "application/vnd.jupyter.widget-view+json": {
       "model_id": "ba13a1bbbbfa4a2c8412a4e62ba8f70d",
       "version_major": 2,
       "version_minor": 0
      },
      "text/plain": [
       "chain 4 |          | 00:00 Status"
      ]
     },
     "metadata": {},
     "output_type": "display_data"
    },
    {
     "name": "stdout",
     "output_type": "stream",
     "text": [
      "                                                                                                                                                                                                                                                                                                                                "
     ]
    },
    {
     "name": "stderr",
     "output_type": "stream",
     "text": [
      "17:41:07 - cmdstanpy - INFO - CmdStan done processing.\n",
      "17:41:07 - cmdstanpy - WARNING - Non-fatal error during sampling:\n",
      "Exception: Exception: normal_lpdf: Random variable is nan, but must be not nan! (in 'real_data.stan', line 81, column 2 to column 53) (in 'real_data.stan', line 175, column 2 to line 180, column 4)\n",
      "\tException: Exception: normal_lpdf: Random variable is nan, but must be not nan! (in 'real_data.stan', line 81, column 2 to column 53) (in 'real_data.stan', line 175, column 2 to line 180, column 4)\n",
      "\tException: Exception: normal_lpdf: Random variable is nan, but must be not nan! (in 'real_data.stan', line 81, column 2 to column 53) (in 'real_data.stan', line 175, column 2 to line 180, column 4)\n",
      "\tException: Exception: normal_lpdf: Random variable is nan, but must be not nan! (in 'real_data.stan', line 81, column 2 to column 53) (in 'real_data.stan', line 175, column 2 to line 180, column 4)\n",
      "\tException: Exception: normal_lpdf: Random variable is nan, but must be not nan! (in 'real_data.stan', line 81, column 2 to column 53) (in 'real_data.stan', line 175, column 2 to line 180, column 4)\n",
      "\tException: Exception: normal_lpdf: Random variable is nan, but must be not nan! (in 'real_data.stan', line 81, column 2 to column 53) (in 'real_data.stan', line 175, column 2 to line 180, column 4)\n",
      "\tException: Exception: normal_lpdf: Random variable is nan, but must be not nan! (in 'real_data.stan', line 81, column 2 to column 53) (in 'real_data.stan', line 175, column 2 to line 180, column 4)\n",
      "\tException: Exception: normal_lpdf: Random variable is nan, but must be not nan! (in 'real_data.stan', line 81, column 2 to column 53) (in 'real_data.stan', line 175, column 2 to line 180, column 4)\n",
      "Exception: Exception: normal_lpdf: Random variable is nan, but must be not nan! (in 'real_data.stan', line 81, column 2 to column 53) (in 'real_data.stan', line 175, column 2 to line 180, column 4)\n",
      "\tException: Exception: normal_lpdf: Random variable is nan, but must be not nan! (in 'real_data.stan', line 81, column 2 to column 53) (in 'real_data.stan', line 175, column 2 to line 180, column 4)\n",
      "\tException: Exception: normal_lpdf: Random variable is nan, but must be not nan! (in 'real_data.stan', line 81, column 2 to column 53) (in 'real_data.stan', line 175, column 2 to line 180, column 4)\n",
      "\tException: Exception: normal_lpdf: Random variable is nan, but must be not nan! (in 'real_data.stan', line 81, column 2 to column 53) (in 'real_data.stan', line 175, column 2 to line 180, column 4)\n",
      "\tException: Exception: normal_lpdf: Random variable is nan, but must be not nan! (in 'real_data.stan', line 81, column 2 to column 53) (in 'real_data.stan', line 175, column 2 to line 180, column 4)\n",
      "\tException: Exception: normal_lpdf: Random variable is nan, but must be not nan! (in 'real_data.stan', line 81, column 2 to column 53) (in 'real_data.stan', line 175, column 2 to line 180, column 4)\n",
      "Exception: Exception: normal_lpdf: Random variable is nan, but must be not nan! (in 'real_data.stan', line 81, column 2 to column 53) (in 'real_data.stan', line 175, column 2 to line 180, column 4)\n",
      "\tException: Exception: normal_lpdf: Random variable is nan, but must be not nan! (in 'real_data.stan', line 81, column 2 to column 53) (in 'real_data.stan', line 175, column 2 to line 180, column 4)\n",
      "\tException: Exception: normal_lpdf: Random variable is nan, but must be not nan! (in 'real_data.stan', line 81, column 2 to column 53) (in 'real_data.stan', line 175, column 2 to line 180, column 4)\n",
      "\tException: Exception: normal_lpdf: Random variable is nan, but must be not nan! (in 'real_data.stan', line 81, column 2 to column 53) (in 'real_data.stan', line 175, column 2 to line 180, column 4)\n",
      "\tException: Exception: normal_lpdf: Random variable is nan, but must be not nan! (in 'real_data.stan', line 81, column 2 to column 53) (in 'real_data.stan', line 175, column 2 to line 180, column 4)\n",
      "\tException: Exception: normal_lpdf: Random variable is nan, but must be not nan! (in 'real_data.stan', line 81, column 2 to column 53) (in 'real_data.stan', line 175, column 2 to line 180, column 4)\n",
      "\tException: Exception: normal_lpdf: Random variable is nan, but must be not nan! (in 'real_data.stan', line 81, column 2 to column 53) (in 'real_data.stan', line 175, column 2 to line 180, column 4)\n",
      "Exception: Exception: normal_lpdf: Random variable is nan, but must be not nan! (in 'real_data.stan', line 81, column 2 to column 53) (in 'real_data.stan', line 175, column 2 to line 180, column 4)\n",
      "\tException: Exception: normal_lpdf: Random variable is nan, but must be not nan! (in 'real_data.stan', line 81, column 2 to column 53) (in 'real_data.stan', line 175, column 2 to line 180, column 4)\n",
      "\tException: Exception: normal_lpdf: Random variable is nan, but must be not nan! (in 'real_data.stan', line 81, column 2 to column 53) (in 'real_data.stan', line 175, column 2 to line 180, column 4)\n",
      "\tException: Exception: normal_lpdf: Random variable is nan, but must be not nan! (in 'real_data.stan', line 81, column 2 to column 53) (in 'real_data.stan', line 175, column 2 to line 180, column 4)\n",
      "\tException: Exception: normal_lpdf: Random variable is nan, but must be not nan! (in 'real_data.stan', line 81, column 2 to column 53) (in 'real_data.stan', line 175, column 2 to line 180, column 4)\n",
      "\tException: Exception: normal_lpdf: Random variable is nan, but must be not nan! (in 'real_data.stan', line 81, column 2 to column 53) (in 'real_data.stan', line 175, column 2 to line 180, column 4)\n",
      "\tException: Exception: normal_lpdf: Random variable is nan, but must be not nan! (in 'real_data.stan', line 81, column 2 to column 53) (in 'real_data.stan', line 175, column 2 to line 180, column 4)\n",
      "\tException: Exception: normal_lpdf: Random variable is nan, but must be not nan! (in 'real_data.stan', line 81, column 2 to column 53) (in 'real_data.stan', line 175, column 2 to line 180, column 4)\n",
      "\tException: Exception: normal_lpdf: Random variable is nan, but must be not nan! (in 'real_data.stan', line 81, column 2 to column 53) (in 'real_data.stan', line 175, column 2 to line 180, column 4)\n",
      "Consider re-running with show_console=True if the above output is unclear!\n"
     ]
    },
    {
     "name": "stdout",
     "output_type": "stream",
     "text": [
      "\n"
     ]
    },
    {
     "name": "stderr",
     "output_type": "stream",
     "text": [
      "17:41:10 - cmdstanpy - WARNING - Some chains may have failed to converge.\n",
      "\tChain 1 had 4 divergent transitions (0.2%)\n",
      "\tChain 2 had 3 divergent transitions (0.1%)\n",
      "\tChain 3 had 3 divergent transitions (0.1%)\n",
      "\tChain 4 had 2 divergent transitions (0.1%)\n",
      "\tUse the \"diagnose()\" method on the CmdStanMCMC object to see further information.\n",
      "17:41:25 - cmdstanpy - INFO - CmdStan start processing\n"
     ]
    },
    {
     "name": "stdout",
     "output_type": "stream",
     "text": [
      "contest_14420 end\n",
      "contest_4043 begin\n"
     ]
    },
    {
     "data": {
      "application/vnd.jupyter.widget-view+json": {
       "model_id": "f73dcaa859b249eea511444282d4e3b4",
       "version_major": 2,
       "version_minor": 0
      },
      "text/plain": [
       "chain 1 |          | 00:00 Status"
      ]
     },
     "metadata": {},
     "output_type": "display_data"
    },
    {
     "data": {
      "application/vnd.jupyter.widget-view+json": {
       "model_id": "0ccdbb5d0f4749ba90d4123f87ea28fc",
       "version_major": 2,
       "version_minor": 0
      },
      "text/plain": [
       "chain 2 |          | 00:00 Status"
      ]
     },
     "metadata": {},
     "output_type": "display_data"
    },
    {
     "data": {
      "application/vnd.jupyter.widget-view+json": {
       "model_id": "010ea990e7f146839be10ecfee923699",
       "version_major": 2,
       "version_minor": 0
      },
      "text/plain": [
       "chain 3 |          | 00:00 Status"
      ]
     },
     "metadata": {},
     "output_type": "display_data"
    },
    {
     "data": {
      "application/vnd.jupyter.widget-view+json": {
       "model_id": "c7b4261baacb4194a54066c690a454c7",
       "version_major": 2,
       "version_minor": 0
      },
      "text/plain": [
       "chain 4 |          | 00:00 Status"
      ]
     },
     "metadata": {},
     "output_type": "display_data"
    },
    {
     "name": "stdout",
     "output_type": "stream",
     "text": [
      "                                                                                                                                                                                                                                                                                                                                "
     ]
    },
    {
     "name": "stderr",
     "output_type": "stream",
     "text": [
      "17:42:53 - cmdstanpy - INFO - CmdStan done processing.\n",
      "17:42:53 - cmdstanpy - WARNING - Non-fatal error during sampling:\n",
      "Exception: Exception: normal_lpdf: Random variable is nan, but must be not nan! (in 'real_data.stan', line 81, column 2 to column 53) (in 'real_data.stan', line 175, column 2 to line 180, column 4)\n",
      "\tException: Exception: normal_lpdf: Random variable is nan, but must be not nan! (in 'real_data.stan', line 81, column 2 to column 53) (in 'real_data.stan', line 175, column 2 to line 180, column 4)\n",
      "\tException: Exception: normal_lpdf: Random variable is nan, but must be not nan! (in 'real_data.stan', line 81, column 2 to column 53) (in 'real_data.stan', line 175, column 2 to line 180, column 4)\n",
      "Exception: Exception: normal_lpdf: Random variable is nan, but must be not nan! (in 'real_data.stan', line 81, column 2 to column 53) (in 'real_data.stan', line 175, column 2 to line 180, column 4)\n",
      "\tException: Exception: normal_lpdf: Random variable is nan, but must be not nan! (in 'real_data.stan', line 81, column 2 to column 53) (in 'real_data.stan', line 175, column 2 to line 180, column 4)\n",
      "\tException: Exception: normal_lpdf: Random variable is nan, but must be not nan! (in 'real_data.stan', line 81, column 2 to column 53) (in 'real_data.stan', line 175, column 2 to line 180, column 4)\n",
      "Exception: Exception: normal_lpdf: Random variable is nan, but must be not nan! (in 'real_data.stan', line 81, column 2 to column 53) (in 'real_data.stan', line 175, column 2 to line 180, column 4)\n",
      "\tException: Exception: normal_lpdf: Random variable is nan, but must be not nan! (in 'real_data.stan', line 81, column 2 to column 53) (in 'real_data.stan', line 175, column 2 to line 180, column 4)\n",
      "Exception: Exception: normal_lpdf: Random variable is nan, but must be not nan! (in 'real_data.stan', line 81, column 2 to column 53) (in 'real_data.stan', line 175, column 2 to line 180, column 4)\n",
      "\tException: Exception: normal_lpdf: Random variable is nan, but must be not nan! (in 'real_data.stan', line 81, column 2 to column 53) (in 'real_data.stan', line 175, column 2 to line 180, column 4)\n",
      "Consider re-running with show_console=True if the above output is unclear!\n"
     ]
    },
    {
     "name": "stdout",
     "output_type": "stream",
     "text": [
      "\n"
     ]
    },
    {
     "name": "stderr",
     "output_type": "stream",
     "text": [
      "17:43:09 - cmdstanpy - INFO - CmdStan start processing\n"
     ]
    },
    {
     "name": "stdout",
     "output_type": "stream",
     "text": [
      "contest_4043 end\n",
      "contest_18045 begin\n"
     ]
    },
    {
     "data": {
      "application/vnd.jupyter.widget-view+json": {
       "model_id": "d04948ec63784d3e84b8b18186af91c6",
       "version_major": 2,
       "version_minor": 0
      },
      "text/plain": [
       "chain 1 |          | 00:00 Status"
      ]
     },
     "metadata": {},
     "output_type": "display_data"
    },
    {
     "data": {
      "application/vnd.jupyter.widget-view+json": {
       "model_id": "cb026edb608b49d0b01442ff5e59720e",
       "version_major": 2,
       "version_minor": 0
      },
      "text/plain": [
       "chain 2 |          | 00:00 Status"
      ]
     },
     "metadata": {},
     "output_type": "display_data"
    },
    {
     "data": {
      "application/vnd.jupyter.widget-view+json": {
       "model_id": "af1fbb96cf954d12903cb78b89bb9762",
       "version_major": 2,
       "version_minor": 0
      },
      "text/plain": [
       "chain 3 |          | 00:00 Status"
      ]
     },
     "metadata": {},
     "output_type": "display_data"
    },
    {
     "data": {
      "application/vnd.jupyter.widget-view+json": {
       "model_id": "400d391dad98408587dde5885efc9c1f",
       "version_major": 2,
       "version_minor": 0
      },
      "text/plain": [
       "chain 4 |          | 00:00 Status"
      ]
     },
     "metadata": {},
     "output_type": "display_data"
    },
    {
     "name": "stdout",
     "output_type": "stream",
     "text": [
      "                                                                                                                                                                                                                                                                                                                                "
     ]
    },
    {
     "name": "stderr",
     "output_type": "stream",
     "text": [
      "19:54:04 - cmdstanpy - INFO - CmdStan done processing.\n",
      "19:54:04 - cmdstanpy - WARNING - Non-fatal error during sampling:\n",
      "Exception: Exception: normal_lpdf: Random variable is nan, but must be not nan! (in 'real_data.stan', line 81, column 2 to column 53) (in 'real_data.stan', line 175, column 2 to line 180, column 4)\n",
      "\tException: Exception: normal_lpdf: Random variable is nan, but must be not nan! (in 'real_data.stan', line 81, column 2 to column 53) (in 'real_data.stan', line 175, column 2 to line 180, column 4)\n",
      "\tException: Exception: normal_lpdf: Random variable is nan, but must be not nan! (in 'real_data.stan', line 81, column 2 to column 53) (in 'real_data.stan', line 175, column 2 to line 180, column 4)\n",
      "\tException: Exception: normal_lpdf: Random variable is nan, but must be not nan! (in 'real_data.stan', line 81, column 2 to column 53) (in 'real_data.stan', line 175, column 2 to line 180, column 4)\n",
      "Exception: Exception: normal_lpdf: Random variable is nan, but must be not nan! (in 'real_data.stan', line 81, column 2 to column 53) (in 'real_data.stan', line 175, column 2 to line 180, column 4)\n",
      "\tException: Exception: normal_lpdf: Random variable is nan, but must be not nan! (in 'real_data.stan', line 81, column 2 to column 53) (in 'real_data.stan', line 175, column 2 to line 180, column 4)\n",
      "\tException: Exception: normal_lpdf: Random variable is nan, but must be not nan! (in 'real_data.stan', line 81, column 2 to column 53) (in 'real_data.stan', line 175, column 2 to line 180, column 4)\n",
      "\tException: Exception: normal_lpdf: Random variable is nan, but must be not nan! (in 'real_data.stan', line 81, column 2 to column 53) (in 'real_data.stan', line 175, column 2 to line 180, column 4)\n",
      "Exception: Exception: normal_lpdf: Random variable is nan, but must be not nan! (in 'real_data.stan', line 81, column 2 to column 53) (in 'real_data.stan', line 175, column 2 to line 180, column 4)\n",
      "\tException: Exception: normal_lpdf: Random variable is nan, but must be not nan! (in 'real_data.stan', line 81, column 2 to column 53) (in 'real_data.stan', line 175, column 2 to line 180, column 4)\n",
      "\tException: Exception: normal_lpdf: Random variable is nan, but must be not nan! (in 'real_data.stan', line 81, column 2 to column 53) (in 'real_data.stan', line 175, column 2 to line 180, column 4)\n",
      "\tException: Exception: normal_lpdf: Random variable is nan, but must be not nan! (in 'real_data.stan', line 81, column 2 to column 53) (in 'real_data.stan', line 175, column 2 to line 180, column 4)\n",
      "\tException: Exception: normal_lpdf: Random variable is nan, but must be not nan! (in 'real_data.stan', line 81, column 2 to column 53) (in 'real_data.stan', line 175, column 2 to line 180, column 4)\n",
      "Exception: Exception: normal_lpdf: Random variable is nan, but must be not nan! (in 'real_data.stan', line 81, column 2 to column 53) (in 'real_data.stan', line 175, column 2 to line 180, column 4)\n",
      "\tException: Exception: normal_lpdf: Random variable is nan, but must be not nan! (in 'real_data.stan', line 81, column 2 to column 53) (in 'real_data.stan', line 175, column 2 to line 180, column 4)\n",
      "\tException: Exception: normal_lpdf: Random variable is nan, but must be not nan! (in 'real_data.stan', line 81, column 2 to column 53) (in 'real_data.stan', line 175, column 2 to line 180, column 4)\n",
      "Consider re-running with show_console=True if the above output is unclear!\n"
     ]
    },
    {
     "name": "stdout",
     "output_type": "stream",
     "text": [
      "\n"
     ]
    },
    {
     "name": "stderr",
     "output_type": "stream",
     "text": [
      "19:54:11 - cmdstanpy - WARNING - Some chains may have failed to converge.\n",
      "\tChain 1 had 11 divergent transitions (0.5%)\n",
      "\tChain 1 had 1916 iterations at max treedepth (95.8%)\n",
      "\tChain 2 had 61 divergent transitions (3.0%)\n",
      "\tChain 2 had 341 iterations at max treedepth (17.1%)\n",
      "\tChain 3 had 49 divergent transitions (2.5%)\n",
      "\tChain 3 had 1106 iterations at max treedepth (55.3%)\n",
      "\tChain 4 had 52 divergent transitions (2.6%)\n",
      "\tUse the \"diagnose()\" method on the CmdStanMCMC object to see further information.\n"
     ]
    },
    {
     "name": "stdout",
     "output_type": "stream",
     "text": [
      "contest_18045 end\n",
      "contest_3929 begin\n"
     ]
    },
    {
     "name": "stderr",
     "output_type": "stream",
     "text": [
      "19:54:42 - cmdstanpy - INFO - CmdStan start processing\n"
     ]
    },
    {
     "data": {
      "application/vnd.jupyter.widget-view+json": {
       "model_id": "3eca84b5ad8e472dac4be1f2c1c74911",
       "version_major": 2,
       "version_minor": 0
      },
      "text/plain": [
       "chain 1 |          | 00:00 Status"
      ]
     },
     "metadata": {},
     "output_type": "display_data"
    },
    {
     "data": {
      "application/vnd.jupyter.widget-view+json": {
       "model_id": "e740423ae6154cc1b3ef65feb3d57438",
       "version_major": 2,
       "version_minor": 0
      },
      "text/plain": [
       "chain 2 |          | 00:00 Status"
      ]
     },
     "metadata": {},
     "output_type": "display_data"
    },
    {
     "data": {
      "application/vnd.jupyter.widget-view+json": {
       "model_id": "7735ea0d63934c29874b91edbbed4ec3",
       "version_major": 2,
       "version_minor": 0
      },
      "text/plain": [
       "chain 3 |          | 00:00 Status"
      ]
     },
     "metadata": {},
     "output_type": "display_data"
    },
    {
     "data": {
      "application/vnd.jupyter.widget-view+json": {
       "model_id": "b05b8d8f4eab41b7a6eb1f6e273419e8",
       "version_major": 2,
       "version_minor": 0
      },
      "text/plain": [
       "chain 4 |          | 00:00 Status"
      ]
     },
     "metadata": {},
     "output_type": "display_data"
    },
    {
     "name": "stdout",
     "output_type": "stream",
     "text": [
      "                                                                                                                                                                                                                                                                                                                                "
     ]
    },
    {
     "name": "stderr",
     "output_type": "stream",
     "text": [
      "19:57:32 - cmdstanpy - INFO - CmdStan done processing.\n",
      "19:57:32 - cmdstanpy - WARNING - Non-fatal error during sampling:\n",
      "Exception: Exception: normal_lpdf: Random variable is nan, but must be not nan! (in 'real_data.stan', line 81, column 2 to column 53) (in 'real_data.stan', line 175, column 2 to line 180, column 4)\n",
      "\tException: Exception: normal_lpdf: Random variable is nan, but must be not nan! (in 'real_data.stan', line 81, column 2 to column 53) (in 'real_data.stan', line 175, column 2 to line 180, column 4)\n",
      "\tException: Exception: normal_lpdf: Random variable is nan, but must be not nan! (in 'real_data.stan', line 81, column 2 to column 53) (in 'real_data.stan', line 175, column 2 to line 180, column 4)\n",
      "\tException: Exception: normal_lpdf: Random variable is nan, but must be not nan! (in 'real_data.stan', line 81, column 2 to column 53) (in 'real_data.stan', line 175, column 2 to line 180, column 4)\n",
      "Exception: Exception: normal_lpdf: Random variable is nan, but must be not nan! (in 'real_data.stan', line 81, column 2 to column 53) (in 'real_data.stan', line 175, column 2 to line 180, column 4)\n",
      "\tException: Exception: normal_lpdf: Random variable is nan, but must be not nan! (in 'real_data.stan', line 81, column 2 to column 53) (in 'real_data.stan', line 175, column 2 to line 180, column 4)\n",
      "\tException: Exception: normal_lpdf: Random variable is nan, but must be not nan! (in 'real_data.stan', line 81, column 2 to column 53) (in 'real_data.stan', line 175, column 2 to line 180, column 4)\n",
      "\tException: Exception: normal_lpdf: Random variable is nan, but must be not nan! (in 'real_data.stan', line 81, column 2 to column 53) (in 'real_data.stan', line 175, column 2 to line 180, column 4)\n",
      "\tException: Exception: normal_lpdf: Random variable is nan, but must be not nan! (in 'real_data.stan', line 81, column 2 to column 53) (in 'real_data.stan', line 175, column 2 to line 180, column 4)\n",
      "\tException: Exception: normal_lpdf: Random variable is nan, but must be not nan! (in 'real_data.stan', line 81, column 2 to column 53) (in 'real_data.stan', line 175, column 2 to line 180, column 4)\n",
      "Exception: Exception: normal_lpdf: Random variable is nan, but must be not nan! (in 'real_data.stan', line 81, column 2 to column 53) (in 'real_data.stan', line 175, column 2 to line 180, column 4)\n",
      "\tException: Exception: normal_lpdf: Random variable is nan, but must be not nan! (in 'real_data.stan', line 81, column 2 to column 53) (in 'real_data.stan', line 175, column 2 to line 180, column 4)\n",
      "\tException: Exception: normal_lpdf: Random variable is nan, but must be not nan! (in 'real_data.stan', line 81, column 2 to column 53) (in 'real_data.stan', line 175, column 2 to line 180, column 4)\n",
      "\tException: Exception: normal_lpdf: Random variable is nan, but must be not nan! (in 'real_data.stan', line 81, column 2 to column 53) (in 'real_data.stan', line 175, column 2 to line 180, column 4)\n",
      "\tException: Exception: normal_lpdf: Random variable is nan, but must be not nan! (in 'real_data.stan', line 81, column 2 to column 53) (in 'real_data.stan', line 175, column 2 to line 180, column 4)\n",
      "Exception: Exception: normal_lpdf: Random variable is nan, but must be not nan! (in 'real_data.stan', line 81, column 2 to column 53) (in 'real_data.stan', line 175, column 2 to line 180, column 4)\n",
      "\tException: Exception: normal_lpdf: Random variable is nan, but must be not nan! (in 'real_data.stan', line 81, column 2 to column 53) (in 'real_data.stan', line 175, column 2 to line 180, column 4)\n",
      "\tException: Exception: normal_lpdf: Random variable is nan, but must be not nan! (in 'real_data.stan', line 81, column 2 to column 53) (in 'real_data.stan', line 175, column 2 to line 180, column 4)\n",
      "\tException: Exception: normal_lpdf: Random variable is nan, but must be not nan! (in 'real_data.stan', line 81, column 2 to column 53) (in 'real_data.stan', line 175, column 2 to line 180, column 4)\n",
      "Consider re-running with show_console=True if the above output is unclear!\n"
     ]
    },
    {
     "name": "stdout",
     "output_type": "stream",
     "text": [
      "\n"
     ]
    },
    {
     "name": "stderr",
     "output_type": "stream",
     "text": [
      "19:57:34 - cmdstanpy - WARNING - Some chains may have failed to converge.\n",
      "\tChain 1 had 39 divergent transitions (1.9%)\n",
      "\tChain 2 had 31 divergent transitions (1.6%)\n",
      "\tChain 3 had 32 divergent transitions (1.6%)\n",
      "\tChain 4 had 37 divergent transitions (1.8%)\n",
      "\tUse the \"diagnose()\" method on the CmdStanMCMC object to see further information.\n",
      "19:57:43 - cmdstanpy - INFO - CmdStan start processing\n"
     ]
    },
    {
     "name": "stdout",
     "output_type": "stream",
     "text": [
      "contest_3929 end\n",
      "contest_3641 begin\n"
     ]
    },
    {
     "data": {
      "application/vnd.jupyter.widget-view+json": {
       "model_id": "9f21062a76a04ee88ee6f324bd9068e6",
       "version_major": 2,
       "version_minor": 0
      },
      "text/plain": [
       "chain 1 |          | 00:00 Status"
      ]
     },
     "metadata": {},
     "output_type": "display_data"
    },
    {
     "data": {
      "application/vnd.jupyter.widget-view+json": {
       "model_id": "5ffe178e89664e62a7794e0e768de4b3",
       "version_major": 2,
       "version_minor": 0
      },
      "text/plain": [
       "chain 2 |          | 00:00 Status"
      ]
     },
     "metadata": {},
     "output_type": "display_data"
    },
    {
     "data": {
      "application/vnd.jupyter.widget-view+json": {
       "model_id": "2f3b4a0140144123ba0e370d24429e8c",
       "version_major": 2,
       "version_minor": 0
      },
      "text/plain": [
       "chain 3 |          | 00:00 Status"
      ]
     },
     "metadata": {},
     "output_type": "display_data"
    },
    {
     "data": {
      "application/vnd.jupyter.widget-view+json": {
       "model_id": "48f28c79252d433b9dc8b86709417955",
       "version_major": 2,
       "version_minor": 0
      },
      "text/plain": [
       "chain 4 |          | 00:00 Status"
      ]
     },
     "metadata": {},
     "output_type": "display_data"
    },
    {
     "name": "stdout",
     "output_type": "stream",
     "text": [
      "                                                                                                                                                                                                                                                                                                                                "
     ]
    },
    {
     "name": "stderr",
     "output_type": "stream",
     "text": [
      "19:58:10 - cmdstanpy - INFO - CmdStan done processing.\n",
      "19:58:10 - cmdstanpy - WARNING - Non-fatal error during sampling:\n",
      "Exception: Exception: normal_lpdf: Random variable is nan, but must be not nan! (in 'real_data.stan', line 81, column 2 to column 53) (in 'real_data.stan', line 175, column 2 to line 180, column 4)\n",
      "\tException: Exception: normal_lpdf: Random variable is nan, but must be not nan! (in 'real_data.stan', line 81, column 2 to column 53) (in 'real_data.stan', line 175, column 2 to line 180, column 4)\n",
      "\tException: Exception: normal_lpdf: Random variable is nan, but must be not nan! (in 'real_data.stan', line 81, column 2 to column 53) (in 'real_data.stan', line 175, column 2 to line 180, column 4)\n",
      "Exception: Exception: normal_lpdf: Random variable is nan, but must be not nan! (in 'real_data.stan', line 81, column 2 to column 53) (in 'real_data.stan', line 175, column 2 to line 180, column 4)\n",
      "\tException: Exception: normal_lpdf: Random variable is nan, but must be not nan! (in 'real_data.stan', line 81, column 2 to column 53) (in 'real_data.stan', line 175, column 2 to line 180, column 4)\n",
      "Exception: Exception: normal_lpdf: Random variable is nan, but must be not nan! (in 'real_data.stan', line 81, column 2 to column 53) (in 'real_data.stan', line 175, column 2 to line 180, column 4)\n",
      "\tException: Exception: normal_lpdf: Random variable is nan, but must be not nan! (in 'real_data.stan', line 81, column 2 to column 53) (in 'real_data.stan', line 175, column 2 to line 180, column 4)\n",
      "\tException: Exception: normal_lpdf: Random variable is nan, but must be not nan! (in 'real_data.stan', line 81, column 2 to column 53) (in 'real_data.stan', line 175, column 2 to line 180, column 4)\n",
      "Exception: Exception: normal_lpdf: Random variable is nan, but must be not nan! (in 'real_data.stan', line 81, column 2 to column 53) (in 'real_data.stan', line 175, column 2 to line 180, column 4)\n",
      "\tException: Exception: normal_lpdf: Random variable is nan, but must be not nan! (in 'real_data.stan', line 81, column 2 to column 53) (in 'real_data.stan', line 175, column 2 to line 180, column 4)\n",
      "\tException: Exception: normal_lpdf: Random variable is nan, but must be not nan! (in 'real_data.stan', line 81, column 2 to column 53) (in 'real_data.stan', line 175, column 2 to line 180, column 4)\n",
      "Consider re-running with show_console=True if the above output is unclear!\n"
     ]
    },
    {
     "name": "stdout",
     "output_type": "stream",
     "text": [
      "\n"
     ]
    },
    {
     "name": "stderr",
     "output_type": "stream",
     "text": [
      "19:58:10 - cmdstanpy - WARNING - Some chains may have failed to converge.\n",
      "\tChain 2 had 2 divergent transitions (0.1%)\n",
      "\tChain 4 had 1 divergent transitions (0.1%)\n",
      "\tUse the \"diagnose()\" method on the CmdStanMCMC object to see further information.\n",
      "19:58:14 - cmdstanpy - INFO - CmdStan start processing\n"
     ]
    },
    {
     "name": "stdout",
     "output_type": "stream",
     "text": [
      "contest_3641 end\n",
      "contest_7878 begin\n"
     ]
    },
    {
     "data": {
      "application/vnd.jupyter.widget-view+json": {
       "model_id": "7288ea5aa12944e4a41b1a0070e92ef0",
       "version_major": 2,
       "version_minor": 0
      },
      "text/plain": [
       "chain 1 |          | 00:00 Status"
      ]
     },
     "metadata": {},
     "output_type": "display_data"
    },
    {
     "data": {
      "application/vnd.jupyter.widget-view+json": {
       "model_id": "9351d98e6eef4b379eba7ad959f68f33",
       "version_major": 2,
       "version_minor": 0
      },
      "text/plain": [
       "chain 2 |          | 00:00 Status"
      ]
     },
     "metadata": {},
     "output_type": "display_data"
    },
    {
     "data": {
      "application/vnd.jupyter.widget-view+json": {
       "model_id": "996a3011f61245d98a4d40f12a8f4ec2",
       "version_major": 2,
       "version_minor": 0
      },
      "text/plain": [
       "chain 3 |          | 00:00 Status"
      ]
     },
     "metadata": {},
     "output_type": "display_data"
    },
    {
     "data": {
      "application/vnd.jupyter.widget-view+json": {
       "model_id": "f6b82c39ad984b48a570d2dca22649d2",
       "version_major": 2,
       "version_minor": 0
      },
      "text/plain": [
       "chain 4 |          | 00:00 Status"
      ]
     },
     "metadata": {},
     "output_type": "display_data"
    },
    {
     "name": "stdout",
     "output_type": "stream",
     "text": [
      "                                                                                                                                                                                                                                                                                                                                "
     ]
    },
    {
     "name": "stderr",
     "output_type": "stream",
     "text": [
      "19:59:26 - cmdstanpy - INFO - CmdStan done processing.\n",
      "19:59:26 - cmdstanpy - WARNING - Non-fatal error during sampling:\n",
      "Exception: Exception: normal_lpdf: Random variable is nan, but must be not nan! (in 'real_data.stan', line 81, column 2 to column 53) (in 'real_data.stan', line 175, column 2 to line 180, column 4)\n",
      "\tException: Exception: normal_lpdf: Random variable is nan, but must be not nan! (in 'real_data.stan', line 81, column 2 to column 53) (in 'real_data.stan', line 175, column 2 to line 180, column 4)\n",
      "\tException: Exception: normal_lpdf: Random variable is nan, but must be not nan! (in 'real_data.stan', line 81, column 2 to column 53) (in 'real_data.stan', line 175, column 2 to line 180, column 4)\n",
      "Exception: Exception: normal_lpdf: Random variable is nan, but must be not nan! (in 'real_data.stan', line 81, column 2 to column 53) (in 'real_data.stan', line 175, column 2 to line 180, column 4)\n",
      "\tException: Exception: normal_lpdf: Random variable is nan, but must be not nan! (in 'real_data.stan', line 81, column 2 to column 53) (in 'real_data.stan', line 175, column 2 to line 180, column 4)\n",
      "Exception: Exception: normal_lpdf: Random variable is nan, but must be not nan! (in 'real_data.stan', line 81, column 2 to column 53) (in 'real_data.stan', line 175, column 2 to line 180, column 4)\n",
      "\tException: Exception: normal_lpdf: Random variable is nan, but must be not nan! (in 'real_data.stan', line 81, column 2 to column 53) (in 'real_data.stan', line 175, column 2 to line 180, column 4)\n",
      "\tException: Exception: normal_lpdf: Random variable is nan, but must be not nan! (in 'real_data.stan', line 81, column 2 to column 53) (in 'real_data.stan', line 175, column 2 to line 180, column 4)\n",
      "\tException: Exception: normal_lpdf: Random variable is nan, but must be not nan! (in 'real_data.stan', line 81, column 2 to column 53) (in 'real_data.stan', line 175, column 2 to line 180, column 4)\n",
      "Exception: Exception: normal_lpdf: Random variable is nan, but must be not nan! (in 'real_data.stan', line 81, column 2 to column 53) (in 'real_data.stan', line 175, column 2 to line 180, column 4)\n",
      "\tException: Exception: normal_lpdf: Random variable is nan, but must be not nan! (in 'real_data.stan', line 81, column 2 to column 53) (in 'real_data.stan', line 175, column 2 to line 180, column 4)\n",
      "\tException: Exception: normal_lpdf: Random variable is nan, but must be not nan! (in 'real_data.stan', line 81, column 2 to column 53) (in 'real_data.stan', line 175, column 2 to line 180, column 4)\n",
      "\tException: Exception: normal_lpdf: Random variable is nan, but must be not nan! (in 'real_data.stan', line 81, column 2 to column 53) (in 'real_data.stan', line 175, column 2 to line 180, column 4)\n",
      "Consider re-running with show_console=True if the above output is unclear!\n"
     ]
    },
    {
     "name": "stdout",
     "output_type": "stream",
     "text": [
      "\n"
     ]
    },
    {
     "name": "stderr",
     "output_type": "stream",
     "text": [
      "19:59:28 - cmdstanpy - WARNING - Some chains may have failed to converge.\n",
      "\tChain 1 had 4 divergent transitions (0.2%)\n",
      "\tChain 2 had 1 divergent transitions (0.1%)\n",
      "\tChain 3 had 5 divergent transitions (0.2%)\n",
      "\tChain 4 had 4 divergent transitions (0.2%)\n",
      "\tUse the \"diagnose()\" method on the CmdStanMCMC object to see further information.\n",
      "19:59:34 - cmdstanpy - INFO - CmdStan start processing\n"
     ]
    },
    {
     "name": "stdout",
     "output_type": "stream",
     "text": [
      "contest_7878 end\n",
      "contest_7634 begin\n"
     ]
    },
    {
     "data": {
      "application/vnd.jupyter.widget-view+json": {
       "model_id": "b25a3804a70b4f79990c06bc8d5d10a8",
       "version_major": 2,
       "version_minor": 0
      },
      "text/plain": [
       "chain 1 |          | 00:00 Status"
      ]
     },
     "metadata": {},
     "output_type": "display_data"
    },
    {
     "data": {
      "application/vnd.jupyter.widget-view+json": {
       "model_id": "0ff6d65914734623b2332592790d3d92",
       "version_major": 2,
       "version_minor": 0
      },
      "text/plain": [
       "chain 2 |          | 00:00 Status"
      ]
     },
     "metadata": {},
     "output_type": "display_data"
    },
    {
     "data": {
      "application/vnd.jupyter.widget-view+json": {
       "model_id": "cb0e119056cd42dab683848c5b10dc18",
       "version_major": 2,
       "version_minor": 0
      },
      "text/plain": [
       "chain 3 |          | 00:00 Status"
      ]
     },
     "metadata": {},
     "output_type": "display_data"
    },
    {
     "data": {
      "application/vnd.jupyter.widget-view+json": {
       "model_id": "09a5665370914c89b3af30fdf8547e01",
       "version_major": 2,
       "version_minor": 0
      },
      "text/plain": [
       "chain 4 |          | 00:00 Status"
      ]
     },
     "metadata": {},
     "output_type": "display_data"
    },
    {
     "name": "stdout",
     "output_type": "stream",
     "text": [
      "                                                                                                                                                                                                                                                                                                                                "
     ]
    },
    {
     "name": "stderr",
     "output_type": "stream",
     "text": [
      "20:01:27 - cmdstanpy - INFO - CmdStan done processing.\n",
      "20:01:27 - cmdstanpy - WARNING - Non-fatal error during sampling:\n",
      "Exception: Exception: normal_lpdf: Random variable is nan, but must be not nan! (in 'real_data.stan', line 81, column 2 to column 53) (in 'real_data.stan', line 175, column 2 to line 180, column 4)\n",
      "\tException: Exception: normal_lpdf: Random variable is nan, but must be not nan! (in 'real_data.stan', line 81, column 2 to column 53) (in 'real_data.stan', line 175, column 2 to line 180, column 4)\n",
      "\tException: Exception: normal_lpdf: Random variable is nan, but must be not nan! (in 'real_data.stan', line 81, column 2 to column 53) (in 'real_data.stan', line 175, column 2 to line 180, column 4)\n",
      "\tException: Exception: normal_lpdf: Random variable is nan, but must be not nan! (in 'real_data.stan', line 81, column 2 to column 53) (in 'real_data.stan', line 175, column 2 to line 180, column 4)\n",
      "Exception: Exception: normal_lpdf: Random variable is nan, but must be not nan! (in 'real_data.stan', line 81, column 2 to column 53) (in 'real_data.stan', line 175, column 2 to line 180, column 4)\n",
      "\tException: Exception: normal_lpdf: Random variable is nan, but must be not nan! (in 'real_data.stan', line 81, column 2 to column 53) (in 'real_data.stan', line 175, column 2 to line 180, column 4)\n",
      "Exception: Exception: normal_lpdf: Random variable is nan, but must be not nan! (in 'real_data.stan', line 81, column 2 to column 53) (in 'real_data.stan', line 175, column 2 to line 180, column 4)\n",
      "\tException: Exception: normal_lpdf: Random variable is nan, but must be not nan! (in 'real_data.stan', line 81, column 2 to column 53) (in 'real_data.stan', line 175, column 2 to line 180, column 4)\n",
      "\tException: Exception: normal_lpdf: Random variable is nan, but must be not nan! (in 'real_data.stan', line 81, column 2 to column 53) (in 'real_data.stan', line 175, column 2 to line 180, column 4)\n",
      "\tException: Exception: normal_lpdf: Random variable is nan, but must be not nan! (in 'real_data.stan', line 81, column 2 to column 53) (in 'real_data.stan', line 175, column 2 to line 180, column 4)\n",
      "Exception: Exception: normal_lpdf: Random variable is nan, but must be not nan! (in 'real_data.stan', line 81, column 2 to column 53) (in 'real_data.stan', line 175, column 2 to line 180, column 4)\n",
      "\tException: Exception: normal_lpdf: Random variable is nan, but must be not nan! (in 'real_data.stan', line 81, column 2 to column 53) (in 'real_data.stan', line 175, column 2 to line 180, column 4)\n",
      "\tException: Exception: normal_lpdf: Random variable is nan, but must be not nan! (in 'real_data.stan', line 81, column 2 to column 53) (in 'real_data.stan', line 175, column 2 to line 180, column 4)\n",
      "\tException: Exception: normal_lpdf: Random variable is nan, but must be not nan! (in 'real_data.stan', line 81, column 2 to column 53) (in 'real_data.stan', line 175, column 2 to line 180, column 4)\n",
      "Consider re-running with show_console=True if the above output is unclear!\n"
     ]
    },
    {
     "name": "stdout",
     "output_type": "stream",
     "text": [
      "\n"
     ]
    },
    {
     "name": "stderr",
     "output_type": "stream",
     "text": [
      "20:01:29 - cmdstanpy - WARNING - Some chains may have failed to converge.\n",
      "\tChain 1 had 21 divergent transitions (1.1%)\n",
      "\tChain 2 had 26 divergent transitions (1.3%)\n",
      "\tChain 3 had 23 divergent transitions (1.1%)\n",
      "\tChain 4 had 20 divergent transitions (1.0%)\n",
      "\tUse the \"diagnose()\" method on the CmdStanMCMC object to see further information.\n",
      "20:01:38 - cmdstanpy - INFO - CmdStan start processing\n"
     ]
    },
    {
     "name": "stdout",
     "output_type": "stream",
     "text": [
      "contest_7634 end\n",
      "contest_4366 begin\n"
     ]
    },
    {
     "data": {
      "application/vnd.jupyter.widget-view+json": {
       "model_id": "9f3409027fd14a1fa69c70f4546d2725",
       "version_major": 2,
       "version_minor": 0
      },
      "text/plain": [
       "chain 1 |          | 00:00 Status"
      ]
     },
     "metadata": {},
     "output_type": "display_data"
    },
    {
     "data": {
      "application/vnd.jupyter.widget-view+json": {
       "model_id": "0a3104c849164d4d84ec00e61d1e17e4",
       "version_major": 2,
       "version_minor": 0
      },
      "text/plain": [
       "chain 2 |          | 00:00 Status"
      ]
     },
     "metadata": {},
     "output_type": "display_data"
    },
    {
     "data": {
      "application/vnd.jupyter.widget-view+json": {
       "model_id": "2b4d02267f9d4748a2b8dbc4d10c348f",
       "version_major": 2,
       "version_minor": 0
      },
      "text/plain": [
       "chain 3 |          | 00:00 Status"
      ]
     },
     "metadata": {},
     "output_type": "display_data"
    },
    {
     "data": {
      "application/vnd.jupyter.widget-view+json": {
       "model_id": "2194daf947f547f5bc3c29898222ba45",
       "version_major": 2,
       "version_minor": 0
      },
      "text/plain": [
       "chain 4 |          | 00:00 Status"
      ]
     },
     "metadata": {},
     "output_type": "display_data"
    },
    {
     "name": "stdout",
     "output_type": "stream",
     "text": [
      "                                                                                                                                                                                                                                                                                                                                "
     ]
    },
    {
     "name": "stderr",
     "output_type": "stream",
     "text": [
      "20:02:34 - cmdstanpy - INFO - CmdStan done processing.\n",
      "20:02:34 - cmdstanpy - WARNING - Non-fatal error during sampling:\n",
      "Exception: Exception: normal_lpdf: Random variable is nan, but must be not nan! (in 'real_data.stan', line 81, column 2 to column 53) (in 'real_data.stan', line 175, column 2 to line 180, column 4)\n",
      "\tException: Exception: normal_lpdf: Random variable is nan, but must be not nan! (in 'real_data.stan', line 81, column 2 to column 53) (in 'real_data.stan', line 175, column 2 to line 180, column 4)\n",
      "\tException: Exception: normal_lpdf: Random variable is nan, but must be not nan! (in 'real_data.stan', line 81, column 2 to column 53) (in 'real_data.stan', line 175, column 2 to line 180, column 4)\n",
      "\tException: Exception: normal_lpdf: Random variable is nan, but must be not nan! (in 'real_data.stan', line 81, column 2 to column 53) (in 'real_data.stan', line 175, column 2 to line 180, column 4)\n",
      "\tException: Exception: normal_lpdf: Random variable is nan, but must be not nan! (in 'real_data.stan', line 81, column 2 to column 53) (in 'real_data.stan', line 175, column 2 to line 180, column 4)\n",
      "Exception: Exception: normal_lpdf: Random variable is nan, but must be not nan! (in 'real_data.stan', line 81, column 2 to column 53) (in 'real_data.stan', line 175, column 2 to line 180, column 4)\n",
      "\tException: Exception: normal_lpdf: Random variable is nan, but must be not nan! (in 'real_data.stan', line 81, column 2 to column 53) (in 'real_data.stan', line 175, column 2 to line 180, column 4)\n",
      "Exception: Exception: normal_lpdf: Random variable is nan, but must be not nan! (in 'real_data.stan', line 81, column 2 to column 53) (in 'real_data.stan', line 175, column 2 to line 180, column 4)\n",
      "\tException: Exception: normal_lpdf: Random variable is nan, but must be not nan! (in 'real_data.stan', line 81, column 2 to column 53) (in 'real_data.stan', line 175, column 2 to line 180, column 4)\n",
      "\tException: Exception: normal_lpdf: Random variable is nan, but must be not nan! (in 'real_data.stan', line 81, column 2 to column 53) (in 'real_data.stan', line 175, column 2 to line 180, column 4)\n",
      "\tException: Exception: normal_lpdf: Random variable is nan, but must be not nan! (in 'real_data.stan', line 81, column 2 to column 53) (in 'real_data.stan', line 175, column 2 to line 180, column 4)\n",
      "\tException: Exception: normal_lpdf: Random variable is nan, but must be not nan! (in 'real_data.stan', line 81, column 2 to column 53) (in 'real_data.stan', line 175, column 2 to line 180, column 4)\n",
      "Exception: Exception: normal_lpdf: Random variable is nan, but must be not nan! (in 'real_data.stan', line 81, column 2 to column 53) (in 'real_data.stan', line 175, column 2 to line 180, column 4)\n",
      "\tException: Exception: normal_lpdf: Random variable is nan, but must be not nan! (in 'real_data.stan', line 81, column 2 to column 53) (in 'real_data.stan', line 175, column 2 to line 180, column 4)\n",
      "\tException: Exception: normal_lpdf: Random variable is nan, but must be not nan! (in 'real_data.stan', line 81, column 2 to column 53) (in 'real_data.stan', line 175, column 2 to line 180, column 4)\n",
      "\tException: Exception: normal_lpdf: Random variable is nan, but must be not nan! (in 'real_data.stan', line 81, column 2 to column 53) (in 'real_data.stan', line 175, column 2 to line 180, column 4)\n",
      "\tException: Exception: normal_lpdf: Random variable is nan, but must be not nan! (in 'real_data.stan', line 81, column 2 to column 53) (in 'real_data.stan', line 175, column 2 to line 180, column 4)\n",
      "Consider re-running with show_console=True if the above output is unclear!\n"
     ]
    },
    {
     "name": "stdout",
     "output_type": "stream",
     "text": [
      "\n"
     ]
    },
    {
     "name": "stderr",
     "output_type": "stream",
     "text": [
      "20:02:43 - cmdstanpy - INFO - CmdStan start processing\n"
     ]
    },
    {
     "name": "stdout",
     "output_type": "stream",
     "text": [
      "contest_4366 end\n",
      "contest_3509 begin\n"
     ]
    },
    {
     "data": {
      "application/vnd.jupyter.widget-view+json": {
       "model_id": "af6a3388ae4348d8872f830ea9217a9b",
       "version_major": 2,
       "version_minor": 0
      },
      "text/plain": [
       "chain 1 |          | 00:00 Status"
      ]
     },
     "metadata": {},
     "output_type": "display_data"
    },
    {
     "data": {
      "application/vnd.jupyter.widget-view+json": {
       "model_id": "ec7b596c4c894b098d43d311ab3f147b",
       "version_major": 2,
       "version_minor": 0
      },
      "text/plain": [
       "chain 2 |          | 00:00 Status"
      ]
     },
     "metadata": {},
     "output_type": "display_data"
    },
    {
     "data": {
      "application/vnd.jupyter.widget-view+json": {
       "model_id": "c4d5792a8a014f2498ecb41c6a1654b2",
       "version_major": 2,
       "version_minor": 0
      },
      "text/plain": [
       "chain 3 |          | 00:00 Status"
      ]
     },
     "metadata": {},
     "output_type": "display_data"
    },
    {
     "data": {
      "application/vnd.jupyter.widget-view+json": {
       "model_id": "d9b0de1a1ce04e98b21276af6fb9185e",
       "version_major": 2,
       "version_minor": 0
      },
      "text/plain": [
       "chain 4 |          | 00:00 Status"
      ]
     },
     "metadata": {},
     "output_type": "display_data"
    },
    {
     "name": "stdout",
     "output_type": "stream",
     "text": [
      "                                                                                                                                                                                                                                                                                                                                "
     ]
    },
    {
     "name": "stderr",
     "output_type": "stream",
     "text": [
      "20:02:58 - cmdstanpy - INFO - CmdStan done processing.\n",
      "20:02:58 - cmdstanpy - WARNING - Non-fatal error during sampling:\n",
      "Exception: Exception: normal_lpdf: Random variable is nan, but must be not nan! (in 'real_data.stan', line 81, column 2 to column 53) (in 'real_data.stan', line 175, column 2 to line 180, column 4)\n",
      "\tException: Exception: normal_lpdf: Random variable is nan, but must be not nan! (in 'real_data.stan', line 81, column 2 to column 53) (in 'real_data.stan', line 175, column 2 to line 180, column 4)\n",
      "\tException: Exception: normal_lpdf: Random variable is nan, but must be not nan! (in 'real_data.stan', line 81, column 2 to column 53) (in 'real_data.stan', line 175, column 2 to line 180, column 4)\n",
      "Exception: Exception: normal_lpdf: Random variable is nan, but must be not nan! (in 'real_data.stan', line 81, column 2 to column 53) (in 'real_data.stan', line 175, column 2 to line 180, column 4)\n",
      "\tException: Exception: normal_lpdf: Random variable is nan, but must be not nan! (in 'real_data.stan', line 81, column 2 to column 53) (in 'real_data.stan', line 175, column 2 to line 180, column 4)\n",
      "Exception: Exception: normal_lpdf: Random variable is nan, but must be not nan! (in 'real_data.stan', line 81, column 2 to column 53) (in 'real_data.stan', line 175, column 2 to line 180, column 4)\n",
      "\tException: Exception: normal_lpdf: Random variable is nan, but must be not nan! (in 'real_data.stan', line 81, column 2 to column 53) (in 'real_data.stan', line 175, column 2 to line 180, column 4)\n",
      "\tException: Exception: normal_lpdf: Random variable is nan, but must be not nan! (in 'real_data.stan', line 81, column 2 to column 53) (in 'real_data.stan', line 175, column 2 to line 180, column 4)\n",
      "Consider re-running with show_console=True if the above output is unclear!\n"
     ]
    },
    {
     "name": "stdout",
     "output_type": "stream",
     "text": [
      "\n"
     ]
    },
    {
     "name": "stderr",
     "output_type": "stream",
     "text": [
      "20:03:02 - cmdstanpy - INFO - CmdStan start processing\n"
     ]
    },
    {
     "name": "stdout",
     "output_type": "stream",
     "text": [
      "contest_3509 end\n",
      "contest_2549 begin\n"
     ]
    },
    {
     "data": {
      "application/vnd.jupyter.widget-view+json": {
       "model_id": "c22c157950414644b77627fa4c3d0445",
       "version_major": 2,
       "version_minor": 0
      },
      "text/plain": [
       "chain 1 |          | 00:00 Status"
      ]
     },
     "metadata": {},
     "output_type": "display_data"
    },
    {
     "data": {
      "application/vnd.jupyter.widget-view+json": {
       "model_id": "c9273cca602644f29cbc44b0e61ed964",
       "version_major": 2,
       "version_minor": 0
      },
      "text/plain": [
       "chain 2 |          | 00:00 Status"
      ]
     },
     "metadata": {},
     "output_type": "display_data"
    },
    {
     "data": {
      "application/vnd.jupyter.widget-view+json": {
       "model_id": "8c1a88179a7747eab6e7edacf626fe47",
       "version_major": 2,
       "version_minor": 0
      },
      "text/plain": [
       "chain 3 |          | 00:00 Status"
      ]
     },
     "metadata": {},
     "output_type": "display_data"
    },
    {
     "data": {
      "application/vnd.jupyter.widget-view+json": {
       "model_id": "87b5088c31da46c09b4a447ae01534ab",
       "version_major": 2,
       "version_minor": 0
      },
      "text/plain": [
       "chain 4 |          | 00:00 Status"
      ]
     },
     "metadata": {},
     "output_type": "display_data"
    },
    {
     "name": "stdout",
     "output_type": "stream",
     "text": [
      "                                                                                                                                                                                                                                                                                                                                "
     ]
    },
    {
     "name": "stderr",
     "output_type": "stream",
     "text": [
      "20:03:16 - cmdstanpy - INFO - CmdStan done processing.\n",
      "20:03:16 - cmdstanpy - WARNING - Non-fatal error during sampling:\n",
      "Exception: Exception: normal_lpdf: Random variable is nan, but must be not nan! (in 'real_data.stan', line 81, column 2 to column 53) (in 'real_data.stan', line 175, column 2 to line 180, column 4)\n",
      "\tException: Exception: normal_lpdf: Random variable is nan, but must be not nan! (in 'real_data.stan', line 81, column 2 to column 53) (in 'real_data.stan', line 175, column 2 to line 180, column 4)\n",
      "\tException: Exception: normal_lpdf: Random variable is nan, but must be not nan! (in 'real_data.stan', line 81, column 2 to column 53) (in 'real_data.stan', line 175, column 2 to line 180, column 4)\n",
      "Exception: Exception: normal_lpdf: Random variable is nan, but must be not nan! (in 'real_data.stan', line 81, column 2 to column 53) (in 'real_data.stan', line 175, column 2 to line 180, column 4)\n",
      "Exception: Exception: normal_lpdf: Random variable is nan, but must be not nan! (in 'real_data.stan', line 81, column 2 to column 53) (in 'real_data.stan', line 175, column 2 to line 180, column 4)\n",
      "\tException: Exception: normal_lpdf: Random variable is nan, but must be not nan! (in 'real_data.stan', line 81, column 2 to column 53) (in 'real_data.stan', line 175, column 2 to line 180, column 4)\n",
      "Exception: Exception: normal_lpdf: Random variable is nan, but must be not nan! (in 'real_data.stan', line 81, column 2 to column 53) (in 'real_data.stan', line 175, column 2 to line 180, column 4)\n",
      "\tException: Exception: normal_lpdf: Random variable is nan, but must be not nan! (in 'real_data.stan', line 81, column 2 to column 53) (in 'real_data.stan', line 175, column 2 to line 180, column 4)\n",
      "Consider re-running with show_console=True if the above output is unclear!\n"
     ]
    },
    {
     "name": "stdout",
     "output_type": "stream",
     "text": [
      "\n"
     ]
    },
    {
     "name": "stderr",
     "output_type": "stream",
     "text": [
      "20:03:19 - cmdstanpy - INFO - CmdStan start processing\n"
     ]
    },
    {
     "name": "stdout",
     "output_type": "stream",
     "text": [
      "contest_2549 end\n",
      "contest_38128 begin\n"
     ]
    },
    {
     "data": {
      "application/vnd.jupyter.widget-view+json": {
       "model_id": "1ce28e11de3d41cbaef604d43e09e9ca",
       "version_major": 2,
       "version_minor": 0
      },
      "text/plain": [
       "chain 1 |          | 00:00 Status"
      ]
     },
     "metadata": {},
     "output_type": "display_data"
    },
    {
     "data": {
      "application/vnd.jupyter.widget-view+json": {
       "model_id": "b6e34f6b32354efeadb636e58a8b8031",
       "version_major": 2,
       "version_minor": 0
      },
      "text/plain": [
       "chain 2 |          | 00:00 Status"
      ]
     },
     "metadata": {},
     "output_type": "display_data"
    },
    {
     "data": {
      "application/vnd.jupyter.widget-view+json": {
       "model_id": "55331f893b7c456abe0b41a716d2b410",
       "version_major": 2,
       "version_minor": 0
      },
      "text/plain": [
       "chain 3 |          | 00:00 Status"
      ]
     },
     "metadata": {},
     "output_type": "display_data"
    },
    {
     "data": {
      "application/vnd.jupyter.widget-view+json": {
       "model_id": "d59f1405570e4850ad2cf0fa85285f1a",
       "version_major": 2,
       "version_minor": 0
      },
      "text/plain": [
       "chain 4 |          | 00:00 Status"
      ]
     },
     "metadata": {},
     "output_type": "display_data"
    },
    {
     "name": "stdout",
     "output_type": "stream",
     "text": [
      "                                                                                                                                                                                                                                                                                                                                "
     ]
    },
    {
     "name": "stderr",
     "output_type": "stream",
     "text": [
      "21:46:34 - cmdstanpy - INFO - CmdStan done processing.\n",
      "21:46:34 - cmdstanpy - WARNING - Non-fatal error during sampling:\n",
      "Exception: Exception: normal_lpdf: Random variable is nan, but must be not nan! (in 'real_data.stan', line 81, column 2 to column 53) (in 'real_data.stan', line 175, column 2 to line 180, column 4)\n",
      "\tException: Exception: normal_lpdf: Random variable is nan, but must be not nan! (in 'real_data.stan', line 81, column 2 to column 53) (in 'real_data.stan', line 175, column 2 to line 180, column 4)\n",
      "\tException: Exception: normal_lpdf: Random variable is nan, but must be not nan! (in 'real_data.stan', line 81, column 2 to column 53) (in 'real_data.stan', line 175, column 2 to line 180, column 4)\n",
      "\tException: Exception: normal_lpdf: Random variable is nan, but must be not nan! (in 'real_data.stan', line 81, column 2 to column 53) (in 'real_data.stan', line 175, column 2 to line 180, column 4)\n",
      "\tException: Exception: normal_lpdf: Random variable is nan, but must be not nan! (in 'real_data.stan', line 81, column 2 to column 53) (in 'real_data.stan', line 175, column 2 to line 180, column 4)\n",
      "\tException: Exception: normal_lpdf: Random variable is nan, but must be not nan! (in 'real_data.stan', line 81, column 2 to column 53) (in 'real_data.stan', line 175, column 2 to line 180, column 4)\n",
      "Exception: Exception: normal_lpdf: Random variable is nan, but must be not nan! (in 'real_data.stan', line 81, column 2 to column 53) (in 'real_data.stan', line 175, column 2 to line 180, column 4)\n",
      "\tException: Exception: normal_lpdf: Random variable is nan, but must be not nan! (in 'real_data.stan', line 81, column 2 to column 53) (in 'real_data.stan', line 175, column 2 to line 180, column 4)\n",
      "\tException: Exception: normal_lpdf: Random variable is nan, but must be not nan! (in 'real_data.stan', line 81, column 2 to column 53) (in 'real_data.stan', line 175, column 2 to line 180, column 4)\n",
      "\tException: Exception: normal_lpdf: Random variable is nan, but must be not nan! (in 'real_data.stan', line 81, column 2 to column 53) (in 'real_data.stan', line 175, column 2 to line 180, column 4)\n",
      "Exception: Exception: normal_lpdf: Random variable is nan, but must be not nan! (in 'real_data.stan', line 81, column 2 to column 53) (in 'real_data.stan', line 175, column 2 to line 180, column 4)\n",
      "\tException: Exception: normal_lpdf: Random variable is nan, but must be not nan! (in 'real_data.stan', line 81, column 2 to column 53) (in 'real_data.stan', line 175, column 2 to line 180, column 4)\n",
      "\tException: Exception: normal_lpdf: Random variable is nan, but must be not nan! (in 'real_data.stan', line 81, column 2 to column 53) (in 'real_data.stan', line 175, column 2 to line 180, column 4)\n",
      "\tException: Exception: normal_lpdf: Random variable is nan, but must be not nan! (in 'real_data.stan', line 81, column 2 to column 53) (in 'real_data.stan', line 175, column 2 to line 180, column 4)\n",
      "\tException: Exception: normal_lpdf: Random variable is nan, but must be not nan! (in 'real_data.stan', line 81, column 2 to column 53) (in 'real_data.stan', line 175, column 2 to line 180, column 4)\n",
      "\tException: Exception: normal_lpdf: Random variable is nan, but must be not nan! (in 'real_data.stan', line 81, column 2 to column 53) (in 'real_data.stan', line 175, column 2 to line 180, column 4)\n",
      "Exception: Exception: normal_lpdf: Random variable is nan, but must be not nan! (in 'real_data.stan', line 81, column 2 to column 53) (in 'real_data.stan', line 175, column 2 to line 180, column 4)\n",
      "\tException: Exception: normal_lpdf: Random variable is nan, but must be not nan! (in 'real_data.stan', line 81, column 2 to column 53) (in 'real_data.stan', line 175, column 2 to line 180, column 4)\n",
      "\tException: Exception: normal_lpdf: Random variable is nan, but must be not nan! (in 'real_data.stan', line 81, column 2 to column 53) (in 'real_data.stan', line 175, column 2 to line 180, column 4)\n",
      "\tException: Exception: normal_lpdf: Random variable is nan, but must be not nan! (in 'real_data.stan', line 81, column 2 to column 53) (in 'real_data.stan', line 175, column 2 to line 180, column 4)\n",
      "\tException: Exception: normal_lpdf: Random variable is nan, but must be not nan! (in 'real_data.stan', line 81, column 2 to column 53) (in 'real_data.stan', line 175, column 2 to line 180, column 4)\n",
      "\tException: Exception: normal_lpdf: Random variable is nan, but must be not nan! (in 'real_data.stan', line 81, column 2 to column 53) (in 'real_data.stan', line 175, column 2 to line 180, column 4)\n",
      "Consider re-running with show_console=True if the above output is unclear!\n"
     ]
    },
    {
     "name": "stdout",
     "output_type": "stream",
     "text": [
      "\n"
     ]
    },
    {
     "name": "stderr",
     "output_type": "stream",
     "text": [
      "21:46:38 - cmdstanpy - WARNING - Some chains may have failed to converge.\n",
      "\tChain 1 had 42 divergent transitions (2.1%)\n",
      "\tChain 1 had 1538 iterations at max treedepth (76.9%)\n",
      "\tChain 2 had 7 divergent transitions (0.4%)\n",
      "\tChain 2 had 1957 iterations at max treedepth (97.9%)\n",
      "\tChain 3 had 43 divergent transitions (2.1%)\n",
      "\tChain 3 had 1067 iterations at max treedepth (53.3%)\n",
      "\tChain 4 had 10 divergent transitions (0.5%)\n",
      "\tChain 4 had 1931 iterations at max treedepth (96.5%)\n",
      "\tUse the \"diagnose()\" method on the CmdStanMCMC object to see further information.\n",
      "21:46:57 - cmdstanpy - INFO - CmdStan start processing\n"
     ]
    },
    {
     "name": "stdout",
     "output_type": "stream",
     "text": [
      "contest_38128 end\n",
      "contest_2749 begin\n"
     ]
    },
    {
     "data": {
      "application/vnd.jupyter.widget-view+json": {
       "model_id": "d0e4d56bc7064fe79215a59bbe951ae2",
       "version_major": 2,
       "version_minor": 0
      },
      "text/plain": [
       "chain 1 |          | 00:00 Status"
      ]
     },
     "metadata": {},
     "output_type": "display_data"
    },
    {
     "data": {
      "application/vnd.jupyter.widget-view+json": {
       "model_id": "22256dd4cb54429fa6492722f7e9147c",
       "version_major": 2,
       "version_minor": 0
      },
      "text/plain": [
       "chain 2 |          | 00:00 Status"
      ]
     },
     "metadata": {},
     "output_type": "display_data"
    },
    {
     "data": {
      "application/vnd.jupyter.widget-view+json": {
       "model_id": "7b06d7d40717400585663aa67b487184",
       "version_major": 2,
       "version_minor": 0
      },
      "text/plain": [
       "chain 3 |          | 00:00 Status"
      ]
     },
     "metadata": {},
     "output_type": "display_data"
    },
    {
     "data": {
      "application/vnd.jupyter.widget-view+json": {
       "model_id": "a3b5ac25ff63449dab16e1be85776538",
       "version_major": 2,
       "version_minor": 0
      },
      "text/plain": [
       "chain 4 |          | 00:00 Status"
      ]
     },
     "metadata": {},
     "output_type": "display_data"
    },
    {
     "name": "stdout",
     "output_type": "stream",
     "text": [
      "                                                                                                                                                                                                                                                                                                                                "
     ]
    },
    {
     "name": "stderr",
     "output_type": "stream",
     "text": [
      "21:48:07 - cmdstanpy - INFO - CmdStan done processing.\n",
      "21:48:07 - cmdstanpy - WARNING - Non-fatal error during sampling:\n",
      "Exception: Exception: normal_lpdf: Random variable is nan, but must be not nan! (in 'real_data.stan', line 81, column 2 to column 53) (in 'real_data.stan', line 175, column 2 to line 180, column 4)\n",
      "\tException: Exception: normal_lpdf: Random variable is nan, but must be not nan! (in 'real_data.stan', line 81, column 2 to column 53) (in 'real_data.stan', line 175, column 2 to line 180, column 4)\n",
      "\tException: Exception: normal_lpdf: Random variable is nan, but must be not nan! (in 'real_data.stan', line 81, column 2 to column 53) (in 'real_data.stan', line 175, column 2 to line 180, column 4)\n",
      "\tException: Exception: normal_lpdf: Random variable is nan, but must be not nan! (in 'real_data.stan', line 81, column 2 to column 53) (in 'real_data.stan', line 175, column 2 to line 180, column 4)\n",
      "Exception: Exception: normal_lpdf: Random variable is nan, but must be not nan! (in 'real_data.stan', line 81, column 2 to column 53) (in 'real_data.stan', line 175, column 2 to line 180, column 4)\n",
      "\tException: Exception: normal_lpdf: Random variable is nan, but must be not nan! (in 'real_data.stan', line 81, column 2 to column 53) (in 'real_data.stan', line 175, column 2 to line 180, column 4)\n",
      "Exception: Exception: normal_lpdf: Random variable is nan, but must be not nan! (in 'real_data.stan', line 81, column 2 to column 53) (in 'real_data.stan', line 175, column 2 to line 180, column 4)\n",
      "\tException: Exception: normal_lpdf: Random variable is nan, but must be not nan! (in 'real_data.stan', line 81, column 2 to column 53) (in 'real_data.stan', line 175, column 2 to line 180, column 4)\n",
      "\tException: Exception: normal_lpdf: Random variable is nan, but must be not nan! (in 'real_data.stan', line 81, column 2 to column 53) (in 'real_data.stan', line 175, column 2 to line 180, column 4)\n",
      "\tException: Exception: normal_lpdf: Random variable is nan, but must be not nan! (in 'real_data.stan', line 81, column 2 to column 53) (in 'real_data.stan', line 175, column 2 to line 180, column 4)\n",
      "Exception: Exception: normal_lpdf: Random variable is nan, but must be not nan! (in 'real_data.stan', line 81, column 2 to column 53) (in 'real_data.stan', line 175, column 2 to line 180, column 4)\n",
      "\tException: Exception: normal_lpdf: Random variable is nan, but must be not nan! (in 'real_data.stan', line 81, column 2 to column 53) (in 'real_data.stan', line 175, column 2 to line 180, column 4)\n",
      "\tException: Exception: normal_lpdf: Random variable is nan, but must be not nan! (in 'real_data.stan', line 81, column 2 to column 53) (in 'real_data.stan', line 175, column 2 to line 180, column 4)\n",
      "\tException: Exception: normal_lpdf: Random variable is nan, but must be not nan! (in 'real_data.stan', line 81, column 2 to column 53) (in 'real_data.stan', line 175, column 2 to line 180, column 4)\n",
      "\tException: Exception: normal_lpdf: Random variable is nan, but must be not nan! (in 'real_data.stan', line 81, column 2 to column 53) (in 'real_data.stan', line 175, column 2 to line 180, column 4)\n",
      "Consider re-running with show_console=True if the above output is unclear!\n"
     ]
    },
    {
     "name": "stdout",
     "output_type": "stream",
     "text": [
      "\n"
     ]
    },
    {
     "name": "stderr",
     "output_type": "stream",
     "text": [
      "21:48:09 - cmdstanpy - WARNING - Some chains may have failed to converge.\n",
      "\tChain 1 had 10 divergent transitions (0.5%)\n",
      "\tChain 2 had 10 divergent transitions (0.5%)\n",
      "\tChain 3 had 12 divergent transitions (0.6%)\n",
      "\tChain 4 had 26 divergent transitions (1.3%)\n",
      "\tUse the \"diagnose()\" method on the CmdStanMCMC object to see further information.\n",
      "21:48:15 - cmdstanpy - INFO - CmdStan start processing\n"
     ]
    },
    {
     "name": "stdout",
     "output_type": "stream",
     "text": [
      "contest_2749 end\n",
      "contest_6927 begin\n"
     ]
    },
    {
     "data": {
      "application/vnd.jupyter.widget-view+json": {
       "model_id": "70df115bdaaf4068ad671a140c7fcbe3",
       "version_major": 2,
       "version_minor": 0
      },
      "text/plain": [
       "chain 1 |          | 00:00 Status"
      ]
     },
     "metadata": {},
     "output_type": "display_data"
    },
    {
     "data": {
      "application/vnd.jupyter.widget-view+json": {
       "model_id": "797caa9426c04ace8580de8dc28663e8",
       "version_major": 2,
       "version_minor": 0
      },
      "text/plain": [
       "chain 2 |          | 00:00 Status"
      ]
     },
     "metadata": {},
     "output_type": "display_data"
    },
    {
     "data": {
      "application/vnd.jupyter.widget-view+json": {
       "model_id": "6a1314ac758a46dcb743690bdeed747d",
       "version_major": 2,
       "version_minor": 0
      },
      "text/plain": [
       "chain 3 |          | 00:00 Status"
      ]
     },
     "metadata": {},
     "output_type": "display_data"
    },
    {
     "data": {
      "application/vnd.jupyter.widget-view+json": {
       "model_id": "289dec19cb6b4d27b7d88f26cc4bb450",
       "version_major": 2,
       "version_minor": 0
      },
      "text/plain": [
       "chain 4 |          | 00:00 Status"
      ]
     },
     "metadata": {},
     "output_type": "display_data"
    },
    {
     "name": "stdout",
     "output_type": "stream",
     "text": [
      "                                                                                                                                                                                                                                                                                                                                "
     ]
    },
    {
     "name": "stderr",
     "output_type": "stream",
     "text": [
      "21:50:19 - cmdstanpy - INFO - CmdStan done processing.\n",
      "21:50:19 - cmdstanpy - WARNING - Non-fatal error during sampling:\n",
      "Exception: Exception: normal_lpdf: Random variable is nan, but must be not nan! (in 'real_data.stan', line 81, column 2 to column 53) (in 'real_data.stan', line 175, column 2 to line 180, column 4)\n",
      "\tException: Exception: normal_lpdf: Random variable is nan, but must be not nan! (in 'real_data.stan', line 81, column 2 to column 53) (in 'real_data.stan', line 175, column 2 to line 180, column 4)\n",
      "Exception: Exception: normal_lpdf: Random variable is nan, but must be not nan! (in 'real_data.stan', line 81, column 2 to column 53) (in 'real_data.stan', line 175, column 2 to line 180, column 4)\n",
      "\tException: Exception: normal_lpdf: Random variable is nan, but must be not nan! (in 'real_data.stan', line 81, column 2 to column 53) (in 'real_data.stan', line 175, column 2 to line 180, column 4)\n",
      "Exception: Exception: normal_lpdf: Random variable is nan, but must be not nan! (in 'real_data.stan', line 81, column 2 to column 53) (in 'real_data.stan', line 175, column 2 to line 180, column 4)\n",
      "\tException: Exception: normal_lpdf: Random variable is nan, but must be not nan! (in 'real_data.stan', line 81, column 2 to column 53) (in 'real_data.stan', line 175, column 2 to line 180, column 4)\n",
      "\tException: Exception: normal_lpdf: Random variable is nan, but must be not nan! (in 'real_data.stan', line 81, column 2 to column 53) (in 'real_data.stan', line 175, column 2 to line 180, column 4)\n",
      "\tException: Exception: normal_lpdf: Random variable is nan, but must be not nan! (in 'real_data.stan', line 81, column 2 to column 53) (in 'real_data.stan', line 175, column 2 to line 180, column 4)\n",
      "Exception: Exception: normal_lpdf: Random variable is nan, but must be not nan! (in 'real_data.stan', line 81, column 2 to column 53) (in 'real_data.stan', line 175, column 2 to line 180, column 4)\n",
      "\tException: Exception: normal_lpdf: Random variable is nan, but must be not nan! (in 'real_data.stan', line 81, column 2 to column 53) (in 'real_data.stan', line 175, column 2 to line 180, column 4)\n",
      "\tException: Exception: normal_lpdf: Random variable is nan, but must be not nan! (in 'real_data.stan', line 81, column 2 to column 53) (in 'real_data.stan', line 175, column 2 to line 180, column 4)\n",
      "Consider re-running with show_console=True if the above output is unclear!\n"
     ]
    },
    {
     "name": "stdout",
     "output_type": "stream",
     "text": [
      "\n"
     ]
    },
    {
     "name": "stderr",
     "output_type": "stream",
     "text": [
      "21:50:20 - cmdstanpy - WARNING - Some chains may have failed to converge.\n",
      "\tChain 1 had 23 divergent transitions (1.1%)\n",
      "\tChain 2 had 21 divergent transitions (1.1%)\n",
      "\tChain 3 had 11 divergent transitions (0.5%)\n",
      "\tChain 4 had 19 divergent transitions (0.9%)\n",
      "\tUse the \"diagnose()\" method on the CmdStanMCMC object to see further information.\n",
      "21:50:24 - cmdstanpy - INFO - CmdStan start processing\n"
     ]
    },
    {
     "name": "stdout",
     "output_type": "stream",
     "text": [
      "contest_6927 end\n",
      "contest_2860 begin\n"
     ]
    },
    {
     "data": {
      "application/vnd.jupyter.widget-view+json": {
       "model_id": "d46ecbf5f014493ba28a9bc7794bc42c",
       "version_major": 2,
       "version_minor": 0
      },
      "text/plain": [
       "chain 1 |          | 00:00 Status"
      ]
     },
     "metadata": {},
     "output_type": "display_data"
    },
    {
     "data": {
      "application/vnd.jupyter.widget-view+json": {
       "model_id": "6a6634407a4d4f99992691ae70b289b3",
       "version_major": 2,
       "version_minor": 0
      },
      "text/plain": [
       "chain 2 |          | 00:00 Status"
      ]
     },
     "metadata": {},
     "output_type": "display_data"
    },
    {
     "data": {
      "application/vnd.jupyter.widget-view+json": {
       "model_id": "442d3e58cdb1419fa781191135e023f2",
       "version_major": 2,
       "version_minor": 0
      },
      "text/plain": [
       "chain 3 |          | 00:00 Status"
      ]
     },
     "metadata": {},
     "output_type": "display_data"
    },
    {
     "data": {
      "application/vnd.jupyter.widget-view+json": {
       "model_id": "a5f84a19bafb46d4a8a100e518e1e760",
       "version_major": 2,
       "version_minor": 0
      },
      "text/plain": [
       "chain 4 |          | 00:00 Status"
      ]
     },
     "metadata": {},
     "output_type": "display_data"
    },
    {
     "name": "stdout",
     "output_type": "stream",
     "text": [
      "                                                                                                                                                                                                                                                                                                                                "
     ]
    },
    {
     "name": "stderr",
     "output_type": "stream",
     "text": [
      "21:50:40 - cmdstanpy - INFO - CmdStan done processing.\n",
      "21:50:40 - cmdstanpy - WARNING - Non-fatal error during sampling:\n",
      "Exception: Exception: normal_lpdf: Random variable is nan, but must be not nan! (in 'real_data.stan', line 81, column 2 to column 53) (in 'real_data.stan', line 175, column 2 to line 180, column 4)\n",
      "\tException: Exception: normal_lpdf: Random variable is nan, but must be not nan! (in 'real_data.stan', line 81, column 2 to column 53) (in 'real_data.stan', line 175, column 2 to line 180, column 4)\n",
      "Exception: Exception: normal_lpdf: Random variable is nan, but must be not nan! (in 'real_data.stan', line 81, column 2 to column 53) (in 'real_data.stan', line 175, column 2 to line 180, column 4)\n",
      "Exception: Exception: normal_lpdf: Random variable is nan, but must be not nan! (in 'real_data.stan', line 81, column 2 to column 53) (in 'real_data.stan', line 175, column 2 to line 180, column 4)\n",
      "\tException: Exception: normal_lpdf: Random variable is nan, but must be not nan! (in 'real_data.stan', line 81, column 2 to column 53) (in 'real_data.stan', line 175, column 2 to line 180, column 4)\n",
      "Exception: Exception: normal_lpdf: Random variable is nan, but must be not nan! (in 'real_data.stan', line 81, column 2 to column 53) (in 'real_data.stan', line 175, column 2 to line 180, column 4)\n",
      "\tException: Exception: normal_lpdf: Random variable is nan, but must be not nan! (in 'real_data.stan', line 81, column 2 to column 53) (in 'real_data.stan', line 175, column 2 to line 180, column 4)\n",
      "\tException: Exception: normal_lpdf: Random variable is nan, but must be not nan! (in 'real_data.stan', line 81, column 2 to column 53) (in 'real_data.stan', line 175, column 2 to line 180, column 4)\n",
      "Consider re-running with show_console=True if the above output is unclear!\n"
     ]
    },
    {
     "name": "stdout",
     "output_type": "stream",
     "text": [
      "\n"
     ]
    },
    {
     "name": "stderr",
     "output_type": "stream",
     "text": [
      "21:50:43 - cmdstanpy - INFO - CmdStan start processing\n"
     ]
    },
    {
     "name": "stdout",
     "output_type": "stream",
     "text": [
      "contest_2860 end\n",
      "contest_3288 begin\n"
     ]
    },
    {
     "data": {
      "application/vnd.jupyter.widget-view+json": {
       "model_id": "e096546506e747fd96eaf2d98a29632a",
       "version_major": 2,
       "version_minor": 0
      },
      "text/plain": [
       "chain 1 |          | 00:00 Status"
      ]
     },
     "metadata": {},
     "output_type": "display_data"
    },
    {
     "data": {
      "application/vnd.jupyter.widget-view+json": {
       "model_id": "4a5bbccac91748e18ae6ee61d1440a4d",
       "version_major": 2,
       "version_minor": 0
      },
      "text/plain": [
       "chain 2 |          | 00:00 Status"
      ]
     },
     "metadata": {},
     "output_type": "display_data"
    },
    {
     "data": {
      "application/vnd.jupyter.widget-view+json": {
       "model_id": "e668f62a699f42b2a6d3211f42d41837",
       "version_major": 2,
       "version_minor": 0
      },
      "text/plain": [
       "chain 3 |          | 00:00 Status"
      ]
     },
     "metadata": {},
     "output_type": "display_data"
    },
    {
     "data": {
      "application/vnd.jupyter.widget-view+json": {
       "model_id": "d2bf696fc8f742ca828d9518d8f85a03",
       "version_major": 2,
       "version_minor": 0
      },
      "text/plain": [
       "chain 4 |          | 00:00 Status"
      ]
     },
     "metadata": {},
     "output_type": "display_data"
    },
    {
     "name": "stdout",
     "output_type": "stream",
     "text": [
      "                                                                                                                                                                                                                                                                                                                                "
     ]
    },
    {
     "name": "stderr",
     "output_type": "stream",
     "text": [
      "21:51:16 - cmdstanpy - INFO - CmdStan done processing.\n",
      "21:51:16 - cmdstanpy - WARNING - Non-fatal error during sampling:\n",
      "Exception: Exception: normal_lpdf: Random variable is nan, but must be not nan! (in 'real_data.stan', line 81, column 2 to column 53) (in 'real_data.stan', line 175, column 2 to line 180, column 4)\n",
      "\tException: Exception: normal_lpdf: Random variable is nan, but must be not nan! (in 'real_data.stan', line 81, column 2 to column 53) (in 'real_data.stan', line 175, column 2 to line 180, column 4)\n",
      "Exception: Exception: normal_lpdf: Random variable is nan, but must be not nan! (in 'real_data.stan', line 81, column 2 to column 53) (in 'real_data.stan', line 175, column 2 to line 180, column 4)\n",
      "Exception: Exception: normal_lpdf: Random variable is nan, but must be not nan! (in 'real_data.stan', line 81, column 2 to column 53) (in 'real_data.stan', line 175, column 2 to line 180, column 4)\n",
      "\tException: Exception: normal_lpdf: Random variable is nan, but must be not nan! (in 'real_data.stan', line 81, column 2 to column 53) (in 'real_data.stan', line 175, column 2 to line 180, column 4)\n",
      "Exception: Exception: normal_lpdf: Random variable is nan, but must be not nan! (in 'real_data.stan', line 81, column 2 to column 53) (in 'real_data.stan', line 175, column 2 to line 180, column 4)\n",
      "\tException: Exception: normal_lpdf: Random variable is nan, but must be not nan! (in 'real_data.stan', line 81, column 2 to column 53) (in 'real_data.stan', line 175, column 2 to line 180, column 4)\n",
      "\tException: Exception: normal_lpdf: Random variable is nan, but must be not nan! (in 'real_data.stan', line 81, column 2 to column 53) (in 'real_data.stan', line 175, column 2 to line 180, column 4)\n",
      "Consider re-running with show_console=True if the above output is unclear!\n"
     ]
    },
    {
     "name": "stdout",
     "output_type": "stream",
     "text": [
      "\n"
     ]
    },
    {
     "name": "stderr",
     "output_type": "stream",
     "text": [
      "21:51:21 - cmdstanpy - INFO - CmdStan start processing\n"
     ]
    },
    {
     "name": "stdout",
     "output_type": "stream",
     "text": [
      "contest_3288 end\n",
      "contest_3928 begin\n"
     ]
    },
    {
     "data": {
      "application/vnd.jupyter.widget-view+json": {
       "model_id": "263fa33fccc3418d9ed7fd7c07e09811",
       "version_major": 2,
       "version_minor": 0
      },
      "text/plain": [
       "chain 1 |          | 00:00 Status"
      ]
     },
     "metadata": {},
     "output_type": "display_data"
    },
    {
     "data": {
      "application/vnd.jupyter.widget-view+json": {
       "model_id": "d8546e6c21684956844ee754b12c2292",
       "version_major": 2,
       "version_minor": 0
      },
      "text/plain": [
       "chain 2 |          | 00:00 Status"
      ]
     },
     "metadata": {},
     "output_type": "display_data"
    },
    {
     "data": {
      "application/vnd.jupyter.widget-view+json": {
       "model_id": "0188bf47812644fa8c72dd79a1e4539b",
       "version_major": 2,
       "version_minor": 0
      },
      "text/plain": [
       "chain 3 |          | 00:00 Status"
      ]
     },
     "metadata": {},
     "output_type": "display_data"
    },
    {
     "data": {
      "application/vnd.jupyter.widget-view+json": {
       "model_id": "406c247f6ad2492695eed7480665e30b",
       "version_major": 2,
       "version_minor": 0
      },
      "text/plain": [
       "chain 4 |          | 00:00 Status"
      ]
     },
     "metadata": {},
     "output_type": "display_data"
    },
    {
     "name": "stdout",
     "output_type": "stream",
     "text": [
      "                                                                                                                                                                                                                                                                                                                                "
     ]
    },
    {
     "name": "stderr",
     "output_type": "stream",
     "text": [
      "21:52:20 - cmdstanpy - INFO - CmdStan done processing.\n",
      "21:52:20 - cmdstanpy - WARNING - Non-fatal error during sampling:\n",
      "Exception: Exception: normal_lpdf: Random variable is nan, but must be not nan! (in 'real_data.stan', line 81, column 2 to column 53) (in 'real_data.stan', line 175, column 2 to line 180, column 4)\n",
      "\tException: Exception: normal_lpdf: Random variable is nan, but must be not nan! (in 'real_data.stan', line 81, column 2 to column 53) (in 'real_data.stan', line 175, column 2 to line 180, column 4)\n",
      "Exception: Exception: normal_lpdf: Random variable is nan, but must be not nan! (in 'real_data.stan', line 81, column 2 to column 53) (in 'real_data.stan', line 175, column 2 to line 180, column 4)\n",
      "\tException: Exception: normal_lpdf: Random variable is nan, but must be not nan! (in 'real_data.stan', line 81, column 2 to column 53) (in 'real_data.stan', line 175, column 2 to line 180, column 4)\n",
      "Exception: Exception: normal_lpdf: Random variable is nan, but must be not nan! (in 'real_data.stan', line 81, column 2 to column 53) (in 'real_data.stan', line 175, column 2 to line 180, column 4)\n",
      "\tException: Exception: normal_lpdf: Random variable is nan, but must be not nan! (in 'real_data.stan', line 81, column 2 to column 53) (in 'real_data.stan', line 175, column 2 to line 180, column 4)\n",
      "\tException: Exception: normal_lpdf: Random variable is nan, but must be not nan! (in 'real_data.stan', line 81, column 2 to column 53) (in 'real_data.stan', line 175, column 2 to line 180, column 4)\n",
      "\tException: Exception: normal_lpdf: Random variable is nan, but must be not nan! (in 'real_data.stan', line 81, column 2 to column 53) (in 'real_data.stan', line 175, column 2 to line 180, column 4)\n",
      "Exception: Exception: normal_lpdf: Random variable is nan, but must be not nan! (in 'real_data.stan', line 81, column 2 to column 53) (in 'real_data.stan', line 175, column 2 to line 180, column 4)\n",
      "\tException: Exception: normal_lpdf: Random variable is nan, but must be not nan! (in 'real_data.stan', line 81, column 2 to column 53) (in 'real_data.stan', line 175, column 2 to line 180, column 4)\n",
      "\tException: Exception: normal_lpdf: Random variable is nan, but must be not nan! (in 'real_data.stan', line 81, column 2 to column 53) (in 'real_data.stan', line 175, column 2 to line 180, column 4)\n",
      "Consider re-running with show_console=True if the above output is unclear!\n"
     ]
    },
    {
     "name": "stdout",
     "output_type": "stream",
     "text": [
      "\n"
     ]
    },
    {
     "name": "stderr",
     "output_type": "stream",
     "text": [
      "21:52:22 - cmdstanpy - WARNING - Some chains may have failed to converge.\n",
      "\tChain 1 had 1 divergent transitions (0.1%)\n",
      "\tChain 2 had 3 divergent transitions (0.1%)\n",
      "\tChain 3 had 3 divergent transitions (0.1%)\n",
      "\tChain 4 had 5 divergent transitions (0.2%)\n",
      "\tUse the \"diagnose()\" method on the CmdStanMCMC object to see further information.\n",
      "21:52:30 - cmdstanpy - INFO - CmdStan start processing\n"
     ]
    },
    {
     "name": "stdout",
     "output_type": "stream",
     "text": [
      "contest_3928 end\n",
      "contest_3338 begin\n"
     ]
    },
    {
     "data": {
      "application/vnd.jupyter.widget-view+json": {
       "model_id": "5746638d0317455dbe1b9060a38eb5ae",
       "version_major": 2,
       "version_minor": 0
      },
      "text/plain": [
       "chain 1 |          | 00:00 Status"
      ]
     },
     "metadata": {},
     "output_type": "display_data"
    },
    {
     "data": {
      "application/vnd.jupyter.widget-view+json": {
       "model_id": "96b465c4f74c4bf498660f374d31f44d",
       "version_major": 2,
       "version_minor": 0
      },
      "text/plain": [
       "chain 2 |          | 00:00 Status"
      ]
     },
     "metadata": {},
     "output_type": "display_data"
    },
    {
     "data": {
      "application/vnd.jupyter.widget-view+json": {
       "model_id": "aec9673bd666472791db00e5240f6d8a",
       "version_major": 2,
       "version_minor": 0
      },
      "text/plain": [
       "chain 3 |          | 00:00 Status"
      ]
     },
     "metadata": {},
     "output_type": "display_data"
    },
    {
     "data": {
      "application/vnd.jupyter.widget-view+json": {
       "model_id": "af250b4484b54b1aa17b4a961357bddb",
       "version_major": 2,
       "version_minor": 0
      },
      "text/plain": [
       "chain 4 |          | 00:00 Status"
      ]
     },
     "metadata": {},
     "output_type": "display_data"
    },
    {
     "name": "stdout",
     "output_type": "stream",
     "text": [
      "                                                                                                                                                                                                                                                                                                                                "
     ]
    },
    {
     "name": "stderr",
     "output_type": "stream",
     "text": [
      "21:53:21 - cmdstanpy - INFO - CmdStan done processing.\n",
      "21:53:21 - cmdstanpy - WARNING - Non-fatal error during sampling:\n",
      "Exception: Exception: normal_lpdf: Random variable is nan, but must be not nan! (in 'real_data.stan', line 81, column 2 to column 53) (in 'real_data.stan', line 175, column 2 to line 180, column 4)\n",
      "\tException: Exception: normal_lpdf: Random variable is nan, but must be not nan! (in 'real_data.stan', line 81, column 2 to column 53) (in 'real_data.stan', line 175, column 2 to line 180, column 4)\n",
      "\tException: Exception: normal_lpdf: Random variable is nan, but must be not nan! (in 'real_data.stan', line 81, column 2 to column 53) (in 'real_data.stan', line 175, column 2 to line 180, column 4)\n",
      "Exception: Exception: normal_lpdf: Random variable is nan, but must be not nan! (in 'real_data.stan', line 81, column 2 to column 53) (in 'real_data.stan', line 175, column 2 to line 180, column 4)\n",
      "\tException: Exception: normal_lpdf: Random variable is nan, but must be not nan! (in 'real_data.stan', line 81, column 2 to column 53) (in 'real_data.stan', line 175, column 2 to line 180, column 4)\n",
      "\tException: Exception: normal_lpdf: Random variable is nan, but must be not nan! (in 'real_data.stan', line 81, column 2 to column 53) (in 'real_data.stan', line 175, column 2 to line 180, column 4)\n",
      "Exception: Exception: normal_lpdf: Random variable is nan, but must be not nan! (in 'real_data.stan', line 81, column 2 to column 53) (in 'real_data.stan', line 175, column 2 to line 180, column 4)\n",
      "\tException: Exception: normal_lpdf: Random variable is nan, but must be not nan! (in 'real_data.stan', line 81, column 2 to column 53) (in 'real_data.stan', line 175, column 2 to line 180, column 4)\n",
      "\tException: Exception: normal_lpdf: Random variable is nan, but must be not nan! (in 'real_data.stan', line 81, column 2 to column 53) (in 'real_data.stan', line 175, column 2 to line 180, column 4)\n",
      "\tException: Exception: normal_lpdf: Random variable is nan, but must be not nan! (in 'real_data.stan', line 81, column 2 to column 53) (in 'real_data.stan', line 175, column 2 to line 180, column 4)\n",
      "Exception: Exception: normal_lpdf: Random variable is nan, but must be not nan! (in 'real_data.stan', line 81, column 2 to column 53) (in 'real_data.stan', line 175, column 2 to line 180, column 4)\n",
      "\tException: Exception: normal_lpdf: Random variable is nan, but must be not nan! (in 'real_data.stan', line 81, column 2 to column 53) (in 'real_data.stan', line 175, column 2 to line 180, column 4)\n",
      "Consider re-running with show_console=True if the above output is unclear!\n"
     ]
    },
    {
     "name": "stdout",
     "output_type": "stream",
     "text": [
      "\n"
     ]
    },
    {
     "name": "stderr",
     "output_type": "stream",
     "text": [
      "21:53:23 - cmdstanpy - WARNING - Some chains may have failed to converge.\n",
      "\tChain 1 had 10 divergent transitions (0.5%)\n",
      "\tChain 2 had 10 divergent transitions (0.5%)\n",
      "\tChain 3 had 11 divergent transitions (0.5%)\n",
      "\tChain 4 had 4 divergent transitions (0.2%)\n",
      "\tUse the \"diagnose()\" method on the CmdStanMCMC object to see further information.\n",
      "21:53:32 - cmdstanpy - INFO - CmdStan start processing\n"
     ]
    },
    {
     "name": "stdout",
     "output_type": "stream",
     "text": [
      "contest_3338 end\n",
      "contest_3800 begin\n"
     ]
    },
    {
     "data": {
      "application/vnd.jupyter.widget-view+json": {
       "model_id": "f79b71e6e43643b7a6481d3ba7102830",
       "version_major": 2,
       "version_minor": 0
      },
      "text/plain": [
       "chain 1 |          | 00:00 Status"
      ]
     },
     "metadata": {},
     "output_type": "display_data"
    },
    {
     "data": {
      "application/vnd.jupyter.widget-view+json": {
       "model_id": "38b60c516300406eaae9f2e12a5ae0b0",
       "version_major": 2,
       "version_minor": 0
      },
      "text/plain": [
       "chain 2 |          | 00:00 Status"
      ]
     },
     "metadata": {},
     "output_type": "display_data"
    },
    {
     "data": {
      "application/vnd.jupyter.widget-view+json": {
       "model_id": "2199ee3791304ec5bfe2dff03e46808f",
       "version_major": 2,
       "version_minor": 0
      },
      "text/plain": [
       "chain 3 |          | 00:00 Status"
      ]
     },
     "metadata": {},
     "output_type": "display_data"
    },
    {
     "data": {
      "application/vnd.jupyter.widget-view+json": {
       "model_id": "a4876cd89384424087a4602d94535a3d",
       "version_major": 2,
       "version_minor": 0
      },
      "text/plain": [
       "chain 4 |          | 00:00 Status"
      ]
     },
     "metadata": {},
     "output_type": "display_data"
    },
    {
     "name": "stdout",
     "output_type": "stream",
     "text": [
      "                                                                                                                                                                                                                                                                                                                                "
     ]
    },
    {
     "name": "stderr",
     "output_type": "stream",
     "text": [
      "21:54:15 - cmdstanpy - INFO - CmdStan done processing.\n",
      "21:54:15 - cmdstanpy - WARNING - Non-fatal error during sampling:\n",
      "Exception: Exception: normal_lpdf: Random variable is nan, but must be not nan! (in 'real_data.stan', line 81, column 2 to column 53) (in 'real_data.stan', line 175, column 2 to line 180, column 4)\n",
      "\tException: Exception: normal_lpdf: Random variable is nan, but must be not nan! (in 'real_data.stan', line 81, column 2 to column 53) (in 'real_data.stan', line 175, column 2 to line 180, column 4)\n",
      "\tException: Exception: normal_lpdf: Random variable is nan, but must be not nan! (in 'real_data.stan', line 81, column 2 to column 53) (in 'real_data.stan', line 175, column 2 to line 180, column 4)\n",
      "\tException: Exception: normal_lpdf: Random variable is nan, but must be not nan! (in 'real_data.stan', line 81, column 2 to column 53) (in 'real_data.stan', line 175, column 2 to line 180, column 4)\n",
      "\tException: Exception: normal_lpdf: Random variable is nan, but must be not nan! (in 'real_data.stan', line 81, column 2 to column 53) (in 'real_data.stan', line 175, column 2 to line 180, column 4)\n",
      "Exception: Exception: normal_lpdf: Random variable is nan, but must be not nan! (in 'real_data.stan', line 81, column 2 to column 53) (in 'real_data.stan', line 175, column 2 to line 180, column 4)\n",
      "\tException: Exception: normal_lpdf: Random variable is nan, but must be not nan! (in 'real_data.stan', line 81, column 2 to column 53) (in 'real_data.stan', line 175, column 2 to line 180, column 4)\n",
      "Exception: Exception: normal_lpdf: Random variable is nan, but must be not nan! (in 'real_data.stan', line 81, column 2 to column 53) (in 'real_data.stan', line 175, column 2 to line 180, column 4)\n",
      "\tException: Exception: normal_lpdf: Random variable is nan, but must be not nan! (in 'real_data.stan', line 81, column 2 to column 53) (in 'real_data.stan', line 175, column 2 to line 180, column 4)\n",
      "\tException: Exception: normal_lpdf: Random variable is nan, but must be not nan! (in 'real_data.stan', line 81, column 2 to column 53) (in 'real_data.stan', line 175, column 2 to line 180, column 4)\n",
      "\tException: Exception: normal_lpdf: Random variable is nan, but must be not nan! (in 'real_data.stan', line 81, column 2 to column 53) (in 'real_data.stan', line 175, column 2 to line 180, column 4)\n",
      "\tException: Exception: normal_lpdf: Random variable is nan, but must be not nan! (in 'real_data.stan', line 81, column 2 to column 53) (in 'real_data.stan', line 175, column 2 to line 180, column 4)\n",
      "Exception: Exception: normal_lpdf: Random variable is nan, but must be not nan! (in 'real_data.stan', line 81, column 2 to column 53) (in 'real_data.stan', line 175, column 2 to line 180, column 4)\n",
      "\tException: Exception: normal_lpdf: Random variable is nan, but must be not nan! (in 'real_data.stan', line 81, column 2 to column 53) (in 'real_data.stan', line 175, column 2 to line 180, column 4)\n",
      "\tException: Exception: normal_lpdf: Random variable is nan, but must be not nan! (in 'real_data.stan', line 81, column 2 to column 53) (in 'real_data.stan', line 175, column 2 to line 180, column 4)\n",
      "Consider re-running with show_console=True if the above output is unclear!\n"
     ]
    },
    {
     "name": "stdout",
     "output_type": "stream",
     "text": [
      "\n"
     ]
    },
    {
     "name": "stderr",
     "output_type": "stream",
     "text": [
      "21:54:16 - cmdstanpy - WARNING - Some chains may have failed to converge.\n",
      "\tChain 1 had 1 divergent transitions (0.1%)\n",
      "\tChain 2 had 1 divergent transitions (0.1%)\n",
      "\tChain 3 had 2 divergent transitions (0.1%)\n",
      "\tUse the \"diagnose()\" method on the CmdStanMCMC object to see further information.\n",
      "21:54:23 - cmdstanpy - INFO - CmdStan start processing\n"
     ]
    },
    {
     "name": "stdout",
     "output_type": "stream",
     "text": [
      "contest_3800 end\n",
      "contest_4453 begin\n"
     ]
    },
    {
     "data": {
      "application/vnd.jupyter.widget-view+json": {
       "model_id": "4a471e7cff884ccfbf188e2c453f269a",
       "version_major": 2,
       "version_minor": 0
      },
      "text/plain": [
       "chain 1 |          | 00:00 Status"
      ]
     },
     "metadata": {},
     "output_type": "display_data"
    },
    {
     "data": {
      "application/vnd.jupyter.widget-view+json": {
       "model_id": "4360771843f746d189c9d4c79c1fc564",
       "version_major": 2,
       "version_minor": 0
      },
      "text/plain": [
       "chain 2 |          | 00:00 Status"
      ]
     },
     "metadata": {},
     "output_type": "display_data"
    },
    {
     "data": {
      "application/vnd.jupyter.widget-view+json": {
       "model_id": "bb68635239f24ffe9c817e15893a67e1",
       "version_major": 2,
       "version_minor": 0
      },
      "text/plain": [
       "chain 3 |          | 00:00 Status"
      ]
     },
     "metadata": {},
     "output_type": "display_data"
    },
    {
     "data": {
      "application/vnd.jupyter.widget-view+json": {
       "model_id": "9b8fe1273a6a4b3c8899f8930da7e1ea",
       "version_major": 2,
       "version_minor": 0
      },
      "text/plain": [
       "chain 4 |          | 00:00 Status"
      ]
     },
     "metadata": {},
     "output_type": "display_data"
    },
    {
     "name": "stdout",
     "output_type": "stream",
     "text": [
      "                                                                                                                                                                                                                                                                                                                                "
     ]
    },
    {
     "name": "stderr",
     "output_type": "stream",
     "text": [
      "21:57:09 - cmdstanpy - INFO - CmdStan done processing.\n",
      "21:57:09 - cmdstanpy - WARNING - Non-fatal error during sampling:\n",
      "Exception: Exception: normal_lpdf: Random variable is nan, but must be not nan! (in 'real_data.stan', line 81, column 2 to column 53) (in 'real_data.stan', line 175, column 2 to line 180, column 4)\n",
      "\tException: Exception: normal_lpdf: Random variable is nan, but must be not nan! (in 'real_data.stan', line 81, column 2 to column 53) (in 'real_data.stan', line 175, column 2 to line 180, column 4)\n",
      "\tException: Exception: normal_lpdf: Random variable is nan, but must be not nan! (in 'real_data.stan', line 81, column 2 to column 53) (in 'real_data.stan', line 175, column 2 to line 180, column 4)\n",
      "\tException: Exception: normal_lpdf: Random variable is nan, but must be not nan! (in 'real_data.stan', line 81, column 2 to column 53) (in 'real_data.stan', line 175, column 2 to line 180, column 4)\n",
      "Exception: Exception: normal_lpdf: Random variable is nan, but must be not nan! (in 'real_data.stan', line 81, column 2 to column 53) (in 'real_data.stan', line 175, column 2 to line 180, column 4)\n",
      "\tException: Exception: normal_lpdf: Random variable is nan, but must be not nan! (in 'real_data.stan', line 81, column 2 to column 53) (in 'real_data.stan', line 175, column 2 to line 180, column 4)\n",
      "Exception: Exception: normal_lpdf: Random variable is nan, but must be not nan! (in 'real_data.stan', line 81, column 2 to column 53) (in 'real_data.stan', line 175, column 2 to line 180, column 4)\n",
      "\tException: Exception: normal_lpdf: Random variable is nan, but must be not nan! (in 'real_data.stan', line 81, column 2 to column 53) (in 'real_data.stan', line 175, column 2 to line 180, column 4)\n",
      "\tException: Exception: normal_lpdf: Random variable is nan, but must be not nan! (in 'real_data.stan', line 81, column 2 to column 53) (in 'real_data.stan', line 175, column 2 to line 180, column 4)\n",
      "\tException: Exception: normal_lpdf: Random variable is nan, but must be not nan! (in 'real_data.stan', line 81, column 2 to column 53) (in 'real_data.stan', line 175, column 2 to line 180, column 4)\n",
      "Exception: Exception: normal_lpdf: Random variable is nan, but must be not nan! (in 'real_data.stan', line 81, column 2 to column 53) (in 'real_data.stan', line 175, column 2 to line 180, column 4)\n",
      "\tException: Exception: normal_lpdf: Random variable is nan, but must be not nan! (in 'real_data.stan', line 81, column 2 to column 53) (in 'real_data.stan', line 175, column 2 to line 180, column 4)\n",
      "\tException: Exception: normal_lpdf: Random variable is nan, but must be not nan! (in 'real_data.stan', line 81, column 2 to column 53) (in 'real_data.stan', line 175, column 2 to line 180, column 4)\n",
      "Consider re-running with show_console=True if the above output is unclear!\n"
     ]
    },
    {
     "name": "stdout",
     "output_type": "stream",
     "text": [
      "\n"
     ]
    },
    {
     "name": "stderr",
     "output_type": "stream",
     "text": [
      "21:57:11 - cmdstanpy - WARNING - Some chains may have failed to converge.\n",
      "\tChain 1 had 3 divergent transitions (0.1%)\n",
      "\tChain 2 had 4 divergent transitions (0.2%)\n",
      "\tChain 3 had 6 divergent transitions (0.3%)\n",
      "\tChain 4 had 3 divergent transitions (0.1%)\n",
      "\tUse the \"diagnose()\" method on the CmdStanMCMC object to see further information.\n",
      "21:57:19 - cmdstanpy - INFO - CmdStan start processing\n"
     ]
    },
    {
     "name": "stdout",
     "output_type": "stream",
     "text": [
      "contest_4453 end\n",
      "contest_5144 begin\n"
     ]
    },
    {
     "data": {
      "application/vnd.jupyter.widget-view+json": {
       "model_id": "108a05f442a8430dbad448c0935bbef2",
       "version_major": 2,
       "version_minor": 0
      },
      "text/plain": [
       "chain 1 |          | 00:00 Status"
      ]
     },
     "metadata": {},
     "output_type": "display_data"
    },
    {
     "data": {
      "application/vnd.jupyter.widget-view+json": {
       "model_id": "9e5732468172492dab8584c66950e912",
       "version_major": 2,
       "version_minor": 0
      },
      "text/plain": [
       "chain 2 |          | 00:00 Status"
      ]
     },
     "metadata": {},
     "output_type": "display_data"
    },
    {
     "data": {
      "application/vnd.jupyter.widget-view+json": {
       "model_id": "2f0126e7c5ef423d9bf408f5f8f89e02",
       "version_major": 2,
       "version_minor": 0
      },
      "text/plain": [
       "chain 3 |          | 00:00 Status"
      ]
     },
     "metadata": {},
     "output_type": "display_data"
    },
    {
     "data": {
      "application/vnd.jupyter.widget-view+json": {
       "model_id": "727d368e5c68457199cdf349f2c0f5df",
       "version_major": 2,
       "version_minor": 0
      },
      "text/plain": [
       "chain 4 |          | 00:00 Status"
      ]
     },
     "metadata": {},
     "output_type": "display_data"
    },
    {
     "name": "stdout",
     "output_type": "stream",
     "text": [
      "                                                                                                                                                                                                                                                                                                                                "
     ]
    },
    {
     "name": "stderr",
     "output_type": "stream",
     "text": [
      "21:59:26 - cmdstanpy - INFO - CmdStan done processing.\n",
      "21:59:26 - cmdstanpy - WARNING - Non-fatal error during sampling:\n",
      "Exception: Exception: normal_lpdf: Random variable is nan, but must be not nan! (in 'real_data.stan', line 81, column 2 to column 53) (in 'real_data.stan', line 175, column 2 to line 180, column 4)\n",
      "\tException: Exception: normal_lpdf: Random variable is nan, but must be not nan! (in 'real_data.stan', line 81, column 2 to column 53) (in 'real_data.stan', line 175, column 2 to line 180, column 4)\n",
      "\tException: Exception: normal_lpdf: Random variable is nan, but must be not nan! (in 'real_data.stan', line 81, column 2 to column 53) (in 'real_data.stan', line 175, column 2 to line 180, column 4)\n",
      "\tException: Exception: normal_lpdf: Random variable is nan, but must be not nan! (in 'real_data.stan', line 81, column 2 to column 53) (in 'real_data.stan', line 175, column 2 to line 180, column 4)\n",
      "\tException: Exception: normal_lpdf: Random variable is nan, but must be not nan! (in 'real_data.stan', line 81, column 2 to column 53) (in 'real_data.stan', line 175, column 2 to line 180, column 4)\n",
      "\tException: Exception: normal_lpdf: Random variable is nan, but must be not nan! (in 'real_data.stan', line 81, column 2 to column 53) (in 'real_data.stan', line 175, column 2 to line 180, column 4)\n",
      "\tException: Exception: normal_lpdf: Random variable is nan, but must be not nan! (in 'real_data.stan', line 81, column 2 to column 53) (in 'real_data.stan', line 175, column 2 to line 180, column 4)\n",
      "\tException: Exception: normal_lpdf: Random variable is nan, but must be not nan! (in 'real_data.stan', line 81, column 2 to column 53) (in 'real_data.stan', line 175, column 2 to line 180, column 4)\n",
      "Exception: Exception: normal_lpdf: Random variable is nan, but must be not nan! (in 'real_data.stan', line 81, column 2 to column 53) (in 'real_data.stan', line 175, column 2 to line 180, column 4)\n",
      "\tException: Exception: normal_lpdf: Random variable is nan, but must be not nan! (in 'real_data.stan', line 81, column 2 to column 53) (in 'real_data.stan', line 175, column 2 to line 180, column 4)\n",
      "\tException: Exception: normal_lpdf: Random variable is nan, but must be not nan! (in 'real_data.stan', line 81, column 2 to column 53) (in 'real_data.stan', line 175, column 2 to line 180, column 4)\n",
      "\tException: Exception: normal_lpdf: Random variable is nan, but must be not nan! (in 'real_data.stan', line 81, column 2 to column 53) (in 'real_data.stan', line 175, column 2 to line 180, column 4)\n",
      "\tException: Exception: normal_lpdf: Random variable is nan, but must be not nan! (in 'real_data.stan', line 81, column 2 to column 53) (in 'real_data.stan', line 175, column 2 to line 180, column 4)\n",
      "\tException: Exception: normal_lpdf: Random variable is nan, but must be not nan! (in 'real_data.stan', line 81, column 2 to column 53) (in 'real_data.stan', line 175, column 2 to line 180, column 4)\n",
      "Exception: Exception: normal_lpdf: Random variable is nan, but must be not nan! (in 'real_data.stan', line 81, column 2 to column 53) (in 'real_data.stan', line 175, column 2 to line 180, column 4)\n",
      "\tException: Exception: normal_lpdf: Random variable is nan, but must be not nan! (in 'real_data.stan', line 81, column 2 to column 53) (in 'real_data.stan', line 175, column 2 to line 180, column 4)\n",
      "\tException: Exception: normal_lpdf: Random variable is nan, but must be not nan! (in 'real_data.stan', line 81, column 2 to column 53) (in 'real_data.stan', line 175, column 2 to line 180, column 4)\n",
      "Exception: Exception: normal_lpdf: Random variable is nan, but must be not nan! (in 'real_data.stan', line 81, column 2 to column 53) (in 'real_data.stan', line 175, column 2 to line 180, column 4)\n",
      "\tException: Exception: normal_lpdf: Random variable is nan, but must be not nan! (in 'real_data.stan', line 81, column 2 to column 53) (in 'real_data.stan', line 175, column 2 to line 180, column 4)\n",
      "Consider re-running with show_console=True if the above output is unclear!\n"
     ]
    },
    {
     "name": "stdout",
     "output_type": "stream",
     "text": [
      "\n"
     ]
    },
    {
     "name": "stderr",
     "output_type": "stream",
     "text": [
      "21:59:27 - cmdstanpy - WARNING - Some chains may have failed to converge.\n",
      "\tChain 1 had 5 divergent transitions (0.2%)\n",
      "\tChain 1 had 1 iterations at max treedepth (0.1%)\n",
      "\tChain 2 had 16 divergent transitions (0.8%)\n",
      "\tChain 3 had 5 divergent transitions (0.2%)\n",
      "\tChain 4 had 6 divergent transitions (0.3%)\n",
      "\tUse the \"diagnose()\" method on the CmdStanMCMC object to see further information.\n",
      "21:59:31 - cmdstanpy - INFO - CmdStan start processing\n"
     ]
    },
    {
     "name": "stdout",
     "output_type": "stream",
     "text": [
      "contest_5144 end\n",
      "contest_4493 begin\n"
     ]
    },
    {
     "data": {
      "application/vnd.jupyter.widget-view+json": {
       "model_id": "899624fd7a2e4b6387ffe123ae03519f",
       "version_major": 2,
       "version_minor": 0
      },
      "text/plain": [
       "chain 1 |          | 00:00 Status"
      ]
     },
     "metadata": {},
     "output_type": "display_data"
    },
    {
     "data": {
      "application/vnd.jupyter.widget-view+json": {
       "model_id": "f966a5d307c643b28d278976fa523567",
       "version_major": 2,
       "version_minor": 0
      },
      "text/plain": [
       "chain 2 |          | 00:00 Status"
      ]
     },
     "metadata": {},
     "output_type": "display_data"
    },
    {
     "data": {
      "application/vnd.jupyter.widget-view+json": {
       "model_id": "4e9dcce3dd5c4ae4a43e1e9132fd8983",
       "version_major": 2,
       "version_minor": 0
      },
      "text/plain": [
       "chain 3 |          | 00:00 Status"
      ]
     },
     "metadata": {},
     "output_type": "display_data"
    },
    {
     "data": {
      "application/vnd.jupyter.widget-view+json": {
       "model_id": "8f0c239c53de46a3a93f2ef9f8de3295",
       "version_major": 2,
       "version_minor": 0
      },
      "text/plain": [
       "chain 4 |          | 00:00 Status"
      ]
     },
     "metadata": {},
     "output_type": "display_data"
    },
    {
     "name": "stdout",
     "output_type": "stream",
     "text": [
      "                                                                                                                                                                                                                                                                                                                                "
     ]
    },
    {
     "name": "stderr",
     "output_type": "stream",
     "text": [
      "22:15:34 - cmdstanpy - INFO - CmdStan done processing.\n",
      "22:15:34 - cmdstanpy - WARNING - Non-fatal error during sampling:\n",
      "Exception: Exception: normal_lpdf: Random variable is nan, but must be not nan! (in 'real_data.stan', line 81, column 2 to column 53) (in 'real_data.stan', line 175, column 2 to line 180, column 4)\n",
      "\tException: Exception: normal_lpdf: Random variable is nan, but must be not nan! (in 'real_data.stan', line 81, column 2 to column 53) (in 'real_data.stan', line 175, column 2 to line 180, column 4)\n",
      "\tException: Exception: normal_lpdf: Random variable is nan, but must be not nan! (in 'real_data.stan', line 81, column 2 to column 53) (in 'real_data.stan', line 175, column 2 to line 180, column 4)\n",
      "Exception: Exception: normal_lpdf: Random variable is nan, but must be not nan! (in 'real_data.stan', line 81, column 2 to column 53) (in 'real_data.stan', line 175, column 2 to line 180, column 4)\n",
      "\tException: Exception: normal_lpdf: Random variable is nan, but must be not nan! (in 'real_data.stan', line 81, column 2 to column 53) (in 'real_data.stan', line 175, column 2 to line 180, column 4)\n",
      "Exception: Exception: normal_lpdf: Random variable is nan, but must be not nan! (in 'real_data.stan', line 81, column 2 to column 53) (in 'real_data.stan', line 175, column 2 to line 180, column 4)\n",
      "\tException: Exception: normal_lpdf: Random variable is nan, but must be not nan! (in 'real_data.stan', line 81, column 2 to column 53) (in 'real_data.stan', line 175, column 2 to line 180, column 4)\n",
      "\tException: Exception: normal_lpdf: Random variable is nan, but must be not nan! (in 'real_data.stan', line 81, column 2 to column 53) (in 'real_data.stan', line 175, column 2 to line 180, column 4)\n",
      "\tException: Exception: normal_lpdf: Random variable is nan, but must be not nan! (in 'real_data.stan', line 81, column 2 to column 53) (in 'real_data.stan', line 175, column 2 to line 180, column 4)\n",
      "Exception: Exception: normal_lpdf: Random variable is nan, but must be not nan! (in 'real_data.stan', line 81, column 2 to column 53) (in 'real_data.stan', line 175, column 2 to line 180, column 4)\n",
      "\tException: Exception: normal_lpdf: Random variable is nan, but must be not nan! (in 'real_data.stan', line 81, column 2 to column 53) (in 'real_data.stan', line 175, column 2 to line 180, column 4)\n",
      "\tException: Exception: normal_lpdf: Random variable is nan, but must be not nan! (in 'real_data.stan', line 81, column 2 to column 53) (in 'real_data.stan', line 175, column 2 to line 180, column 4)\n",
      "\tException: Exception: normal_lpdf: Random variable is nan, but must be not nan! (in 'real_data.stan', line 81, column 2 to column 53) (in 'real_data.stan', line 175, column 2 to line 180, column 4)\n",
      "\tException: Exception: normal_lpdf: Random variable is nan, but must be not nan! (in 'real_data.stan', line 81, column 2 to column 53) (in 'real_data.stan', line 175, column 2 to line 180, column 4)\n",
      "\tException: Exception: normal_lpdf: Random variable is nan, but must be not nan! (in 'real_data.stan', line 81, column 2 to column 53) (in 'real_data.stan', line 175, column 2 to line 180, column 4)\n",
      "Consider re-running with show_console=True if the above output is unclear!\n"
     ]
    },
    {
     "name": "stdout",
     "output_type": "stream",
     "text": [
      "\n"
     ]
    },
    {
     "name": "stderr",
     "output_type": "stream",
     "text": [
      "22:15:35 - cmdstanpy - WARNING - Some chains may have failed to converge.\n",
      "\tChain 1 had 23 divergent transitions (1.1%)\n",
      "\tChain 1 had 2 iterations at max treedepth (0.1%)\n",
      "\tChain 2 had 28 divergent transitions (1.4%)\n",
      "\tChain 2 had 630 iterations at max treedepth (31.5%)\n",
      "\tChain 3 had 24 divergent transitions (1.2%)\n",
      "\tChain 4 had 28 divergent transitions (1.4%)\n",
      "\tChain 4 had 1 iterations at max treedepth (0.1%)\n",
      "\tUse the \"diagnose()\" method on the CmdStanMCMC object to see further information.\n",
      "22:15:39 - cmdstanpy - INFO - CmdStan start processing\n"
     ]
    },
    {
     "name": "stdout",
     "output_type": "stream",
     "text": [
      "contest_4493 end\n",
      "contest_5056 begin\n"
     ]
    },
    {
     "data": {
      "application/vnd.jupyter.widget-view+json": {
       "model_id": "0a01fa76ec454993b9e53f62da7cb823",
       "version_major": 2,
       "version_minor": 0
      },
      "text/plain": [
       "chain 1 |          | 00:00 Status"
      ]
     },
     "metadata": {},
     "output_type": "display_data"
    },
    {
     "data": {
      "application/vnd.jupyter.widget-view+json": {
       "model_id": "c873f7a3624341e0a04f503c97f8b962",
       "version_major": 2,
       "version_minor": 0
      },
      "text/plain": [
       "chain 2 |          | 00:00 Status"
      ]
     },
     "metadata": {},
     "output_type": "display_data"
    },
    {
     "data": {
      "application/vnd.jupyter.widget-view+json": {
       "model_id": "89b1f4b804a14fb38df3514f9eafeb07",
       "version_major": 2,
       "version_minor": 0
      },
      "text/plain": [
       "chain 3 |          | 00:00 Status"
      ]
     },
     "metadata": {},
     "output_type": "display_data"
    },
    {
     "data": {
      "application/vnd.jupyter.widget-view+json": {
       "model_id": "44ded6a395354131ad255012ac83193b",
       "version_major": 2,
       "version_minor": 0
      },
      "text/plain": [
       "chain 4 |          | 00:00 Status"
      ]
     },
     "metadata": {},
     "output_type": "display_data"
    },
    {
     "name": "stdout",
     "output_type": "stream",
     "text": [
      "                                                                                                                                                                                                                                                                                                                                "
     ]
    },
    {
     "name": "stderr",
     "output_type": "stream",
     "text": [
      "22:37:53 - cmdstanpy - INFO - CmdStan done processing.\n",
      "22:37:53 - cmdstanpy - WARNING - Non-fatal error during sampling:\n",
      "Exception: Exception: normal_lpdf: Random variable is nan, but must be not nan! (in 'real_data.stan', line 81, column 2 to column 53) (in 'real_data.stan', line 175, column 2 to line 180, column 4)\n",
      "\tException: Exception: normal_lpdf: Random variable is nan, but must be not nan! (in 'real_data.stan', line 81, column 2 to column 53) (in 'real_data.stan', line 175, column 2 to line 180, column 4)\n",
      "\tException: Exception: normal_lpdf: Random variable is nan, but must be not nan! (in 'real_data.stan', line 81, column 2 to column 53) (in 'real_data.stan', line 175, column 2 to line 180, column 4)\n",
      "\tException: Exception: normal_lpdf: Random variable is nan, but must be not nan! (in 'real_data.stan', line 81, column 2 to column 53) (in 'real_data.stan', line 175, column 2 to line 180, column 4)\n",
      "Exception: Exception: normal_lpdf: Random variable is nan, but must be not nan! (in 'real_data.stan', line 81, column 2 to column 53) (in 'real_data.stan', line 175, column 2 to line 180, column 4)\n",
      "\tException: Exception: normal_lpdf: Random variable is nan, but must be not nan! (in 'real_data.stan', line 81, column 2 to column 53) (in 'real_data.stan', line 175, column 2 to line 180, column 4)\n",
      "\tException: Exception: normal_lpdf: Random variable is nan, but must be not nan! (in 'real_data.stan', line 81, column 2 to column 53) (in 'real_data.stan', line 175, column 2 to line 180, column 4)\n",
      "Exception: Exception: normal_lpdf: Random variable is nan, but must be not nan! (in 'real_data.stan', line 81, column 2 to column 53) (in 'real_data.stan', line 175, column 2 to line 180, column 4)\n",
      "\tException: Exception: normal_lpdf: Random variable is nan, but must be not nan! (in 'real_data.stan', line 81, column 2 to column 53) (in 'real_data.stan', line 175, column 2 to line 180, column 4)\n",
      "\tException: Exception: normal_lpdf: Random variable is nan, but must be not nan! (in 'real_data.stan', line 81, column 2 to column 53) (in 'real_data.stan', line 175, column 2 to line 180, column 4)\n",
      "\tException: Exception: normal_lpdf: Random variable is nan, but must be not nan! (in 'real_data.stan', line 81, column 2 to column 53) (in 'real_data.stan', line 175, column 2 to line 180, column 4)\n",
      "Exception: Exception: normal_lpdf: Random variable is nan, but must be not nan! (in 'real_data.stan', line 81, column 2 to column 53) (in 'real_data.stan', line 175, column 2 to line 180, column 4)\n",
      "\tException: Exception: normal_lpdf: Random variable is nan, but must be not nan! (in 'real_data.stan', line 81, column 2 to column 53) (in 'real_data.stan', line 175, column 2 to line 180, column 4)\n",
      "\tException: Exception: normal_lpdf: Random variable is nan, but must be not nan! (in 'real_data.stan', line 81, column 2 to column 53) (in 'real_data.stan', line 175, column 2 to line 180, column 4)\n",
      "\tException: Exception: normal_lpdf: Random variable is nan, but must be not nan! (in 'real_data.stan', line 81, column 2 to column 53) (in 'real_data.stan', line 175, column 2 to line 180, column 4)\n",
      "\tException: Exception: normal_lpdf: Random variable is nan, but must be not nan! (in 'real_data.stan', line 81, column 2 to column 53) (in 'real_data.stan', line 175, column 2 to line 180, column 4)\n",
      "Consider re-running with show_console=True if the above output is unclear!\n"
     ]
    },
    {
     "name": "stdout",
     "output_type": "stream",
     "text": [
      "\n"
     ]
    },
    {
     "name": "stderr",
     "output_type": "stream",
     "text": [
      "22:37:55 - cmdstanpy - WARNING - Some chains may have failed to converge.\n",
      "\tChain 1 had 36 divergent transitions (1.8%)\n",
      "\tChain 2 had 39 divergent transitions (1.9%)\n",
      "\tChain 3 had 42 divergent transitions (2.1%)\n",
      "\tChain 4 had 40 divergent transitions (2.0%)\n",
      "\tChain 4 had 529 iterations at max treedepth (26.5%)\n",
      "\tUse the \"diagnose()\" method on the CmdStanMCMC object to see further information.\n",
      "22:38:01 - cmdstanpy - INFO - CmdStan start processing\n"
     ]
    },
    {
     "name": "stdout",
     "output_type": "stream",
     "text": [
      "contest_5056 end\n",
      "contest_5390 begin\n"
     ]
    },
    {
     "data": {
      "application/vnd.jupyter.widget-view+json": {
       "model_id": "0a65f0eafdd940689189d5841e8c4c2a",
       "version_major": 2,
       "version_minor": 0
      },
      "text/plain": [
       "chain 1 |          | 00:00 Status"
      ]
     },
     "metadata": {},
     "output_type": "display_data"
    },
    {
     "data": {
      "application/vnd.jupyter.widget-view+json": {
       "model_id": "8e7540569a7e4a4ebe34c53d0305a60d",
       "version_major": 2,
       "version_minor": 0
      },
      "text/plain": [
       "chain 2 |          | 00:00 Status"
      ]
     },
     "metadata": {},
     "output_type": "display_data"
    },
    {
     "data": {
      "application/vnd.jupyter.widget-view+json": {
       "model_id": "5f6dfce561a74cfbb068eef3d73f7aa3",
       "version_major": 2,
       "version_minor": 0
      },
      "text/plain": [
       "chain 3 |          | 00:00 Status"
      ]
     },
     "metadata": {},
     "output_type": "display_data"
    },
    {
     "data": {
      "application/vnd.jupyter.widget-view+json": {
       "model_id": "a9cf7932112649389953fe057c00ad8a",
       "version_major": 2,
       "version_minor": 0
      },
      "text/plain": [
       "chain 4 |          | 00:00 Status"
      ]
     },
     "metadata": {},
     "output_type": "display_data"
    },
    {
     "name": "stdout",
     "output_type": "stream",
     "text": [
      "                                                                                                                                                                                                                                                                                                                                "
     ]
    },
    {
     "name": "stderr",
     "output_type": "stream",
     "text": [
      "22:39:15 - cmdstanpy - INFO - CmdStan done processing.\n",
      "22:39:15 - cmdstanpy - WARNING - Non-fatal error during sampling:\n",
      "Exception: Exception: normal_lpdf: Random variable is nan, but must be not nan! (in 'real_data.stan', line 81, column 2 to column 53) (in 'real_data.stan', line 175, column 2 to line 180, column 4)\n",
      "\tException: Exception: normal_lpdf: Random variable is nan, but must be not nan! (in 'real_data.stan', line 81, column 2 to column 53) (in 'real_data.stan', line 175, column 2 to line 180, column 4)\n",
      "Exception: Exception: normal_lpdf: Random variable is nan, but must be not nan! (in 'real_data.stan', line 81, column 2 to column 53) (in 'real_data.stan', line 175, column 2 to line 180, column 4)\n",
      "\tException: Exception: normal_lpdf: Random variable is nan, but must be not nan! (in 'real_data.stan', line 81, column 2 to column 53) (in 'real_data.stan', line 175, column 2 to line 180, column 4)\n",
      "Exception: Exception: normal_lpdf: Random variable is nan, but must be not nan! (in 'real_data.stan', line 81, column 2 to column 53) (in 'real_data.stan', line 175, column 2 to line 180, column 4)\n",
      "\tException: Exception: normal_lpdf: Random variable is nan, but must be not nan! (in 'real_data.stan', line 81, column 2 to column 53) (in 'real_data.stan', line 175, column 2 to line 180, column 4)\n",
      "\tException: Exception: normal_lpdf: Random variable is nan, but must be not nan! (in 'real_data.stan', line 81, column 2 to column 53) (in 'real_data.stan', line 175, column 2 to line 180, column 4)\n",
      "\tException: Exception: normal_lpdf: Random variable is nan, but must be not nan! (in 'real_data.stan', line 81, column 2 to column 53) (in 'real_data.stan', line 175, column 2 to line 180, column 4)\n",
      "Exception: Exception: normal_lpdf: Random variable is nan, but must be not nan! (in 'real_data.stan', line 81, column 2 to column 53) (in 'real_data.stan', line 175, column 2 to line 180, column 4)\n",
      "\tException: Exception: normal_lpdf: Random variable is nan, but must be not nan! (in 'real_data.stan', line 81, column 2 to column 53) (in 'real_data.stan', line 175, column 2 to line 180, column 4)\n",
      "\tException: Exception: normal_lpdf: Random variable is nan, but must be not nan! (in 'real_data.stan', line 81, column 2 to column 53) (in 'real_data.stan', line 175, column 2 to line 180, column 4)\n",
      "\tException: Exception: normal_lpdf: Random variable is nan, but must be not nan! (in 'real_data.stan', line 81, column 2 to column 53) (in 'real_data.stan', line 175, column 2 to line 180, column 4)\n",
      "Consider re-running with show_console=True if the above output is unclear!\n"
     ]
    },
    {
     "name": "stdout",
     "output_type": "stream",
     "text": [
      "\n"
     ]
    },
    {
     "name": "stderr",
     "output_type": "stream",
     "text": [
      "22:39:16 - cmdstanpy - WARNING - Some chains may have failed to converge.\n",
      "\tChain 1 had 14 divergent transitions (0.7%)\n",
      "\tChain 2 had 12 divergent transitions (0.6%)\n",
      "\tChain 3 had 10 divergent transitions (0.5%)\n",
      "\tChain 4 had 15 divergent transitions (0.8%)\n",
      "\tUse the \"diagnose()\" method on the CmdStanMCMC object to see further information.\n",
      "22:39:21 - cmdstanpy - INFO - CmdStan start processing\n"
     ]
    },
    {
     "name": "stdout",
     "output_type": "stream",
     "text": [
      "contest_5390 end\n",
      "contest_2551 begin\n"
     ]
    },
    {
     "data": {
      "application/vnd.jupyter.widget-view+json": {
       "model_id": "64c1c9c522824f9b97d98c63788298df",
       "version_major": 2,
       "version_minor": 0
      },
      "text/plain": [
       "chain 1 |          | 00:00 Status"
      ]
     },
     "metadata": {},
     "output_type": "display_data"
    },
    {
     "data": {
      "application/vnd.jupyter.widget-view+json": {
       "model_id": "6b4c0b7c64724b9bab7783f0a6746361",
       "version_major": 2,
       "version_minor": 0
      },
      "text/plain": [
       "chain 2 |          | 00:00 Status"
      ]
     },
     "metadata": {},
     "output_type": "display_data"
    },
    {
     "data": {
      "application/vnd.jupyter.widget-view+json": {
       "model_id": "61332f9cfb68409db5f90d6082c24811",
       "version_major": 2,
       "version_minor": 0
      },
      "text/plain": [
       "chain 3 |          | 00:00 Status"
      ]
     },
     "metadata": {},
     "output_type": "display_data"
    },
    {
     "data": {
      "application/vnd.jupyter.widget-view+json": {
       "model_id": "dae0da6434a14afb8618e3d439896f90",
       "version_major": 2,
       "version_minor": 0
      },
      "text/plain": [
       "chain 4 |          | 00:00 Status"
      ]
     },
     "metadata": {},
     "output_type": "display_data"
    },
    {
     "name": "stdout",
     "output_type": "stream",
     "text": [
      "                                                                                                                                                                                                                                                                                                                                "
     ]
    },
    {
     "name": "stderr",
     "output_type": "stream",
     "text": [
      "22:39:42 - cmdstanpy - INFO - CmdStan done processing.\n",
      "22:39:42 - cmdstanpy - WARNING - Non-fatal error during sampling:\n",
      "Exception: Exception: normal_lpdf: Random variable is nan, but must be not nan! (in 'real_data.stan', line 81, column 2 to column 53) (in 'real_data.stan', line 175, column 2 to line 180, column 4)\n",
      "\tException: Exception: normal_lpdf: Random variable is nan, but must be not nan! (in 'real_data.stan', line 81, column 2 to column 53) (in 'real_data.stan', line 175, column 2 to line 180, column 4)\n",
      "Exception: Exception: normal_lpdf: Random variable is nan, but must be not nan! (in 'real_data.stan', line 81, column 2 to column 53) (in 'real_data.stan', line 175, column 2 to line 180, column 4)\n",
      "Exception: Exception: normal_lpdf: Random variable is nan, but must be not nan! (in 'real_data.stan', line 81, column 2 to column 53) (in 'real_data.stan', line 175, column 2 to line 180, column 4)\n",
      "\tException: Exception: normal_lpdf: Random variable is nan, but must be not nan! (in 'real_data.stan', line 81, column 2 to column 53) (in 'real_data.stan', line 175, column 2 to line 180, column 4)\n",
      "\tException: Exception: normal_lpdf: Random variable is nan, but must be not nan! (in 'real_data.stan', line 81, column 2 to column 53) (in 'real_data.stan', line 175, column 2 to line 180, column 4)\n",
      "Exception: Exception: normal_lpdf: Random variable is nan, but must be not nan! (in 'real_data.stan', line 81, column 2 to column 53) (in 'real_data.stan', line 175, column 2 to line 180, column 4)\n",
      "\tException: Exception: normal_lpdf: Random variable is nan, but must be not nan! (in 'real_data.stan', line 81, column 2 to column 53) (in 'real_data.stan', line 175, column 2 to line 180, column 4)\n",
      "Consider re-running with show_console=True if the above output is unclear!\n"
     ]
    },
    {
     "name": "stdout",
     "output_type": "stream",
     "text": [
      "\n"
     ]
    },
    {
     "name": "stderr",
     "output_type": "stream",
     "text": [
      "22:39:42 - cmdstanpy - WARNING - Some chains may have failed to converge.\n",
      "\tChain 1 had 2 divergent transitions (0.1%)\n",
      "\tChain 2 had 1 divergent transitions (0.1%)\n",
      "\tChain 3 had 2 divergent transitions (0.1%)\n",
      "\tChain 4 had 3 divergent transitions (0.1%)\n",
      "\tUse the \"diagnose()\" method on the CmdStanMCMC object to see further information.\n",
      "22:39:45 - cmdstanpy - INFO - CmdStan start processing\n"
     ]
    },
    {
     "name": "stdout",
     "output_type": "stream",
     "text": [
      "contest_2551 end\n",
      "contest_3507 begin\n"
     ]
    },
    {
     "data": {
      "application/vnd.jupyter.widget-view+json": {
       "model_id": "bb5db410fafe4e9ca88f77a2ce467957",
       "version_major": 2,
       "version_minor": 0
      },
      "text/plain": [
       "chain 1 |          | 00:00 Status"
      ]
     },
     "metadata": {},
     "output_type": "display_data"
    },
    {
     "data": {
      "application/vnd.jupyter.widget-view+json": {
       "model_id": "62c66daf2c4e4e28bbfeca683203fe23",
       "version_major": 2,
       "version_minor": 0
      },
      "text/plain": [
       "chain 2 |          | 00:00 Status"
      ]
     },
     "metadata": {},
     "output_type": "display_data"
    },
    {
     "data": {
      "application/vnd.jupyter.widget-view+json": {
       "model_id": "69b70bad4ca7471c9b764ba4e32d8731",
       "version_major": 2,
       "version_minor": 0
      },
      "text/plain": [
       "chain 3 |          | 00:00 Status"
      ]
     },
     "metadata": {},
     "output_type": "display_data"
    },
    {
     "data": {
      "application/vnd.jupyter.widget-view+json": {
       "model_id": "2935861a8b0940d08b334ac51f8ab13a",
       "version_major": 2,
       "version_minor": 0
      },
      "text/plain": [
       "chain 4 |          | 00:00 Status"
      ]
     },
     "metadata": {},
     "output_type": "display_data"
    },
    {
     "name": "stdout",
     "output_type": "stream",
     "text": [
      "                                                                                                                                                                                                                                                                                                                                "
     ]
    },
    {
     "name": "stderr",
     "output_type": "stream",
     "text": [
      "22:40:02 - cmdstanpy - INFO - CmdStan done processing.\n",
      "22:40:02 - cmdstanpy - WARNING - Non-fatal error during sampling:\n",
      "Exception: Exception: normal_lpdf: Random variable is nan, but must be not nan! (in 'real_data.stan', line 81, column 2 to column 53) (in 'real_data.stan', line 175, column 2 to line 180, column 4)\n",
      "\tException: Exception: normal_lpdf: Random variable is nan, but must be not nan! (in 'real_data.stan', line 81, column 2 to column 53) (in 'real_data.stan', line 175, column 2 to line 180, column 4)\n",
      "Exception: Exception: normal_lpdf: Random variable is nan, but must be not nan! (in 'real_data.stan', line 81, column 2 to column 53) (in 'real_data.stan', line 175, column 2 to line 180, column 4)\n",
      "\tException: Exception: normal_lpdf: Random variable is nan, but must be not nan! (in 'real_data.stan', line 81, column 2 to column 53) (in 'real_data.stan', line 175, column 2 to line 180, column 4)\n",
      "Exception: Exception: normal_lpdf: Random variable is nan, but must be not nan! (in 'real_data.stan', line 81, column 2 to column 53) (in 'real_data.stan', line 175, column 2 to line 180, column 4)\n",
      "\tException: Exception: normal_lpdf: Random variable is nan, but must be not nan! (in 'real_data.stan', line 81, column 2 to column 53) (in 'real_data.stan', line 175, column 2 to line 180, column 4)\n",
      "Consider re-running with show_console=True if the above output is unclear!\n"
     ]
    },
    {
     "name": "stdout",
     "output_type": "stream",
     "text": [
      "\n"
     ]
    },
    {
     "name": "stderr",
     "output_type": "stream",
     "text": [
      "22:40:02 - cmdstanpy - WARNING - Some chains may have failed to converge.\n",
      "\tChain 3 had 1 divergent transitions (0.1%)\n",
      "\tUse the \"diagnose()\" method on the CmdStanMCMC object to see further information.\n",
      "22:40:05 - cmdstanpy - INFO - CmdStan start processing\n"
     ]
    },
    {
     "name": "stdout",
     "output_type": "stream",
     "text": [
      "contest_3507 end\n",
      "contest_4104 begin\n"
     ]
    },
    {
     "data": {
      "application/vnd.jupyter.widget-view+json": {
       "model_id": "ac73b39ee21c42699242b1cb2b2f176c",
       "version_major": 2,
       "version_minor": 0
      },
      "text/plain": [
       "chain 1 |          | 00:00 Status"
      ]
     },
     "metadata": {},
     "output_type": "display_data"
    },
    {
     "data": {
      "application/vnd.jupyter.widget-view+json": {
       "model_id": "646436529fb24d8fa16ffa55857c5726",
       "version_major": 2,
       "version_minor": 0
      },
      "text/plain": [
       "chain 2 |          | 00:00 Status"
      ]
     },
     "metadata": {},
     "output_type": "display_data"
    },
    {
     "data": {
      "application/vnd.jupyter.widget-view+json": {
       "model_id": "a733faf9782f4783ac4e548afced9b7d",
       "version_major": 2,
       "version_minor": 0
      },
      "text/plain": [
       "chain 3 |          | 00:00 Status"
      ]
     },
     "metadata": {},
     "output_type": "display_data"
    },
    {
     "data": {
      "application/vnd.jupyter.widget-view+json": {
       "model_id": "c9c9e3b74bcf4156a37785016229c7d4",
       "version_major": 2,
       "version_minor": 0
      },
      "text/plain": [
       "chain 4 |          | 00:00 Status"
      ]
     },
     "metadata": {},
     "output_type": "display_data"
    },
    {
     "name": "stdout",
     "output_type": "stream",
     "text": [
      "                                                                                                                                                                                                                                                                                                                                "
     ]
    },
    {
     "name": "stderr",
     "output_type": "stream",
     "text": [
      "00:27:17 - cmdstanpy - INFO - CmdStan done processing.\n",
      "00:27:17 - cmdstanpy - WARNING - Non-fatal error during sampling:\n",
      "Exception: Exception: normal_lpdf: Random variable is nan, but must be not nan! (in 'real_data.stan', line 81, column 2 to column 53) (in 'real_data.stan', line 175, column 2 to line 180, column 4)\n",
      "\tException: Exception: normal_lpdf: Random variable is nan, but must be not nan! (in 'real_data.stan', line 81, column 2 to column 53) (in 'real_data.stan', line 175, column 2 to line 180, column 4)\n",
      "\tException: Exception: normal_lpdf: Random variable is nan, but must be not nan! (in 'real_data.stan', line 81, column 2 to column 53) (in 'real_data.stan', line 175, column 2 to line 180, column 4)\n",
      "\tException: Exception: normal_lpdf: Random variable is nan, but must be not nan! (in 'real_data.stan', line 81, column 2 to column 53) (in 'real_data.stan', line 175, column 2 to line 180, column 4)\n",
      "Exception: Exception: normal_lpdf: Random variable is nan, but must be not nan! (in 'real_data.stan', line 81, column 2 to column 53) (in 'real_data.stan', line 175, column 2 to line 180, column 4)\n",
      "\tException: Exception: normal_lpdf: Random variable is nan, but must be not nan! (in 'real_data.stan', line 81, column 2 to column 53) (in 'real_data.stan', line 175, column 2 to line 180, column 4)\n",
      "\tException: Exception: normal_lpdf: Random variable is nan, but must be not nan! (in 'real_data.stan', line 81, column 2 to column 53) (in 'real_data.stan', line 175, column 2 to line 180, column 4)\n",
      "\tException: Exception: normal_lpdf: Random variable is nan, but must be not nan! (in 'real_data.stan', line 81, column 2 to column 53) (in 'real_data.stan', line 175, column 2 to line 180, column 4)\n",
      "\tException: Exception: normal_lpdf: Random variable is nan, but must be not nan! (in 'real_data.stan', line 81, column 2 to column 53) (in 'real_data.stan', line 175, column 2 to line 180, column 4)\n",
      "Exception: Exception: normal_lpdf: Random variable is nan, but must be not nan! (in 'real_data.stan', line 81, column 2 to column 53) (in 'real_data.stan', line 175, column 2 to line 180, column 4)\n",
      "\tException: Exception: normal_lpdf: Random variable is nan, but must be not nan! (in 'real_data.stan', line 81, column 2 to column 53) (in 'real_data.stan', line 175, column 2 to line 180, column 4)\n",
      "\tException: Exception: normal_lpdf: Random variable is nan, but must be not nan! (in 'real_data.stan', line 81, column 2 to column 53) (in 'real_data.stan', line 175, column 2 to line 180, column 4)\n",
      "Exception: Exception: normal_lpdf: Random variable is nan, but must be not nan! (in 'real_data.stan', line 81, column 2 to column 53) (in 'real_data.stan', line 175, column 2 to line 180, column 4)\n",
      "\tException: Exception: normal_lpdf: Random variable is nan, but must be not nan! (in 'real_data.stan', line 81, column 2 to column 53) (in 'real_data.stan', line 175, column 2 to line 180, column 4)\n",
      "\tException: Exception: normal_lpdf: Random variable is nan, but must be not nan! (in 'real_data.stan', line 81, column 2 to column 53) (in 'real_data.stan', line 175, column 2 to line 180, column 4)\n",
      "\tException: Exception: normal_lpdf: Random variable is nan, but must be not nan! (in 'real_data.stan', line 81, column 2 to column 53) (in 'real_data.stan', line 175, column 2 to line 180, column 4)\n",
      "Consider re-running with show_console=True if the above output is unclear!\n"
     ]
    },
    {
     "name": "stdout",
     "output_type": "stream",
     "text": [
      "\n"
     ]
    },
    {
     "name": "stderr",
     "output_type": "stream",
     "text": [
      "00:27:20 - cmdstanpy - WARNING - Some chains may have failed to converge.\n",
      "\tChain 1 had 8 divergent transitions (0.4%)\n",
      "\tChain 1 had 1952 iterations at max treedepth (97.6%)\n",
      "\tChain 2 had 1 divergent transitions (0.1%)\n",
      "\tChain 2 had 1984 iterations at max treedepth (99.2%)\n",
      "\tChain 3 had 24 divergent transitions (1.2%)\n",
      "\tChain 3 had 1439 iterations at max treedepth (72.0%)\n",
      "\tChain 4 had 5 divergent transitions (0.2%)\n",
      "\tChain 4 had 1913 iterations at max treedepth (95.7%)\n",
      "\tUse the \"diagnose()\" method on the CmdStanMCMC object to see further information.\n",
      "00:27:35 - cmdstanpy - INFO - CmdStan start processing\n"
     ]
    },
    {
     "name": "stdout",
     "output_type": "stream",
     "text": [
      "contest_4104 end\n",
      "contest_38760 begin\n"
     ]
    },
    {
     "data": {
      "application/vnd.jupyter.widget-view+json": {
       "model_id": "f3f9aee1028e4675b666611e73a756b0",
       "version_major": 2,
       "version_minor": 0
      },
      "text/plain": [
       "chain 1 |          | 00:00 Status"
      ]
     },
     "metadata": {},
     "output_type": "display_data"
    },
    {
     "data": {
      "application/vnd.jupyter.widget-view+json": {
       "model_id": "49c00abe60e34b1f8b7226a15145a457",
       "version_major": 2,
       "version_minor": 0
      },
      "text/plain": [
       "chain 2 |          | 00:00 Status"
      ]
     },
     "metadata": {},
     "output_type": "display_data"
    },
    {
     "data": {
      "application/vnd.jupyter.widget-view+json": {
       "model_id": "71f5fffb9da943638a6c0cd7a8c3b0a3",
       "version_major": 2,
       "version_minor": 0
      },
      "text/plain": [
       "chain 3 |          | 00:00 Status"
      ]
     },
     "metadata": {},
     "output_type": "display_data"
    },
    {
     "data": {
      "application/vnd.jupyter.widget-view+json": {
       "model_id": "51756c4799b34a499791daad99e64792",
       "version_major": 2,
       "version_minor": 0
      },
      "text/plain": [
       "chain 4 |          | 00:00 Status"
      ]
     },
     "metadata": {},
     "output_type": "display_data"
    },
    {
     "name": "stdout",
     "output_type": "stream",
     "text": [
      "                                                                                                                                                                                                                                                                                                                                "
     ]
    },
    {
     "name": "stderr",
     "output_type": "stream",
     "text": [
      "02:06:13 - cmdstanpy - INFO - CmdStan done processing.\n",
      "02:06:13 - cmdstanpy - WARNING - Non-fatal error during sampling:\n",
      "Exception: Exception: normal_lpdf: Random variable is nan, but must be not nan! (in 'real_data.stan', line 81, column 2 to column 53) (in 'real_data.stan', line 175, column 2 to line 180, column 4)\n",
      "\tException: Exception: normal_lpdf: Random variable is nan, but must be not nan! (in 'real_data.stan', line 81, column 2 to column 53) (in 'real_data.stan', line 175, column 2 to line 180, column 4)\n",
      "\tException: Exception: normal_lpdf: Random variable is nan, but must be not nan! (in 'real_data.stan', line 81, column 2 to column 53) (in 'real_data.stan', line 175, column 2 to line 180, column 4)\n",
      "\tException: Exception: normal_lpdf: Random variable is nan, but must be not nan! (in 'real_data.stan', line 81, column 2 to column 53) (in 'real_data.stan', line 175, column 2 to line 180, column 4)\n",
      "Exception: Exception: normal_lpdf: Random variable is nan, but must be not nan! (in 'real_data.stan', line 81, column 2 to column 53) (in 'real_data.stan', line 175, column 2 to line 180, column 4)\n",
      "\tException: Exception: normal_lpdf: Random variable is nan, but must be not nan! (in 'real_data.stan', line 81, column 2 to column 53) (in 'real_data.stan', line 175, column 2 to line 180, column 4)\n",
      "\tException: Exception: normal_lpdf: Random variable is nan, but must be not nan! (in 'real_data.stan', line 81, column 2 to column 53) (in 'real_data.stan', line 175, column 2 to line 180, column 4)\n",
      "\tException: Exception: normal_lpdf: Random variable is nan, but must be not nan! (in 'real_data.stan', line 81, column 2 to column 53) (in 'real_data.stan', line 175, column 2 to line 180, column 4)\n",
      "Exception: Exception: normal_lpdf: Random variable is nan, but must be not nan! (in 'real_data.stan', line 81, column 2 to column 53) (in 'real_data.stan', line 175, column 2 to line 180, column 4)\n",
      "\tException: Exception: normal_lpdf: Random variable is nan, but must be not nan! (in 'real_data.stan', line 81, column 2 to column 53) (in 'real_data.stan', line 175, column 2 to line 180, column 4)\n",
      "\tException: Exception: normal_lpdf: Random variable is nan, but must be not nan! (in 'real_data.stan', line 81, column 2 to column 53) (in 'real_data.stan', line 175, column 2 to line 180, column 4)\n",
      "\tException: Exception: normal_lpdf: Random variable is nan, but must be not nan! (in 'real_data.stan', line 81, column 2 to column 53) (in 'real_data.stan', line 175, column 2 to line 180, column 4)\n",
      "\tException: Exception: normal_lpdf: Random variable is nan, but must be not nan! (in 'real_data.stan', line 81, column 2 to column 53) (in 'real_data.stan', line 175, column 2 to line 180, column 4)\n",
      "Exception: Exception: normal_lpdf: Random variable is nan, but must be not nan! (in 'real_data.stan', line 81, column 2 to column 53) (in 'real_data.stan', line 175, column 2 to line 180, column 4)\n",
      "\tException: Exception: normal_lpdf: Random variable is nan, but must be not nan! (in 'real_data.stan', line 81, column 2 to column 53) (in 'real_data.stan', line 175, column 2 to line 180, column 4)\n",
      "\tException: Exception: normal_lpdf: Random variable is nan, but must be not nan! (in 'real_data.stan', line 81, column 2 to column 53) (in 'real_data.stan', line 175, column 2 to line 180, column 4)\n",
      "\tException: Exception: normal_lpdf: Random variable is nan, but must be not nan! (in 'real_data.stan', line 81, column 2 to column 53) (in 'real_data.stan', line 175, column 2 to line 180, column 4)\n",
      "\tException: Exception: normal_lpdf: Random variable is nan, but must be not nan! (in 'real_data.stan', line 81, column 2 to column 53) (in 'real_data.stan', line 175, column 2 to line 180, column 4)\n",
      "Consider re-running with show_console=True if the above output is unclear!\n"
     ]
    },
    {
     "name": "stdout",
     "output_type": "stream",
     "text": [
      "\n"
     ]
    },
    {
     "name": "stderr",
     "output_type": "stream",
     "text": [
      "02:06:18 - cmdstanpy - WARNING - Some chains may have failed to converge.\n",
      "\tChain 1 had 63 divergent transitions (3.1%)\n",
      "\tChain 1 had 820 iterations at max treedepth (41.0%)\n",
      "\tChain 2 had 31 divergent transitions (1.6%)\n",
      "\tChain 2 had 1637 iterations at max treedepth (81.8%)\n",
      "\tChain 3 had 8 divergent transitions (0.4%)\n",
      "\tChain 3 had 1937 iterations at max treedepth (96.9%)\n",
      "\tChain 4 had 8 divergent transitions (0.4%)\n",
      "\tChain 4 had 1933 iterations at max treedepth (96.7%)\n",
      "\tUse the \"diagnose()\" method on the CmdStanMCMC object to see further information.\n"
     ]
    },
    {
     "name": "stdout",
     "output_type": "stream",
     "text": [
      "contest_38760 end\n"
     ]
    },
    {
     "name": "stderr",
     "output_type": "stream",
     "text": [
      "02:06:36 - cmdstanpy - INFO - CmdStan start processing\n"
     ]
    },
    {
     "name": "stdout",
     "output_type": "stream",
     "text": [
      "contest_4407 begin\n"
     ]
    },
    {
     "data": {
      "application/vnd.jupyter.widget-view+json": {
       "model_id": "cfa79f382066428faf62abf3a87e983d",
       "version_major": 2,
       "version_minor": 0
      },
      "text/plain": [
       "chain 1 |          | 00:00 Status"
      ]
     },
     "metadata": {},
     "output_type": "display_data"
    },
    {
     "data": {
      "application/vnd.jupyter.widget-view+json": {
       "model_id": "71cd9c43297a43fe9982978f227b83f8",
       "version_major": 2,
       "version_minor": 0
      },
      "text/plain": [
       "chain 2 |          | 00:00 Status"
      ]
     },
     "metadata": {},
     "output_type": "display_data"
    },
    {
     "data": {
      "application/vnd.jupyter.widget-view+json": {
       "model_id": "5a65f5e4f4274f8caf56b2f59535fd67",
       "version_major": 2,
       "version_minor": 0
      },
      "text/plain": [
       "chain 3 |          | 00:00 Status"
      ]
     },
     "metadata": {},
     "output_type": "display_data"
    },
    {
     "data": {
      "application/vnd.jupyter.widget-view+json": {
       "model_id": "5db9ca6b15504b28868a384eebc2b69a",
       "version_major": 2,
       "version_minor": 0
      },
      "text/plain": [
       "chain 4 |          | 00:00 Status"
      ]
     },
     "metadata": {},
     "output_type": "display_data"
    },
    {
     "name": "stdout",
     "output_type": "stream",
     "text": [
      "                                                                                                                                                                                                                                                                                                                                "
     ]
    },
    {
     "name": "stderr",
     "output_type": "stream",
     "text": [
      "02:11:36 - cmdstanpy - INFO - CmdStan done processing.\n",
      "02:11:36 - cmdstanpy - WARNING - Non-fatal error during sampling:\n",
      "Exception: Exception: normal_lpdf: Random variable is nan, but must be not nan! (in 'real_data.stan', line 81, column 2 to column 53) (in 'real_data.stan', line 175, column 2 to line 180, column 4)\n",
      "\tException: Exception: normal_lpdf: Random variable is nan, but must be not nan! (in 'real_data.stan', line 81, column 2 to column 53) (in 'real_data.stan', line 175, column 2 to line 180, column 4)\n",
      "Exception: Exception: normal_lpdf: Random variable is nan, but must be not nan! (in 'real_data.stan', line 81, column 2 to column 53) (in 'real_data.stan', line 175, column 2 to line 180, column 4)\n",
      "\tException: Exception: normal_lpdf: Random variable is nan, but must be not nan! (in 'real_data.stan', line 81, column 2 to column 53) (in 'real_data.stan', line 175, column 2 to line 180, column 4)\n",
      "Exception: Exception: normal_lpdf: Random variable is nan, but must be not nan! (in 'real_data.stan', line 81, column 2 to column 53) (in 'real_data.stan', line 175, column 2 to line 180, column 4)\n",
      "\tException: Exception: normal_lpdf: Random variable is nan, but must be not nan! (in 'real_data.stan', line 81, column 2 to column 53) (in 'real_data.stan', line 175, column 2 to line 180, column 4)\n",
      "\tException: Exception: normal_lpdf: Random variable is nan, but must be not nan! (in 'real_data.stan', line 81, column 2 to column 53) (in 'real_data.stan', line 175, column 2 to line 180, column 4)\n",
      "\tException: Exception: normal_lpdf: Random variable is nan, but must be not nan! (in 'real_data.stan', line 81, column 2 to column 53) (in 'real_data.stan', line 175, column 2 to line 180, column 4)\n",
      "Exception: Exception: normal_lpdf: Random variable is nan, but must be not nan! (in 'real_data.stan', line 81, column 2 to column 53) (in 'real_data.stan', line 175, column 2 to line 180, column 4)\n",
      "\tException: Exception: normal_lpdf: Random variable is nan, but must be not nan! (in 'real_data.stan', line 81, column 2 to column 53) (in 'real_data.stan', line 175, column 2 to line 180, column 4)\n",
      "\tException: Exception: normal_lpdf: Random variable is nan, but must be not nan! (in 'real_data.stan', line 81, column 2 to column 53) (in 'real_data.stan', line 175, column 2 to line 180, column 4)\n",
      "Consider re-running with show_console=True if the above output is unclear!\n"
     ]
    },
    {
     "name": "stdout",
     "output_type": "stream",
     "text": [
      "\n"
     ]
    },
    {
     "name": "stderr",
     "output_type": "stream",
     "text": [
      "02:11:37 - cmdstanpy - WARNING - Some chains may have failed to converge.\n",
      "\tChain 1 had 36 divergent transitions (1.8%)\n",
      "\tChain 2 had 28 divergent transitions (1.4%)\n",
      "\tChain 2 had 1 iterations at max treedepth (0.1%)\n",
      "\tChain 3 had 28 divergent transitions (1.4%)\n",
      "\tChain 4 had 31 divergent transitions (1.6%)\n",
      "\tChain 4 had 3 iterations at max treedepth (0.1%)\n",
      "\tUse the \"diagnose()\" method on the CmdStanMCMC object to see further information.\n",
      "02:11:41 - cmdstanpy - INFO - CmdStan start processing\n"
     ]
    },
    {
     "name": "stdout",
     "output_type": "stream",
     "text": [
      "contest_4407 end\n",
      "contest_5261 begin\n"
     ]
    },
    {
     "data": {
      "application/vnd.jupyter.widget-view+json": {
       "model_id": "1957ee8788484a65b2529c8f858e148e",
       "version_major": 2,
       "version_minor": 0
      },
      "text/plain": [
       "chain 1 |          | 00:00 Status"
      ]
     },
     "metadata": {},
     "output_type": "display_data"
    },
    {
     "data": {
      "application/vnd.jupyter.widget-view+json": {
       "model_id": "711e854e9b664c409a7f78c2f7b636f9",
       "version_major": 2,
       "version_minor": 0
      },
      "text/plain": [
       "chain 2 |          | 00:00 Status"
      ]
     },
     "metadata": {},
     "output_type": "display_data"
    },
    {
     "data": {
      "application/vnd.jupyter.widget-view+json": {
       "model_id": "7019c9b81eb94b5e9998f1106be678b7",
       "version_major": 2,
       "version_minor": 0
      },
      "text/plain": [
       "chain 3 |          | 00:00 Status"
      ]
     },
     "metadata": {},
     "output_type": "display_data"
    },
    {
     "data": {
      "application/vnd.jupyter.widget-view+json": {
       "model_id": "48f97ae13a7c4d22aa3cc191a637319e",
       "version_major": 2,
       "version_minor": 0
      },
      "text/plain": [
       "chain 4 |          | 00:00 Status"
      ]
     },
     "metadata": {},
     "output_type": "display_data"
    },
    {
     "name": "stdout",
     "output_type": "stream",
     "text": [
      "                                                                                                                                                                                                                                                                                                                                "
     ]
    },
    {
     "name": "stderr",
     "output_type": "stream",
     "text": [
      "02:12:41 - cmdstanpy - INFO - CmdStan done processing.\n",
      "02:12:41 - cmdstanpy - WARNING - Non-fatal error during sampling:\n",
      "Exception: Exception: normal_lpdf: Random variable is nan, but must be not nan! (in 'real_data.stan', line 81, column 2 to column 53) (in 'real_data.stan', line 175, column 2 to line 180, column 4)\n",
      "\tException: Exception: normal_lpdf: Random variable is nan, but must be not nan! (in 'real_data.stan', line 81, column 2 to column 53) (in 'real_data.stan', line 175, column 2 to line 180, column 4)\n",
      "\tException: Exception: normal_lpdf: Random variable is nan, but must be not nan! (in 'real_data.stan', line 81, column 2 to column 53) (in 'real_data.stan', line 175, column 2 to line 180, column 4)\n",
      "\tException: Exception: normal_lpdf: Random variable is nan, but must be not nan! (in 'real_data.stan', line 81, column 2 to column 53) (in 'real_data.stan', line 175, column 2 to line 180, column 4)\n",
      "\tException: Exception: normal_lpdf: Random variable is nan, but must be not nan! (in 'real_data.stan', line 81, column 2 to column 53) (in 'real_data.stan', line 175, column 2 to line 180, column 4)\n",
      "Exception: Exception: normal_lpdf: Random variable is nan, but must be not nan! (in 'real_data.stan', line 81, column 2 to column 53) (in 'real_data.stan', line 175, column 2 to line 180, column 4)\n",
      "\tException: Exception: normal_lpdf: Random variable is nan, but must be not nan! (in 'real_data.stan', line 81, column 2 to column 53) (in 'real_data.stan', line 175, column 2 to line 180, column 4)\n",
      "\tException: Exception: normal_lpdf: Random variable is nan, but must be not nan! (in 'real_data.stan', line 81, column 2 to column 53) (in 'real_data.stan', line 175, column 2 to line 180, column 4)\n",
      "\tException: Exception: normal_lpdf: Random variable is nan, but must be not nan! (in 'real_data.stan', line 81, column 2 to column 53) (in 'real_data.stan', line 175, column 2 to line 180, column 4)\n",
      "\tException: Exception: normal_lpdf: Random variable is nan, but must be not nan! (in 'real_data.stan', line 81, column 2 to column 53) (in 'real_data.stan', line 175, column 2 to line 180, column 4)\n",
      "\tException: Exception: normal_lpdf: Random variable is nan, but must be not nan! (in 'real_data.stan', line 81, column 2 to column 53) (in 'real_data.stan', line 175, column 2 to line 180, column 4)\n",
      "\tException: Exception: normal_lpdf: Random variable is nan, but must be not nan! (in 'real_data.stan', line 81, column 2 to column 53) (in 'real_data.stan', line 175, column 2 to line 180, column 4)\n",
      "Exception: Exception: normal_lpdf: Random variable is nan, but must be not nan! (in 'real_data.stan', line 81, column 2 to column 53) (in 'real_data.stan', line 175, column 2 to line 180, column 4)\n",
      "\tException: Exception: normal_lpdf: Random variable is nan, but must be not nan! (in 'real_data.stan', line 81, column 2 to column 53) (in 'real_data.stan', line 175, column 2 to line 180, column 4)\n",
      "\tException: Exception: normal_lpdf: Random variable is nan, but must be not nan! (in 'real_data.stan', line 81, column 2 to column 53) (in 'real_data.stan', line 175, column 2 to line 180, column 4)\n",
      "\tException: Exception: normal_lpdf: Random variable is nan, but must be not nan! (in 'real_data.stan', line 81, column 2 to column 53) (in 'real_data.stan', line 175, column 2 to line 180, column 4)\n",
      "\tException: Exception: normal_lpdf: Random variable is nan, but must be not nan! (in 'real_data.stan', line 81, column 2 to column 53) (in 'real_data.stan', line 175, column 2 to line 180, column 4)\n",
      "\tException: Exception: normal_lpdf: Random variable is nan, but must be not nan! (in 'real_data.stan', line 81, column 2 to column 53) (in 'real_data.stan', line 175, column 2 to line 180, column 4)\n",
      "Exception: Exception: normal_lpdf: Random variable is nan, but must be not nan! (in 'real_data.stan', line 81, column 2 to column 53) (in 'real_data.stan', line 175, column 2 to line 180, column 4)\n",
      "\tException: Exception: normal_lpdf: Random variable is nan, but must be not nan! (in 'real_data.stan', line 81, column 2 to column 53) (in 'real_data.stan', line 175, column 2 to line 180, column 4)\n",
      "\tException: Exception: normal_lpdf: Random variable is nan, but must be not nan! (in 'real_data.stan', line 81, column 2 to column 53) (in 'real_data.stan', line 175, column 2 to line 180, column 4)\n",
      "\tException: Exception: normal_lpdf: Random variable is nan, but must be not nan! (in 'real_data.stan', line 81, column 2 to column 53) (in 'real_data.stan', line 175, column 2 to line 180, column 4)\n",
      "\tException: Exception: normal_lpdf: Random variable is nan, but must be not nan! (in 'real_data.stan', line 81, column 2 to column 53) (in 'real_data.stan', line 175, column 2 to line 180, column 4)\n",
      "Consider re-running with show_console=True if the above output is unclear!\n"
     ]
    },
    {
     "name": "stdout",
     "output_type": "stream",
     "text": [
      "\n"
     ]
    },
    {
     "name": "stderr",
     "output_type": "stream",
     "text": [
      "02:12:43 - cmdstanpy - WARNING - Some chains may have failed to converge.\n",
      "\tChain 1 had 6 divergent transitions (0.3%)\n",
      "\tChain 2 had 7 divergent transitions (0.4%)\n",
      "\tChain 3 had 9 divergent transitions (0.4%)\n",
      "\tChain 4 had 3 divergent transitions (0.1%)\n",
      "\tUse the \"diagnose()\" method on the CmdStanMCMC object to see further information.\n",
      "02:12:49 - cmdstanpy - INFO - CmdStan start processing\n"
     ]
    },
    {
     "name": "stdout",
     "output_type": "stream",
     "text": [
      "contest_5261 end\n",
      "contest_6322 begin\n"
     ]
    },
    {
     "data": {
      "application/vnd.jupyter.widget-view+json": {
       "model_id": "82ad3d4bcc0c41e1b7ef911f36716846",
       "version_major": 2,
       "version_minor": 0
      },
      "text/plain": [
       "chain 1 |          | 00:00 Status"
      ]
     },
     "metadata": {},
     "output_type": "display_data"
    },
    {
     "data": {
      "application/vnd.jupyter.widget-view+json": {
       "model_id": "61cb5c1e89134b98912ab79873636d2b",
       "version_major": 2,
       "version_minor": 0
      },
      "text/plain": [
       "chain 2 |          | 00:00 Status"
      ]
     },
     "metadata": {},
     "output_type": "display_data"
    },
    {
     "data": {
      "application/vnd.jupyter.widget-view+json": {
       "model_id": "03b23ee2633b4cf9b0c6525324d51bc8",
       "version_major": 2,
       "version_minor": 0
      },
      "text/plain": [
       "chain 3 |          | 00:00 Status"
      ]
     },
     "metadata": {},
     "output_type": "display_data"
    },
    {
     "data": {
      "application/vnd.jupyter.widget-view+json": {
       "model_id": "cf56f5f71e5044a1a4bdf3ab3a87b433",
       "version_major": 2,
       "version_minor": 0
      },
      "text/plain": [
       "chain 4 |          | 00:00 Status"
      ]
     },
     "metadata": {},
     "output_type": "display_data"
    },
    {
     "name": "stdout",
     "output_type": "stream",
     "text": [
      "                                                                                                                                                                                                                                                                                                                                "
     ]
    },
    {
     "name": "stderr",
     "output_type": "stream",
     "text": [
      "02:50:37 - cmdstanpy - INFO - CmdStan done processing.\n",
      "02:50:37 - cmdstanpy - WARNING - Non-fatal error during sampling:\n",
      "Exception: Exception: normal_lpdf: Random variable is nan, but must be not nan! (in 'real_data.stan', line 81, column 2 to column 53) (in 'real_data.stan', line 175, column 2 to line 180, column 4)\n",
      "\tException: Exception: normal_lpdf: Random variable is nan, but must be not nan! (in 'real_data.stan', line 81, column 2 to column 53) (in 'real_data.stan', line 175, column 2 to line 180, column 4)\n",
      "\tException: Exception: normal_lpdf: Random variable is nan, but must be not nan! (in 'real_data.stan', line 81, column 2 to column 53) (in 'real_data.stan', line 175, column 2 to line 180, column 4)\n",
      "\tException: Exception: normal_lpdf: Random variable is nan, but must be not nan! (in 'real_data.stan', line 81, column 2 to column 53) (in 'real_data.stan', line 175, column 2 to line 180, column 4)\n",
      "Exception: Exception: normal_lpdf: Random variable is nan, but must be not nan! (in 'real_data.stan', line 81, column 2 to column 53) (in 'real_data.stan', line 175, column 2 to line 180, column 4)\n",
      "\tException: Exception: normal_lpdf: Random variable is nan, but must be not nan! (in 'real_data.stan', line 81, column 2 to column 53) (in 'real_data.stan', line 175, column 2 to line 180, column 4)\n",
      "\tException: Exception: normal_lpdf: Random variable is nan, but must be not nan! (in 'real_data.stan', line 81, column 2 to column 53) (in 'real_data.stan', line 175, column 2 to line 180, column 4)\n",
      "\tException: Exception: normal_lpdf: Random variable is nan, but must be not nan! (in 'real_data.stan', line 81, column 2 to column 53) (in 'real_data.stan', line 175, column 2 to line 180, column 4)\n",
      "Exception: Exception: normal_lpdf: Random variable is nan, but must be not nan! (in 'real_data.stan', line 81, column 2 to column 53) (in 'real_data.stan', line 175, column 2 to line 180, column 4)\n",
      "\tException: Exception: normal_lpdf: Random variable is nan, but must be not nan! (in 'real_data.stan', line 81, column 2 to column 53) (in 'real_data.stan', line 175, column 2 to line 180, column 4)\n",
      "\tException: Exception: normal_lpdf: Random variable is nan, but must be not nan! (in 'real_data.stan', line 81, column 2 to column 53) (in 'real_data.stan', line 175, column 2 to line 180, column 4)\n",
      "\tException: Exception: normal_lpdf: Random variable is nan, but must be not nan! (in 'real_data.stan', line 81, column 2 to column 53) (in 'real_data.stan', line 175, column 2 to line 180, column 4)\n",
      "\tException: Exception: normal_lpdf: Random variable is nan, but must be not nan! (in 'real_data.stan', line 81, column 2 to column 53) (in 'real_data.stan', line 175, column 2 to line 180, column 4)\n",
      "\tException: Exception: normal_lpdf: Random variable is nan, but must be not nan! (in 'real_data.stan', line 81, column 2 to column 53) (in 'real_data.stan', line 175, column 2 to line 180, column 4)\n",
      "Exception: Exception: normal_lpdf: Random variable is nan, but must be not nan! (in 'real_data.stan', line 81, column 2 to column 53) (in 'real_data.stan', line 175, column 2 to line 180, column 4)\n",
      "\tException: Exception: normal_lpdf: Random variable is nan, but must be not nan! (in 'real_data.stan', line 81, column 2 to column 53) (in 'real_data.stan', line 175, column 2 to line 180, column 4)\n",
      "\tException: Exception: normal_lpdf: Random variable is nan, but must be not nan! (in 'real_data.stan', line 81, column 2 to column 53) (in 'real_data.stan', line 175, column 2 to line 180, column 4)\n",
      "\tException: Exception: normal_lpdf: Random variable is nan, but must be not nan! (in 'real_data.stan', line 81, column 2 to column 53) (in 'real_data.stan', line 175, column 2 to line 180, column 4)\n",
      "Consider re-running with show_console=True if the above output is unclear!\n"
     ]
    },
    {
     "name": "stdout",
     "output_type": "stream",
     "text": [
      "\n"
     ]
    },
    {
     "name": "stderr",
     "output_type": "stream",
     "text": [
      "02:50:39 - cmdstanpy - WARNING - Some chains may have failed to converge.\n",
      "\tChain 1 had 22 divergent transitions (1.1%)\n",
      "\tChain 1 had 1832 iterations at max treedepth (91.6%)\n",
      "\tChain 2 had 43 divergent transitions (2.1%)\n",
      "\tChain 2 had 1454 iterations at max treedepth (72.7%)\n",
      "\tChain 3 had 13 divergent transitions (0.7%)\n",
      "\tChain 3 had 1871 iterations at max treedepth (93.5%)\n",
      "\tChain 4 had 77 divergent transitions (3.9%)\n",
      "\tChain 4 had 307 iterations at max treedepth (15.3%)\n",
      "\tUse the \"diagnose()\" method on the CmdStanMCMC object to see further information.\n",
      "02:50:46 - cmdstanpy - INFO - CmdStan start processing\n"
     ]
    },
    {
     "name": "stdout",
     "output_type": "stream",
     "text": [
      "contest_6322 end\n",
      "contest_8078 begin\n"
     ]
    },
    {
     "data": {
      "application/vnd.jupyter.widget-view+json": {
       "model_id": "459bb0b255d249fd9adcca6db7944565",
       "version_major": 2,
       "version_minor": 0
      },
      "text/plain": [
       "chain 1 |          | 00:00 Status"
      ]
     },
     "metadata": {},
     "output_type": "display_data"
    },
    {
     "data": {
      "application/vnd.jupyter.widget-view+json": {
       "model_id": "8a36917ffb8f445094b653292d55bf91",
       "version_major": 2,
       "version_minor": 0
      },
      "text/plain": [
       "chain 2 |          | 00:00 Status"
      ]
     },
     "metadata": {},
     "output_type": "display_data"
    },
    {
     "data": {
      "application/vnd.jupyter.widget-view+json": {
       "model_id": "1d6cf0d0cada472d910e06f4ed7fd5f9",
       "version_major": 2,
       "version_minor": 0
      },
      "text/plain": [
       "chain 3 |          | 00:00 Status"
      ]
     },
     "metadata": {},
     "output_type": "display_data"
    },
    {
     "data": {
      "application/vnd.jupyter.widget-view+json": {
       "model_id": "da20fa9f4258434288c57836ae3f97c2",
       "version_major": 2,
       "version_minor": 0
      },
      "text/plain": [
       "chain 4 |          | 00:00 Status"
      ]
     },
     "metadata": {},
     "output_type": "display_data"
    },
    {
     "name": "stdout",
     "output_type": "stream",
     "text": [
      "                                                                                                                                                                                                                                                                                                                                "
     ]
    },
    {
     "name": "stderr",
     "output_type": "stream",
     "text": [
      "02:51:31 - cmdstanpy - INFO - CmdStan done processing.\n",
      "02:51:31 - cmdstanpy - WARNING - Non-fatal error during sampling:\n",
      "Exception: Exception: normal_lpdf: Random variable is nan, but must be not nan! (in 'real_data.stan', line 81, column 2 to column 53) (in 'real_data.stan', line 175, column 2 to line 180, column 4)\n",
      "\tException: Exception: normal_lpdf: Random variable is nan, but must be not nan! (in 'real_data.stan', line 81, column 2 to column 53) (in 'real_data.stan', line 175, column 2 to line 180, column 4)\n",
      "\tException: Exception: normal_lpdf: Random variable is nan, but must be not nan! (in 'real_data.stan', line 81, column 2 to column 53) (in 'real_data.stan', line 175, column 2 to line 180, column 4)\n",
      "\tException: Exception: normal_lpdf: Random variable is nan, but must be not nan! (in 'real_data.stan', line 81, column 2 to column 53) (in 'real_data.stan', line 175, column 2 to line 180, column 4)\n",
      "\tException: Exception: normal_lpdf: Random variable is nan, but must be not nan! (in 'real_data.stan', line 81, column 2 to column 53) (in 'real_data.stan', line 175, column 2 to line 180, column 4)\n",
      "Exception: Exception: normal_lpdf: Random variable is nan, but must be not nan! (in 'real_data.stan', line 81, column 2 to column 53) (in 'real_data.stan', line 175, column 2 to line 180, column 4)\n",
      "Exception: Exception: normal_lpdf: Random variable is nan, but must be not nan! (in 'real_data.stan', line 81, column 2 to column 53) (in 'real_data.stan', line 175, column 2 to line 180, column 4)\n",
      "\tException: Exception: normal_lpdf: Random variable is nan, but must be not nan! (in 'real_data.stan', line 81, column 2 to column 53) (in 'real_data.stan', line 175, column 2 to line 180, column 4)\n",
      "\tException: Exception: normal_lpdf: Random variable is nan, but must be not nan! (in 'real_data.stan', line 81, column 2 to column 53) (in 'real_data.stan', line 175, column 2 to line 180, column 4)\n",
      "\tException: Exception: normal_lpdf: Random variable is nan, but must be not nan! (in 'real_data.stan', line 81, column 2 to column 53) (in 'real_data.stan', line 175, column 2 to line 180, column 4)\n",
      "Exception: Exception: normal_lpdf: Random variable is nan, but must be not nan! (in 'real_data.stan', line 81, column 2 to column 53) (in 'real_data.stan', line 175, column 2 to line 180, column 4)\n",
      "\tException: Exception: normal_lpdf: Random variable is nan, but must be not nan! (in 'real_data.stan', line 81, column 2 to column 53) (in 'real_data.stan', line 175, column 2 to line 180, column 4)\n",
      "\tException: Exception: normal_lpdf: Random variable is nan, but must be not nan! (in 'real_data.stan', line 81, column 2 to column 53) (in 'real_data.stan', line 175, column 2 to line 180, column 4)\n",
      "\tException: Exception: normal_lpdf: Random variable is nan, but must be not nan! (in 'real_data.stan', line 81, column 2 to column 53) (in 'real_data.stan', line 175, column 2 to line 180, column 4)\n",
      "Consider re-running with show_console=True if the above output is unclear!\n"
     ]
    },
    {
     "name": "stdout",
     "output_type": "stream",
     "text": [
      "\n"
     ]
    },
    {
     "name": "stderr",
     "output_type": "stream",
     "text": [
      "02:51:40 - cmdstanpy - INFO - CmdStan start processing\n"
     ]
    },
    {
     "name": "stdout",
     "output_type": "stream",
     "text": [
      "contest_8078 end\n",
      "contest_23249 begin\n"
     ]
    },
    {
     "data": {
      "application/vnd.jupyter.widget-view+json": {
       "model_id": "57c0657cbd574317b84939d746e2f995",
       "version_major": 2,
       "version_minor": 0
      },
      "text/plain": [
       "chain 1 |          | 00:00 Status"
      ]
     },
     "metadata": {},
     "output_type": "display_data"
    },
    {
     "data": {
      "application/vnd.jupyter.widget-view+json": {
       "model_id": "3448b89e603e4b40bc66d2e57eb8a321",
       "version_major": 2,
       "version_minor": 0
      },
      "text/plain": [
       "chain 2 |          | 00:00 Status"
      ]
     },
     "metadata": {},
     "output_type": "display_data"
    },
    {
     "data": {
      "application/vnd.jupyter.widget-view+json": {
       "model_id": "f0a6c1f47ff740e9b60d312b7816638c",
       "version_major": 2,
       "version_minor": 0
      },
      "text/plain": [
       "chain 3 |          | 00:00 Status"
      ]
     },
     "metadata": {},
     "output_type": "display_data"
    },
    {
     "data": {
      "application/vnd.jupyter.widget-view+json": {
       "model_id": "64ae88c6fa524dfe916d33d37486f7d9",
       "version_major": 2,
       "version_minor": 0
      },
      "text/plain": [
       "chain 4 |          | 00:00 Status"
      ]
     },
     "metadata": {},
     "output_type": "display_data"
    },
    {
     "name": "stdout",
     "output_type": "stream",
     "text": [
      "                                                                                                                                                                                                                                                                                                                                "
     ]
    },
    {
     "name": "stderr",
     "output_type": "stream",
     "text": [
      "03:20:53 - cmdstanpy - INFO - CmdStan done processing.\n",
      "03:20:53 - cmdstanpy - WARNING - Non-fatal error during sampling:\n",
      "Exception: Exception: normal_lpdf: Random variable is nan, but must be not nan! (in 'real_data.stan', line 81, column 2 to column 53) (in 'real_data.stan', line 175, column 2 to line 180, column 4)\n",
      "\tException: Exception: normal_lpdf: Random variable is nan, but must be not nan! (in 'real_data.stan', line 81, column 2 to column 53) (in 'real_data.stan', line 175, column 2 to line 180, column 4)\n",
      "\tException: Exception: normal_lpdf: Random variable is nan, but must be not nan! (in 'real_data.stan', line 81, column 2 to column 53) (in 'real_data.stan', line 175, column 2 to line 180, column 4)\n",
      "\tException: Exception: normal_lpdf: Random variable is nan, but must be not nan! (in 'real_data.stan', line 81, column 2 to column 53) (in 'real_data.stan', line 175, column 2 to line 180, column 4)\n",
      "\tException: Exception: normal_lpdf: Random variable is nan, but must be not nan! (in 'real_data.stan', line 81, column 2 to column 53) (in 'real_data.stan', line 175, column 2 to line 180, column 4)\n",
      "Exception: Exception: normal_lpdf: Random variable is nan, but must be not nan! (in 'real_data.stan', line 81, column 2 to column 53) (in 'real_data.stan', line 175, column 2 to line 180, column 4)\n",
      "\tException: Exception: normal_lpdf: Random variable is nan, but must be not nan! (in 'real_data.stan', line 81, column 2 to column 53) (in 'real_data.stan', line 175, column 2 to line 180, column 4)\n",
      "\tException: Exception: normal_lpdf: Random variable is nan, but must be not nan! (in 'real_data.stan', line 81, column 2 to column 53) (in 'real_data.stan', line 175, column 2 to line 180, column 4)\n",
      "\tException: Exception: normal_lpdf: Random variable is nan, but must be not nan! (in 'real_data.stan', line 81, column 2 to column 53) (in 'real_data.stan', line 175, column 2 to line 180, column 4)\n",
      "\tException: Exception: normal_lpdf: Random variable is nan, but must be not nan! (in 'real_data.stan', line 81, column 2 to column 53) (in 'real_data.stan', line 175, column 2 to line 180, column 4)\n",
      "Exception: Exception: normal_lpdf: Random variable is nan, but must be not nan! (in 'real_data.stan', line 81, column 2 to column 53) (in 'real_data.stan', line 175, column 2 to line 180, column 4)\n",
      "\tException: Exception: normal_lpdf: Random variable is nan, but must be not nan! (in 'real_data.stan', line 81, column 2 to column 53) (in 'real_data.stan', line 175, column 2 to line 180, column 4)\n",
      "\tException: Exception: normal_lpdf: Random variable is nan, but must be not nan! (in 'real_data.stan', line 81, column 2 to column 53) (in 'real_data.stan', line 175, column 2 to line 180, column 4)\n",
      "\tException: Exception: normal_lpdf: Random variable is nan, but must be not nan! (in 'real_data.stan', line 81, column 2 to column 53) (in 'real_data.stan', line 175, column 2 to line 180, column 4)\n",
      "Exception: Exception: normal_lpdf: Random variable is nan, but must be not nan! (in 'real_data.stan', line 81, column 2 to column 53) (in 'real_data.stan', line 175, column 2 to line 180, column 4)\n",
      "\tException: Exception: normal_lpdf: Random variable is nan, but must be not nan! (in 'real_data.stan', line 81, column 2 to column 53) (in 'real_data.stan', line 175, column 2 to line 180, column 4)\n",
      "\tException: Exception: normal_lpdf: Random variable is nan, but must be not nan! (in 'real_data.stan', line 81, column 2 to column 53) (in 'real_data.stan', line 175, column 2 to line 180, column 4)\n",
      "\tException: Exception: normal_lpdf: Random variable is nan, but must be not nan! (in 'real_data.stan', line 81, column 2 to column 53) (in 'real_data.stan', line 175, column 2 to line 180, column 4)\n",
      "Consider re-running with show_console=True if the above output is unclear!\n"
     ]
    },
    {
     "name": "stdout",
     "output_type": "stream",
     "text": [
      "\n"
     ]
    },
    {
     "name": "stderr",
     "output_type": "stream",
     "text": [
      "03:20:58 - cmdstanpy - WARNING - Some chains may have failed to converge.\n",
      "\tChain 1 had 75 divergent transitions (3.8%)\n",
      "\tChain 2 had 107 divergent transitions (5.3%)\n",
      "\tChain 3 had 90 divergent transitions (4.5%)\n",
      "\tChain 3 had 2 iterations at max treedepth (0.1%)\n",
      "\tChain 4 had 68 divergent transitions (3.4%)\n",
      "\tChain 4 had 1 iterations at max treedepth (0.1%)\n",
      "\tUse the \"diagnose()\" method on the CmdStanMCMC object to see further information.\n",
      "03:21:20 - cmdstanpy - INFO - CmdStan start processing\n"
     ]
    },
    {
     "name": "stdout",
     "output_type": "stream",
     "text": [
      "contest_23249 end\n",
      "contest_2435 begin\n"
     ]
    },
    {
     "data": {
      "application/vnd.jupyter.widget-view+json": {
       "model_id": "869394cdf3574718a080642db6625713",
       "version_major": 2,
       "version_minor": 0
      },
      "text/plain": [
       "chain 1 |          | 00:00 Status"
      ]
     },
     "metadata": {},
     "output_type": "display_data"
    },
    {
     "data": {
      "application/vnd.jupyter.widget-view+json": {
       "model_id": "badf226589ab4bf594a335a660bb930a",
       "version_major": 2,
       "version_minor": 0
      },
      "text/plain": [
       "chain 2 |          | 00:00 Status"
      ]
     },
     "metadata": {},
     "output_type": "display_data"
    },
    {
     "data": {
      "application/vnd.jupyter.widget-view+json": {
       "model_id": "1bd8473a77324868a80577da7e0090f4",
       "version_major": 2,
       "version_minor": 0
      },
      "text/plain": [
       "chain 3 |          | 00:00 Status"
      ]
     },
     "metadata": {},
     "output_type": "display_data"
    },
    {
     "data": {
      "application/vnd.jupyter.widget-view+json": {
       "model_id": "fdb8a0cbc5b34fdab373f25dd35d1d57",
       "version_major": 2,
       "version_minor": 0
      },
      "text/plain": [
       "chain 4 |          | 00:00 Status"
      ]
     },
     "metadata": {},
     "output_type": "display_data"
    },
    {
     "name": "stdout",
     "output_type": "stream",
     "text": [
      "                                                                                                                                                                                                                                                                                                                                "
     ]
    },
    {
     "name": "stderr",
     "output_type": "stream",
     "text": [
      "03:21:58 - cmdstanpy - INFO - CmdStan done processing.\n",
      "03:21:58 - cmdstanpy - WARNING - Non-fatal error during sampling:\n",
      "Exception: Exception: normal_lpdf: Random variable is nan, but must be not nan! (in 'real_data.stan', line 81, column 2 to column 53) (in 'real_data.stan', line 175, column 2 to line 180, column 4)\n",
      "\tException: Exception: normal_lpdf: Random variable is nan, but must be not nan! (in 'real_data.stan', line 81, column 2 to column 53) (in 'real_data.stan', line 175, column 2 to line 180, column 4)\n",
      "Exception: Exception: normal_lpdf: Random variable is nan, but must be not nan! (in 'real_data.stan', line 81, column 2 to column 53) (in 'real_data.stan', line 175, column 2 to line 180, column 4)\n",
      "\tException: Exception: normal_lpdf: Random variable is nan, but must be not nan! (in 'real_data.stan', line 81, column 2 to column 53) (in 'real_data.stan', line 175, column 2 to line 180, column 4)\n",
      "Exception: Exception: normal_lpdf: Random variable is nan, but must be not nan! (in 'real_data.stan', line 81, column 2 to column 53) (in 'real_data.stan', line 175, column 2 to line 180, column 4)\n",
      "\tException: Exception: normal_lpdf: Random variable is nan, but must be not nan! (in 'real_data.stan', line 81, column 2 to column 53) (in 'real_data.stan', line 175, column 2 to line 180, column 4)\n",
      "Exception: Exception: normal_lpdf: Random variable is nan, but must be not nan! (in 'real_data.stan', line 81, column 2 to column 53) (in 'real_data.stan', line 175, column 2 to line 180, column 4)\n",
      "\tException: Exception: normal_lpdf: Random variable is nan, but must be not nan! (in 'real_data.stan', line 81, column 2 to column 53) (in 'real_data.stan', line 175, column 2 to line 180, column 4)\n",
      "Consider re-running with show_console=True if the above output is unclear!\n"
     ]
    },
    {
     "name": "stdout",
     "output_type": "stream",
     "text": [
      "\n"
     ]
    },
    {
     "name": "stderr",
     "output_type": "stream",
     "text": [
      "03:22:05 - cmdstanpy - INFO - CmdStan start processing\n"
     ]
    },
    {
     "name": "stdout",
     "output_type": "stream",
     "text": [
      "contest_2435 end\n",
      "contest_7162 begin\n"
     ]
    },
    {
     "data": {
      "application/vnd.jupyter.widget-view+json": {
       "model_id": "89da363fb27b421b9966551288ac248d",
       "version_major": 2,
       "version_minor": 0
      },
      "text/plain": [
       "chain 1 |          | 00:00 Status"
      ]
     },
     "metadata": {},
     "output_type": "display_data"
    },
    {
     "data": {
      "application/vnd.jupyter.widget-view+json": {
       "model_id": "f9b29b1607be4f559ab6bd316d2a13dc",
       "version_major": 2,
       "version_minor": 0
      },
      "text/plain": [
       "chain 2 |          | 00:00 Status"
      ]
     },
     "metadata": {},
     "output_type": "display_data"
    },
    {
     "data": {
      "application/vnd.jupyter.widget-view+json": {
       "model_id": "80fc6ed2c2a74abaa53a41cb23ab6635",
       "version_major": 2,
       "version_minor": 0
      },
      "text/plain": [
       "chain 3 |          | 00:00 Status"
      ]
     },
     "metadata": {},
     "output_type": "display_data"
    },
    {
     "data": {
      "application/vnd.jupyter.widget-view+json": {
       "model_id": "f575d1a062354fb481e522b994f86255",
       "version_major": 2,
       "version_minor": 0
      },
      "text/plain": [
       "chain 4 |          | 00:00 Status"
      ]
     },
     "metadata": {},
     "output_type": "display_data"
    },
    {
     "name": "stdout",
     "output_type": "stream",
     "text": [
      "                                                                                                                                                                                                                                                                                                                                "
     ]
    },
    {
     "name": "stderr",
     "output_type": "stream",
     "text": [
      "03:23:00 - cmdstanpy - INFO - CmdStan done processing.\n",
      "03:23:00 - cmdstanpy - WARNING - Non-fatal error during sampling:\n",
      "Exception: Exception: normal_lpdf: Random variable is nan, but must be not nan! (in 'real_data.stan', line 81, column 2 to column 53) (in 'real_data.stan', line 175, column 2 to line 180, column 4)\n",
      "\tException: Exception: normal_lpdf: Random variable is nan, but must be not nan! (in 'real_data.stan', line 81, column 2 to column 53) (in 'real_data.stan', line 175, column 2 to line 180, column 4)\n",
      "\tException: Exception: normal_lpdf: Random variable is nan, but must be not nan! (in 'real_data.stan', line 81, column 2 to column 53) (in 'real_data.stan', line 175, column 2 to line 180, column 4)\n",
      "Exception: Exception: normal_lpdf: Random variable is nan, but must be not nan! (in 'real_data.stan', line 81, column 2 to column 53) (in 'real_data.stan', line 175, column 2 to line 180, column 4)\n",
      "\tException: Exception: normal_lpdf: Random variable is nan, but must be not nan! (in 'real_data.stan', line 81, column 2 to column 53) (in 'real_data.stan', line 175, column 2 to line 180, column 4)\n",
      "Exception: Exception: normal_lpdf: Random variable is nan, but must be not nan! (in 'real_data.stan', line 81, column 2 to column 53) (in 'real_data.stan', line 175, column 2 to line 180, column 4)\n",
      "\tException: Exception: normal_lpdf: Random variable is nan, but must be not nan! (in 'real_data.stan', line 81, column 2 to column 53) (in 'real_data.stan', line 175, column 2 to line 180, column 4)\n",
      "\tException: Exception: normal_lpdf: Random variable is nan, but must be not nan! (in 'real_data.stan', line 81, column 2 to column 53) (in 'real_data.stan', line 175, column 2 to line 180, column 4)\n",
      "\tException: Exception: normal_lpdf: Random variable is nan, but must be not nan! (in 'real_data.stan', line 81, column 2 to column 53) (in 'real_data.stan', line 175, column 2 to line 180, column 4)\n",
      "Exception: Exception: normal_lpdf: Random variable is nan, but must be not nan! (in 'real_data.stan', line 81, column 2 to column 53) (in 'real_data.stan', line 175, column 2 to line 180, column 4)\n",
      "\tException: Exception: normal_lpdf: Random variable is nan, but must be not nan! (in 'real_data.stan', line 81, column 2 to column 53) (in 'real_data.stan', line 175, column 2 to line 180, column 4)\n",
      "\tException: Exception: normal_lpdf: Random variable is nan, but must be not nan! (in 'real_data.stan', line 81, column 2 to column 53) (in 'real_data.stan', line 175, column 2 to line 180, column 4)\n",
      "\tException: Exception: normal_lpdf: Random variable is nan, but must be not nan! (in 'real_data.stan', line 81, column 2 to column 53) (in 'real_data.stan', line 175, column 2 to line 180, column 4)\n",
      "Consider re-running with show_console=True if the above output is unclear!\n"
     ]
    },
    {
     "name": "stdout",
     "output_type": "stream",
     "text": [
      "\n"
     ]
    },
    {
     "name": "stderr",
     "output_type": "stream",
     "text": [
      "03:23:02 - cmdstanpy - WARNING - Some chains may have failed to converge.\n",
      "\tChain 2 had 1 divergent transitions (0.1%)\n",
      "\tChain 3 had 2 divergent transitions (0.1%)\n",
      "\tUse the \"diagnose()\" method on the CmdStanMCMC object to see further information.\n",
      "03:23:10 - cmdstanpy - INFO - CmdStan start processing\n"
     ]
    },
    {
     "name": "stdout",
     "output_type": "stream",
     "text": [
      "contest_7162 end\n",
      "contest_4488 begin\n"
     ]
    },
    {
     "data": {
      "application/vnd.jupyter.widget-view+json": {
       "model_id": "bb527c432b684445b024f43480b7a76a",
       "version_major": 2,
       "version_minor": 0
      },
      "text/plain": [
       "chain 1 |          | 00:00 Status"
      ]
     },
     "metadata": {},
     "output_type": "display_data"
    },
    {
     "data": {
      "application/vnd.jupyter.widget-view+json": {
       "model_id": "668f85f509e94b04a23a2084b6860ab7",
       "version_major": 2,
       "version_minor": 0
      },
      "text/plain": [
       "chain 2 |          | 00:00 Status"
      ]
     },
     "metadata": {},
     "output_type": "display_data"
    },
    {
     "data": {
      "application/vnd.jupyter.widget-view+json": {
       "model_id": "2aa2f95d6a7e410c9224f9de246d540a",
       "version_major": 2,
       "version_minor": 0
      },
      "text/plain": [
       "chain 3 |          | 00:00 Status"
      ]
     },
     "metadata": {},
     "output_type": "display_data"
    },
    {
     "data": {
      "application/vnd.jupyter.widget-view+json": {
       "model_id": "48b83137e4694630b9c7c2eb844eb199",
       "version_major": 2,
       "version_minor": 0
      },
      "text/plain": [
       "chain 4 |          | 00:00 Status"
      ]
     },
     "metadata": {},
     "output_type": "display_data"
    },
    {
     "name": "stdout",
     "output_type": "stream",
     "text": [
      "                                                                                                                                                                                                                                                                                                                                "
     ]
    },
    {
     "name": "stderr",
     "output_type": "stream",
     "text": [
      "03:23:35 - cmdstanpy - INFO - CmdStan done processing.\n",
      "03:23:35 - cmdstanpy - WARNING - Non-fatal error during sampling:\n",
      "Exception: Exception: normal_lpdf: Random variable is nan, but must be not nan! (in 'real_data.stan', line 81, column 2 to column 53) (in 'real_data.stan', line 175, column 2 to line 180, column 4)\n",
      "\tException: Exception: normal_lpdf: Random variable is nan, but must be not nan! (in 'real_data.stan', line 81, column 2 to column 53) (in 'real_data.stan', line 175, column 2 to line 180, column 4)\n",
      "\tException: Exception: normal_lpdf: Random variable is nan, but must be not nan! (in 'real_data.stan', line 81, column 2 to column 53) (in 'real_data.stan', line 175, column 2 to line 180, column 4)\n",
      "Exception: Exception: normal_lpdf: Random variable is nan, but must be not nan! (in 'real_data.stan', line 81, column 2 to column 53) (in 'real_data.stan', line 175, column 2 to line 180, column 4)\n",
      "Exception: Exception: normal_lpdf: Random variable is nan, but must be not nan! (in 'real_data.stan', line 81, column 2 to column 53) (in 'real_data.stan', line 175, column 2 to line 180, column 4)\n",
      "\tException: Exception: normal_lpdf: Random variable is nan, but must be not nan! (in 'real_data.stan', line 81, column 2 to column 53) (in 'real_data.stan', line 175, column 2 to line 180, column 4)\n",
      "Exception: Exception: normal_lpdf: Random variable is nan, but must be not nan! (in 'real_data.stan', line 81, column 2 to column 53) (in 'real_data.stan', line 175, column 2 to line 180, column 4)\n",
      "\tException: Exception: normal_lpdf: Random variable is nan, but must be not nan! (in 'real_data.stan', line 81, column 2 to column 53) (in 'real_data.stan', line 175, column 2 to line 180, column 4)\n",
      "\tException: Exception: normal_lpdf: Random variable is nan, but must be not nan! (in 'real_data.stan', line 81, column 2 to column 53) (in 'real_data.stan', line 175, column 2 to line 180, column 4)\n",
      "\tException: Exception: normal_lpdf: Random variable is nan, but must be not nan! (in 'real_data.stan', line 81, column 2 to column 53) (in 'real_data.stan', line 175, column 2 to line 180, column 4)\n",
      "Consider re-running with show_console=True if the above output is unclear!\n"
     ]
    },
    {
     "name": "stdout",
     "output_type": "stream",
     "text": [
      "\n"
     ]
    },
    {
     "name": "stderr",
     "output_type": "stream",
     "text": [
      "03:23:40 - cmdstanpy - INFO - CmdStan start processing\n"
     ]
    },
    {
     "name": "stdout",
     "output_type": "stream",
     "text": [
      "contest_4488 end\n",
      "contest_3526 begin\n"
     ]
    },
    {
     "data": {
      "application/vnd.jupyter.widget-view+json": {
       "model_id": "b143d790fd404faeac4a722e85272aa4",
       "version_major": 2,
       "version_minor": 0
      },
      "text/plain": [
       "chain 1 |          | 00:00 Status"
      ]
     },
     "metadata": {},
     "output_type": "display_data"
    },
    {
     "data": {
      "application/vnd.jupyter.widget-view+json": {
       "model_id": "24025eea861540c48126912c1e8e3886",
       "version_major": 2,
       "version_minor": 0
      },
      "text/plain": [
       "chain 2 |          | 00:00 Status"
      ]
     },
     "metadata": {},
     "output_type": "display_data"
    },
    {
     "data": {
      "application/vnd.jupyter.widget-view+json": {
       "model_id": "eb337e57678a47cc814c6000c4607e3e",
       "version_major": 2,
       "version_minor": 0
      },
      "text/plain": [
       "chain 3 |          | 00:00 Status"
      ]
     },
     "metadata": {},
     "output_type": "display_data"
    },
    {
     "data": {
      "application/vnd.jupyter.widget-view+json": {
       "model_id": "eb292c8bb72b45569bc5bae68d4cc393",
       "version_major": 2,
       "version_minor": 0
      },
      "text/plain": [
       "chain 4 |          | 00:00 Status"
      ]
     },
     "metadata": {},
     "output_type": "display_data"
    },
    {
     "name": "stdout",
     "output_type": "stream",
     "text": [
      "                                                                                                                                                                                                                                                                                                                                "
     ]
    },
    {
     "name": "stderr",
     "output_type": "stream",
     "text": [
      "03:27:33 - cmdstanpy - INFO - CmdStan done processing.\n",
      "03:27:33 - cmdstanpy - WARNING - Non-fatal error during sampling:\n",
      "Exception: Exception: normal_lpdf: Random variable is nan, but must be not nan! (in 'real_data.stan', line 81, column 2 to column 53) (in 'real_data.stan', line 175, column 2 to line 180, column 4)\n",
      "\tException: Exception: normal_lpdf: Random variable is nan, but must be not nan! (in 'real_data.stan', line 81, column 2 to column 53) (in 'real_data.stan', line 175, column 2 to line 180, column 4)\n",
      "\tException: Exception: normal_lpdf: Random variable is nan, but must be not nan! (in 'real_data.stan', line 81, column 2 to column 53) (in 'real_data.stan', line 175, column 2 to line 180, column 4)\n",
      "Exception: Exception: normal_lpdf: Random variable is nan, but must be not nan! (in 'real_data.stan', line 81, column 2 to column 53) (in 'real_data.stan', line 175, column 2 to line 180, column 4)\n",
      "\tException: Exception: normal_lpdf: Random variable is nan, but must be not nan! (in 'real_data.stan', line 81, column 2 to column 53) (in 'real_data.stan', line 175, column 2 to line 180, column 4)\n",
      "\tException: Exception: normal_lpdf: Random variable is nan, but must be not nan! (in 'real_data.stan', line 81, column 2 to column 53) (in 'real_data.stan', line 175, column 2 to line 180, column 4)\n",
      "Exception: Exception: normal_lpdf: Random variable is nan, but must be not nan! (in 'real_data.stan', line 81, column 2 to column 53) (in 'real_data.stan', line 175, column 2 to line 180, column 4)\n",
      "\tException: Exception: normal_lpdf: Random variable is nan, but must be not nan! (in 'real_data.stan', line 81, column 2 to column 53) (in 'real_data.stan', line 175, column 2 to line 180, column 4)\n",
      "\tException: Exception: normal_lpdf: Random variable is nan, but must be not nan! (in 'real_data.stan', line 81, column 2 to column 53) (in 'real_data.stan', line 175, column 2 to line 180, column 4)\n",
      "\tException: Exception: normal_lpdf: Random variable is nan, but must be not nan! (in 'real_data.stan', line 81, column 2 to column 53) (in 'real_data.stan', line 175, column 2 to line 180, column 4)\n",
      "\tException: Exception: normal_lpdf: Random variable is nan, but must be not nan! (in 'real_data.stan', line 81, column 2 to column 53) (in 'real_data.stan', line 175, column 2 to line 180, column 4)\n",
      "\tException: Exception: normal_lpdf: Random variable is nan, but must be not nan! (in 'real_data.stan', line 81, column 2 to column 53) (in 'real_data.stan', line 175, column 2 to line 180, column 4)\n",
      "Exception: Exception: normal_lpdf: Random variable is nan, but must be not nan! (in 'real_data.stan', line 81, column 2 to column 53) (in 'real_data.stan', line 175, column 2 to line 180, column 4)\n",
      "\tException: Exception: normal_lpdf: Random variable is nan, but must be not nan! (in 'real_data.stan', line 81, column 2 to column 53) (in 'real_data.stan', line 175, column 2 to line 180, column 4)\n",
      "Consider re-running with show_console=True if the above output is unclear!\n"
     ]
    },
    {
     "name": "stdout",
     "output_type": "stream",
     "text": [
      "\n"
     ]
    },
    {
     "name": "stderr",
     "output_type": "stream",
     "text": [
      "03:27:35 - cmdstanpy - WARNING - Some chains may have failed to converge.\n",
      "\tChain 1 had 6 divergent transitions (0.3%)\n",
      "\tChain 2 had 14 divergent transitions (0.7%)\n",
      "\tChain 3 had 11 divergent transitions (0.5%)\n",
      "\tChain 4 had 13 divergent transitions (0.7%)\n",
      "\tUse the \"diagnose()\" method on the CmdStanMCMC object to see further information.\n",
      "03:27:42 - cmdstanpy - INFO - CmdStan start processing\n"
     ]
    },
    {
     "name": "stdout",
     "output_type": "stream",
     "text": [
      "contest_3526 end\n",
      "contest_3926 begin\n"
     ]
    },
    {
     "data": {
      "application/vnd.jupyter.widget-view+json": {
       "model_id": "7adce3b5c02d4cc4a44bba640483668f",
       "version_major": 2,
       "version_minor": 0
      },
      "text/plain": [
       "chain 1 |          | 00:00 Status"
      ]
     },
     "metadata": {},
     "output_type": "display_data"
    },
    {
     "data": {
      "application/vnd.jupyter.widget-view+json": {
       "model_id": "4bfa194ac10c4daca68a90c31f3aeef2",
       "version_major": 2,
       "version_minor": 0
      },
      "text/plain": [
       "chain 2 |          | 00:00 Status"
      ]
     },
     "metadata": {},
     "output_type": "display_data"
    },
    {
     "data": {
      "application/vnd.jupyter.widget-view+json": {
       "model_id": "5f2973849da1402bb173a96c281be9e8",
       "version_major": 2,
       "version_minor": 0
      },
      "text/plain": [
       "chain 3 |          | 00:00 Status"
      ]
     },
     "metadata": {},
     "output_type": "display_data"
    },
    {
     "data": {
      "application/vnd.jupyter.widget-view+json": {
       "model_id": "d219b883a84e479f9da1ee6542fa0f63",
       "version_major": 2,
       "version_minor": 0
      },
      "text/plain": [
       "chain 4 |          | 00:00 Status"
      ]
     },
     "metadata": {},
     "output_type": "display_data"
    },
    {
     "name": "stdout",
     "output_type": "stream",
     "text": [
      "                                                                                                                                                                                                                                                                                                                                "
     ]
    },
    {
     "name": "stderr",
     "output_type": "stream",
     "text": [
      "03:29:08 - cmdstanpy - INFO - CmdStan done processing.\n",
      "03:29:08 - cmdstanpy - WARNING - Non-fatal error during sampling:\n",
      "Exception: Exception: normal_lpdf: Random variable is nan, but must be not nan! (in 'real_data.stan', line 81, column 2 to column 53) (in 'real_data.stan', line 175, column 2 to line 180, column 4)\n",
      "\tException: Exception: normal_lpdf: Random variable is nan, but must be not nan! (in 'real_data.stan', line 81, column 2 to column 53) (in 'real_data.stan', line 175, column 2 to line 180, column 4)\n",
      "\tException: Exception: normal_lpdf: Random variable is nan, but must be not nan! (in 'real_data.stan', line 81, column 2 to column 53) (in 'real_data.stan', line 175, column 2 to line 180, column 4)\n",
      "\tException: Exception: normal_lpdf: Random variable is nan, but must be not nan! (in 'real_data.stan', line 81, column 2 to column 53) (in 'real_data.stan', line 175, column 2 to line 180, column 4)\n",
      "Exception: Exception: normal_lpdf: Random variable is nan, but must be not nan! (in 'real_data.stan', line 81, column 2 to column 53) (in 'real_data.stan', line 175, column 2 to line 180, column 4)\n",
      "\tException: Exception: normal_lpdf: Random variable is nan, but must be not nan! (in 'real_data.stan', line 81, column 2 to column 53) (in 'real_data.stan', line 175, column 2 to line 180, column 4)\n",
      "\tException: Exception: normal_lpdf: Random variable is nan, but must be not nan! (in 'real_data.stan', line 81, column 2 to column 53) (in 'real_data.stan', line 175, column 2 to line 180, column 4)\n",
      "\tException: Exception: normal_lpdf: Random variable is nan, but must be not nan! (in 'real_data.stan', line 81, column 2 to column 53) (in 'real_data.stan', line 175, column 2 to line 180, column 4)\n",
      "Exception: Exception: normal_lpdf: Random variable is nan, but must be not nan! (in 'real_data.stan', line 81, column 2 to column 53) (in 'real_data.stan', line 175, column 2 to line 180, column 4)\n",
      "\tException: Exception: normal_lpdf: Random variable is nan, but must be not nan! (in 'real_data.stan', line 81, column 2 to column 53) (in 'real_data.stan', line 175, column 2 to line 180, column 4)\n",
      "Exception: Exception: normal_lpdf: Random variable is nan, but must be not nan! (in 'real_data.stan', line 81, column 2 to column 53) (in 'real_data.stan', line 175, column 2 to line 180, column 4)\n",
      "\tException: Exception: normal_lpdf: Random variable is nan, but must be not nan! (in 'real_data.stan', line 81, column 2 to column 53) (in 'real_data.stan', line 175, column 2 to line 180, column 4)\n",
      "Consider re-running with show_console=True if the above output is unclear!\n"
     ]
    },
    {
     "name": "stdout",
     "output_type": "stream",
     "text": [
      "\n"
     ]
    },
    {
     "name": "stderr",
     "output_type": "stream",
     "text": [
      "03:29:24 - cmdstanpy - INFO - CmdStan start processing\n"
     ]
    },
    {
     "name": "stdout",
     "output_type": "stream",
     "text": [
      "contest_3926 end\n",
      "contest_8540 begin\n"
     ]
    },
    {
     "data": {
      "application/vnd.jupyter.widget-view+json": {
       "model_id": "697c3f09f3a14dfca72a73964060a7cc",
       "version_major": 2,
       "version_minor": 0
      },
      "text/plain": [
       "chain 1 |          | 00:00 Status"
      ]
     },
     "metadata": {},
     "output_type": "display_data"
    },
    {
     "data": {
      "application/vnd.jupyter.widget-view+json": {
       "model_id": "9f41fb3420ff47668fe09f555676176b",
       "version_major": 2,
       "version_minor": 0
      },
      "text/plain": [
       "chain 2 |          | 00:00 Status"
      ]
     },
     "metadata": {},
     "output_type": "display_data"
    },
    {
     "data": {
      "application/vnd.jupyter.widget-view+json": {
       "model_id": "a660cb43d155491983dcae5f75ee96cc",
       "version_major": 2,
       "version_minor": 0
      },
      "text/plain": [
       "chain 3 |          | 00:00 Status"
      ]
     },
     "metadata": {},
     "output_type": "display_data"
    },
    {
     "data": {
      "application/vnd.jupyter.widget-view+json": {
       "model_id": "594aa86bc94c45ffb781d2e2702afed9",
       "version_major": 2,
       "version_minor": 0
      },
      "text/plain": [
       "chain 4 |          | 00:00 Status"
      ]
     },
     "metadata": {},
     "output_type": "display_data"
    },
    {
     "name": "stdout",
     "output_type": "stream",
     "text": [
      "                                                                                                                                                                                                                                                                                                                                "
     ]
    },
    {
     "name": "stderr",
     "output_type": "stream",
     "text": [
      "03:55:27 - cmdstanpy - INFO - CmdStan done processing.\n",
      "03:55:27 - cmdstanpy - WARNING - Non-fatal error during sampling:\n",
      "Exception: Exception: normal_lpdf: Random variable is nan, but must be not nan! (in 'real_data.stan', line 81, column 2 to column 53) (in 'real_data.stan', line 175, column 2 to line 180, column 4)\n",
      "\tException: Exception: normal_lpdf: Random variable is nan, but must be not nan! (in 'real_data.stan', line 81, column 2 to column 53) (in 'real_data.stan', line 175, column 2 to line 180, column 4)\n",
      "\tException: Exception: normal_lpdf: Random variable is nan, but must be not nan! (in 'real_data.stan', line 81, column 2 to column 53) (in 'real_data.stan', line 175, column 2 to line 180, column 4)\n",
      "\tException: Exception: normal_lpdf: Random variable is nan, but must be not nan! (in 'real_data.stan', line 81, column 2 to column 53) (in 'real_data.stan', line 175, column 2 to line 180, column 4)\n",
      "Exception: Exception: normal_lpdf: Random variable is nan, but must be not nan! (in 'real_data.stan', line 81, column 2 to column 53) (in 'real_data.stan', line 175, column 2 to line 180, column 4)\n",
      "\tException: Exception: normal_lpdf: Random variable is nan, but must be not nan! (in 'real_data.stan', line 81, column 2 to column 53) (in 'real_data.stan', line 175, column 2 to line 180, column 4)\n",
      "Exception: Exception: normal_lpdf: Random variable is nan, but must be not nan! (in 'real_data.stan', line 81, column 2 to column 53) (in 'real_data.stan', line 175, column 2 to line 180, column 4)\n",
      "\tException: Exception: normal_lpdf: Random variable is nan, but must be not nan! (in 'real_data.stan', line 81, column 2 to column 53) (in 'real_data.stan', line 175, column 2 to line 180, column 4)\n",
      "\tException: Exception: normal_lpdf: Random variable is nan, but must be not nan! (in 'real_data.stan', line 81, column 2 to column 53) (in 'real_data.stan', line 175, column 2 to line 180, column 4)\n",
      "\tException: Exception: normal_lpdf: Random variable is nan, but must be not nan! (in 'real_data.stan', line 81, column 2 to column 53) (in 'real_data.stan', line 175, column 2 to line 180, column 4)\n",
      "Exception: Exception: normal_lpdf: Random variable is nan, but must be not nan! (in 'real_data.stan', line 81, column 2 to column 53) (in 'real_data.stan', line 175, column 2 to line 180, column 4)\n",
      "\tException: Exception: normal_lpdf: Random variable is nan, but must be not nan! (in 'real_data.stan', line 81, column 2 to column 53) (in 'real_data.stan', line 175, column 2 to line 180, column 4)\n",
      "\tException: Exception: normal_lpdf: Random variable is nan, but must be not nan! (in 'real_data.stan', line 81, column 2 to column 53) (in 'real_data.stan', line 175, column 2 to line 180, column 4)\n",
      "\tException: Exception: normal_lpdf: Random variable is nan, but must be not nan! (in 'real_data.stan', line 81, column 2 to column 53) (in 'real_data.stan', line 175, column 2 to line 180, column 4)\n",
      "Consider re-running with show_console=True if the above output is unclear!\n"
     ]
    },
    {
     "name": "stdout",
     "output_type": "stream",
     "text": [
      "\n"
     ]
    },
    {
     "name": "stderr",
     "output_type": "stream",
     "text": [
      "03:55:29 - cmdstanpy - WARNING - Some chains may have failed to converge.\n",
      "\tChain 1 had 44 divergent transitions (2.2%)\n",
      "\tChain 1 had 35 iterations at max treedepth (1.8%)\n",
      "\tChain 2 had 33 divergent transitions (1.7%)\n",
      "\tChain 2 had 566 iterations at max treedepth (28.3%)\n",
      "\tChain 3 had 41 divergent transitions (2.1%)\n",
      "\tChain 4 had 33 divergent transitions (1.7%)\n",
      "\tUse the \"diagnose()\" method on the CmdStanMCMC object to see further information.\n",
      "03:55:38 - cmdstanpy - INFO - CmdStan start processing\n"
     ]
    },
    {
     "name": "stdout",
     "output_type": "stream",
     "text": [
      "contest_8540 end\n",
      "contest_2478 begin\n"
     ]
    },
    {
     "data": {
      "application/vnd.jupyter.widget-view+json": {
       "model_id": "759f3981efc441c2ad4172874acbd06f",
       "version_major": 2,
       "version_minor": 0
      },
      "text/plain": [
       "chain 1 |          | 00:00 Status"
      ]
     },
     "metadata": {},
     "output_type": "display_data"
    },
    {
     "data": {
      "application/vnd.jupyter.widget-view+json": {
       "model_id": "ab51c06e24ff404480af61c37a17ca56",
       "version_major": 2,
       "version_minor": 0
      },
      "text/plain": [
       "chain 2 |          | 00:00 Status"
      ]
     },
     "metadata": {},
     "output_type": "display_data"
    },
    {
     "data": {
      "application/vnd.jupyter.widget-view+json": {
       "model_id": "8d793db64dac4de2970941c54741e9f2",
       "version_major": 2,
       "version_minor": 0
      },
      "text/plain": [
       "chain 3 |          | 00:00 Status"
      ]
     },
     "metadata": {},
     "output_type": "display_data"
    },
    {
     "data": {
      "application/vnd.jupyter.widget-view+json": {
       "model_id": "e313b39b586640fbb56f08be91e95351",
       "version_major": 2,
       "version_minor": 0
      },
      "text/plain": [
       "chain 4 |          | 00:00 Status"
      ]
     },
     "metadata": {},
     "output_type": "display_data"
    },
    {
     "name": "stdout",
     "output_type": "stream",
     "text": [
      "                                                                                                                                                                                                                                                                                                                                "
     ]
    },
    {
     "name": "stderr",
     "output_type": "stream",
     "text": [
      "03:56:20 - cmdstanpy - INFO - CmdStan done processing.\n",
      "03:56:20 - cmdstanpy - WARNING - Non-fatal error during sampling:\n",
      "Exception: Exception: normal_lpdf: Random variable is nan, but must be not nan! (in 'real_data.stan', line 81, column 2 to column 53) (in 'real_data.stan', line 175, column 2 to line 180, column 4)\n",
      "\tException: Exception: normal_lpdf: Random variable is nan, but must be not nan! (in 'real_data.stan', line 81, column 2 to column 53) (in 'real_data.stan', line 175, column 2 to line 180, column 4)\n",
      "Exception: Exception: normal_lpdf: Random variable is nan, but must be not nan! (in 'real_data.stan', line 81, column 2 to column 53) (in 'real_data.stan', line 175, column 2 to line 180, column 4)\n",
      "\tException: Exception: normal_lpdf: Random variable is nan, but must be not nan! (in 'real_data.stan', line 81, column 2 to column 53) (in 'real_data.stan', line 175, column 2 to line 180, column 4)\n",
      "\tException: Exception: normal_lpdf: Random variable is nan, but must be not nan! (in 'real_data.stan', line 81, column 2 to column 53) (in 'real_data.stan', line 175, column 2 to line 180, column 4)\n",
      "\tException: Exception: normal_lpdf: Random variable is nan, but must be not nan! (in 'real_data.stan', line 81, column 2 to column 53) (in 'real_data.stan', line 175, column 2 to line 180, column 4)\n",
      "Exception: Exception: normal_lpdf: Random variable is nan, but must be not nan! (in 'real_data.stan', line 81, column 2 to column 53) (in 'real_data.stan', line 175, column 2 to line 180, column 4)\n",
      "\tException: Exception: normal_lpdf: Random variable is nan, but must be not nan! (in 'real_data.stan', line 81, column 2 to column 53) (in 'real_data.stan', line 175, column 2 to line 180, column 4)\n",
      "\tException: Exception: normal_lpdf: Random variable is nan, but must be not nan! (in 'real_data.stan', line 81, column 2 to column 53) (in 'real_data.stan', line 175, column 2 to line 180, column 4)\n",
      "\tException: Exception: normal_lpdf: Random variable is nan, but must be not nan! (in 'real_data.stan', line 81, column 2 to column 53) (in 'real_data.stan', line 175, column 2 to line 180, column 4)\n",
      "Exception: Exception: normal_lpdf: Random variable is nan, but must be not nan! (in 'real_data.stan', line 81, column 2 to column 53) (in 'real_data.stan', line 175, column 2 to line 180, column 4)\n",
      "\tException: Exception: normal_lpdf: Random variable is nan, but must be not nan! (in 'real_data.stan', line 81, column 2 to column 53) (in 'real_data.stan', line 175, column 2 to line 180, column 4)\n",
      "Consider re-running with show_console=True if the above output is unclear!\n"
     ]
    },
    {
     "name": "stdout",
     "output_type": "stream",
     "text": [
      "\n"
     ]
    },
    {
     "name": "stderr",
     "output_type": "stream",
     "text": [
      "03:56:22 - cmdstanpy - WARNING - Some chains may have failed to converge.\n",
      "\tChain 2 had 2 divergent transitions (0.1%)\n",
      "\tChain 3 had 4 divergent transitions (0.2%)\n",
      "\tChain 4 had 2 divergent transitions (0.1%)\n",
      "\tUse the \"diagnose()\" method on the CmdStanMCMC object to see further information.\n",
      "03:56:28 - cmdstanpy - INFO - CmdStan start processing\n"
     ]
    },
    {
     "name": "stdout",
     "output_type": "stream",
     "text": [
      "contest_2478 end\n",
      "contest_19991 begin\n"
     ]
    },
    {
     "data": {
      "application/vnd.jupyter.widget-view+json": {
       "model_id": "b912470a16cd4c36ad350d89677eb390",
       "version_major": 2,
       "version_minor": 0
      },
      "text/plain": [
       "chain 1 |          | 00:00 Status"
      ]
     },
     "metadata": {},
     "output_type": "display_data"
    },
    {
     "data": {
      "application/vnd.jupyter.widget-view+json": {
       "model_id": "92fcccb53f7043b9a60ce72277e970c1",
       "version_major": 2,
       "version_minor": 0
      },
      "text/plain": [
       "chain 2 |          | 00:00 Status"
      ]
     },
     "metadata": {},
     "output_type": "display_data"
    },
    {
     "data": {
      "application/vnd.jupyter.widget-view+json": {
       "model_id": "5079d91821864a29a88a28e13c18adb6",
       "version_major": 2,
       "version_minor": 0
      },
      "text/plain": [
       "chain 3 |          | 00:00 Status"
      ]
     },
     "metadata": {},
     "output_type": "display_data"
    },
    {
     "data": {
      "application/vnd.jupyter.widget-view+json": {
       "model_id": "b3738e9a9ea940de87e9ae360f220145",
       "version_major": 2,
       "version_minor": 0
      },
      "text/plain": [
       "chain 4 |          | 00:00 Status"
      ]
     },
     "metadata": {},
     "output_type": "display_data"
    },
    {
     "name": "stdout",
     "output_type": "stream",
     "text": [
      "                                                                                                                                                                                                                                                                                                                                "
     ]
    },
    {
     "name": "stderr",
     "output_type": "stream",
     "text": [
      "03:57:20 - cmdstanpy - INFO - CmdStan done processing.\n",
      "03:57:20 - cmdstanpy - WARNING - Non-fatal error during sampling:\n",
      "Exception: Exception: normal_lpdf: Random variable is nan, but must be not nan! (in 'real_data.stan', line 81, column 2 to column 53) (in 'real_data.stan', line 175, column 2 to line 180, column 4)\n",
      "\tException: Exception: normal_lpdf: Random variable is nan, but must be not nan! (in 'real_data.stan', line 81, column 2 to column 53) (in 'real_data.stan', line 175, column 2 to line 180, column 4)\n",
      "Exception: Exception: normal_lpdf: Random variable is nan, but must be not nan! (in 'real_data.stan', line 81, column 2 to column 53) (in 'real_data.stan', line 175, column 2 to line 180, column 4)\n",
      "\tException: Exception: normal_lpdf: Random variable is nan, but must be not nan! (in 'real_data.stan', line 81, column 2 to column 53) (in 'real_data.stan', line 175, column 2 to line 180, column 4)\n",
      "Exception: Exception: normal_lpdf: Random variable is nan, but must be not nan! (in 'real_data.stan', line 81, column 2 to column 53) (in 'real_data.stan', line 175, column 2 to line 180, column 4)\n",
      "\tException: Exception: normal_lpdf: Random variable is nan, but must be not nan! (in 'real_data.stan', line 81, column 2 to column 53) (in 'real_data.stan', line 175, column 2 to line 180, column 4)\n",
      "\tException: Exception: normal_lpdf: Random variable is nan, but must be not nan! (in 'real_data.stan', line 81, column 2 to column 53) (in 'real_data.stan', line 175, column 2 to line 180, column 4)\n",
      "\tException: Exception: normal_lpdf: Random variable is nan, but must be not nan! (in 'real_data.stan', line 81, column 2 to column 53) (in 'real_data.stan', line 175, column 2 to line 180, column 4)\n",
      "Exception: Exception: normal_lpdf: Random variable is nan, but must be not nan! (in 'real_data.stan', line 81, column 2 to column 53) (in 'real_data.stan', line 175, column 2 to line 180, column 4)\n",
      "\tException: Exception: normal_lpdf: Random variable is nan, but must be not nan! (in 'real_data.stan', line 81, column 2 to column 53) (in 'real_data.stan', line 175, column 2 to line 180, column 4)\n",
      "\tException: Exception: normal_lpdf: Random variable is nan, but must be not nan! (in 'real_data.stan', line 81, column 2 to column 53) (in 'real_data.stan', line 175, column 2 to line 180, column 4)\n",
      "\tException: Exception: normal_lpdf: Random variable is nan, but must be not nan! (in 'real_data.stan', line 81, column 2 to column 53) (in 'real_data.stan', line 175, column 2 to line 180, column 4)\n",
      "Consider re-running with show_console=True if the above output is unclear!\n"
     ]
    },
    {
     "name": "stdout",
     "output_type": "stream",
     "text": [
      "\n"
     ]
    },
    {
     "name": "stderr",
     "output_type": "stream",
     "text": [
      "03:57:22 - cmdstanpy - WARNING - Some chains may have failed to converge.\n",
      "\tChain 1 had 1 divergent transitions (0.1%)\n",
      "\tChain 3 had 2 divergent transitions (0.1%)\n",
      "\tChain 4 had 1 divergent transitions (0.1%)\n",
      "\tUse the \"diagnose()\" method on the CmdStanMCMC object to see further information.\n",
      "03:57:29 - cmdstanpy - INFO - CmdStan start processing\n"
     ]
    },
    {
     "name": "stdout",
     "output_type": "stream",
     "text": [
      "contest_19991 end\n",
      "contest_8219 begin\n"
     ]
    },
    {
     "data": {
      "application/vnd.jupyter.widget-view+json": {
       "model_id": "c8254ebef2d24e2391cd36c2f40f01b8",
       "version_major": 2,
       "version_minor": 0
      },
      "text/plain": [
       "chain 1 |          | 00:00 Status"
      ]
     },
     "metadata": {},
     "output_type": "display_data"
    },
    {
     "data": {
      "application/vnd.jupyter.widget-view+json": {
       "model_id": "c5972e574d1b4aea8124882f174ab055",
       "version_major": 2,
       "version_minor": 0
      },
      "text/plain": [
       "chain 2 |          | 00:00 Status"
      ]
     },
     "metadata": {},
     "output_type": "display_data"
    },
    {
     "data": {
      "application/vnd.jupyter.widget-view+json": {
       "model_id": "bffcafd651a94133bd9f70ad1c96b9f6",
       "version_major": 2,
       "version_minor": 0
      },
      "text/plain": [
       "chain 3 |          | 00:00 Status"
      ]
     },
     "metadata": {},
     "output_type": "display_data"
    },
    {
     "data": {
      "application/vnd.jupyter.widget-view+json": {
       "model_id": "329b5ff9f5d646b18a255835dfe9da6e",
       "version_major": 2,
       "version_minor": 0
      },
      "text/plain": [
       "chain 4 |          | 00:00 Status"
      ]
     },
     "metadata": {},
     "output_type": "display_data"
    },
    {
     "name": "stdout",
     "output_type": "stream",
     "text": [
      "                                                                                                                                                                                                                                                                                                                                "
     ]
    },
    {
     "name": "stderr",
     "output_type": "stream",
     "text": [
      "03:57:57 - cmdstanpy - INFO - CmdStan done processing.\n",
      "03:57:57 - cmdstanpy - WARNING - Non-fatal error during sampling:\n",
      "Exception: Exception: normal_lpdf: Random variable is nan, but must be not nan! (in 'real_data.stan', line 81, column 2 to column 53) (in 'real_data.stan', line 175, column 2 to line 180, column 4)\n",
      "\tException: Exception: normal_lpdf: Random variable is nan, but must be not nan! (in 'real_data.stan', line 81, column 2 to column 53) (in 'real_data.stan', line 175, column 2 to line 180, column 4)\n",
      "Exception: Exception: normal_lpdf: Random variable is nan, but must be not nan! (in 'real_data.stan', line 81, column 2 to column 53) (in 'real_data.stan', line 175, column 2 to line 180, column 4)\n",
      "\tException: Exception: normal_lpdf: Random variable is nan, but must be not nan! (in 'real_data.stan', line 81, column 2 to column 53) (in 'real_data.stan', line 175, column 2 to line 180, column 4)\n",
      "Exception: Exception: normal_lpdf: Random variable is nan, but must be not nan! (in 'real_data.stan', line 81, column 2 to column 53) (in 'real_data.stan', line 175, column 2 to line 180, column 4)\n",
      "Exception: Exception: normal_lpdf: Random variable is nan, but must be not nan! (in 'real_data.stan', line 81, column 2 to column 53) (in 'real_data.stan', line 175, column 2 to line 180, column 4)\n",
      "\tException: Exception: normal_lpdf: Random variable is nan, but must be not nan! (in 'real_data.stan', line 81, column 2 to column 53) (in 'real_data.stan', line 175, column 2 to line 180, column 4)\n",
      "Consider re-running with show_console=True if the above output is unclear!\n"
     ]
    },
    {
     "name": "stdout",
     "output_type": "stream",
     "text": [
      "\n"
     ]
    },
    {
     "name": "stderr",
     "output_type": "stream",
     "text": [
      "03:58:04 - cmdstanpy - INFO - CmdStan start processing\n"
     ]
    },
    {
     "name": "stdout",
     "output_type": "stream",
     "text": [
      "contest_8219 end\n",
      "contest_21669 begin\n"
     ]
    },
    {
     "data": {
      "application/vnd.jupyter.widget-view+json": {
       "model_id": "0fc953e58a93430e82acf01e1a987f7d",
       "version_major": 2,
       "version_minor": 0
      },
      "text/plain": [
       "chain 1 |          | 00:00 Status"
      ]
     },
     "metadata": {},
     "output_type": "display_data"
    },
    {
     "data": {
      "application/vnd.jupyter.widget-view+json": {
       "model_id": "f23283d66912457b852b34d6f5b9a576",
       "version_major": 2,
       "version_minor": 0
      },
      "text/plain": [
       "chain 2 |          | 00:00 Status"
      ]
     },
     "metadata": {},
     "output_type": "display_data"
    },
    {
     "data": {
      "application/vnd.jupyter.widget-view+json": {
       "model_id": "68af8f20095b4045a72e8db48daf6363",
       "version_major": 2,
       "version_minor": 0
      },
      "text/plain": [
       "chain 3 |          | 00:00 Status"
      ]
     },
     "metadata": {},
     "output_type": "display_data"
    },
    {
     "data": {
      "application/vnd.jupyter.widget-view+json": {
       "model_id": "2874d2000fc44c18830b79cdc1a3be58",
       "version_major": 2,
       "version_minor": 0
      },
      "text/plain": [
       "chain 4 |          | 00:00 Status"
      ]
     },
     "metadata": {},
     "output_type": "display_data"
    },
    {
     "name": "stdout",
     "output_type": "stream",
     "text": [
      "                                                                                                                                                                                                                                                                                                                                "
     ]
    },
    {
     "name": "stderr",
     "output_type": "stream",
     "text": [
      "04:00:30 - cmdstanpy - INFO - CmdStan done processing.\n",
      "04:00:30 - cmdstanpy - WARNING - Non-fatal error during sampling:\n",
      "Exception: Exception: normal_lpdf: Random variable is nan, but must be not nan! (in 'real_data.stan', line 81, column 2 to column 53) (in 'real_data.stan', line 175, column 2 to line 180, column 4)\n",
      "\tException: Exception: normal_lpdf: Random variable is nan, but must be not nan! (in 'real_data.stan', line 81, column 2 to column 53) (in 'real_data.stan', line 175, column 2 to line 180, column 4)\n",
      "\tException: Exception: normal_lpdf: Random variable is nan, but must be not nan! (in 'real_data.stan', line 81, column 2 to column 53) (in 'real_data.stan', line 175, column 2 to line 180, column 4)\n",
      "\tException: Exception: normal_lpdf: Random variable is nan, but must be not nan! (in 'real_data.stan', line 81, column 2 to column 53) (in 'real_data.stan', line 175, column 2 to line 180, column 4)\n",
      "Exception: Exception: normal_lpdf: Random variable is nan, but must be not nan! (in 'real_data.stan', line 81, column 2 to column 53) (in 'real_data.stan', line 175, column 2 to line 180, column 4)\n",
      "\tException: Exception: normal_lpdf: Random variable is nan, but must be not nan! (in 'real_data.stan', line 81, column 2 to column 53) (in 'real_data.stan', line 175, column 2 to line 180, column 4)\n",
      "\tException: Exception: normal_lpdf: Random variable is nan, but must be not nan! (in 'real_data.stan', line 81, column 2 to column 53) (in 'real_data.stan', line 175, column 2 to line 180, column 4)\n",
      "\tException: Exception: normal_lpdf: Random variable is nan, but must be not nan! (in 'real_data.stan', line 81, column 2 to column 53) (in 'real_data.stan', line 175, column 2 to line 180, column 4)\n",
      "Exception: Exception: normal_lpdf: Random variable is nan, but must be not nan! (in 'real_data.stan', line 81, column 2 to column 53) (in 'real_data.stan', line 175, column 2 to line 180, column 4)\n",
      "\tException: Exception: normal_lpdf: Random variable is nan, but must be not nan! (in 'real_data.stan', line 81, column 2 to column 53) (in 'real_data.stan', line 175, column 2 to line 180, column 4)\n",
      "\tException: Exception: normal_lpdf: Random variable is nan, but must be not nan! (in 'real_data.stan', line 81, column 2 to column 53) (in 'real_data.stan', line 175, column 2 to line 180, column 4)\n",
      "\tException: Exception: normal_lpdf: Random variable is nan, but must be not nan! (in 'real_data.stan', line 81, column 2 to column 53) (in 'real_data.stan', line 175, column 2 to line 180, column 4)\n",
      "Exception: Exception: normal_lpdf: Random variable is nan, but must be not nan! (in 'real_data.stan', line 81, column 2 to column 53) (in 'real_data.stan', line 175, column 2 to line 180, column 4)\n",
      "\tException: Exception: normal_lpdf: Random variable is nan, but must be not nan! (in 'real_data.stan', line 81, column 2 to column 53) (in 'real_data.stan', line 175, column 2 to line 180, column 4)\n",
      "\tException: Exception: normal_lpdf: Random variable is nan, but must be not nan! (in 'real_data.stan', line 81, column 2 to column 53) (in 'real_data.stan', line 175, column 2 to line 180, column 4)\n",
      "\tException: Exception: normal_lpdf: Random variable is nan, but must be not nan! (in 'real_data.stan', line 81, column 2 to column 53) (in 'real_data.stan', line 175, column 2 to line 180, column 4)\n",
      "\tException: Exception: normal_lpdf: Random variable is nan, but must be not nan! (in 'real_data.stan', line 81, column 2 to column 53) (in 'real_data.stan', line 175, column 2 to line 180, column 4)\n",
      "Consider re-running with show_console=True if the above output is unclear!\n"
     ]
    },
    {
     "name": "stdout",
     "output_type": "stream",
     "text": [
      "\n",
      "contest_21669 end\n",
      "contest_7115 begin\n"
     ]
    },
    {
     "name": "stderr",
     "output_type": "stream",
     "text": [
      "04:00:55 - cmdstanpy - INFO - CmdStan start processing\n"
     ]
    },
    {
     "data": {
      "application/vnd.jupyter.widget-view+json": {
       "model_id": "30d470f2167f4844b1c9484e604b5d3d",
       "version_major": 2,
       "version_minor": 0
      },
      "text/plain": [
       "chain 1 |          | 00:00 Status"
      ]
     },
     "metadata": {},
     "output_type": "display_data"
    },
    {
     "data": {
      "application/vnd.jupyter.widget-view+json": {
       "model_id": "21655bae25cb4e158d3320603d95d84b",
       "version_major": 2,
       "version_minor": 0
      },
      "text/plain": [
       "chain 2 |          | 00:00 Status"
      ]
     },
     "metadata": {},
     "output_type": "display_data"
    },
    {
     "data": {
      "application/vnd.jupyter.widget-view+json": {
       "model_id": "c970a76ea9214fc88f0d894e4913f863",
       "version_major": 2,
       "version_minor": 0
      },
      "text/plain": [
       "chain 3 |          | 00:00 Status"
      ]
     },
     "metadata": {},
     "output_type": "display_data"
    },
    {
     "data": {
      "application/vnd.jupyter.widget-view+json": {
       "model_id": "615f4ca59bec470a8ebb9140482bd2ad",
       "version_major": 2,
       "version_minor": 0
      },
      "text/plain": [
       "chain 4 |          | 00:00 Status"
      ]
     },
     "metadata": {},
     "output_type": "display_data"
    },
    {
     "name": "stdout",
     "output_type": "stream",
     "text": [
      "                                                                                                                                                                                                                                                                                                                                "
     ]
    },
    {
     "name": "stderr",
     "output_type": "stream",
     "text": [
      "04:03:05 - cmdstanpy - INFO - CmdStan done processing.\n",
      "04:03:05 - cmdstanpy - WARNING - Non-fatal error during sampling:\n",
      "Exception: Exception: normal_lpdf: Random variable is nan, but must be not nan! (in 'real_data.stan', line 81, column 2 to column 53) (in 'real_data.stan', line 175, column 2 to line 180, column 4)\n",
      "\tException: Exception: normal_lpdf: Random variable is nan, but must be not nan! (in 'real_data.stan', line 81, column 2 to column 53) (in 'real_data.stan', line 175, column 2 to line 180, column 4)\n",
      "\tException: Exception: normal_lpdf: Random variable is nan, but must be not nan! (in 'real_data.stan', line 81, column 2 to column 53) (in 'real_data.stan', line 175, column 2 to line 180, column 4)\n",
      "\tException: Exception: normal_lpdf: Random variable is nan, but must be not nan! (in 'real_data.stan', line 81, column 2 to column 53) (in 'real_data.stan', line 175, column 2 to line 180, column 4)\n",
      "\tException: Exception: normal_lpdf: Random variable is nan, but must be not nan! (in 'real_data.stan', line 81, column 2 to column 53) (in 'real_data.stan', line 175, column 2 to line 180, column 4)\n",
      "Exception: Exception: normal_lpdf: Random variable is nan, but must be not nan! (in 'real_data.stan', line 81, column 2 to column 53) (in 'real_data.stan', line 175, column 2 to line 180, column 4)\n",
      "\tException: Exception: normal_lpdf: Random variable is nan, but must be not nan! (in 'real_data.stan', line 81, column 2 to column 53) (in 'real_data.stan', line 175, column 2 to line 180, column 4)\n",
      "\tException: Exception: normal_lpdf: Random variable is nan, but must be not nan! (in 'real_data.stan', line 81, column 2 to column 53) (in 'real_data.stan', line 175, column 2 to line 180, column 4)\n",
      "\tException: Exception: normal_lpdf: Random variable is nan, but must be not nan! (in 'real_data.stan', line 81, column 2 to column 53) (in 'real_data.stan', line 175, column 2 to line 180, column 4)\n",
      "Exception: Exception: normal_lpdf: Random variable is nan, but must be not nan! (in 'real_data.stan', line 81, column 2 to column 53) (in 'real_data.stan', line 175, column 2 to line 180, column 4)\n",
      "\tException: Exception: normal_lpdf: Random variable is nan, but must be not nan! (in 'real_data.stan', line 81, column 2 to column 53) (in 'real_data.stan', line 175, column 2 to line 180, column 4)\n",
      "\tException: Exception: normal_lpdf: Random variable is nan, but must be not nan! (in 'real_data.stan', line 81, column 2 to column 53) (in 'real_data.stan', line 175, column 2 to line 180, column 4)\n",
      "\tException: Exception: normal_lpdf: Random variable is nan, but must be not nan! (in 'real_data.stan', line 81, column 2 to column 53) (in 'real_data.stan', line 175, column 2 to line 180, column 4)\n",
      "Exception: Exception: normal_lpdf: Random variable is nan, but must be not nan! (in 'real_data.stan', line 81, column 2 to column 53) (in 'real_data.stan', line 175, column 2 to line 180, column 4)\n",
      "\tException: Exception: normal_lpdf: Random variable is nan, but must be not nan! (in 'real_data.stan', line 81, column 2 to column 53) (in 'real_data.stan', line 175, column 2 to line 180, column 4)\n",
      "\tException: Exception: normal_lpdf: Random variable is nan, but must be not nan! (in 'real_data.stan', line 81, column 2 to column 53) (in 'real_data.stan', line 175, column 2 to line 180, column 4)\n",
      "\tException: Exception: normal_lpdf: Random variable is nan, but must be not nan! (in 'real_data.stan', line 81, column 2 to column 53) (in 'real_data.stan', line 175, column 2 to line 180, column 4)\n",
      "\tException: Exception: normal_lpdf: Random variable is nan, but must be not nan! (in 'real_data.stan', line 81, column 2 to column 53) (in 'real_data.stan', line 175, column 2 to line 180, column 4)\n",
      "Consider re-running with show_console=True if the above output is unclear!\n"
     ]
    },
    {
     "name": "stdout",
     "output_type": "stream",
     "text": [
      "\n"
     ]
    },
    {
     "name": "stderr",
     "output_type": "stream",
     "text": [
      "04:03:08 - cmdstanpy - WARNING - Some chains may have failed to converge.\n",
      "\tChain 1 had 23 divergent transitions (1.1%)\n",
      "\tChain 2 had 30 divergent transitions (1.5%)\n",
      "\tChain 3 had 12 divergent transitions (0.6%)\n",
      "\tChain 4 had 2 divergent transitions (0.1%)\n",
      "\tUse the \"diagnose()\" method on the CmdStanMCMC object to see further information.\n",
      "04:03:24 - cmdstanpy - INFO - CmdStan start processing\n"
     ]
    },
    {
     "name": "stdout",
     "output_type": "stream",
     "text": [
      "contest_7115 end\n",
      "contest_13333 begin\n"
     ]
    },
    {
     "data": {
      "application/vnd.jupyter.widget-view+json": {
       "model_id": "2c11929228f045ed8d0d034786fb5a7c",
       "version_major": 2,
       "version_minor": 0
      },
      "text/plain": [
       "chain 1 |          | 00:00 Status"
      ]
     },
     "metadata": {},
     "output_type": "display_data"
    },
    {
     "data": {
      "application/vnd.jupyter.widget-view+json": {
       "model_id": "226da62e2c8244f1ad49a3e1cf952750",
       "version_major": 2,
       "version_minor": 0
      },
      "text/plain": [
       "chain 2 |          | 00:00 Status"
      ]
     },
     "metadata": {},
     "output_type": "display_data"
    },
    {
     "data": {
      "application/vnd.jupyter.widget-view+json": {
       "model_id": "20f55935126b410bb2645938a6550c06",
       "version_major": 2,
       "version_minor": 0
      },
      "text/plain": [
       "chain 3 |          | 00:00 Status"
      ]
     },
     "metadata": {},
     "output_type": "display_data"
    },
    {
     "data": {
      "application/vnd.jupyter.widget-view+json": {
       "model_id": "08d68b0eed4b4cb698861c8a6ba61288",
       "version_major": 2,
       "version_minor": 0
      },
      "text/plain": [
       "chain 4 |          | 00:00 Status"
      ]
     },
     "metadata": {},
     "output_type": "display_data"
    },
    {
     "name": "stdout",
     "output_type": "stream",
     "text": [
      "                                                                                                                                                                                                                                                                                                                                "
     ]
    },
    {
     "name": "stderr",
     "output_type": "stream",
     "text": [
      "04:24:15 - cmdstanpy - INFO - CmdStan done processing.\n",
      "04:24:15 - cmdstanpy - WARNING - Non-fatal error during sampling:\n",
      "Exception: Exception: normal_lpdf: Random variable is nan, but must be not nan! (in 'real_data.stan', line 81, column 2 to column 53) (in 'real_data.stan', line 175, column 2 to line 180, column 4)\n",
      "\tException: Exception: normal_lpdf: Random variable is nan, but must be not nan! (in 'real_data.stan', line 81, column 2 to column 53) (in 'real_data.stan', line 175, column 2 to line 180, column 4)\n",
      "\tException: Exception: normal_lpdf: Random variable is nan, but must be not nan! (in 'real_data.stan', line 81, column 2 to column 53) (in 'real_data.stan', line 175, column 2 to line 180, column 4)\n",
      "\tException: Exception: normal_lpdf: Random variable is nan, but must be not nan! (in 'real_data.stan', line 81, column 2 to column 53) (in 'real_data.stan', line 175, column 2 to line 180, column 4)\n",
      "Exception: Exception: normal_lpdf: Random variable is nan, but must be not nan! (in 'real_data.stan', line 81, column 2 to column 53) (in 'real_data.stan', line 175, column 2 to line 180, column 4)\n",
      "Exception: Exception: normal_lpdf: Random variable is nan, but must be not nan! (in 'real_data.stan', line 81, column 2 to column 53) (in 'real_data.stan', line 175, column 2 to line 180, column 4)\n",
      "\tException: Exception: normal_lpdf: Random variable is nan, but must be not nan! (in 'real_data.stan', line 81, column 2 to column 53) (in 'real_data.stan', line 175, column 2 to line 180, column 4)\n",
      "\tException: Exception: normal_lpdf: Random variable is nan, but must be not nan! (in 'real_data.stan', line 81, column 2 to column 53) (in 'real_data.stan', line 175, column 2 to line 180, column 4)\n",
      "\tException: Exception: normal_lpdf: Random variable is nan, but must be not nan! (in 'real_data.stan', line 81, column 2 to column 53) (in 'real_data.stan', line 175, column 2 to line 180, column 4)\n",
      "Exception: Exception: normal_lpdf: Random variable is nan, but must be not nan! (in 'real_data.stan', line 81, column 2 to column 53) (in 'real_data.stan', line 175, column 2 to line 180, column 4)\n",
      "\tException: Exception: normal_lpdf: Random variable is nan, but must be not nan! (in 'real_data.stan', line 81, column 2 to column 53) (in 'real_data.stan', line 175, column 2 to line 180, column 4)\n",
      "\tException: Exception: normal_lpdf: Random variable is nan, but must be not nan! (in 'real_data.stan', line 81, column 2 to column 53) (in 'real_data.stan', line 175, column 2 to line 180, column 4)\n",
      "\tException: Exception: normal_lpdf: Random variable is nan, but must be not nan! (in 'real_data.stan', line 81, column 2 to column 53) (in 'real_data.stan', line 175, column 2 to line 180, column 4)\n",
      "Consider re-running with show_console=True if the above output is unclear!\n"
     ]
    },
    {
     "name": "stdout",
     "output_type": "stream",
     "text": [
      "\n"
     ]
    },
    {
     "name": "stderr",
     "output_type": "stream",
     "text": [
      "04:24:16 - cmdstanpy - WARNING - Some chains may have failed to converge.\n",
      "\tChain 1 had 4 divergent transitions (0.2%)\n",
      "\tChain 1 had 1766 iterations at max treedepth (88.3%)\n",
      "\tChain 2 had 41 divergent transitions (2.1%)\n",
      "\tChain 3 had 36 divergent transitions (1.8%)\n",
      "\tChain 4 had 51 divergent transitions (2.5%)\n",
      "\tUse the \"diagnose()\" method on the CmdStanMCMC object to see further information.\n",
      "04:24:21 - cmdstanpy - INFO - CmdStan start processing\n"
     ]
    },
    {
     "name": "stdout",
     "output_type": "stream",
     "text": [
      "contest_13333 end\n",
      "contest_2454 begin\n"
     ]
    },
    {
     "data": {
      "application/vnd.jupyter.widget-view+json": {
       "model_id": "d6e8b7a5bc9f44609f099fbacd32bead",
       "version_major": 2,
       "version_minor": 0
      },
      "text/plain": [
       "chain 1 |          | 00:00 Status"
      ]
     },
     "metadata": {},
     "output_type": "display_data"
    },
    {
     "data": {
      "application/vnd.jupyter.widget-view+json": {
       "model_id": "9549d90321884cf7981b811cfcef9ec2",
       "version_major": 2,
       "version_minor": 0
      },
      "text/plain": [
       "chain 2 |          | 00:00 Status"
      ]
     },
     "metadata": {},
     "output_type": "display_data"
    },
    {
     "data": {
      "application/vnd.jupyter.widget-view+json": {
       "model_id": "8a25183827d843a4bbb3e51e858470fe",
       "version_major": 2,
       "version_minor": 0
      },
      "text/plain": [
       "chain 3 |          | 00:00 Status"
      ]
     },
     "metadata": {},
     "output_type": "display_data"
    },
    {
     "data": {
      "application/vnd.jupyter.widget-view+json": {
       "model_id": "39bc7276a4cc4ee7bb98214dbe8b4bca",
       "version_major": 2,
       "version_minor": 0
      },
      "text/plain": [
       "chain 4 |          | 00:00 Status"
      ]
     },
     "metadata": {},
     "output_type": "display_data"
    },
    {
     "name": "stdout",
     "output_type": "stream",
     "text": [
      "                                                                                                                                                                                                                                                                                                                                "
     ]
    },
    {
     "name": "stderr",
     "output_type": "stream",
     "text": [
      "04:24:44 - cmdstanpy - INFO - CmdStan done processing.\n",
      "04:24:44 - cmdstanpy - WARNING - Non-fatal error during sampling:\n",
      "Exception: Exception: normal_lpdf: Random variable is nan, but must be not nan! (in 'real_data.stan', line 81, column 2 to column 53) (in 'real_data.stan', line 175, column 2 to line 180, column 4)\n",
      "\tException: Exception: normal_lpdf: Random variable is nan, but must be not nan! (in 'real_data.stan', line 81, column 2 to column 53) (in 'real_data.stan', line 175, column 2 to line 180, column 4)\n",
      "Exception: Exception: normal_lpdf: Random variable is nan, but must be not nan! (in 'real_data.stan', line 81, column 2 to column 53) (in 'real_data.stan', line 175, column 2 to line 180, column 4)\n",
      "Exception: Exception: normal_lpdf: Random variable is nan, but must be not nan! (in 'real_data.stan', line 81, column 2 to column 53) (in 'real_data.stan', line 175, column 2 to line 180, column 4)\n",
      "Exception: Exception: normal_lpdf: Random variable is nan, but must be not nan! (in 'real_data.stan', line 81, column 2 to column 53) (in 'real_data.stan', line 175, column 2 to line 180, column 4)\n",
      "\tException: Exception: normal_lpdf: Random variable is nan, but must be not nan! (in 'real_data.stan', line 81, column 2 to column 53) (in 'real_data.stan', line 175, column 2 to line 180, column 4)\n",
      "Consider re-running with show_console=True if the above output is unclear!\n"
     ]
    },
    {
     "name": "stdout",
     "output_type": "stream",
     "text": [
      "\n"
     ]
    },
    {
     "name": "stderr",
     "output_type": "stream",
     "text": [
      "04:24:49 - cmdstanpy - INFO - CmdStan start processing\n"
     ]
    },
    {
     "name": "stdout",
     "output_type": "stream",
     "text": [
      "contest_2454 end\n",
      "contest_3960 begin\n"
     ]
    },
    {
     "data": {
      "application/vnd.jupyter.widget-view+json": {
       "model_id": "d483386c4d844a45900dc6ec5f1c1d5d",
       "version_major": 2,
       "version_minor": 0
      },
      "text/plain": [
       "chain 1 |          | 00:00 Status"
      ]
     },
     "metadata": {},
     "output_type": "display_data"
    },
    {
     "data": {
      "application/vnd.jupyter.widget-view+json": {
       "model_id": "a384c8e4555e496892fd67e433fe588a",
       "version_major": 2,
       "version_minor": 0
      },
      "text/plain": [
       "chain 2 |          | 00:00 Status"
      ]
     },
     "metadata": {},
     "output_type": "display_data"
    },
    {
     "data": {
      "application/vnd.jupyter.widget-view+json": {
       "model_id": "d98281dafde04309b61982f089e071ee",
       "version_major": 2,
       "version_minor": 0
      },
      "text/plain": [
       "chain 3 |          | 00:00 Status"
      ]
     },
     "metadata": {},
     "output_type": "display_data"
    },
    {
     "data": {
      "application/vnd.jupyter.widget-view+json": {
       "model_id": "9d8661bf8a5b45a88026933b49d00685",
       "version_major": 2,
       "version_minor": 0
      },
      "text/plain": [
       "chain 4 |          | 00:00 Status"
      ]
     },
     "metadata": {},
     "output_type": "display_data"
    },
    {
     "name": "stdout",
     "output_type": "stream",
     "text": [
      "                                                                                                                                                                                                                                                                                                                                "
     ]
    },
    {
     "name": "stderr",
     "output_type": "stream",
     "text": [
      "04:26:36 - cmdstanpy - INFO - CmdStan done processing.\n",
      "04:26:36 - cmdstanpy - WARNING - Non-fatal error during sampling:\n",
      "Exception: Exception: normal_lpdf: Random variable is nan, but must be not nan! (in 'real_data.stan', line 81, column 2 to column 53) (in 'real_data.stan', line 175, column 2 to line 180, column 4)\n",
      "\tException: Exception: normal_lpdf: Random variable is nan, but must be not nan! (in 'real_data.stan', line 81, column 2 to column 53) (in 'real_data.stan', line 175, column 2 to line 180, column 4)\n",
      "\tException: Exception: normal_lpdf: Random variable is nan, but must be not nan! (in 'real_data.stan', line 81, column 2 to column 53) (in 'real_data.stan', line 175, column 2 to line 180, column 4)\n",
      "\tException: Exception: normal_lpdf: Random variable is nan, but must be not nan! (in 'real_data.stan', line 81, column 2 to column 53) (in 'real_data.stan', line 175, column 2 to line 180, column 4)\n",
      "\tException: Exception: normal_lpdf: Random variable is nan, but must be not nan! (in 'real_data.stan', line 81, column 2 to column 53) (in 'real_data.stan', line 175, column 2 to line 180, column 4)\n",
      "\tException: Exception: normal_lpdf: Random variable is nan, but must be not nan! (in 'real_data.stan', line 81, column 2 to column 53) (in 'real_data.stan', line 175, column 2 to line 180, column 4)\n",
      "\tException: Exception: normal_lpdf: Random variable is nan, but must be not nan! (in 'real_data.stan', line 81, column 2 to column 53) (in 'real_data.stan', line 175, column 2 to line 180, column 4)\n",
      "\tException: Exception: normal_lpdf: Random variable is nan, but must be not nan! (in 'real_data.stan', line 81, column 2 to column 53) (in 'real_data.stan', line 175, column 2 to line 180, column 4)\n",
      "Exception: Exception: normal_lpdf: Random variable is nan, but must be not nan! (in 'real_data.stan', line 81, column 2 to column 53) (in 'real_data.stan', line 175, column 2 to line 180, column 4)\n",
      "\tException: Exception: normal_lpdf: Random variable is nan, but must be not nan! (in 'real_data.stan', line 81, column 2 to column 53) (in 'real_data.stan', line 175, column 2 to line 180, column 4)\n",
      "Exception: Exception: normal_lpdf: Random variable is nan, but must be not nan! (in 'real_data.stan', line 81, column 2 to column 53) (in 'real_data.stan', line 175, column 2 to line 180, column 4)\n",
      "\tException: Exception: normal_lpdf: Random variable is nan, but must be not nan! (in 'real_data.stan', line 81, column 2 to column 53) (in 'real_data.stan', line 175, column 2 to line 180, column 4)\n",
      "\tException: Exception: normal_lpdf: Random variable is nan, but must be not nan! (in 'real_data.stan', line 81, column 2 to column 53) (in 'real_data.stan', line 175, column 2 to line 180, column 4)\n",
      "\tException: Exception: normal_lpdf: Random variable is nan, but must be not nan! (in 'real_data.stan', line 81, column 2 to column 53) (in 'real_data.stan', line 175, column 2 to line 180, column 4)\n",
      "\tException: Exception: normal_lpdf: Random variable is nan, but must be not nan! (in 'real_data.stan', line 81, column 2 to column 53) (in 'real_data.stan', line 175, column 2 to line 180, column 4)\n",
      "Exception: Exception: normal_lpdf: Random variable is nan, but must be not nan! (in 'real_data.stan', line 81, column 2 to column 53) (in 'real_data.stan', line 175, column 2 to line 180, column 4)\n",
      "\tException: Exception: normal_lpdf: Random variable is nan, but must be not nan! (in 'real_data.stan', line 81, column 2 to column 53) (in 'real_data.stan', line 175, column 2 to line 180, column 4)\n",
      "\tException: Exception: normal_lpdf: Random variable is nan, but must be not nan! (in 'real_data.stan', line 81, column 2 to column 53) (in 'real_data.stan', line 175, column 2 to line 180, column 4)\n",
      "\tException: Exception: normal_lpdf: Random variable is nan, but must be not nan! (in 'real_data.stan', line 81, column 2 to column 53) (in 'real_data.stan', line 175, column 2 to line 180, column 4)\n",
      "Consider re-running with show_console=True if the above output is unclear!\n"
     ]
    },
    {
     "name": "stdout",
     "output_type": "stream",
     "text": [
      "\n"
     ]
    },
    {
     "name": "stderr",
     "output_type": "stream",
     "text": [
      "04:26:39 - cmdstanpy - WARNING - Some chains may have failed to converge.\n",
      "\tChain 1 had 10 divergent transitions (0.5%)\n",
      "\tChain 2 had 11 divergent transitions (0.5%)\n",
      "\tChain 3 had 4 divergent transitions (0.2%)\n",
      "\tChain 4 had 8 divergent transitions (0.4%)\n",
      "\tUse the \"diagnose()\" method on the CmdStanMCMC object to see further information.\n",
      "04:26:49 - cmdstanpy - INFO - CmdStan start processing\n"
     ]
    },
    {
     "name": "stdout",
     "output_type": "stream",
     "text": [
      "contest_3960 end\n",
      "contest_37077 begin\n"
     ]
    },
    {
     "data": {
      "application/vnd.jupyter.widget-view+json": {
       "model_id": "2d0ca37e04dc49bf801b0826b62769c4",
       "version_major": 2,
       "version_minor": 0
      },
      "text/plain": [
       "chain 1 |          | 00:00 Status"
      ]
     },
     "metadata": {},
     "output_type": "display_data"
    },
    {
     "data": {
      "application/vnd.jupyter.widget-view+json": {
       "model_id": "12be30e917ec4b6bb77a4e46851e094b",
       "version_major": 2,
       "version_minor": 0
      },
      "text/plain": [
       "chain 2 |          | 00:00 Status"
      ]
     },
     "metadata": {},
     "output_type": "display_data"
    },
    {
     "data": {
      "application/vnd.jupyter.widget-view+json": {
       "model_id": "2c64d16ee594404ba5b6f03d48dd0aa0",
       "version_major": 2,
       "version_minor": 0
      },
      "text/plain": [
       "chain 3 |          | 00:00 Status"
      ]
     },
     "metadata": {},
     "output_type": "display_data"
    },
    {
     "data": {
      "application/vnd.jupyter.widget-view+json": {
       "model_id": "d932632b89894bc98ab34bb451fa2ab7",
       "version_major": 2,
       "version_minor": 0
      },
      "text/plain": [
       "chain 4 |          | 00:00 Status"
      ]
     },
     "metadata": {},
     "output_type": "display_data"
    },
    {
     "name": "stdout",
     "output_type": "stream",
     "text": [
      "                                                                                                                                                                                                                                                                                                                                "
     ]
    },
    {
     "name": "stderr",
     "output_type": "stream",
     "text": [
      "04:30:20 - cmdstanpy - INFO - CmdStan done processing.\n",
      "04:30:20 - cmdstanpy - WARNING - Non-fatal error during sampling:\n",
      "Exception: Exception: normal_lpdf: Random variable is nan, but must be not nan! (in 'real_data.stan', line 81, column 2 to column 53) (in 'real_data.stan', line 175, column 2 to line 180, column 4)\n",
      "\tException: Exception: normal_lpdf: Random variable is nan, but must be not nan! (in 'real_data.stan', line 81, column 2 to column 53) (in 'real_data.stan', line 175, column 2 to line 180, column 4)\n",
      "\tException: Exception: normal_lpdf: Random variable is nan, but must be not nan! (in 'real_data.stan', line 81, column 2 to column 53) (in 'real_data.stan', line 175, column 2 to line 180, column 4)\n",
      "\tException: Exception: normal_lpdf: Random variable is nan, but must be not nan! (in 'real_data.stan', line 81, column 2 to column 53) (in 'real_data.stan', line 175, column 2 to line 180, column 4)\n",
      "\tException: Exception: normal_lpdf: Random variable is nan, but must be not nan! (in 'real_data.stan', line 81, column 2 to column 53) (in 'real_data.stan', line 175, column 2 to line 180, column 4)\n",
      "Exception: Exception: normal_lpdf: Random variable is nan, but must be not nan! (in 'real_data.stan', line 81, column 2 to column 53) (in 'real_data.stan', line 175, column 2 to line 180, column 4)\n",
      "\tException: Exception: normal_lpdf: Random variable is nan, but must be not nan! (in 'real_data.stan', line 81, column 2 to column 53) (in 'real_data.stan', line 175, column 2 to line 180, column 4)\n",
      "\tException: Exception: normal_lpdf: Random variable is nan, but must be not nan! (in 'real_data.stan', line 81, column 2 to column 53) (in 'real_data.stan', line 175, column 2 to line 180, column 4)\n",
      "\tException: Exception: normal_lpdf: Random variable is nan, but must be not nan! (in 'real_data.stan', line 81, column 2 to column 53) (in 'real_data.stan', line 175, column 2 to line 180, column 4)\n",
      "\tException: Exception: normal_lpdf: Random variable is nan, but must be not nan! (in 'real_data.stan', line 81, column 2 to column 53) (in 'real_data.stan', line 175, column 2 to line 180, column 4)\n",
      "Exception: Exception: normal_lpdf: Random variable is nan, but must be not nan! (in 'real_data.stan', line 81, column 2 to column 53) (in 'real_data.stan', line 175, column 2 to line 180, column 4)\n",
      "\tException: Exception: normal_lpdf: Random variable is nan, but must be not nan! (in 'real_data.stan', line 81, column 2 to column 53) (in 'real_data.stan', line 175, column 2 to line 180, column 4)\n",
      "\tException: Exception: normal_lpdf: Random variable is nan, but must be not nan! (in 'real_data.stan', line 81, column 2 to column 53) (in 'real_data.stan', line 175, column 2 to line 180, column 4)\n",
      "\tException: Exception: normal_lpdf: Random variable is nan, but must be not nan! (in 'real_data.stan', line 81, column 2 to column 53) (in 'real_data.stan', line 175, column 2 to line 180, column 4)\n",
      "\tException: Exception: normal_lpdf: Random variable is nan, but must be not nan! (in 'real_data.stan', line 81, column 2 to column 53) (in 'real_data.stan', line 175, column 2 to line 180, column 4)\n",
      "Exception: Exception: normal_lpdf: Random variable is nan, but must be not nan! (in 'real_data.stan', line 81, column 2 to column 53) (in 'real_data.stan', line 175, column 2 to line 180, column 4)\n",
      "\tException: Exception: normal_lpdf: Random variable is nan, but must be not nan! (in 'real_data.stan', line 81, column 2 to column 53) (in 'real_data.stan', line 175, column 2 to line 180, column 4)\n",
      "\tException: Exception: normal_lpdf: Random variable is nan, but must be not nan! (in 'real_data.stan', line 81, column 2 to column 53) (in 'real_data.stan', line 175, column 2 to line 180, column 4)\n",
      "Consider re-running with show_console=True if the above output is unclear!\n"
     ]
    },
    {
     "name": "stdout",
     "output_type": "stream",
     "text": [
      "\n"
     ]
    },
    {
     "name": "stderr",
     "output_type": "stream",
     "text": [
      "04:30:24 - cmdstanpy - WARNING - Some chains may have failed to converge.\n",
      "\tChain 1 had 30 divergent transitions (1.5%)\n",
      "\tChain 2 had 10 divergent transitions (0.5%)\n",
      "\tChain 3 had 16 divergent transitions (0.8%)\n",
      "\tChain 4 had 31 divergent transitions (1.6%)\n",
      "\tUse the \"diagnose()\" method on the CmdStanMCMC object to see further information.\n"
     ]
    },
    {
     "name": "stdout",
     "output_type": "stream",
     "text": [
      "contest_37077 end\n"
     ]
    },
    {
     "name": "stderr",
     "output_type": "stream",
     "text": [
      "04:30:44 - cmdstanpy - INFO - CmdStan start processing\n"
     ]
    },
    {
     "name": "stdout",
     "output_type": "stream",
     "text": [
      "contest_3366 begin\n"
     ]
    },
    {
     "data": {
      "application/vnd.jupyter.widget-view+json": {
       "model_id": "64c8bf5c0641413f823c5dc561bc148f",
       "version_major": 2,
       "version_minor": 0
      },
      "text/plain": [
       "chain 1 |          | 00:00 Status"
      ]
     },
     "metadata": {},
     "output_type": "display_data"
    },
    {
     "data": {
      "application/vnd.jupyter.widget-view+json": {
       "model_id": "22b92e5f6c0a48588494f9ab42ef2268",
       "version_major": 2,
       "version_minor": 0
      },
      "text/plain": [
       "chain 2 |          | 00:00 Status"
      ]
     },
     "metadata": {},
     "output_type": "display_data"
    },
    {
     "data": {
      "application/vnd.jupyter.widget-view+json": {
       "model_id": "5893277d935f435abe84e0e01de4b859",
       "version_major": 2,
       "version_minor": 0
      },
      "text/plain": [
       "chain 3 |          | 00:00 Status"
      ]
     },
     "metadata": {},
     "output_type": "display_data"
    },
    {
     "data": {
      "application/vnd.jupyter.widget-view+json": {
       "model_id": "0b24096682db43618bdb6d6e4e7856d9",
       "version_major": 2,
       "version_minor": 0
      },
      "text/plain": [
       "chain 4 |          | 00:00 Status"
      ]
     },
     "metadata": {},
     "output_type": "display_data"
    },
    {
     "name": "stdout",
     "output_type": "stream",
     "text": [
      "                                                                                                                                                                                                                                                                                                                                "
     ]
    },
    {
     "name": "stderr",
     "output_type": "stream",
     "text": [
      "04:31:01 - cmdstanpy - INFO - CmdStan done processing.\n",
      "04:31:01 - cmdstanpy - WARNING - Non-fatal error during sampling:\n",
      "Exception: Exception: normal_lpdf: Random variable is nan, but must be not nan! (in 'real_data.stan', line 81, column 2 to column 53) (in 'real_data.stan', line 175, column 2 to line 180, column 4)\n",
      "\tException: Exception: normal_lpdf: Random variable is nan, but must be not nan! (in 'real_data.stan', line 81, column 2 to column 53) (in 'real_data.stan', line 175, column 2 to line 180, column 4)\n",
      "Exception: Exception: normal_lpdf: Random variable is nan, but must be not nan! (in 'real_data.stan', line 81, column 2 to column 53) (in 'real_data.stan', line 175, column 2 to line 180, column 4)\n",
      "Exception: Exception: normal_lpdf: Random variable is nan, but must be not nan! (in 'real_data.stan', line 81, column 2 to column 53) (in 'real_data.stan', line 175, column 2 to line 180, column 4)\n",
      "\tException: Exception: normal_lpdf: Random variable is nan, but must be not nan! (in 'real_data.stan', line 81, column 2 to column 53) (in 'real_data.stan', line 175, column 2 to line 180, column 4)\n",
      "Exception: Exception: normal_lpdf: Random variable is nan, but must be not nan! (in 'real_data.stan', line 81, column 2 to column 53) (in 'real_data.stan', line 175, column 2 to line 180, column 4)\n",
      "\tException: Exception: normal_lpdf: Random variable is nan, but must be not nan! (in 'real_data.stan', line 81, column 2 to column 53) (in 'real_data.stan', line 175, column 2 to line 180, column 4)\n",
      "\tException: Exception: normal_lpdf: Random variable is nan, but must be not nan! (in 'real_data.stan', line 81, column 2 to column 53) (in 'real_data.stan', line 175, column 2 to line 180, column 4)\n",
      "Consider re-running with show_console=True if the above output is unclear!\n"
     ]
    },
    {
     "name": "stdout",
     "output_type": "stream",
     "text": [
      "\n"
     ]
    },
    {
     "name": "stderr",
     "output_type": "stream",
     "text": [
      "04:31:02 - cmdstanpy - WARNING - Some chains may have failed to converge.\n",
      "\tChain 1 had 1 divergent transitions (0.1%)\n",
      "\tChain 2 had 1 divergent transitions (0.1%)\n",
      "\tChain 4 had 1 divergent transitions (0.1%)\n",
      "\tUse the \"diagnose()\" method on the CmdStanMCMC object to see further information.\n",
      "04:31:05 - cmdstanpy - INFO - CmdStan start processing\n"
     ]
    },
    {
     "name": "stdout",
     "output_type": "stream",
     "text": [
      "contest_3366 end\n",
      "contest_5174 begin\n"
     ]
    },
    {
     "data": {
      "application/vnd.jupyter.widget-view+json": {
       "model_id": "9833494a9f324446807d85791dadea8c",
       "version_major": 2,
       "version_minor": 0
      },
      "text/plain": [
       "chain 1 |          | 00:00 Status"
      ]
     },
     "metadata": {},
     "output_type": "display_data"
    },
    {
     "data": {
      "application/vnd.jupyter.widget-view+json": {
       "model_id": "8a16dd16466b4334bb2b0633c7511467",
       "version_major": 2,
       "version_minor": 0
      },
      "text/plain": [
       "chain 2 |          | 00:00 Status"
      ]
     },
     "metadata": {},
     "output_type": "display_data"
    },
    {
     "data": {
      "application/vnd.jupyter.widget-view+json": {
       "model_id": "e6e4fdebec5e498e8eda40ab30fe6d8b",
       "version_major": 2,
       "version_minor": 0
      },
      "text/plain": [
       "chain 3 |          | 00:00 Status"
      ]
     },
     "metadata": {},
     "output_type": "display_data"
    },
    {
     "data": {
      "application/vnd.jupyter.widget-view+json": {
       "model_id": "219821806e3d4493ba4ca05fb67a3fab",
       "version_major": 2,
       "version_minor": 0
      },
      "text/plain": [
       "chain 4 |          | 00:00 Status"
      ]
     },
     "metadata": {},
     "output_type": "display_data"
    },
    {
     "name": "stdout",
     "output_type": "stream",
     "text": [
      "                                                                                                                                                                                                                                                                                                                                "
     ]
    },
    {
     "name": "stderr",
     "output_type": "stream",
     "text": [
      "04:33:37 - cmdstanpy - INFO - CmdStan done processing.\n",
      "04:33:37 - cmdstanpy - WARNING - Non-fatal error during sampling:\n",
      "Exception: Exception: normal_lpdf: Random variable is nan, but must be not nan! (in 'real_data.stan', line 81, column 2 to column 53) (in 'real_data.stan', line 175, column 2 to line 180, column 4)\n",
      "\tException: Exception: normal_lpdf: Random variable is nan, but must be not nan! (in 'real_data.stan', line 81, column 2 to column 53) (in 'real_data.stan', line 175, column 2 to line 180, column 4)\n",
      "\tException: Exception: normal_lpdf: Random variable is nan, but must be not nan! (in 'real_data.stan', line 81, column 2 to column 53) (in 'real_data.stan', line 175, column 2 to line 180, column 4)\n",
      "\tException: Exception: normal_lpdf: Random variable is nan, but must be not nan! (in 'real_data.stan', line 81, column 2 to column 53) (in 'real_data.stan', line 175, column 2 to line 180, column 4)\n",
      "\tException: Exception: normal_lpdf: Random variable is nan, but must be not nan! (in 'real_data.stan', line 81, column 2 to column 53) (in 'real_data.stan', line 175, column 2 to line 180, column 4)\n",
      "\tException: Exception: normal_lpdf: Random variable is nan, but must be not nan! (in 'real_data.stan', line 81, column 2 to column 53) (in 'real_data.stan', line 175, column 2 to line 180, column 4)\n",
      "Exception: Exception: normal_lpdf: Random variable is nan, but must be not nan! (in 'real_data.stan', line 81, column 2 to column 53) (in 'real_data.stan', line 175, column 2 to line 180, column 4)\n",
      "\tException: Exception: normal_lpdf: Random variable is nan, but must be not nan! (in 'real_data.stan', line 81, column 2 to column 53) (in 'real_data.stan', line 175, column 2 to line 180, column 4)\n",
      "\tException: Exception: normal_lpdf: Random variable is nan, but must be not nan! (in 'real_data.stan', line 81, column 2 to column 53) (in 'real_data.stan', line 175, column 2 to line 180, column 4)\n",
      "\tException: Exception: normal_lpdf: Random variable is nan, but must be not nan! (in 'real_data.stan', line 81, column 2 to column 53) (in 'real_data.stan', line 175, column 2 to line 180, column 4)\n",
      "\tException: Exception: normal_lpdf: Random variable is nan, but must be not nan! (in 'real_data.stan', line 81, column 2 to column 53) (in 'real_data.stan', line 175, column 2 to line 180, column 4)\n",
      "Exception: Exception: normal_lpdf: Random variable is nan, but must be not nan! (in 'real_data.stan', line 81, column 2 to column 53) (in 'real_data.stan', line 175, column 2 to line 180, column 4)\n",
      "\tException: Exception: normal_lpdf: Random variable is nan, but must be not nan! (in 'real_data.stan', line 81, column 2 to column 53) (in 'real_data.stan', line 175, column 2 to line 180, column 4)\n",
      "\tException: Exception: normal_lpdf: Random variable is nan, but must be not nan! (in 'real_data.stan', line 81, column 2 to column 53) (in 'real_data.stan', line 175, column 2 to line 180, column 4)\n",
      "\tException: Exception: normal_lpdf: Random variable is nan, but must be not nan! (in 'real_data.stan', line 81, column 2 to column 53) (in 'real_data.stan', line 175, column 2 to line 180, column 4)\n",
      "\tException: Exception: normal_lpdf: Random variable is nan, but must be not nan! (in 'real_data.stan', line 81, column 2 to column 53) (in 'real_data.stan', line 175, column 2 to line 180, column 4)\n",
      "Exception: Exception: normal_lpdf: Random variable is nan, but must be not nan! (in 'real_data.stan', line 81, column 2 to column 53) (in 'real_data.stan', line 175, column 2 to line 180, column 4)\n",
      "\tException: Exception: normal_lpdf: Random variable is nan, but must be not nan! (in 'real_data.stan', line 81, column 2 to column 53) (in 'real_data.stan', line 175, column 2 to line 180, column 4)\n",
      "\tException: Exception: normal_lpdf: Random variable is nan, but must be not nan! (in 'real_data.stan', line 81, column 2 to column 53) (in 'real_data.stan', line 175, column 2 to line 180, column 4)\n",
      "Consider re-running with show_console=True if the above output is unclear!\n"
     ]
    },
    {
     "name": "stdout",
     "output_type": "stream",
     "text": [
      "\n"
     ]
    },
    {
     "name": "stderr",
     "output_type": "stream",
     "text": [
      "04:33:42 - cmdstanpy - WARNING - Some chains may have failed to converge.\n",
      "\tChain 1 had 17 divergent transitions (0.9%)\n",
      "\tChain 2 had 17 divergent transitions (0.9%)\n",
      "\tChain 3 had 11 divergent transitions (0.5%)\n",
      "\tChain 4 had 59 divergent transitions (2.9%)\n",
      "\tUse the \"diagnose()\" method on the CmdStanMCMC object to see further information.\n",
      "04:34:03 - cmdstanpy - INFO - CmdStan start processing\n"
     ]
    },
    {
     "name": "stdout",
     "output_type": "stream",
     "text": [
      "contest_5174 end\n",
      "contest_10200 begin\n"
     ]
    },
    {
     "data": {
      "application/vnd.jupyter.widget-view+json": {
       "model_id": "53254f23388e401d971a593a2a00c9e9",
       "version_major": 2,
       "version_minor": 0
      },
      "text/plain": [
       "chain 1 |          | 00:00 Status"
      ]
     },
     "metadata": {},
     "output_type": "display_data"
    },
    {
     "data": {
      "application/vnd.jupyter.widget-view+json": {
       "model_id": "b826b267930948d4b58f7806988b7f38",
       "version_major": 2,
       "version_minor": 0
      },
      "text/plain": [
       "chain 2 |          | 00:00 Status"
      ]
     },
     "metadata": {},
     "output_type": "display_data"
    },
    {
     "data": {
      "application/vnd.jupyter.widget-view+json": {
       "model_id": "c2bc06c2c5c84e09abb0abac6399a0b7",
       "version_major": 2,
       "version_minor": 0
      },
      "text/plain": [
       "chain 3 |          | 00:00 Status"
      ]
     },
     "metadata": {},
     "output_type": "display_data"
    },
    {
     "data": {
      "application/vnd.jupyter.widget-view+json": {
       "model_id": "290002dedfa847089e86637f09c38fce",
       "version_major": 2,
       "version_minor": 0
      },
      "text/plain": [
       "chain 4 |          | 00:00 Status"
      ]
     },
     "metadata": {},
     "output_type": "display_data"
    },
    {
     "name": "stdout",
     "output_type": "stream",
     "text": [
      "                                                                                                                                                                                                                                                                                                                                "
     ]
    },
    {
     "name": "stderr",
     "output_type": "stream",
     "text": [
      "04:35:11 - cmdstanpy - INFO - CmdStan done processing.\n",
      "04:35:11 - cmdstanpy - WARNING - Non-fatal error during sampling:\n",
      "Exception: Exception: normal_lpdf: Random variable is nan, but must be not nan! (in 'real_data.stan', line 81, column 2 to column 53) (in 'real_data.stan', line 175, column 2 to line 180, column 4)\n",
      "\tException: Exception: normal_lpdf: Random variable is nan, but must be not nan! (in 'real_data.stan', line 81, column 2 to column 53) (in 'real_data.stan', line 175, column 2 to line 180, column 4)\n",
      "\tException: Exception: normal_lpdf: Random variable is nan, but must be not nan! (in 'real_data.stan', line 81, column 2 to column 53) (in 'real_data.stan', line 175, column 2 to line 180, column 4)\n",
      "\tException: Exception: normal_lpdf: Random variable is nan, but must be not nan! (in 'real_data.stan', line 81, column 2 to column 53) (in 'real_data.stan', line 175, column 2 to line 180, column 4)\n",
      "Exception: Exception: normal_lpdf: Random variable is nan, but must be not nan! (in 'real_data.stan', line 81, column 2 to column 53) (in 'real_data.stan', line 175, column 2 to line 180, column 4)\n",
      "\tException: Exception: normal_lpdf: Random variable is nan, but must be not nan! (in 'real_data.stan', line 81, column 2 to column 53) (in 'real_data.stan', line 175, column 2 to line 180, column 4)\n",
      "Exception: Exception: normal_lpdf: Random variable is nan, but must be not nan! (in 'real_data.stan', line 81, column 2 to column 53) (in 'real_data.stan', line 175, column 2 to line 180, column 4)\n",
      "\tException: Exception: normal_lpdf: Random variable is nan, but must be not nan! (in 'real_data.stan', line 81, column 2 to column 53) (in 'real_data.stan', line 175, column 2 to line 180, column 4)\n",
      "\tException: Exception: normal_lpdf: Random variable is nan, but must be not nan! (in 'real_data.stan', line 81, column 2 to column 53) (in 'real_data.stan', line 175, column 2 to line 180, column 4)\n",
      "\tException: Exception: normal_lpdf: Random variable is nan, but must be not nan! (in 'real_data.stan', line 81, column 2 to column 53) (in 'real_data.stan', line 175, column 2 to line 180, column 4)\n",
      "Exception: Exception: normal_lpdf: Random variable is nan, but must be not nan! (in 'real_data.stan', line 81, column 2 to column 53) (in 'real_data.stan', line 175, column 2 to line 180, column 4)\n",
      "\tException: Exception: normal_lpdf: Random variable is nan, but must be not nan! (in 'real_data.stan', line 81, column 2 to column 53) (in 'real_data.stan', line 175, column 2 to line 180, column 4)\n",
      "\tException: Exception: normal_lpdf: Random variable is nan, but must be not nan! (in 'real_data.stan', line 81, column 2 to column 53) (in 'real_data.stan', line 175, column 2 to line 180, column 4)\n",
      "\tException: Exception: normal_lpdf: Random variable is nan, but must be not nan! (in 'real_data.stan', line 81, column 2 to column 53) (in 'real_data.stan', line 175, column 2 to line 180, column 4)\n",
      "Consider re-running with show_console=True if the above output is unclear!\n"
     ]
    },
    {
     "name": "stdout",
     "output_type": "stream",
     "text": [
      "\n"
     ]
    },
    {
     "name": "stderr",
     "output_type": "stream",
     "text": [
      "04:35:12 - cmdstanpy - WARNING - Some chains may have failed to converge.\n",
      "\tChain 1 had 12 divergent transitions (0.6%)\n",
      "\tChain 2 had 21 divergent transitions (1.1%)\n",
      "\tChain 3 had 12 divergent transitions (0.6%)\n",
      "\tChain 4 had 11 divergent transitions (0.5%)\n",
      "\tUse the \"diagnose()\" method on the CmdStanMCMC object to see further information.\n",
      "04:35:18 - cmdstanpy - INFO - CmdStan start processing\n"
     ]
    },
    {
     "name": "stdout",
     "output_type": "stream",
     "text": [
      "contest_10200 end\n",
      "contest_9120 begin\n"
     ]
    },
    {
     "data": {
      "application/vnd.jupyter.widget-view+json": {
       "model_id": "0b95bb68bc8f46209d0a01d3534a8d28",
       "version_major": 2,
       "version_minor": 0
      },
      "text/plain": [
       "chain 1 |          | 00:00 Status"
      ]
     },
     "metadata": {},
     "output_type": "display_data"
    },
    {
     "data": {
      "application/vnd.jupyter.widget-view+json": {
       "model_id": "a35bdb893b6d46af9e4210de11297c71",
       "version_major": 2,
       "version_minor": 0
      },
      "text/plain": [
       "chain 2 |          | 00:00 Status"
      ]
     },
     "metadata": {},
     "output_type": "display_data"
    },
    {
     "data": {
      "application/vnd.jupyter.widget-view+json": {
       "model_id": "b9fb380a5df84a2c8b1c6da6adec8b15",
       "version_major": 2,
       "version_minor": 0
      },
      "text/plain": [
       "chain 3 |          | 00:00 Status"
      ]
     },
     "metadata": {},
     "output_type": "display_data"
    },
    {
     "data": {
      "application/vnd.jupyter.widget-view+json": {
       "model_id": "661ee26101614e4d8fd6c71f058465d4",
       "version_major": 2,
       "version_minor": 0
      },
      "text/plain": [
       "chain 4 |          | 00:00 Status"
      ]
     },
     "metadata": {},
     "output_type": "display_data"
    },
    {
     "name": "stdout",
     "output_type": "stream",
     "text": [
      "                                                                                                                                                                                                                                                                                                                                "
     ]
    },
    {
     "name": "stderr",
     "output_type": "stream",
     "text": [
      "06:03:10 - cmdstanpy - INFO - CmdStan done processing.\n",
      "06:03:10 - cmdstanpy - WARNING - Non-fatal error during sampling:\n",
      "Exception: Exception: normal_lpdf: Random variable is nan, but must be not nan! (in 'real_data.stan', line 81, column 2 to column 53) (in 'real_data.stan', line 175, column 2 to line 180, column 4)\n",
      "\tException: Exception: normal_lpdf: Random variable is nan, but must be not nan! (in 'real_data.stan', line 81, column 2 to column 53) (in 'real_data.stan', line 175, column 2 to line 180, column 4)\n",
      "\tException: Exception: normal_lpdf: Random variable is nan, but must be not nan! (in 'real_data.stan', line 81, column 2 to column 53) (in 'real_data.stan', line 175, column 2 to line 180, column 4)\n",
      "\tException: Exception: normal_lpdf: Random variable is nan, but must be not nan! (in 'real_data.stan', line 81, column 2 to column 53) (in 'real_data.stan', line 175, column 2 to line 180, column 4)\n",
      "\tException: Exception: normal_lpdf: Random variable is nan, but must be not nan! (in 'real_data.stan', line 81, column 2 to column 53) (in 'real_data.stan', line 175, column 2 to line 180, column 4)\n",
      "Exception: Exception: normal_lpdf: Random variable is nan, but must be not nan! (in 'real_data.stan', line 81, column 2 to column 53) (in 'real_data.stan', line 175, column 2 to line 180, column 4)\n",
      "\tException: Exception: normal_lpdf: Random variable is nan, but must be not nan! (in 'real_data.stan', line 81, column 2 to column 53) (in 'real_data.stan', line 175, column 2 to line 180, column 4)\n",
      "\tException: Exception: normal_lpdf: Random variable is nan, but must be not nan! (in 'real_data.stan', line 81, column 2 to column 53) (in 'real_data.stan', line 175, column 2 to line 180, column 4)\n",
      "\tException: Exception: normal_lpdf: Random variable is nan, but must be not nan! (in 'real_data.stan', line 81, column 2 to column 53) (in 'real_data.stan', line 175, column 2 to line 180, column 4)\n",
      "Exception: Exception: normal_lpdf: Random variable is nan, but must be not nan! (in 'real_data.stan', line 81, column 2 to column 53) (in 'real_data.stan', line 175, column 2 to line 180, column 4)\n",
      "\tException: Exception: normal_lpdf: Random variable is nan, but must be not nan! (in 'real_data.stan', line 81, column 2 to column 53) (in 'real_data.stan', line 175, column 2 to line 180, column 4)\n",
      "\tException: Exception: normal_lpdf: Random variable is nan, but must be not nan! (in 'real_data.stan', line 81, column 2 to column 53) (in 'real_data.stan', line 175, column 2 to line 180, column 4)\n",
      "\tException: Exception: normal_lpdf: Random variable is nan, but must be not nan! (in 'real_data.stan', line 81, column 2 to column 53) (in 'real_data.stan', line 175, column 2 to line 180, column 4)\n",
      "\tException: Exception: normal_lpdf: Random variable is nan, but must be not nan! (in 'real_data.stan', line 81, column 2 to column 53) (in 'real_data.stan', line 175, column 2 to line 180, column 4)\n",
      "Exception: Exception: normal_lpdf: Random variable is nan, but must be not nan! (in 'real_data.stan', line 81, column 2 to column 53) (in 'real_data.stan', line 175, column 2 to line 180, column 4)\n",
      "\tException: Exception: normal_lpdf: Random variable is nan, but must be not nan! (in 'real_data.stan', line 81, column 2 to column 53) (in 'real_data.stan', line 175, column 2 to line 180, column 4)\n",
      "\tException: Exception: normal_lpdf: Random variable is nan, but must be not nan! (in 'real_data.stan', line 81, column 2 to column 53) (in 'real_data.stan', line 175, column 2 to line 180, column 4)\n",
      "\tException: Exception: normal_lpdf: Random variable is nan, but must be not nan! (in 'real_data.stan', line 81, column 2 to column 53) (in 'real_data.stan', line 175, column 2 to line 180, column 4)\n",
      "\tException: Exception: normal_lpdf: Random variable is nan, but must be not nan! (in 'real_data.stan', line 81, column 2 to column 53) (in 'real_data.stan', line 175, column 2 to line 180, column 4)\n",
      "Consider re-running with show_console=True if the above output is unclear!\n"
     ]
    },
    {
     "name": "stdout",
     "output_type": "stream",
     "text": [
      "\n"
     ]
    },
    {
     "name": "stderr",
     "output_type": "stream",
     "text": [
      "06:03:14 - cmdstanpy - WARNING - Some chains may have failed to converge.\n",
      "\tChain 1 had 2 divergent transitions (0.1%)\n",
      "\tChain 1 had 1964 iterations at max treedepth (98.2%)\n",
      "\tChain 2 had 45 divergent transitions (2.2%)\n",
      "\tChain 2 had 12 iterations at max treedepth (0.6%)\n",
      "\tChain 3 had 34 divergent transitions (1.7%)\n",
      "\tChain 3 had 1656 iterations at max treedepth (82.8%)\n",
      "\tChain 4 had 13 divergent transitions (0.7%)\n",
      "\tChain 4 had 1767 iterations at max treedepth (88.3%)\n",
      "\tUse the \"diagnose()\" method on the CmdStanMCMC object to see further information.\n",
      "06:03:31 - cmdstanpy - INFO - CmdStan start processing\n"
     ]
    },
    {
     "name": "stdout",
     "output_type": "stream",
     "text": [
      "contest_9120 end\n",
      "contest_4657 begin\n"
     ]
    },
    {
     "data": {
      "application/vnd.jupyter.widget-view+json": {
       "model_id": "9d58f7883d464a9f997414234c6ffa0d",
       "version_major": 2,
       "version_minor": 0
      },
      "text/plain": [
       "chain 1 |          | 00:00 Status"
      ]
     },
     "metadata": {},
     "output_type": "display_data"
    },
    {
     "data": {
      "application/vnd.jupyter.widget-view+json": {
       "model_id": "0a4479ef720247458d7dba96ee33e89b",
       "version_major": 2,
       "version_minor": 0
      },
      "text/plain": [
       "chain 2 |          | 00:00 Status"
      ]
     },
     "metadata": {},
     "output_type": "display_data"
    },
    {
     "data": {
      "application/vnd.jupyter.widget-view+json": {
       "model_id": "f0f7348f0b604d6fa9ba147453116671",
       "version_major": 2,
       "version_minor": 0
      },
      "text/plain": [
       "chain 3 |          | 00:00 Status"
      ]
     },
     "metadata": {},
     "output_type": "display_data"
    },
    {
     "data": {
      "application/vnd.jupyter.widget-view+json": {
       "model_id": "bb657d8b502e4bff9830a24899750254",
       "version_major": 2,
       "version_minor": 0
      },
      "text/plain": [
       "chain 4 |          | 00:00 Status"
      ]
     },
     "metadata": {},
     "output_type": "display_data"
    },
    {
     "name": "stdout",
     "output_type": "stream",
     "text": [
      "                                                                                                                                                                                                                                                                                                                                "
     ]
    },
    {
     "name": "stderr",
     "output_type": "stream",
     "text": [
      "06:54:42 - cmdstanpy - INFO - CmdStan done processing.\n",
      "06:54:42 - cmdstanpy - WARNING - Non-fatal error during sampling:\n",
      "Exception: Exception: normal_lpdf: Random variable is nan, but must be not nan! (in 'real_data.stan', line 81, column 2 to column 53) (in 'real_data.stan', line 175, column 2 to line 180, column 4)\n",
      "\tException: Exception: normal_lpdf: Random variable is nan, but must be not nan! (in 'real_data.stan', line 81, column 2 to column 53) (in 'real_data.stan', line 175, column 2 to line 180, column 4)\n",
      "\tException: Exception: normal_lpdf: Random variable is nan, but must be not nan! (in 'real_data.stan', line 81, column 2 to column 53) (in 'real_data.stan', line 175, column 2 to line 180, column 4)\n",
      "\tException: Exception: normal_lpdf: Random variable is nan, but must be not nan! (in 'real_data.stan', line 81, column 2 to column 53) (in 'real_data.stan', line 175, column 2 to line 180, column 4)\n",
      "\tException: Exception: normal_lpdf: Random variable is nan, but must be not nan! (in 'real_data.stan', line 81, column 2 to column 53) (in 'real_data.stan', line 175, column 2 to line 180, column 4)\n",
      "Exception: Exception: normal_lpdf: Random variable is nan, but must be not nan! (in 'real_data.stan', line 81, column 2 to column 53) (in 'real_data.stan', line 175, column 2 to line 180, column 4)\n",
      "\tException: Exception: normal_lpdf: Random variable is nan, but must be not nan! (in 'real_data.stan', line 81, column 2 to column 53) (in 'real_data.stan', line 175, column 2 to line 180, column 4)\n",
      "Exception: Exception: normal_lpdf: Random variable is nan, but must be not nan! (in 'real_data.stan', line 81, column 2 to column 53) (in 'real_data.stan', line 175, column 2 to line 180, column 4)\n",
      "\tException: Exception: normal_lpdf: Random variable is nan, but must be not nan! (in 'real_data.stan', line 81, column 2 to column 53) (in 'real_data.stan', line 175, column 2 to line 180, column 4)\n",
      "\tException: Exception: normal_lpdf: Random variable is nan, but must be not nan! (in 'real_data.stan', line 81, column 2 to column 53) (in 'real_data.stan', line 175, column 2 to line 180, column 4)\n",
      "\tException: Exception: normal_lpdf: Random variable is nan, but must be not nan! (in 'real_data.stan', line 81, column 2 to column 53) (in 'real_data.stan', line 175, column 2 to line 180, column 4)\n",
      "Exception: Exception: normal_lpdf: Random variable is nan, but must be not nan! (in 'real_data.stan', line 81, column 2 to column 53) (in 'real_data.stan', line 175, column 2 to line 180, column 4)\n",
      "\tException: Exception: normal_lpdf: Random variable is nan, but must be not nan! (in 'real_data.stan', line 81, column 2 to column 53) (in 'real_data.stan', line 175, column 2 to line 180, column 4)\n",
      "\tException: Exception: normal_lpdf: Random variable is nan, but must be not nan! (in 'real_data.stan', line 81, column 2 to column 53) (in 'real_data.stan', line 175, column 2 to line 180, column 4)\n",
      "\tException: Exception: normal_lpdf: Random variable is nan, but must be not nan! (in 'real_data.stan', line 81, column 2 to column 53) (in 'real_data.stan', line 175, column 2 to line 180, column 4)\n",
      "Consider re-running with show_console=True if the above output is unclear!\n"
     ]
    },
    {
     "name": "stdout",
     "output_type": "stream",
     "text": [
      "\n"
     ]
    },
    {
     "name": "stderr",
     "output_type": "stream",
     "text": [
      "06:54:45 - cmdstanpy - WARNING - Some chains may have failed to converge.\n",
      "\tChain 1 had 32 divergent transitions (1.6%)\n",
      "\tChain 2 had 44 divergent transitions (2.2%)\n",
      "\tChain 3 had 4 divergent transitions (0.2%)\n",
      "\tChain 3 had 1908 iterations at max treedepth (95.4%)\n",
      "\tChain 4 had 46 divergent transitions (2.3%)\n",
      "\tUse the \"diagnose()\" method on the CmdStanMCMC object to see further information.\n",
      "06:54:57 - cmdstanpy - INFO - CmdStan start processing\n"
     ]
    },
    {
     "name": "stdout",
     "output_type": "stream",
     "text": [
      "contest_4657 end\n",
      "contest_3080 begin\n"
     ]
    },
    {
     "data": {
      "application/vnd.jupyter.widget-view+json": {
       "model_id": "0452a5dfcc2042cd9ac90e162c50dad7",
       "version_major": 2,
       "version_minor": 0
      },
      "text/plain": [
       "chain 1 |          | 00:00 Status"
      ]
     },
     "metadata": {},
     "output_type": "display_data"
    },
    {
     "data": {
      "application/vnd.jupyter.widget-view+json": {
       "model_id": "cc05205c13da4695b81a75865bb86c15",
       "version_major": 2,
       "version_minor": 0
      },
      "text/plain": [
       "chain 2 |          | 00:00 Status"
      ]
     },
     "metadata": {},
     "output_type": "display_data"
    },
    {
     "data": {
      "application/vnd.jupyter.widget-view+json": {
       "model_id": "7d61f1ee54dc43939c8cf94a6864c813",
       "version_major": 2,
       "version_minor": 0
      },
      "text/plain": [
       "chain 3 |          | 00:00 Status"
      ]
     },
     "metadata": {},
     "output_type": "display_data"
    },
    {
     "data": {
      "application/vnd.jupyter.widget-view+json": {
       "model_id": "faf050661c8144578d6e3dae9fad82b5",
       "version_major": 2,
       "version_minor": 0
      },
      "text/plain": [
       "chain 4 |          | 00:00 Status"
      ]
     },
     "metadata": {},
     "output_type": "display_data"
    },
    {
     "name": "stdout",
     "output_type": "stream",
     "text": [
      "                                                                                                                                                                                                                                                                                                                                "
     ]
    },
    {
     "name": "stderr",
     "output_type": "stream",
     "text": [
      "06:55:19 - cmdstanpy - INFO - CmdStan done processing.\n",
      "06:55:19 - cmdstanpy - WARNING - Non-fatal error during sampling:\n",
      "Exception: Exception: normal_lpdf: Random variable is nan, but must be not nan! (in 'real_data.stan', line 81, column 2 to column 53) (in 'real_data.stan', line 175, column 2 to line 180, column 4)\n",
      "\tException: Exception: normal_lpdf: Random variable is nan, but must be not nan! (in 'real_data.stan', line 81, column 2 to column 53) (in 'real_data.stan', line 175, column 2 to line 180, column 4)\n",
      "Exception: Exception: normal_lpdf: Random variable is nan, but must be not nan! (in 'real_data.stan', line 81, column 2 to column 53) (in 'real_data.stan', line 175, column 2 to line 180, column 4)\n",
      "\tException: Exception: normal_lpdf: Random variable is nan, but must be not nan! (in 'real_data.stan', line 81, column 2 to column 53) (in 'real_data.stan', line 175, column 2 to line 180, column 4)\n",
      "\tException: Exception: normal_lpdf: Random variable is nan, but must be not nan! (in 'real_data.stan', line 81, column 2 to column 53) (in 'real_data.stan', line 175, column 2 to line 180, column 4)\n",
      "Exception: Exception: normal_lpdf: Random variable is nan, but must be not nan! (in 'real_data.stan', line 81, column 2 to column 53) (in 'real_data.stan', line 175, column 2 to line 180, column 4)\n",
      "\tException: Exception: normal_lpdf: Random variable is nan, but must be not nan! (in 'real_data.stan', line 81, column 2 to column 53) (in 'real_data.stan', line 175, column 2 to line 180, column 4)\n",
      "\tException: Exception: normal_lpdf: Random variable is nan, but must be not nan! (in 'real_data.stan', line 81, column 2 to column 53) (in 'real_data.stan', line 175, column 2 to line 180, column 4)\n",
      "Exception: Exception: normal_lpdf: Random variable is nan, but must be not nan! (in 'real_data.stan', line 81, column 2 to column 53) (in 'real_data.stan', line 175, column 2 to line 180, column 4)\n",
      "\tException: Exception: normal_lpdf: Random variable is nan, but must be not nan! (in 'real_data.stan', line 81, column 2 to column 53) (in 'real_data.stan', line 175, column 2 to line 180, column 4)\n",
      "Consider re-running with show_console=True if the above output is unclear!\n"
     ]
    },
    {
     "name": "stdout",
     "output_type": "stream",
     "text": [
      "\n"
     ]
    },
    {
     "name": "stderr",
     "output_type": "stream",
     "text": [
      "06:55:25 - cmdstanpy - INFO - CmdStan start processing\n"
     ]
    },
    {
     "name": "stdout",
     "output_type": "stream",
     "text": [
      "contest_3080 end\n",
      "contest_23652 begin\n"
     ]
    },
    {
     "data": {
      "application/vnd.jupyter.widget-view+json": {
       "model_id": "a66d8e3a2c0c45618dc0f533becdc12b",
       "version_major": 2,
       "version_minor": 0
      },
      "text/plain": [
       "chain 1 |          | 00:00 Status"
      ]
     },
     "metadata": {},
     "output_type": "display_data"
    },
    {
     "data": {
      "application/vnd.jupyter.widget-view+json": {
       "model_id": "e36c26c5d90a44bbb0f9c2724b3c86b1",
       "version_major": 2,
       "version_minor": 0
      },
      "text/plain": [
       "chain 2 |          | 00:00 Status"
      ]
     },
     "metadata": {},
     "output_type": "display_data"
    },
    {
     "data": {
      "application/vnd.jupyter.widget-view+json": {
       "model_id": "f9f462e1fc38485bbad7b62c46d45fa6",
       "version_major": 2,
       "version_minor": 0
      },
      "text/plain": [
       "chain 3 |          | 00:00 Status"
      ]
     },
     "metadata": {},
     "output_type": "display_data"
    },
    {
     "data": {
      "application/vnd.jupyter.widget-view+json": {
       "model_id": "ca7ded629a8845e0b390204b4596763e",
       "version_major": 2,
       "version_minor": 0
      },
      "text/plain": [
       "chain 4 |          | 00:00 Status"
      ]
     },
     "metadata": {},
     "output_type": "display_data"
    },
    {
     "name": "stdout",
     "output_type": "stream",
     "text": [
      "                                                                                                                                                                                                                                                                                                                                "
     ]
    },
    {
     "name": "stderr",
     "output_type": "stream",
     "text": [
      "06:56:54 - cmdstanpy - INFO - CmdStan done processing.\n",
      "06:56:54 - cmdstanpy - WARNING - Non-fatal error during sampling:\n",
      "Exception: Exception: normal_lpdf: Random variable is nan, but must be not nan! (in 'real_data.stan', line 81, column 2 to column 53) (in 'real_data.stan', line 175, column 2 to line 180, column 4)\n",
      "\tException: Exception: normal_lpdf: Random variable is nan, but must be not nan! (in 'real_data.stan', line 81, column 2 to column 53) (in 'real_data.stan', line 175, column 2 to line 180, column 4)\n",
      "Exception: Exception: normal_lpdf: Random variable is nan, but must be not nan! (in 'real_data.stan', line 81, column 2 to column 53) (in 'real_data.stan', line 175, column 2 to line 180, column 4)\n",
      "\tException: Exception: normal_lpdf: Random variable is nan, but must be not nan! (in 'real_data.stan', line 81, column 2 to column 53) (in 'real_data.stan', line 175, column 2 to line 180, column 4)\n",
      "Exception: Exception: normal_lpdf: Random variable is nan, but must be not nan! (in 'real_data.stan', line 81, column 2 to column 53) (in 'real_data.stan', line 175, column 2 to line 180, column 4)\n",
      "\tException: Exception: normal_lpdf: Random variable is nan, but must be not nan! (in 'real_data.stan', line 81, column 2 to column 53) (in 'real_data.stan', line 175, column 2 to line 180, column 4)\n",
      "\tException: Exception: normal_lpdf: Random variable is nan, but must be not nan! (in 'real_data.stan', line 81, column 2 to column 53) (in 'real_data.stan', line 175, column 2 to line 180, column 4)\n",
      "\tException: Exception: normal_lpdf: Random variable is nan, but must be not nan! (in 'real_data.stan', line 81, column 2 to column 53) (in 'real_data.stan', line 175, column 2 to line 180, column 4)\n",
      "Exception: Exception: normal_lpdf: Random variable is nan, but must be not nan! (in 'real_data.stan', line 81, column 2 to column 53) (in 'real_data.stan', line 175, column 2 to line 180, column 4)\n",
      "Consider re-running with show_console=True if the above output is unclear!\n"
     ]
    },
    {
     "name": "stdout",
     "output_type": "stream",
     "text": [
      "\n"
     ]
    },
    {
     "name": "stderr",
     "output_type": "stream",
     "text": [
      "06:56:55 - cmdstanpy - WARNING - Some chains may have failed to converge.\n",
      "\tChain 1 had 14 divergent transitions (0.7%)\n",
      "\tChain 2 had 5 divergent transitions (0.2%)\n",
      "\tChain 3 had 7 divergent transitions (0.4%)\n",
      "\tChain 4 had 7 divergent transitions (0.4%)\n",
      "\tUse the \"diagnose()\" method on the CmdStanMCMC object to see further information.\n",
      "06:57:01 - cmdstanpy - INFO - CmdStan start processing\n"
     ]
    },
    {
     "name": "stdout",
     "output_type": "stream",
     "text": [
      "contest_23652 end\n",
      "contest_4986 begin\n"
     ]
    },
    {
     "data": {
      "application/vnd.jupyter.widget-view+json": {
       "model_id": "1a974bbed7f1439ba702149bea785133",
       "version_major": 2,
       "version_minor": 0
      },
      "text/plain": [
       "chain 1 |          | 00:00 Status"
      ]
     },
     "metadata": {},
     "output_type": "display_data"
    },
    {
     "data": {
      "application/vnd.jupyter.widget-view+json": {
       "model_id": "af9053d35e3f4a7da446f3db9bd37692",
       "version_major": 2,
       "version_minor": 0
      },
      "text/plain": [
       "chain 2 |          | 00:00 Status"
      ]
     },
     "metadata": {},
     "output_type": "display_data"
    },
    {
     "data": {
      "application/vnd.jupyter.widget-view+json": {
       "model_id": "ad23061e2e3f4346b622753720c8ac3f",
       "version_major": 2,
       "version_minor": 0
      },
      "text/plain": [
       "chain 3 |          | 00:00 Status"
      ]
     },
     "metadata": {},
     "output_type": "display_data"
    },
    {
     "data": {
      "application/vnd.jupyter.widget-view+json": {
       "model_id": "2b15a7a1646644c084d63f1fbd2e316c",
       "version_major": 2,
       "version_minor": 0
      },
      "text/plain": [
       "chain 4 |          | 00:00 Status"
      ]
     },
     "metadata": {},
     "output_type": "display_data"
    },
    {
     "name": "stdout",
     "output_type": "stream",
     "text": [
      "                                                                                                                                                                                                                                                                                                                                "
     ]
    },
    {
     "name": "stderr",
     "output_type": "stream",
     "text": [
      "06:57:26 - cmdstanpy - INFO - CmdStan done processing.\n",
      "06:57:26 - cmdstanpy - WARNING - Non-fatal error during sampling:\n",
      "Exception: Exception: normal_lpdf: Random variable is nan, but must be not nan! (in 'real_data.stan', line 81, column 2 to column 53) (in 'real_data.stan', line 175, column 2 to line 180, column 4)\n",
      "\tException: Exception: normal_lpdf: Random variable is nan, but must be not nan! (in 'real_data.stan', line 81, column 2 to column 53) (in 'real_data.stan', line 175, column 2 to line 180, column 4)\n",
      "Exception: Exception: normal_lpdf: Random variable is nan, but must be not nan! (in 'real_data.stan', line 81, column 2 to column 53) (in 'real_data.stan', line 175, column 2 to line 180, column 4)\n",
      "\tException: Exception: normal_lpdf: Random variable is nan, but must be not nan! (in 'real_data.stan', line 81, column 2 to column 53) (in 'real_data.stan', line 175, column 2 to line 180, column 4)\n",
      "\tException: Exception: normal_lpdf: Random variable is nan, but must be not nan! (in 'real_data.stan', line 81, column 2 to column 53) (in 'real_data.stan', line 175, column 2 to line 180, column 4)\n",
      "\tException: Exception: normal_lpdf: Random variable is nan, but must be not nan! (in 'real_data.stan', line 81, column 2 to column 53) (in 'real_data.stan', line 175, column 2 to line 180, column 4)\n",
      "\tException: Exception: normal_lpdf: Random variable is nan, but must be not nan! (in 'real_data.stan', line 81, column 2 to column 53) (in 'real_data.stan', line 175, column 2 to line 180, column 4)\n",
      "Exception: Exception: normal_lpdf: Random variable is nan, but must be not nan! (in 'real_data.stan', line 81, column 2 to column 53) (in 'real_data.stan', line 175, column 2 to line 180, column 4)\n",
      "\tException: Exception: normal_lpdf: Random variable is nan, but must be not nan! (in 'real_data.stan', line 81, column 2 to column 53) (in 'real_data.stan', line 175, column 2 to line 180, column 4)\n",
      "\tException: Exception: normal_lpdf: Random variable is nan, but must be not nan! (in 'real_data.stan', line 81, column 2 to column 53) (in 'real_data.stan', line 175, column 2 to line 180, column 4)\n",
      "\tException: Exception: normal_lpdf: Random variable is nan, but must be not nan! (in 'real_data.stan', line 81, column 2 to column 53) (in 'real_data.stan', line 175, column 2 to line 180, column 4)\n",
      "\tException: Exception: normal_lpdf: Random variable is nan, but must be not nan! (in 'real_data.stan', line 81, column 2 to column 53) (in 'real_data.stan', line 175, column 2 to line 180, column 4)\n",
      "\tException: Exception: normal_lpdf: Random variable is nan, but must be not nan! (in 'real_data.stan', line 81, column 2 to column 53) (in 'real_data.stan', line 175, column 2 to line 180, column 4)\n",
      "Exception: Exception: normal_lpdf: Random variable is nan, but must be not nan! (in 'real_data.stan', line 81, column 2 to column 53) (in 'real_data.stan', line 175, column 2 to line 180, column 4)\n",
      "\tException: Exception: normal_lpdf: Random variable is nan, but must be not nan! (in 'real_data.stan', line 81, column 2 to column 53) (in 'real_data.stan', line 175, column 2 to line 180, column 4)\n",
      "\tException: Exception: normal_lpdf: Random variable is nan, but must be not nan! (in 'real_data.stan', line 81, column 2 to column 53) (in 'real_data.stan', line 175, column 2 to line 180, column 4)\n",
      "\tException: Exception: normal_lpdf: Random variable is nan, but must be not nan! (in 'real_data.stan', line 81, column 2 to column 53) (in 'real_data.stan', line 175, column 2 to line 180, column 4)\n",
      "\tException: Exception: normal_lpdf: Random variable is nan, but must be not nan! (in 'real_data.stan', line 81, column 2 to column 53) (in 'real_data.stan', line 175, column 2 to line 180, column 4)\n",
      "Consider re-running with show_console=True if the above output is unclear!\n"
     ]
    },
    {
     "name": "stdout",
     "output_type": "stream",
     "text": [
      "\n"
     ]
    },
    {
     "name": "stderr",
     "output_type": "stream",
     "text": [
      "06:57:27 - cmdstanpy - WARNING - Some chains may have failed to converge.\n",
      "\tChain 1 had 2 divergent transitions (0.1%)\n",
      "\tChain 2 had 3 divergent transitions (0.1%)\n",
      "\tChain 4 had 1 divergent transitions (0.1%)\n",
      "\tUse the \"diagnose()\" method on the CmdStanMCMC object to see further information.\n",
      "06:57:30 - cmdstanpy - INFO - CmdStan start processing\n"
     ]
    },
    {
     "name": "stdout",
     "output_type": "stream",
     "text": [
      "contest_4986 end\n",
      "contest_14242 begin\n"
     ]
    },
    {
     "data": {
      "application/vnd.jupyter.widget-view+json": {
       "model_id": "538fc3f450b54d4cb656ea1e4520e313",
       "version_major": 2,
       "version_minor": 0
      },
      "text/plain": [
       "chain 1 |          | 00:00 Status"
      ]
     },
     "metadata": {},
     "output_type": "display_data"
    },
    {
     "data": {
      "application/vnd.jupyter.widget-view+json": {
       "model_id": "50454c35b1184ab9a159c4ad19432ec9",
       "version_major": 2,
       "version_minor": 0
      },
      "text/plain": [
       "chain 2 |          | 00:00 Status"
      ]
     },
     "metadata": {},
     "output_type": "display_data"
    },
    {
     "data": {
      "application/vnd.jupyter.widget-view+json": {
       "model_id": "5401f34af9ec479282b99628f7adad8c",
       "version_major": 2,
       "version_minor": 0
      },
      "text/plain": [
       "chain 3 |          | 00:00 Status"
      ]
     },
     "metadata": {},
     "output_type": "display_data"
    },
    {
     "data": {
      "application/vnd.jupyter.widget-view+json": {
       "model_id": "0921431ac1184556a4e257f1e56db6eb",
       "version_major": 2,
       "version_minor": 0
      },
      "text/plain": [
       "chain 4 |          | 00:00 Status"
      ]
     },
     "metadata": {},
     "output_type": "display_data"
    },
    {
     "name": "stdout",
     "output_type": "stream",
     "text": [
      "                                                                                                                                                                                                                                                                                                                                "
     ]
    },
    {
     "name": "stderr",
     "output_type": "stream",
     "text": [
      "07:38:40 - cmdstanpy - INFO - CmdStan done processing.\n",
      "07:38:40 - cmdstanpy - WARNING - Non-fatal error during sampling:\n",
      "Exception: Exception: normal_lpdf: Random variable is nan, but must be not nan! (in 'real_data.stan', line 81, column 2 to column 53) (in 'real_data.stan', line 175, column 2 to line 180, column 4)\n",
      "\tException: Exception: normal_lpdf: Random variable is nan, but must be not nan! (in 'real_data.stan', line 81, column 2 to column 53) (in 'real_data.stan', line 175, column 2 to line 180, column 4)\n",
      "\tException: Exception: normal_lpdf: Random variable is nan, but must be not nan! (in 'real_data.stan', line 81, column 2 to column 53) (in 'real_data.stan', line 175, column 2 to line 180, column 4)\n",
      "\tException: Exception: normal_lpdf: Random variable is nan, but must be not nan! (in 'real_data.stan', line 81, column 2 to column 53) (in 'real_data.stan', line 175, column 2 to line 180, column 4)\n",
      "\tException: Exception: normal_lpdf: Random variable is nan, but must be not nan! (in 'real_data.stan', line 81, column 2 to column 53) (in 'real_data.stan', line 175, column 2 to line 180, column 4)\n",
      "Exception: Exception: normal_lpdf: Random variable is nan, but must be not nan! (in 'real_data.stan', line 81, column 2 to column 53) (in 'real_data.stan', line 175, column 2 to line 180, column 4)\n",
      "\tException: Exception: normal_lpdf: Random variable is nan, but must be not nan! (in 'real_data.stan', line 81, column 2 to column 53) (in 'real_data.stan', line 175, column 2 to line 180, column 4)\n",
      "\tException: Exception: normal_lpdf: Random variable is nan, but must be not nan! (in 'real_data.stan', line 81, column 2 to column 53) (in 'real_data.stan', line 175, column 2 to line 180, column 4)\n",
      "\tException: Exception: normal_lpdf: Random variable is nan, but must be not nan! (in 'real_data.stan', line 81, column 2 to column 53) (in 'real_data.stan', line 175, column 2 to line 180, column 4)\n",
      "Exception: Exception: normal_lpdf: Random variable is nan, but must be not nan! (in 'real_data.stan', line 81, column 2 to column 53) (in 'real_data.stan', line 175, column 2 to line 180, column 4)\n",
      "\tException: Exception: normal_lpdf: Random variable is nan, but must be not nan! (in 'real_data.stan', line 81, column 2 to column 53) (in 'real_data.stan', line 175, column 2 to line 180, column 4)\n",
      "\tException: Exception: normal_lpdf: Random variable is nan, but must be not nan! (in 'real_data.stan', line 81, column 2 to column 53) (in 'real_data.stan', line 175, column 2 to line 180, column 4)\n",
      "\tException: Exception: normal_lpdf: Random variable is nan, but must be not nan! (in 'real_data.stan', line 81, column 2 to column 53) (in 'real_data.stan', line 175, column 2 to line 180, column 4)\n",
      "\tException: Exception: normal_lpdf: Random variable is nan, but must be not nan! (in 'real_data.stan', line 81, column 2 to column 53) (in 'real_data.stan', line 175, column 2 to line 180, column 4)\n",
      "Exception: Exception: normal_lpdf: Random variable is nan, but must be not nan! (in 'real_data.stan', line 81, column 2 to column 53) (in 'real_data.stan', line 175, column 2 to line 180, column 4)\n",
      "\tException: Exception: normal_lpdf: Random variable is nan, but must be not nan! (in 'real_data.stan', line 81, column 2 to column 53) (in 'real_data.stan', line 175, column 2 to line 180, column 4)\n",
      "Consider re-running with show_console=True if the above output is unclear!\n"
     ]
    },
    {
     "name": "stdout",
     "output_type": "stream",
     "text": [
      "\n"
     ]
    },
    {
     "name": "stderr",
     "output_type": "stream",
     "text": [
      "07:38:46 - cmdstanpy - WARNING - Some chains may have failed to converge.\n",
      "\tChain 1 had 69 divergent transitions (3.5%)\n",
      "\tChain 1 had 1 iterations at max treedepth (0.1%)\n",
      "\tChain 2 had 68 divergent transitions (3.4%)\n",
      "\tChain 3 had 54 divergent transitions (2.7%)\n",
      "\tChain 3 had 21 iterations at max treedepth (1.1%)\n",
      "\tChain 4 had 88 divergent transitions (4.4%)\n",
      "\tUse the \"diagnose()\" method on the CmdStanMCMC object to see further information.\n",
      "07:39:10 - cmdstanpy - INFO - CmdStan start processing\n"
     ]
    },
    {
     "name": "stdout",
     "output_type": "stream",
     "text": [
      "contest_14242 end\n",
      "contest_4699 begin\n"
     ]
    },
    {
     "data": {
      "application/vnd.jupyter.widget-view+json": {
       "model_id": "182db97da6c64c16aa5a8e6778161a58",
       "version_major": 2,
       "version_minor": 0
      },
      "text/plain": [
       "chain 1 |          | 00:00 Status"
      ]
     },
     "metadata": {},
     "output_type": "display_data"
    },
    {
     "data": {
      "application/vnd.jupyter.widget-view+json": {
       "model_id": "670fb413b0224528ba241fc4d9425fc4",
       "version_major": 2,
       "version_minor": 0
      },
      "text/plain": [
       "chain 2 |          | 00:00 Status"
      ]
     },
     "metadata": {},
     "output_type": "display_data"
    },
    {
     "data": {
      "application/vnd.jupyter.widget-view+json": {
       "model_id": "4cd228a84c3c44058a215200099e3506",
       "version_major": 2,
       "version_minor": 0
      },
      "text/plain": [
       "chain 3 |          | 00:00 Status"
      ]
     },
     "metadata": {},
     "output_type": "display_data"
    },
    {
     "data": {
      "application/vnd.jupyter.widget-view+json": {
       "model_id": "ae1a81ef59d2410f8be4aee4d888f426",
       "version_major": 2,
       "version_minor": 0
      },
      "text/plain": [
       "chain 4 |          | 00:00 Status"
      ]
     },
     "metadata": {},
     "output_type": "display_data"
    },
    {
     "name": "stdout",
     "output_type": "stream",
     "text": [
      "                                                                                                                                                                                                                                                                                                                                "
     ]
    },
    {
     "name": "stderr",
     "output_type": "stream",
     "text": [
      "07:50:50 - cmdstanpy - INFO - CmdStan done processing.\n",
      "07:50:50 - cmdstanpy - WARNING - Non-fatal error during sampling:\n",
      "Exception: Exception: normal_lpdf: Random variable is nan, but must be not nan! (in 'real_data.stan', line 81, column 2 to column 53) (in 'real_data.stan', line 175, column 2 to line 180, column 4)\n",
      "\tException: Exception: normal_lpdf: Random variable is nan, but must be not nan! (in 'real_data.stan', line 81, column 2 to column 53) (in 'real_data.stan', line 175, column 2 to line 180, column 4)\n",
      "\tException: Exception: normal_lpdf: Random variable is nan, but must be not nan! (in 'real_data.stan', line 81, column 2 to column 53) (in 'real_data.stan', line 175, column 2 to line 180, column 4)\n",
      "\tException: Exception: normal_lpdf: Random variable is nan, but must be not nan! (in 'real_data.stan', line 81, column 2 to column 53) (in 'real_data.stan', line 175, column 2 to line 180, column 4)\n",
      "Exception: Exception: normal_lpdf: Random variable is nan, but must be not nan! (in 'real_data.stan', line 81, column 2 to column 53) (in 'real_data.stan', line 175, column 2 to line 180, column 4)\n",
      "\tException: Exception: normal_lpdf: Random variable is nan, but must be not nan! (in 'real_data.stan', line 81, column 2 to column 53) (in 'real_data.stan', line 175, column 2 to line 180, column 4)\n",
      "Exception: Exception: normal_lpdf: Random variable is nan, but must be not nan! (in 'real_data.stan', line 81, column 2 to column 53) (in 'real_data.stan', line 175, column 2 to line 180, column 4)\n",
      "\tException: Exception: normal_lpdf: Random variable is nan, but must be not nan! (in 'real_data.stan', line 81, column 2 to column 53) (in 'real_data.stan', line 175, column 2 to line 180, column 4)\n",
      "\tException: Exception: normal_lpdf: Random variable is nan, but must be not nan! (in 'real_data.stan', line 81, column 2 to column 53) (in 'real_data.stan', line 175, column 2 to line 180, column 4)\n",
      "\tException: Exception: normal_lpdf: Random variable is nan, but must be not nan! (in 'real_data.stan', line 81, column 2 to column 53) (in 'real_data.stan', line 175, column 2 to line 180, column 4)\n",
      "Exception: Exception: normal_lpdf: Random variable is nan, but must be not nan! (in 'real_data.stan', line 81, column 2 to column 53) (in 'real_data.stan', line 175, column 2 to line 180, column 4)\n",
      "\tException: Exception: normal_lpdf: Random variable is nan, but must be not nan! (in 'real_data.stan', line 81, column 2 to column 53) (in 'real_data.stan', line 175, column 2 to line 180, column 4)\n",
      "\tException: Exception: normal_lpdf: Random variable is nan, but must be not nan! (in 'real_data.stan', line 81, column 2 to column 53) (in 'real_data.stan', line 175, column 2 to line 180, column 4)\n",
      "\tException: Exception: normal_lpdf: Random variable is nan, but must be not nan! (in 'real_data.stan', line 81, column 2 to column 53) (in 'real_data.stan', line 175, column 2 to line 180, column 4)\n",
      "\tException: Exception: normal_lpdf: Random variable is nan, but must be not nan! (in 'real_data.stan', line 81, column 2 to column 53) (in 'real_data.stan', line 175, column 2 to line 180, column 4)\n",
      "Consider re-running with show_console=True if the above output is unclear!\n"
     ]
    },
    {
     "name": "stdout",
     "output_type": "stream",
     "text": [
      "\n"
     ]
    },
    {
     "name": "stderr",
     "output_type": "stream",
     "text": [
      "07:50:53 - cmdstanpy - WARNING - Some chains may have failed to converge.\n",
      "\tChain 1 had 7 divergent transitions (0.4%)\n",
      "\tChain 2 had 10 divergent transitions (0.5%)\n",
      "\tChain 3 had 13 divergent transitions (0.7%)\n",
      "\tChain 4 had 10 divergent transitions (0.5%)\n",
      "\tUse the \"diagnose()\" method on the CmdStanMCMC object to see further information.\n",
      "07:51:05 - cmdstanpy - INFO - CmdStan start processing\n"
     ]
    },
    {
     "name": "stdout",
     "output_type": "stream",
     "text": [
      "contest_4699 end\n",
      "contest_2464 begin\n"
     ]
    },
    {
     "data": {
      "application/vnd.jupyter.widget-view+json": {
       "model_id": "cdd846117e3a4eb7a4124f7e2284ca14",
       "version_major": 2,
       "version_minor": 0
      },
      "text/plain": [
       "chain 1 |          | 00:00 Status"
      ]
     },
     "metadata": {},
     "output_type": "display_data"
    },
    {
     "data": {
      "application/vnd.jupyter.widget-view+json": {
       "model_id": "92c3f56f1c4d43139c2820871fad4e8e",
       "version_major": 2,
       "version_minor": 0
      },
      "text/plain": [
       "chain 2 |          | 00:00 Status"
      ]
     },
     "metadata": {},
     "output_type": "display_data"
    },
    {
     "data": {
      "application/vnd.jupyter.widget-view+json": {
       "model_id": "db1a82d429b048409c189744527ca0b2",
       "version_major": 2,
       "version_minor": 0
      },
      "text/plain": [
       "chain 3 |          | 00:00 Status"
      ]
     },
     "metadata": {},
     "output_type": "display_data"
    },
    {
     "data": {
      "application/vnd.jupyter.widget-view+json": {
       "model_id": "144686ea9fba41b6bea1814dd1b1d086",
       "version_major": 2,
       "version_minor": 0
      },
      "text/plain": [
       "chain 4 |          | 00:00 Status"
      ]
     },
     "metadata": {},
     "output_type": "display_data"
    },
    {
     "name": "stdout",
     "output_type": "stream",
     "text": [
      "                                                                                                                                                                                                                                                                                                                                "
     ]
    },
    {
     "name": "stderr",
     "output_type": "stream",
     "text": [
      "07:51:22 - cmdstanpy - INFO - CmdStan done processing.\n",
      "07:51:22 - cmdstanpy - WARNING - Non-fatal error during sampling:\n",
      "Exception: Exception: normal_lpdf: Random variable is nan, but must be not nan! (in 'real_data.stan', line 81, column 2 to column 53) (in 'real_data.stan', line 175, column 2 to line 180, column 4)\n",
      "\tException: Exception: normal_lpdf: Random variable is nan, but must be not nan! (in 'real_data.stan', line 81, column 2 to column 53) (in 'real_data.stan', line 175, column 2 to line 180, column 4)\n",
      "Exception: Exception: normal_lpdf: Random variable is nan, but must be not nan! (in 'real_data.stan', line 81, column 2 to column 53) (in 'real_data.stan', line 175, column 2 to line 180, column 4)\n",
      "\tException: Exception: normal_lpdf: Random variable is nan, but must be not nan! (in 'real_data.stan', line 81, column 2 to column 53) (in 'real_data.stan', line 175, column 2 to line 180, column 4)\n",
      "Exception: Exception: normal_lpdf: Random variable is nan, but must be not nan! (in 'real_data.stan', line 81, column 2 to column 53) (in 'real_data.stan', line 175, column 2 to line 180, column 4)\n",
      "\tException: Exception: normal_lpdf: Random variable is nan, but must be not nan! (in 'real_data.stan', line 81, column 2 to column 53) (in 'real_data.stan', line 175, column 2 to line 180, column 4)\n",
      "Exception: Exception: normal_lpdf: Random variable is nan, but must be not nan! (in 'real_data.stan', line 81, column 2 to column 53) (in 'real_data.stan', line 175, column 2 to line 180, column 4)\n",
      "\tException: Exception: normal_lpdf: Random variable is nan, but must be not nan! (in 'real_data.stan', line 81, column 2 to column 53) (in 'real_data.stan', line 175, column 2 to line 180, column 4)\n",
      "Consider re-running with show_console=True if the above output is unclear!\n"
     ]
    },
    {
     "name": "stdout",
     "output_type": "stream",
     "text": [
      "\n"
     ]
    },
    {
     "name": "stderr",
     "output_type": "stream",
     "text": [
      "07:51:26 - cmdstanpy - INFO - CmdStan start processing\n"
     ]
    },
    {
     "name": "stdout",
     "output_type": "stream",
     "text": [
      "contest_2464 end\n",
      "contest_10684 begin\n"
     ]
    },
    {
     "data": {
      "application/vnd.jupyter.widget-view+json": {
       "model_id": "202d1cf00ab24af1b4aa1122aabd9fc1",
       "version_major": 2,
       "version_minor": 0
      },
      "text/plain": [
       "chain 1 |          | 00:00 Status"
      ]
     },
     "metadata": {},
     "output_type": "display_data"
    },
    {
     "data": {
      "application/vnd.jupyter.widget-view+json": {
       "model_id": "eb5905d4b00146819c0714c51244b062",
       "version_major": 2,
       "version_minor": 0
      },
      "text/plain": [
       "chain 2 |          | 00:00 Status"
      ]
     },
     "metadata": {},
     "output_type": "display_data"
    },
    {
     "data": {
      "application/vnd.jupyter.widget-view+json": {
       "model_id": "e4cbc38cdca34d0c91213d0f180d52f3",
       "version_major": 2,
       "version_minor": 0
      },
      "text/plain": [
       "chain 3 |          | 00:00 Status"
      ]
     },
     "metadata": {},
     "output_type": "display_data"
    },
    {
     "data": {
      "application/vnd.jupyter.widget-view+json": {
       "model_id": "0750dd396c684f48943dc1486c52c873",
       "version_major": 2,
       "version_minor": 0
      },
      "text/plain": [
       "chain 4 |          | 00:00 Status"
      ]
     },
     "metadata": {},
     "output_type": "display_data"
    },
    {
     "name": "stdout",
     "output_type": "stream",
     "text": [
      "                                                                                                                                                                                                                                                                                                                                "
     ]
    },
    {
     "name": "stderr",
     "output_type": "stream",
     "text": [
      "07:53:10 - cmdstanpy - INFO - CmdStan done processing.\n",
      "07:53:10 - cmdstanpy - WARNING - Non-fatal error during sampling:\n",
      "Exception: Exception: normal_lpdf: Random variable is nan, but must be not nan! (in 'real_data.stan', line 81, column 2 to column 53) (in 'real_data.stan', line 175, column 2 to line 180, column 4)\n",
      "\tException: Exception: normal_lpdf: Random variable is nan, but must be not nan! (in 'real_data.stan', line 81, column 2 to column 53) (in 'real_data.stan', line 175, column 2 to line 180, column 4)\n",
      "Exception: Exception: normal_lpdf: Random variable is nan, but must be not nan! (in 'real_data.stan', line 81, column 2 to column 53) (in 'real_data.stan', line 175, column 2 to line 180, column 4)\n",
      "\tException: Exception: normal_lpdf: Random variable is nan, but must be not nan! (in 'real_data.stan', line 81, column 2 to column 53) (in 'real_data.stan', line 175, column 2 to line 180, column 4)\n",
      "Exception: Exception: normal_lpdf: Random variable is nan, but must be not nan! (in 'real_data.stan', line 81, column 2 to column 53) (in 'real_data.stan', line 175, column 2 to line 180, column 4)\n",
      "\tException: Exception: normal_lpdf: Random variable is nan, but must be not nan! (in 'real_data.stan', line 81, column 2 to column 53) (in 'real_data.stan', line 175, column 2 to line 180, column 4)\n",
      "\tException: Exception: normal_lpdf: Random variable is nan, but must be not nan! (in 'real_data.stan', line 81, column 2 to column 53) (in 'real_data.stan', line 175, column 2 to line 180, column 4)\n",
      "\tException: Exception: normal_lpdf: Random variable is nan, but must be not nan! (in 'real_data.stan', line 81, column 2 to column 53) (in 'real_data.stan', line 175, column 2 to line 180, column 4)\n",
      "Exception: Exception: normal_lpdf: Random variable is nan, but must be not nan! (in 'real_data.stan', line 81, column 2 to column 53) (in 'real_data.stan', line 175, column 2 to line 180, column 4)\n",
      "\tException: Exception: normal_lpdf: Random variable is nan, but must be not nan! (in 'real_data.stan', line 81, column 2 to column 53) (in 'real_data.stan', line 175, column 2 to line 180, column 4)\n",
      "Consider re-running with show_console=True if the above output is unclear!\n"
     ]
    },
    {
     "name": "stdout",
     "output_type": "stream",
     "text": [
      "\n"
     ]
    },
    {
     "name": "stderr",
     "output_type": "stream",
     "text": [
      "07:53:11 - cmdstanpy - WARNING - Some chains may have failed to converge.\n",
      "\tChain 1 had 18 divergent transitions (0.9%)\n",
      "\tChain 2 had 21 divergent transitions (1.1%)\n",
      "\tChain 3 had 31 divergent transitions (1.6%)\n",
      "\tChain 4 had 18 divergent transitions (0.9%)\n",
      "\tUse the \"diagnose()\" method on the CmdStanMCMC object to see further information.\n",
      "07:53:14 - cmdstanpy - INFO - CmdStan start processing\n"
     ]
    },
    {
     "name": "stdout",
     "output_type": "stream",
     "text": [
      "contest_10684 end\n",
      "contest_4031 begin\n"
     ]
    },
    {
     "data": {
      "application/vnd.jupyter.widget-view+json": {
       "model_id": "60758af8425540789939444c8bb651c6",
       "version_major": 2,
       "version_minor": 0
      },
      "text/plain": [
       "chain 1 |          | 00:00 Status"
      ]
     },
     "metadata": {},
     "output_type": "display_data"
    },
    {
     "data": {
      "application/vnd.jupyter.widget-view+json": {
       "model_id": "02ff2591bcac44aca8a1883464ae690a",
       "version_major": 2,
       "version_minor": 0
      },
      "text/plain": [
       "chain 2 |          | 00:00 Status"
      ]
     },
     "metadata": {},
     "output_type": "display_data"
    },
    {
     "data": {
      "application/vnd.jupyter.widget-view+json": {
       "model_id": "b06b2cf67642485a9021b6dd332d5062",
       "version_major": 2,
       "version_minor": 0
      },
      "text/plain": [
       "chain 3 |          | 00:00 Status"
      ]
     },
     "metadata": {},
     "output_type": "display_data"
    },
    {
     "data": {
      "application/vnd.jupyter.widget-view+json": {
       "model_id": "423ee6596ff04f8f847066033edf7146",
       "version_major": 2,
       "version_minor": 0
      },
      "text/plain": [
       "chain 4 |          | 00:00 Status"
      ]
     },
     "metadata": {},
     "output_type": "display_data"
    },
    {
     "name": "stdout",
     "output_type": "stream",
     "text": [
      "                                                                                                                                                                                                                                                                                                                                "
     ]
    },
    {
     "name": "stderr",
     "output_type": "stream",
     "text": [
      "07:53:56 - cmdstanpy - INFO - CmdStan done processing.\n",
      "07:53:56 - cmdstanpy - WARNING - Non-fatal error during sampling:\n",
      "Exception: Exception: normal_lpdf: Random variable is nan, but must be not nan! (in 'real_data.stan', line 81, column 2 to column 53) (in 'real_data.stan', line 175, column 2 to line 180, column 4)\n",
      "\tException: Exception: normal_lpdf: Random variable is nan, but must be not nan! (in 'real_data.stan', line 81, column 2 to column 53) (in 'real_data.stan', line 175, column 2 to line 180, column 4)\n",
      "\tException: Exception: normal_lpdf: Random variable is nan, but must be not nan! (in 'real_data.stan', line 81, column 2 to column 53) (in 'real_data.stan', line 175, column 2 to line 180, column 4)\n",
      "\tException: Exception: normal_lpdf: Random variable is nan, but must be not nan! (in 'real_data.stan', line 81, column 2 to column 53) (in 'real_data.stan', line 175, column 2 to line 180, column 4)\n",
      "\tException: Exception: normal_lpdf: Random variable is nan, but must be not nan! (in 'real_data.stan', line 81, column 2 to column 53) (in 'real_data.stan', line 175, column 2 to line 180, column 4)\n",
      "Exception: Exception: normal_lpdf: Random variable is nan, but must be not nan! (in 'real_data.stan', line 81, column 2 to column 53) (in 'real_data.stan', line 175, column 2 to line 180, column 4)\n",
      "\tException: Exception: normal_lpdf: Random variable is nan, but must be not nan! (in 'real_data.stan', line 81, column 2 to column 53) (in 'real_data.stan', line 175, column 2 to line 180, column 4)\n",
      "Exception: Exception: normal_lpdf: Random variable is nan, but must be not nan! (in 'real_data.stan', line 81, column 2 to column 53) (in 'real_data.stan', line 175, column 2 to line 180, column 4)\n",
      "\tException: Exception: normal_lpdf: Random variable is nan, but must be not nan! (in 'real_data.stan', line 81, column 2 to column 53) (in 'real_data.stan', line 175, column 2 to line 180, column 4)\n",
      "\tException: Exception: normal_lpdf: Random variable is nan, but must be not nan! (in 'real_data.stan', line 81, column 2 to column 53) (in 'real_data.stan', line 175, column 2 to line 180, column 4)\n",
      "\tException: Exception: normal_lpdf: Random variable is nan, but must be not nan! (in 'real_data.stan', line 81, column 2 to column 53) (in 'real_data.stan', line 175, column 2 to line 180, column 4)\n",
      "\tException: Exception: normal_lpdf: Random variable is nan, but must be not nan! (in 'real_data.stan', line 81, column 2 to column 53) (in 'real_data.stan', line 175, column 2 to line 180, column 4)\n",
      "Exception: Exception: normal_lpdf: Random variable is nan, but must be not nan! (in 'real_data.stan', line 81, column 2 to column 53) (in 'real_data.stan', line 175, column 2 to line 180, column 4)\n",
      "\tException: Exception: normal_lpdf: Random variable is nan, but must be not nan! (in 'real_data.stan', line 81, column 2 to column 53) (in 'real_data.stan', line 175, column 2 to line 180, column 4)\n",
      "\tException: Exception: normal_lpdf: Random variable is nan, but must be not nan! (in 'real_data.stan', line 81, column 2 to column 53) (in 'real_data.stan', line 175, column 2 to line 180, column 4)\n",
      "\tException: Exception: normal_lpdf: Random variable is nan, but must be not nan! (in 'real_data.stan', line 81, column 2 to column 53) (in 'real_data.stan', line 175, column 2 to line 180, column 4)\n",
      "\tException: Exception: normal_lpdf: Random variable is nan, but must be not nan! (in 'real_data.stan', line 81, column 2 to column 53) (in 'real_data.stan', line 175, column 2 to line 180, column 4)\n",
      "Consider re-running with show_console=True if the above output is unclear!\n"
     ]
    },
    {
     "name": "stdout",
     "output_type": "stream",
     "text": [
      "\n"
     ]
    },
    {
     "name": "stderr",
     "output_type": "stream",
     "text": [
      "07:53:58 - cmdstanpy - WARNING - Some chains may have failed to converge.\n",
      "\tChain 1 had 1 divergent transitions (0.1%)\n",
      "\tChain 2 had 1 divergent transitions (0.1%)\n",
      "\tUse the \"diagnose()\" method on the CmdStanMCMC object to see further information.\n",
      "07:54:04 - cmdstanpy - INFO - CmdStan start processing\n"
     ]
    },
    {
     "name": "stdout",
     "output_type": "stream",
     "text": [
      "contest_4031 end\n",
      "contest_4477 begin\n"
     ]
    },
    {
     "data": {
      "application/vnd.jupyter.widget-view+json": {
       "model_id": "9fa6c7b4d66f4541a79724a92da06f18",
       "version_major": 2,
       "version_minor": 0
      },
      "text/plain": [
       "chain 1 |          | 00:00 Status"
      ]
     },
     "metadata": {},
     "output_type": "display_data"
    },
    {
     "data": {
      "application/vnd.jupyter.widget-view+json": {
       "model_id": "304b72f182514d62b3412c2fe747737a",
       "version_major": 2,
       "version_minor": 0
      },
      "text/plain": [
       "chain 2 |          | 00:00 Status"
      ]
     },
     "metadata": {},
     "output_type": "display_data"
    },
    {
     "data": {
      "application/vnd.jupyter.widget-view+json": {
       "model_id": "8e57c6fde7ac4cef9a084a8eecd5c8c3",
       "version_major": 2,
       "version_minor": 0
      },
      "text/plain": [
       "chain 3 |          | 00:00 Status"
      ]
     },
     "metadata": {},
     "output_type": "display_data"
    },
    {
     "data": {
      "application/vnd.jupyter.widget-view+json": {
       "model_id": "8513074bf9c343238463a630be9184b7",
       "version_major": 2,
       "version_minor": 0
      },
      "text/plain": [
       "chain 4 |          | 00:00 Status"
      ]
     },
     "metadata": {},
     "output_type": "display_data"
    },
    {
     "name": "stdout",
     "output_type": "stream",
     "text": [
      "                                                                                                                                                                                                                                                                                                                                "
     ]
    },
    {
     "name": "stderr",
     "output_type": "stream",
     "text": [
      "07:54:59 - cmdstanpy - INFO - CmdStan done processing.\n",
      "07:54:59 - cmdstanpy - WARNING - Non-fatal error during sampling:\n",
      "Exception: Exception: normal_lpdf: Random variable is nan, but must be not nan! (in 'real_data.stan', line 81, column 2 to column 53) (in 'real_data.stan', line 175, column 2 to line 180, column 4)\n",
      "\tException: Exception: normal_lpdf: Random variable is nan, but must be not nan! (in 'real_data.stan', line 81, column 2 to column 53) (in 'real_data.stan', line 175, column 2 to line 180, column 4)\n",
      "\tException: Exception: normal_lpdf: Random variable is nan, but must be not nan! (in 'real_data.stan', line 81, column 2 to column 53) (in 'real_data.stan', line 175, column 2 to line 180, column 4)\n",
      "Exception: Exception: normal_lpdf: Random variable is nan, but must be not nan! (in 'real_data.stan', line 81, column 2 to column 53) (in 'real_data.stan', line 175, column 2 to line 180, column 4)\n",
      "Exception: Exception: normal_lpdf: Random variable is nan, but must be not nan! (in 'real_data.stan', line 81, column 2 to column 53) (in 'real_data.stan', line 175, column 2 to line 180, column 4)\n",
      "\tException: Exception: normal_lpdf: Random variable is nan, but must be not nan! (in 'real_data.stan', line 81, column 2 to column 53) (in 'real_data.stan', line 175, column 2 to line 180, column 4)\n",
      "Exception: Exception: normal_lpdf: Random variable is nan, but must be not nan! (in 'real_data.stan', line 81, column 2 to column 53) (in 'real_data.stan', line 175, column 2 to line 180, column 4)\n",
      "\tException: Exception: normal_lpdf: Random variable is nan, but must be not nan! (in 'real_data.stan', line 81, column 2 to column 53) (in 'real_data.stan', line 175, column 2 to line 180, column 4)\n",
      "Consider re-running with show_console=True if the above output is unclear!\n"
     ]
    },
    {
     "name": "stdout",
     "output_type": "stream",
     "text": [
      "\n"
     ]
    },
    {
     "name": "stderr",
     "output_type": "stream",
     "text": [
      "07:55:00 - cmdstanpy - WARNING - Some chains may have failed to converge.\n",
      "\tChain 1 had 5 divergent transitions (0.2%)\n",
      "\tChain 2 had 5 divergent transitions (0.2%)\n",
      "\tChain 3 had 6 divergent transitions (0.3%)\n",
      "\tChain 4 had 6 divergent transitions (0.3%)\n",
      "\tUse the \"diagnose()\" method on the CmdStanMCMC object to see further information.\n"
     ]
    },
    {
     "name": "stdout",
     "output_type": "stream",
     "text": [
      "contest_4477 end\n"
     ]
    }
   ],
   "source": [
    "contest_max_longivity = 2300\n",
    "output_dir.mkdir(parents=True, exist_ok=True)\n",
    "\n",
    "# fit the model with data\n",
    "for json_data in all_json_datas:\n",
    "\tfor file in output_dir.iterdir():\n",
    "\t\tif file.is_file():\n",
    "\t\t\tfile.unlink()\n",
    "\tcontest_name = json_data.stem\n",
    "\tposterior_file = f'{contest_name}.pkl'\n",
    "\tposterior_file_path = wd_jsondata.joinpath(posterior_file)\n",
    "\tif posterior_file_path.exists():\n",
    "\t\tcontinue\n",
    "\twith open(json_data, \"r\", encoding=\"utf-8\") as f:\n",
    "\t\tdata_json = json.load(f)\n",
    "\tif data_json['N_Delta'] > contest_max_longivity:\n",
    "\t\tcontinue\n",
    "\tprint(contest_name, 'begin')\n",
    "\tfit = model.sample( \\\n",
    "\t\tdata=json_data,\n",
    "\t\titer_warmup=1000,\n",
    "\t\titer_sampling=2000,\n",
    "\t\tchains=4,\n",
    "\t\tparallel_chains=4,\n",
    "\t\tshow_console=False,\n",
    "\t\t#max_treedepth=12,  # for difficult model\n",
    "\t\t#adapt_delta=0.99,  # for difficult model\n",
    "\t\toutput_dir=output_dir,\n",
    "\t\tseed=12345,\n",
    "\t)\n",
    "\tposteriors = fit.stan_variables()\n",
    "\twith open(posterior_file_path, 'wb') as f:\n",
    "\t\tpickle.dump(posteriors, f)\n",
    "\tprint(contest_name, 'end')\n"
   ]
  }
 ],
 "metadata": {
  "kernelspec": {
   "display_name": ".venv (3.13.3)",
   "language": "python",
   "name": "python3"
  },
  "language_info": {
   "codemirror_mode": {
    "name": "ipython",
    "version": 3
   },
   "file_extension": ".py",
   "mimetype": "text/x-python",
   "name": "python",
   "nbconvert_exporter": "python",
   "pygments_lexer": "ipython3",
   "version": "3.13.3"
  }
 },
 "nbformat": 4,
 "nbformat_minor": 5
}
