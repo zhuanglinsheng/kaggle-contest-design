{
 "cells": [
  {
   "cell_type": "markdown",
   "id": "0e1b14f6",
   "metadata": {},
   "source": [
    "# Estimations"
   ]
  },
  {
   "cell_type": "code",
   "execution_count": 1,
   "id": "62289779",
   "metadata": {},
   "outputs": [],
   "source": [
    "import os\n",
    "import pickle\n",
    "import json\n",
    "from pathlib import Path"
   ]
  },
  {
   "cell_type": "code",
   "execution_count": 2,
   "id": "7bee7be1",
   "metadata": {},
   "outputs": [],
   "source": [
    "# import cmdstanpy\n",
    "# cmdstanpy.install_cmdstan()\n",
    "from cmdstanpy import CmdStanModel, compile_stan_file"
   ]
  },
  {
   "cell_type": "markdown",
   "id": "e1059e2b",
   "metadata": {},
   "source": [
    "### Estimations"
   ]
  },
  {
   "cell_type": "code",
   "execution_count": 3,
   "id": "e256f0f2",
   "metadata": {},
   "outputs": [],
   "source": [
    "wd = os.getcwd()\n",
    "wd_jsondata = Path(os.path.join(wd, '__jsondata__'))"
   ]
  },
  {
   "cell_type": "code",
   "execution_count": 4,
   "id": "6ac3669d",
   "metadata": {},
   "outputs": [],
   "source": [
    "# # delete all `pkl` files\n",
    "# for file in wd_jsondata.glob(\"*.pkl\"):\n",
    "# \tfile.unlink()"
   ]
  },
  {
   "cell_type": "code",
   "execution_count": 5,
   "id": "6c2f888c",
   "metadata": {},
   "outputs": [
    {
     "data": {
      "text/plain": [
       "69"
      ]
     },
     "execution_count": 5,
     "metadata": {},
     "output_type": "execute_result"
    }
   ],
   "source": [
    "all_json_datas = list(wd_jsondata.rglob('*.json'))\n",
    "len(all_json_datas)"
   ]
  },
  {
   "cell_type": "code",
   "execution_count": 6,
   "id": "f7421b8a",
   "metadata": {},
   "outputs": [],
   "source": [
    "# build stan model\n",
    "stan_file = os.path.join(wd, 'real_data.stan')\n",
    "output_dir = Path('./tmp')\n",
    "exe_path = compile_stan_file(\n",
    "\tsrc=stan_file,\n",
    "\tcpp_options={\n",
    "\t\t\"LDFLAGS\": \"-headerpad_max_install_names\",\n",
    "\t\t\"CXXFLAGS\": \"-O2\",\n",
    "})\n",
    "model = CmdStanModel(stan_file=stan_file, exe_file=exe_path)"
   ]
  },
  {
   "cell_type": "code",
   "execution_count": null,
   "id": "5e231784",
   "metadata": {},
   "outputs": [
    {
     "name": "stderr",
     "output_type": "stream",
     "text": [
      "21:35:34 - cmdstanpy - INFO - CmdStan start processing\n"
     ]
    },
    {
     "name": "stdout",
     "output_type": "stream",
     "text": [
      "contest_6322 begin\n"
     ]
    },
    {
     "data": {
      "application/vnd.jupyter.widget-view+json": {
       "model_id": "f0520acbf2e241b987f9696b8163bc3a",
       "version_major": 2,
       "version_minor": 0
      },
      "text/plain": [
       "chain 1 |          | 00:00 Status"
      ]
     },
     "metadata": {},
     "output_type": "display_data"
    },
    {
     "data": {
      "application/vnd.jupyter.widget-view+json": {
       "model_id": "eb52c373ecba4fb48283da8dfc2e3dfa",
       "version_major": 2,
       "version_minor": 0
      },
      "text/plain": [
       "chain 2 |          | 00:00 Status"
      ]
     },
     "metadata": {},
     "output_type": "display_data"
    },
    {
     "data": {
      "application/vnd.jupyter.widget-view+json": {
       "model_id": "43b3d7bf1c5f4c84ac0b7e0e944ff089",
       "version_major": 2,
       "version_minor": 0
      },
      "text/plain": [
       "chain 3 |          | 00:00 Status"
      ]
     },
     "metadata": {},
     "output_type": "display_data"
    },
    {
     "data": {
      "application/vnd.jupyter.widget-view+json": {
       "model_id": "763b5ac4462045cbb3909d6ccafc85e6",
       "version_major": 2,
       "version_minor": 0
      },
      "text/plain": [
       "chain 4 |          | 00:00 Status"
      ]
     },
     "metadata": {},
     "output_type": "display_data"
    }
   ],
   "source": [
    "contest_max_longivity = 800\n",
    "\n",
    "# fit the model with data\n",
    "for json_data in all_json_datas:\n",
    "\tfor file in output_dir.iterdir():\n",
    "\t\tif file.is_file():\n",
    "\t\t\tfile.unlink()\n",
    "\tcontest_name = json_data.stem\n",
    "\tposterior_file = f'{contest_name}.pkl'\n",
    "\tposterior_file_path = wd_jsondata.joinpath(posterior_file)\n",
    "\tif posterior_file_path.exists():\n",
    "\t\tcontinue\n",
    "\twith open(json_data, \"r\", encoding=\"utf-8\") as f:\n",
    "\t\tdata_json = json.load(f)\n",
    "\tif data_json['N_Delta'] > contest_max_longivity:\n",
    "\t\tcontinue\n",
    "\tprint(contest_name, 'begin')\n",
    "\tfit = model.sample( \\\n",
    "\t\tdata=json_data,\n",
    "\t\titer_warmup=1000,\n",
    "\t\titer_sampling=2000,\n",
    "\t\tchains=4,\n",
    "\t\tparallel_chains=4,\n",
    "\t\tshow_console=False,\n",
    "\t\tmax_treedepth=12,  # for difficult model\n",
    "\t\tadapt_delta=0.99,  # for difficult model\n",
    "\t\toutput_dir=output_dir,\n",
    "\t\tseed=12345,\n",
    "\t)\n",
    "\tposteriors = fit.stan_variables()\n",
    "\twith open(posterior_file_path, 'wb') as f:\n",
    "\t\tpickle.dump(posteriors, f)\n",
    "\tprint(contest_name, 'end')"
   ]
  }
 ],
 "metadata": {
  "kernelspec": {
   "display_name": ".venv",
   "language": "python",
   "name": "python3"
  },
  "language_info": {
   "codemirror_mode": {
    "name": "ipython",
    "version": 3
   },
   "file_extension": ".py",
   "mimetype": "text/x-python",
   "name": "python",
   "nbconvert_exporter": "python",
   "pygments_lexer": "ipython3",
   "version": "3.13.3"
  }
 },
 "nbformat": 4,
 "nbformat_minor": 5
}
