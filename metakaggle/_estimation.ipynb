{
 "cells": [
  {
   "cell_type": "markdown",
   "id": "0e1b14f6",
   "metadata": {},
   "source": [
    "# Estimation"
   ]
  },
  {
   "cell_type": "code",
   "execution_count": 1,
   "id": "62289779",
   "metadata": {},
   "outputs": [],
   "source": [
    "import os\n",
    "from pathlib import Path\n",
    "\n",
    "import numpy as np\n",
    "import pandas as pd"
   ]
  },
  {
   "cell_type": "code",
   "execution_count": 2,
   "id": "7bee7be1",
   "metadata": {},
   "outputs": [],
   "source": [
    "# import cmdstanpy\n",
    "# cmdstanpy.install_cmdstan()\n",
    "from cmdstanpy import CmdStanModel"
   ]
  },
  {
   "cell_type": "code",
   "execution_count": 3,
   "id": "4116d30b",
   "metadata": {},
   "outputs": [],
   "source": [
    "def display_estimation_results(var_names: list[str], posteriors):\n",
    "\tdata = []\n",
    "\tfor name in var_names:\n",
    "\t\tposterior_mean = posteriors[name].mean()\n",
    "\t\tposterior_std = posteriors[name].std()\n",
    "\t\tquantile_05, quantile_95 = np.percentile(posteriors[name], [2.5, 97.5])\n",
    "\t\trecord = (\n",
    "\t\t\tname, posterior_mean, posterior_std, quantile_05, quantile_95\n",
    "\t\t)\n",
    "\t\tdata.append(record)\n",
    "\tcolumns = ['Name', 'Posterior Mean', 'Posterior Std.', '2.5% Quantile', '97.5% Quantile']\n",
    "\treturn pd.DataFrame(data, columns=columns)"
   ]
  },
  {
   "cell_type": "markdown",
   "id": "e1059e2b",
   "metadata": {},
   "source": [
    "### Estimations"
   ]
  },
  {
   "cell_type": "code",
   "execution_count": 11,
   "id": "6c2f888c",
   "metadata": {},
   "outputs": [
    {
     "data": {
      "text/plain": [
       "['/Users/zhuanglinsheng/Documents/Github/kaggle-contest-design/metakaggle/__jsondata__/contest_2435.json',\n",
       " '/Users/zhuanglinsheng/Documents/Github/kaggle-contest-design/metakaggle/__jsondata__/contest_2445.json']"
      ]
     },
     "execution_count": 11,
     "metadata": {},
     "output_type": "execute_result"
    }
   ],
   "source": [
    "wd = os.getcwd()\n",
    "wd_jsondata = os.path.join(wd, '__jsondata__')\n",
    "all_json_datas = [os.path.join(wd_jsondata, f) for f in os.listdir(wd_jsondata)]\n",
    "all_json_datas = [f for f in all_json_datas if os.path.isfile(f)]\n",
    "all_json_datas"
   ]
  },
  {
   "cell_type": "code",
   "execution_count": 5,
   "id": "f7421b8a",
   "metadata": {},
   "outputs": [
    {
     "name": "stderr",
     "output_type": "stream",
     "text": [
      "12:40:00 - cmdstanpy - INFO - compiling stan file /Users/zhuanglinsheng/Documents/Github/kaggle-contest-design/metakaggle/real_data.stan to exe file /Users/zhuanglinsheng/Documents/Github/kaggle-contest-design/metakaggle/real_data\n",
      "12:40:09 - cmdstanpy - INFO - compiled model executable: /Users/zhuanglinsheng/Documents/Github/kaggle-contest-design/metakaggle/real_data\n"
     ]
    }
   ],
   "source": [
    "# build stan model\n",
    "stan_file = os.path.join(wd, f'real_data.stan')\n",
    "output_dir = Path('./tmp')\n",
    "model = CmdStanModel(stan_file=stan_file)"
   ]
  },
  {
   "cell_type": "code",
   "execution_count": 20,
   "id": "5e231784",
   "metadata": {},
   "outputs": [
    {
     "name": "stderr",
     "output_type": "stream",
     "text": [
      "13:18:30 - cmdstanpy - INFO - CmdStan start processing\n"
     ]
    },
    {
     "data": {
      "application/vnd.jupyter.widget-view+json": {
       "model_id": "df1c63f0938649a78ca04c7bdbf58c58",
       "version_major": 2,
       "version_minor": 0
      },
      "text/plain": [
       "chain 1 |          | 00:00 Status"
      ]
     },
     "metadata": {},
     "output_type": "display_data"
    },
    {
     "data": {
      "application/vnd.jupyter.widget-view+json": {
       "model_id": "9ce252fda73640a38d31e50b1ea80ba2",
       "version_major": 2,
       "version_minor": 0
      },
      "text/plain": [
       "chain 2 |          | 00:00 Status"
      ]
     },
     "metadata": {},
     "output_type": "display_data"
    },
    {
     "data": {
      "application/vnd.jupyter.widget-view+json": {
       "model_id": "c76595fc7faa4aa7b07b66f346f9f1f5",
       "version_major": 2,
       "version_minor": 0
      },
      "text/plain": [
       "chain 3 |          | 00:00 Status"
      ]
     },
     "metadata": {},
     "output_type": "display_data"
    },
    {
     "data": {
      "application/vnd.jupyter.widget-view+json": {
       "model_id": "cc4d72a45e8046039030086663ba2652",
       "version_major": 2,
       "version_minor": 0
      },
      "text/plain": [
       "chain 4 |          | 00:00 Status"
      ]
     },
     "metadata": {},
     "output_type": "display_data"
    },
    {
     "name": "stdout",
     "output_type": "stream",
     "text": [
      "                                                                                                                                                                                                                                                                                                                                "
     ]
    },
    {
     "name": "stderr",
     "output_type": "stream",
     "text": [
      "13:19:51 - cmdstanpy - INFO - CmdStan done processing.\n",
      "13:19:51 - cmdstanpy - WARNING - Non-fatal error during sampling:\n",
      "Exception: Exception: normal_lpdf: Random variable is nan, but must be not nan! (in '/Users/zhuanglinsheng/Documents/Github/kaggle-contest-design/metakaggle/model_effort.stan', line 81, column 2, included from\n",
      "Exception: Exception: normal_lpdf: Random variable is nan, but must be not nan! (in '/Users/zhuanglinsheng/Documents/Github/kaggle-contest-design/metakaggle/model_effort.stan', line 81, column 2, included from\n",
      "Consider re-running with show_console=True if the above output is unclear!\n"
     ]
    },
    {
     "name": "stdout",
     "output_type": "stream",
     "text": [
      "\n"
     ]
    }
   ],
   "source": [
    "# fit the model with data\n",
    "fit = model.sample( \\\n",
    "\t\tdata=all_json_datas[1],\n",
    "\t\titer_warmup=1000,\n",
    "\t\titer_sampling=2000,\n",
    "\t\tchains=4,\n",
    "\t\tparallel_chains=4,\n",
    "\t\tshow_console=False,\n",
    "\t\tmax_treedepth=12,  # for difficult model\n",
    "\t\tadapt_delta=0.99,  # for difficult model\n",
    "\t\toutput_dir=output_dir,\n",
    "\t\tseed=12345,\n",
    "\t)"
   ]
  },
  {
   "cell_type": "code",
   "execution_count": 24,
   "id": "dde6b736",
   "metadata": {},
   "outputs": [],
   "source": [
    "posteriors = fit.stan_variables()"
   ]
  },
  {
   "cell_type": "code",
   "execution_count": 25,
   "id": "0563b037",
   "metadata": {},
   "outputs": [
    {
     "data": {
      "application/vnd.microsoft.datawrangler.viewer.v0+json": {
       "columns": [
        {
         "name": "index",
         "rawType": "int64",
         "type": "integer"
        },
        {
         "name": "Name",
         "rawType": "object",
         "type": "string"
        },
        {
         "name": "Posterior Mean",
         "rawType": "float64",
         "type": "float"
        },
        {
         "name": "Posterior Std.",
         "rawType": "float64",
         "type": "float"
        },
        {
         "name": "2.5% Quantile",
         "rawType": "float64",
         "type": "float"
        },
        {
         "name": "97.5% Quantile",
         "rawType": "float64",
         "type": "float"
        }
       ],
       "conversionMethod": "pd.DataFrame",
       "ref": "0ad3f4ef-7943-45cf-9c7d-7b453918cf56",
       "rows": [
        [
         "0",
         "c_i",
         "4.7675198375",
         "0.22028262460149597",
         "4.2083235000000005",
         "4.99446025"
        ],
        [
         "1",
         "c_j",
         "4.08030217625",
         "0.5960767793723192",
         "2.77889325",
         "4.95299625"
        ],
        [
         "2",
         "sigma",
         "3.56473098875",
         "0.518690708352034",
         "2.68915875",
         "4.73821275"
        ],
        [
         "3",
         "lambda",
         "8.402611591249999",
         "1.2300093255437965",
         "5.519693500000001",
         "9.933632000000001"
        ],
        [
         "4",
         "mu_0",
         "-0.02479576364375002",
         "5.044130053979962",
         "-9.679945",
         "9.78888375"
        ]
       ],
       "shape": {
        "columns": 5,
        "rows": 5
       }
      },
      "text/html": [
       "<div>\n",
       "<style scoped>\n",
       "    .dataframe tbody tr th:only-of-type {\n",
       "        vertical-align: middle;\n",
       "    }\n",
       "\n",
       "    .dataframe tbody tr th {\n",
       "        vertical-align: top;\n",
       "    }\n",
       "\n",
       "    .dataframe thead th {\n",
       "        text-align: right;\n",
       "    }\n",
       "</style>\n",
       "<table border=\"1\" class=\"dataframe\">\n",
       "  <thead>\n",
       "    <tr style=\"text-align: right;\">\n",
       "      <th></th>\n",
       "      <th>Name</th>\n",
       "      <th>Posterior Mean</th>\n",
       "      <th>Posterior Std.</th>\n",
       "      <th>2.5% Quantile</th>\n",
       "      <th>97.5% Quantile</th>\n",
       "    </tr>\n",
       "  </thead>\n",
       "  <tbody>\n",
       "    <tr>\n",
       "      <th>0</th>\n",
       "      <td>c_i</td>\n",
       "      <td>4.767520</td>\n",
       "      <td>0.220283</td>\n",
       "      <td>4.208324</td>\n",
       "      <td>4.994460</td>\n",
       "    </tr>\n",
       "    <tr>\n",
       "      <th>1</th>\n",
       "      <td>c_j</td>\n",
       "      <td>4.080302</td>\n",
       "      <td>0.596077</td>\n",
       "      <td>2.778893</td>\n",
       "      <td>4.952996</td>\n",
       "    </tr>\n",
       "    <tr>\n",
       "      <th>2</th>\n",
       "      <td>sigma</td>\n",
       "      <td>3.564731</td>\n",
       "      <td>0.518691</td>\n",
       "      <td>2.689159</td>\n",
       "      <td>4.738213</td>\n",
       "    </tr>\n",
       "    <tr>\n",
       "      <th>3</th>\n",
       "      <td>lambda</td>\n",
       "      <td>8.402612</td>\n",
       "      <td>1.230009</td>\n",
       "      <td>5.519694</td>\n",
       "      <td>9.933632</td>\n",
       "    </tr>\n",
       "    <tr>\n",
       "      <th>4</th>\n",
       "      <td>mu_0</td>\n",
       "      <td>-0.024796</td>\n",
       "      <td>5.044130</td>\n",
       "      <td>-9.679945</td>\n",
       "      <td>9.788884</td>\n",
       "    </tr>\n",
       "  </tbody>\n",
       "</table>\n",
       "</div>"
      ],
      "text/plain": [
       "     Name  Posterior Mean  Posterior Std.  2.5% Quantile  97.5% Quantile\n",
       "0     c_i        4.767520        0.220283       4.208324        4.994460\n",
       "1     c_j        4.080302        0.596077       2.778893        4.952996\n",
       "2   sigma        3.564731        0.518691       2.689159        4.738213\n",
       "3  lambda        8.402612        1.230009       5.519694        9.933632\n",
       "4    mu_0       -0.024796        5.044130      -9.679945        9.788884"
      ]
     },
     "execution_count": 25,
     "metadata": {},
     "output_type": "execute_result"
    }
   ],
   "source": [
    "display_estimation_results(\n",
    "\t['c_i', 'c_j', 'sigma', 'lambda', 'mu_0'],\n",
    "\tposteriors\n",
    ")"
   ]
  },
  {
   "cell_type": "code",
   "execution_count": 26,
   "id": "3bccc13d",
   "metadata": {},
   "outputs": [],
   "source": [
    "for file in output_dir.iterdir():\n",
    "\tif file.is_file():\n",
    "\t\tfile.unlink()"
   ]
  }
 ],
 "metadata": {
  "kernelspec": {
   "display_name": ".venv",
   "language": "python",
   "name": "python3"
  },
  "language_info": {
   "codemirror_mode": {
    "name": "ipython",
    "version": 3
   },
   "file_extension": ".py",
   "mimetype": "text/x-python",
   "name": "python",
   "nbconvert_exporter": "python",
   "pygments_lexer": "ipython3",
   "version": "3.13.2"
  }
 },
 "nbformat": 4,
 "nbformat_minor": 5
}
