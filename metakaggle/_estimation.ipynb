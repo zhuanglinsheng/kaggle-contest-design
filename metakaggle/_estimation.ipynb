{
 "cells": [
  {
   "cell_type": "markdown",
   "id": "0e1b14f6",
   "metadata": {},
   "source": [
    "# Estimations"
   ]
  },
  {
   "cell_type": "code",
   "execution_count": 2,
   "id": "62289779",
   "metadata": {},
   "outputs": [],
   "source": [
    "import os\n",
    "import pickle\n",
    "import json\n",
    "from pathlib import Path"
   ]
  },
  {
   "cell_type": "code",
   "execution_count": 2,
   "id": "7bee7be1",
   "metadata": {},
   "outputs": [],
   "source": [
    "# import cmdstanpy\n",
    "# cmdstanpy.install_cmdstan()\n",
    "from cmdstanpy import CmdStanModel, compile_stan_file"
   ]
  },
  {
   "cell_type": "markdown",
   "id": "e1059e2b",
   "metadata": {},
   "source": [
    "### Estimations"
   ]
  },
  {
   "cell_type": "code",
   "execution_count": 3,
   "id": "e256f0f2",
   "metadata": {},
   "outputs": [],
   "source": [
    "wd = os.getcwd()\n",
    "wd_jsondata = Path(os.path.join(wd, '__jsondata__'))"
   ]
  },
  {
   "cell_type": "code",
   "execution_count": null,
   "id": "6ac3669d",
   "metadata": {},
   "outputs": [],
   "source": [
    "# # delete all `pkl` files\n",
    "# for file in wd_jsondata.glob(\"*.pkl\"):\n",
    "# \tfile.unlink()"
   ]
  },
  {
   "cell_type": "code",
   "execution_count": 5,
   "id": "6c2f888c",
   "metadata": {},
   "outputs": [
    {
     "data": {
      "text/plain": [
       "78"
      ]
     },
     "execution_count": 5,
     "metadata": {},
     "output_type": "execute_result"
    }
   ],
   "source": [
    "all_json_datas = list(wd_jsondata.rglob('*.json'))\n",
    "len(all_json_datas)"
   ]
  },
  {
   "cell_type": "code",
   "execution_count": 6,
   "id": "f7421b8a",
   "metadata": {},
   "outputs": [],
   "source": [
    "# build stan model\n",
    "stan_file = os.path.join(wd, 'real_data.stan')\n",
    "output_dir = Path('./tmp')\n",
    "exe_path = compile_stan_file(\n",
    "\tsrc=stan_file,\n",
    "\tcpp_options={\n",
    "\t\t\"LDFLAGS\": \"-headerpad_max_install_names\",\n",
    "\t\t\"CXXFLAGS\": \"-O2\",\n",
    "})\n",
    "model = CmdStanModel(stan_file=stan_file, exe_file=exe_path)"
   ]
  },
  {
   "cell_type": "code",
   "execution_count": null,
   "id": "5e231784",
   "metadata": {},
   "outputs": [
    {
     "name": "stderr",
     "output_type": "stream",
     "text": [
      "16:10:30 - cmdstanpy - INFO - CmdStan start processing\n"
     ]
    },
    {
     "name": "stdout",
     "output_type": "stream",
     "text": [
      "contest_2762 begin\n"
     ]
    },
    {
     "data": {
      "application/vnd.jupyter.widget-view+json": {
       "model_id": "5237c32212fa406dbc1957fc0447a5c6",
       "version_major": 2,
       "version_minor": 0
      },
      "text/plain": [
       "chain 1 |          | 00:00 Status"
      ]
     },
     "metadata": {},
     "output_type": "display_data"
    },
    {
     "data": {
      "application/vnd.jupyter.widget-view+json": {
       "model_id": "a77437c9d5564a8eb1a90c2ce2e697db",
       "version_major": 2,
       "version_minor": 0
      },
      "text/plain": [
       "chain 2 |          | 00:00 Status"
      ]
     },
     "metadata": {},
     "output_type": "display_data"
    },
    {
     "data": {
      "application/vnd.jupyter.widget-view+json": {
       "model_id": "497399538dda4f8bb08ab97d3d202e8e",
       "version_major": 2,
       "version_minor": 0
      },
      "text/plain": [
       "chain 3 |          | 00:00 Status"
      ]
     },
     "metadata": {},
     "output_type": "display_data"
    },
    {
     "data": {
      "application/vnd.jupyter.widget-view+json": {
       "model_id": "2611e0dc72d7466b8ca6e39bd74ca71c",
       "version_major": 2,
       "version_minor": 0
      },
      "text/plain": [
       "chain 4 |          | 00:00 Status"
      ]
     },
     "metadata": {},
     "output_type": "display_data"
    },
    {
     "name": "stdout",
     "output_type": "stream",
     "text": [
      "                                                                                                                                                                                                                                                                                                                                "
     ]
    },
    {
     "name": "stderr",
     "output_type": "stream",
     "text": [
      "16:12:00 - cmdstanpy - INFO - CmdStan done processing.\n",
      "16:12:00 - cmdstanpy - WARNING - Non-fatal error during sampling:\n",
      "Exception: Exception: normal_lpdf: Random variable is nan, but must be not nan! (in 'real_data.stan', line 81, column 2 to column 53) (in 'real_data.stan', line 175, column 2 to line 180, column 4)\n",
      "\tException: Exception: normal_lpdf: Random variable is nan, but must be not nan! (in 'real_data.stan', line 81, column 2 to column 53) (in 'real_data.stan', line 175, column 2 to line 180, column 4)\n",
      "Exception: Exception: normal_lpdf: Random variable is nan, but must be not nan! (in 'real_data.stan', line 81, column 2 to column 53) (in 'real_data.stan', line 175, column 2 to line 180, column 4)\n",
      "\tException: Exception: normal_lpdf: Random variable is nan, but must be not nan! (in 'real_data.stan', line 81, column 2 to column 53) (in 'real_data.stan', line 175, column 2 to line 180, column 4)\n",
      "Exception: Exception: normal_lpdf: Random variable is nan, but must be not nan! (in 'real_data.stan', line 81, column 2 to column 53) (in 'real_data.stan', line 175, column 2 to line 180, column 4)\n",
      "\tException: Exception: normal_lpdf: Random variable is nan, but must be not nan! (in 'real_data.stan', line 81, column 2 to column 53) (in 'real_data.stan', line 175, column 2 to line 180, column 4)\n",
      "\tException: Exception: normal_lpdf: Random variable is nan, but must be not nan! (in 'real_data.stan', line 81, column 2 to column 53) (in 'real_data.stan', line 175, column 2 to line 180, column 4)\n",
      "Exception: Exception: normal_lpdf: Random variable is nan, but must be not nan! (in 'real_data.stan', line 81, column 2 to column 53) (in 'real_data.stan', line 175, column 2 to line 180, column 4)\n",
      "\tException: Exception: normal_lpdf: Random variable is nan, but must be not nan! (in 'real_data.stan', line 81, column 2 to column 53) (in 'real_data.stan', line 175, column 2 to line 180, column 4)\n",
      "Consider re-running with show_console=True if the above output is unclear!\n"
     ]
    },
    {
     "name": "stdout",
     "output_type": "stream",
     "text": [
      "\n"
     ]
    },
    {
     "name": "stderr",
     "output_type": "stream",
     "text": [
      "16:12:09 - cmdstanpy - INFO - CmdStan start processing\n"
     ]
    },
    {
     "name": "stdout",
     "output_type": "stream",
     "text": [
      "contest_2762 end\n",
      "contest_8396 begin\n"
     ]
    },
    {
     "data": {
      "application/vnd.jupyter.widget-view+json": {
       "model_id": "413c796b95894fd48b4fd54c74f9de4c",
       "version_major": 2,
       "version_minor": 0
      },
      "text/plain": [
       "chain 1 |          | 00:00 Status"
      ]
     },
     "metadata": {},
     "output_type": "display_data"
    },
    {
     "data": {
      "application/vnd.jupyter.widget-view+json": {
       "model_id": "7b424f7a8f0043d09ef7959c8437626b",
       "version_major": 2,
       "version_minor": 0
      },
      "text/plain": [
       "chain 2 |          | 00:00 Status"
      ]
     },
     "metadata": {},
     "output_type": "display_data"
    },
    {
     "data": {
      "application/vnd.jupyter.widget-view+json": {
       "model_id": "296c3e7af7a647a192f64a1c25d86dd4",
       "version_major": 2,
       "version_minor": 0
      },
      "text/plain": [
       "chain 3 |          | 00:00 Status"
      ]
     },
     "metadata": {},
     "output_type": "display_data"
    },
    {
     "data": {
      "application/vnd.jupyter.widget-view+json": {
       "model_id": "aceff97f6f66431a81ad7bed537a731f",
       "version_major": 2,
       "version_minor": 0
      },
      "text/plain": [
       "chain 4 |          | 00:00 Status"
      ]
     },
     "metadata": {},
     "output_type": "display_data"
    },
    {
     "name": "stdout",
     "output_type": "stream",
     "text": [
      "                                                                                                                                                                                                                                                                                                                                "
     ]
    },
    {
     "name": "stderr",
     "output_type": "stream",
     "text": [
      "16:16:11 - cmdstanpy - INFO - CmdStan done processing.\n",
      "16:16:11 - cmdstanpy - WARNING - Non-fatal error during sampling:\n",
      "Exception: Exception: normal_lpdf: Random variable is nan, but must be not nan! (in 'real_data.stan', line 81, column 2 to column 53) (in 'real_data.stan', line 175, column 2 to line 180, column 4)\n",
      "\tException: Exception: normal_lpdf: Random variable is nan, but must be not nan! (in 'real_data.stan', line 81, column 2 to column 53) (in 'real_data.stan', line 175, column 2 to line 180, column 4)\n",
      "\tException: Exception: normal_lpdf: Random variable is nan, but must be not nan! (in 'real_data.stan', line 81, column 2 to column 53) (in 'real_data.stan', line 175, column 2 to line 180, column 4)\n",
      "\tException: Exception: normal_lpdf: Random variable is nan, but must be not nan! (in 'real_data.stan', line 81, column 2 to column 53) (in 'real_data.stan', line 175, column 2 to line 180, column 4)\n",
      "\tException: Exception: normal_lpdf: Random variable is nan, but must be not nan! (in 'real_data.stan', line 81, column 2 to column 53) (in 'real_data.stan', line 175, column 2 to line 180, column 4)\n",
      "Exception: Exception: normal_lpdf: Random variable is nan, but must be not nan! (in 'real_data.stan', line 81, column 2 to column 53) (in 'real_data.stan', line 175, column 2 to line 180, column 4)\n",
      "\tException: Exception: normal_lpdf: Random variable is nan, but must be not nan! (in 'real_data.stan', line 81, column 2 to column 53) (in 'real_data.stan', line 175, column 2 to line 180, column 4)\n",
      "\tException: Exception: normal_lpdf: Random variable is nan, but must be not nan! (in 'real_data.stan', line 81, column 2 to column 53) (in 'real_data.stan', line 175, column 2 to line 180, column 4)\n",
      "\tException: Exception: normal_lpdf: Random variable is nan, but must be not nan! (in 'real_data.stan', line 81, column 2 to column 53) (in 'real_data.stan', line 175, column 2 to line 180, column 4)\n",
      "Exception: Exception: normal_lpdf: Random variable is nan, but must be not nan! (in 'real_data.stan', line 81, column 2 to column 53) (in 'real_data.stan', line 175, column 2 to line 180, column 4)\n",
      "\tException: Exception: normal_lpdf: Random variable is nan, but must be not nan! (in 'real_data.stan', line 81, column 2 to column 53) (in 'real_data.stan', line 175, column 2 to line 180, column 4)\n",
      "\tException: Exception: normal_lpdf: Random variable is nan, but must be not nan! (in 'real_data.stan', line 81, column 2 to column 53) (in 'real_data.stan', line 175, column 2 to line 180, column 4)\n",
      "Exception: Exception: normal_lpdf: Random variable is nan, but must be not nan! (in 'real_data.stan', line 81, column 2 to column 53) (in 'real_data.stan', line 175, column 2 to line 180, column 4)\n",
      "\tException: Exception: normal_lpdf: Random variable is nan, but must be not nan! (in 'real_data.stan', line 81, column 2 to column 53) (in 'real_data.stan', line 175, column 2 to line 180, column 4)\n",
      "\tException: Exception: normal_lpdf: Random variable is nan, but must be not nan! (in 'real_data.stan', line 81, column 2 to column 53) (in 'real_data.stan', line 175, column 2 to line 180, column 4)\n",
      "Consider re-running with show_console=True if the above output is unclear!\n"
     ]
    },
    {
     "name": "stdout",
     "output_type": "stream",
     "text": [
      "\n"
     ]
    },
    {
     "name": "stderr",
     "output_type": "stream",
     "text": [
      "16:16:37 - cmdstanpy - INFO - CmdStan start processing\n"
     ]
    },
    {
     "name": "stdout",
     "output_type": "stream",
     "text": [
      "contest_8396 end\n",
      "contest_20270 begin\n"
     ]
    },
    {
     "data": {
      "application/vnd.jupyter.widget-view+json": {
       "model_id": "282ca00ef7a148518c6520e65f586694",
       "version_major": 2,
       "version_minor": 0
      },
      "text/plain": [
       "chain 1 |          | 00:00 Status"
      ]
     },
     "metadata": {},
     "output_type": "display_data"
    },
    {
     "data": {
      "application/vnd.jupyter.widget-view+json": {
       "model_id": "1cbdec8e47ea481a80606d03a135d9ef",
       "version_major": 2,
       "version_minor": 0
      },
      "text/plain": [
       "chain 2 |          | 00:00 Status"
      ]
     },
     "metadata": {},
     "output_type": "display_data"
    },
    {
     "data": {
      "application/vnd.jupyter.widget-view+json": {
       "model_id": "f45373c9eb014674bc8ef89258818e31",
       "version_major": 2,
       "version_minor": 0
      },
      "text/plain": [
       "chain 3 |          | 00:00 Status"
      ]
     },
     "metadata": {},
     "output_type": "display_data"
    },
    {
     "data": {
      "application/vnd.jupyter.widget-view+json": {
       "model_id": "1390c7b8bd954d3d978c2421c64b45d8",
       "version_major": 2,
       "version_minor": 0
      },
      "text/plain": [
       "chain 4 |          | 00:00 Status"
      ]
     },
     "metadata": {},
     "output_type": "display_data"
    },
    {
     "name": "stdout",
     "output_type": "stream",
     "text": [
      "                                                                                                                                                                                                                                                                                                                                "
     ]
    },
    {
     "name": "stderr",
     "output_type": "stream",
     "text": [
      "16:17:54 - cmdstanpy - INFO - CmdStan done processing.\n",
      "16:17:55 - cmdstanpy - WARNING - Non-fatal error during sampling:\n",
      "Exception: Exception: normal_lpdf: Random variable is nan, but must be not nan! (in 'real_data.stan', line 81, column 2 to column 53) (in 'real_data.stan', line 175, column 2 to line 180, column 4)\n",
      "\tException: Exception: normal_lpdf: Random variable is nan, but must be not nan! (in 'real_data.stan', line 81, column 2 to column 53) (in 'real_data.stan', line 175, column 2 to line 180, column 4)\n",
      "Exception: Exception: normal_lpdf: Random variable is nan, but must be not nan! (in 'real_data.stan', line 81, column 2 to column 53) (in 'real_data.stan', line 175, column 2 to line 180, column 4)\n",
      "\tException: Exception: normal_lpdf: Random variable is nan, but must be not nan! (in 'real_data.stan', line 81, column 2 to column 53) (in 'real_data.stan', line 175, column 2 to line 180, column 4)\n",
      "\tException: Exception: normal_lpdf: Random variable is nan, but must be not nan! (in 'real_data.stan', line 81, column 2 to column 53) (in 'real_data.stan', line 175, column 2 to line 180, column 4)\n",
      "Exception: Exception: normal_lpdf: Random variable is nan, but must be not nan! (in 'real_data.stan', line 81, column 2 to column 53) (in 'real_data.stan', line 175, column 2 to line 180, column 4)\n",
      "\tException: Exception: normal_lpdf: Random variable is nan, but must be not nan! (in 'real_data.stan', line 81, column 2 to column 53) (in 'real_data.stan', line 175, column 2 to line 180, column 4)\n",
      "\tException: Exception: normal_lpdf: Random variable is nan, but must be not nan! (in 'real_data.stan', line 81, column 2 to column 53) (in 'real_data.stan', line 175, column 2 to line 180, column 4)\n",
      "\tException: Exception: normal_lpdf: Random variable is nan, but must be not nan! (in 'real_data.stan', line 81, column 2 to column 53) (in 'real_data.stan', line 175, column 2 to line 180, column 4)\n",
      "Exception: Exception: normal_lpdf: Random variable is nan, but must be not nan! (in 'real_data.stan', line 81, column 2 to column 53) (in 'real_data.stan', line 175, column 2 to line 180, column 4)\n",
      "\tException: Exception: normal_lpdf: Random variable is nan, but must be not nan! (in 'real_data.stan', line 81, column 2 to column 53) (in 'real_data.stan', line 175, column 2 to line 180, column 4)\n",
      "\tException: Exception: normal_lpdf: Random variable is nan, but must be not nan! (in 'real_data.stan', line 81, column 2 to column 53) (in 'real_data.stan', line 175, column 2 to line 180, column 4)\n",
      "Consider re-running with show_console=True if the above output is unclear!\n"
     ]
    },
    {
     "name": "stdout",
     "output_type": "stream",
     "text": [
      "\n"
     ]
    },
    {
     "name": "stderr",
     "output_type": "stream",
     "text": [
      "16:17:55 - cmdstanpy - WARNING - Some chains may have failed to converge.\n",
      "\tChain 1 had 5 divergent transitions (0.2%)\n",
      "\tChain 2 had 9 divergent transitions (0.4%)\n",
      "\tChain 3 had 7 divergent transitions (0.4%)\n",
      "\tChain 4 had 8 divergent transitions (0.4%)\n",
      "\tUse the \"diagnose()\" method on the CmdStanMCMC object to see further information.\n",
      "16:17:59 - cmdstanpy - INFO - CmdStan start processing\n"
     ]
    },
    {
     "name": "stdout",
     "output_type": "stream",
     "text": [
      "contest_20270 end\n",
      "contest_5357 begin\n"
     ]
    },
    {
     "data": {
      "application/vnd.jupyter.widget-view+json": {
       "model_id": "79a1d0f937c24484869cb446ae475166",
       "version_major": 2,
       "version_minor": 0
      },
      "text/plain": [
       "chain 1 |          | 00:00 Status"
      ]
     },
     "metadata": {},
     "output_type": "display_data"
    },
    {
     "data": {
      "application/vnd.jupyter.widget-view+json": {
       "model_id": "4c14083440944dc1946597361ea74145",
       "version_major": 2,
       "version_minor": 0
      },
      "text/plain": [
       "chain 2 |          | 00:00 Status"
      ]
     },
     "metadata": {},
     "output_type": "display_data"
    },
    {
     "data": {
      "application/vnd.jupyter.widget-view+json": {
       "model_id": "a41e4dbd06ce4a8ba85fccaf70b7308d",
       "version_major": 2,
       "version_minor": 0
      },
      "text/plain": [
       "chain 3 |          | 00:00 Status"
      ]
     },
     "metadata": {},
     "output_type": "display_data"
    },
    {
     "data": {
      "application/vnd.jupyter.widget-view+json": {
       "model_id": "d5b52184925749788332f639f243bdb3",
       "version_major": 2,
       "version_minor": 0
      },
      "text/plain": [
       "chain 4 |          | 00:00 Status"
      ]
     },
     "metadata": {},
     "output_type": "display_data"
    },
    {
     "name": "stdout",
     "output_type": "stream",
     "text": [
      "                                                                                                                                                                                                                                                                                                                                "
     ]
    },
    {
     "name": "stderr",
     "output_type": "stream",
     "text": [
      "16:24:41 - cmdstanpy - INFO - CmdStan done processing.\n",
      "16:24:41 - cmdstanpy - WARNING - Non-fatal error during sampling:\n",
      "Exception: Exception: normal_lpdf: Random variable is nan, but must be not nan! (in 'real_data.stan', line 81, column 2 to column 53) (in 'real_data.stan', line 175, column 2 to line 180, column 4)\n",
      "\tException: Exception: normal_lpdf: Random variable is nan, but must be not nan! (in 'real_data.stan', line 81, column 2 to column 53) (in 'real_data.stan', line 175, column 2 to line 180, column 4)\n",
      "\tException: Exception: normal_lpdf: Random variable is nan, but must be not nan! (in 'real_data.stan', line 81, column 2 to column 53) (in 'real_data.stan', line 175, column 2 to line 180, column 4)\n",
      "\tException: Exception: normal_lpdf: Random variable is nan, but must be not nan! (in 'real_data.stan', line 81, column 2 to column 53) (in 'real_data.stan', line 175, column 2 to line 180, column 4)\n",
      "Exception: Exception: normal_lpdf: Random variable is nan, but must be not nan! (in 'real_data.stan', line 81, column 2 to column 53) (in 'real_data.stan', line 175, column 2 to line 180, column 4)\n",
      "\tException: Exception: normal_lpdf: Random variable is nan, but must be not nan! (in 'real_data.stan', line 81, column 2 to column 53) (in 'real_data.stan', line 175, column 2 to line 180, column 4)\n",
      "Exception: Exception: normal_lpdf: Random variable is nan, but must be not nan! (in 'real_data.stan', line 81, column 2 to column 53) (in 'real_data.stan', line 175, column 2 to line 180, column 4)\n",
      "\tException: Exception: normal_lpdf: Random variable is nan, but must be not nan! (in 'real_data.stan', line 81, column 2 to column 53) (in 'real_data.stan', line 175, column 2 to line 180, column 4)\n",
      "\tException: Exception: normal_lpdf: Random variable is nan, but must be not nan! (in 'real_data.stan', line 81, column 2 to column 53) (in 'real_data.stan', line 175, column 2 to line 180, column 4)\n",
      "\tException: Exception: normal_lpdf: Random variable is nan, but must be not nan! (in 'real_data.stan', line 81, column 2 to column 53) (in 'real_data.stan', line 175, column 2 to line 180, column 4)\n",
      "\tException: Exception: normal_lpdf: Random variable is nan, but must be not nan! (in 'real_data.stan', line 81, column 2 to column 53) (in 'real_data.stan', line 175, column 2 to line 180, column 4)\n",
      "Exception: Exception: normal_lpdf: Random variable is nan, but must be not nan! (in 'real_data.stan', line 81, column 2 to column 53) (in 'real_data.stan', line 175, column 2 to line 180, column 4)\n",
      "\tException: Exception: normal_lpdf: Random variable is nan, but must be not nan! (in 'real_data.stan', line 81, column 2 to column 53) (in 'real_data.stan', line 175, column 2 to line 180, column 4)\n",
      "\tException: Exception: normal_lpdf: Random variable is nan, but must be not nan! (in 'real_data.stan', line 81, column 2 to column 53) (in 'real_data.stan', line 175, column 2 to line 180, column 4)\n",
      "\tException: Exception: normal_lpdf: Random variable is nan, but must be not nan! (in 'real_data.stan', line 81, column 2 to column 53) (in 'real_data.stan', line 175, column 2 to line 180, column 4)\n",
      "\tException: Exception: normal_lpdf: Random variable is nan, but must be not nan! (in 'real_data.stan', line 81, column 2 to column 53) (in 'real_data.stan', line 175, column 2 to line 180, column 4)\n",
      "\tException: Exception: normal_lpdf: Random variable is nan, but must be not nan! (in 'real_data.stan', line 81, column 2 to column 53) (in 'real_data.stan', line 175, column 2 to line 180, column 4)\n",
      "\tException: Exception: normal_lpdf: Random variable is nan, but must be not nan! (in 'real_data.stan', line 81, column 2 to column 53) (in 'real_data.stan', line 175, column 2 to line 180, column 4)\n",
      "Consider re-running with show_console=True if the above output is unclear!\n"
     ]
    },
    {
     "name": "stdout",
     "output_type": "stream",
     "text": [
      "\n"
     ]
    },
    {
     "name": "stderr",
     "output_type": "stream",
     "text": [
      "16:24:43 - cmdstanpy - WARNING - Some chains may have failed to converge.\n",
      "\tChain 1 had 22 divergent transitions (1.1%)\n",
      "\tChain 2 had 16 divergent transitions (0.8%)\n",
      "\tChain 3 had 23 divergent transitions (1.1%)\n",
      "\tChain 4 had 23 divergent transitions (1.1%)\n",
      "\tUse the \"diagnose()\" method on the CmdStanMCMC object to see further information.\n",
      "16:24:51 - cmdstanpy - INFO - CmdStan start processing\n"
     ]
    },
    {
     "name": "stdout",
     "output_type": "stream",
     "text": [
      "contest_5357 end\n",
      "contest_3353 begin\n"
     ]
    },
    {
     "data": {
      "application/vnd.jupyter.widget-view+json": {
       "model_id": "525f8ef602ef4ea39f8b06f5b8302d37",
       "version_major": 2,
       "version_minor": 0
      },
      "text/plain": [
       "chain 1 |          | 00:00 Status"
      ]
     },
     "metadata": {},
     "output_type": "display_data"
    },
    {
     "data": {
      "application/vnd.jupyter.widget-view+json": {
       "model_id": "af994844673d435a9b7e06460a188dbb",
       "version_major": 2,
       "version_minor": 0
      },
      "text/plain": [
       "chain 2 |          | 00:00 Status"
      ]
     },
     "metadata": {},
     "output_type": "display_data"
    },
    {
     "data": {
      "application/vnd.jupyter.widget-view+json": {
       "model_id": "678f8876127447a39e61c5bc55a64d4b",
       "version_major": 2,
       "version_minor": 0
      },
      "text/plain": [
       "chain 3 |          | 00:00 Status"
      ]
     },
     "metadata": {},
     "output_type": "display_data"
    },
    {
     "data": {
      "application/vnd.jupyter.widget-view+json": {
       "model_id": "5816040f1378459d8b129f031a0f67c4",
       "version_major": 2,
       "version_minor": 0
      },
      "text/plain": [
       "chain 4 |          | 00:00 Status"
      ]
     },
     "metadata": {},
     "output_type": "display_data"
    },
    {
     "name": "stdout",
     "output_type": "stream",
     "text": [
      "                                                                                                                                                                                                                                                                                                                                "
     ]
    },
    {
     "name": "stderr",
     "output_type": "stream",
     "text": [
      "16:26:20 - cmdstanpy - INFO - CmdStan done processing.\n",
      "16:26:20 - cmdstanpy - WARNING - Non-fatal error during sampling:\n",
      "Exception: Exception: normal_lpdf: Random variable is nan, but must be not nan! (in 'real_data.stan', line 81, column 2 to column 53) (in 'real_data.stan', line 175, column 2 to line 180, column 4)\n",
      "\tException: Exception: normal_lpdf: Random variable is nan, but must be not nan! (in 'real_data.stan', line 81, column 2 to column 53) (in 'real_data.stan', line 175, column 2 to line 180, column 4)\n",
      "\tException: Exception: normal_lpdf: Random variable is nan, but must be not nan! (in 'real_data.stan', line 81, column 2 to column 53) (in 'real_data.stan', line 175, column 2 to line 180, column 4)\n",
      "\tException: Exception: normal_lpdf: Random variable is nan, but must be not nan! (in 'real_data.stan', line 81, column 2 to column 53) (in 'real_data.stan', line 175, column 2 to line 180, column 4)\n",
      "\tException: Exception: normal_lpdf: Random variable is nan, but must be not nan! (in 'real_data.stan', line 81, column 2 to column 53) (in 'real_data.stan', line 175, column 2 to line 180, column 4)\n",
      "\tException: Exception: normal_lpdf: Random variable is nan, but must be not nan! (in 'real_data.stan', line 81, column 2 to column 53) (in 'real_data.stan', line 175, column 2 to line 180, column 4)\n",
      "Exception: Exception: normal_lpdf: Random variable is nan, but must be not nan! (in 'real_data.stan', line 81, column 2 to column 53) (in 'real_data.stan', line 175, column 2 to line 180, column 4)\n",
      "\tException: Exception: normal_lpdf: Random variable is nan, but must be not nan! (in 'real_data.stan', line 81, column 2 to column 53) (in 'real_data.stan', line 175, column 2 to line 180, column 4)\n",
      "\tException: Exception: normal_lpdf: Random variable is nan, but must be not nan! (in 'real_data.stan', line 81, column 2 to column 53) (in 'real_data.stan', line 175, column 2 to line 180, column 4)\n",
      "\tException: Exception: normal_lpdf: Random variable is nan, but must be not nan! (in 'real_data.stan', line 81, column 2 to column 53) (in 'real_data.stan', line 175, column 2 to line 180, column 4)\n",
      "\tException: Exception: normal_lpdf: Random variable is nan, but must be not nan! (in 'real_data.stan', line 81, column 2 to column 53) (in 'real_data.stan', line 175, column 2 to line 180, column 4)\n",
      "\tException: Exception: normal_lpdf: Random variable is nan, but must be not nan! (in 'real_data.stan', line 81, column 2 to column 53) (in 'real_data.stan', line 175, column 2 to line 180, column 4)\n",
      "Exception: Exception: normal_lpdf: Random variable is nan, but must be not nan! (in 'real_data.stan', line 81, column 2 to column 53) (in 'real_data.stan', line 175, column 2 to line 180, column 4)\n",
      "\tException: Exception: normal_lpdf: Random variable is nan, but must be not nan! (in 'real_data.stan', line 81, column 2 to column 53) (in 'real_data.stan', line 175, column 2 to line 180, column 4)\n",
      "\tException: Exception: normal_lpdf: Random variable is nan, but must be not nan! (in 'real_data.stan', line 81, column 2 to column 53) (in 'real_data.stan', line 175, column 2 to line 180, column 4)\n",
      "\tException: Exception: normal_lpdf: Random variable is nan, but must be not nan! (in 'real_data.stan', line 81, column 2 to column 53) (in 'real_data.stan', line 175, column 2 to line 180, column 4)\n",
      "\tException: Exception: normal_lpdf: Random variable is nan, but must be not nan! (in 'real_data.stan', line 81, column 2 to column 53) (in 'real_data.stan', line 175, column 2 to line 180, column 4)\n",
      "Exception: Exception: normal_lpdf: Random variable is nan, but must be not nan! (in 'real_data.stan', line 81, column 2 to column 53) (in 'real_data.stan', line 175, column 2 to line 180, column 4)\n",
      "\tException: Exception: normal_lpdf: Random variable is nan, but must be not nan! (in 'real_data.stan', line 81, column 2 to column 53) (in 'real_data.stan', line 175, column 2 to line 180, column 4)\n",
      "\tException: Exception: normal_lpdf: Random variable is nan, but must be not nan! (in 'real_data.stan', line 81, column 2 to column 53) (in 'real_data.stan', line 175, column 2 to line 180, column 4)\n",
      "\tException: Exception: normal_lpdf: Random variable is nan, but must be not nan! (in 'real_data.stan', line 81, column 2 to column 53) (in 'real_data.stan', line 175, column 2 to line 180, column 4)\n",
      "\tException: Exception: normal_lpdf: Random variable is nan, but must be not nan! (in 'real_data.stan', line 81, column 2 to column 53) (in 'real_data.stan', line 175, column 2 to line 180, column 4)\n",
      "\tException: Exception: normal_lpdf: Random variable is nan, but must be not nan! (in 'real_data.stan', line 81, column 2 to column 53) (in 'real_data.stan', line 175, column 2 to line 180, column 4)\n",
      "\tException: Exception: normal_lpdf: Random variable is nan, but must be not nan! (in 'real_data.stan', line 81, column 2 to column 53) (in 'real_data.stan', line 175, column 2 to line 180, column 4)\n",
      "Consider re-running with show_console=True if the above output is unclear!\n"
     ]
    },
    {
     "name": "stdout",
     "output_type": "stream",
     "text": [
      "\n"
     ]
    },
    {
     "name": "stderr",
     "output_type": "stream",
     "text": [
      "16:26:21 - cmdstanpy - WARNING - Some chains may have failed to converge.\n",
      "\tChain 1 had 2 divergent transitions (0.1%)\n",
      "\tUse the \"diagnose()\" method on the CmdStanMCMC object to see further information.\n",
      "16:26:28 - cmdstanpy - INFO - CmdStan start processing\n"
     ]
    },
    {
     "name": "stdout",
     "output_type": "stream",
     "text": [
      "contest_3353 end\n",
      "contest_5229 begin\n"
     ]
    },
    {
     "data": {
      "application/vnd.jupyter.widget-view+json": {
       "model_id": "fffeb0ffcb7a4004be096fa1acb599c0",
       "version_major": 2,
       "version_minor": 0
      },
      "text/plain": [
       "chain 1 |          | 00:00 Status"
      ]
     },
     "metadata": {},
     "output_type": "display_data"
    },
    {
     "data": {
      "application/vnd.jupyter.widget-view+json": {
       "model_id": "6f3977cc17434c65a1d25cd7c083e117",
       "version_major": 2,
       "version_minor": 0
      },
      "text/plain": [
       "chain 2 |          | 00:00 Status"
      ]
     },
     "metadata": {},
     "output_type": "display_data"
    },
    {
     "data": {
      "application/vnd.jupyter.widget-view+json": {
       "model_id": "d4a3a37b37094d3dbc1fe7995b44c352",
       "version_major": 2,
       "version_minor": 0
      },
      "text/plain": [
       "chain 3 |          | 00:00 Status"
      ]
     },
     "metadata": {},
     "output_type": "display_data"
    },
    {
     "data": {
      "application/vnd.jupyter.widget-view+json": {
       "model_id": "ab2f5f63ae2c439fb518b0cd3f67a69e",
       "version_major": 2,
       "version_minor": 0
      },
      "text/plain": [
       "chain 4 |          | 00:00 Status"
      ]
     },
     "metadata": {},
     "output_type": "display_data"
    },
    {
     "name": "stdout",
     "output_type": "stream",
     "text": [
      "                                                                                                                                                                                                                                                                                                                                "
     ]
    },
    {
     "name": "stderr",
     "output_type": "stream",
     "text": [
      "16:27:51 - cmdstanpy - INFO - CmdStan done processing.\n",
      "16:27:51 - cmdstanpy - WARNING - Non-fatal error during sampling:\n",
      "Exception: Exception: normal_lpdf: Random variable is nan, but must be not nan! (in 'real_data.stan', line 81, column 2 to column 53) (in 'real_data.stan', line 175, column 2 to line 180, column 4)\n",
      "\tException: Exception: normal_lpdf: Random variable is nan, but must be not nan! (in 'real_data.stan', line 81, column 2 to column 53) (in 'real_data.stan', line 175, column 2 to line 180, column 4)\n",
      "\tException: Exception: normal_lpdf: Random variable is nan, but must be not nan! (in 'real_data.stan', line 81, column 2 to column 53) (in 'real_data.stan', line 175, column 2 to line 180, column 4)\n",
      "\tException: Exception: normal_lpdf: Random variable is nan, but must be not nan! (in 'real_data.stan', line 81, column 2 to column 53) (in 'real_data.stan', line 175, column 2 to line 180, column 4)\n",
      "\tException: Exception: normal_lpdf: Random variable is nan, but must be not nan! (in 'real_data.stan', line 81, column 2 to column 53) (in 'real_data.stan', line 175, column 2 to line 180, column 4)\n",
      "Exception: Exception: normal_lpdf: Random variable is nan, but must be not nan! (in 'real_data.stan', line 81, column 2 to column 53) (in 'real_data.stan', line 175, column 2 to line 180, column 4)\n",
      "\tException: Exception: normal_lpdf: Random variable is nan, but must be not nan! (in 'real_data.stan', line 81, column 2 to column 53) (in 'real_data.stan', line 175, column 2 to line 180, column 4)\n",
      "\tException: Exception: normal_lpdf: Random variable is nan, but must be not nan! (in 'real_data.stan', line 81, column 2 to column 53) (in 'real_data.stan', line 175, column 2 to line 180, column 4)\n",
      "\tException: Exception: normal_lpdf: Random variable is nan, but must be not nan! (in 'real_data.stan', line 81, column 2 to column 53) (in 'real_data.stan', line 175, column 2 to line 180, column 4)\n",
      "Exception: Exception: normal_lpdf: Random variable is nan, but must be not nan! (in 'real_data.stan', line 81, column 2 to column 53) (in 'real_data.stan', line 175, column 2 to line 180, column 4)\n",
      "\tException: Exception: normal_lpdf: Random variable is nan, but must be not nan! (in 'real_data.stan', line 81, column 2 to column 53) (in 'real_data.stan', line 175, column 2 to line 180, column 4)\n",
      "\tException: Exception: normal_lpdf: Random variable is nan, but must be not nan! (in 'real_data.stan', line 81, column 2 to column 53) (in 'real_data.stan', line 175, column 2 to line 180, column 4)\n",
      "\tException: Exception: normal_lpdf: Random variable is nan, but must be not nan! (in 'real_data.stan', line 81, column 2 to column 53) (in 'real_data.stan', line 175, column 2 to line 180, column 4)\n",
      "\tException: Exception: normal_lpdf: Random variable is nan, but must be not nan! (in 'real_data.stan', line 81, column 2 to column 53) (in 'real_data.stan', line 175, column 2 to line 180, column 4)\n",
      "\tException: Exception: normal_lpdf: Random variable is nan, but must be not nan! (in 'real_data.stan', line 81, column 2 to column 53) (in 'real_data.stan', line 175, column 2 to line 180, column 4)\n",
      "Exception: Exception: normal_lpdf: Random variable is nan, but must be not nan! (in 'real_data.stan', line 81, column 2 to column 53) (in 'real_data.stan', line 175, column 2 to line 180, column 4)\n",
      "\tException: Exception: normal_lpdf: Random variable is nan, but must be not nan! (in 'real_data.stan', line 81, column 2 to column 53) (in 'real_data.stan', line 175, column 2 to line 180, column 4)\n",
      "\tException: Exception: normal_lpdf: Random variable is nan, but must be not nan! (in 'real_data.stan', line 81, column 2 to column 53) (in 'real_data.stan', line 175, column 2 to line 180, column 4)\n",
      "\tException: Exception: normal_lpdf: Random variable is nan, but must be not nan! (in 'real_data.stan', line 81, column 2 to column 53) (in 'real_data.stan', line 175, column 2 to line 180, column 4)\n",
      "\tException: Exception: normal_lpdf: Random variable is nan, but must be not nan! (in 'real_data.stan', line 81, column 2 to column 53) (in 'real_data.stan', line 175, column 2 to line 180, column 4)\n",
      "\tException: Exception: normal_lpdf: Random variable is nan, but must be not nan! (in 'real_data.stan', line 81, column 2 to column 53) (in 'real_data.stan', line 175, column 2 to line 180, column 4)\n",
      "Consider re-running with show_console=True if the above output is unclear!\n"
     ]
    },
    {
     "name": "stdout",
     "output_type": "stream",
     "text": [
      "\n"
     ]
    },
    {
     "name": "stderr",
     "output_type": "stream",
     "text": [
      "16:28:00 - cmdstanpy - INFO - CmdStan start processing\n"
     ]
    },
    {
     "name": "stdout",
     "output_type": "stream",
     "text": [
      "contest_5229 end\n",
      "contest_9949 begin\n"
     ]
    },
    {
     "data": {
      "application/vnd.jupyter.widget-view+json": {
       "model_id": "9560e190a2354231b5fbf234863c2a61",
       "version_major": 2,
       "version_minor": 0
      },
      "text/plain": [
       "chain 1 |          | 00:00 Status"
      ]
     },
     "metadata": {},
     "output_type": "display_data"
    },
    {
     "data": {
      "application/vnd.jupyter.widget-view+json": {
       "model_id": "42db99c95b684e2bb1f39c6e13020bb4",
       "version_major": 2,
       "version_minor": 0
      },
      "text/plain": [
       "chain 2 |          | 00:00 Status"
      ]
     },
     "metadata": {},
     "output_type": "display_data"
    },
    {
     "data": {
      "application/vnd.jupyter.widget-view+json": {
       "model_id": "f2a1ab936e264abcbae351ec9ac33800",
       "version_major": 2,
       "version_minor": 0
      },
      "text/plain": [
       "chain 3 |          | 00:00 Status"
      ]
     },
     "metadata": {},
     "output_type": "display_data"
    },
    {
     "data": {
      "application/vnd.jupyter.widget-view+json": {
       "model_id": "c8dd82b1a1b245a1988ea24e8e07e4c1",
       "version_major": 2,
       "version_minor": 0
      },
      "text/plain": [
       "chain 4 |          | 00:00 Status"
      ]
     },
     "metadata": {},
     "output_type": "display_data"
    },
    {
     "name": "stdout",
     "output_type": "stream",
     "text": [
      "                                                                                                                                                                                                                                                                                                                                "
     ]
    },
    {
     "name": "stderr",
     "output_type": "stream",
     "text": [
      "16:38:04 - cmdstanpy - INFO - CmdStan done processing.\n",
      "16:38:04 - cmdstanpy - WARNING - Non-fatal error during sampling:\n",
      "Exception: Exception: normal_lpdf: Random variable is nan, but must be not nan! (in 'real_data.stan', line 81, column 2 to column 53) (in 'real_data.stan', line 175, column 2 to line 180, column 4)\n",
      "\tException: Exception: normal_lpdf: Random variable is nan, but must be not nan! (in 'real_data.stan', line 81, column 2 to column 53) (in 'real_data.stan', line 175, column 2 to line 180, column 4)\n",
      "\tException: Exception: normal_lpdf: Random variable is nan, but must be not nan! (in 'real_data.stan', line 81, column 2 to column 53) (in 'real_data.stan', line 175, column 2 to line 180, column 4)\n",
      "\tException: Exception: normal_lpdf: Random variable is nan, but must be not nan! (in 'real_data.stan', line 81, column 2 to column 53) (in 'real_data.stan', line 175, column 2 to line 180, column 4)\n",
      "Exception: Exception: normal_lpdf: Random variable is nan, but must be not nan! (in 'real_data.stan', line 81, column 2 to column 53) (in 'real_data.stan', line 175, column 2 to line 180, column 4)\n",
      "\tException: Exception: normal_lpdf: Random variable is nan, but must be not nan! (in 'real_data.stan', line 81, column 2 to column 53) (in 'real_data.stan', line 175, column 2 to line 180, column 4)\n",
      "\tException: Exception: normal_lpdf: Random variable is nan, but must be not nan! (in 'real_data.stan', line 81, column 2 to column 53) (in 'real_data.stan', line 175, column 2 to line 180, column 4)\n",
      "\tException: Exception: normal_lpdf: Random variable is nan, but must be not nan! (in 'real_data.stan', line 81, column 2 to column 53) (in 'real_data.stan', line 175, column 2 to line 180, column 4)\n",
      "Exception: Exception: normal_lpdf: Random variable is nan, but must be not nan! (in 'real_data.stan', line 81, column 2 to column 53) (in 'real_data.stan', line 175, column 2 to line 180, column 4)\n",
      "\tException: Exception: normal_lpdf: Random variable is nan, but must be not nan! (in 'real_data.stan', line 81, column 2 to column 53) (in 'real_data.stan', line 175, column 2 to line 180, column 4)\n",
      "\tException: Exception: normal_lpdf: Random variable is nan, but must be not nan! (in 'real_data.stan', line 81, column 2 to column 53) (in 'real_data.stan', line 175, column 2 to line 180, column 4)\n",
      "\tException: Exception: normal_lpdf: Random variable is nan, but must be not nan! (in 'real_data.stan', line 81, column 2 to column 53) (in 'real_data.stan', line 175, column 2 to line 180, column 4)\n",
      "\tException: Exception: normal_lpdf: Random variable is nan, but must be not nan! (in 'real_data.stan', line 81, column 2 to column 53) (in 'real_data.stan', line 175, column 2 to line 180, column 4)\n",
      "Consider re-running with show_console=True if the above output is unclear!\n"
     ]
    },
    {
     "name": "stdout",
     "output_type": "stream",
     "text": [
      "\n"
     ]
    },
    {
     "name": "stderr",
     "output_type": "stream",
     "text": [
      "16:38:06 - cmdstanpy - WARNING - Some chains may have failed to converge.\n",
      "\tChain 1 had 2 divergent transitions (0.1%)\n",
      "\tChain 2 had 2 divergent transitions (0.1%)\n",
      "\tChain 3 had 4 divergent transitions (0.2%)\n",
      "\tChain 4 had 3 divergent transitions (0.1%)\n",
      "\tUse the \"diagnose()\" method on the CmdStanMCMC object to see further information.\n",
      "16:38:15 - cmdstanpy - INFO - CmdStan start processing\n"
     ]
    },
    {
     "name": "stdout",
     "output_type": "stream",
     "text": [
      "contest_9949 end\n",
      "contest_5497 begin\n"
     ]
    },
    {
     "data": {
      "application/vnd.jupyter.widget-view+json": {
       "model_id": "c3bf84bee9294392ba0daccdc8c7c2fc",
       "version_major": 2,
       "version_minor": 0
      },
      "text/plain": [
       "chain 1 |          | 00:00 Status"
      ]
     },
     "metadata": {},
     "output_type": "display_data"
    },
    {
     "data": {
      "application/vnd.jupyter.widget-view+json": {
       "model_id": "4ac91b27b4f746e890bce7959b2a6195",
       "version_major": 2,
       "version_minor": 0
      },
      "text/plain": [
       "chain 2 |          | 00:00 Status"
      ]
     },
     "metadata": {},
     "output_type": "display_data"
    },
    {
     "data": {
      "application/vnd.jupyter.widget-view+json": {
       "model_id": "3e1b2a87b13a4ce89e8c6233c8b82d81",
       "version_major": 2,
       "version_minor": 0
      },
      "text/plain": [
       "chain 3 |          | 00:00 Status"
      ]
     },
     "metadata": {},
     "output_type": "display_data"
    },
    {
     "data": {
      "application/vnd.jupyter.widget-view+json": {
       "model_id": "f36b0b169de34fdc944e48141e04e313",
       "version_major": 2,
       "version_minor": 0
      },
      "text/plain": [
       "chain 4 |          | 00:00 Status"
      ]
     },
     "metadata": {},
     "output_type": "display_data"
    },
    {
     "name": "stdout",
     "output_type": "stream",
     "text": [
      "                                                                                                                                                                                                                                                                                                                                "
     ]
    },
    {
     "name": "stderr",
     "output_type": "stream",
     "text": [
      "17:02:00 - cmdstanpy - INFO - CmdStan done processing.\n",
      "17:02:00 - cmdstanpy - WARNING - Non-fatal error during sampling:\n",
      "Exception: Exception: normal_lpdf: Random variable is nan, but must be not nan! (in 'real_data.stan', line 81, column 2 to column 53) (in 'real_data.stan', line 175, column 2 to line 180, column 4)\n",
      "\tException: Exception: normal_lpdf: Random variable is nan, but must be not nan! (in 'real_data.stan', line 81, column 2 to column 53) (in 'real_data.stan', line 175, column 2 to line 180, column 4)\n",
      "\tException: Exception: normal_lpdf: Random variable is nan, but must be not nan! (in 'real_data.stan', line 81, column 2 to column 53) (in 'real_data.stan', line 175, column 2 to line 180, column 4)\n",
      "\tException: Exception: normal_lpdf: Random variable is nan, but must be not nan! (in 'real_data.stan', line 81, column 2 to column 53) (in 'real_data.stan', line 175, column 2 to line 180, column 4)\n",
      "Exception: Exception: normal_lpdf: Random variable is nan, but must be not nan! (in 'real_data.stan', line 81, column 2 to column 53) (in 'real_data.stan', line 175, column 2 to line 180, column 4)\n",
      "\tException: Exception: normal_lpdf: Random variable is nan, but must be not nan! (in 'real_data.stan', line 81, column 2 to column 53) (in 'real_data.stan', line 175, column 2 to line 180, column 4)\n",
      "Exception: Exception: normal_lpdf: Random variable is nan, but must be not nan! (in 'real_data.stan', line 81, column 2 to column 53) (in 'real_data.stan', line 175, column 2 to line 180, column 4)\n",
      "\tException: Exception: normal_lpdf: Random variable is nan, but must be not nan! (in 'real_data.stan', line 81, column 2 to column 53) (in 'real_data.stan', line 175, column 2 to line 180, column 4)\n",
      "\tException: Exception: normal_lpdf: Random variable is nan, but must be not nan! (in 'real_data.stan', line 81, column 2 to column 53) (in 'real_data.stan', line 175, column 2 to line 180, column 4)\n",
      "\tException: Exception: normal_lpdf: Random variable is nan, but must be not nan! (in 'real_data.stan', line 81, column 2 to column 53) (in 'real_data.stan', line 175, column 2 to line 180, column 4)\n",
      "Exception: Exception: normal_lpdf: Random variable is nan, but must be not nan! (in 'real_data.stan', line 81, column 2 to column 53) (in 'real_data.stan', line 175, column 2 to line 180, column 4)\n",
      "\tException: Exception: normal_lpdf: Random variable is nan, but must be not nan! (in 'real_data.stan', line 81, column 2 to column 53) (in 'real_data.stan', line 175, column 2 to line 180, column 4)\n",
      "\tException: Exception: normal_lpdf: Random variable is nan, but must be not nan! (in 'real_data.stan', line 81, column 2 to column 53) (in 'real_data.stan', line 175, column 2 to line 180, column 4)\n",
      "\tException: Exception: normal_lpdf: Random variable is nan, but must be not nan! (in 'real_data.stan', line 81, column 2 to column 53) (in 'real_data.stan', line 175, column 2 to line 180, column 4)\n",
      "Consider re-running with show_console=True if the above output is unclear!\n"
     ]
    },
    {
     "name": "stdout",
     "output_type": "stream",
     "text": [
      "\n"
     ]
    },
    {
     "name": "stderr",
     "output_type": "stream",
     "text": [
      "17:02:03 - cmdstanpy - WARNING - Some chains may have failed to converge.\n",
      "\tChain 1 had 28 divergent transitions (1.4%)\n",
      "\tChain 1 had 1 iterations at max treedepth (0.1%)\n",
      "\tChain 2 had 19 divergent transitions (0.9%)\n",
      "\tChain 3 had 14 divergent transitions (0.7%)\n",
      "\tChain 4 had 16 divergent transitions (0.8%)\n",
      "\tUse the \"diagnose()\" method on the CmdStanMCMC object to see further information.\n",
      "17:02:15 - cmdstanpy - INFO - CmdStan start processing\n"
     ]
    },
    {
     "name": "stdout",
     "output_type": "stream",
     "text": [
      "contest_5497 end\n",
      "contest_2667 begin\n"
     ]
    },
    {
     "data": {
      "application/vnd.jupyter.widget-view+json": {
       "model_id": "e6ebbc20e84a4cb4810058fefce5da96",
       "version_major": 2,
       "version_minor": 0
      },
      "text/plain": [
       "chain 1 |          | 00:00 Status"
      ]
     },
     "metadata": {},
     "output_type": "display_data"
    },
    {
     "data": {
      "application/vnd.jupyter.widget-view+json": {
       "model_id": "856ca519b27347adaf7f309e4cbcb84d",
       "version_major": 2,
       "version_minor": 0
      },
      "text/plain": [
       "chain 2 |          | 00:00 Status"
      ]
     },
     "metadata": {},
     "output_type": "display_data"
    },
    {
     "data": {
      "application/vnd.jupyter.widget-view+json": {
       "model_id": "12a0494415fb46ce8d69e2b128f41c80",
       "version_major": 2,
       "version_minor": 0
      },
      "text/plain": [
       "chain 3 |          | 00:00 Status"
      ]
     },
     "metadata": {},
     "output_type": "display_data"
    },
    {
     "data": {
      "application/vnd.jupyter.widget-view+json": {
       "model_id": "75cfc9aee3f1459a8a4e3a81087bd70b",
       "version_major": 2,
       "version_minor": 0
      },
      "text/plain": [
       "chain 4 |          | 00:00 Status"
      ]
     },
     "metadata": {},
     "output_type": "display_data"
    },
    {
     "name": "stdout",
     "output_type": "stream",
     "text": [
      "                                                                                                                                                                                                                                                                                                                                "
     ]
    },
    {
     "name": "stderr",
     "output_type": "stream",
     "text": [
      "19:30:36 - cmdstanpy - INFO - CmdStan done processing.\n",
      "19:30:36 - cmdstanpy - WARNING - Non-fatal error during sampling:\n",
      "Exception: Exception: normal_lpdf: Random variable is nan, but must be not nan! (in 'real_data.stan', line 81, column 2 to column 53) (in 'real_data.stan', line 175, column 2 to line 180, column 4)\n",
      "\tException: Exception: normal_lpdf: Random variable is nan, but must be not nan! (in 'real_data.stan', line 81, column 2 to column 53) (in 'real_data.stan', line 175, column 2 to line 180, column 4)\n",
      "\tException: Exception: normal_lpdf: Random variable is nan, but must be not nan! (in 'real_data.stan', line 81, column 2 to column 53) (in 'real_data.stan', line 175, column 2 to line 180, column 4)\n",
      "\tException: Exception: normal_lpdf: Random variable is nan, but must be not nan! (in 'real_data.stan', line 81, column 2 to column 53) (in 'real_data.stan', line 175, column 2 to line 180, column 4)\n",
      "\tException: Exception: normal_lpdf: Random variable is nan, but must be not nan! (in 'real_data.stan', line 81, column 2 to column 53) (in 'real_data.stan', line 175, column 2 to line 180, column 4)\n",
      "\tException: Exception: normal_lpdf: Random variable is nan, but must be not nan! (in 'real_data.stan', line 81, column 2 to column 53) (in 'real_data.stan', line 175, column 2 to line 180, column 4)\n",
      "Exception: Exception: normal_lpdf: Random variable is nan, but must be not nan! (in 'real_data.stan', line 81, column 2 to column 53) (in 'real_data.stan', line 175, column 2 to line 180, column 4)\n",
      "\tException: Exception: normal_lpdf: Random variable is nan, but must be not nan! (in 'real_data.stan', line 81, column 2 to column 53) (in 'real_data.stan', line 175, column 2 to line 180, column 4)\n",
      "\tException: Exception: normal_lpdf: Random variable is nan, but must be not nan! (in 'real_data.stan', line 81, column 2 to column 53) (in 'real_data.stan', line 175, column 2 to line 180, column 4)\n",
      "\tException: Exception: normal_lpdf: Random variable is nan, but must be not nan! (in 'real_data.stan', line 81, column 2 to column 53) (in 'real_data.stan', line 175, column 2 to line 180, column 4)\n",
      "\tException: Exception: normal_lpdf: Random variable is nan, but must be not nan! (in 'real_data.stan', line 81, column 2 to column 53) (in 'real_data.stan', line 175, column 2 to line 180, column 4)\n",
      "Exception: Exception: normal_lpdf: Random variable is nan, but must be not nan! (in 'real_data.stan', line 81, column 2 to column 53) (in 'real_data.stan', line 175, column 2 to line 180, column 4)\n",
      "\tException: Exception: normal_lpdf: Random variable is nan, but must be not nan! (in 'real_data.stan', line 81, column 2 to column 53) (in 'real_data.stan', line 175, column 2 to line 180, column 4)\n",
      "Exception: Exception: normal_lpdf: Random variable is nan, but must be not nan! (in 'real_data.stan', line 81, column 2 to column 53) (in 'real_data.stan', line 175, column 2 to line 180, column 4)\n",
      "\tException: Exception: normal_lpdf: Random variable is nan, but must be not nan! (in 'real_data.stan', line 81, column 2 to column 53) (in 'real_data.stan', line 175, column 2 to line 180, column 4)\n",
      "\tException: Exception: normal_lpdf: Random variable is nan, but must be not nan! (in 'real_data.stan', line 81, column 2 to column 53) (in 'real_data.stan', line 175, column 2 to line 180, column 4)\n",
      "\tException: Exception: normal_lpdf: Random variable is nan, but must be not nan! (in 'real_data.stan', line 81, column 2 to column 53) (in 'real_data.stan', line 175, column 2 to line 180, column 4)\n",
      "\tException: Exception: normal_lpdf: Random variable is nan, but must be not nan! (in 'real_data.stan', line 81, column 2 to column 53) (in 'real_data.stan', line 175, column 2 to line 180, column 4)\n",
      "Consider re-running with show_console=True if the above output is unclear!\n"
     ]
    },
    {
     "name": "stdout",
     "output_type": "stream",
     "text": [
      "\n"
     ]
    },
    {
     "name": "stderr",
     "output_type": "stream",
     "text": [
      "19:30:41 - cmdstanpy - WARNING - Some chains may have failed to converge.\n",
      "\tChain 1 had 10 divergent transitions (0.5%)\n",
      "\tChain 1 had 1349 iterations at max treedepth (67.5%)\n",
      "\tChain 2 had 18 divergent transitions (0.9%)\n",
      "\tChain 2 had 1 iterations at max treedepth (0.1%)\n",
      "\tChain 3 had 5 divergent transitions (0.2%)\n",
      "\tChain 3 had 1910 iterations at max treedepth (95.5%)\n",
      "\tChain 4 had 9 divergent transitions (0.4%)\n",
      "\tChain 4 had 1549 iterations at max treedepth (77.5%)\n",
      "\tUse the \"diagnose()\" method on the CmdStanMCMC object to see further information.\n"
     ]
    },
    {
     "name": "stdout",
     "output_type": "stream",
     "text": [
      "contest_2667 end\n",
      "contest_19018 begin\n"
     ]
    },
    {
     "name": "stderr",
     "output_type": "stream",
     "text": [
      "19:31:04 - cmdstanpy - INFO - CmdStan start processing\n"
     ]
    },
    {
     "data": {
      "application/vnd.jupyter.widget-view+json": {
       "model_id": "90ad03e1178944139bac00f0477b099b",
       "version_major": 2,
       "version_minor": 0
      },
      "text/plain": [
       "chain 1 |          | 00:00 Status"
      ]
     },
     "metadata": {},
     "output_type": "display_data"
    },
    {
     "data": {
      "application/vnd.jupyter.widget-view+json": {
       "model_id": "ed4ccc9e249e4e5891acc90ef7376d1c",
       "version_major": 2,
       "version_minor": 0
      },
      "text/plain": [
       "chain 2 |          | 00:00 Status"
      ]
     },
     "metadata": {},
     "output_type": "display_data"
    },
    {
     "data": {
      "application/vnd.jupyter.widget-view+json": {
       "model_id": "98779a1cca5b46e3aa3e0f31030f6782",
       "version_major": 2,
       "version_minor": 0
      },
      "text/plain": [
       "chain 3 |          | 00:00 Status"
      ]
     },
     "metadata": {},
     "output_type": "display_data"
    },
    {
     "data": {
      "application/vnd.jupyter.widget-view+json": {
       "model_id": "d46600035ace40bcbd9f581ea48b3091",
       "version_major": 2,
       "version_minor": 0
      },
      "text/plain": [
       "chain 4 |          | 00:00 Status"
      ]
     },
     "metadata": {},
     "output_type": "display_data"
    },
    {
     "name": "stdout",
     "output_type": "stream",
     "text": [
      "                                                                                                                                                                                                                                                                                                                                "
     ]
    },
    {
     "name": "stderr",
     "output_type": "stream",
     "text": [
      "20:16:20 - cmdstanpy - INFO - CmdStan done processing.\n",
      "20:16:20 - cmdstanpy - WARNING - Non-fatal error during sampling:\n",
      "Exception: Exception: normal_lpdf: Random variable is nan, but must be not nan! (in 'real_data.stan', line 81, column 2 to column 53) (in 'real_data.stan', line 175, column 2 to line 180, column 4)\n",
      "\tException: Exception: normal_lpdf: Random variable is nan, but must be not nan! (in 'real_data.stan', line 81, column 2 to column 53) (in 'real_data.stan', line 175, column 2 to line 180, column 4)\n",
      "\tException: Exception: normal_lpdf: Random variable is nan, but must be not nan! (in 'real_data.stan', line 81, column 2 to column 53) (in 'real_data.stan', line 175, column 2 to line 180, column 4)\n",
      "\tException: Exception: normal_lpdf: Random variable is nan, but must be not nan! (in 'real_data.stan', line 81, column 2 to column 53) (in 'real_data.stan', line 175, column 2 to line 180, column 4)\n",
      "\tException: Exception: normal_lpdf: Random variable is nan, but must be not nan! (in 'real_data.stan', line 81, column 2 to column 53) (in 'real_data.stan', line 175, column 2 to line 180, column 4)\n",
      "Exception: Exception: normal_lpdf: Random variable is nan, but must be not nan! (in 'real_data.stan', line 81, column 2 to column 53) (in 'real_data.stan', line 175, column 2 to line 180, column 4)\n",
      "\tException: Exception: normal_lpdf: Random variable is nan, but must be not nan! (in 'real_data.stan', line 81, column 2 to column 53) (in 'real_data.stan', line 175, column 2 to line 180, column 4)\n",
      "\tException: Exception: normal_lpdf: Random variable is nan, but must be not nan! (in 'real_data.stan', line 81, column 2 to column 53) (in 'real_data.stan', line 175, column 2 to line 180, column 4)\n",
      "\tException: Exception: normal_lpdf: Random variable is nan, but must be not nan! (in 'real_data.stan', line 81, column 2 to column 53) (in 'real_data.stan', line 175, column 2 to line 180, column 4)\n",
      "\tException: Exception: normal_lpdf: Random variable is nan, but must be not nan! (in 'real_data.stan', line 81, column 2 to column 53) (in 'real_data.stan', line 175, column 2 to line 180, column 4)\n",
      "Exception: Exception: normal_lpdf: Random variable is nan, but must be not nan! (in 'real_data.stan', line 81, column 2 to column 53) (in 'real_data.stan', line 175, column 2 to line 180, column 4)\n",
      "\tException: Exception: normal_lpdf: Random variable is nan, but must be not nan! (in 'real_data.stan', line 81, column 2 to column 53) (in 'real_data.stan', line 175, column 2 to line 180, column 4)\n",
      "\tException: Exception: normal_lpdf: Random variable is nan, but must be not nan! (in 'real_data.stan', line 81, column 2 to column 53) (in 'real_data.stan', line 175, column 2 to line 180, column 4)\n",
      "\tException: Exception: normal_lpdf: Random variable is nan, but must be not nan! (in 'real_data.stan', line 81, column 2 to column 53) (in 'real_data.stan', line 175, column 2 to line 180, column 4)\n",
      "\tException: Exception: normal_lpdf: Random variable is nan, but must be not nan! (in 'real_data.stan', line 81, column 2 to column 53) (in 'real_data.stan', line 175, column 2 to line 180, column 4)\n",
      "Exception: Exception: normal_lpdf: Random variable is nan, but must be not nan! (in 'real_data.stan', line 81, column 2 to column 53) (in 'real_data.stan', line 175, column 2 to line 180, column 4)\n",
      "\tException: Exception: normal_lpdf: Random variable is nan, but must be not nan! (in 'real_data.stan', line 81, column 2 to column 53) (in 'real_data.stan', line 175, column 2 to line 180, column 4)\n",
      "\tException: Exception: normal_lpdf: Random variable is nan, but must be not nan! (in 'real_data.stan', line 81, column 2 to column 53) (in 'real_data.stan', line 175, column 2 to line 180, column 4)\n",
      "\tException: Exception: normal_lpdf: Random variable is nan, but must be not nan! (in 'real_data.stan', line 81, column 2 to column 53) (in 'real_data.stan', line 175, column 2 to line 180, column 4)\n",
      "\tException: Exception: normal_lpdf: Random variable is nan, but must be not nan! (in 'real_data.stan', line 81, column 2 to column 53) (in 'real_data.stan', line 175, column 2 to line 180, column 4)\n",
      "Consider re-running with show_console=True if the above output is unclear!\n"
     ]
    },
    {
     "name": "stdout",
     "output_type": "stream",
     "text": [
      "\n"
     ]
    },
    {
     "name": "stderr",
     "output_type": "stream",
     "text": [
      "20:16:26 - cmdstanpy - WARNING - Some chains may have failed to converge.\n",
      "\tChain 1 had 35 divergent transitions (1.8%)\n",
      "\tChain 1 had 1 iterations at max treedepth (0.1%)\n",
      "\tChain 2 had 34 divergent transitions (1.7%)\n",
      "\tChain 2 had 239 iterations at max treedepth (11.9%)\n",
      "\tChain 3 had 43 divergent transitions (2.1%)\n",
      "\tChain 4 had 65 divergent transitions (3.2%)\n",
      "\tUse the \"diagnose()\" method on the CmdStanMCMC object to see further information.\n"
     ]
    },
    {
     "name": "stdout",
     "output_type": "stream",
     "text": [
      "contest_19018 end\n"
     ]
    },
    {
     "name": "stderr",
     "output_type": "stream",
     "text": [
      "20:16:50 - cmdstanpy - INFO - CmdStan start processing\n"
     ]
    },
    {
     "name": "stdout",
     "output_type": "stream",
     "text": [
      "contest_22962 begin\n"
     ]
    },
    {
     "data": {
      "application/vnd.jupyter.widget-view+json": {
       "model_id": "ebb7d48ee6564a27a075c1ed71940aa4",
       "version_major": 2,
       "version_minor": 0
      },
      "text/plain": [
       "chain 1 |          | 00:00 Status"
      ]
     },
     "metadata": {},
     "output_type": "display_data"
    },
    {
     "data": {
      "application/vnd.jupyter.widget-view+json": {
       "model_id": "144b29f5d6ba494cac22aaedbc13e56c",
       "version_major": 2,
       "version_minor": 0
      },
      "text/plain": [
       "chain 2 |          | 00:00 Status"
      ]
     },
     "metadata": {},
     "output_type": "display_data"
    },
    {
     "data": {
      "application/vnd.jupyter.widget-view+json": {
       "model_id": "6c5d5891e6ab4215995ab9a19eb2d5b1",
       "version_major": 2,
       "version_minor": 0
      },
      "text/plain": [
       "chain 3 |          | 00:00 Status"
      ]
     },
     "metadata": {},
     "output_type": "display_data"
    },
    {
     "data": {
      "application/vnd.jupyter.widget-view+json": {
       "model_id": "af57cfdeaaa24bd1b0e37f3ee9c96bea",
       "version_major": 2,
       "version_minor": 0
      },
      "text/plain": [
       "chain 4 |          | 00:00 Status"
      ]
     },
     "metadata": {},
     "output_type": "display_data"
    },
    {
     "name": "stdout",
     "output_type": "stream",
     "text": [
      "                                                                                                                                                                                                                                                                                                                                "
     ]
    },
    {
     "name": "stderr",
     "output_type": "stream",
     "text": [
      "20:18:08 - cmdstanpy - INFO - CmdStan done processing.\n",
      "20:18:08 - cmdstanpy - WARNING - Non-fatal error during sampling:\n",
      "Exception: Exception: normal_lpdf: Random variable is nan, but must be not nan! (in 'real_data.stan', line 81, column 2 to column 53) (in 'real_data.stan', line 175, column 2 to line 180, column 4)\n",
      "\tException: Exception: normal_lpdf: Random variable is nan, but must be not nan! (in 'real_data.stan', line 81, column 2 to column 53) (in 'real_data.stan', line 175, column 2 to line 180, column 4)\n",
      "\tException: Exception: normal_lpdf: Random variable is nan, but must be not nan! (in 'real_data.stan', line 81, column 2 to column 53) (in 'real_data.stan', line 175, column 2 to line 180, column 4)\n",
      "\tException: Exception: normal_lpdf: Random variable is nan, but must be not nan! (in 'real_data.stan', line 81, column 2 to column 53) (in 'real_data.stan', line 175, column 2 to line 180, column 4)\n",
      "Exception: Exception: normal_lpdf: Random variable is nan, but must be not nan! (in 'real_data.stan', line 81, column 2 to column 53) (in 'real_data.stan', line 175, column 2 to line 180, column 4)\n",
      "\tException: Exception: normal_lpdf: Random variable is nan, but must be not nan! (in 'real_data.stan', line 81, column 2 to column 53) (in 'real_data.stan', line 175, column 2 to line 180, column 4)\n",
      "Exception: Exception: normal_lpdf: Random variable is nan, but must be not nan! (in 'real_data.stan', line 81, column 2 to column 53) (in 'real_data.stan', line 175, column 2 to line 180, column 4)\n",
      "\tException: Exception: normal_lpdf: Random variable is nan, but must be not nan! (in 'real_data.stan', line 81, column 2 to column 53) (in 'real_data.stan', line 175, column 2 to line 180, column 4)\n",
      "\tException: Exception: normal_lpdf: Random variable is nan, but must be not nan! (in 'real_data.stan', line 81, column 2 to column 53) (in 'real_data.stan', line 175, column 2 to line 180, column 4)\n",
      "\tException: Exception: normal_lpdf: Random variable is nan, but must be not nan! (in 'real_data.stan', line 81, column 2 to column 53) (in 'real_data.stan', line 175, column 2 to line 180, column 4)\n",
      "Exception: Exception: normal_lpdf: Random variable is nan, but must be not nan! (in 'real_data.stan', line 81, column 2 to column 53) (in 'real_data.stan', line 175, column 2 to line 180, column 4)\n",
      "\tException: Exception: normal_lpdf: Random variable is nan, but must be not nan! (in 'real_data.stan', line 81, column 2 to column 53) (in 'real_data.stan', line 175, column 2 to line 180, column 4)\n",
      "\tException: Exception: normal_lpdf: Random variable is nan, but must be not nan! (in 'real_data.stan', line 81, column 2 to column 53) (in 'real_data.stan', line 175, column 2 to line 180, column 4)\n",
      "Consider re-running with show_console=True if the above output is unclear!\n"
     ]
    },
    {
     "name": "stdout",
     "output_type": "stream",
     "text": [
      "\n"
     ]
    },
    {
     "name": "stderr",
     "output_type": "stream",
     "text": [
      "20:18:09 - cmdstanpy - WARNING - Some chains may have failed to converge.\n",
      "\tChain 1 had 3 divergent transitions (0.1%)\n",
      "\tChain 2 had 4 divergent transitions (0.2%)\n",
      "\tChain 3 had 4 divergent transitions (0.2%)\n",
      "\tChain 4 had 3 divergent transitions (0.1%)\n",
      "\tUse the \"diagnose()\" method on the CmdStanMCMC object to see further information.\n",
      "20:18:13 - cmdstanpy - INFO - CmdStan start processing\n"
     ]
    },
    {
     "name": "stdout",
     "output_type": "stream",
     "text": [
      "contest_22962 end\n",
      "contest_2489 begin\n"
     ]
    },
    {
     "data": {
      "application/vnd.jupyter.widget-view+json": {
       "model_id": "da31c3081cff469089bcc53d09742599",
       "version_major": 2,
       "version_minor": 0
      },
      "text/plain": [
       "chain 1 |          | 00:00 Status"
      ]
     },
     "metadata": {},
     "output_type": "display_data"
    },
    {
     "data": {
      "application/vnd.jupyter.widget-view+json": {
       "model_id": "72f824cd97bf4feca78763bf7e0c9e50",
       "version_major": 2,
       "version_minor": 0
      },
      "text/plain": [
       "chain 2 |          | 00:00 Status"
      ]
     },
     "metadata": {},
     "output_type": "display_data"
    },
    {
     "data": {
      "application/vnd.jupyter.widget-view+json": {
       "model_id": "ea3bae543a7b488b84d704fb94ec79b9",
       "version_major": 2,
       "version_minor": 0
      },
      "text/plain": [
       "chain 3 |          | 00:00 Status"
      ]
     },
     "metadata": {},
     "output_type": "display_data"
    },
    {
     "data": {
      "application/vnd.jupyter.widget-view+json": {
       "model_id": "a8ae45f935764d578b5f829f9bbf7e90",
       "version_major": 2,
       "version_minor": 0
      },
      "text/plain": [
       "chain 4 |          | 00:00 Status"
      ]
     },
     "metadata": {},
     "output_type": "display_data"
    },
    {
     "name": "stdout",
     "output_type": "stream",
     "text": [
      "                                                                                                                                                                                                                                                                                                                                "
     ]
    },
    {
     "name": "stderr",
     "output_type": "stream",
     "text": [
      "20:19:27 - cmdstanpy - INFO - CmdStan done processing.\n",
      "20:19:27 - cmdstanpy - WARNING - Non-fatal error during sampling:\n",
      "Exception: Exception: normal_lpdf: Random variable is nan, but must be not nan! (in 'real_data.stan', line 81, column 2 to column 53) (in 'real_data.stan', line 175, column 2 to line 180, column 4)\n",
      "\tException: Exception: normal_lpdf: Random variable is nan, but must be not nan! (in 'real_data.stan', line 81, column 2 to column 53) (in 'real_data.stan', line 175, column 2 to line 180, column 4)\n",
      "Exception: Exception: normal_lpdf: Random variable is nan, but must be not nan! (in 'real_data.stan', line 81, column 2 to column 53) (in 'real_data.stan', line 175, column 2 to line 180, column 4)\n",
      "\tException: Exception: normal_lpdf: Random variable is nan, but must be not nan! (in 'real_data.stan', line 81, column 2 to column 53) (in 'real_data.stan', line 175, column 2 to line 180, column 4)\n",
      "\tException: Exception: normal_lpdf: Random variable is nan, but must be not nan! (in 'real_data.stan', line 81, column 2 to column 53) (in 'real_data.stan', line 175, column 2 to line 180, column 4)\n",
      "Exception: Exception: normal_lpdf: Random variable is nan, but must be not nan! (in 'real_data.stan', line 81, column 2 to column 53) (in 'real_data.stan', line 175, column 2 to line 180, column 4)\n",
      "Exception: Exception: normal_lpdf: Random variable is nan, but must be not nan! (in 'real_data.stan', line 81, column 2 to column 53) (in 'real_data.stan', line 175, column 2 to line 180, column 4)\n",
      "\tException: Exception: normal_lpdf: Random variable is nan, but must be not nan! (in 'real_data.stan', line 81, column 2 to column 53) (in 'real_data.stan', line 175, column 2 to line 180, column 4)\n",
      "Consider re-running with show_console=True if the above output is unclear!\n"
     ]
    },
    {
     "name": "stdout",
     "output_type": "stream",
     "text": [
      "\n"
     ]
    },
    {
     "name": "stderr",
     "output_type": "stream",
     "text": [
      "20:19:35 - cmdstanpy - INFO - CmdStan start processing\n"
     ]
    },
    {
     "name": "stdout",
     "output_type": "stream",
     "text": [
      "contest_2489 end\n",
      "contest_3774 begin\n"
     ]
    },
    {
     "data": {
      "application/vnd.jupyter.widget-view+json": {
       "model_id": "60fc69f448794762a4210f577a2b265e",
       "version_major": 2,
       "version_minor": 0
      },
      "text/plain": [
       "chain 1 |          | 00:00 Status"
      ]
     },
     "metadata": {},
     "output_type": "display_data"
    },
    {
     "data": {
      "application/vnd.jupyter.widget-view+json": {
       "model_id": "20e58472355d414bad43005e37894ada",
       "version_major": 2,
       "version_minor": 0
      },
      "text/plain": [
       "chain 2 |          | 00:00 Status"
      ]
     },
     "metadata": {},
     "output_type": "display_data"
    },
    {
     "data": {
      "application/vnd.jupyter.widget-view+json": {
       "model_id": "a9fd5ae1713e4b2984ff748221d1801e",
       "version_major": 2,
       "version_minor": 0
      },
      "text/plain": [
       "chain 3 |          | 00:00 Status"
      ]
     },
     "metadata": {},
     "output_type": "display_data"
    },
    {
     "data": {
      "application/vnd.jupyter.widget-view+json": {
       "model_id": "0e4da98b7a874735bbcef06c8bc998e7",
       "version_major": 2,
       "version_minor": 0
      },
      "text/plain": [
       "chain 4 |          | 00:00 Status"
      ]
     },
     "metadata": {},
     "output_type": "display_data"
    },
    {
     "name": "stdout",
     "output_type": "stream",
     "text": [
      "                                                                                                                                                                                                                                                                                                                                "
     ]
    },
    {
     "name": "stderr",
     "output_type": "stream",
     "text": [
      "20:21:28 - cmdstanpy - INFO - CmdStan done processing.\n",
      "20:21:28 - cmdstanpy - WARNING - Non-fatal error during sampling:\n",
      "Exception: Exception: normal_lpdf: Random variable is nan, but must be not nan! (in 'real_data.stan', line 81, column 2 to column 53) (in 'real_data.stan', line 175, column 2 to line 180, column 4)\n",
      "\tException: Exception: normal_lpdf: Random variable is nan, but must be not nan! (in 'real_data.stan', line 81, column 2 to column 53) (in 'real_data.stan', line 175, column 2 to line 180, column 4)\n",
      "Exception: Exception: normal_lpdf: Random variable is nan, but must be not nan! (in 'real_data.stan', line 81, column 2 to column 53) (in 'real_data.stan', line 175, column 2 to line 180, column 4)\n",
      "\tException: Exception: normal_lpdf: Random variable is nan, but must be not nan! (in 'real_data.stan', line 81, column 2 to column 53) (in 'real_data.stan', line 175, column 2 to line 180, column 4)\n",
      "Exception: Exception: normal_lpdf: Random variable is nan, but must be not nan! (in 'real_data.stan', line 81, column 2 to column 53) (in 'real_data.stan', line 175, column 2 to line 180, column 4)\n",
      "\tException: Exception: normal_lpdf: Random variable is nan, but must be not nan! (in 'real_data.stan', line 81, column 2 to column 53) (in 'real_data.stan', line 175, column 2 to line 180, column 4)\n",
      "\tException: Exception: normal_lpdf: Random variable is nan, but must be not nan! (in 'real_data.stan', line 81, column 2 to column 53) (in 'real_data.stan', line 175, column 2 to line 180, column 4)\n",
      "\tException: Exception: normal_lpdf: Random variable is nan, but must be not nan! (in 'real_data.stan', line 81, column 2 to column 53) (in 'real_data.stan', line 175, column 2 to line 180, column 4)\n",
      "Exception: Exception: normal_lpdf: Random variable is nan, but must be not nan! (in 'real_data.stan', line 81, column 2 to column 53) (in 'real_data.stan', line 175, column 2 to line 180, column 4)\n",
      "\tException: Exception: normal_lpdf: Random variable is nan, but must be not nan! (in 'real_data.stan', line 81, column 2 to column 53) (in 'real_data.stan', line 175, column 2 to line 180, column 4)\n",
      "Consider re-running with show_console=True if the above output is unclear!\n"
     ]
    },
    {
     "name": "stdout",
     "output_type": "stream",
     "text": [
      "\n"
     ]
    },
    {
     "name": "stderr",
     "output_type": "stream",
     "text": [
      "20:21:30 - cmdstanpy - WARNING - Some chains may have failed to converge.\n",
      "\tChain 2 had 1 divergent transitions (0.1%)\n",
      "\tUse the \"diagnose()\" method on the CmdStanMCMC object to see further information.\n",
      "20:21:39 - cmdstanpy - INFO - CmdStan start processing\n"
     ]
    },
    {
     "name": "stdout",
     "output_type": "stream",
     "text": [
      "contest_3774 end\n",
      "contest_8076 begin\n"
     ]
    },
    {
     "data": {
      "application/vnd.jupyter.widget-view+json": {
       "model_id": "3f4c61dae33a434e9e805e9e2f560380",
       "version_major": 2,
       "version_minor": 0
      },
      "text/plain": [
       "chain 1 |          | 00:00 Status"
      ]
     },
     "metadata": {},
     "output_type": "display_data"
    },
    {
     "data": {
      "application/vnd.jupyter.widget-view+json": {
       "model_id": "a3f68340ce004aa2b310f85950bc6381",
       "version_major": 2,
       "version_minor": 0
      },
      "text/plain": [
       "chain 2 |          | 00:00 Status"
      ]
     },
     "metadata": {},
     "output_type": "display_data"
    },
    {
     "data": {
      "application/vnd.jupyter.widget-view+json": {
       "model_id": "0088c9036b5e4166b4dd7b41726a98ae",
       "version_major": 2,
       "version_minor": 0
      },
      "text/plain": [
       "chain 3 |          | 00:00 Status"
      ]
     },
     "metadata": {},
     "output_type": "display_data"
    },
    {
     "data": {
      "application/vnd.jupyter.widget-view+json": {
       "model_id": "5b95f6aaaa12489fa63458dca920a8ae",
       "version_major": 2,
       "version_minor": 0
      },
      "text/plain": [
       "chain 4 |          | 00:00 Status"
      ]
     },
     "metadata": {},
     "output_type": "display_data"
    },
    {
     "name": "stdout",
     "output_type": "stream",
     "text": [
      "                                                                                                                                                                                                                                                                                                                                "
     ]
    },
    {
     "name": "stderr",
     "output_type": "stream",
     "text": [
      "20:53:05 - cmdstanpy - INFO - CmdStan done processing.\n",
      "20:53:05 - cmdstanpy - WARNING - Non-fatal error during sampling:\n",
      "Exception: Exception: normal_lpdf: Random variable is nan, but must be not nan! (in 'real_data.stan', line 81, column 2 to column 53) (in 'real_data.stan', line 175, column 2 to line 180, column 4)\n",
      "\tException: Exception: normal_lpdf: Random variable is nan, but must be not nan! (in 'real_data.stan', line 81, column 2 to column 53) (in 'real_data.stan', line 175, column 2 to line 180, column 4)\n",
      "\tException: Exception: normal_lpdf: Random variable is nan, but must be not nan! (in 'real_data.stan', line 81, column 2 to column 53) (in 'real_data.stan', line 175, column 2 to line 180, column 4)\n",
      "\tException: Exception: normal_lpdf: Random variable is nan, but must be not nan! (in 'real_data.stan', line 81, column 2 to column 53) (in 'real_data.stan', line 175, column 2 to line 180, column 4)\n",
      "Exception: Exception: normal_lpdf: Random variable is nan, but must be not nan! (in 'real_data.stan', line 81, column 2 to column 53) (in 'real_data.stan', line 175, column 2 to line 180, column 4)\n",
      "\tException: Exception: normal_lpdf: Random variable is nan, but must be not nan! (in 'real_data.stan', line 81, column 2 to column 53) (in 'real_data.stan', line 175, column 2 to line 180, column 4)\n",
      "Exception: Exception: normal_lpdf: Random variable is nan, but must be not nan! (in 'real_data.stan', line 81, column 2 to column 53) (in 'real_data.stan', line 175, column 2 to line 180, column 4)\n",
      "\tException: Exception: normal_lpdf: Random variable is nan, but must be not nan! (in 'real_data.stan', line 81, column 2 to column 53) (in 'real_data.stan', line 175, column 2 to line 180, column 4)\n",
      "\tException: Exception: normal_lpdf: Random variable is nan, but must be not nan! (in 'real_data.stan', line 81, column 2 to column 53) (in 'real_data.stan', line 175, column 2 to line 180, column 4)\n",
      "\tException: Exception: normal_lpdf: Random variable is nan, but must be not nan! (in 'real_data.stan', line 81, column 2 to column 53) (in 'real_data.stan', line 175, column 2 to line 180, column 4)\n",
      "Exception: Exception: normal_lpdf: Random variable is nan, but must be not nan! (in 'real_data.stan', line 81, column 2 to column 53) (in 'real_data.stan', line 175, column 2 to line 180, column 4)\n",
      "\tException: Exception: normal_lpdf: Random variable is nan, but must be not nan! (in 'real_data.stan', line 81, column 2 to column 53) (in 'real_data.stan', line 175, column 2 to line 180, column 4)\n",
      "\tException: Exception: normal_lpdf: Random variable is nan, but must be not nan! (in 'real_data.stan', line 81, column 2 to column 53) (in 'real_data.stan', line 175, column 2 to line 180, column 4)\n",
      "\tException: Exception: normal_lpdf: Random variable is nan, but must be not nan! (in 'real_data.stan', line 81, column 2 to column 53) (in 'real_data.stan', line 175, column 2 to line 180, column 4)\n",
      "Consider re-running with show_console=True if the above output is unclear!\n"
     ]
    },
    {
     "name": "stdout",
     "output_type": "stream",
     "text": [
      "\n"
     ]
    },
    {
     "name": "stderr",
     "output_type": "stream",
     "text": [
      "20:53:07 - cmdstanpy - WARNING - Some chains may have failed to converge.\n",
      "\tChain 1 had 16 divergent transitions (0.8%)\n",
      "\tChain 1 had 1050 iterations at max treedepth (52.5%)\n",
      "\tChain 2 had 26 divergent transitions (1.3%)\n",
      "\tChain 3 had 35 divergent transitions (1.8%)\n",
      "\tChain 4 had 31 divergent transitions (1.6%)\n",
      "\tUse the \"diagnose()\" method on the CmdStanMCMC object to see further information.\n",
      "20:53:15 - cmdstanpy - INFO - CmdStan start processing\n"
     ]
    },
    {
     "name": "stdout",
     "output_type": "stream",
     "text": [
      "contest_8076 end\n",
      "contest_14420 begin\n"
     ]
    },
    {
     "data": {
      "application/vnd.jupyter.widget-view+json": {
       "model_id": "d063287b9c1b4f748a328bce6f039bc2",
       "version_major": 2,
       "version_minor": 0
      },
      "text/plain": [
       "chain 1 |          | 00:00 Status"
      ]
     },
     "metadata": {},
     "output_type": "display_data"
    },
    {
     "data": {
      "application/vnd.jupyter.widget-view+json": {
       "model_id": "43d2db3c85024059bbb513725789f62d",
       "version_major": 2,
       "version_minor": 0
      },
      "text/plain": [
       "chain 2 |          | 00:00 Status"
      ]
     },
     "metadata": {},
     "output_type": "display_data"
    },
    {
     "data": {
      "application/vnd.jupyter.widget-view+json": {
       "model_id": "5880f3ad13b84afdbb50dc15fb407b3e",
       "version_major": 2,
       "version_minor": 0
      },
      "text/plain": [
       "chain 3 |          | 00:00 Status"
      ]
     },
     "metadata": {},
     "output_type": "display_data"
    },
    {
     "data": {
      "application/vnd.jupyter.widget-view+json": {
       "model_id": "97a15477ec0d4f25b418820044b02933",
       "version_major": 2,
       "version_minor": 0
      },
      "text/plain": [
       "chain 4 |          | 00:00 Status"
      ]
     },
     "metadata": {},
     "output_type": "display_data"
    },
    {
     "name": "stdout",
     "output_type": "stream",
     "text": [
      "                                                                                                                                                                                                                                                                                                                                "
     ]
    },
    {
     "name": "stderr",
     "output_type": "stream",
     "text": [
      "20:55:46 - cmdstanpy - INFO - CmdStan done processing.\n",
      "20:55:46 - cmdstanpy - WARNING - Non-fatal error during sampling:\n",
      "Exception: Exception: normal_lpdf: Random variable is nan, but must be not nan! (in 'real_data.stan', line 81, column 2 to column 53) (in 'real_data.stan', line 175, column 2 to line 180, column 4)\n",
      "\tException: Exception: normal_lpdf: Random variable is nan, but must be not nan! (in 'real_data.stan', line 81, column 2 to column 53) (in 'real_data.stan', line 175, column 2 to line 180, column 4)\n",
      "\tException: Exception: normal_lpdf: Random variable is nan, but must be not nan! (in 'real_data.stan', line 81, column 2 to column 53) (in 'real_data.stan', line 175, column 2 to line 180, column 4)\n",
      "\tException: Exception: normal_lpdf: Random variable is nan, but must be not nan! (in 'real_data.stan', line 81, column 2 to column 53) (in 'real_data.stan', line 175, column 2 to line 180, column 4)\n",
      "\tException: Exception: normal_lpdf: Random variable is nan, but must be not nan! (in 'real_data.stan', line 81, column 2 to column 53) (in 'real_data.stan', line 175, column 2 to line 180, column 4)\n",
      "\tException: Exception: normal_lpdf: Random variable is nan, but must be not nan! (in 'real_data.stan', line 81, column 2 to column 53) (in 'real_data.stan', line 175, column 2 to line 180, column 4)\n",
      "Exception: Exception: normal_lpdf: Random variable is nan, but must be not nan! (in 'real_data.stan', line 81, column 2 to column 53) (in 'real_data.stan', line 175, column 2 to line 180, column 4)\n",
      "\tException: Exception: normal_lpdf: Random variable is nan, but must be not nan! (in 'real_data.stan', line 81, column 2 to column 53) (in 'real_data.stan', line 175, column 2 to line 180, column 4)\n",
      "\tException: Exception: normal_lpdf: Random variable is nan, but must be not nan! (in 'real_data.stan', line 81, column 2 to column 53) (in 'real_data.stan', line 175, column 2 to line 180, column 4)\n",
      "\tException: Exception: normal_lpdf: Random variable is nan, but must be not nan! (in 'real_data.stan', line 81, column 2 to column 53) (in 'real_data.stan', line 175, column 2 to line 180, column 4)\n",
      "\tException: Exception: normal_lpdf: Random variable is nan, but must be not nan! (in 'real_data.stan', line 81, column 2 to column 53) (in 'real_data.stan', line 175, column 2 to line 180, column 4)\n",
      "\tException: Exception: normal_lpdf: Random variable is nan, but must be not nan! (in 'real_data.stan', line 81, column 2 to column 53) (in 'real_data.stan', line 175, column 2 to line 180, column 4)\n",
      "\tException: Exception: normal_lpdf: Random variable is nan, but must be not nan! (in 'real_data.stan', line 81, column 2 to column 53) (in 'real_data.stan', line 175, column 2 to line 180, column 4)\n",
      "\tException: Exception: normal_lpdf: Random variable is nan, but must be not nan! (in 'real_data.stan', line 81, column 2 to column 53) (in 'real_data.stan', line 175, column 2 to line 180, column 4)\n",
      "Exception: Exception: normal_lpdf: Random variable is nan, but must be not nan! (in 'real_data.stan', line 81, column 2 to column 53) (in 'real_data.stan', line 175, column 2 to line 180, column 4)\n",
      "\tException: Exception: normal_lpdf: Random variable is nan, but must be not nan! (in 'real_data.stan', line 81, column 2 to column 53) (in 'real_data.stan', line 175, column 2 to line 180, column 4)\n",
      "\tException: Exception: normal_lpdf: Random variable is nan, but must be not nan! (in 'real_data.stan', line 81, column 2 to column 53) (in 'real_data.stan', line 175, column 2 to line 180, column 4)\n",
      "\tException: Exception: normal_lpdf: Random variable is nan, but must be not nan! (in 'real_data.stan', line 81, column 2 to column 53) (in 'real_data.stan', line 175, column 2 to line 180, column 4)\n",
      "Exception: Exception: normal_lpdf: Random variable is nan, but must be not nan! (in 'real_data.stan', line 81, column 2 to column 53) (in 'real_data.stan', line 175, column 2 to line 180, column 4)\n",
      "\tException: Exception: normal_lpdf: Random variable is nan, but must be not nan! (in 'real_data.stan', line 81, column 2 to column 53) (in 'real_data.stan', line 175, column 2 to line 180, column 4)\n",
      "\tException: Exception: normal_lpdf: Random variable is nan, but must be not nan! (in 'real_data.stan', line 81, column 2 to column 53) (in 'real_data.stan', line 175, column 2 to line 180, column 4)\n",
      "\tException: Exception: normal_lpdf: Random variable is nan, but must be not nan! (in 'real_data.stan', line 81, column 2 to column 53) (in 'real_data.stan', line 175, column 2 to line 180, column 4)\n",
      "\tException: Exception: normal_lpdf: Random variable is nan, but must be not nan! (in 'real_data.stan', line 81, column 2 to column 53) (in 'real_data.stan', line 175, column 2 to line 180, column 4)\n",
      "\tException: Exception: normal_lpdf: Random variable is nan, but must be not nan! (in 'real_data.stan', line 81, column 2 to column 53) (in 'real_data.stan', line 175, column 2 to line 180, column 4)\n",
      "\tException: Exception: normal_lpdf: Random variable is nan, but must be not nan! (in 'real_data.stan', line 81, column 2 to column 53) (in 'real_data.stan', line 175, column 2 to line 180, column 4)\n",
      "Consider re-running with show_console=True if the above output is unclear!\n"
     ]
    },
    {
     "name": "stdout",
     "output_type": "stream",
     "text": [
      "\n"
     ]
    },
    {
     "name": "stderr",
     "output_type": "stream",
     "text": [
      "20:55:49 - cmdstanpy - WARNING - Some chains may have failed to converge.\n",
      "\tChain 1 had 1 divergent transitions (0.1%)\n",
      "\tChain 2 had 7 divergent transitions (0.4%)\n",
      "\tChain 3 had 3 divergent transitions (0.1%)\n",
      "\tChain 4 had 2 divergent transitions (0.1%)\n",
      "\tUse the \"diagnose()\" method on the CmdStanMCMC object to see further information.\n",
      "20:56:01 - cmdstanpy - INFO - CmdStan start processing\n"
     ]
    },
    {
     "name": "stdout",
     "output_type": "stream",
     "text": [
      "contest_14420 end\n",
      "contest_18045 begin\n"
     ]
    },
    {
     "data": {
      "application/vnd.jupyter.widget-view+json": {
       "model_id": "a99fa9a479634212b5b963bf8557e8fc",
       "version_major": 2,
       "version_minor": 0
      },
      "text/plain": [
       "chain 1 |          | 00:00 Status"
      ]
     },
     "metadata": {},
     "output_type": "display_data"
    },
    {
     "data": {
      "application/vnd.jupyter.widget-view+json": {
       "model_id": "9a24c8dbdc1e4bc682bd241c891cd00d",
       "version_major": 2,
       "version_minor": 0
      },
      "text/plain": [
       "chain 2 |          | 00:00 Status"
      ]
     },
     "metadata": {},
     "output_type": "display_data"
    },
    {
     "data": {
      "application/vnd.jupyter.widget-view+json": {
       "model_id": "7002f90ddd9e4f9b93097005f39f125b",
       "version_major": 2,
       "version_minor": 0
      },
      "text/plain": [
       "chain 3 |          | 00:00 Status"
      ]
     },
     "metadata": {},
     "output_type": "display_data"
    },
    {
     "data": {
      "application/vnd.jupyter.widget-view+json": {
       "model_id": "ec53f5dc165d48989782dcb55a1dbb67",
       "version_major": 2,
       "version_minor": 0
      },
      "text/plain": [
       "chain 4 |          | 00:00 Status"
      ]
     },
     "metadata": {},
     "output_type": "display_data"
    },
    {
     "name": "stdout",
     "output_type": "stream",
     "text": [
      "                                                                                                                                                                                                                                                                                                                                "
     ]
    },
    {
     "name": "stderr",
     "output_type": "stream",
     "text": [
      "21:14:47 - cmdstanpy - INFO - CmdStan done processing.\n",
      "21:14:47 - cmdstanpy - WARNING - Non-fatal error during sampling:\n",
      "Exception: Exception: normal_lpdf: Random variable is nan, but must be not nan! (in 'real_data.stan', line 81, column 2 to column 53) (in 'real_data.stan', line 175, column 2 to line 180, column 4)\n",
      "\tException: Exception: normal_lpdf: Random variable is nan, but must be not nan! (in 'real_data.stan', line 81, column 2 to column 53) (in 'real_data.stan', line 175, column 2 to line 180, column 4)\n",
      "\tException: Exception: normal_lpdf: Random variable is nan, but must be not nan! (in 'real_data.stan', line 81, column 2 to column 53) (in 'real_data.stan', line 175, column 2 to line 180, column 4)\n",
      "\tException: Exception: normal_lpdf: Random variable is nan, but must be not nan! (in 'real_data.stan', line 81, column 2 to column 53) (in 'real_data.stan', line 175, column 2 to line 180, column 4)\n",
      "\tException: Exception: normal_lpdf: Random variable is nan, but must be not nan! (in 'real_data.stan', line 81, column 2 to column 53) (in 'real_data.stan', line 175, column 2 to line 180, column 4)\n",
      "Exception: Exception: normal_lpdf: Random variable is nan, but must be not nan! (in 'real_data.stan', line 81, column 2 to column 53) (in 'real_data.stan', line 175, column 2 to line 180, column 4)\n",
      "\tException: Exception: normal_lpdf: Random variable is nan, but must be not nan! (in 'real_data.stan', line 81, column 2 to column 53) (in 'real_data.stan', line 175, column 2 to line 180, column 4)\n",
      "\tException: Exception: normal_lpdf: Random variable is nan, but must be not nan! (in 'real_data.stan', line 81, column 2 to column 53) (in 'real_data.stan', line 175, column 2 to line 180, column 4)\n",
      "\tException: Exception: normal_lpdf: Random variable is nan, but must be not nan! (in 'real_data.stan', line 81, column 2 to column 53) (in 'real_data.stan', line 175, column 2 to line 180, column 4)\n",
      "Exception: Exception: normal_lpdf: Random variable is nan, but must be not nan! (in 'real_data.stan', line 81, column 2 to column 53) (in 'real_data.stan', line 175, column 2 to line 180, column 4)\n",
      "\tException: Exception: normal_lpdf: Random variable is nan, but must be not nan! (in 'real_data.stan', line 81, column 2 to column 53) (in 'real_data.stan', line 175, column 2 to line 180, column 4)\n",
      "\tException: Exception: normal_lpdf: Random variable is nan, but must be not nan! (in 'real_data.stan', line 81, column 2 to column 53) (in 'real_data.stan', line 175, column 2 to line 180, column 4)\n",
      "\tException: Exception: normal_lpdf: Random variable is nan, but must be not nan! (in 'real_data.stan', line 81, column 2 to column 53) (in 'real_data.stan', line 175, column 2 to line 180, column 4)\n",
      "\tException: Exception: normal_lpdf: Random variable is nan, but must be not nan! (in 'real_data.stan', line 81, column 2 to column 53) (in 'real_data.stan', line 175, column 2 to line 180, column 4)\n",
      "Exception: Exception: normal_lpdf: Random variable is nan, but must be not nan! (in 'real_data.stan', line 81, column 2 to column 53) (in 'real_data.stan', line 175, column 2 to line 180, column 4)\n",
      "\tException: Exception: normal_lpdf: Random variable is nan, but must be not nan! (in 'real_data.stan', line 81, column 2 to column 53) (in 'real_data.stan', line 175, column 2 to line 180, column 4)\n",
      "\tException: Exception: normal_lpdf: Random variable is nan, but must be not nan! (in 'real_data.stan', line 81, column 2 to column 53) (in 'real_data.stan', line 175, column 2 to line 180, column 4)\n",
      "\tException: Exception: normal_lpdf: Random variable is nan, but must be not nan! (in 'real_data.stan', line 81, column 2 to column 53) (in 'real_data.stan', line 175, column 2 to line 180, column 4)\n",
      "\tException: Exception: normal_lpdf: Random variable is nan, but must be not nan! (in 'real_data.stan', line 81, column 2 to column 53) (in 'real_data.stan', line 175, column 2 to line 180, column 4)\n",
      "Consider re-running with show_console=True if the above output is unclear!\n"
     ]
    },
    {
     "name": "stdout",
     "output_type": "stream",
     "text": [
      "\n"
     ]
    },
    {
     "name": "stderr",
     "output_type": "stream",
     "text": [
      "21:14:51 - cmdstanpy - WARNING - Some chains may have failed to converge.\n",
      "\tChain 1 had 51 divergent transitions (2.5%)\n",
      "\tChain 2 had 54 divergent transitions (2.7%)\n",
      "\tChain 3 had 66 divergent transitions (3.3%)\n",
      "\tChain 4 had 74 divergent transitions (3.7%)\n",
      "\tUse the \"diagnose()\" method on the CmdStanMCMC object to see further information.\n",
      "21:15:07 - cmdstanpy - INFO - CmdStan start processing\n"
     ]
    },
    {
     "name": "stdout",
     "output_type": "stream",
     "text": [
      "contest_18045 end\n",
      "contest_3929 begin\n"
     ]
    },
    {
     "data": {
      "application/vnd.jupyter.widget-view+json": {
       "model_id": "0e67a7ae9dc7479aa779271b96471f12",
       "version_major": 2,
       "version_minor": 0
      },
      "text/plain": [
       "chain 1 |          | 00:00 Status"
      ]
     },
     "metadata": {},
     "output_type": "display_data"
    },
    {
     "data": {
      "application/vnd.jupyter.widget-view+json": {
       "model_id": "6f1c6d1344c04c35a0a0b5b2dac5bc56",
       "version_major": 2,
       "version_minor": 0
      },
      "text/plain": [
       "chain 2 |          | 00:00 Status"
      ]
     },
     "metadata": {},
     "output_type": "display_data"
    },
    {
     "data": {
      "application/vnd.jupyter.widget-view+json": {
       "model_id": "7c1704169bd8402c8176125033df66ad",
       "version_major": 2,
       "version_minor": 0
      },
      "text/plain": [
       "chain 3 |          | 00:00 Status"
      ]
     },
     "metadata": {},
     "output_type": "display_data"
    },
    {
     "data": {
      "application/vnd.jupyter.widget-view+json": {
       "model_id": "cbd716a841694b918263c705c8575b25",
       "version_major": 2,
       "version_minor": 0
      },
      "text/plain": [
       "chain 4 |          | 00:00 Status"
      ]
     },
     "metadata": {},
     "output_type": "display_data"
    },
    {
     "name": "stdout",
     "output_type": "stream",
     "text": [
      "                                                                                                                                                                                                                                                                                                                                "
     ]
    },
    {
     "name": "stderr",
     "output_type": "stream",
     "text": [
      "21:16:52 - cmdstanpy - INFO - CmdStan done processing.\n",
      "21:16:52 - cmdstanpy - WARNING - Non-fatal error during sampling:\n",
      "Exception: Exception: normal_lpdf: Random variable is nan, but must be not nan! (in 'real_data.stan', line 81, column 2 to column 53) (in 'real_data.stan', line 175, column 2 to line 180, column 4)\n",
      "\tException: Exception: normal_lpdf: Random variable is nan, but must be not nan! (in 'real_data.stan', line 81, column 2 to column 53) (in 'real_data.stan', line 175, column 2 to line 180, column 4)\n",
      "\tException: Exception: normal_lpdf: Random variable is nan, but must be not nan! (in 'real_data.stan', line 81, column 2 to column 53) (in 'real_data.stan', line 175, column 2 to line 180, column 4)\n",
      "\tException: Exception: normal_lpdf: Random variable is nan, but must be not nan! (in 'real_data.stan', line 81, column 2 to column 53) (in 'real_data.stan', line 175, column 2 to line 180, column 4)\n",
      "\tException: Exception: normal_lpdf: Random variable is nan, but must be not nan! (in 'real_data.stan', line 81, column 2 to column 53) (in 'real_data.stan', line 175, column 2 to line 180, column 4)\n",
      "\tException: Exception: normal_lpdf: Random variable is nan, but must be not nan! (in 'real_data.stan', line 81, column 2 to column 53) (in 'real_data.stan', line 175, column 2 to line 180, column 4)\n",
      "Exception: Exception: normal_lpdf: Random variable is nan, but must be not nan! (in 'real_data.stan', line 81, column 2 to column 53) (in 'real_data.stan', line 175, column 2 to line 180, column 4)\n",
      "\tException: Exception: normal_lpdf: Random variable is nan, but must be not nan! (in 'real_data.stan', line 81, column 2 to column 53) (in 'real_data.stan', line 175, column 2 to line 180, column 4)\n",
      "\tException: Exception: normal_lpdf: Random variable is nan, but must be not nan! (in 'real_data.stan', line 81, column 2 to column 53) (in 'real_data.stan', line 175, column 2 to line 180, column 4)\n",
      "Exception: Exception: normal_lpdf: Random variable is nan, but must be not nan! (in 'real_data.stan', line 81, column 2 to column 53) (in 'real_data.stan', line 175, column 2 to line 180, column 4)\n",
      "\tException: Exception: normal_lpdf: Random variable is nan, but must be not nan! (in 'real_data.stan', line 81, column 2 to column 53) (in 'real_data.stan', line 175, column 2 to line 180, column 4)\n",
      "\tException: Exception: normal_lpdf: Random variable is nan, but must be not nan! (in 'real_data.stan', line 81, column 2 to column 53) (in 'real_data.stan', line 175, column 2 to line 180, column 4)\n",
      "\tException: Exception: normal_lpdf: Random variable is nan, but must be not nan! (in 'real_data.stan', line 81, column 2 to column 53) (in 'real_data.stan', line 175, column 2 to line 180, column 4)\n",
      "\tException: Exception: normal_lpdf: Random variable is nan, but must be not nan! (in 'real_data.stan', line 81, column 2 to column 53) (in 'real_data.stan', line 175, column 2 to line 180, column 4)\n",
      "Exception: Exception: normal_lpdf: Random variable is nan, but must be not nan! (in 'real_data.stan', line 81, column 2 to column 53) (in 'real_data.stan', line 175, column 2 to line 180, column 4)\n",
      "\tException: Exception: normal_lpdf: Random variable is nan, but must be not nan! (in 'real_data.stan', line 81, column 2 to column 53) (in 'real_data.stan', line 175, column 2 to line 180, column 4)\n",
      "\tException: Exception: normal_lpdf: Random variable is nan, but must be not nan! (in 'real_data.stan', line 81, column 2 to column 53) (in 'real_data.stan', line 175, column 2 to line 180, column 4)\n",
      "\tException: Exception: normal_lpdf: Random variable is nan, but must be not nan! (in 'real_data.stan', line 81, column 2 to column 53) (in 'real_data.stan', line 175, column 2 to line 180, column 4)\n",
      "Consider re-running with show_console=True if the above output is unclear!\n"
     ]
    },
    {
     "name": "stdout",
     "output_type": "stream",
     "text": [
      "\n"
     ]
    },
    {
     "name": "stderr",
     "output_type": "stream",
     "text": [
      "21:17:03 - cmdstanpy - INFO - CmdStan start processing\n"
     ]
    },
    {
     "name": "stdout",
     "output_type": "stream",
     "text": [
      "contest_3929 end\n",
      "contest_3641 begin\n"
     ]
    },
    {
     "data": {
      "application/vnd.jupyter.widget-view+json": {
       "model_id": "9563aba6383d4763a94b1934a6472cab",
       "version_major": 2,
       "version_minor": 0
      },
      "text/plain": [
       "chain 1 |          | 00:00 Status"
      ]
     },
     "metadata": {},
     "output_type": "display_data"
    },
    {
     "data": {
      "application/vnd.jupyter.widget-view+json": {
       "model_id": "4f3ba4c956a148da8502f0332f0bb29c",
       "version_major": 2,
       "version_minor": 0
      },
      "text/plain": [
       "chain 2 |          | 00:00 Status"
      ]
     },
     "metadata": {},
     "output_type": "display_data"
    },
    {
     "data": {
      "application/vnd.jupyter.widget-view+json": {
       "model_id": "0a8ab20663f8444ca5f6d69ecd5b89df",
       "version_major": 2,
       "version_minor": 0
      },
      "text/plain": [
       "chain 3 |          | 00:00 Status"
      ]
     },
     "metadata": {},
     "output_type": "display_data"
    },
    {
     "data": {
      "application/vnd.jupyter.widget-view+json": {
       "model_id": "bd3d3885d7294ddf93b86064ed7dc1ef",
       "version_major": 2,
       "version_minor": 0
      },
      "text/plain": [
       "chain 4 |          | 00:00 Status"
      ]
     },
     "metadata": {},
     "output_type": "display_data"
    },
    {
     "name": "stdout",
     "output_type": "stream",
     "text": [
      "                                                                                                                                                                                                                                                                                                                                "
     ]
    },
    {
     "name": "stderr",
     "output_type": "stream",
     "text": [
      "21:20:43 - cmdstanpy - INFO - CmdStan done processing.\n",
      "21:20:43 - cmdstanpy - WARNING - Non-fatal error during sampling:\n",
      "Exception: Exception: normal_lpdf: Random variable is nan, but must be not nan! (in 'real_data.stan', line 81, column 2 to column 53) (in 'real_data.stan', line 175, column 2 to line 180, column 4)\n",
      "\tException: Exception: normal_lpdf: Random variable is nan, but must be not nan! (in 'real_data.stan', line 81, column 2 to column 53) (in 'real_data.stan', line 175, column 2 to line 180, column 4)\n",
      "\tException: Exception: normal_lpdf: Random variable is nan, but must be not nan! (in 'real_data.stan', line 81, column 2 to column 53) (in 'real_data.stan', line 175, column 2 to line 180, column 4)\n",
      "\tException: Exception: normal_lpdf: Random variable is nan, but must be not nan! (in 'real_data.stan', line 81, column 2 to column 53) (in 'real_data.stan', line 175, column 2 to line 180, column 4)\n",
      "Exception: Exception: normal_lpdf: Random variable is nan, but must be not nan! (in 'real_data.stan', line 81, column 2 to column 53) (in 'real_data.stan', line 175, column 2 to line 180, column 4)\n",
      "\tException: Exception: normal_lpdf: Random variable is nan, but must be not nan! (in 'real_data.stan', line 81, column 2 to column 53) (in 'real_data.stan', line 175, column 2 to line 180, column 4)\n",
      "Exception: Exception: normal_lpdf: Random variable is nan, but must be not nan! (in 'real_data.stan', line 81, column 2 to column 53) (in 'real_data.stan', line 175, column 2 to line 180, column 4)\n",
      "\tException: Exception: normal_lpdf: Random variable is nan, but must be not nan! (in 'real_data.stan', line 81, column 2 to column 53) (in 'real_data.stan', line 175, column 2 to line 180, column 4)\n",
      "\tException: Exception: normal_lpdf: Random variable is nan, but must be not nan! (in 'real_data.stan', line 81, column 2 to column 53) (in 'real_data.stan', line 175, column 2 to line 180, column 4)\n",
      "\tException: Exception: normal_lpdf: Random variable is nan, but must be not nan! (in 'real_data.stan', line 81, column 2 to column 53) (in 'real_data.stan', line 175, column 2 to line 180, column 4)\n",
      "Exception: Exception: normal_lpdf: Random variable is nan, but must be not nan! (in 'real_data.stan', line 81, column 2 to column 53) (in 'real_data.stan', line 175, column 2 to line 180, column 4)\n",
      "\tException: Exception: normal_lpdf: Random variable is nan, but must be not nan! (in 'real_data.stan', line 81, column 2 to column 53) (in 'real_data.stan', line 175, column 2 to line 180, column 4)\n",
      "\tException: Exception: normal_lpdf: Random variable is nan, but must be not nan! (in 'real_data.stan', line 81, column 2 to column 53) (in 'real_data.stan', line 175, column 2 to line 180, column 4)\n",
      "\tException: Exception: normal_lpdf: Random variable is nan, but must be not nan! (in 'real_data.stan', line 81, column 2 to column 53) (in 'real_data.stan', line 175, column 2 to line 180, column 4)\n",
      "Consider re-running with show_console=True if the above output is unclear!\n"
     ]
    },
    {
     "name": "stdout",
     "output_type": "stream",
     "text": [
      "\n"
     ]
    },
    {
     "name": "stderr",
     "output_type": "stream",
     "text": [
      "21:20:46 - cmdstanpy - WARNING - Some chains may have failed to converge.\n",
      "\tChain 1 had 4 divergent transitions (0.2%)\n",
      "\tChain 2 had 2 divergent transitions (0.1%)\n",
      "\tChain 4 had 7 divergent transitions (0.4%)\n",
      "\tUse the \"diagnose()\" method on the CmdStanMCMC object to see further information.\n",
      "21:20:58 - cmdstanpy - INFO - CmdStan start processing\n"
     ]
    },
    {
     "name": "stdout",
     "output_type": "stream",
     "text": [
      "contest_3641 end\n",
      "contest_7878 begin\n"
     ]
    },
    {
     "data": {
      "application/vnd.jupyter.widget-view+json": {
       "model_id": "d41f612f97eb44b1afce32ea6c0dfacd",
       "version_major": 2,
       "version_minor": 0
      },
      "text/plain": [
       "chain 1 |          | 00:00 Status"
      ]
     },
     "metadata": {},
     "output_type": "display_data"
    },
    {
     "data": {
      "application/vnd.jupyter.widget-view+json": {
       "model_id": "dce83755203c44deaba19e9f0b456452",
       "version_major": 2,
       "version_minor": 0
      },
      "text/plain": [
       "chain 2 |          | 00:00 Status"
      ]
     },
     "metadata": {},
     "output_type": "display_data"
    },
    {
     "data": {
      "application/vnd.jupyter.widget-view+json": {
       "model_id": "cf34b1ecc69f49068b483a98bdb60705",
       "version_major": 2,
       "version_minor": 0
      },
      "text/plain": [
       "chain 3 |          | 00:00 Status"
      ]
     },
     "metadata": {},
     "output_type": "display_data"
    },
    {
     "data": {
      "application/vnd.jupyter.widget-view+json": {
       "model_id": "81f92fd9dec042229b76d4f917ac131f",
       "version_major": 2,
       "version_minor": 0
      },
      "text/plain": [
       "chain 4 |          | 00:00 Status"
      ]
     },
     "metadata": {},
     "output_type": "display_data"
    },
    {
     "name": "stdout",
     "output_type": "stream",
     "text": [
      "                                                                                                                                                                                                                                                                                                                                "
     ]
    },
    {
     "name": "stderr",
     "output_type": "stream",
     "text": [
      "21:22:33 - cmdstanpy - INFO - CmdStan done processing.\n",
      "21:22:33 - cmdstanpy - WARNING - Non-fatal error during sampling:\n",
      "Exception: Exception: normal_lpdf: Random variable is nan, but must be not nan! (in 'real_data.stan', line 81, column 2 to column 53) (in 'real_data.stan', line 175, column 2 to line 180, column 4)\n",
      "\tException: Exception: normal_lpdf: Random variable is nan, but must be not nan! (in 'real_data.stan', line 81, column 2 to column 53) (in 'real_data.stan', line 175, column 2 to line 180, column 4)\n",
      "Exception: Exception: normal_lpdf: Random variable is nan, but must be not nan! (in 'real_data.stan', line 81, column 2 to column 53) (in 'real_data.stan', line 175, column 2 to line 180, column 4)\n",
      "Exception: Exception: normal_lpdf: Random variable is nan, but must be not nan! (in 'real_data.stan', line 81, column 2 to column 53) (in 'real_data.stan', line 175, column 2 to line 180, column 4)\n",
      "\tException: Exception: normal_lpdf: Random variable is nan, but must be not nan! (in 'real_data.stan', line 81, column 2 to column 53) (in 'real_data.stan', line 175, column 2 to line 180, column 4)\n",
      "\tException: Exception: normal_lpdf: Random variable is nan, but must be not nan! (in 'real_data.stan', line 81, column 2 to column 53) (in 'real_data.stan', line 175, column 2 to line 180, column 4)\n",
      "\tException: Exception: normal_lpdf: Random variable is nan, but must be not nan! (in 'real_data.stan', line 81, column 2 to column 53) (in 'real_data.stan', line 175, column 2 to line 180, column 4)\n",
      "Exception: Exception: normal_lpdf: Random variable is nan, but must be not nan! (in 'real_data.stan', line 81, column 2 to column 53) (in 'real_data.stan', line 175, column 2 to line 180, column 4)\n",
      "\tException: Exception: normal_lpdf: Random variable is nan, but must be not nan! (in 'real_data.stan', line 81, column 2 to column 53) (in 'real_data.stan', line 175, column 2 to line 180, column 4)\n",
      "\tException: Exception: normal_lpdf: Random variable is nan, but must be not nan! (in 'real_data.stan', line 81, column 2 to column 53) (in 'real_data.stan', line 175, column 2 to line 180, column 4)\n",
      "\tException: Exception: normal_lpdf: Random variable is nan, but must be not nan! (in 'real_data.stan', line 81, column 2 to column 53) (in 'real_data.stan', line 175, column 2 to line 180, column 4)\n",
      "Consider re-running with show_console=True if the above output is unclear!\n"
     ]
    },
    {
     "name": "stdout",
     "output_type": "stream",
     "text": [
      "\n"
     ]
    },
    {
     "name": "stderr",
     "output_type": "stream",
     "text": [
      "21:22:34 - cmdstanpy - WARNING - Some chains may have failed to converge.\n",
      "\tChain 3 had 1 divergent transitions (0.1%)\n",
      "\tUse the \"diagnose()\" method on the CmdStanMCMC object to see further information.\n",
      "21:22:41 - cmdstanpy - INFO - CmdStan start processing\n"
     ]
    },
    {
     "name": "stdout",
     "output_type": "stream",
     "text": [
      "contest_7878 end\n",
      "contest_7634 begin\n"
     ]
    },
    {
     "data": {
      "application/vnd.jupyter.widget-view+json": {
       "model_id": "360d73bad601444284dec69e532c57b3",
       "version_major": 2,
       "version_minor": 0
      },
      "text/plain": [
       "chain 1 |          | 00:00 Status"
      ]
     },
     "metadata": {},
     "output_type": "display_data"
    },
    {
     "data": {
      "application/vnd.jupyter.widget-view+json": {
       "model_id": "60faee142112493291898fc92c6238b4",
       "version_major": 2,
       "version_minor": 0
      },
      "text/plain": [
       "chain 2 |          | 00:00 Status"
      ]
     },
     "metadata": {},
     "output_type": "display_data"
    },
    {
     "data": {
      "application/vnd.jupyter.widget-view+json": {
       "model_id": "3ef61d20b938433f857806497d17e4c9",
       "version_major": 2,
       "version_minor": 0
      },
      "text/plain": [
       "chain 3 |          | 00:00 Status"
      ]
     },
     "metadata": {},
     "output_type": "display_data"
    },
    {
     "data": {
      "application/vnd.jupyter.widget-view+json": {
       "model_id": "edb716b4234647e98ab7c14acc8fd6f1",
       "version_major": 2,
       "version_minor": 0
      },
      "text/plain": [
       "chain 4 |          | 00:00 Status"
      ]
     },
     "metadata": {},
     "output_type": "display_data"
    },
    {
     "name": "stdout",
     "output_type": "stream",
     "text": [
      "                                                                                                                                                                                                                                                                                                                                "
     ]
    },
    {
     "name": "stderr",
     "output_type": "stream",
     "text": [
      "21:26:20 - cmdstanpy - INFO - CmdStan done processing.\n",
      "21:26:20 - cmdstanpy - WARNING - Non-fatal error during sampling:\n",
      "Exception: Exception: normal_lpdf: Random variable is nan, but must be not nan! (in 'real_data.stan', line 81, column 2 to column 53) (in 'real_data.stan', line 175, column 2 to line 180, column 4)\n",
      "\tException: Exception: normal_lpdf: Random variable is nan, but must be not nan! (in 'real_data.stan', line 81, column 2 to column 53) (in 'real_data.stan', line 175, column 2 to line 180, column 4)\n",
      "\tException: Exception: normal_lpdf: Random variable is nan, but must be not nan! (in 'real_data.stan', line 81, column 2 to column 53) (in 'real_data.stan', line 175, column 2 to line 180, column 4)\n",
      "\tException: Exception: normal_lpdf: Random variable is nan, but must be not nan! (in 'real_data.stan', line 81, column 2 to column 53) (in 'real_data.stan', line 175, column 2 to line 180, column 4)\n",
      "Exception: Exception: normal_lpdf: Random variable is nan, but must be not nan! (in 'real_data.stan', line 81, column 2 to column 53) (in 'real_data.stan', line 175, column 2 to line 180, column 4)\n",
      "\tException: Exception: normal_lpdf: Random variable is nan, but must be not nan! (in 'real_data.stan', line 81, column 2 to column 53) (in 'real_data.stan', line 175, column 2 to line 180, column 4)\n",
      "\tException: Exception: normal_lpdf: Random variable is nan, but must be not nan! (in 'real_data.stan', line 81, column 2 to column 53) (in 'real_data.stan', line 175, column 2 to line 180, column 4)\n",
      "\tException: Exception: normal_lpdf: Random variable is nan, but must be not nan! (in 'real_data.stan', line 81, column 2 to column 53) (in 'real_data.stan', line 175, column 2 to line 180, column 4)\n",
      "Exception: Exception: normal_lpdf: Random variable is nan, but must be not nan! (in 'real_data.stan', line 81, column 2 to column 53) (in 'real_data.stan', line 175, column 2 to line 180, column 4)\n",
      "\tException: Exception: normal_lpdf: Random variable is nan, but must be not nan! (in 'real_data.stan', line 81, column 2 to column 53) (in 'real_data.stan', line 175, column 2 to line 180, column 4)\n",
      "\tException: Exception: normal_lpdf: Random variable is nan, but must be not nan! (in 'real_data.stan', line 81, column 2 to column 53) (in 'real_data.stan', line 175, column 2 to line 180, column 4)\n",
      "\tException: Exception: normal_lpdf: Random variable is nan, but must be not nan! (in 'real_data.stan', line 81, column 2 to column 53) (in 'real_data.stan', line 175, column 2 to line 180, column 4)\n",
      "\tException: Exception: normal_lpdf: Random variable is nan, but must be not nan! (in 'real_data.stan', line 81, column 2 to column 53) (in 'real_data.stan', line 175, column 2 to line 180, column 4)\n",
      "Exception: Exception: normal_lpdf: Random variable is nan, but must be not nan! (in 'real_data.stan', line 81, column 2 to column 53) (in 'real_data.stan', line 175, column 2 to line 180, column 4)\n",
      "\tException: Exception: normal_lpdf: Random variable is nan, but must be not nan! (in 'real_data.stan', line 81, column 2 to column 53) (in 'real_data.stan', line 175, column 2 to line 180, column 4)\n",
      "Consider re-running with show_console=True if the above output is unclear!\n"
     ]
    },
    {
     "name": "stdout",
     "output_type": "stream",
     "text": [
      "\n"
     ]
    },
    {
     "name": "stderr",
     "output_type": "stream",
     "text": [
      "21:26:24 - cmdstanpy - WARNING - Some chains may have failed to converge.\n",
      "\tChain 1 had 5 divergent transitions (0.2%)\n",
      "\tChain 2 had 1 divergent transitions (0.1%)\n",
      "\tChain 3 had 4 divergent transitions (0.2%)\n",
      "\tChain 4 had 6 divergent transitions (0.3%)\n",
      "\tUse the \"diagnose()\" method on the CmdStanMCMC object to see further information.\n",
      "21:26:39 - cmdstanpy - INFO - CmdStan start processing\n"
     ]
    },
    {
     "name": "stdout",
     "output_type": "stream",
     "text": [
      "contest_7634 end\n",
      "contest_4366 begin\n"
     ]
    },
    {
     "data": {
      "application/vnd.jupyter.widget-view+json": {
       "model_id": "27e3183fdd0e48598337b0f3f213b04f",
       "version_major": 2,
       "version_minor": 0
      },
      "text/plain": [
       "chain 1 |          | 00:00 Status"
      ]
     },
     "metadata": {},
     "output_type": "display_data"
    },
    {
     "data": {
      "application/vnd.jupyter.widget-view+json": {
       "model_id": "3f6a33fa18184bdcbdf3cd0b525924c0",
       "version_major": 2,
       "version_minor": 0
      },
      "text/plain": [
       "chain 2 |          | 00:00 Status"
      ]
     },
     "metadata": {},
     "output_type": "display_data"
    },
    {
     "data": {
      "application/vnd.jupyter.widget-view+json": {
       "model_id": "c0ff7b6e8034442d870953ecade05ad9",
       "version_major": 2,
       "version_minor": 0
      },
      "text/plain": [
       "chain 3 |          | 00:00 Status"
      ]
     },
     "metadata": {},
     "output_type": "display_data"
    },
    {
     "data": {
      "application/vnd.jupyter.widget-view+json": {
       "model_id": "c06f0d80543b4861be3d13c01f4b5034",
       "version_major": 2,
       "version_minor": 0
      },
      "text/plain": [
       "chain 4 |          | 00:00 Status"
      ]
     },
     "metadata": {},
     "output_type": "display_data"
    },
    {
     "name": "stdout",
     "output_type": "stream",
     "text": [
      "                                                                                                                                                                                                                                                                                                                                "
     ]
    },
    {
     "name": "stderr",
     "output_type": "stream",
     "text": [
      "21:28:18 - cmdstanpy - INFO - CmdStan done processing.\n",
      "21:28:18 - cmdstanpy - WARNING - Non-fatal error during sampling:\n",
      "Exception: Exception: normal_lpdf: Random variable is nan, but must be not nan! (in 'real_data.stan', line 81, column 2 to column 53) (in 'real_data.stan', line 175, column 2 to line 180, column 4)\n",
      "\tException: Exception: normal_lpdf: Random variable is nan, but must be not nan! (in 'real_data.stan', line 81, column 2 to column 53) (in 'real_data.stan', line 175, column 2 to line 180, column 4)\n",
      "\tException: Exception: normal_lpdf: Random variable is nan, but must be not nan! (in 'real_data.stan', line 81, column 2 to column 53) (in 'real_data.stan', line 175, column 2 to line 180, column 4)\n",
      "\tException: Exception: normal_lpdf: Random variable is nan, but must be not nan! (in 'real_data.stan', line 81, column 2 to column 53) (in 'real_data.stan', line 175, column 2 to line 180, column 4)\n",
      "\tException: Exception: normal_lpdf: Random variable is nan, but must be not nan! (in 'real_data.stan', line 81, column 2 to column 53) (in 'real_data.stan', line 175, column 2 to line 180, column 4)\n",
      "\tException: Exception: normal_lpdf: Random variable is nan, but must be not nan! (in 'real_data.stan', line 81, column 2 to column 53) (in 'real_data.stan', line 175, column 2 to line 180, column 4)\n",
      "Exception: Exception: normal_lpdf: Random variable is nan, but must be not nan! (in 'real_data.stan', line 81, column 2 to column 53) (in 'real_data.stan', line 175, column 2 to line 180, column 4)\n",
      "\tException: Exception: normal_lpdf: Random variable is nan, but must be not nan! (in 'real_data.stan', line 81, column 2 to column 53) (in 'real_data.stan', line 175, column 2 to line 180, column 4)\n",
      "Exception: Exception: normal_lpdf: Random variable is nan, but must be not nan! (in 'real_data.stan', line 81, column 2 to column 53) (in 'real_data.stan', line 175, column 2 to line 180, column 4)\n",
      "\tException: Exception: normal_lpdf: Random variable is nan, but must be not nan! (in 'real_data.stan', line 81, column 2 to column 53) (in 'real_data.stan', line 175, column 2 to line 180, column 4)\n",
      "\tException: Exception: normal_lpdf: Random variable is nan, but must be not nan! (in 'real_data.stan', line 81, column 2 to column 53) (in 'real_data.stan', line 175, column 2 to line 180, column 4)\n",
      "\tException: Exception: normal_lpdf: Random variable is nan, but must be not nan! (in 'real_data.stan', line 81, column 2 to column 53) (in 'real_data.stan', line 175, column 2 to line 180, column 4)\n",
      "Exception: Exception: normal_lpdf: Random variable is nan, but must be not nan! (in 'real_data.stan', line 81, column 2 to column 53) (in 'real_data.stan', line 175, column 2 to line 180, column 4)\n",
      "\tException: Exception: normal_lpdf: Random variable is nan, but must be not nan! (in 'real_data.stan', line 81, column 2 to column 53) (in 'real_data.stan', line 175, column 2 to line 180, column 4)\n",
      "\tException: Exception: normal_lpdf: Random variable is nan, but must be not nan! (in 'real_data.stan', line 81, column 2 to column 53) (in 'real_data.stan', line 175, column 2 to line 180, column 4)\n",
      "\tException: Exception: normal_lpdf: Random variable is nan, but must be not nan! (in 'real_data.stan', line 81, column 2 to column 53) (in 'real_data.stan', line 175, column 2 to line 180, column 4)\n",
      "\tException: Exception: normal_lpdf: Random variable is nan, but must be not nan! (in 'real_data.stan', line 81, column 2 to column 53) (in 'real_data.stan', line 175, column 2 to line 180, column 4)\n",
      "Consider re-running with show_console=True if the above output is unclear!\n"
     ]
    },
    {
     "name": "stdout",
     "output_type": "stream",
     "text": [
      "\n"
     ]
    },
    {
     "name": "stderr",
     "output_type": "stream",
     "text": [
      "21:28:20 - cmdstanpy - WARNING - Some chains may have failed to converge.\n",
      "\tChain 1 had 9 divergent transitions (0.4%)\n",
      "\tChain 2 had 2 divergent transitions (0.1%)\n",
      "\tChain 3 had 11 divergent transitions (0.5%)\n",
      "\tChain 4 had 9 divergent transitions (0.4%)\n",
      "\tUse the \"diagnose()\" method on the CmdStanMCMC object to see further information.\n",
      "21:28:27 - cmdstanpy - INFO - CmdStan start processing\n"
     ]
    },
    {
     "name": "stdout",
     "output_type": "stream",
     "text": [
      "contest_4366 end\n",
      "contest_3509 begin\n"
     ]
    },
    {
     "data": {
      "application/vnd.jupyter.widget-view+json": {
       "model_id": "5b3a04169f0a404685a08eb46b5db6bb",
       "version_major": 2,
       "version_minor": 0
      },
      "text/plain": [
       "chain 1 |          | 00:00 Status"
      ]
     },
     "metadata": {},
     "output_type": "display_data"
    },
    {
     "data": {
      "application/vnd.jupyter.widget-view+json": {
       "model_id": "7c2f7e4a51d3491ba36a5d8a7194c367",
       "version_major": 2,
       "version_minor": 0
      },
      "text/plain": [
       "chain 2 |          | 00:00 Status"
      ]
     },
     "metadata": {},
     "output_type": "display_data"
    },
    {
     "data": {
      "application/vnd.jupyter.widget-view+json": {
       "model_id": "8031e98b37e4466384a715271b4bfca7",
       "version_major": 2,
       "version_minor": 0
      },
      "text/plain": [
       "chain 3 |          | 00:00 Status"
      ]
     },
     "metadata": {},
     "output_type": "display_data"
    },
    {
     "data": {
      "application/vnd.jupyter.widget-view+json": {
       "model_id": "7357644e4f3f4d119454ebdf05e751d6",
       "version_major": 2,
       "version_minor": 0
      },
      "text/plain": [
       "chain 4 |          | 00:00 Status"
      ]
     },
     "metadata": {},
     "output_type": "display_data"
    },
    {
     "name": "stdout",
     "output_type": "stream",
     "text": [
      "                                                                                                                                                                                                                                                                                                                                "
     ]
    },
    {
     "name": "stderr",
     "output_type": "stream",
     "text": [
      "21:29:27 - cmdstanpy - INFO - CmdStan done processing.\n",
      "21:29:27 - cmdstanpy - WARNING - Non-fatal error during sampling:\n",
      "Exception: Exception: normal_lpdf: Random variable is nan, but must be not nan! (in 'real_data.stan', line 81, column 2 to column 53) (in 'real_data.stan', line 175, column 2 to line 180, column 4)\n",
      "\tException: Exception: normal_lpdf: Random variable is nan, but must be not nan! (in 'real_data.stan', line 81, column 2 to column 53) (in 'real_data.stan', line 175, column 2 to line 180, column 4)\n",
      "Exception: Exception: normal_lpdf: Random variable is nan, but must be not nan! (in 'real_data.stan', line 81, column 2 to column 53) (in 'real_data.stan', line 175, column 2 to line 180, column 4)\n",
      "\tException: Exception: normal_lpdf: Random variable is nan, but must be not nan! (in 'real_data.stan', line 81, column 2 to column 53) (in 'real_data.stan', line 175, column 2 to line 180, column 4)\n",
      "Consider re-running with show_console=True if the above output is unclear!\n"
     ]
    },
    {
     "name": "stdout",
     "output_type": "stream",
     "text": [
      "\n"
     ]
    },
    {
     "name": "stderr",
     "output_type": "stream",
     "text": [
      "21:29:33 - cmdstanpy - INFO - CmdStan start processing\n"
     ]
    },
    {
     "name": "stdout",
     "output_type": "stream",
     "text": [
      "contest_3509 end\n",
      "contest_2549 begin\n"
     ]
    },
    {
     "data": {
      "application/vnd.jupyter.widget-view+json": {
       "model_id": "9b29fff5fc7a40b3b5ed36ac687d785b",
       "version_major": 2,
       "version_minor": 0
      },
      "text/plain": [
       "chain 1 |          | 00:00 Status"
      ]
     },
     "metadata": {},
     "output_type": "display_data"
    },
    {
     "data": {
      "application/vnd.jupyter.widget-view+json": {
       "model_id": "df238726cf1f4354afbd11d2faad6b09",
       "version_major": 2,
       "version_minor": 0
      },
      "text/plain": [
       "chain 2 |          | 00:00 Status"
      ]
     },
     "metadata": {},
     "output_type": "display_data"
    },
    {
     "data": {
      "application/vnd.jupyter.widget-view+json": {
       "model_id": "55ea6a4c6cad43d1aaf5e822a0acc1d4",
       "version_major": 2,
       "version_minor": 0
      },
      "text/plain": [
       "chain 3 |          | 00:00 Status"
      ]
     },
     "metadata": {},
     "output_type": "display_data"
    },
    {
     "data": {
      "application/vnd.jupyter.widget-view+json": {
       "model_id": "d5ae9666a34847bbbdb1c3a3191c98af",
       "version_major": 2,
       "version_minor": 0
      },
      "text/plain": [
       "chain 4 |          | 00:00 Status"
      ]
     },
     "metadata": {},
     "output_type": "display_data"
    },
    {
     "name": "stdout",
     "output_type": "stream",
     "text": [
      "                                                                                                                                                                                                                                                                                                                                "
     ]
    },
    {
     "name": "stderr",
     "output_type": "stream",
     "text": [
      "21:30:00 - cmdstanpy - INFO - CmdStan done processing.\n",
      "21:30:00 - cmdstanpy - WARNING - Non-fatal error during sampling:\n",
      "Exception: Exception: normal_lpdf: Random variable is nan, but must be not nan! (in 'real_data.stan', line 81, column 2 to column 53) (in 'real_data.stan', line 175, column 2 to line 180, column 4)\n",
      "\tException: Exception: normal_lpdf: Random variable is nan, but must be not nan! (in 'real_data.stan', line 81, column 2 to column 53) (in 'real_data.stan', line 175, column 2 to line 180, column 4)\n",
      "Exception: Exception: normal_lpdf: Random variable is nan, but must be not nan! (in 'real_data.stan', line 81, column 2 to column 53) (in 'real_data.stan', line 175, column 2 to line 180, column 4)\n",
      "Exception: Exception: normal_lpdf: Random variable is nan, but must be not nan! (in 'real_data.stan', line 81, column 2 to column 53) (in 'real_data.stan', line 175, column 2 to line 180, column 4)\n",
      "Exception: Exception: normal_lpdf: Random variable is nan, but must be not nan! (in 'real_data.stan', line 81, column 2 to column 53) (in 'real_data.stan', line 175, column 2 to line 180, column 4)\n",
      "\tException: Exception: normal_lpdf: Random variable is nan, but must be not nan! (in 'real_data.stan', line 81, column 2 to column 53) (in 'real_data.stan', line 175, column 2 to line 180, column 4)\n",
      "Consider re-running with show_console=True if the above output is unclear!\n"
     ]
    },
    {
     "name": "stdout",
     "output_type": "stream",
     "text": [
      "\n"
     ]
    },
    {
     "name": "stderr",
     "output_type": "stream",
     "text": [
      "21:30:03 - cmdstanpy - INFO - CmdStan start processing\n"
     ]
    },
    {
     "name": "stdout",
     "output_type": "stream",
     "text": [
      "contest_2549 end\n",
      "contest_38128 begin\n"
     ]
    },
    {
     "data": {
      "application/vnd.jupyter.widget-view+json": {
       "model_id": "7a216884461e4a2f8f0938afd00df9cc",
       "version_major": 2,
       "version_minor": 0
      },
      "text/plain": [
       "chain 1 |          | 00:00 Status"
      ]
     },
     "metadata": {},
     "output_type": "display_data"
    },
    {
     "data": {
      "application/vnd.jupyter.widget-view+json": {
       "model_id": "8298ef18f1914c7c8d86843b02c1b2a6",
       "version_major": 2,
       "version_minor": 0
      },
      "text/plain": [
       "chain 2 |          | 00:00 Status"
      ]
     },
     "metadata": {},
     "output_type": "display_data"
    },
    {
     "data": {
      "application/vnd.jupyter.widget-view+json": {
       "model_id": "b518eb86764c48d7a9e546ad6cccd600",
       "version_major": 2,
       "version_minor": 0
      },
      "text/plain": [
       "chain 3 |          | 00:00 Status"
      ]
     },
     "metadata": {},
     "output_type": "display_data"
    },
    {
     "data": {
      "application/vnd.jupyter.widget-view+json": {
       "model_id": "01d038129ba649aa81a10c850e0e3d81",
       "version_major": 2,
       "version_minor": 0
      },
      "text/plain": [
       "chain 4 |          | 00:00 Status"
      ]
     },
     "metadata": {},
     "output_type": "display_data"
    },
    {
     "name": "stdout",
     "output_type": "stream",
     "text": [
      "                                                                                                                                                                                                                                                                                                                                "
     ]
    },
    {
     "name": "stderr",
     "output_type": "stream",
     "text": [
      "21:35:53 - cmdstanpy - INFO - CmdStan done processing.\n",
      "21:35:53 - cmdstanpy - WARNING - Non-fatal error during sampling:\n",
      "Exception: Exception: normal_lpdf: Random variable is nan, but must be not nan! (in 'real_data.stan', line 81, column 2 to column 53) (in 'real_data.stan', line 175, column 2 to line 180, column 4)\n",
      "\tException: Exception: normal_lpdf: Random variable is nan, but must be not nan! (in 'real_data.stan', line 81, column 2 to column 53) (in 'real_data.stan', line 175, column 2 to line 180, column 4)\n",
      "\tException: Exception: normal_lpdf: Random variable is nan, but must be not nan! (in 'real_data.stan', line 81, column 2 to column 53) (in 'real_data.stan', line 175, column 2 to line 180, column 4)\n",
      "\tException: Exception: normal_lpdf: Random variable is nan, but must be not nan! (in 'real_data.stan', line 81, column 2 to column 53) (in 'real_data.stan', line 175, column 2 to line 180, column 4)\n",
      "\tException: Exception: normal_lpdf: Random variable is nan, but must be not nan! (in 'real_data.stan', line 81, column 2 to column 53) (in 'real_data.stan', line 175, column 2 to line 180, column 4)\n",
      "Exception: Exception: normal_lpdf: Random variable is nan, but must be not nan! (in 'real_data.stan', line 81, column 2 to column 53) (in 'real_data.stan', line 175, column 2 to line 180, column 4)\n",
      "\tException: Exception: normal_lpdf: Random variable is nan, but must be not nan! (in 'real_data.stan', line 81, column 2 to column 53) (in 'real_data.stan', line 175, column 2 to line 180, column 4)\n",
      "\tException: Exception: normal_lpdf: Random variable is nan, but must be not nan! (in 'real_data.stan', line 81, column 2 to column 53) (in 'real_data.stan', line 175, column 2 to line 180, column 4)\n",
      "\tException: Exception: normal_lpdf: Random variable is nan, but must be not nan! (in 'real_data.stan', line 81, column 2 to column 53) (in 'real_data.stan', line 175, column 2 to line 180, column 4)\n",
      "\tException: Exception: normal_lpdf: Random variable is nan, but must be not nan! (in 'real_data.stan', line 81, column 2 to column 53) (in 'real_data.stan', line 175, column 2 to line 180, column 4)\n",
      "Exception: Exception: normal_lpdf: Random variable is nan, but must be not nan! (in 'real_data.stan', line 81, column 2 to column 53) (in 'real_data.stan', line 175, column 2 to line 180, column 4)\n",
      "\tException: Exception: normal_lpdf: Random variable is nan, but must be not nan! (in 'real_data.stan', line 81, column 2 to column 53) (in 'real_data.stan', line 175, column 2 to line 180, column 4)\n",
      "\tException: Exception: normal_lpdf: Random variable is nan, but must be not nan! (in 'real_data.stan', line 81, column 2 to column 53) (in 'real_data.stan', line 175, column 2 to line 180, column 4)\n",
      "\tException: Exception: normal_lpdf: Random variable is nan, but must be not nan! (in 'real_data.stan', line 81, column 2 to column 53) (in 'real_data.stan', line 175, column 2 to line 180, column 4)\n",
      "\tException: Exception: normal_lpdf: Random variable is nan, but must be not nan! (in 'real_data.stan', line 81, column 2 to column 53) (in 'real_data.stan', line 175, column 2 to line 180, column 4)\n",
      "\tException: Exception: normal_lpdf: Random variable is nan, but must be not nan! (in 'real_data.stan', line 81, column 2 to column 53) (in 'real_data.stan', line 175, column 2 to line 180, column 4)\n",
      "\tException: Exception: normal_lpdf: Random variable is nan, but must be not nan! (in 'real_data.stan', line 81, column 2 to column 53) (in 'real_data.stan', line 175, column 2 to line 180, column 4)\n",
      "Exception: Exception: normal_lpdf: Random variable is nan, but must be not nan! (in 'real_data.stan', line 81, column 2 to column 53) (in 'real_data.stan', line 175, column 2 to line 180, column 4)\n",
      "\tException: Exception: normal_lpdf: Random variable is nan, but must be not nan! (in 'real_data.stan', line 81, column 2 to column 53) (in 'real_data.stan', line 175, column 2 to line 180, column 4)\n",
      "\tException: Exception: normal_lpdf: Random variable is nan, but must be not nan! (in 'real_data.stan', line 81, column 2 to column 53) (in 'real_data.stan', line 175, column 2 to line 180, column 4)\n",
      "\tException: Exception: normal_lpdf: Random variable is nan, but must be not nan! (in 'real_data.stan', line 81, column 2 to column 53) (in 'real_data.stan', line 175, column 2 to line 180, column 4)\n",
      "\tException: Exception: normal_lpdf: Random variable is nan, but must be not nan! (in 'real_data.stan', line 81, column 2 to column 53) (in 'real_data.stan', line 175, column 2 to line 180, column 4)\n",
      "\tException: Exception: normal_lpdf: Random variable is nan, but must be not nan! (in 'real_data.stan', line 81, column 2 to column 53) (in 'real_data.stan', line 175, column 2 to line 180, column 4)\n",
      "\tException: Exception: normal_lpdf: Random variable is nan, but must be not nan! (in 'real_data.stan', line 81, column 2 to column 53) (in 'real_data.stan', line 175, column 2 to line 180, column 4)\n",
      "Consider re-running with show_console=True if the above output is unclear!\n"
     ]
    },
    {
     "name": "stdout",
     "output_type": "stream",
     "text": [
      "\n"
     ]
    },
    {
     "name": "stderr",
     "output_type": "stream",
     "text": [
      "21:35:56 - cmdstanpy - WARNING - Some chains may have failed to converge.\n",
      "\tChain 1 had 13 divergent transitions (0.7%)\n",
      "\tChain 2 had 13 divergent transitions (0.7%)\n",
      "\tChain 3 had 47 divergent transitions (2.4%)\n",
      "\tChain 4 had 13 divergent transitions (0.7%)\n",
      "\tUse the \"diagnose()\" method on the CmdStanMCMC object to see further information.\n",
      "21:36:11 - cmdstanpy - INFO - CmdStan start processing\n"
     ]
    },
    {
     "name": "stdout",
     "output_type": "stream",
     "text": [
      "contest_38128 end\n",
      "contest_2749 begin\n"
     ]
    },
    {
     "data": {
      "application/vnd.jupyter.widget-view+json": {
       "model_id": "ed79154691e849f5911e7ed8532ca0d0",
       "version_major": 2,
       "version_minor": 0
      },
      "text/plain": [
       "chain 1 |          | 00:00 Status"
      ]
     },
     "metadata": {},
     "output_type": "display_data"
    },
    {
     "data": {
      "application/vnd.jupyter.widget-view+json": {
       "model_id": "871dbc7a5aae4193a527f41a3b698c28",
       "version_major": 2,
       "version_minor": 0
      },
      "text/plain": [
       "chain 2 |          | 00:00 Status"
      ]
     },
     "metadata": {},
     "output_type": "display_data"
    },
    {
     "data": {
      "application/vnd.jupyter.widget-view+json": {
       "model_id": "23a4a6b020db48c799037287421cf084",
       "version_major": 2,
       "version_minor": 0
      },
      "text/plain": [
       "chain 3 |          | 00:00 Status"
      ]
     },
     "metadata": {},
     "output_type": "display_data"
    },
    {
     "data": {
      "application/vnd.jupyter.widget-view+json": {
       "model_id": "a3e3be3c382149c6bd473d6c806bd3eb",
       "version_major": 2,
       "version_minor": 0
      },
      "text/plain": [
       "chain 4 |          | 00:00 Status"
      ]
     },
     "metadata": {},
     "output_type": "display_data"
    },
    {
     "name": "stdout",
     "output_type": "stream",
     "text": [
      "                                                                                                                                                                                                                                                                                                                                "
     ]
    },
    {
     "name": "stderr",
     "output_type": "stream",
     "text": [
      "21:38:35 - cmdstanpy - INFO - CmdStan done processing.\n",
      "21:38:35 - cmdstanpy - WARNING - Non-fatal error during sampling:\n",
      "Exception: Exception: normal_lpdf: Random variable is nan, but must be not nan! (in 'real_data.stan', line 81, column 2 to column 53) (in 'real_data.stan', line 175, column 2 to line 180, column 4)\n",
      "\tException: Exception: normal_lpdf: Random variable is nan, but must be not nan! (in 'real_data.stan', line 81, column 2 to column 53) (in 'real_data.stan', line 175, column 2 to line 180, column 4)\n",
      "\tException: Exception: normal_lpdf: Random variable is nan, but must be not nan! (in 'real_data.stan', line 81, column 2 to column 53) (in 'real_data.stan', line 175, column 2 to line 180, column 4)\n",
      "\tException: Exception: normal_lpdf: Random variable is nan, but must be not nan! (in 'real_data.stan', line 81, column 2 to column 53) (in 'real_data.stan', line 175, column 2 to line 180, column 4)\n",
      "Exception: Exception: normal_lpdf: Random variable is nan, but must be not nan! (in 'real_data.stan', line 81, column 2 to column 53) (in 'real_data.stan', line 175, column 2 to line 180, column 4)\n",
      "\tException: Exception: normal_lpdf: Random variable is nan, but must be not nan! (in 'real_data.stan', line 81, column 2 to column 53) (in 'real_data.stan', line 175, column 2 to line 180, column 4)\n",
      "\tException: Exception: normal_lpdf: Random variable is nan, but must be not nan! (in 'real_data.stan', line 81, column 2 to column 53) (in 'real_data.stan', line 175, column 2 to line 180, column 4)\n",
      "Exception: Exception: normal_lpdf: Random variable is nan, but must be not nan! (in 'real_data.stan', line 81, column 2 to column 53) (in 'real_data.stan', line 175, column 2 to line 180, column 4)\n",
      "\tException: Exception: normal_lpdf: Random variable is nan, but must be not nan! (in 'real_data.stan', line 81, column 2 to column 53) (in 'real_data.stan', line 175, column 2 to line 180, column 4)\n",
      "\tException: Exception: normal_lpdf: Random variable is nan, but must be not nan! (in 'real_data.stan', line 81, column 2 to column 53) (in 'real_data.stan', line 175, column 2 to line 180, column 4)\n",
      "\tException: Exception: normal_lpdf: Random variable is nan, but must be not nan! (in 'real_data.stan', line 81, column 2 to column 53) (in 'real_data.stan', line 175, column 2 to line 180, column 4)\n",
      "\tException: Exception: normal_lpdf: Random variable is nan, but must be not nan! (in 'real_data.stan', line 81, column 2 to column 53) (in 'real_data.stan', line 175, column 2 to line 180, column 4)\n",
      "Exception: Exception: normal_lpdf: Random variable is nan, but must be not nan! (in 'real_data.stan', line 81, column 2 to column 53) (in 'real_data.stan', line 175, column 2 to line 180, column 4)\n",
      "\tException: Exception: normal_lpdf: Random variable is nan, but must be not nan! (in 'real_data.stan', line 81, column 2 to column 53) (in 'real_data.stan', line 175, column 2 to line 180, column 4)\n",
      "\tException: Exception: normal_lpdf: Random variable is nan, but must be not nan! (in 'real_data.stan', line 81, column 2 to column 53) (in 'real_data.stan', line 175, column 2 to line 180, column 4)\n",
      "Consider re-running with show_console=True if the above output is unclear!\n"
     ]
    },
    {
     "name": "stdout",
     "output_type": "stream",
     "text": [
      "\n"
     ]
    },
    {
     "name": "stderr",
     "output_type": "stream",
     "text": [
      "21:38:36 - cmdstanpy - WARNING - Some chains may have failed to converge.\n",
      "\tChain 1 had 6 divergent transitions (0.3%)\n",
      "\tChain 2 had 13 divergent transitions (0.7%)\n",
      "\tChain 3 had 6 divergent transitions (0.3%)\n",
      "\tChain 4 had 7 divergent transitions (0.4%)\n",
      "\tUse the \"diagnose()\" method on the CmdStanMCMC object to see further information.\n",
      "21:38:42 - cmdstanpy - INFO - CmdStan start processing\n"
     ]
    },
    {
     "name": "stdout",
     "output_type": "stream",
     "text": [
      "contest_2749 end\n",
      "contest_6927 begin\n"
     ]
    },
    {
     "data": {
      "application/vnd.jupyter.widget-view+json": {
       "model_id": "280859ff583f4869bcf8e80dcdd1361d",
       "version_major": 2,
       "version_minor": 0
      },
      "text/plain": [
       "chain 1 |          | 00:00 Status"
      ]
     },
     "metadata": {},
     "output_type": "display_data"
    },
    {
     "data": {
      "application/vnd.jupyter.widget-view+json": {
       "model_id": "8927a6fa11f141a7a9cf3448826f8c73",
       "version_major": 2,
       "version_minor": 0
      },
      "text/plain": [
       "chain 2 |          | 00:00 Status"
      ]
     },
     "metadata": {},
     "output_type": "display_data"
    },
    {
     "data": {
      "application/vnd.jupyter.widget-view+json": {
       "model_id": "ba0d424aafac4371957a070e62ebced6",
       "version_major": 2,
       "version_minor": 0
      },
      "text/plain": [
       "chain 3 |          | 00:00 Status"
      ]
     },
     "metadata": {},
     "output_type": "display_data"
    },
    {
     "data": {
      "application/vnd.jupyter.widget-view+json": {
       "model_id": "b61e537dc328436497e5e2c5bbeb6e0a",
       "version_major": 2,
       "version_minor": 0
      },
      "text/plain": [
       "chain 4 |          | 00:00 Status"
      ]
     },
     "metadata": {},
     "output_type": "display_data"
    },
    {
     "name": "stdout",
     "output_type": "stream",
     "text": [
      "                                                                                                                                                                                                                                                                                                                                "
     ]
    },
    {
     "name": "stderr",
     "output_type": "stream",
     "text": [
      "21:39:35 - cmdstanpy - INFO - CmdStan done processing.\n",
      "21:39:35 - cmdstanpy - WARNING - Non-fatal error during sampling:\n",
      "Exception: Exception: normal_lpdf: Random variable is nan, but must be not nan! (in 'real_data.stan', line 81, column 2 to column 53) (in 'real_data.stan', line 175, column 2 to line 180, column 4)\n",
      "\tException: Exception: normal_lpdf: Random variable is nan, but must be not nan! (in 'real_data.stan', line 81, column 2 to column 53) (in 'real_data.stan', line 175, column 2 to line 180, column 4)\n",
      "\tException: Exception: normal_lpdf: Random variable is nan, but must be not nan! (in 'real_data.stan', line 81, column 2 to column 53) (in 'real_data.stan', line 175, column 2 to line 180, column 4)\n",
      "Exception: Exception: normal_lpdf: Random variable is nan, but must be not nan! (in 'real_data.stan', line 81, column 2 to column 53) (in 'real_data.stan', line 175, column 2 to line 180, column 4)\n",
      "\tException: Exception: normal_lpdf: Random variable is nan, but must be not nan! (in 'real_data.stan', line 81, column 2 to column 53) (in 'real_data.stan', line 175, column 2 to line 180, column 4)\n",
      "Exception: Exception: normal_lpdf: Random variable is nan, but must be not nan! (in 'real_data.stan', line 81, column 2 to column 53) (in 'real_data.stan', line 175, column 2 to line 180, column 4)\n",
      "\tException: Exception: normal_lpdf: Random variable is nan, but must be not nan! (in 'real_data.stan', line 81, column 2 to column 53) (in 'real_data.stan', line 175, column 2 to line 180, column 4)\n",
      "\tException: Exception: normal_lpdf: Random variable is nan, but must be not nan! (in 'real_data.stan', line 81, column 2 to column 53) (in 'real_data.stan', line 175, column 2 to line 180, column 4)\n",
      "\tException: Exception: normal_lpdf: Random variable is nan, but must be not nan! (in 'real_data.stan', line 81, column 2 to column 53) (in 'real_data.stan', line 175, column 2 to line 180, column 4)\n",
      "Exception: Exception: normal_lpdf: Random variable is nan, but must be not nan! (in 'real_data.stan', line 81, column 2 to column 53) (in 'real_data.stan', line 175, column 2 to line 180, column 4)\n",
      "\tException: Exception: normal_lpdf: Random variable is nan, but must be not nan! (in 'real_data.stan', line 81, column 2 to column 53) (in 'real_data.stan', line 175, column 2 to line 180, column 4)\n",
      "\tException: Exception: normal_lpdf: Random variable is nan, but must be not nan! (in 'real_data.stan', line 81, column 2 to column 53) (in 'real_data.stan', line 175, column 2 to line 180, column 4)\n",
      "Consider re-running with show_console=True if the above output is unclear!\n"
     ]
    },
    {
     "name": "stdout",
     "output_type": "stream",
     "text": [
      "\n"
     ]
    },
    {
     "name": "stderr",
     "output_type": "stream",
     "text": [
      "21:39:36 - cmdstanpy - WARNING - Some chains may have failed to converge.\n",
      "\tChain 1 had 1 divergent transitions (0.1%)\n",
      "\tChain 2 had 2 divergent transitions (0.1%)\n",
      "\tChain 3 had 7 divergent transitions (0.4%)\n",
      "\tChain 4 had 8 divergent transitions (0.4%)\n",
      "\tUse the \"diagnose()\" method on the CmdStanMCMC object to see further information.\n",
      "21:39:40 - cmdstanpy - INFO - CmdStan start processing\n"
     ]
    },
    {
     "name": "stdout",
     "output_type": "stream",
     "text": [
      "contest_6927 end\n",
      "contest_2860 begin\n"
     ]
    },
    {
     "data": {
      "application/vnd.jupyter.widget-view+json": {
       "model_id": "8f0f5154085349c093e236828d07971a",
       "version_major": 2,
       "version_minor": 0
      },
      "text/plain": [
       "chain 1 |          | 00:00 Status"
      ]
     },
     "metadata": {},
     "output_type": "display_data"
    },
    {
     "data": {
      "application/vnd.jupyter.widget-view+json": {
       "model_id": "2ae299aaa60a45e684d6153c9abff57c",
       "version_major": 2,
       "version_minor": 0
      },
      "text/plain": [
       "chain 2 |          | 00:00 Status"
      ]
     },
     "metadata": {},
     "output_type": "display_data"
    },
    {
     "data": {
      "application/vnd.jupyter.widget-view+json": {
       "model_id": "f99fe1ea571c4354971e9f2dba4d95e4",
       "version_major": 2,
       "version_minor": 0
      },
      "text/plain": [
       "chain 3 |          | 00:00 Status"
      ]
     },
     "metadata": {},
     "output_type": "display_data"
    },
    {
     "data": {
      "application/vnd.jupyter.widget-view+json": {
       "model_id": "ac1f20546b2740019cb466b251bbb68b",
       "version_major": 2,
       "version_minor": 0
      },
      "text/plain": [
       "chain 4 |          | 00:00 Status"
      ]
     },
     "metadata": {},
     "output_type": "display_data"
    },
    {
     "name": "stdout",
     "output_type": "stream",
     "text": [
      "                                                                                                                                                                                                                                                                                                                                "
     ]
    },
    {
     "name": "stderr",
     "output_type": "stream",
     "text": [
      "21:40:08 - cmdstanpy - INFO - CmdStan done processing.\n",
      "21:40:08 - cmdstanpy - WARNING - Non-fatal error during sampling:\n",
      "Exception: Exception: normal_lpdf: Random variable is nan, but must be not nan! (in 'real_data.stan', line 81, column 2 to column 53) (in 'real_data.stan', line 175, column 2 to line 180, column 4)\n",
      "\tException: Exception: normal_lpdf: Random variable is nan, but must be not nan! (in 'real_data.stan', line 81, column 2 to column 53) (in 'real_data.stan', line 175, column 2 to line 180, column 4)\n",
      "Exception: Exception: normal_lpdf: Random variable is nan, but must be not nan! (in 'real_data.stan', line 81, column 2 to column 53) (in 'real_data.stan', line 175, column 2 to line 180, column 4)\n",
      "Exception: Exception: normal_lpdf: Random variable is nan, but must be not nan! (in 'real_data.stan', line 81, column 2 to column 53) (in 'real_data.stan', line 175, column 2 to line 180, column 4)\n",
      "\tException: Exception: normal_lpdf: Random variable is nan, but must be not nan! (in 'real_data.stan', line 81, column 2 to column 53) (in 'real_data.stan', line 175, column 2 to line 180, column 4)\n",
      "\tException: Exception: normal_lpdf: Random variable is nan, but must be not nan! (in 'real_data.stan', line 81, column 2 to column 53) (in 'real_data.stan', line 175, column 2 to line 180, column 4)\n",
      "Exception: Exception: normal_lpdf: Random variable is nan, but must be not nan! (in 'real_data.stan', line 81, column 2 to column 53) (in 'real_data.stan', line 175, column 2 to line 180, column 4)\n",
      "\tException: Exception: normal_lpdf: Random variable is nan, but must be not nan! (in 'real_data.stan', line 81, column 2 to column 53) (in 'real_data.stan', line 175, column 2 to line 180, column 4)\n",
      "Consider re-running with show_console=True if the above output is unclear!\n"
     ]
    },
    {
     "name": "stdout",
     "output_type": "stream",
     "text": [
      "\n"
     ]
    },
    {
     "name": "stderr",
     "output_type": "stream",
     "text": [
      "21:40:11 - cmdstanpy - INFO - CmdStan start processing\n"
     ]
    },
    {
     "name": "stdout",
     "output_type": "stream",
     "text": [
      "contest_2860 end\n",
      "contest_3288 begin\n"
     ]
    },
    {
     "data": {
      "application/vnd.jupyter.widget-view+json": {
       "model_id": "07b9db89e7864593b3f47042e8c78087",
       "version_major": 2,
       "version_minor": 0
      },
      "text/plain": [
       "chain 1 |          | 00:00 Status"
      ]
     },
     "metadata": {},
     "output_type": "display_data"
    },
    {
     "data": {
      "application/vnd.jupyter.widget-view+json": {
       "model_id": "ae0a13a877ac457d90bd2aa726436c3e",
       "version_major": 2,
       "version_minor": 0
      },
      "text/plain": [
       "chain 2 |          | 00:00 Status"
      ]
     },
     "metadata": {},
     "output_type": "display_data"
    },
    {
     "data": {
      "application/vnd.jupyter.widget-view+json": {
       "model_id": "9345c0a6210240d3b6ad9216701b70d8",
       "version_major": 2,
       "version_minor": 0
      },
      "text/plain": [
       "chain 3 |          | 00:00 Status"
      ]
     },
     "metadata": {},
     "output_type": "display_data"
    },
    {
     "data": {
      "application/vnd.jupyter.widget-view+json": {
       "model_id": "ec582d9561e64140b6abe4e599dfa4c9",
       "version_major": 2,
       "version_minor": 0
      },
      "text/plain": [
       "chain 4 |          | 00:00 Status"
      ]
     },
     "metadata": {},
     "output_type": "display_data"
    },
    {
     "name": "stdout",
     "output_type": "stream",
     "text": [
      "                                                                                                                                                                                                                                                                                                                                "
     ]
    },
    {
     "name": "stderr",
     "output_type": "stream",
     "text": [
      "21:40:57 - cmdstanpy - INFO - CmdStan done processing.\n",
      "21:40:57 - cmdstanpy - WARNING - Non-fatal error during sampling:\n",
      "Exception: Exception: normal_lpdf: Random variable is nan, but must be not nan! (in 'real_data.stan', line 81, column 2 to column 53) (in 'real_data.stan', line 175, column 2 to line 180, column 4)\n",
      "\tException: Exception: normal_lpdf: Random variable is nan, but must be not nan! (in 'real_data.stan', line 81, column 2 to column 53) (in 'real_data.stan', line 175, column 2 to line 180, column 4)\n",
      "\tException: Exception: normal_lpdf: Random variable is nan, but must be not nan! (in 'real_data.stan', line 81, column 2 to column 53) (in 'real_data.stan', line 175, column 2 to line 180, column 4)\n",
      "Exception: Exception: normal_lpdf: Random variable is nan, but must be not nan! (in 'real_data.stan', line 81, column 2 to column 53) (in 'real_data.stan', line 175, column 2 to line 180, column 4)\n",
      "\tException: Exception: normal_lpdf: Random variable is nan, but must be not nan! (in 'real_data.stan', line 81, column 2 to column 53) (in 'real_data.stan', line 175, column 2 to line 180, column 4)\n",
      "\tException: Exception: normal_lpdf: Random variable is nan, but must be not nan! (in 'real_data.stan', line 81, column 2 to column 53) (in 'real_data.stan', line 175, column 2 to line 180, column 4)\n",
      "\tException: Exception: normal_lpdf: Random variable is nan, but must be not nan! (in 'real_data.stan', line 81, column 2 to column 53) (in 'real_data.stan', line 175, column 2 to line 180, column 4)\n",
      "\tException: Exception: normal_lpdf: Random variable is nan, but must be not nan! (in 'real_data.stan', line 81, column 2 to column 53) (in 'real_data.stan', line 175, column 2 to line 180, column 4)\n",
      "Exception: Exception: normal_lpdf: Random variable is nan, but must be not nan! (in 'real_data.stan', line 81, column 2 to column 53) (in 'real_data.stan', line 175, column 2 to line 180, column 4)\n",
      "\tException: Exception: normal_lpdf: Random variable is nan, but must be not nan! (in 'real_data.stan', line 81, column 2 to column 53) (in 'real_data.stan', line 175, column 2 to line 180, column 4)\n",
      "\tException: Exception: normal_lpdf: Random variable is nan, but must be not nan! (in 'real_data.stan', line 81, column 2 to column 53) (in 'real_data.stan', line 175, column 2 to line 180, column 4)\n",
      "\tException: Exception: normal_lpdf: Random variable is nan, but must be not nan! (in 'real_data.stan', line 81, column 2 to column 53) (in 'real_data.stan', line 175, column 2 to line 180, column 4)\n",
      "\tException: Exception: normal_lpdf: Random variable is nan, but must be not nan! (in 'real_data.stan', line 81, column 2 to column 53) (in 'real_data.stan', line 175, column 2 to line 180, column 4)\n",
      "\tException: Exception: normal_lpdf: Random variable is nan, but must be not nan! (in 'real_data.stan', line 81, column 2 to column 53) (in 'real_data.stan', line 175, column 2 to line 180, column 4)\n",
      "Exception: Exception: normal_lpdf: Random variable is nan, but must be not nan! (in 'real_data.stan', line 81, column 2 to column 53) (in 'real_data.stan', line 175, column 2 to line 180, column 4)\n",
      "\tException: Exception: normal_lpdf: Random variable is nan, but must be not nan! (in 'real_data.stan', line 81, column 2 to column 53) (in 'real_data.stan', line 175, column 2 to line 180, column 4)\n",
      "\tException: Exception: normal_lpdf: Random variable is nan, but must be not nan! (in 'real_data.stan', line 81, column 2 to column 53) (in 'real_data.stan', line 175, column 2 to line 180, column 4)\n",
      "Consider re-running with show_console=True if the above output is unclear!\n"
     ]
    },
    {
     "name": "stdout",
     "output_type": "stream",
     "text": [
      "\n"
     ]
    },
    {
     "name": "stderr",
     "output_type": "stream",
     "text": [
      "21:41:02 - cmdstanpy - INFO - CmdStan start processing\n"
     ]
    },
    {
     "name": "stdout",
     "output_type": "stream",
     "text": [
      "contest_3288 end\n",
      "contest_3928 begin\n"
     ]
    },
    {
     "data": {
      "application/vnd.jupyter.widget-view+json": {
       "model_id": "7076aa233809434d934704aade7fa7ae",
       "version_major": 2,
       "version_minor": 0
      },
      "text/plain": [
       "chain 1 |          | 00:00 Status"
      ]
     },
     "metadata": {},
     "output_type": "display_data"
    },
    {
     "data": {
      "application/vnd.jupyter.widget-view+json": {
       "model_id": "5579e6596c054d6ba5dc9c8c6519e399",
       "version_major": 2,
       "version_minor": 0
      },
      "text/plain": [
       "chain 2 |          | 00:00 Status"
      ]
     },
     "metadata": {},
     "output_type": "display_data"
    },
    {
     "data": {
      "application/vnd.jupyter.widget-view+json": {
       "model_id": "0910557848f14b1daf423ca18c4e8e4f",
       "version_major": 2,
       "version_minor": 0
      },
      "text/plain": [
       "chain 3 |          | 00:00 Status"
      ]
     },
     "metadata": {},
     "output_type": "display_data"
    },
    {
     "data": {
      "application/vnd.jupyter.widget-view+json": {
       "model_id": "50590928cca541d1a8c878303c14d21e",
       "version_major": 2,
       "version_minor": 0
      },
      "text/plain": [
       "chain 4 |          | 00:00 Status"
      ]
     },
     "metadata": {},
     "output_type": "display_data"
    },
    {
     "name": "stdout",
     "output_type": "stream",
     "text": [
      "                                                                                                                                                                                                                                                                                                                                "
     ]
    },
    {
     "name": "stderr",
     "output_type": "stream",
     "text": [
      "21:41:54 - cmdstanpy - INFO - CmdStan done processing.\n",
      "21:41:54 - cmdstanpy - WARNING - Non-fatal error during sampling:\n",
      "Exception: Exception: normal_lpdf: Random variable is nan, but must be not nan! (in 'real_data.stan', line 81, column 2 to column 53) (in 'real_data.stan', line 175, column 2 to line 180, column 4)\n",
      "\tException: Exception: normal_lpdf: Random variable is nan, but must be not nan! (in 'real_data.stan', line 81, column 2 to column 53) (in 'real_data.stan', line 175, column 2 to line 180, column 4)\n",
      "Exception: Exception: normal_lpdf: Random variable is nan, but must be not nan! (in 'real_data.stan', line 81, column 2 to column 53) (in 'real_data.stan', line 175, column 2 to line 180, column 4)\n",
      "\tException: Exception: normal_lpdf: Random variable is nan, but must be not nan! (in 'real_data.stan', line 81, column 2 to column 53) (in 'real_data.stan', line 175, column 2 to line 180, column 4)\n",
      "\tException: Exception: normal_lpdf: Random variable is nan, but must be not nan! (in 'real_data.stan', line 81, column 2 to column 53) (in 'real_data.stan', line 175, column 2 to line 180, column 4)\n",
      "Exception: Exception: normal_lpdf: Random variable is nan, but must be not nan! (in 'real_data.stan', line 81, column 2 to column 53) (in 'real_data.stan', line 175, column 2 to line 180, column 4)\n",
      "\tException: Exception: normal_lpdf: Random variable is nan, but must be not nan! (in 'real_data.stan', line 81, column 2 to column 53) (in 'real_data.stan', line 175, column 2 to line 180, column 4)\n",
      "Consider re-running with show_console=True if the above output is unclear!\n"
     ]
    },
    {
     "name": "stdout",
     "output_type": "stream",
     "text": [
      "\n"
     ]
    },
    {
     "name": "stderr",
     "output_type": "stream",
     "text": [
      "21:41:59 - cmdstanpy - INFO - CmdStan start processing\n"
     ]
    },
    {
     "name": "stdout",
     "output_type": "stream",
     "text": [
      "contest_3928 end\n",
      "contest_3338 begin\n"
     ]
    },
    {
     "data": {
      "application/vnd.jupyter.widget-view+json": {
       "model_id": "7a56b143c211414992f35ec053401909",
       "version_major": 2,
       "version_minor": 0
      },
      "text/plain": [
       "chain 1 |          | 00:00 Status"
      ]
     },
     "metadata": {},
     "output_type": "display_data"
    },
    {
     "data": {
      "application/vnd.jupyter.widget-view+json": {
       "model_id": "e19f526356924cb5bf75d91b6687fa2e",
       "version_major": 2,
       "version_minor": 0
      },
      "text/plain": [
       "chain 2 |          | 00:00 Status"
      ]
     },
     "metadata": {},
     "output_type": "display_data"
    },
    {
     "data": {
      "application/vnd.jupyter.widget-view+json": {
       "model_id": "5dda00a7362b4604a03296a0e855a37c",
       "version_major": 2,
       "version_minor": 0
      },
      "text/plain": [
       "chain 3 |          | 00:00 Status"
      ]
     },
     "metadata": {},
     "output_type": "display_data"
    },
    {
     "data": {
      "application/vnd.jupyter.widget-view+json": {
       "model_id": "3884991bdfbf465182adf17e63ebbf72",
       "version_major": 2,
       "version_minor": 0
      },
      "text/plain": [
       "chain 4 |          | 00:00 Status"
      ]
     },
     "metadata": {},
     "output_type": "display_data"
    },
    {
     "name": "stdout",
     "output_type": "stream",
     "text": [
      "                                                                                                                                                                                                                                                                                                                                "
     ]
    },
    {
     "name": "stderr",
     "output_type": "stream",
     "text": [
      "21:45:54 - cmdstanpy - INFO - CmdStan done processing.\n",
      "21:45:54 - cmdstanpy - WARNING - Non-fatal error during sampling:\n",
      "Exception: Exception: normal_lpdf: Random variable is nan, but must be not nan! (in 'real_data.stan', line 81, column 2 to column 53) (in 'real_data.stan', line 175, column 2 to line 180, column 4)\n",
      "\tException: Exception: normal_lpdf: Random variable is nan, but must be not nan! (in 'real_data.stan', line 81, column 2 to column 53) (in 'real_data.stan', line 175, column 2 to line 180, column 4)\n",
      "Exception: Exception: normal_lpdf: Random variable is nan, but must be not nan! (in 'real_data.stan', line 81, column 2 to column 53) (in 'real_data.stan', line 175, column 2 to line 180, column 4)\n",
      "\tException: Exception: normal_lpdf: Random variable is nan, but must be not nan! (in 'real_data.stan', line 81, column 2 to column 53) (in 'real_data.stan', line 175, column 2 to line 180, column 4)\n",
      "Exception: Exception: normal_lpdf: Random variable is nan, but must be not nan! (in 'real_data.stan', line 81, column 2 to column 53) (in 'real_data.stan', line 175, column 2 to line 180, column 4)\n",
      "\tException: Exception: normal_lpdf: Random variable is nan, but must be not nan! (in 'real_data.stan', line 81, column 2 to column 53) (in 'real_data.stan', line 175, column 2 to line 180, column 4)\n",
      "\tException: Exception: normal_lpdf: Random variable is nan, but must be not nan! (in 'real_data.stan', line 81, column 2 to column 53) (in 'real_data.stan', line 175, column 2 to line 180, column 4)\n",
      "\tException: Exception: normal_lpdf: Random variable is nan, but must be not nan! (in 'real_data.stan', line 81, column 2 to column 53) (in 'real_data.stan', line 175, column 2 to line 180, column 4)\n",
      "Exception: Exception: normal_lpdf: Random variable is nan, but must be not nan! (in 'real_data.stan', line 81, column 2 to column 53) (in 'real_data.stan', line 175, column 2 to line 180, column 4)\n",
      "\tException: Exception: normal_lpdf: Random variable is nan, but must be not nan! (in 'real_data.stan', line 81, column 2 to column 53) (in 'real_data.stan', line 175, column 2 to line 180, column 4)\n",
      "Consider re-running with show_console=True if the above output is unclear!\n"
     ]
    },
    {
     "name": "stdout",
     "output_type": "stream",
     "text": [
      "\n"
     ]
    },
    {
     "name": "stderr",
     "output_type": "stream",
     "text": [
      "21:45:55 - cmdstanpy - WARNING - Some chains may have failed to converge.\n",
      "\tChain 1 had 20 divergent transitions (1.0%)\n",
      "\tChain 2 had 16 divergent transitions (0.8%)\n",
      "\tChain 3 had 30 divergent transitions (1.5%)\n",
      "\tChain 4 had 23 divergent transitions (1.1%)\n",
      "\tUse the \"diagnose()\" method on the CmdStanMCMC object to see further information.\n",
      "21:46:02 - cmdstanpy - INFO - CmdStan start processing\n"
     ]
    },
    {
     "name": "stdout",
     "output_type": "stream",
     "text": [
      "contest_3338 end\n",
      "contest_3800 begin\n"
     ]
    },
    {
     "data": {
      "application/vnd.jupyter.widget-view+json": {
       "model_id": "318c805ddb95456784b4cf44f9edb045",
       "version_major": 2,
       "version_minor": 0
      },
      "text/plain": [
       "chain 1 |          | 00:00 Status"
      ]
     },
     "metadata": {},
     "output_type": "display_data"
    },
    {
     "data": {
      "application/vnd.jupyter.widget-view+json": {
       "model_id": "657eeff88d714c13af44936449613f32",
       "version_major": 2,
       "version_minor": 0
      },
      "text/plain": [
       "chain 2 |          | 00:00 Status"
      ]
     },
     "metadata": {},
     "output_type": "display_data"
    },
    {
     "data": {
      "application/vnd.jupyter.widget-view+json": {
       "model_id": "45ef8d9288884dc09e76897cb0863c8c",
       "version_major": 2,
       "version_minor": 0
      },
      "text/plain": [
       "chain 3 |          | 00:00 Status"
      ]
     },
     "metadata": {},
     "output_type": "display_data"
    },
    {
     "data": {
      "application/vnd.jupyter.widget-view+json": {
       "model_id": "bd1654b45806400faa8cd6fc2fc348d9",
       "version_major": 2,
       "version_minor": 0
      },
      "text/plain": [
       "chain 4 |          | 00:00 Status"
      ]
     },
     "metadata": {},
     "output_type": "display_data"
    },
    {
     "name": "stdout",
     "output_type": "stream",
     "text": [
      "                                                                                                                                                                                                                                                                                                                                "
     ]
    },
    {
     "name": "stderr",
     "output_type": "stream",
     "text": [
      "21:47:04 - cmdstanpy - INFO - CmdStan done processing.\n",
      "21:47:04 - cmdstanpy - WARNING - Non-fatal error during sampling:\n",
      "Exception: Exception: normal_lpdf: Random variable is nan, but must be not nan! (in 'real_data.stan', line 81, column 2 to column 53) (in 'real_data.stan', line 175, column 2 to line 180, column 4)\n",
      "\tException: Exception: normal_lpdf: Random variable is nan, but must be not nan! (in 'real_data.stan', line 81, column 2 to column 53) (in 'real_data.stan', line 175, column 2 to line 180, column 4)\n",
      "\tException: Exception: normal_lpdf: Random variable is nan, but must be not nan! (in 'real_data.stan', line 81, column 2 to column 53) (in 'real_data.stan', line 175, column 2 to line 180, column 4)\n",
      "\tException: Exception: normal_lpdf: Random variable is nan, but must be not nan! (in 'real_data.stan', line 81, column 2 to column 53) (in 'real_data.stan', line 175, column 2 to line 180, column 4)\n",
      "Exception: Exception: normal_lpdf: Random variable is nan, but must be not nan! (in 'real_data.stan', line 81, column 2 to column 53) (in 'real_data.stan', line 175, column 2 to line 180, column 4)\n",
      "Exception: Exception: normal_lpdf: Random variable is nan, but must be not nan! (in 'real_data.stan', line 81, column 2 to column 53) (in 'real_data.stan', line 175, column 2 to line 180, column 4)\n",
      "\tException: Exception: normal_lpdf: Random variable is nan, but must be not nan! (in 'real_data.stan', line 81, column 2 to column 53) (in 'real_data.stan', line 175, column 2 to line 180, column 4)\n",
      "\tException: Exception: normal_lpdf: Random variable is nan, but must be not nan! (in 'real_data.stan', line 81, column 2 to column 53) (in 'real_data.stan', line 175, column 2 to line 180, column 4)\n",
      "\tException: Exception: normal_lpdf: Random variable is nan, but must be not nan! (in 'real_data.stan', line 81, column 2 to column 53) (in 'real_data.stan', line 175, column 2 to line 180, column 4)\n",
      "Exception: Exception: normal_lpdf: Random variable is nan, but must be not nan! (in 'real_data.stan', line 81, column 2 to column 53) (in 'real_data.stan', line 175, column 2 to line 180, column 4)\n",
      "\tException: Exception: normal_lpdf: Random variable is nan, but must be not nan! (in 'real_data.stan', line 81, column 2 to column 53) (in 'real_data.stan', line 175, column 2 to line 180, column 4)\n",
      "\tException: Exception: normal_lpdf: Random variable is nan, but must be not nan! (in 'real_data.stan', line 81, column 2 to column 53) (in 'real_data.stan', line 175, column 2 to line 180, column 4)\n",
      "\tException: Exception: normal_lpdf: Random variable is nan, but must be not nan! (in 'real_data.stan', line 81, column 2 to column 53) (in 'real_data.stan', line 175, column 2 to line 180, column 4)\n",
      "Consider re-running with show_console=True if the above output is unclear!\n"
     ]
    },
    {
     "name": "stdout",
     "output_type": "stream",
     "text": [
      "\n"
     ]
    },
    {
     "name": "stderr",
     "output_type": "stream",
     "text": [
      "21:47:11 - cmdstanpy - INFO - CmdStan start processing\n"
     ]
    },
    {
     "name": "stdout",
     "output_type": "stream",
     "text": [
      "contest_3800 end\n",
      "contest_4453 begin\n"
     ]
    },
    {
     "data": {
      "application/vnd.jupyter.widget-view+json": {
       "model_id": "c43daad34cfd4267b4fac0de4966b1d1",
       "version_major": 2,
       "version_minor": 0
      },
      "text/plain": [
       "chain 1 |          | 00:00 Status"
      ]
     },
     "metadata": {},
     "output_type": "display_data"
    },
    {
     "data": {
      "application/vnd.jupyter.widget-view+json": {
       "model_id": "3a880e01c0f24119998200aa0d899a81",
       "version_major": 2,
       "version_minor": 0
      },
      "text/plain": [
       "chain 2 |          | 00:00 Status"
      ]
     },
     "metadata": {},
     "output_type": "display_data"
    },
    {
     "data": {
      "application/vnd.jupyter.widget-view+json": {
       "model_id": "67a0faf1858d422e9bb8c84451f6740b",
       "version_major": 2,
       "version_minor": 0
      },
      "text/plain": [
       "chain 3 |          | 00:00 Status"
      ]
     },
     "metadata": {},
     "output_type": "display_data"
    },
    {
     "data": {
      "application/vnd.jupyter.widget-view+json": {
       "model_id": "ee69035fbbac48d697c6ad64dd9a8d6d",
       "version_major": 2,
       "version_minor": 0
      },
      "text/plain": [
       "chain 4 |          | 00:00 Status"
      ]
     },
     "metadata": {},
     "output_type": "display_data"
    },
    {
     "name": "stdout",
     "output_type": "stream",
     "text": [
      "                                                                                                                                                                                                                                                                                                                                "
     ]
    },
    {
     "name": "stderr",
     "output_type": "stream",
     "text": [
      "21:50:52 - cmdstanpy - INFO - CmdStan done processing.\n",
      "21:50:52 - cmdstanpy - WARNING - Non-fatal error during sampling:\n",
      "Exception: Exception: normal_lpdf: Random variable is nan, but must be not nan! (in 'real_data.stan', line 81, column 2 to column 53) (in 'real_data.stan', line 175, column 2 to line 180, column 4)\n",
      "\tException: Exception: normal_lpdf: Random variable is nan, but must be not nan! (in 'real_data.stan', line 81, column 2 to column 53) (in 'real_data.stan', line 175, column 2 to line 180, column 4)\n",
      "\tException: Exception: normal_lpdf: Random variable is nan, but must be not nan! (in 'real_data.stan', line 81, column 2 to column 53) (in 'real_data.stan', line 175, column 2 to line 180, column 4)\n",
      "Exception: Exception: normal_lpdf: Random variable is nan, but must be not nan! (in 'real_data.stan', line 81, column 2 to column 53) (in 'real_data.stan', line 175, column 2 to line 180, column 4)\n",
      "\tException: Exception: normal_lpdf: Random variable is nan, but must be not nan! (in 'real_data.stan', line 81, column 2 to column 53) (in 'real_data.stan', line 175, column 2 to line 180, column 4)\n",
      "Exception: Exception: normal_lpdf: Random variable is nan, but must be not nan! (in 'real_data.stan', line 81, column 2 to column 53) (in 'real_data.stan', line 175, column 2 to line 180, column 4)\n",
      "\tException: Exception: normal_lpdf: Random variable is nan, but must be not nan! (in 'real_data.stan', line 81, column 2 to column 53) (in 'real_data.stan', line 175, column 2 to line 180, column 4)\n",
      "\tException: Exception: normal_lpdf: Random variable is nan, but must be not nan! (in 'real_data.stan', line 81, column 2 to column 53) (in 'real_data.stan', line 175, column 2 to line 180, column 4)\n",
      "\tException: Exception: normal_lpdf: Random variable is nan, but must be not nan! (in 'real_data.stan', line 81, column 2 to column 53) (in 'real_data.stan', line 175, column 2 to line 180, column 4)\n",
      "\tException: Exception: normal_lpdf: Random variable is nan, but must be not nan! (in 'real_data.stan', line 81, column 2 to column 53) (in 'real_data.stan', line 175, column 2 to line 180, column 4)\n",
      "Exception: Exception: normal_lpdf: Random variable is nan, but must be not nan! (in 'real_data.stan', line 81, column 2 to column 53) (in 'real_data.stan', line 175, column 2 to line 180, column 4)\n",
      "\tException: Exception: normal_lpdf: Random variable is nan, but must be not nan! (in 'real_data.stan', line 81, column 2 to column 53) (in 'real_data.stan', line 175, column 2 to line 180, column 4)\n",
      "\tException: Exception: normal_lpdf: Random variable is nan, but must be not nan! (in 'real_data.stan', line 81, column 2 to column 53) (in 'real_data.stan', line 175, column 2 to line 180, column 4)\n",
      "Consider re-running with show_console=True if the above output is unclear!\n"
     ]
    },
    {
     "name": "stdout",
     "output_type": "stream",
     "text": [
      "\n"
     ]
    },
    {
     "name": "stderr",
     "output_type": "stream",
     "text": [
      "21:50:54 - cmdstanpy - WARNING - Some chains may have failed to converge.\n",
      "\tChain 1 had 5 divergent transitions (0.2%)\n",
      "\tChain 2 had 7 divergent transitions (0.4%)\n",
      "\tChain 3 had 5 divergent transitions (0.2%)\n",
      "\tChain 4 had 4 divergent transitions (0.2%)\n",
      "\tUse the \"diagnose()\" method on the CmdStanMCMC object to see further information.\n",
      "21:51:03 - cmdstanpy - INFO - CmdStan start processing\n"
     ]
    },
    {
     "name": "stdout",
     "output_type": "stream",
     "text": [
      "contest_4453 end\n",
      "contest_5144 begin\n"
     ]
    },
    {
     "data": {
      "application/vnd.jupyter.widget-view+json": {
       "model_id": "4ebc74835fb041779e1533abcdf76cd8",
       "version_major": 2,
       "version_minor": 0
      },
      "text/plain": [
       "chain 1 |          | 00:00 Status"
      ]
     },
     "metadata": {},
     "output_type": "display_data"
    },
    {
     "data": {
      "application/vnd.jupyter.widget-view+json": {
       "model_id": "e246c4b2cb844dd9ba118824be837adf",
       "version_major": 2,
       "version_minor": 0
      },
      "text/plain": [
       "chain 2 |          | 00:00 Status"
      ]
     },
     "metadata": {},
     "output_type": "display_data"
    },
    {
     "data": {
      "application/vnd.jupyter.widget-view+json": {
       "model_id": "c4b366edf9f34be59a48cfc0b337299d",
       "version_major": 2,
       "version_minor": 0
      },
      "text/plain": [
       "chain 3 |          | 00:00 Status"
      ]
     },
     "metadata": {},
     "output_type": "display_data"
    },
    {
     "data": {
      "application/vnd.jupyter.widget-view+json": {
       "model_id": "0652088470314a869e07fa66d980e6dd",
       "version_major": 2,
       "version_minor": 0
      },
      "text/plain": [
       "chain 4 |          | 00:00 Status"
      ]
     },
     "metadata": {},
     "output_type": "display_data"
    },
    {
     "name": "stdout",
     "output_type": "stream",
     "text": [
      "                                                                                                                                                                                                                                                                                                                                "
     ]
    },
    {
     "name": "stderr",
     "output_type": "stream",
     "text": [
      "21:51:55 - cmdstanpy - INFO - CmdStan done processing.\n",
      "21:51:55 - cmdstanpy - WARNING - Non-fatal error during sampling:\n",
      "Exception: Exception: normal_lpdf: Random variable is nan, but must be not nan! (in 'real_data.stan', line 81, column 2 to column 53) (in 'real_data.stan', line 175, column 2 to line 180, column 4)\n",
      "\tException: Exception: normal_lpdf: Random variable is nan, but must be not nan! (in 'real_data.stan', line 81, column 2 to column 53) (in 'real_data.stan', line 175, column 2 to line 180, column 4)\n",
      "\tException: Exception: normal_lpdf: Random variable is nan, but must be not nan! (in 'real_data.stan', line 81, column 2 to column 53) (in 'real_data.stan', line 175, column 2 to line 180, column 4)\n",
      "\tException: Exception: normal_lpdf: Random variable is nan, but must be not nan! (in 'real_data.stan', line 81, column 2 to column 53) (in 'real_data.stan', line 175, column 2 to line 180, column 4)\n",
      "\tException: Exception: normal_lpdf: Random variable is nan, but must be not nan! (in 'real_data.stan', line 81, column 2 to column 53) (in 'real_data.stan', line 175, column 2 to line 180, column 4)\n",
      "Exception: Exception: normal_lpdf: Random variable is nan, but must be not nan! (in 'real_data.stan', line 81, column 2 to column 53) (in 'real_data.stan', line 175, column 2 to line 180, column 4)\n",
      "\tException: Exception: normal_lpdf: Random variable is nan, but must be not nan! (in 'real_data.stan', line 81, column 2 to column 53) (in 'real_data.stan', line 175, column 2 to line 180, column 4)\n",
      "Exception: Exception: normal_lpdf: Random variable is nan, but must be not nan! (in 'real_data.stan', line 81, column 2 to column 53) (in 'real_data.stan', line 175, column 2 to line 180, column 4)\n",
      "\tException: Exception: normal_lpdf: Random variable is nan, but must be not nan! (in 'real_data.stan', line 81, column 2 to column 53) (in 'real_data.stan', line 175, column 2 to line 180, column 4)\n",
      "\tException: Exception: normal_lpdf: Random variable is nan, but must be not nan! (in 'real_data.stan', line 81, column 2 to column 53) (in 'real_data.stan', line 175, column 2 to line 180, column 4)\n",
      "\tException: Exception: normal_lpdf: Random variable is nan, but must be not nan! (in 'real_data.stan', line 81, column 2 to column 53) (in 'real_data.stan', line 175, column 2 to line 180, column 4)\n",
      "Exception: Exception: normal_lpdf: Random variable is nan, but must be not nan! (in 'real_data.stan', line 81, column 2 to column 53) (in 'real_data.stan', line 175, column 2 to line 180, column 4)\n",
      "\tException: Exception: normal_lpdf: Random variable is nan, but must be not nan! (in 'real_data.stan', line 81, column 2 to column 53) (in 'real_data.stan', line 175, column 2 to line 180, column 4)\n",
      "\tException: Exception: normal_lpdf: Random variable is nan, but must be not nan! (in 'real_data.stan', line 81, column 2 to column 53) (in 'real_data.stan', line 175, column 2 to line 180, column 4)\n",
      "\tException: Exception: normal_lpdf: Random variable is nan, but must be not nan! (in 'real_data.stan', line 81, column 2 to column 53) (in 'real_data.stan', line 175, column 2 to line 180, column 4)\n",
      "\tException: Exception: normal_lpdf: Random variable is nan, but must be not nan! (in 'real_data.stan', line 81, column 2 to column 53) (in 'real_data.stan', line 175, column 2 to line 180, column 4)\n",
      "Consider re-running with show_console=True if the above output is unclear!\n"
     ]
    },
    {
     "name": "stdout",
     "output_type": "stream",
     "text": [
      "\n"
     ]
    },
    {
     "name": "stderr",
     "output_type": "stream",
     "text": [
      "21:51:59 - cmdstanpy - INFO - CmdStan start processing\n"
     ]
    },
    {
     "name": "stdout",
     "output_type": "stream",
     "text": [
      "contest_5144 end\n",
      "contest_4493 begin\n"
     ]
    },
    {
     "data": {
      "application/vnd.jupyter.widget-view+json": {
       "model_id": "571af54fc14a4a2a99e544146f8f599e",
       "version_major": 2,
       "version_minor": 0
      },
      "text/plain": [
       "chain 1 |          | 00:00 Status"
      ]
     },
     "metadata": {},
     "output_type": "display_data"
    },
    {
     "data": {
      "application/vnd.jupyter.widget-view+json": {
       "model_id": "c71fea9b249640a9b576cc78310961cc",
       "version_major": 2,
       "version_minor": 0
      },
      "text/plain": [
       "chain 2 |          | 00:00 Status"
      ]
     },
     "metadata": {},
     "output_type": "display_data"
    },
    {
     "data": {
      "application/vnd.jupyter.widget-view+json": {
       "model_id": "70b773bcd42f4c70afed643ed25e620a",
       "version_major": 2,
       "version_minor": 0
      },
      "text/plain": [
       "chain 3 |          | 00:00 Status"
      ]
     },
     "metadata": {},
     "output_type": "display_data"
    },
    {
     "data": {
      "application/vnd.jupyter.widget-view+json": {
       "model_id": "0d8200a8b0c948849d1cccaafbd3f134",
       "version_major": 2,
       "version_minor": 0
      },
      "text/plain": [
       "chain 4 |          | 00:00 Status"
      ]
     },
     "metadata": {},
     "output_type": "display_data"
    },
    {
     "name": "stdout",
     "output_type": "stream",
     "text": [
      "                                                                                                                                                                                                                                                                                                                                "
     ]
    },
    {
     "name": "stderr",
     "output_type": "stream",
     "text": [
      "22:03:18 - cmdstanpy - INFO - CmdStan done processing.\n",
      "22:03:18 - cmdstanpy - WARNING - Non-fatal error during sampling:\n",
      "Exception: Exception: normal_lpdf: Random variable is nan, but must be not nan! (in 'real_data.stan', line 81, column 2 to column 53) (in 'real_data.stan', line 175, column 2 to line 180, column 4)\n",
      "\tException: Exception: normal_lpdf: Random variable is nan, but must be not nan! (in 'real_data.stan', line 81, column 2 to column 53) (in 'real_data.stan', line 175, column 2 to line 180, column 4)\n",
      "\tException: Exception: normal_lpdf: Random variable is nan, but must be not nan! (in 'real_data.stan', line 81, column 2 to column 53) (in 'real_data.stan', line 175, column 2 to line 180, column 4)\n",
      "\tException: Exception: normal_lpdf: Random variable is nan, but must be not nan! (in 'real_data.stan', line 81, column 2 to column 53) (in 'real_data.stan', line 175, column 2 to line 180, column 4)\n",
      "\tException: Exception: normal_lpdf: Random variable is nan, but must be not nan! (in 'real_data.stan', line 81, column 2 to column 53) (in 'real_data.stan', line 175, column 2 to line 180, column 4)\n",
      "\tException: Exception: normal_lpdf: Random variable is nan, but must be not nan! (in 'real_data.stan', line 81, column 2 to column 53) (in 'real_data.stan', line 175, column 2 to line 180, column 4)\n",
      "Exception: Exception: normal_lpdf: Random variable is nan, but must be not nan! (in 'real_data.stan', line 81, column 2 to column 53) (in 'real_data.stan', line 175, column 2 to line 180, column 4)\n",
      "\tException: Exception: normal_lpdf: Random variable is nan, but must be not nan! (in 'real_data.stan', line 81, column 2 to column 53) (in 'real_data.stan', line 175, column 2 to line 180, column 4)\n",
      "\tException: Exception: normal_lpdf: Random variable is nan, but must be not nan! (in 'real_data.stan', line 81, column 2 to column 53) (in 'real_data.stan', line 175, column 2 to line 180, column 4)\n",
      "\tException: Exception: normal_lpdf: Random variable is nan, but must be not nan! (in 'real_data.stan', line 81, column 2 to column 53) (in 'real_data.stan', line 175, column 2 to line 180, column 4)\n",
      "\tException: Exception: normal_lpdf: Random variable is nan, but must be not nan! (in 'real_data.stan', line 81, column 2 to column 53) (in 'real_data.stan', line 175, column 2 to line 180, column 4)\n",
      "Exception: Exception: normal_lpdf: Random variable is nan, but must be not nan! (in 'real_data.stan', line 81, column 2 to column 53) (in 'real_data.stan', line 175, column 2 to line 180, column 4)\n",
      "\tException: Exception: normal_lpdf: Random variable is nan, but must be not nan! (in 'real_data.stan', line 81, column 2 to column 53) (in 'real_data.stan', line 175, column 2 to line 180, column 4)\n",
      "\tException: Exception: normal_lpdf: Random variable is nan, but must be not nan! (in 'real_data.stan', line 81, column 2 to column 53) (in 'real_data.stan', line 175, column 2 to line 180, column 4)\n",
      "\tException: Exception: normal_lpdf: Random variable is nan, but must be not nan! (in 'real_data.stan', line 81, column 2 to column 53) (in 'real_data.stan', line 175, column 2 to line 180, column 4)\n",
      "Exception: Exception: normal_lpdf: Random variable is nan, but must be not nan! (in 'real_data.stan', line 81, column 2 to column 53) (in 'real_data.stan', line 175, column 2 to line 180, column 4)\n",
      "\tException: Exception: normal_lpdf: Random variable is nan, but must be not nan! (in 'real_data.stan', line 81, column 2 to column 53) (in 'real_data.stan', line 175, column 2 to line 180, column 4)\n",
      "\tException: Exception: normal_lpdf: Random variable is nan, but must be not nan! (in 'real_data.stan', line 81, column 2 to column 53) (in 'real_data.stan', line 175, column 2 to line 180, column 4)\n",
      "\tException: Exception: normal_lpdf: Random variable is nan, but must be not nan! (in 'real_data.stan', line 81, column 2 to column 53) (in 'real_data.stan', line 175, column 2 to line 180, column 4)\n",
      "Consider re-running with show_console=True if the above output is unclear!\n"
     ]
    },
    {
     "name": "stdout",
     "output_type": "stream",
     "text": [
      "\n"
     ]
    },
    {
     "name": "stderr",
     "output_type": "stream",
     "text": [
      "22:03:20 - cmdstanpy - WARNING - Some chains may have failed to converge.\n",
      "\tChain 1 had 24 divergent transitions (1.2%)\n",
      "\tChain 2 had 20 divergent transitions (1.0%)\n",
      "\tChain 3 had 11 divergent transitions (0.5%)\n",
      "\tChain 3 had 20 iterations at max treedepth (1.0%)\n",
      "\tChain 4 had 18 divergent transitions (0.9%)\n",
      "\tUse the \"diagnose()\" method on the CmdStanMCMC object to see further information.\n",
      "22:03:24 - cmdstanpy - INFO - CmdStan start processing\n"
     ]
    },
    {
     "name": "stdout",
     "output_type": "stream",
     "text": [
      "contest_4493 end\n",
      "contest_5056 begin\n"
     ]
    },
    {
     "data": {
      "application/vnd.jupyter.widget-view+json": {
       "model_id": "27b55ad25b83404a94f7acc981ff1efa",
       "version_major": 2,
       "version_minor": 0
      },
      "text/plain": [
       "chain 1 |          | 00:00 Status"
      ]
     },
     "metadata": {},
     "output_type": "display_data"
    },
    {
     "data": {
      "application/vnd.jupyter.widget-view+json": {
       "model_id": "88f70c91a03943cd882160126e079584",
       "version_major": 2,
       "version_minor": 0
      },
      "text/plain": [
       "chain 2 |          | 00:00 Status"
      ]
     },
     "metadata": {},
     "output_type": "display_data"
    },
    {
     "data": {
      "application/vnd.jupyter.widget-view+json": {
       "model_id": "ef8396ff9b234e0aad679d65d02218da",
       "version_major": 2,
       "version_minor": 0
      },
      "text/plain": [
       "chain 3 |          | 00:00 Status"
      ]
     },
     "metadata": {},
     "output_type": "display_data"
    },
    {
     "data": {
      "application/vnd.jupyter.widget-view+json": {
       "model_id": "fd411e0b02e94fe9aacb3ab19153e3ec",
       "version_major": 2,
       "version_minor": 0
      },
      "text/plain": [
       "chain 4 |          | 00:00 Status"
      ]
     },
     "metadata": {},
     "output_type": "display_data"
    },
    {
     "name": "stdout",
     "output_type": "stream",
     "text": [
      "                                                                                                                                                                                                                                                                                                                                "
     ]
    },
    {
     "name": "stderr",
     "output_type": "stream",
     "text": [
      "22:06:31 - cmdstanpy - INFO - CmdStan done processing.\n",
      "22:06:31 - cmdstanpy - WARNING - Non-fatal error during sampling:\n",
      "Exception: Exception: normal_lpdf: Random variable is nan, but must be not nan! (in 'real_data.stan', line 81, column 2 to column 53) (in 'real_data.stan', line 175, column 2 to line 180, column 4)\n",
      "\tException: Exception: normal_lpdf: Random variable is nan, but must be not nan! (in 'real_data.stan', line 81, column 2 to column 53) (in 'real_data.stan', line 175, column 2 to line 180, column 4)\n",
      "\tException: Exception: normal_lpdf: Random variable is nan, but must be not nan! (in 'real_data.stan', line 81, column 2 to column 53) (in 'real_data.stan', line 175, column 2 to line 180, column 4)\n",
      "\tException: Exception: normal_lpdf: Random variable is nan, but must be not nan! (in 'real_data.stan', line 81, column 2 to column 53) (in 'real_data.stan', line 175, column 2 to line 180, column 4)\n",
      "\tException: Exception: normal_lpdf: Random variable is nan, but must be not nan! (in 'real_data.stan', line 81, column 2 to column 53) (in 'real_data.stan', line 175, column 2 to line 180, column 4)\n",
      "\tException: Exception: normal_lpdf: Random variable is nan, but must be not nan! (in 'real_data.stan', line 81, column 2 to column 53) (in 'real_data.stan', line 175, column 2 to line 180, column 4)\n",
      "\tException: Exception: normal_lpdf: Random variable is nan, but must be not nan! (in 'real_data.stan', line 81, column 2 to column 53) (in 'real_data.stan', line 175, column 2 to line 180, column 4)\n",
      "Exception: Exception: normal_lpdf: Random variable is nan, but must be not nan! (in 'real_data.stan', line 81, column 2 to column 53) (in 'real_data.stan', line 175, column 2 to line 180, column 4)\n",
      "\tException: Exception: normal_lpdf: Random variable is nan, but must be not nan! (in 'real_data.stan', line 81, column 2 to column 53) (in 'real_data.stan', line 175, column 2 to line 180, column 4)\n",
      "\tException: Exception: normal_lpdf: Random variable is nan, but must be not nan! (in 'real_data.stan', line 81, column 2 to column 53) (in 'real_data.stan', line 175, column 2 to line 180, column 4)\n",
      "\tException: Exception: normal_lpdf: Random variable is nan, but must be not nan! (in 'real_data.stan', line 81, column 2 to column 53) (in 'real_data.stan', line 175, column 2 to line 180, column 4)\n",
      "Exception: Exception: normal_lpdf: Random variable is nan, but must be not nan! (in 'real_data.stan', line 81, column 2 to column 53) (in 'real_data.stan', line 175, column 2 to line 180, column 4)\n",
      "\tException: Exception: normal_lpdf: Random variable is nan, but must be not nan! (in 'real_data.stan', line 81, column 2 to column 53) (in 'real_data.stan', line 175, column 2 to line 180, column 4)\n",
      "\tException: Exception: normal_lpdf: Random variable is nan, but must be not nan! (in 'real_data.stan', line 81, column 2 to column 53) (in 'real_data.stan', line 175, column 2 to line 180, column 4)\n",
      "\tException: Exception: normal_lpdf: Random variable is nan, but must be not nan! (in 'real_data.stan', line 81, column 2 to column 53) (in 'real_data.stan', line 175, column 2 to line 180, column 4)\n",
      "\tException: Exception: normal_lpdf: Random variable is nan, but must be not nan! (in 'real_data.stan', line 81, column 2 to column 53) (in 'real_data.stan', line 175, column 2 to line 180, column 4)\n",
      "Consider re-running with show_console=True if the above output is unclear!\n"
     ]
    },
    {
     "name": "stdout",
     "output_type": "stream",
     "text": [
      "\n"
     ]
    },
    {
     "name": "stderr",
     "output_type": "stream",
     "text": [
      "22:06:33 - cmdstanpy - WARNING - Some chains may have failed to converge.\n",
      "\tChain 1 had 11 divergent transitions (0.5%)\n",
      "\tChain 2 had 26 divergent transitions (1.3%)\n",
      "\tChain 3 had 22 divergent transitions (1.1%)\n",
      "\tChain 4 had 20 divergent transitions (1.0%)\n",
      "\tUse the \"diagnose()\" method on the CmdStanMCMC object to see further information.\n",
      "22:06:40 - cmdstanpy - INFO - CmdStan start processing\n"
     ]
    },
    {
     "name": "stdout",
     "output_type": "stream",
     "text": [
      "contest_5056 end\n",
      "contest_5390 begin\n"
     ]
    },
    {
     "data": {
      "application/vnd.jupyter.widget-view+json": {
       "model_id": "eb476be897c6443ab54e291750f06992",
       "version_major": 2,
       "version_minor": 0
      },
      "text/plain": [
       "chain 1 |          | 00:00 Status"
      ]
     },
     "metadata": {},
     "output_type": "display_data"
    },
    {
     "data": {
      "application/vnd.jupyter.widget-view+json": {
       "model_id": "2f2c3d543e184a3495118d56b389c58b",
       "version_major": 2,
       "version_minor": 0
      },
      "text/plain": [
       "chain 2 |          | 00:00 Status"
      ]
     },
     "metadata": {},
     "output_type": "display_data"
    },
    {
     "data": {
      "application/vnd.jupyter.widget-view+json": {
       "model_id": "fb430d024fdb430bb06d754a3e9466c2",
       "version_major": 2,
       "version_minor": 0
      },
      "text/plain": [
       "chain 3 |          | 00:00 Status"
      ]
     },
     "metadata": {},
     "output_type": "display_data"
    },
    {
     "data": {
      "application/vnd.jupyter.widget-view+json": {
       "model_id": "9cd00a266eec4d23a59a1471e4d26dca",
       "version_major": 2,
       "version_minor": 0
      },
      "text/plain": [
       "chain 4 |          | 00:00 Status"
      ]
     },
     "metadata": {},
     "output_type": "display_data"
    },
    {
     "name": "stdout",
     "output_type": "stream",
     "text": [
      "                                                                                                                                                                                                                                                                                                                                "
     ]
    },
    {
     "name": "stderr",
     "output_type": "stream",
     "text": [
      "22:07:27 - cmdstanpy - INFO - CmdStan done processing.\n",
      "22:07:27 - cmdstanpy - WARNING - Non-fatal error during sampling:\n",
      "Exception: Exception: normal_lpdf: Random variable is nan, but must be not nan! (in 'real_data.stan', line 81, column 2 to column 53) (in 'real_data.stan', line 175, column 2 to line 180, column 4)\n",
      "\tException: Exception: normal_lpdf: Random variable is nan, but must be not nan! (in 'real_data.stan', line 81, column 2 to column 53) (in 'real_data.stan', line 175, column 2 to line 180, column 4)\n",
      "\tException: Exception: normal_lpdf: Random variable is nan, but must be not nan! (in 'real_data.stan', line 81, column 2 to column 53) (in 'real_data.stan', line 175, column 2 to line 180, column 4)\n",
      "\tException: Exception: normal_lpdf: Random variable is nan, but must be not nan! (in 'real_data.stan', line 81, column 2 to column 53) (in 'real_data.stan', line 175, column 2 to line 180, column 4)\n",
      "Exception: Exception: normal_lpdf: Random variable is nan, but must be not nan! (in 'real_data.stan', line 81, column 2 to column 53) (in 'real_data.stan', line 175, column 2 to line 180, column 4)\n",
      "\tException: Exception: normal_lpdf: Random variable is nan, but must be not nan! (in 'real_data.stan', line 81, column 2 to column 53) (in 'real_data.stan', line 175, column 2 to line 180, column 4)\n",
      "Exception: Exception: normal_lpdf: Random variable is nan, but must be not nan! (in 'real_data.stan', line 81, column 2 to column 53) (in 'real_data.stan', line 175, column 2 to line 180, column 4)\n",
      "\tException: Exception: normal_lpdf: Random variable is nan, but must be not nan! (in 'real_data.stan', line 81, column 2 to column 53) (in 'real_data.stan', line 175, column 2 to line 180, column 4)\n",
      "\tException: Exception: normal_lpdf: Random variable is nan, but must be not nan! (in 'real_data.stan', line 81, column 2 to column 53) (in 'real_data.stan', line 175, column 2 to line 180, column 4)\n",
      "\tException: Exception: normal_lpdf: Random variable is nan, but must be not nan! (in 'real_data.stan', line 81, column 2 to column 53) (in 'real_data.stan', line 175, column 2 to line 180, column 4)\n",
      "Exception: Exception: normal_lpdf: Random variable is nan, but must be not nan! (in 'real_data.stan', line 81, column 2 to column 53) (in 'real_data.stan', line 175, column 2 to line 180, column 4)\n",
      "\tException: Exception: normal_lpdf: Random variable is nan, but must be not nan! (in 'real_data.stan', line 81, column 2 to column 53) (in 'real_data.stan', line 175, column 2 to line 180, column 4)\n",
      "\tException: Exception: normal_lpdf: Random variable is nan, but must be not nan! (in 'real_data.stan', line 81, column 2 to column 53) (in 'real_data.stan', line 175, column 2 to line 180, column 4)\n",
      "Consider re-running with show_console=True if the above output is unclear!\n"
     ]
    },
    {
     "name": "stdout",
     "output_type": "stream",
     "text": [
      "\n"
     ]
    },
    {
     "name": "stderr",
     "output_type": "stream",
     "text": [
      "22:07:28 - cmdstanpy - WARNING - Some chains may have failed to converge.\n",
      "\tChain 1 had 1 divergent transitions (0.1%)\n",
      "\tChain 3 had 4 divergent transitions (0.2%)\n",
      "\tUse the \"diagnose()\" method on the CmdStanMCMC object to see further information.\n",
      "22:07:32 - cmdstanpy - INFO - CmdStan start processing\n"
     ]
    },
    {
     "name": "stdout",
     "output_type": "stream",
     "text": [
      "contest_5390 end\n",
      "contest_2551 begin\n"
     ]
    },
    {
     "data": {
      "application/vnd.jupyter.widget-view+json": {
       "model_id": "44a515f1a0fc4a23b4c0559a243f4f60",
       "version_major": 2,
       "version_minor": 0
      },
      "text/plain": [
       "chain 1 |          | 00:00 Status"
      ]
     },
     "metadata": {},
     "output_type": "display_data"
    },
    {
     "data": {
      "application/vnd.jupyter.widget-view+json": {
       "model_id": "597a973da4244d8aadd84324808802c5",
       "version_major": 2,
       "version_minor": 0
      },
      "text/plain": [
       "chain 2 |          | 00:00 Status"
      ]
     },
     "metadata": {},
     "output_type": "display_data"
    },
    {
     "data": {
      "application/vnd.jupyter.widget-view+json": {
       "model_id": "87ab75fd29a4437587d6f99c35267bd6",
       "version_major": 2,
       "version_minor": 0
      },
      "text/plain": [
       "chain 3 |          | 00:00 Status"
      ]
     },
     "metadata": {},
     "output_type": "display_data"
    },
    {
     "data": {
      "application/vnd.jupyter.widget-view+json": {
       "model_id": "32f54df61996408c9f4bd2f9f14853dc",
       "version_major": 2,
       "version_minor": 0
      },
      "text/plain": [
       "chain 4 |          | 00:00 Status"
      ]
     },
     "metadata": {},
     "output_type": "display_data"
    },
    {
     "name": "stdout",
     "output_type": "stream",
     "text": [
      "                                                                                                                                                                                                                                                                                                                                "
     ]
    },
    {
     "name": "stderr",
     "output_type": "stream",
     "text": [
      "22:10:39 - cmdstanpy - INFO - CmdStan done processing.\n",
      "22:10:39 - cmdstanpy - WARNING - Non-fatal error during sampling:\n",
      "Exception: Exception: normal_lpdf: Random variable is nan, but must be not nan! (in 'real_data.stan', line 81, column 2 to column 53) (in 'real_data.stan', line 175, column 2 to line 180, column 4)\n",
      "\tException: Exception: normal_lpdf: Random variable is nan, but must be not nan! (in 'real_data.stan', line 81, column 2 to column 53) (in 'real_data.stan', line 175, column 2 to line 180, column 4)\n",
      "\tException: Exception: normal_lpdf: Random variable is nan, but must be not nan! (in 'real_data.stan', line 81, column 2 to column 53) (in 'real_data.stan', line 175, column 2 to line 180, column 4)\n",
      "\tException: Exception: normal_lpdf: Random variable is nan, but must be not nan! (in 'real_data.stan', line 81, column 2 to column 53) (in 'real_data.stan', line 175, column 2 to line 180, column 4)\n",
      "Exception: Exception: normal_lpdf: Random variable is nan, but must be not nan! (in 'real_data.stan', line 81, column 2 to column 53) (in 'real_data.stan', line 175, column 2 to line 180, column 4)\n",
      "\tException: Exception: normal_lpdf: Random variable is nan, but must be not nan! (in 'real_data.stan', line 81, column 2 to column 53) (in 'real_data.stan', line 175, column 2 to line 180, column 4)\n",
      "Exception: Exception: normal_lpdf: Random variable is nan, but must be not nan! (in 'real_data.stan', line 81, column 2 to column 53) (in 'real_data.stan', line 175, column 2 to line 180, column 4)\n",
      "\tException: Exception: normal_lpdf: Random variable is nan, but must be not nan! (in 'real_data.stan', line 81, column 2 to column 53) (in 'real_data.stan', line 175, column 2 to line 180, column 4)\n",
      "\tException: Exception: normal_lpdf: Random variable is nan, but must be not nan! (in 'real_data.stan', line 81, column 2 to column 53) (in 'real_data.stan', line 175, column 2 to line 180, column 4)\n",
      "\tException: Exception: normal_lpdf: Random variable is nan, but must be not nan! (in 'real_data.stan', line 81, column 2 to column 53) (in 'real_data.stan', line 175, column 2 to line 180, column 4)\n",
      "\tException: Exception: normal_lpdf: Random variable is nan, but must be not nan! (in 'real_data.stan', line 81, column 2 to column 53) (in 'real_data.stan', line 175, column 2 to line 180, column 4)\n",
      "Exception: Exception: normal_lpdf: Random variable is nan, but must be not nan! (in 'real_data.stan', line 81, column 2 to column 53) (in 'real_data.stan', line 175, column 2 to line 180, column 4)\n",
      "\tException: Exception: normal_lpdf: Random variable is nan, but must be not nan! (in 'real_data.stan', line 81, column 2 to column 53) (in 'real_data.stan', line 175, column 2 to line 180, column 4)\n",
      "\tException: Exception: normal_lpdf: Random variable is nan, but must be not nan! (in 'real_data.stan', line 81, column 2 to column 53) (in 'real_data.stan', line 175, column 2 to line 180, column 4)\n",
      "\tException: Exception: normal_lpdf: Random variable is nan, but must be not nan! (in 'real_data.stan', line 81, column 2 to column 53) (in 'real_data.stan', line 175, column 2 to line 180, column 4)\n",
      "Consider re-running with show_console=True if the above output is unclear!\n"
     ]
    },
    {
     "name": "stdout",
     "output_type": "stream",
     "text": [
      "\n"
     ]
    },
    {
     "name": "stderr",
     "output_type": "stream",
     "text": [
      "22:10:43 - cmdstanpy - WARNING - Some chains may have failed to converge.\n",
      "\tChain 1 had 12 divergent transitions (0.6%)\n",
      "\tChain 2 had 18 divergent transitions (0.9%)\n",
      "\tChain 3 had 11 divergent transitions (0.5%)\n",
      "\tChain 4 had 10 divergent transitions (0.5%)\n",
      "\tUse the \"diagnose()\" method on the CmdStanMCMC object to see further information.\n",
      "22:10:59 - cmdstanpy - INFO - CmdStan start processing\n"
     ]
    },
    {
     "name": "stdout",
     "output_type": "stream",
     "text": [
      "contest_2551 end\n",
      "contest_3507 begin\n"
     ]
    },
    {
     "data": {
      "application/vnd.jupyter.widget-view+json": {
       "model_id": "9fbe2f3b94684082b69a1dd5b20eea1e",
       "version_major": 2,
       "version_minor": 0
      },
      "text/plain": [
       "chain 1 |          | 00:00 Status"
      ]
     },
     "metadata": {},
     "output_type": "display_data"
    },
    {
     "data": {
      "application/vnd.jupyter.widget-view+json": {
       "model_id": "b86c74157dc6440c8c6ef69e027f1121",
       "version_major": 2,
       "version_minor": 0
      },
      "text/plain": [
       "chain 2 |          | 00:00 Status"
      ]
     },
     "metadata": {},
     "output_type": "display_data"
    },
    {
     "data": {
      "application/vnd.jupyter.widget-view+json": {
       "model_id": "828dd34ab1294bedac475bdfbc20406d",
       "version_major": 2,
       "version_minor": 0
      },
      "text/plain": [
       "chain 3 |          | 00:00 Status"
      ]
     },
     "metadata": {},
     "output_type": "display_data"
    },
    {
     "data": {
      "application/vnd.jupyter.widget-view+json": {
       "model_id": "2cf42c3f04d24982b2a579f3c5c58f1d",
       "version_major": 2,
       "version_minor": 0
      },
      "text/plain": [
       "chain 4 |          | 00:00 Status"
      ]
     },
     "metadata": {},
     "output_type": "display_data"
    },
    {
     "name": "stdout",
     "output_type": "stream",
     "text": [
      "                                                                                                                                                                                                                                                                                                                                "
     ]
    },
    {
     "name": "stderr",
     "output_type": "stream",
     "text": [
      "22:11:28 - cmdstanpy - INFO - CmdStan done processing.\n",
      "22:11:28 - cmdstanpy - WARNING - Non-fatal error during sampling:\n",
      "Exception: Exception: normal_lpdf: Random variable is nan, but must be not nan! (in 'real_data.stan', line 81, column 2 to column 53) (in 'real_data.stan', line 175, column 2 to line 180, column 4)\n",
      "\tException: Exception: normal_lpdf: Random variable is nan, but must be not nan! (in 'real_data.stan', line 81, column 2 to column 53) (in 'real_data.stan', line 175, column 2 to line 180, column 4)\n",
      "\tException: Exception: normal_lpdf: Random variable is nan, but must be not nan! (in 'real_data.stan', line 81, column 2 to column 53) (in 'real_data.stan', line 175, column 2 to line 180, column 4)\n",
      "Exception: Exception: normal_lpdf: Random variable is nan, but must be not nan! (in 'real_data.stan', line 81, column 2 to column 53) (in 'real_data.stan', line 175, column 2 to line 180, column 4)\n",
      "\tException: Exception: normal_lpdf: Random variable is nan, but must be not nan! (in 'real_data.stan', line 81, column 2 to column 53) (in 'real_data.stan', line 175, column 2 to line 180, column 4)\n",
      "Exception: Exception: normal_lpdf: Random variable is nan, but must be not nan! (in 'real_data.stan', line 81, column 2 to column 53) (in 'real_data.stan', line 175, column 2 to line 180, column 4)\n",
      "\tException: Exception: normal_lpdf: Random variable is nan, but must be not nan! (in 'real_data.stan', line 81, column 2 to column 53) (in 'real_data.stan', line 175, column 2 to line 180, column 4)\n",
      "Exception: Exception: normal_lpdf: Random variable is nan, but must be not nan! (in 'real_data.stan', line 81, column 2 to column 53) (in 'real_data.stan', line 175, column 2 to line 180, column 4)\n",
      "\tException: Exception: normal_lpdf: Random variable is nan, but must be not nan! (in 'real_data.stan', line 81, column 2 to column 53) (in 'real_data.stan', line 175, column 2 to line 180, column 4)\n",
      "Consider re-running with show_console=True if the above output is unclear!\n"
     ]
    },
    {
     "name": "stdout",
     "output_type": "stream",
     "text": [
      "\n"
     ]
    },
    {
     "name": "stderr",
     "output_type": "stream",
     "text": [
      "22:11:31 - cmdstanpy - INFO - CmdStan start processing\n"
     ]
    },
    {
     "name": "stdout",
     "output_type": "stream",
     "text": [
      "contest_3507 end\n",
      "contest_4104 begin\n"
     ]
    },
    {
     "data": {
      "application/vnd.jupyter.widget-view+json": {
       "model_id": "e6c90c2a87f8486fb791ec40cedf4665",
       "version_major": 2,
       "version_minor": 0
      },
      "text/plain": [
       "chain 1 |          | 00:00 Status"
      ]
     },
     "metadata": {},
     "output_type": "display_data"
    },
    {
     "data": {
      "application/vnd.jupyter.widget-view+json": {
       "model_id": "2411c57a595446dd95d5a0f38f687c88",
       "version_major": 2,
       "version_minor": 0
      },
      "text/plain": [
       "chain 2 |          | 00:00 Status"
      ]
     },
     "metadata": {},
     "output_type": "display_data"
    },
    {
     "data": {
      "application/vnd.jupyter.widget-view+json": {
       "model_id": "9f280a17164244b3ba59be88af7309c4",
       "version_major": 2,
       "version_minor": 0
      },
      "text/plain": [
       "chain 3 |          | 00:00 Status"
      ]
     },
     "metadata": {},
     "output_type": "display_data"
    },
    {
     "data": {
      "application/vnd.jupyter.widget-view+json": {
       "model_id": "ec2ac98d398a41af99adf2ca521795d7",
       "version_major": 2,
       "version_minor": 0
      },
      "text/plain": [
       "chain 4 |          | 00:00 Status"
      ]
     },
     "metadata": {},
     "output_type": "display_data"
    },
    {
     "name": "stdout",
     "output_type": "stream",
     "text": [
      "                                                                                                                                                                                                                                                                                                                                "
     ]
    },
    {
     "name": "stderr",
     "output_type": "stream",
     "text": [
      "22:12:56 - cmdstanpy - INFO - CmdStan done processing.\n",
      "22:12:56 - cmdstanpy - WARNING - Non-fatal error during sampling:\n",
      "Exception: Exception: normal_lpdf: Random variable is nan, but must be not nan! (in 'real_data.stan', line 81, column 2 to column 53) (in 'real_data.stan', line 175, column 2 to line 180, column 4)\n",
      "\tException: Exception: normal_lpdf: Random variable is nan, but must be not nan! (in 'real_data.stan', line 81, column 2 to column 53) (in 'real_data.stan', line 175, column 2 to line 180, column 4)\n",
      "\tException: Exception: normal_lpdf: Random variable is nan, but must be not nan! (in 'real_data.stan', line 81, column 2 to column 53) (in 'real_data.stan', line 175, column 2 to line 180, column 4)\n",
      "\tException: Exception: normal_lpdf: Random variable is nan, but must be not nan! (in 'real_data.stan', line 81, column 2 to column 53) (in 'real_data.stan', line 175, column 2 to line 180, column 4)\n",
      "Exception: Exception: normal_lpdf: Random variable is nan, but must be not nan! (in 'real_data.stan', line 81, column 2 to column 53) (in 'real_data.stan', line 175, column 2 to line 180, column 4)\n",
      "\tException: Exception: normal_lpdf: Random variable is nan, but must be not nan! (in 'real_data.stan', line 81, column 2 to column 53) (in 'real_data.stan', line 175, column 2 to line 180, column 4)\n",
      "\tException: Exception: normal_lpdf: Random variable is nan, but must be not nan! (in 'real_data.stan', line 81, column 2 to column 53) (in 'real_data.stan', line 175, column 2 to line 180, column 4)\n",
      "\tException: Exception: normal_lpdf: Random variable is nan, but must be not nan! (in 'real_data.stan', line 81, column 2 to column 53) (in 'real_data.stan', line 175, column 2 to line 180, column 4)\n",
      "Exception: Exception: normal_lpdf: Random variable is nan, but must be not nan! (in 'real_data.stan', line 81, column 2 to column 53) (in 'real_data.stan', line 175, column 2 to line 180, column 4)\n",
      "\tException: Exception: normal_lpdf: Random variable is nan, but must be not nan! (in 'real_data.stan', line 81, column 2 to column 53) (in 'real_data.stan', line 175, column 2 to line 180, column 4)\n",
      "\tException: Exception: normal_lpdf: Random variable is nan, but must be not nan! (in 'real_data.stan', line 81, column 2 to column 53) (in 'real_data.stan', line 175, column 2 to line 180, column 4)\n",
      "\tException: Exception: normal_lpdf: Random variable is nan, but must be not nan! (in 'real_data.stan', line 81, column 2 to column 53) (in 'real_data.stan', line 175, column 2 to line 180, column 4)\n",
      "\tException: Exception: normal_lpdf: Random variable is nan, but must be not nan! (in 'real_data.stan', line 81, column 2 to column 53) (in 'real_data.stan', line 175, column 2 to line 180, column 4)\n",
      "\tException: Exception: normal_lpdf: Random variable is nan, but must be not nan! (in 'real_data.stan', line 81, column 2 to column 53) (in 'real_data.stan', line 175, column 2 to line 180, column 4)\n",
      "\tException: Exception: normal_lpdf: Random variable is nan, but must be not nan! (in 'real_data.stan', line 81, column 2 to column 53) (in 'real_data.stan', line 175, column 2 to line 180, column 4)\n",
      "Exception: Exception: normal_lpdf: Random variable is nan, but must be not nan! (in 'real_data.stan', line 81, column 2 to column 53) (in 'real_data.stan', line 175, column 2 to line 180, column 4)\n",
      "\tException: Exception: normal_lpdf: Random variable is nan, but must be not nan! (in 'real_data.stan', line 81, column 2 to column 53) (in 'real_data.stan', line 175, column 2 to line 180, column 4)\n",
      "\tException: Exception: normal_lpdf: Random variable is nan, but must be not nan! (in 'real_data.stan', line 81, column 2 to column 53) (in 'real_data.stan', line 175, column 2 to line 180, column 4)\n",
      "\tException: Exception: normal_lpdf: Random variable is nan, but must be not nan! (in 'real_data.stan', line 81, column 2 to column 53) (in 'real_data.stan', line 175, column 2 to line 180, column 4)\n",
      "\tException: Exception: normal_lpdf: Random variable is nan, but must be not nan! (in 'real_data.stan', line 81, column 2 to column 53) (in 'real_data.stan', line 175, column 2 to line 180, column 4)\n",
      "\tException: Exception: normal_lpdf: Random variable is nan, but must be not nan! (in 'real_data.stan', line 81, column 2 to column 53) (in 'real_data.stan', line 175, column 2 to line 180, column 4)\n",
      "Consider re-running with show_console=True if the above output is unclear!\n"
     ]
    },
    {
     "name": "stdout",
     "output_type": "stream",
     "text": [
      "\n"
     ]
    },
    {
     "name": "stderr",
     "output_type": "stream",
     "text": [
      "22:12:57 - cmdstanpy - WARNING - Some chains may have failed to converge.\n",
      "\tChain 1 had 1 divergent transitions (0.1%)\n",
      "\tChain 2 had 2 divergent transitions (0.1%)\n",
      "\tChain 3 had 4 divergent transitions (0.2%)\n",
      "\tChain 4 had 2 divergent transitions (0.1%)\n",
      "\tUse the \"diagnose()\" method on the CmdStanMCMC object to see further information.\n",
      "22:13:00 - cmdstanpy - INFO - CmdStan start processing\n"
     ]
    },
    {
     "name": "stdout",
     "output_type": "stream",
     "text": [
      "contest_4104 end\n",
      "contest_7456 begin\n"
     ]
    },
    {
     "data": {
      "application/vnd.jupyter.widget-view+json": {
       "model_id": "2cd5faa78424414d97a00c600e3744fe",
       "version_major": 2,
       "version_minor": 0
      },
      "text/plain": [
       "chain 1 |          | 00:00 Status"
      ]
     },
     "metadata": {},
     "output_type": "display_data"
    },
    {
     "data": {
      "application/vnd.jupyter.widget-view+json": {
       "model_id": "b12af3fdc4844ac9822fb8a2cc4a5552",
       "version_major": 2,
       "version_minor": 0
      },
      "text/plain": [
       "chain 2 |          | 00:00 Status"
      ]
     },
     "metadata": {},
     "output_type": "display_data"
    },
    {
     "data": {
      "application/vnd.jupyter.widget-view+json": {
       "model_id": "a9ca6acb3bbe47e9ac86cbfc99515317",
       "version_major": 2,
       "version_minor": 0
      },
      "text/plain": [
       "chain 3 |          | 00:00 Status"
      ]
     },
     "metadata": {},
     "output_type": "display_data"
    },
    {
     "data": {
      "application/vnd.jupyter.widget-view+json": {
       "model_id": "b211e865caee4024890a8cb6e4fe1d1b",
       "version_major": 2,
       "version_minor": 0
      },
      "text/plain": [
       "chain 4 |          | 00:00 Status"
      ]
     },
     "metadata": {},
     "output_type": "display_data"
    },
    {
     "name": "stdout",
     "output_type": "stream",
     "text": [
      "                                                                                                                                                                                                                                                                                                                                "
     ]
    },
    {
     "name": "stderr",
     "output_type": "stream",
     "text": [
      "22:14:50 - cmdstanpy - INFO - CmdStan done processing.\n",
      "22:14:50 - cmdstanpy - WARNING - Non-fatal error during sampling:\n",
      "Exception: Exception: normal_lpdf: Random variable is nan, but must be not nan! (in 'real_data.stan', line 81, column 2 to column 53) (in 'real_data.stan', line 175, column 2 to line 180, column 4)\n",
      "\tException: Exception: normal_lpdf: Random variable is nan, but must be not nan! (in 'real_data.stan', line 81, column 2 to column 53) (in 'real_data.stan', line 175, column 2 to line 180, column 4)\n",
      "\tException: Exception: normal_lpdf: Random variable is nan, but must be not nan! (in 'real_data.stan', line 81, column 2 to column 53) (in 'real_data.stan', line 175, column 2 to line 180, column 4)\n",
      "Exception: Exception: normal_lpdf: Random variable is nan, but must be not nan! (in 'real_data.stan', line 81, column 2 to column 53) (in 'real_data.stan', line 175, column 2 to line 180, column 4)\n",
      "\tException: Exception: normal_lpdf: Random variable is nan, but must be not nan! (in 'real_data.stan', line 81, column 2 to column 53) (in 'real_data.stan', line 175, column 2 to line 180, column 4)\n",
      "\tException: Exception: normal_lpdf: Random variable is nan, but must be not nan! (in 'real_data.stan', line 81, column 2 to column 53) (in 'real_data.stan', line 175, column 2 to line 180, column 4)\n",
      "Exception: Exception: normal_lpdf: Random variable is nan, but must be not nan! (in 'real_data.stan', line 81, column 2 to column 53) (in 'real_data.stan', line 175, column 2 to line 180, column 4)\n",
      "\tException: Exception: normal_lpdf: Random variable is nan, but must be not nan! (in 'real_data.stan', line 81, column 2 to column 53) (in 'real_data.stan', line 175, column 2 to line 180, column 4)\n",
      "\tException: Exception: normal_lpdf: Random variable is nan, but must be not nan! (in 'real_data.stan', line 81, column 2 to column 53) (in 'real_data.stan', line 175, column 2 to line 180, column 4)\n",
      "Exception: Exception: normal_lpdf: Random variable is nan, but must be not nan! (in 'real_data.stan', line 81, column 2 to column 53) (in 'real_data.stan', line 175, column 2 to line 180, column 4)\n",
      "\tException: Exception: normal_lpdf: Random variable is nan, but must be not nan! (in 'real_data.stan', line 81, column 2 to column 53) (in 'real_data.stan', line 175, column 2 to line 180, column 4)\n",
      "\tException: Exception: normal_lpdf: Random variable is nan, but must be not nan! (in 'real_data.stan', line 81, column 2 to column 53) (in 'real_data.stan', line 175, column 2 to line 180, column 4)\n",
      "Consider re-running with show_console=True if the above output is unclear!\n"
     ]
    },
    {
     "name": "stdout",
     "output_type": "stream",
     "text": [
      "\n"
     ]
    },
    {
     "name": "stderr",
     "output_type": "stream",
     "text": [
      "22:15:02 - cmdstanpy - INFO - CmdStan start processing\n"
     ]
    },
    {
     "name": "stdout",
     "output_type": "stream",
     "text": [
      "contest_7456 end\n",
      "contest_38760 begin\n"
     ]
    },
    {
     "data": {
      "application/vnd.jupyter.widget-view+json": {
       "model_id": "a600e938d9654b8a8a3f0b2c83cb2fa7",
       "version_major": 2,
       "version_minor": 0
      },
      "text/plain": [
       "chain 1 |          | 00:00 Status"
      ]
     },
     "metadata": {},
     "output_type": "display_data"
    },
    {
     "data": {
      "application/vnd.jupyter.widget-view+json": {
       "model_id": "21eb4e713bda499bbbbec6649c5003b4",
       "version_major": 2,
       "version_minor": 0
      },
      "text/plain": [
       "chain 2 |          | 00:00 Status"
      ]
     },
     "metadata": {},
     "output_type": "display_data"
    },
    {
     "data": {
      "application/vnd.jupyter.widget-view+json": {
       "model_id": "99cdfc1a76034ce385f60a3a03c3f142",
       "version_major": 2,
       "version_minor": 0
      },
      "text/plain": [
       "chain 3 |          | 00:00 Status"
      ]
     },
     "metadata": {},
     "output_type": "display_data"
    },
    {
     "data": {
      "application/vnd.jupyter.widget-view+json": {
       "model_id": "10f1e0db57964cca92e390eb8163c917",
       "version_major": 2,
       "version_minor": 0
      },
      "text/plain": [
       "chain 4 |          | 00:00 Status"
      ]
     },
     "metadata": {},
     "output_type": "display_data"
    },
    {
     "name": "stdout",
     "output_type": "stream",
     "text": [
      "                                                                                                                                                                                                                                                                                                                                "
     ]
    },
    {
     "name": "stderr",
     "output_type": "stream",
     "text": [
      "22:15:56 - cmdstanpy - INFO - CmdStan done processing.\n",
      "22:15:56 - cmdstanpy - WARNING - Non-fatal error during sampling:\n",
      "Exception: Exception: normal_lpdf: Random variable is nan, but must be not nan! (in 'real_data.stan', line 81, column 2 to column 53) (in 'real_data.stan', line 175, column 2 to line 180, column 4)\n",
      "\tException: Exception: normal_lpdf: Random variable is nan, but must be not nan! (in 'real_data.stan', line 81, column 2 to column 53) (in 'real_data.stan', line 175, column 2 to line 180, column 4)\n",
      "Exception: Exception: normal_lpdf: Random variable is nan, but must be not nan! (in 'real_data.stan', line 81, column 2 to column 53) (in 'real_data.stan', line 175, column 2 to line 180, column 4)\n",
      "\tException: Exception: normal_lpdf: Random variable is nan, but must be not nan! (in 'real_data.stan', line 81, column 2 to column 53) (in 'real_data.stan', line 175, column 2 to line 180, column 4)\n",
      "\tException: Exception: normal_lpdf: Random variable is nan, but must be not nan! (in 'real_data.stan', line 81, column 2 to column 53) (in 'real_data.stan', line 175, column 2 to line 180, column 4)\n",
      "Exception: Exception: normal_lpdf: Random variable is nan, but must be not nan! (in 'real_data.stan', line 81, column 2 to column 53) (in 'real_data.stan', line 175, column 2 to line 180, column 4)\n",
      "\tException: Exception: normal_lpdf: Random variable is nan, but must be not nan! (in 'real_data.stan', line 81, column 2 to column 53) (in 'real_data.stan', line 175, column 2 to line 180, column 4)\n",
      "\tException: Exception: normal_lpdf: Random variable is nan, but must be not nan! (in 'real_data.stan', line 81, column 2 to column 53) (in 'real_data.stan', line 175, column 2 to line 180, column 4)\n",
      "\tException: Exception: normal_lpdf: Random variable is nan, but must be not nan! (in 'real_data.stan', line 81, column 2 to column 53) (in 'real_data.stan', line 175, column 2 to line 180, column 4)\n",
      "\tException: Exception: normal_lpdf: Random variable is nan, but must be not nan! (in 'real_data.stan', line 81, column 2 to column 53) (in 'real_data.stan', line 175, column 2 to line 180, column 4)\n",
      "\tException: Exception: normal_lpdf: Random variable is nan, but must be not nan! (in 'real_data.stan', line 81, column 2 to column 53) (in 'real_data.stan', line 175, column 2 to line 180, column 4)\n",
      "Exception: Exception: normal_lpdf: Random variable is nan, but must be not nan! (in 'real_data.stan', line 81, column 2 to column 53) (in 'real_data.stan', line 175, column 2 to line 180, column 4)\n",
      "\tException: Exception: normal_lpdf: Random variable is nan, but must be not nan! (in 'real_data.stan', line 81, column 2 to column 53) (in 'real_data.stan', line 175, column 2 to line 180, column 4)\n",
      "\tException: Exception: normal_lpdf: Random variable is nan, but must be not nan! (in 'real_data.stan', line 81, column 2 to column 53) (in 'real_data.stan', line 175, column 2 to line 180, column 4)\n",
      "\tException: Exception: normal_lpdf: Random variable is nan, but must be not nan! (in 'real_data.stan', line 81, column 2 to column 53) (in 'real_data.stan', line 175, column 2 to line 180, column 4)\n",
      "\tException: Exception: normal_lpdf: Random variable is nan, but must be not nan! (in 'real_data.stan', line 81, column 2 to column 53) (in 'real_data.stan', line 175, column 2 to line 180, column 4)\n",
      "\tException: Exception: normal_lpdf: Random variable is nan, but must be not nan! (in 'real_data.stan', line 81, column 2 to column 53) (in 'real_data.stan', line 175, column 2 to line 180, column 4)\n",
      "\tException: Exception: normal_lpdf: Random variable is nan, but must be not nan! (in 'real_data.stan', line 81, column 2 to column 53) (in 'real_data.stan', line 175, column 2 to line 180, column 4)\n",
      "Consider re-running with show_console=True if the above output is unclear!\n"
     ]
    },
    {
     "name": "stdout",
     "output_type": "stream",
     "text": [
      "\n"
     ]
    },
    {
     "name": "stderr",
     "output_type": "stream",
     "text": [
      "22:15:57 - cmdstanpy - WARNING - Some chains may have failed to converge.\n",
      "\tChain 1 had 1 divergent transitions (0.1%)\n",
      "\tChain 3 had 1 divergent transitions (0.1%)\n",
      "\tUse the \"diagnose()\" method on the CmdStanMCMC object to see further information.\n",
      "22:16:01 - cmdstanpy - INFO - CmdStan start processing\n"
     ]
    },
    {
     "name": "stdout",
     "output_type": "stream",
     "text": [
      "contest_38760 end\n",
      "contest_4407 begin\n"
     ]
    },
    {
     "data": {
      "application/vnd.jupyter.widget-view+json": {
       "model_id": "0f6f72774cee4c498adab6cc92ffa656",
       "version_major": 2,
       "version_minor": 0
      },
      "text/plain": [
       "chain 1 |          | 00:00 Status"
      ]
     },
     "metadata": {},
     "output_type": "display_data"
    },
    {
     "data": {
      "application/vnd.jupyter.widget-view+json": {
       "model_id": "4423491c820f42b289ae0d83d0731344",
       "version_major": 2,
       "version_minor": 0
      },
      "text/plain": [
       "chain 2 |          | 00:00 Status"
      ]
     },
     "metadata": {},
     "output_type": "display_data"
    },
    {
     "data": {
      "application/vnd.jupyter.widget-view+json": {
       "model_id": "bcfcea27c2ed4fffa5691928d86a7a9f",
       "version_major": 2,
       "version_minor": 0
      },
      "text/plain": [
       "chain 3 |          | 00:00 Status"
      ]
     },
     "metadata": {},
     "output_type": "display_data"
    },
    {
     "data": {
      "application/vnd.jupyter.widget-view+json": {
       "model_id": "db8deefc8ca84f08842daf4c96cb388e",
       "version_major": 2,
       "version_minor": 0
      },
      "text/plain": [
       "chain 4 |          | 00:00 Status"
      ]
     },
     "metadata": {},
     "output_type": "display_data"
    },
    {
     "name": "stdout",
     "output_type": "stream",
     "text": [
      "                                                                                                                                                                                                                                                                                                                                "
     ]
    },
    {
     "name": "stderr",
     "output_type": "stream",
     "text": [
      "22:18:46 - cmdstanpy - INFO - CmdStan done processing.\n",
      "22:18:46 - cmdstanpy - WARNING - Non-fatal error during sampling:\n",
      "Exception: Exception: normal_lpdf: Random variable is nan, but must be not nan! (in 'real_data.stan', line 81, column 2 to column 53) (in 'real_data.stan', line 175, column 2 to line 180, column 4)\n",
      "\tException: Exception: normal_lpdf: Random variable is nan, but must be not nan! (in 'real_data.stan', line 81, column 2 to column 53) (in 'real_data.stan', line 175, column 2 to line 180, column 4)\n",
      "\tException: Exception: normal_lpdf: Random variable is nan, but must be not nan! (in 'real_data.stan', line 81, column 2 to column 53) (in 'real_data.stan', line 175, column 2 to line 180, column 4)\n",
      "\tException: Exception: normal_lpdf: Random variable is nan, but must be not nan! (in 'real_data.stan', line 81, column 2 to column 53) (in 'real_data.stan', line 175, column 2 to line 180, column 4)\n",
      "\tException: Exception: normal_lpdf: Random variable is nan, but must be not nan! (in 'real_data.stan', line 81, column 2 to column 53) (in 'real_data.stan', line 175, column 2 to line 180, column 4)\n",
      "Exception: Exception: normal_lpdf: Random variable is nan, but must be not nan! (in 'real_data.stan', line 81, column 2 to column 53) (in 'real_data.stan', line 175, column 2 to line 180, column 4)\n",
      "\tException: Exception: normal_lpdf: Random variable is nan, but must be not nan! (in 'real_data.stan', line 81, column 2 to column 53) (in 'real_data.stan', line 175, column 2 to line 180, column 4)\n",
      "\tException: Exception: normal_lpdf: Random variable is nan, but must be not nan! (in 'real_data.stan', line 81, column 2 to column 53) (in 'real_data.stan', line 175, column 2 to line 180, column 4)\n",
      "Exception: Exception: normal_lpdf: Random variable is nan, but must be not nan! (in 'real_data.stan', line 81, column 2 to column 53) (in 'real_data.stan', line 175, column 2 to line 180, column 4)\n",
      "\tException: Exception: normal_lpdf: Random variable is nan, but must be not nan! (in 'real_data.stan', line 81, column 2 to column 53) (in 'real_data.stan', line 175, column 2 to line 180, column 4)\n",
      "\tException: Exception: normal_lpdf: Random variable is nan, but must be not nan! (in 'real_data.stan', line 81, column 2 to column 53) (in 'real_data.stan', line 175, column 2 to line 180, column 4)\n",
      "\tException: Exception: normal_lpdf: Random variable is nan, but must be not nan! (in 'real_data.stan', line 81, column 2 to column 53) (in 'real_data.stan', line 175, column 2 to line 180, column 4)\n",
      "Exception: Exception: normal_lpdf: Random variable is nan, but must be not nan! (in 'real_data.stan', line 81, column 2 to column 53) (in 'real_data.stan', line 175, column 2 to line 180, column 4)\n",
      "\tException: Exception: normal_lpdf: Random variable is nan, but must be not nan! (in 'real_data.stan', line 81, column 2 to column 53) (in 'real_data.stan', line 175, column 2 to line 180, column 4)\n",
      "\tException: Exception: normal_lpdf: Random variable is nan, but must be not nan! (in 'real_data.stan', line 81, column 2 to column 53) (in 'real_data.stan', line 175, column 2 to line 180, column 4)\n",
      "Consider re-running with show_console=True if the above output is unclear!\n"
     ]
    },
    {
     "name": "stdout",
     "output_type": "stream",
     "text": [
      "\n"
     ]
    },
    {
     "name": "stderr",
     "output_type": "stream",
     "text": [
      "22:19:04 - cmdstanpy - INFO - CmdStan start processing\n"
     ]
    },
    {
     "name": "stdout",
     "output_type": "stream",
     "text": [
      "contest_4407 end\n",
      "contest_5261 begin\n"
     ]
    },
    {
     "data": {
      "application/vnd.jupyter.widget-view+json": {
       "model_id": "f60e4f5fe257450797bdc0f71c02e2a6",
       "version_major": 2,
       "version_minor": 0
      },
      "text/plain": [
       "chain 1 |          | 00:00 Status"
      ]
     },
     "metadata": {},
     "output_type": "display_data"
    },
    {
     "data": {
      "application/vnd.jupyter.widget-view+json": {
       "model_id": "07b95813e00543198a4b007a558ee687",
       "version_major": 2,
       "version_minor": 0
      },
      "text/plain": [
       "chain 2 |          | 00:00 Status"
      ]
     },
     "metadata": {},
     "output_type": "display_data"
    },
    {
     "data": {
      "application/vnd.jupyter.widget-view+json": {
       "model_id": "5339b4aa7c694e1b9863e6db0b5b02c3",
       "version_major": 2,
       "version_minor": 0
      },
      "text/plain": [
       "chain 3 |          | 00:00 Status"
      ]
     },
     "metadata": {},
     "output_type": "display_data"
    },
    {
     "data": {
      "application/vnd.jupyter.widget-view+json": {
       "model_id": "820942caffbc4b8ea10d5d504d180abc",
       "version_major": 2,
       "version_minor": 0
      },
      "text/plain": [
       "chain 4 |          | 00:00 Status"
      ]
     },
     "metadata": {},
     "output_type": "display_data"
    },
    {
     "name": "stdout",
     "output_type": "stream",
     "text": [
      "                                                                                                                                                                                                                                                                                                                                "
     ]
    },
    {
     "name": "stderr",
     "output_type": "stream",
     "text": [
      "22:21:20 - cmdstanpy - INFO - CmdStan done processing.\n",
      "22:21:20 - cmdstanpy - WARNING - Non-fatal error during sampling:\n",
      "Exception: Exception: normal_lpdf: Random variable is nan, but must be not nan! (in 'real_data.stan', line 81, column 2 to column 53) (in 'real_data.stan', line 175, column 2 to line 180, column 4)\n",
      "\tException: Exception: normal_lpdf: Random variable is nan, but must be not nan! (in 'real_data.stan', line 81, column 2 to column 53) (in 'real_data.stan', line 175, column 2 to line 180, column 4)\n",
      "\tException: Exception: normal_lpdf: Random variable is nan, but must be not nan! (in 'real_data.stan', line 81, column 2 to column 53) (in 'real_data.stan', line 175, column 2 to line 180, column 4)\n",
      "\tException: Exception: normal_lpdf: Random variable is nan, but must be not nan! (in 'real_data.stan', line 81, column 2 to column 53) (in 'real_data.stan', line 175, column 2 to line 180, column 4)\n",
      "\tException: Exception: normal_lpdf: Random variable is nan, but must be not nan! (in 'real_data.stan', line 81, column 2 to column 53) (in 'real_data.stan', line 175, column 2 to line 180, column 4)\n",
      "\tException: Exception: normal_lpdf: Random variable is nan, but must be not nan! (in 'real_data.stan', line 81, column 2 to column 53) (in 'real_data.stan', line 175, column 2 to line 180, column 4)\n",
      "Exception: Exception: normal_lpdf: Random variable is nan, but must be not nan! (in 'real_data.stan', line 81, column 2 to column 53) (in 'real_data.stan', line 175, column 2 to line 180, column 4)\n",
      "\tException: Exception: normal_lpdf: Random variable is nan, but must be not nan! (in 'real_data.stan', line 81, column 2 to column 53) (in 'real_data.stan', line 175, column 2 to line 180, column 4)\n",
      "\tException: Exception: normal_lpdf: Random variable is nan, but must be not nan! (in 'real_data.stan', line 81, column 2 to column 53) (in 'real_data.stan', line 175, column 2 to line 180, column 4)\n",
      "\tException: Exception: normal_lpdf: Random variable is nan, but must be not nan! (in 'real_data.stan', line 81, column 2 to column 53) (in 'real_data.stan', line 175, column 2 to line 180, column 4)\n",
      "Exception: Exception: normal_lpdf: Random variable is nan, but must be not nan! (in 'real_data.stan', line 81, column 2 to column 53) (in 'real_data.stan', line 175, column 2 to line 180, column 4)\n",
      "\tException: Exception: normal_lpdf: Random variable is nan, but must be not nan! (in 'real_data.stan', line 81, column 2 to column 53) (in 'real_data.stan', line 175, column 2 to line 180, column 4)\n",
      "\tException: Exception: normal_lpdf: Random variable is nan, but must be not nan! (in 'real_data.stan', line 81, column 2 to column 53) (in 'real_data.stan', line 175, column 2 to line 180, column 4)\n",
      "\tException: Exception: normal_lpdf: Random variable is nan, but must be not nan! (in 'real_data.stan', line 81, column 2 to column 53) (in 'real_data.stan', line 175, column 2 to line 180, column 4)\n",
      "\tException: Exception: normal_lpdf: Random variable is nan, but must be not nan! (in 'real_data.stan', line 81, column 2 to column 53) (in 'real_data.stan', line 175, column 2 to line 180, column 4)\n",
      "\tException: Exception: normal_lpdf: Random variable is nan, but must be not nan! (in 'real_data.stan', line 81, column 2 to column 53) (in 'real_data.stan', line 175, column 2 to line 180, column 4)\n",
      "Exception: Exception: normal_lpdf: Random variable is nan, but must be not nan! (in 'real_data.stan', line 81, column 2 to column 53) (in 'real_data.stan', line 175, column 2 to line 180, column 4)\n",
      "\tException: Exception: normal_lpdf: Random variable is nan, but must be not nan! (in 'real_data.stan', line 81, column 2 to column 53) (in 'real_data.stan', line 175, column 2 to line 180, column 4)\n",
      "\tException: Exception: normal_lpdf: Random variable is nan, but must be not nan! (in 'real_data.stan', line 81, column 2 to column 53) (in 'real_data.stan', line 175, column 2 to line 180, column 4)\n",
      "\tException: Exception: normal_lpdf: Random variable is nan, but must be not nan! (in 'real_data.stan', line 81, column 2 to column 53) (in 'real_data.stan', line 175, column 2 to line 180, column 4)\n",
      "\tException: Exception: normal_lpdf: Random variable is nan, but must be not nan! (in 'real_data.stan', line 81, column 2 to column 53) (in 'real_data.stan', line 175, column 2 to line 180, column 4)\n",
      "Consider re-running with show_console=True if the above output is unclear!\n"
     ]
    },
    {
     "name": "stdout",
     "output_type": "stream",
     "text": [
      "\n"
     ]
    },
    {
     "name": "stderr",
     "output_type": "stream",
     "text": [
      "22:21:23 - cmdstanpy - WARNING - Some chains may have failed to converge.\n",
      "\tChain 1 had 9 divergent transitions (0.4%)\n",
      "\tChain 2 had 23 divergent transitions (1.1%)\n",
      "\tChain 3 had 5 divergent transitions (0.2%)\n",
      "\tChain 4 had 5 divergent transitions (0.2%)\n",
      "\tUse the \"diagnose()\" method on the CmdStanMCMC object to see further information.\n",
      "22:21:35 - cmdstanpy - INFO - CmdStan start processing\n"
     ]
    },
    {
     "name": "stdout",
     "output_type": "stream",
     "text": [
      "contest_5261 end\n",
      "contest_6322 begin\n"
     ]
    },
    {
     "data": {
      "application/vnd.jupyter.widget-view+json": {
       "model_id": "3a8c8228e6624c6584cdbad59bb07783",
       "version_major": 2,
       "version_minor": 0
      },
      "text/plain": [
       "chain 1 |          | 00:00 Status"
      ]
     },
     "metadata": {},
     "output_type": "display_data"
    },
    {
     "data": {
      "application/vnd.jupyter.widget-view+json": {
       "model_id": "5163ee39854c49db9aeb64940e940982",
       "version_major": 2,
       "version_minor": 0
      },
      "text/plain": [
       "chain 2 |          | 00:00 Status"
      ]
     },
     "metadata": {},
     "output_type": "display_data"
    },
    {
     "data": {
      "application/vnd.jupyter.widget-view+json": {
       "model_id": "4caec547e49249508c049242dd37003c",
       "version_major": 2,
       "version_minor": 0
      },
      "text/plain": [
       "chain 3 |          | 00:00 Status"
      ]
     },
     "metadata": {},
     "output_type": "display_data"
    },
    {
     "data": {
      "application/vnd.jupyter.widget-view+json": {
       "model_id": "4eb5d816e60a40acb50af92e30027317",
       "version_major": 2,
       "version_minor": 0
      },
      "text/plain": [
       "chain 4 |          | 00:00 Status"
      ]
     },
     "metadata": {},
     "output_type": "display_data"
    },
    {
     "name": "stdout",
     "output_type": "stream",
     "text": [
      "                                                                                                                                                                                                                                                                                                                                "
     ]
    },
    {
     "name": "stderr",
     "output_type": "stream",
     "text": [
      "22:22:39 - cmdstanpy - INFO - CmdStan done processing.\n",
      "22:22:39 - cmdstanpy - WARNING - Non-fatal error during sampling:\n",
      "Exception: Exception: normal_lpdf: Random variable is nan, but must be not nan! (in 'real_data.stan', line 81, column 2 to column 53) (in 'real_data.stan', line 175, column 2 to line 180, column 4)\n",
      "\tException: Exception: normal_lpdf: Random variable is nan, but must be not nan! (in 'real_data.stan', line 81, column 2 to column 53) (in 'real_data.stan', line 175, column 2 to line 180, column 4)\n",
      "\tException: Exception: normal_lpdf: Random variable is nan, but must be not nan! (in 'real_data.stan', line 81, column 2 to column 53) (in 'real_data.stan', line 175, column 2 to line 180, column 4)\n",
      "\tException: Exception: normal_lpdf: Random variable is nan, but must be not nan! (in 'real_data.stan', line 81, column 2 to column 53) (in 'real_data.stan', line 175, column 2 to line 180, column 4)\n",
      "Exception: Exception: normal_lpdf: Random variable is nan, but must be not nan! (in 'real_data.stan', line 81, column 2 to column 53) (in 'real_data.stan', line 175, column 2 to line 180, column 4)\n",
      "\tException: Exception: normal_lpdf: Random variable is nan, but must be not nan! (in 'real_data.stan', line 81, column 2 to column 53) (in 'real_data.stan', line 175, column 2 to line 180, column 4)\n",
      "\tException: Exception: normal_lpdf: Random variable is nan, but must be not nan! (in 'real_data.stan', line 81, column 2 to column 53) (in 'real_data.stan', line 175, column 2 to line 180, column 4)\n",
      "\tException: Exception: normal_lpdf: Random variable is nan, but must be not nan! (in 'real_data.stan', line 81, column 2 to column 53) (in 'real_data.stan', line 175, column 2 to line 180, column 4)\n",
      "\tException: Exception: normal_lpdf: Random variable is nan, but must be not nan! (in 'real_data.stan', line 81, column 2 to column 53) (in 'real_data.stan', line 175, column 2 to line 180, column 4)\n",
      "\tException: Exception: normal_lpdf: Random variable is nan, but must be not nan! (in 'real_data.stan', line 81, column 2 to column 53) (in 'real_data.stan', line 175, column 2 to line 180, column 4)\n",
      "Exception: Exception: normal_lpdf: Random variable is nan, but must be not nan! (in 'real_data.stan', line 81, column 2 to column 53) (in 'real_data.stan', line 175, column 2 to line 180, column 4)\n",
      "\tException: Exception: normal_lpdf: Random variable is nan, but must be not nan! (in 'real_data.stan', line 81, column 2 to column 53) (in 'real_data.stan', line 175, column 2 to line 180, column 4)\n",
      "\tException: Exception: normal_lpdf: Random variable is nan, but must be not nan! (in 'real_data.stan', line 81, column 2 to column 53) (in 'real_data.stan', line 175, column 2 to line 180, column 4)\n",
      "\tException: Exception: normal_lpdf: Random variable is nan, but must be not nan! (in 'real_data.stan', line 81, column 2 to column 53) (in 'real_data.stan', line 175, column 2 to line 180, column 4)\n",
      "\tException: Exception: normal_lpdf: Random variable is nan, but must be not nan! (in 'real_data.stan', line 81, column 2 to column 53) (in 'real_data.stan', line 175, column 2 to line 180, column 4)\n",
      "Exception: Exception: normal_lpdf: Random variable is nan, but must be not nan! (in 'real_data.stan', line 81, column 2 to column 53) (in 'real_data.stan', line 175, column 2 to line 180, column 4)\n",
      "\tException: Exception: normal_lpdf: Random variable is nan, but must be not nan! (in 'real_data.stan', line 81, column 2 to column 53) (in 'real_data.stan', line 175, column 2 to line 180, column 4)\n",
      "\tException: Exception: normal_lpdf: Random variable is nan, but must be not nan! (in 'real_data.stan', line 81, column 2 to column 53) (in 'real_data.stan', line 175, column 2 to line 180, column 4)\n",
      "\tException: Exception: normal_lpdf: Random variable is nan, but must be not nan! (in 'real_data.stan', line 81, column 2 to column 53) (in 'real_data.stan', line 175, column 2 to line 180, column 4)\n",
      "\tException: Exception: normal_lpdf: Random variable is nan, but must be not nan! (in 'real_data.stan', line 81, column 2 to column 53) (in 'real_data.stan', line 175, column 2 to line 180, column 4)\n",
      "\tException: Exception: normal_lpdf: Random variable is nan, but must be not nan! (in 'real_data.stan', line 81, column 2 to column 53) (in 'real_data.stan', line 175, column 2 to line 180, column 4)\n",
      "Consider re-running with show_console=True if the above output is unclear!\n"
     ]
    },
    {
     "name": "stdout",
     "output_type": "stream",
     "text": [
      "\n"
     ]
    },
    {
     "name": "stderr",
     "output_type": "stream",
     "text": [
      "22:22:41 - cmdstanpy - WARNING - Some chains may have failed to converge.\n",
      "\tChain 4 had 2 divergent transitions (0.1%)\n",
      "\tUse the \"diagnose()\" method on the CmdStanMCMC object to see further information.\n",
      "22:22:46 - cmdstanpy - INFO - CmdStan start processing\n"
     ]
    },
    {
     "name": "stdout",
     "output_type": "stream",
     "text": [
      "contest_6322 end\n",
      "contest_8078 begin\n"
     ]
    },
    {
     "data": {
      "application/vnd.jupyter.widget-view+json": {
       "model_id": "fd85ab1f99dd44d4a76c40b19105cf63",
       "version_major": 2,
       "version_minor": 0
      },
      "text/plain": [
       "chain 1 |          | 00:00 Status"
      ]
     },
     "metadata": {},
     "output_type": "display_data"
    },
    {
     "data": {
      "application/vnd.jupyter.widget-view+json": {
       "model_id": "9835a37ec7834485aec81b11f6ebee93",
       "version_major": 2,
       "version_minor": 0
      },
      "text/plain": [
       "chain 2 |          | 00:00 Status"
      ]
     },
     "metadata": {},
     "output_type": "display_data"
    },
    {
     "data": {
      "application/vnd.jupyter.widget-view+json": {
       "model_id": "8938e728d2ee452686f06492ad9c3aa3",
       "version_major": 2,
       "version_minor": 0
      },
      "text/plain": [
       "chain 3 |          | 00:00 Status"
      ]
     },
     "metadata": {},
     "output_type": "display_data"
    },
    {
     "data": {
      "application/vnd.jupyter.widget-view+json": {
       "model_id": "31c67418b0954ed1a5278b03bedae80a",
       "version_major": 2,
       "version_minor": 0
      },
      "text/plain": [
       "chain 4 |          | 00:00 Status"
      ]
     },
     "metadata": {},
     "output_type": "display_data"
    },
    {
     "name": "stdout",
     "output_type": "stream",
     "text": [
      "                                                                                                                                                                                                                                                                                                                                "
     ]
    },
    {
     "name": "stderr",
     "output_type": "stream",
     "text": [
      "22:24:15 - cmdstanpy - INFO - CmdStan done processing.\n",
      "22:24:15 - cmdstanpy - WARNING - Non-fatal error during sampling:\n",
      "Exception: Exception: normal_lpdf: Random variable is nan, but must be not nan! (in 'real_data.stan', line 81, column 2 to column 53) (in 'real_data.stan', line 175, column 2 to line 180, column 4)\n",
      "\tException: Exception: normal_lpdf: Random variable is nan, but must be not nan! (in 'real_data.stan', line 81, column 2 to column 53) (in 'real_data.stan', line 175, column 2 to line 180, column 4)\n",
      "\tException: Exception: normal_lpdf: Random variable is nan, but must be not nan! (in 'real_data.stan', line 81, column 2 to column 53) (in 'real_data.stan', line 175, column 2 to line 180, column 4)\n",
      "\tException: Exception: normal_lpdf: Random variable is nan, but must be not nan! (in 'real_data.stan', line 81, column 2 to column 53) (in 'real_data.stan', line 175, column 2 to line 180, column 4)\n",
      "Exception: Exception: normal_lpdf: Random variable is nan, but must be not nan! (in 'real_data.stan', line 81, column 2 to column 53) (in 'real_data.stan', line 175, column 2 to line 180, column 4)\n",
      "Exception: Exception: normal_lpdf: Random variable is nan, but must be not nan! (in 'real_data.stan', line 81, column 2 to column 53) (in 'real_data.stan', line 175, column 2 to line 180, column 4)\n",
      "\tException: Exception: normal_lpdf: Random variable is nan, but must be not nan! (in 'real_data.stan', line 81, column 2 to column 53) (in 'real_data.stan', line 175, column 2 to line 180, column 4)\n",
      "\tException: Exception: normal_lpdf: Random variable is nan, but must be not nan! (in 'real_data.stan', line 81, column 2 to column 53) (in 'real_data.stan', line 175, column 2 to line 180, column 4)\n",
      "\tException: Exception: normal_lpdf: Random variable is nan, but must be not nan! (in 'real_data.stan', line 81, column 2 to column 53) (in 'real_data.stan', line 175, column 2 to line 180, column 4)\n",
      "Exception: Exception: normal_lpdf: Random variable is nan, but must be not nan! (in 'real_data.stan', line 81, column 2 to column 53) (in 'real_data.stan', line 175, column 2 to line 180, column 4)\n",
      "\tException: Exception: normal_lpdf: Random variable is nan, but must be not nan! (in 'real_data.stan', line 81, column 2 to column 53) (in 'real_data.stan', line 175, column 2 to line 180, column 4)\n",
      "\tException: Exception: normal_lpdf: Random variable is nan, but must be not nan! (in 'real_data.stan', line 81, column 2 to column 53) (in 'real_data.stan', line 175, column 2 to line 180, column 4)\n",
      "\tException: Exception: normal_lpdf: Random variable is nan, but must be not nan! (in 'real_data.stan', line 81, column 2 to column 53) (in 'real_data.stan', line 175, column 2 to line 180, column 4)\n",
      "Consider re-running with show_console=True if the above output is unclear!\n"
     ]
    },
    {
     "name": "stdout",
     "output_type": "stream",
     "text": [
      "\n"
     ]
    },
    {
     "name": "stderr",
     "output_type": "stream",
     "text": [
      "22:24:25 - cmdstanpy - INFO - CmdStan start processing\n"
     ]
    },
    {
     "name": "stdout",
     "output_type": "stream",
     "text": [
      "contest_8078 end\n",
      "contest_23249 begin\n"
     ]
    },
    {
     "data": {
      "application/vnd.jupyter.widget-view+json": {
       "model_id": "8fd1ed4226ef47c09b45611d18096b9a",
       "version_major": 2,
       "version_minor": 0
      },
      "text/plain": [
       "chain 1 |          | 00:00 Status"
      ]
     },
     "metadata": {},
     "output_type": "display_data"
    },
    {
     "data": {
      "application/vnd.jupyter.widget-view+json": {
       "model_id": "18074a64368447559530066c39e4f183",
       "version_major": 2,
       "version_minor": 0
      },
      "text/plain": [
       "chain 2 |          | 00:00 Status"
      ]
     },
     "metadata": {},
     "output_type": "display_data"
    },
    {
     "data": {
      "application/vnd.jupyter.widget-view+json": {
       "model_id": "8dee0e006c0c4ddb90a6b6c759d1db66",
       "version_major": 2,
       "version_minor": 0
      },
      "text/plain": [
       "chain 3 |          | 00:00 Status"
      ]
     },
     "metadata": {},
     "output_type": "display_data"
    },
    {
     "data": {
      "application/vnd.jupyter.widget-view+json": {
       "model_id": "418f0b08092b4ae081c642de58931991",
       "version_major": 2,
       "version_minor": 0
      },
      "text/plain": [
       "chain 4 |          | 00:00 Status"
      ]
     },
     "metadata": {},
     "output_type": "display_data"
    },
    {
     "name": "stdout",
     "output_type": "stream",
     "text": [
      "                                                                                                                                                                                                                                                                                                                                "
     ]
    },
    {
     "name": "stderr",
     "output_type": "stream",
     "text": [
      "22:26:28 - cmdstanpy - INFO - CmdStan done processing.\n",
      "22:26:28 - cmdstanpy - WARNING - Non-fatal error during sampling:\n",
      "Exception: Exception: normal_lpdf: Random variable is nan, but must be not nan! (in 'real_data.stan', line 81, column 2 to column 53) (in 'real_data.stan', line 175, column 2 to line 180, column 4)\n",
      "\tException: Exception: normal_lpdf: Random variable is nan, but must be not nan! (in 'real_data.stan', line 81, column 2 to column 53) (in 'real_data.stan', line 175, column 2 to line 180, column 4)\n",
      "Exception: Exception: normal_lpdf: Random variable is nan, but must be not nan! (in 'real_data.stan', line 81, column 2 to column 53) (in 'real_data.stan', line 175, column 2 to line 180, column 4)\n",
      "\tException: Exception: normal_lpdf: Random variable is nan, but must be not nan! (in 'real_data.stan', line 81, column 2 to column 53) (in 'real_data.stan', line 175, column 2 to line 180, column 4)\n",
      "Exception: Exception: normal_lpdf: Random variable is nan, but must be not nan! (in 'real_data.stan', line 81, column 2 to column 53) (in 'real_data.stan', line 175, column 2 to line 180, column 4)\n",
      "\tException: Exception: normal_lpdf: Random variable is nan, but must be not nan! (in 'real_data.stan', line 81, column 2 to column 53) (in 'real_data.stan', line 175, column 2 to line 180, column 4)\n",
      "\tException: Exception: normal_lpdf: Random variable is nan, but must be not nan! (in 'real_data.stan', line 81, column 2 to column 53) (in 'real_data.stan', line 175, column 2 to line 180, column 4)\n",
      "\tException: Exception: normal_lpdf: Random variable is nan, but must be not nan! (in 'real_data.stan', line 81, column 2 to column 53) (in 'real_data.stan', line 175, column 2 to line 180, column 4)\n",
      "Exception: Exception: normal_lpdf: Random variable is nan, but must be not nan! (in 'real_data.stan', line 81, column 2 to column 53) (in 'real_data.stan', line 175, column 2 to line 180, column 4)\n",
      "Consider re-running with show_console=True if the above output is unclear!\n"
     ]
    },
    {
     "name": "stdout",
     "output_type": "stream",
     "text": [
      "\n"
     ]
    },
    {
     "name": "stderr",
     "output_type": "stream",
     "text": [
      "22:26:30 - cmdstanpy - WARNING - Some chains may have failed to converge.\n",
      "\tChain 1 had 16 divergent transitions (0.8%)\n",
      "\tChain 2 had 35 divergent transitions (1.8%)\n",
      "\tChain 3 had 14 divergent transitions (0.7%)\n",
      "\tChain 4 had 18 divergent transitions (0.9%)\n",
      "\tUse the \"diagnose()\" method on the CmdStanMCMC object to see further information.\n",
      "22:26:38 - cmdstanpy - INFO - CmdStan start processing\n"
     ]
    },
    {
     "name": "stdout",
     "output_type": "stream",
     "text": [
      "contest_23249 end\n",
      "contest_7162 begin\n"
     ]
    },
    {
     "data": {
      "application/vnd.jupyter.widget-view+json": {
       "model_id": "9afca460e5c44b57b1e493be25860730",
       "version_major": 2,
       "version_minor": 0
      },
      "text/plain": [
       "chain 1 |          | 00:00 Status"
      ]
     },
     "metadata": {},
     "output_type": "display_data"
    },
    {
     "data": {
      "application/vnd.jupyter.widget-view+json": {
       "model_id": "3ad26eecfc4e4f5cb4bee4d8034c430e",
       "version_major": 2,
       "version_minor": 0
      },
      "text/plain": [
       "chain 2 |          | 00:00 Status"
      ]
     },
     "metadata": {},
     "output_type": "display_data"
    },
    {
     "data": {
      "application/vnd.jupyter.widget-view+json": {
       "model_id": "95d31d4a436f4ee9aa3247719eeeb6a1",
       "version_major": 2,
       "version_minor": 0
      },
      "text/plain": [
       "chain 3 |          | 00:00 Status"
      ]
     },
     "metadata": {},
     "output_type": "display_data"
    },
    {
     "data": {
      "application/vnd.jupyter.widget-view+json": {
       "model_id": "0adf9a7f631a4f46a1483461e9fab4b1",
       "version_major": 2,
       "version_minor": 0
      },
      "text/plain": [
       "chain 4 |          | 00:00 Status"
      ]
     },
     "metadata": {},
     "output_type": "display_data"
    },
    {
     "name": "stdout",
     "output_type": "stream",
     "text": [
      "                                                                                                                                                                                                                                                                                                                                "
     ]
    },
    {
     "name": "stderr",
     "output_type": "stream",
     "text": [
      "22:28:50 - cmdstanpy - INFO - CmdStan done processing.\n",
      "22:28:50 - cmdstanpy - WARNING - Non-fatal error during sampling:\n",
      "Exception: Exception: normal_lpdf: Random variable is nan, but must be not nan! (in 'real_data.stan', line 81, column 2 to column 53) (in 'real_data.stan', line 175, column 2 to line 180, column 4)\n",
      "\tException: Exception: normal_lpdf: Random variable is nan, but must be not nan! (in 'real_data.stan', line 81, column 2 to column 53) (in 'real_data.stan', line 175, column 2 to line 180, column 4)\n",
      "\tException: Exception: normal_lpdf: Random variable is nan, but must be not nan! (in 'real_data.stan', line 81, column 2 to column 53) (in 'real_data.stan', line 175, column 2 to line 180, column 4)\n",
      "Exception: Exception: normal_lpdf: Random variable is nan, but must be not nan! (in 'real_data.stan', line 81, column 2 to column 53) (in 'real_data.stan', line 175, column 2 to line 180, column 4)\n",
      "\tException: Exception: normal_lpdf: Random variable is nan, but must be not nan! (in 'real_data.stan', line 81, column 2 to column 53) (in 'real_data.stan', line 175, column 2 to line 180, column 4)\n",
      "Exception: Exception: normal_lpdf: Random variable is nan, but must be not nan! (in 'real_data.stan', line 81, column 2 to column 53) (in 'real_data.stan', line 175, column 2 to line 180, column 4)\n",
      "\tException: Exception: normal_lpdf: Random variable is nan, but must be not nan! (in 'real_data.stan', line 81, column 2 to column 53) (in 'real_data.stan', line 175, column 2 to line 180, column 4)\n",
      "\tException: Exception: normal_lpdf: Random variable is nan, but must be not nan! (in 'real_data.stan', line 81, column 2 to column 53) (in 'real_data.stan', line 175, column 2 to line 180, column 4)\n",
      "\tException: Exception: normal_lpdf: Random variable is nan, but must be not nan! (in 'real_data.stan', line 81, column 2 to column 53) (in 'real_data.stan', line 175, column 2 to line 180, column 4)\n",
      "Consider re-running with show_console=True if the above output is unclear!\n"
     ]
    },
    {
     "name": "stdout",
     "output_type": "stream",
     "text": [
      "\n"
     ]
    },
    {
     "name": "stderr",
     "output_type": "stream",
     "text": [
      "22:29:04 - cmdstanpy - INFO - CmdStan start processing\n"
     ]
    },
    {
     "name": "stdout",
     "output_type": "stream",
     "text": [
      "contest_7162 end\n",
      "contest_3064 begin\n"
     ]
    },
    {
     "data": {
      "application/vnd.jupyter.widget-view+json": {
       "model_id": "7c5cb25480364e9da3f54253ed5c5a67",
       "version_major": 2,
       "version_minor": 0
      },
      "text/plain": [
       "chain 1 |          | 00:00 Status"
      ]
     },
     "metadata": {},
     "output_type": "display_data"
    },
    {
     "data": {
      "application/vnd.jupyter.widget-view+json": {
       "model_id": "5bed95e62f114a6fb4d33ca44e85b58e",
       "version_major": 2,
       "version_minor": 0
      },
      "text/plain": [
       "chain 2 |          | 00:00 Status"
      ]
     },
     "metadata": {},
     "output_type": "display_data"
    },
    {
     "data": {
      "application/vnd.jupyter.widget-view+json": {
       "model_id": "9cf3b96450af45a9ac7ac92262d40a85",
       "version_major": 2,
       "version_minor": 0
      },
      "text/plain": [
       "chain 3 |          | 00:00 Status"
      ]
     },
     "metadata": {},
     "output_type": "display_data"
    },
    {
     "data": {
      "application/vnd.jupyter.widget-view+json": {
       "model_id": "de63d461d958474aa7d6d7bc4d47fcd1",
       "version_major": 2,
       "version_minor": 0
      },
      "text/plain": [
       "chain 4 |          | 00:00 Status"
      ]
     },
     "metadata": {},
     "output_type": "display_data"
    },
    {
     "name": "stdout",
     "output_type": "stream",
     "text": [
      "                                                                                                                                                                                                                                                                                                                                "
     ]
    },
    {
     "name": "stderr",
     "output_type": "stream",
     "text": [
      "22:29:25 - cmdstanpy - INFO - CmdStan done processing.\n",
      "22:29:25 - cmdstanpy - WARNING - Non-fatal error during sampling:\n",
      "Exception: Exception: normal_lpdf: Random variable is nan, but must be not nan! (in 'real_data.stan', line 81, column 2 to column 53) (in 'real_data.stan', line 175, column 2 to line 180, column 4)\n",
      "\tException: Exception: normal_lpdf: Random variable is nan, but must be not nan! (in 'real_data.stan', line 81, column 2 to column 53) (in 'real_data.stan', line 175, column 2 to line 180, column 4)\n",
      "\tException: Exception: normal_lpdf: Random variable is nan, but must be not nan! (in 'real_data.stan', line 81, column 2 to column 53) (in 'real_data.stan', line 175, column 2 to line 180, column 4)\n",
      "Exception: Exception: normal_lpdf: Random variable is nan, but must be not nan! (in 'real_data.stan', line 81, column 2 to column 53) (in 'real_data.stan', line 175, column 2 to line 180, column 4)\n",
      "Exception: Exception: normal_lpdf: Random variable is nan, but must be not nan! (in 'real_data.stan', line 81, column 2 to column 53) (in 'real_data.stan', line 175, column 2 to line 180, column 4)\n",
      "\tException: Exception: normal_lpdf: Random variable is nan, but must be not nan! (in 'real_data.stan', line 81, column 2 to column 53) (in 'real_data.stan', line 175, column 2 to line 180, column 4)\n",
      "Exception: Exception: normal_lpdf: Random variable is nan, but must be not nan! (in 'real_data.stan', line 81, column 2 to column 53) (in 'real_data.stan', line 175, column 2 to line 180, column 4)\n",
      "\tException: Exception: normal_lpdf: Random variable is nan, but must be not nan! (in 'real_data.stan', line 81, column 2 to column 53) (in 'real_data.stan', line 175, column 2 to line 180, column 4)\n",
      "Consider re-running with show_console=True if the above output is unclear!\n"
     ]
    },
    {
     "name": "stdout",
     "output_type": "stream",
     "text": [
      "\n"
     ]
    },
    {
     "name": "stderr",
     "output_type": "stream",
     "text": [
      "22:29:28 - cmdstanpy - INFO - CmdStan start processing\n"
     ]
    },
    {
     "name": "stdout",
     "output_type": "stream",
     "text": [
      "contest_3064 end\n",
      "contest_4488 begin\n"
     ]
    },
    {
     "data": {
      "application/vnd.jupyter.widget-view+json": {
       "model_id": "98f506e47c7c4d339e6076eed37b095f",
       "version_major": 2,
       "version_minor": 0
      },
      "text/plain": [
       "chain 1 |          | 00:00 Status"
      ]
     },
     "metadata": {},
     "output_type": "display_data"
    },
    {
     "data": {
      "application/vnd.jupyter.widget-view+json": {
       "model_id": "5c0ae6014c4d4176a045ff9994970208",
       "version_major": 2,
       "version_minor": 0
      },
      "text/plain": [
       "chain 2 |          | 00:00 Status"
      ]
     },
     "metadata": {},
     "output_type": "display_data"
    },
    {
     "data": {
      "application/vnd.jupyter.widget-view+json": {
       "model_id": "8f01fbc4abd34cc1873276958e528c4d",
       "version_major": 2,
       "version_minor": 0
      },
      "text/plain": [
       "chain 3 |          | 00:00 Status"
      ]
     },
     "metadata": {},
     "output_type": "display_data"
    },
    {
     "data": {
      "application/vnd.jupyter.widget-view+json": {
       "model_id": "ff35a8ec7f0e46b5b252d381c71ed64f",
       "version_major": 2,
       "version_minor": 0
      },
      "text/plain": [
       "chain 4 |          | 00:00 Status"
      ]
     },
     "metadata": {},
     "output_type": "display_data"
    },
    {
     "name": "stdout",
     "output_type": "stream",
     "text": [
      "                                                                                                                                                                                                                                                                                                                                "
     ]
    },
    {
     "name": "stderr",
     "output_type": "stream",
     "text": [
      "22:30:22 - cmdstanpy - INFO - CmdStan done processing.\n",
      "22:30:22 - cmdstanpy - WARNING - Non-fatal error during sampling:\n",
      "Exception: Exception: normal_lpdf: Random variable is nan, but must be not nan! (in 'real_data.stan', line 81, column 2 to column 53) (in 'real_data.stan', line 175, column 2 to line 180, column 4)\n",
      "\tException: Exception: normal_lpdf: Random variable is nan, but must be not nan! (in 'real_data.stan', line 81, column 2 to column 53) (in 'real_data.stan', line 175, column 2 to line 180, column 4)\n",
      "Exception: Exception: normal_lpdf: Random variable is nan, but must be not nan! (in 'real_data.stan', line 81, column 2 to column 53) (in 'real_data.stan', line 175, column 2 to line 180, column 4)\n",
      "\tException: Exception: normal_lpdf: Random variable is nan, but must be not nan! (in 'real_data.stan', line 81, column 2 to column 53) (in 'real_data.stan', line 175, column 2 to line 180, column 4)\n",
      "\tException: Exception: normal_lpdf: Random variable is nan, but must be not nan! (in 'real_data.stan', line 81, column 2 to column 53) (in 'real_data.stan', line 175, column 2 to line 180, column 4)\n",
      "\tException: Exception: normal_lpdf: Random variable is nan, but must be not nan! (in 'real_data.stan', line 81, column 2 to column 53) (in 'real_data.stan', line 175, column 2 to line 180, column 4)\n",
      "Exception: Exception: normal_lpdf: Random variable is nan, but must be not nan! (in 'real_data.stan', line 81, column 2 to column 53) (in 'real_data.stan', line 175, column 2 to line 180, column 4)\n",
      "\tException: Exception: normal_lpdf: Random variable is nan, but must be not nan! (in 'real_data.stan', line 81, column 2 to column 53) (in 'real_data.stan', line 175, column 2 to line 180, column 4)\n",
      "Exception: Exception: normal_lpdf: Random variable is nan, but must be not nan! (in 'real_data.stan', line 81, column 2 to column 53) (in 'real_data.stan', line 175, column 2 to line 180, column 4)\n",
      "\tException: Exception: normal_lpdf: Random variable is nan, but must be not nan! (in 'real_data.stan', line 81, column 2 to column 53) (in 'real_data.stan', line 175, column 2 to line 180, column 4)\n",
      "\tException: Exception: normal_lpdf: Random variable is nan, but must be not nan! (in 'real_data.stan', line 81, column 2 to column 53) (in 'real_data.stan', line 175, column 2 to line 180, column 4)\n",
      "\tException: Exception: normal_lpdf: Random variable is nan, but must be not nan! (in 'real_data.stan', line 81, column 2 to column 53) (in 'real_data.stan', line 175, column 2 to line 180, column 4)\n",
      "Consider re-running with show_console=True if the above output is unclear!\n"
     ]
    },
    {
     "name": "stdout",
     "output_type": "stream",
     "text": [
      "\n"
     ]
    },
    {
     "name": "stderr",
     "output_type": "stream",
     "text": [
      "22:30:28 - cmdstanpy - INFO - CmdStan start processing\n"
     ]
    },
    {
     "name": "stdout",
     "output_type": "stream",
     "text": [
      "contest_4488 end\n",
      "contest_3526 begin\n"
     ]
    },
    {
     "data": {
      "application/vnd.jupyter.widget-view+json": {
       "model_id": "78f967bac6aa4c0eb07f6e1e4ded643e",
       "version_major": 2,
       "version_minor": 0
      },
      "text/plain": [
       "chain 1 |          | 00:00 Status"
      ]
     },
     "metadata": {},
     "output_type": "display_data"
    },
    {
     "data": {
      "application/vnd.jupyter.widget-view+json": {
       "model_id": "47f22ea6115c4a00ad2e022d68b595e0",
       "version_major": 2,
       "version_minor": 0
      },
      "text/plain": [
       "chain 2 |          | 00:00 Status"
      ]
     },
     "metadata": {},
     "output_type": "display_data"
    },
    {
     "data": {
      "application/vnd.jupyter.widget-view+json": {
       "model_id": "81b5c47b431c4e13861f7eb8543f518e",
       "version_major": 2,
       "version_minor": 0
      },
      "text/plain": [
       "chain 3 |          | 00:00 Status"
      ]
     },
     "metadata": {},
     "output_type": "display_data"
    },
    {
     "data": {
      "application/vnd.jupyter.widget-view+json": {
       "model_id": "357a6323f517473d926d41d74b04bde4",
       "version_major": 2,
       "version_minor": 0
      },
      "text/plain": [
       "chain 4 |          | 00:00 Status"
      ]
     },
     "metadata": {},
     "output_type": "display_data"
    },
    {
     "name": "stdout",
     "output_type": "stream",
     "text": [
      "                                                                                                                                                                                                                                                                                                                                "
     ]
    },
    {
     "name": "stderr",
     "output_type": "stream",
     "text": [
      "22:43:59 - cmdstanpy - INFO - CmdStan done processing.\n",
      "22:43:59 - cmdstanpy - WARNING - Non-fatal error during sampling:\n",
      "Exception: Exception: normal_lpdf: Random variable is nan, but must be not nan! (in 'real_data.stan', line 81, column 2 to column 53) (in 'real_data.stan', line 175, column 2 to line 180, column 4)\n",
      "\tException: Exception: normal_lpdf: Random variable is nan, but must be not nan! (in 'real_data.stan', line 81, column 2 to column 53) (in 'real_data.stan', line 175, column 2 to line 180, column 4)\n",
      "Exception: Exception: normal_lpdf: Random variable is nan, but must be not nan! (in 'real_data.stan', line 81, column 2 to column 53) (in 'real_data.stan', line 175, column 2 to line 180, column 4)\n",
      "\tException: Exception: normal_lpdf: Random variable is nan, but must be not nan! (in 'real_data.stan', line 81, column 2 to column 53) (in 'real_data.stan', line 175, column 2 to line 180, column 4)\n",
      "Exception: Exception: normal_lpdf: Random variable is nan, but must be not nan! (in 'real_data.stan', line 81, column 2 to column 53) (in 'real_data.stan', line 175, column 2 to line 180, column 4)\n",
      "\tException: Exception: normal_lpdf: Random variable is nan, but must be not nan! (in 'real_data.stan', line 81, column 2 to column 53) (in 'real_data.stan', line 175, column 2 to line 180, column 4)\n",
      "\tException: Exception: normal_lpdf: Random variable is nan, but must be not nan! (in 'real_data.stan', line 81, column 2 to column 53) (in 'real_data.stan', line 175, column 2 to line 180, column 4)\n",
      "\tException: Exception: normal_lpdf: Random variable is nan, but must be not nan! (in 'real_data.stan', line 81, column 2 to column 53) (in 'real_data.stan', line 175, column 2 to line 180, column 4)\n",
      "\tException: Exception: normal_lpdf: Random variable is nan, but must be not nan! (in 'real_data.stan', line 81, column 2 to column 53) (in 'real_data.stan', line 175, column 2 to line 180, column 4)\n",
      "\tException: Exception: normal_lpdf: Random variable is nan, but must be not nan! (in 'real_data.stan', line 81, column 2 to column 53) (in 'real_data.stan', line 175, column 2 to line 180, column 4)\n",
      "Exception: Exception: normal_lpdf: Random variable is nan, but must be not nan! (in 'real_data.stan', line 81, column 2 to column 53) (in 'real_data.stan', line 175, column 2 to line 180, column 4)\n",
      "\tException: Exception: normal_lpdf: Random variable is nan, but must be not nan! (in 'real_data.stan', line 81, column 2 to column 53) (in 'real_data.stan', line 175, column 2 to line 180, column 4)\n",
      "\tException: Exception: normal_lpdf: Random variable is nan, but must be not nan! (in 'real_data.stan', line 81, column 2 to column 53) (in 'real_data.stan', line 175, column 2 to line 180, column 4)\n",
      "\tException: Exception: normal_lpdf: Random variable is nan, but must be not nan! (in 'real_data.stan', line 81, column 2 to column 53) (in 'real_data.stan', line 175, column 2 to line 180, column 4)\n",
      "\tException: Exception: normal_lpdf: Random variable is nan, but must be not nan! (in 'real_data.stan', line 81, column 2 to column 53) (in 'real_data.stan', line 175, column 2 to line 180, column 4)\n",
      "\tException: Exception: normal_lpdf: Random variable is nan, but must be not nan! (in 'real_data.stan', line 81, column 2 to column 53) (in 'real_data.stan', line 175, column 2 to line 180, column 4)\n",
      "\tException: Exception: normal_lpdf: Random variable is nan, but must be not nan! (in 'real_data.stan', line 81, column 2 to column 53) (in 'real_data.stan', line 175, column 2 to line 180, column 4)\n",
      "Consider re-running with show_console=True if the above output is unclear!\n"
     ]
    },
    {
     "name": "stdout",
     "output_type": "stream",
     "text": [
      "\n"
     ]
    },
    {
     "name": "stderr",
     "output_type": "stream",
     "text": [
      "22:44:01 - cmdstanpy - WARNING - Some chains may have failed to converge.\n",
      "\tChain 1 had 16 divergent transitions (0.8%)\n",
      "\tChain 2 had 26 divergent transitions (1.3%)\n",
      "\tChain 3 had 20 divergent transitions (1.0%)\n",
      "\tChain 4 had 15 divergent transitions (0.8%)\n",
      "\tUse the \"diagnose()\" method on the CmdStanMCMC object to see further information.\n",
      "22:44:08 - cmdstanpy - INFO - CmdStan start processing\n"
     ]
    },
    {
     "name": "stdout",
     "output_type": "stream",
     "text": [
      "contest_3526 end\n",
      "contest_3926 begin\n"
     ]
    },
    {
     "data": {
      "application/vnd.jupyter.widget-view+json": {
       "model_id": "f8bfc3d0a455419e8eadecb324a900a9",
       "version_major": 2,
       "version_minor": 0
      },
      "text/plain": [
       "chain 1 |          | 00:00 Status"
      ]
     },
     "metadata": {},
     "output_type": "display_data"
    },
    {
     "data": {
      "application/vnd.jupyter.widget-view+json": {
       "model_id": "e328f29ae4cc43f68ca7630b867b9ebc",
       "version_major": 2,
       "version_minor": 0
      },
      "text/plain": [
       "chain 2 |          | 00:00 Status"
      ]
     },
     "metadata": {},
     "output_type": "display_data"
    },
    {
     "data": {
      "application/vnd.jupyter.widget-view+json": {
       "model_id": "8b4a0065e24c42c28b3a90b15780c4c3",
       "version_major": 2,
       "version_minor": 0
      },
      "text/plain": [
       "chain 3 |          | 00:00 Status"
      ]
     },
     "metadata": {},
     "output_type": "display_data"
    },
    {
     "data": {
      "application/vnd.jupyter.widget-view+json": {
       "model_id": "c9ef5f630464412d90a12b019d4033e3",
       "version_major": 2,
       "version_minor": 0
      },
      "text/plain": [
       "chain 4 |          | 00:00 Status"
      ]
     },
     "metadata": {},
     "output_type": "display_data"
    },
    {
     "name": "stdout",
     "output_type": "stream",
     "text": [
      "                                                                                                                                                                                                                                                                                                                                "
     ]
    },
    {
     "name": "stderr",
     "output_type": "stream",
     "text": [
      "22:45:03 - cmdstanpy - INFO - CmdStan done processing.\n",
      "22:45:03 - cmdstanpy - WARNING - Non-fatal error during sampling:\n",
      "Exception: Exception: normal_lpdf: Random variable is nan, but must be not nan! (in 'real_data.stan', line 81, column 2 to column 53) (in 'real_data.stan', line 175, column 2 to line 180, column 4)\n",
      "\tException: Exception: normal_lpdf: Random variable is nan, but must be not nan! (in 'real_data.stan', line 81, column 2 to column 53) (in 'real_data.stan', line 175, column 2 to line 180, column 4)\n",
      "Exception: Exception: normal_lpdf: Random variable is nan, but must be not nan! (in 'real_data.stan', line 81, column 2 to column 53) (in 'real_data.stan', line 175, column 2 to line 180, column 4)\n",
      "Exception: Exception: normal_lpdf: Random variable is nan, but must be not nan! (in 'real_data.stan', line 81, column 2 to column 53) (in 'real_data.stan', line 175, column 2 to line 180, column 4)\n",
      "\tException: Exception: normal_lpdf: Random variable is nan, but must be not nan! (in 'real_data.stan', line 81, column 2 to column 53) (in 'real_data.stan', line 175, column 2 to line 180, column 4)\n",
      "Exception: Exception: normal_lpdf: Random variable is nan, but must be not nan! (in 'real_data.stan', line 81, column 2 to column 53) (in 'real_data.stan', line 175, column 2 to line 180, column 4)\n",
      "\tException: Exception: normal_lpdf: Random variable is nan, but must be not nan! (in 'real_data.stan', line 81, column 2 to column 53) (in 'real_data.stan', line 175, column 2 to line 180, column 4)\n",
      "Consider re-running with show_console=True if the above output is unclear!\n"
     ]
    },
    {
     "name": "stdout",
     "output_type": "stream",
     "text": [
      "\n"
     ]
    },
    {
     "name": "stderr",
     "output_type": "stream",
     "text": [
      "22:45:09 - cmdstanpy - INFO - CmdStan start processing\n"
     ]
    },
    {
     "name": "stdout",
     "output_type": "stream",
     "text": [
      "contest_3926 end\n",
      "contest_8540 begin\n"
     ]
    },
    {
     "data": {
      "application/vnd.jupyter.widget-view+json": {
       "model_id": "3037a94e25ad4715bf434017f7c2c436",
       "version_major": 2,
       "version_minor": 0
      },
      "text/plain": [
       "chain 1 |          | 00:00 Status"
      ]
     },
     "metadata": {},
     "output_type": "display_data"
    },
    {
     "data": {
      "application/vnd.jupyter.widget-view+json": {
       "model_id": "3a90cf599da44565a6729e3520235033",
       "version_major": 2,
       "version_minor": 0
      },
      "text/plain": [
       "chain 2 |          | 00:00 Status"
      ]
     },
     "metadata": {},
     "output_type": "display_data"
    },
    {
     "data": {
      "application/vnd.jupyter.widget-view+json": {
       "model_id": "c7f7c49f10544824808c7af07b8546bd",
       "version_major": 2,
       "version_minor": 0
      },
      "text/plain": [
       "chain 3 |          | 00:00 Status"
      ]
     },
     "metadata": {},
     "output_type": "display_data"
    },
    {
     "data": {
      "application/vnd.jupyter.widget-view+json": {
       "model_id": "eb4154f0fcf94a7aa81a58e77b0edbf3",
       "version_major": 2,
       "version_minor": 0
      },
      "text/plain": [
       "chain 4 |          | 00:00 Status"
      ]
     },
     "metadata": {},
     "output_type": "display_data"
    },
    {
     "name": "stdout",
     "output_type": "stream",
     "text": [
      "                                                                                                                                                                                                                                                                                                                                "
     ]
    },
    {
     "name": "stderr",
     "output_type": "stream",
     "text": [
      "22:50:48 - cmdstanpy - INFO - CmdStan done processing.\n",
      "22:50:48 - cmdstanpy - WARNING - Non-fatal error during sampling:\n",
      "Exception: Exception: normal_lpdf: Random variable is nan, but must be not nan! (in 'real_data.stan', line 81, column 2 to column 53) (in 'real_data.stan', line 175, column 2 to line 180, column 4)\n",
      "\tException: Exception: normal_lpdf: Random variable is nan, but must be not nan! (in 'real_data.stan', line 81, column 2 to column 53) (in 'real_data.stan', line 175, column 2 to line 180, column 4)\n",
      "\tException: Exception: normal_lpdf: Random variable is nan, but must be not nan! (in 'real_data.stan', line 81, column 2 to column 53) (in 'real_data.stan', line 175, column 2 to line 180, column 4)\n",
      "\tException: Exception: normal_lpdf: Random variable is nan, but must be not nan! (in 'real_data.stan', line 81, column 2 to column 53) (in 'real_data.stan', line 175, column 2 to line 180, column 4)\n",
      "\tException: Exception: normal_lpdf: Random variable is nan, but must be not nan! (in 'real_data.stan', line 81, column 2 to column 53) (in 'real_data.stan', line 175, column 2 to line 180, column 4)\n",
      "Exception: Exception: normal_lpdf: Random variable is nan, but must be not nan! (in 'real_data.stan', line 81, column 2 to column 53) (in 'real_data.stan', line 175, column 2 to line 180, column 4)\n",
      "\tException: Exception: normal_lpdf: Random variable is nan, but must be not nan! (in 'real_data.stan', line 81, column 2 to column 53) (in 'real_data.stan', line 175, column 2 to line 180, column 4)\n",
      "Exception: Exception: normal_lpdf: Random variable is nan, but must be not nan! (in 'real_data.stan', line 81, column 2 to column 53) (in 'real_data.stan', line 175, column 2 to line 180, column 4)\n",
      "\tException: Exception: normal_lpdf: Random variable is nan, but must be not nan! (in 'real_data.stan', line 81, column 2 to column 53) (in 'real_data.stan', line 175, column 2 to line 180, column 4)\n",
      "\tException: Exception: normal_lpdf: Random variable is nan, but must be not nan! (in 'real_data.stan', line 81, column 2 to column 53) (in 'real_data.stan', line 175, column 2 to line 180, column 4)\n",
      "\tException: Exception: normal_lpdf: Random variable is nan, but must be not nan! (in 'real_data.stan', line 81, column 2 to column 53) (in 'real_data.stan', line 175, column 2 to line 180, column 4)\n",
      "Exception: Exception: normal_lpdf: Random variable is nan, but must be not nan! (in 'real_data.stan', line 81, column 2 to column 53) (in 'real_data.stan', line 175, column 2 to line 180, column 4)\n",
      "\tException: Exception: normal_lpdf: Random variable is nan, but must be not nan! (in 'real_data.stan', line 81, column 2 to column 53) (in 'real_data.stan', line 175, column 2 to line 180, column 4)\n",
      "\tException: Exception: normal_lpdf: Random variable is nan, but must be not nan! (in 'real_data.stan', line 81, column 2 to column 53) (in 'real_data.stan', line 175, column 2 to line 180, column 4)\n",
      "\tException: Exception: normal_lpdf: Random variable is nan, but must be not nan! (in 'real_data.stan', line 81, column 2 to column 53) (in 'real_data.stan', line 175, column 2 to line 180, column 4)\n",
      "Consider re-running with show_console=True if the above output is unclear!\n"
     ]
    },
    {
     "name": "stdout",
     "output_type": "stream",
     "text": [
      "\n"
     ]
    },
    {
     "name": "stderr",
     "output_type": "stream",
     "text": [
      "22:50:50 - cmdstanpy - WARNING - Some chains may have failed to converge.\n",
      "\tChain 1 had 15 divergent transitions (0.8%)\n",
      "\tChain 2 had 12 divergent transitions (0.6%)\n",
      "\tChain 3 had 9 divergent transitions (0.4%)\n",
      "\tChain 4 had 10 divergent transitions (0.5%)\n",
      "\tUse the \"diagnose()\" method on the CmdStanMCMC object to see further information.\n",
      "22:50:59 - cmdstanpy - INFO - CmdStan start processing\n"
     ]
    },
    {
     "name": "stdout",
     "output_type": "stream",
     "text": [
      "contest_8540 end\n",
      "contest_2478 begin\n"
     ]
    },
    {
     "data": {
      "application/vnd.jupyter.widget-view+json": {
       "model_id": "3711d305fa634b0ea2817187ebeb82b0",
       "version_major": 2,
       "version_minor": 0
      },
      "text/plain": [
       "chain 1 |          | 00:00 Status"
      ]
     },
     "metadata": {},
     "output_type": "display_data"
    },
    {
     "data": {
      "application/vnd.jupyter.widget-view+json": {
       "model_id": "64b63627e4c747a1b16d1341ceddd362",
       "version_major": 2,
       "version_minor": 0
      },
      "text/plain": [
       "chain 2 |          | 00:00 Status"
      ]
     },
     "metadata": {},
     "output_type": "display_data"
    },
    {
     "data": {
      "application/vnd.jupyter.widget-view+json": {
       "model_id": "02efeef9a9344bcca55c66e1df5a4264",
       "version_major": 2,
       "version_minor": 0
      },
      "text/plain": [
       "chain 3 |          | 00:00 Status"
      ]
     },
     "metadata": {},
     "output_type": "display_data"
    },
    {
     "data": {
      "application/vnd.jupyter.widget-view+json": {
       "model_id": "48db9b6ea3ba4d728f612832be4b131f",
       "version_major": 2,
       "version_minor": 0
      },
      "text/plain": [
       "chain 4 |          | 00:00 Status"
      ]
     },
     "metadata": {},
     "output_type": "display_data"
    },
    {
     "name": "stdout",
     "output_type": "stream",
     "text": [
      "                                                                                                                                                                                                                                                                                                                                "
     ]
    },
    {
     "name": "stderr",
     "output_type": "stream",
     "text": [
      "22:52:17 - cmdstanpy - INFO - CmdStan done processing.\n",
      "22:52:17 - cmdstanpy - WARNING - Non-fatal error during sampling:\n",
      "Exception: Exception: normal_lpdf: Random variable is nan, but must be not nan! (in 'real_data.stan', line 81, column 2 to column 53) (in 'real_data.stan', line 175, column 2 to line 180, column 4)\n",
      "\tException: Exception: normal_lpdf: Random variable is nan, but must be not nan! (in 'real_data.stan', line 81, column 2 to column 53) (in 'real_data.stan', line 175, column 2 to line 180, column 4)\n",
      "Exception: Exception: normal_lpdf: Random variable is nan, but must be not nan! (in 'real_data.stan', line 81, column 2 to column 53) (in 'real_data.stan', line 175, column 2 to line 180, column 4)\n",
      "Exception: Exception: normal_lpdf: Random variable is nan, but must be not nan! (in 'real_data.stan', line 81, column 2 to column 53) (in 'real_data.stan', line 175, column 2 to line 180, column 4)\n",
      "\tException: Exception: normal_lpdf: Random variable is nan, but must be not nan! (in 'real_data.stan', line 81, column 2 to column 53) (in 'real_data.stan', line 175, column 2 to line 180, column 4)\n",
      "\tException: Exception: normal_lpdf: Random variable is nan, but must be not nan! (in 'real_data.stan', line 81, column 2 to column 53) (in 'real_data.stan', line 175, column 2 to line 180, column 4)\n",
      "\tException: Exception: normal_lpdf: Random variable is nan, but must be not nan! (in 'real_data.stan', line 81, column 2 to column 53) (in 'real_data.stan', line 175, column 2 to line 180, column 4)\n",
      "Exception: Exception: normal_lpdf: Random variable is nan, but must be not nan! (in 'real_data.stan', line 81, column 2 to column 53) (in 'real_data.stan', line 175, column 2 to line 180, column 4)\n",
      "\tException: Exception: normal_lpdf: Random variable is nan, but must be not nan! (in 'real_data.stan', line 81, column 2 to column 53) (in 'real_data.stan', line 175, column 2 to line 180, column 4)\n",
      "Consider re-running with show_console=True if the above output is unclear!\n"
     ]
    },
    {
     "name": "stdout",
     "output_type": "stream",
     "text": [
      "\n"
     ]
    },
    {
     "name": "stderr",
     "output_type": "stream",
     "text": [
      "22:52:24 - cmdstanpy - INFO - CmdStan start processing\n"
     ]
    },
    {
     "name": "stdout",
     "output_type": "stream",
     "text": [
      "contest_2478 end\n",
      "contest_19991 begin\n"
     ]
    },
    {
     "data": {
      "application/vnd.jupyter.widget-view+json": {
       "model_id": "f153157bc1b947bc8bee3bcaf72f9d8a",
       "version_major": 2,
       "version_minor": 0
      },
      "text/plain": [
       "chain 1 |          | 00:00 Status"
      ]
     },
     "metadata": {},
     "output_type": "display_data"
    },
    {
     "data": {
      "application/vnd.jupyter.widget-view+json": {
       "model_id": "9050639a968944a4bc27d2a2c8205118",
       "version_major": 2,
       "version_minor": 0
      },
      "text/plain": [
       "chain 2 |          | 00:00 Status"
      ]
     },
     "metadata": {},
     "output_type": "display_data"
    },
    {
     "data": {
      "application/vnd.jupyter.widget-view+json": {
       "model_id": "5117781d96704baaa1dbb4a59eb363e4",
       "version_major": 2,
       "version_minor": 0
      },
      "text/plain": [
       "chain 3 |          | 00:00 Status"
      ]
     },
     "metadata": {},
     "output_type": "display_data"
    },
    {
     "data": {
      "application/vnd.jupyter.widget-view+json": {
       "model_id": "bf13cce8e00c486c97645c5ac4b5c882",
       "version_major": 2,
       "version_minor": 0
      },
      "text/plain": [
       "chain 4 |          | 00:00 Status"
      ]
     },
     "metadata": {},
     "output_type": "display_data"
    },
    {
     "name": "stdout",
     "output_type": "stream",
     "text": [
      "                                                                                                                                                                                                                                                                                                                                "
     ]
    },
    {
     "name": "stderr",
     "output_type": "stream",
     "text": [
      "22:55:03 - cmdstanpy - INFO - CmdStan done processing.\n",
      "22:55:03 - cmdstanpy - WARNING - Non-fatal error during sampling:\n",
      "Exception: Exception: normal_lpdf: Random variable is nan, but must be not nan! (in 'real_data.stan', line 81, column 2 to column 53) (in 'real_data.stan', line 175, column 2 to line 180, column 4)\n",
      "\tException: Exception: normal_lpdf: Random variable is nan, but must be not nan! (in 'real_data.stan', line 81, column 2 to column 53) (in 'real_data.stan', line 175, column 2 to line 180, column 4)\n",
      "\tException: Exception: normal_lpdf: Random variable is nan, but must be not nan! (in 'real_data.stan', line 81, column 2 to column 53) (in 'real_data.stan', line 175, column 2 to line 180, column 4)\n",
      "\tException: Exception: normal_lpdf: Random variable is nan, but must be not nan! (in 'real_data.stan', line 81, column 2 to column 53) (in 'real_data.stan', line 175, column 2 to line 180, column 4)\n",
      "Exception: Exception: normal_lpdf: Random variable is nan, but must be not nan! (in 'real_data.stan', line 81, column 2 to column 53) (in 'real_data.stan', line 175, column 2 to line 180, column 4)\n",
      "\tException: Exception: normal_lpdf: Random variable is nan, but must be not nan! (in 'real_data.stan', line 81, column 2 to column 53) (in 'real_data.stan', line 175, column 2 to line 180, column 4)\n",
      "\tException: Exception: normal_lpdf: Random variable is nan, but must be not nan! (in 'real_data.stan', line 81, column 2 to column 53) (in 'real_data.stan', line 175, column 2 to line 180, column 4)\n",
      "\tException: Exception: normal_lpdf: Random variable is nan, but must be not nan! (in 'real_data.stan', line 81, column 2 to column 53) (in 'real_data.stan', line 175, column 2 to line 180, column 4)\n",
      "Exception: Exception: normal_lpdf: Random variable is nan, but must be not nan! (in 'real_data.stan', line 81, column 2 to column 53) (in 'real_data.stan', line 175, column 2 to line 180, column 4)\n",
      "\tException: Exception: normal_lpdf: Random variable is nan, but must be not nan! (in 'real_data.stan', line 81, column 2 to column 53) (in 'real_data.stan', line 175, column 2 to line 180, column 4)\n",
      "\tException: Exception: normal_lpdf: Random variable is nan, but must be not nan! (in 'real_data.stan', line 81, column 2 to column 53) (in 'real_data.stan', line 175, column 2 to line 180, column 4)\n",
      "\tException: Exception: normal_lpdf: Random variable is nan, but must be not nan! (in 'real_data.stan', line 81, column 2 to column 53) (in 'real_data.stan', line 175, column 2 to line 180, column 4)\n",
      "Consider re-running with show_console=True if the above output is unclear!\n"
     ]
    },
    {
     "name": "stdout",
     "output_type": "stream",
     "text": [
      "\n"
     ]
    },
    {
     "name": "stderr",
     "output_type": "stream",
     "text": [
      "22:55:05 - cmdstanpy - WARNING - Some chains may have failed to converge.\n",
      "\tChain 1 had 2 divergent transitions (0.1%)\n",
      "\tChain 2 had 2 divergent transitions (0.1%)\n",
      "\tChain 3 had 9 divergent transitions (0.4%)\n",
      "\tChain 4 had 3 divergent transitions (0.1%)\n",
      "\tUse the \"diagnose()\" method on the CmdStanMCMC object to see further information.\n",
      "22:55:18 - cmdstanpy - INFO - CmdStan start processing\n"
     ]
    },
    {
     "name": "stdout",
     "output_type": "stream",
     "text": [
      "contest_19991 end\n",
      "contest_8219 begin\n"
     ]
    },
    {
     "data": {
      "application/vnd.jupyter.widget-view+json": {
       "model_id": "9e2124fe9652403188ae8cd2d3cde610",
       "version_major": 2,
       "version_minor": 0
      },
      "text/plain": [
       "chain 1 |          | 00:00 Status"
      ]
     },
     "metadata": {},
     "output_type": "display_data"
    },
    {
     "data": {
      "application/vnd.jupyter.widget-view+json": {
       "model_id": "d1190edcf6f54877ac5dc711aa53e3c5",
       "version_major": 2,
       "version_minor": 0
      },
      "text/plain": [
       "chain 2 |          | 00:00 Status"
      ]
     },
     "metadata": {},
     "output_type": "display_data"
    },
    {
     "data": {
      "application/vnd.jupyter.widget-view+json": {
       "model_id": "3f0a1abf8cad4c118ab7e4098f2816c1",
       "version_major": 2,
       "version_minor": 0
      },
      "text/plain": [
       "chain 3 |          | 00:00 Status"
      ]
     },
     "metadata": {},
     "output_type": "display_data"
    },
    {
     "data": {
      "application/vnd.jupyter.widget-view+json": {
       "model_id": "1702facc274c43a5ba5aa54f95b8e183",
       "version_major": 2,
       "version_minor": 0
      },
      "text/plain": [
       "chain 4 |          | 00:00 Status"
      ]
     },
     "metadata": {},
     "output_type": "display_data"
    },
    {
     "name": "stdout",
     "output_type": "stream",
     "text": [
      "                                                                                                                                                                                                                                                                                                                                "
     ]
    },
    {
     "name": "stderr",
     "output_type": "stream",
     "text": [
      "22:56:12 - cmdstanpy - INFO - CmdStan done processing.\n",
      "22:56:12 - cmdstanpy - WARNING - Non-fatal error during sampling:\n",
      "Exception: Exception: normal_lpdf: Random variable is nan, but must be not nan! (in 'real_data.stan', line 81, column 2 to column 53) (in 'real_data.stan', line 175, column 2 to line 180, column 4)\n",
      "\tException: Exception: normal_lpdf: Random variable is nan, but must be not nan! (in 'real_data.stan', line 81, column 2 to column 53) (in 'real_data.stan', line 175, column 2 to line 180, column 4)\n",
      "\tException: Exception: normal_lpdf: Random variable is nan, but must be not nan! (in 'real_data.stan', line 81, column 2 to column 53) (in 'real_data.stan', line 175, column 2 to line 180, column 4)\n",
      "\tException: Exception: normal_lpdf: Random variable is nan, but must be not nan! (in 'real_data.stan', line 81, column 2 to column 53) (in 'real_data.stan', line 175, column 2 to line 180, column 4)\n",
      "Exception: Exception: normal_lpdf: Random variable is nan, but must be not nan! (in 'real_data.stan', line 81, column 2 to column 53) (in 'real_data.stan', line 175, column 2 to line 180, column 4)\n",
      "\tException: Exception: normal_lpdf: Random variable is nan, but must be not nan! (in 'real_data.stan', line 81, column 2 to column 53) (in 'real_data.stan', line 175, column 2 to line 180, column 4)\n",
      "\tException: Exception: normal_lpdf: Random variable is nan, but must be not nan! (in 'real_data.stan', line 81, column 2 to column 53) (in 'real_data.stan', line 175, column 2 to line 180, column 4)\n",
      "\tException: Exception: normal_lpdf: Random variable is nan, but must be not nan! (in 'real_data.stan', line 81, column 2 to column 53) (in 'real_data.stan', line 175, column 2 to line 180, column 4)\n",
      "Exception: Exception: normal_lpdf: Random variable is nan, but must be not nan! (in 'real_data.stan', line 81, column 2 to column 53) (in 'real_data.stan', line 175, column 2 to line 180, column 4)\n",
      "\tException: Exception: normal_lpdf: Random variable is nan, but must be not nan! (in 'real_data.stan', line 81, column 2 to column 53) (in 'real_data.stan', line 175, column 2 to line 180, column 4)\n",
      "\tException: Exception: normal_lpdf: Random variable is nan, but must be not nan! (in 'real_data.stan', line 81, column 2 to column 53) (in 'real_data.stan', line 175, column 2 to line 180, column 4)\n",
      "Consider re-running with show_console=True if the above output is unclear!\n"
     ]
    },
    {
     "name": "stdout",
     "output_type": "stream",
     "text": [
      "\n"
     ]
    },
    {
     "name": "stderr",
     "output_type": "stream",
     "text": [
      "22:56:18 - cmdstanpy - INFO - CmdStan start processing\n"
     ]
    },
    {
     "name": "stdout",
     "output_type": "stream",
     "text": [
      "contest_8219 end\n",
      "contest_21669 begin\n"
     ]
    },
    {
     "data": {
      "application/vnd.jupyter.widget-view+json": {
       "model_id": "4fde3710ed11431c9158bbba4394890f",
       "version_major": 2,
       "version_minor": 0
      },
      "text/plain": [
       "chain 1 |          | 00:00 Status"
      ]
     },
     "metadata": {},
     "output_type": "display_data"
    },
    {
     "data": {
      "application/vnd.jupyter.widget-view+json": {
       "model_id": "e24c499d62dc414ba7cc0861931dcd22",
       "version_major": 2,
       "version_minor": 0
      },
      "text/plain": [
       "chain 2 |          | 00:00 Status"
      ]
     },
     "metadata": {},
     "output_type": "display_data"
    },
    {
     "data": {
      "application/vnd.jupyter.widget-view+json": {
       "model_id": "8fb4b608113c49d8b7ad61ada1635c35",
       "version_major": 2,
       "version_minor": 0
      },
      "text/plain": [
       "chain 3 |          | 00:00 Status"
      ]
     },
     "metadata": {},
     "output_type": "display_data"
    },
    {
     "data": {
      "application/vnd.jupyter.widget-view+json": {
       "model_id": "f675c55c36aa42a59c17744af18d2d61",
       "version_major": 2,
       "version_minor": 0
      },
      "text/plain": [
       "chain 4 |          | 00:00 Status"
      ]
     },
     "metadata": {},
     "output_type": "display_data"
    },
    {
     "name": "stdout",
     "output_type": "stream",
     "text": [
      "                                                                                                                                                                                                                                                                                                                                "
     ]
    },
    {
     "name": "stderr",
     "output_type": "stream",
     "text": [
      "22:57:56 - cmdstanpy - INFO - CmdStan done processing.\n",
      "22:57:56 - cmdstanpy - WARNING - Non-fatal error during sampling:\n",
      "Exception: Exception: normal_lpdf: Random variable is nan, but must be not nan! (in 'real_data.stan', line 81, column 2 to column 53) (in 'real_data.stan', line 175, column 2 to line 180, column 4)\n",
      "\tException: Exception: normal_lpdf: Random variable is nan, but must be not nan! (in 'real_data.stan', line 81, column 2 to column 53) (in 'real_data.stan', line 175, column 2 to line 180, column 4)\n",
      "\tException: Exception: normal_lpdf: Random variable is nan, but must be not nan! (in 'real_data.stan', line 81, column 2 to column 53) (in 'real_data.stan', line 175, column 2 to line 180, column 4)\n",
      "\tException: Exception: normal_lpdf: Random variable is nan, but must be not nan! (in 'real_data.stan', line 81, column 2 to column 53) (in 'real_data.stan', line 175, column 2 to line 180, column 4)\n",
      "Exception: Exception: normal_lpdf: Random variable is nan, but must be not nan! (in 'real_data.stan', line 81, column 2 to column 53) (in 'real_data.stan', line 175, column 2 to line 180, column 4)\n",
      "\tException: Exception: normal_lpdf: Random variable is nan, but must be not nan! (in 'real_data.stan', line 81, column 2 to column 53) (in 'real_data.stan', line 175, column 2 to line 180, column 4)\n",
      "\tException: Exception: normal_lpdf: Random variable is nan, but must be not nan! (in 'real_data.stan', line 81, column 2 to column 53) (in 'real_data.stan', line 175, column 2 to line 180, column 4)\n",
      "\tException: Exception: normal_lpdf: Random variable is nan, but must be not nan! (in 'real_data.stan', line 81, column 2 to column 53) (in 'real_data.stan', line 175, column 2 to line 180, column 4)\n",
      "Exception: Exception: normal_lpdf: Random variable is nan, but must be not nan! (in 'real_data.stan', line 81, column 2 to column 53) (in 'real_data.stan', line 175, column 2 to line 180, column 4)\n",
      "\tException: Exception: normal_lpdf: Random variable is nan, but must be not nan! (in 'real_data.stan', line 81, column 2 to column 53) (in 'real_data.stan', line 175, column 2 to line 180, column 4)\n",
      "\tException: Exception: normal_lpdf: Random variable is nan, but must be not nan! (in 'real_data.stan', line 81, column 2 to column 53) (in 'real_data.stan', line 175, column 2 to line 180, column 4)\n",
      "\tException: Exception: normal_lpdf: Random variable is nan, but must be not nan! (in 'real_data.stan', line 81, column 2 to column 53) (in 'real_data.stan', line 175, column 2 to line 180, column 4)\n",
      "Exception: Exception: normal_lpdf: Random variable is nan, but must be not nan! (in 'real_data.stan', line 81, column 2 to column 53) (in 'real_data.stan', line 175, column 2 to line 180, column 4)\n",
      "\tException: Exception: normal_lpdf: Random variable is nan, but must be not nan! (in 'real_data.stan', line 81, column 2 to column 53) (in 'real_data.stan', line 175, column 2 to line 180, column 4)\n",
      "Consider re-running with show_console=True if the above output is unclear!\n"
     ]
    },
    {
     "name": "stdout",
     "output_type": "stream",
     "text": [
      "\n"
     ]
    },
    {
     "name": "stderr",
     "output_type": "stream",
     "text": [
      "22:58:08 - cmdstanpy - INFO - CmdStan start processing\n"
     ]
    },
    {
     "name": "stdout",
     "output_type": "stream",
     "text": [
      "contest_21669 end\n",
      "contest_7115 begin\n"
     ]
    },
    {
     "data": {
      "application/vnd.jupyter.widget-view+json": {
       "model_id": "8a41ec3f5578461f9afbac0dd181816f",
       "version_major": 2,
       "version_minor": 0
      },
      "text/plain": [
       "chain 1 |          | 00:00 Status"
      ]
     },
     "metadata": {},
     "output_type": "display_data"
    },
    {
     "data": {
      "application/vnd.jupyter.widget-view+json": {
       "model_id": "f15e8ba9f87e4566996f7b2d08790f15",
       "version_major": 2,
       "version_minor": 0
      },
      "text/plain": [
       "chain 2 |          | 00:00 Status"
      ]
     },
     "metadata": {},
     "output_type": "display_data"
    },
    {
     "data": {
      "application/vnd.jupyter.widget-view+json": {
       "model_id": "d79acb26e2bd415e868c712ae4e277f1",
       "version_major": 2,
       "version_minor": 0
      },
      "text/plain": [
       "chain 3 |          | 00:00 Status"
      ]
     },
     "metadata": {},
     "output_type": "display_data"
    },
    {
     "data": {
      "application/vnd.jupyter.widget-view+json": {
       "model_id": "8fe2ae1f98024d16b8b88ee537f4976e",
       "version_major": 2,
       "version_minor": 0
      },
      "text/plain": [
       "chain 4 |          | 00:00 Status"
      ]
     },
     "metadata": {},
     "output_type": "display_data"
    },
    {
     "name": "stdout",
     "output_type": "stream",
     "text": [
      "                                                                                                                                                                                                                                                                                                                                "
     ]
    },
    {
     "name": "stderr",
     "output_type": "stream",
     "text": [
      "23:02:51 - cmdstanpy - INFO - CmdStan done processing.\n",
      "23:02:51 - cmdstanpy - WARNING - Non-fatal error during sampling:\n",
      "Exception: Exception: normal_lpdf: Random variable is nan, but must be not nan! (in 'real_data.stan', line 81, column 2 to column 53) (in 'real_data.stan', line 175, column 2 to line 180, column 4)\n",
      "\tException: Exception: normal_lpdf: Random variable is nan, but must be not nan! (in 'real_data.stan', line 81, column 2 to column 53) (in 'real_data.stan', line 175, column 2 to line 180, column 4)\n",
      "\tException: Exception: normal_lpdf: Random variable is nan, but must be not nan! (in 'real_data.stan', line 81, column 2 to column 53) (in 'real_data.stan', line 175, column 2 to line 180, column 4)\n",
      "\tException: Exception: normal_lpdf: Random variable is nan, but must be not nan! (in 'real_data.stan', line 81, column 2 to column 53) (in 'real_data.stan', line 175, column 2 to line 180, column 4)\n",
      "Exception: Exception: normal_lpdf: Random variable is nan, but must be not nan! (in 'real_data.stan', line 81, column 2 to column 53) (in 'real_data.stan', line 175, column 2 to line 180, column 4)\n",
      "\tException: Exception: normal_lpdf: Random variable is nan, but must be not nan! (in 'real_data.stan', line 81, column 2 to column 53) (in 'real_data.stan', line 175, column 2 to line 180, column 4)\n",
      "\tException: Exception: normal_lpdf: Random variable is nan, but must be not nan! (in 'real_data.stan', line 81, column 2 to column 53) (in 'real_data.stan', line 175, column 2 to line 180, column 4)\n",
      "\tException: Exception: normal_lpdf: Random variable is nan, but must be not nan! (in 'real_data.stan', line 81, column 2 to column 53) (in 'real_data.stan', line 175, column 2 to line 180, column 4)\n",
      "Exception: Exception: normal_lpdf: Random variable is nan, but must be not nan! (in 'real_data.stan', line 81, column 2 to column 53) (in 'real_data.stan', line 175, column 2 to line 180, column 4)\n",
      "\tException: Exception: normal_lpdf: Random variable is nan, but must be not nan! (in 'real_data.stan', line 81, column 2 to column 53) (in 'real_data.stan', line 175, column 2 to line 180, column 4)\n",
      "\tException: Exception: normal_lpdf: Random variable is nan, but must be not nan! (in 'real_data.stan', line 81, column 2 to column 53) (in 'real_data.stan', line 175, column 2 to line 180, column 4)\n",
      "\tException: Exception: normal_lpdf: Random variable is nan, but must be not nan! (in 'real_data.stan', line 81, column 2 to column 53) (in 'real_data.stan', line 175, column 2 to line 180, column 4)\n",
      "Consider re-running with show_console=True if the above output is unclear!\n"
     ]
    },
    {
     "name": "stdout",
     "output_type": "stream",
     "text": [
      "\n"
     ]
    },
    {
     "name": "stderr",
     "output_type": "stream",
     "text": [
      "23:02:54 - cmdstanpy - WARNING - Some chains may have failed to converge.\n",
      "\tChain 1 had 13 divergent transitions (0.7%)\n",
      "\tChain 2 had 8 divergent transitions (0.4%)\n",
      "\tChain 3 had 25 divergent transitions (1.2%)\n",
      "\tChain 4 had 8 divergent transitions (0.4%)\n",
      "\tUse the \"diagnose()\" method on the CmdStanMCMC object to see further information.\n",
      "23:03:04 - cmdstanpy - INFO - CmdStan start processing\n"
     ]
    },
    {
     "name": "stdout",
     "output_type": "stream",
     "text": [
      "contest_7115 end\n",
      "contest_13333 begin\n"
     ]
    },
    {
     "data": {
      "application/vnd.jupyter.widget-view+json": {
       "model_id": "3e8be2d9bc67444b9ece3158b047b525",
       "version_major": 2,
       "version_minor": 0
      },
      "text/plain": [
       "chain 1 |          | 00:00 Status"
      ]
     },
     "metadata": {},
     "output_type": "display_data"
    },
    {
     "data": {
      "application/vnd.jupyter.widget-view+json": {
       "model_id": "9c62ab26e54d4310950c4eebb01db5c4",
       "version_major": 2,
       "version_minor": 0
      },
      "text/plain": [
       "chain 2 |          | 00:00 Status"
      ]
     },
     "metadata": {},
     "output_type": "display_data"
    },
    {
     "data": {
      "application/vnd.jupyter.widget-view+json": {
       "model_id": "9dff9b3cfd1f4fe9becd0b6abf4446a9",
       "version_major": 2,
       "version_minor": 0
      },
      "text/plain": [
       "chain 3 |          | 00:00 Status"
      ]
     },
     "metadata": {},
     "output_type": "display_data"
    },
    {
     "data": {
      "application/vnd.jupyter.widget-view+json": {
       "model_id": "3e3e948f1d0a425e8b7806b76cc778b0",
       "version_major": 2,
       "version_minor": 0
      },
      "text/plain": [
       "chain 4 |          | 00:00 Status"
      ]
     },
     "metadata": {},
     "output_type": "display_data"
    },
    {
     "name": "stdout",
     "output_type": "stream",
     "text": [
      "                                                                                                                                                                                                                                                                                                                                "
     ]
    },
    {
     "name": "stderr",
     "output_type": "stream",
     "text": [
      "23:04:42 - cmdstanpy - INFO - CmdStan done processing.\n",
      "23:04:42 - cmdstanpy - WARNING - Non-fatal error during sampling:\n",
      "Exception: Exception: normal_lpdf: Random variable is nan, but must be not nan! (in 'real_data.stan', line 81, column 2 to column 53) (in 'real_data.stan', line 175, column 2 to line 180, column 4)\n",
      "\tException: Exception: normal_lpdf: Random variable is nan, but must be not nan! (in 'real_data.stan', line 81, column 2 to column 53) (in 'real_data.stan', line 175, column 2 to line 180, column 4)\n",
      "\tException: Exception: normal_lpdf: Random variable is nan, but must be not nan! (in 'real_data.stan', line 81, column 2 to column 53) (in 'real_data.stan', line 175, column 2 to line 180, column 4)\n",
      "Exception: Exception: normal_lpdf: Random variable is nan, but must be not nan! (in 'real_data.stan', line 81, column 2 to column 53) (in 'real_data.stan', line 175, column 2 to line 180, column 4)\n",
      "\tException: Exception: normal_lpdf: Random variable is nan, but must be not nan! (in 'real_data.stan', line 81, column 2 to column 53) (in 'real_data.stan', line 175, column 2 to line 180, column 4)\n",
      "Exception: Exception: normal_lpdf: Random variable is nan, but must be not nan! (in 'real_data.stan', line 81, column 2 to column 53) (in 'real_data.stan', line 175, column 2 to line 180, column 4)\n",
      "\tException: Exception: normal_lpdf: Random variable is nan, but must be not nan! (in 'real_data.stan', line 81, column 2 to column 53) (in 'real_data.stan', line 175, column 2 to line 180, column 4)\n",
      "\tException: Exception: normal_lpdf: Random variable is nan, but must be not nan! (in 'real_data.stan', line 81, column 2 to column 53) (in 'real_data.stan', line 175, column 2 to line 180, column 4)\n",
      "\tException: Exception: normal_lpdf: Random variable is nan, but must be not nan! (in 'real_data.stan', line 81, column 2 to column 53) (in 'real_data.stan', line 175, column 2 to line 180, column 4)\n",
      "\tException: Exception: normal_lpdf: Random variable is nan, but must be not nan! (in 'real_data.stan', line 81, column 2 to column 53) (in 'real_data.stan', line 175, column 2 to line 180, column 4)\n",
      "Exception: Exception: normal_lpdf: Random variable is nan, but must be not nan! (in 'real_data.stan', line 81, column 2 to column 53) (in 'real_data.stan', line 175, column 2 to line 180, column 4)\n",
      "\tException: Exception: normal_lpdf: Random variable is nan, but must be not nan! (in 'real_data.stan', line 81, column 2 to column 53) (in 'real_data.stan', line 175, column 2 to line 180, column 4)\n",
      "\tException: Exception: normal_lpdf: Random variable is nan, but must be not nan! (in 'real_data.stan', line 81, column 2 to column 53) (in 'real_data.stan', line 175, column 2 to line 180, column 4)\n",
      "\tException: Exception: normal_lpdf: Random variable is nan, but must be not nan! (in 'real_data.stan', line 81, column 2 to column 53) (in 'real_data.stan', line 175, column 2 to line 180, column 4)\n",
      "Consider re-running with show_console=True if the above output is unclear!\n"
     ]
    },
    {
     "name": "stdout",
     "output_type": "stream",
     "text": [
      "\n"
     ]
    },
    {
     "name": "stderr",
     "output_type": "stream",
     "text": [
      "23:04:43 - cmdstanpy - WARNING - Some chains may have failed to converge.\n",
      "\tChain 1 had 3 divergent transitions (0.1%)\n",
      "\tChain 2 had 8 divergent transitions (0.4%)\n",
      "\tChain 3 had 2 divergent transitions (0.1%)\n",
      "\tChain 4 had 7 divergent transitions (0.4%)\n",
      "\tUse the \"diagnose()\" method on the CmdStanMCMC object to see further information.\n",
      "23:04:46 - cmdstanpy - INFO - CmdStan start processing\n"
     ]
    },
    {
     "name": "stdout",
     "output_type": "stream",
     "text": [
      "contest_13333 end\n",
      "contest_2454 begin\n"
     ]
    },
    {
     "data": {
      "application/vnd.jupyter.widget-view+json": {
       "model_id": "fcfd26501a4846288b8e8adae8b976cc",
       "version_major": 2,
       "version_minor": 0
      },
      "text/plain": [
       "chain 1 |          | 00:00 Status"
      ]
     },
     "metadata": {},
     "output_type": "display_data"
    },
    {
     "data": {
      "application/vnd.jupyter.widget-view+json": {
       "model_id": "2d30859127e04c47ae6c89a5a85b1899",
       "version_major": 2,
       "version_minor": 0
      },
      "text/plain": [
       "chain 2 |          | 00:00 Status"
      ]
     },
     "metadata": {},
     "output_type": "display_data"
    },
    {
     "data": {
      "application/vnd.jupyter.widget-view+json": {
       "model_id": "19361546664243f797a7dcfe5a4d1feb",
       "version_major": 2,
       "version_minor": 0
      },
      "text/plain": [
       "chain 3 |          | 00:00 Status"
      ]
     },
     "metadata": {},
     "output_type": "display_data"
    },
    {
     "data": {
      "application/vnd.jupyter.widget-view+json": {
       "model_id": "71996d1eef664940a50b3acb5f28cbf0",
       "version_major": 2,
       "version_minor": 0
      },
      "text/plain": [
       "chain 4 |          | 00:00 Status"
      ]
     },
     "metadata": {},
     "output_type": "display_data"
    },
    {
     "name": "stdout",
     "output_type": "stream",
     "text": [
      "                                                                                                                                                                                                                                                                                                                                "
     ]
    },
    {
     "name": "stderr",
     "output_type": "stream",
     "text": [
      "23:05:22 - cmdstanpy - INFO - CmdStan done processing.\n",
      "23:05:22 - cmdstanpy - WARNING - Non-fatal error during sampling:\n",
      "Exception: Exception: normal_lpdf: Random variable is nan, but must be not nan! (in 'real_data.stan', line 81, column 2 to column 53) (in 'real_data.stan', line 175, column 2 to line 180, column 4)\n",
      "\tException: Exception: normal_lpdf: Random variable is nan, but must be not nan! (in 'real_data.stan', line 81, column 2 to column 53) (in 'real_data.stan', line 175, column 2 to line 180, column 4)\n",
      "\tException: Exception: normal_lpdf: Random variable is nan, but must be not nan! (in 'real_data.stan', line 81, column 2 to column 53) (in 'real_data.stan', line 175, column 2 to line 180, column 4)\n",
      "Exception: Exception: normal_lpdf: Random variable is nan, but must be not nan! (in 'real_data.stan', line 81, column 2 to column 53) (in 'real_data.stan', line 175, column 2 to line 180, column 4)\n",
      "Exception: Exception: normal_lpdf: Random variable is nan, but must be not nan! (in 'real_data.stan', line 81, column 2 to column 53) (in 'real_data.stan', line 175, column 2 to line 180, column 4)\n",
      "\tException: Exception: normal_lpdf: Random variable is nan, but must be not nan! (in 'real_data.stan', line 81, column 2 to column 53) (in 'real_data.stan', line 175, column 2 to line 180, column 4)\n",
      "Exception: Exception: normal_lpdf: Random variable is nan, but must be not nan! (in 'real_data.stan', line 81, column 2 to column 53) (in 'real_data.stan', line 175, column 2 to line 180, column 4)\n",
      "\tException: Exception: normal_lpdf: Random variable is nan, but must be not nan! (in 'real_data.stan', line 81, column 2 to column 53) (in 'real_data.stan', line 175, column 2 to line 180, column 4)\n",
      "\tException: Exception: normal_lpdf: Random variable is nan, but must be not nan! (in 'real_data.stan', line 81, column 2 to column 53) (in 'real_data.stan', line 175, column 2 to line 180, column 4)\n",
      "Consider re-running with show_console=True if the above output is unclear!\n"
     ]
    },
    {
     "name": "stdout",
     "output_type": "stream",
     "text": [
      "\n"
     ]
    },
    {
     "name": "stderr",
     "output_type": "stream",
     "text": [
      "23:05:27 - cmdstanpy - INFO - CmdStan start processing\n"
     ]
    },
    {
     "name": "stdout",
     "output_type": "stream",
     "text": [
      "contest_2454 end\n",
      "contest_3960 begin\n"
     ]
    },
    {
     "data": {
      "application/vnd.jupyter.widget-view+json": {
       "model_id": "b98dea05f6ac428887408b70f9ea7edf",
       "version_major": 2,
       "version_minor": 0
      },
      "text/plain": [
       "chain 1 |          | 00:00 Status"
      ]
     },
     "metadata": {},
     "output_type": "display_data"
    },
    {
     "data": {
      "application/vnd.jupyter.widget-view+json": {
       "model_id": "ec0c83e7852e41ef9a6435e7299b42bd",
       "version_major": 2,
       "version_minor": 0
      },
      "text/plain": [
       "chain 2 |          | 00:00 Status"
      ]
     },
     "metadata": {},
     "output_type": "display_data"
    },
    {
     "data": {
      "application/vnd.jupyter.widget-view+json": {
       "model_id": "75753152a7054ee98cd8d232f8897d95",
       "version_major": 2,
       "version_minor": 0
      },
      "text/plain": [
       "chain 3 |          | 00:00 Status"
      ]
     },
     "metadata": {},
     "output_type": "display_data"
    },
    {
     "data": {
      "application/vnd.jupyter.widget-view+json": {
       "model_id": "d7031c807bf24acb8f1c60dfd6014994",
       "version_major": 2,
       "version_minor": 0
      },
      "text/plain": [
       "chain 4 |          | 00:00 Status"
      ]
     },
     "metadata": {},
     "output_type": "display_data"
    },
    {
     "name": "stdout",
     "output_type": "stream",
     "text": [
      "                                                                                                                                                                                                                                                                                                                                "
     ]
    },
    {
     "name": "stderr",
     "output_type": "stream",
     "text": [
      "23:08:03 - cmdstanpy - INFO - CmdStan done processing.\n",
      "23:08:03 - cmdstanpy - WARNING - Non-fatal error during sampling:\n",
      "Exception: Exception: normal_lpdf: Random variable is nan, but must be not nan! (in 'real_data.stan', line 81, column 2 to column 53) (in 'real_data.stan', line 175, column 2 to line 180, column 4)\n",
      "\tException: Exception: normal_lpdf: Random variable is nan, but must be not nan! (in 'real_data.stan', line 81, column 2 to column 53) (in 'real_data.stan', line 175, column 2 to line 180, column 4)\n",
      "\tException: Exception: normal_lpdf: Random variable is nan, but must be not nan! (in 'real_data.stan', line 81, column 2 to column 53) (in 'real_data.stan', line 175, column 2 to line 180, column 4)\n",
      "\tException: Exception: normal_lpdf: Random variable is nan, but must be not nan! (in 'real_data.stan', line 81, column 2 to column 53) (in 'real_data.stan', line 175, column 2 to line 180, column 4)\n",
      "\tException: Exception: normal_lpdf: Random variable is nan, but must be not nan! (in 'real_data.stan', line 81, column 2 to column 53) (in 'real_data.stan', line 175, column 2 to line 180, column 4)\n",
      "Exception: Exception: normal_lpdf: Random variable is nan, but must be not nan! (in 'real_data.stan', line 81, column 2 to column 53) (in 'real_data.stan', line 175, column 2 to line 180, column 4)\n",
      "\tException: Exception: normal_lpdf: Random variable is nan, but must be not nan! (in 'real_data.stan', line 81, column 2 to column 53) (in 'real_data.stan', line 175, column 2 to line 180, column 4)\n",
      "\tException: Exception: normal_lpdf: Random variable is nan, but must be not nan! (in 'real_data.stan', line 81, column 2 to column 53) (in 'real_data.stan', line 175, column 2 to line 180, column 4)\n",
      "\tException: Exception: normal_lpdf: Random variable is nan, but must be not nan! (in 'real_data.stan', line 81, column 2 to column 53) (in 'real_data.stan', line 175, column 2 to line 180, column 4)\n",
      "Exception: Exception: normal_lpdf: Random variable is nan, but must be not nan! (in 'real_data.stan', line 81, column 2 to column 53) (in 'real_data.stan', line 175, column 2 to line 180, column 4)\n",
      "\tException: Exception: normal_lpdf: Random variable is nan, but must be not nan! (in 'real_data.stan', line 81, column 2 to column 53) (in 'real_data.stan', line 175, column 2 to line 180, column 4)\n",
      "\tException: Exception: normal_lpdf: Random variable is nan, but must be not nan! (in 'real_data.stan', line 81, column 2 to column 53) (in 'real_data.stan', line 175, column 2 to line 180, column 4)\n",
      "\tException: Exception: normal_lpdf: Random variable is nan, but must be not nan! (in 'real_data.stan', line 81, column 2 to column 53) (in 'real_data.stan', line 175, column 2 to line 180, column 4)\n",
      "\tException: Exception: normal_lpdf: Random variable is nan, but must be not nan! (in 'real_data.stan', line 81, column 2 to column 53) (in 'real_data.stan', line 175, column 2 to line 180, column 4)\n",
      "\tException: Exception: normal_lpdf: Random variable is nan, but must be not nan! (in 'real_data.stan', line 81, column 2 to column 53) (in 'real_data.stan', line 175, column 2 to line 180, column 4)\n",
      "Exception: Exception: normal_lpdf: Random variable is nan, but must be not nan! (in 'real_data.stan', line 81, column 2 to column 53) (in 'real_data.stan', line 175, column 2 to line 180, column 4)\n",
      "\tException: Exception: normal_lpdf: Random variable is nan, but must be not nan! (in 'real_data.stan', line 81, column 2 to column 53) (in 'real_data.stan', line 175, column 2 to line 180, column 4)\n",
      "\tException: Exception: normal_lpdf: Random variable is nan, but must be not nan! (in 'real_data.stan', line 81, column 2 to column 53) (in 'real_data.stan', line 175, column 2 to line 180, column 4)\n",
      "\tException: Exception: normal_lpdf: Random variable is nan, but must be not nan! (in 'real_data.stan', line 81, column 2 to column 53) (in 'real_data.stan', line 175, column 2 to line 180, column 4)\n",
      "\tException: Exception: normal_lpdf: Random variable is nan, but must be not nan! (in 'real_data.stan', line 81, column 2 to column 53) (in 'real_data.stan', line 175, column 2 to line 180, column 4)\n",
      "\tException: Exception: normal_lpdf: Random variable is nan, but must be not nan! (in 'real_data.stan', line 81, column 2 to column 53) (in 'real_data.stan', line 175, column 2 to line 180, column 4)\n",
      "\tException: Exception: normal_lpdf: Random variable is nan, but must be not nan! (in 'real_data.stan', line 81, column 2 to column 53) (in 'real_data.stan', line 175, column 2 to line 180, column 4)\n",
      "Consider re-running with show_console=True if the above output is unclear!\n"
     ]
    },
    {
     "name": "stdout",
     "output_type": "stream",
     "text": [
      "\n"
     ]
    },
    {
     "name": "stderr",
     "output_type": "stream",
     "text": [
      "23:08:07 - cmdstanpy - WARNING - Some chains may have failed to converge.\n",
      "\tChain 2 had 3 divergent transitions (0.1%)\n",
      "\tChain 3 had 2 divergent transitions (0.1%)\n",
      "\tUse the \"diagnose()\" method on the CmdStanMCMC object to see further information.\n"
     ]
    },
    {
     "name": "stdout",
     "output_type": "stream",
     "text": [
      "contest_3960 end\n"
     ]
    },
    {
     "name": "stderr",
     "output_type": "stream",
     "text": [
      "23:08:22 - cmdstanpy - INFO - CmdStan start processing\n"
     ]
    },
    {
     "name": "stdout",
     "output_type": "stream",
     "text": [
      "contest_37077 begin\n"
     ]
    },
    {
     "data": {
      "application/vnd.jupyter.widget-view+json": {
       "model_id": "e42b135728b74ae2a6077e55503f5b3c",
       "version_major": 2,
       "version_minor": 0
      },
      "text/plain": [
       "chain 1 |          | 00:00 Status"
      ]
     },
     "metadata": {},
     "output_type": "display_data"
    },
    {
     "data": {
      "application/vnd.jupyter.widget-view+json": {
       "model_id": "7e8f13b3260a479d85408ee88aff14ce",
       "version_major": 2,
       "version_minor": 0
      },
      "text/plain": [
       "chain 2 |          | 00:00 Status"
      ]
     },
     "metadata": {},
     "output_type": "display_data"
    },
    {
     "data": {
      "application/vnd.jupyter.widget-view+json": {
       "model_id": "763009be2c1a489f9aa76569eae80dd9",
       "version_major": 2,
       "version_minor": 0
      },
      "text/plain": [
       "chain 3 |          | 00:00 Status"
      ]
     },
     "metadata": {},
     "output_type": "display_data"
    },
    {
     "data": {
      "application/vnd.jupyter.widget-view+json": {
       "model_id": "dcdeb0dc122d40c0b5bcdc332673164c",
       "version_major": 2,
       "version_minor": 0
      },
      "text/plain": [
       "chain 4 |          | 00:00 Status"
      ]
     },
     "metadata": {},
     "output_type": "display_data"
    },
    {
     "name": "stdout",
     "output_type": "stream",
     "text": [
      "                                                                                                                                                                                                                                                                                                                                "
     ]
    },
    {
     "name": "stderr",
     "output_type": "stream",
     "text": [
      "23:10:36 - cmdstanpy - INFO - CmdStan done processing.\n",
      "23:10:36 - cmdstanpy - WARNING - Non-fatal error during sampling:\n",
      "Exception: Exception: normal_lpdf: Random variable is nan, but must be not nan! (in 'real_data.stan', line 81, column 2 to column 53) (in 'real_data.stan', line 175, column 2 to line 180, column 4)\n",
      "\tException: Exception: normal_lpdf: Random variable is nan, but must be not nan! (in 'real_data.stan', line 81, column 2 to column 53) (in 'real_data.stan', line 175, column 2 to line 180, column 4)\n",
      "\tException: Exception: normal_lpdf: Random variable is nan, but must be not nan! (in 'real_data.stan', line 81, column 2 to column 53) (in 'real_data.stan', line 175, column 2 to line 180, column 4)\n",
      "\tException: Exception: normal_lpdf: Random variable is nan, but must be not nan! (in 'real_data.stan', line 81, column 2 to column 53) (in 'real_data.stan', line 175, column 2 to line 180, column 4)\n",
      "Exception: Exception: normal_lpdf: Random variable is nan, but must be not nan! (in 'real_data.stan', line 81, column 2 to column 53) (in 'real_data.stan', line 175, column 2 to line 180, column 4)\n",
      "Exception: Exception: normal_lpdf: Random variable is nan, but must be not nan! (in 'real_data.stan', line 81, column 2 to column 53) (in 'real_data.stan', line 175, column 2 to line 180, column 4)\n",
      "\tException: Exception: normal_lpdf: Random variable is nan, but must be not nan! (in 'real_data.stan', line 81, column 2 to column 53) (in 'real_data.stan', line 175, column 2 to line 180, column 4)\n",
      "\tException: Exception: normal_lpdf: Random variable is nan, but must be not nan! (in 'real_data.stan', line 81, column 2 to column 53) (in 'real_data.stan', line 175, column 2 to line 180, column 4)\n",
      "\tException: Exception: normal_lpdf: Random variable is nan, but must be not nan! (in 'real_data.stan', line 81, column 2 to column 53) (in 'real_data.stan', line 175, column 2 to line 180, column 4)\n",
      "Exception: Exception: normal_lpdf: Random variable is nan, but must be not nan! (in 'real_data.stan', line 81, column 2 to column 53) (in 'real_data.stan', line 175, column 2 to line 180, column 4)\n",
      "\tException: Exception: normal_lpdf: Random variable is nan, but must be not nan! (in 'real_data.stan', line 81, column 2 to column 53) (in 'real_data.stan', line 175, column 2 to line 180, column 4)\n",
      "\tException: Exception: normal_lpdf: Random variable is nan, but must be not nan! (in 'real_data.stan', line 81, column 2 to column 53) (in 'real_data.stan', line 175, column 2 to line 180, column 4)\n",
      "\tException: Exception: normal_lpdf: Random variable is nan, but must be not nan! (in 'real_data.stan', line 81, column 2 to column 53) (in 'real_data.stan', line 175, column 2 to line 180, column 4)\n",
      "Consider re-running with show_console=True if the above output is unclear!\n"
     ]
    },
    {
     "name": "stdout",
     "output_type": "stream",
     "text": [
      "\n"
     ]
    },
    {
     "name": "stderr",
     "output_type": "stream",
     "text": [
      "23:10:39 - cmdstanpy - WARNING - Some chains may have failed to converge.\n",
      "\tChain 1 had 1 divergent transitions (0.1%)\n",
      "\tChain 2 had 4 divergent transitions (0.2%)\n",
      "\tUse the \"diagnose()\" method on the CmdStanMCMC object to see further information.\n",
      "23:10:51 - cmdstanpy - INFO - CmdStan start processing\n"
     ]
    },
    {
     "name": "stdout",
     "output_type": "stream",
     "text": [
      "contest_37077 end\n",
      "contest_3366 begin\n"
     ]
    },
    {
     "data": {
      "application/vnd.jupyter.widget-view+json": {
       "model_id": "e16e5b8fe13f4c1f8841c3ee5345c2bd",
       "version_major": 2,
       "version_minor": 0
      },
      "text/plain": [
       "chain 1 |          | 00:00 Status"
      ]
     },
     "metadata": {},
     "output_type": "display_data"
    },
    {
     "data": {
      "application/vnd.jupyter.widget-view+json": {
       "model_id": "462aac2cad704ed98cf5cd0996b11dbf",
       "version_major": 2,
       "version_minor": 0
      },
      "text/plain": [
       "chain 2 |          | 00:00 Status"
      ]
     },
     "metadata": {},
     "output_type": "display_data"
    },
    {
     "data": {
      "application/vnd.jupyter.widget-view+json": {
       "model_id": "ebf8f07bda4f46bd9aadbfc3f1f74087",
       "version_major": 2,
       "version_minor": 0
      },
      "text/plain": [
       "chain 3 |          | 00:00 Status"
      ]
     },
     "metadata": {},
     "output_type": "display_data"
    },
    {
     "data": {
      "application/vnd.jupyter.widget-view+json": {
       "model_id": "a7605d65d76e4be08e99102d49486fd8",
       "version_major": 2,
       "version_minor": 0
      },
      "text/plain": [
       "chain 4 |          | 00:00 Status"
      ]
     },
     "metadata": {},
     "output_type": "display_data"
    },
    {
     "name": "stdout",
     "output_type": "stream",
     "text": [
      "                                                                                                                                                                                                                                                                                                                                "
     ]
    },
    {
     "name": "stderr",
     "output_type": "stream",
     "text": [
      "23:11:20 - cmdstanpy - INFO - CmdStan done processing.\n",
      "23:11:20 - cmdstanpy - WARNING - Non-fatal error during sampling:\n",
      "Exception: Exception: normal_lpdf: Random variable is nan, but must be not nan! (in 'real_data.stan', line 81, column 2 to column 53) (in 'real_data.stan', line 175, column 2 to line 180, column 4)\n",
      "\tException: Exception: normal_lpdf: Random variable is nan, but must be not nan! (in 'real_data.stan', line 81, column 2 to column 53) (in 'real_data.stan', line 175, column 2 to line 180, column 4)\n",
      "\tException: Exception: normal_lpdf: Random variable is nan, but must be not nan! (in 'real_data.stan', line 81, column 2 to column 53) (in 'real_data.stan', line 175, column 2 to line 180, column 4)\n",
      "Exception: Exception: normal_lpdf: Random variable is nan, but must be not nan! (in 'real_data.stan', line 81, column 2 to column 53) (in 'real_data.stan', line 175, column 2 to line 180, column 4)\n",
      "\tException: Exception: normal_lpdf: Random variable is nan, but must be not nan! (in 'real_data.stan', line 81, column 2 to column 53) (in 'real_data.stan', line 175, column 2 to line 180, column 4)\n",
      "Exception: Exception: normal_lpdf: Random variable is nan, but must be not nan! (in 'real_data.stan', line 81, column 2 to column 53) (in 'real_data.stan', line 175, column 2 to line 180, column 4)\n",
      "\tException: Exception: normal_lpdf: Random variable is nan, but must be not nan! (in 'real_data.stan', line 81, column 2 to column 53) (in 'real_data.stan', line 175, column 2 to line 180, column 4)\n",
      "Exception: Exception: normal_lpdf: Random variable is nan, but must be not nan! (in 'real_data.stan', line 81, column 2 to column 53) (in 'real_data.stan', line 175, column 2 to line 180, column 4)\n",
      "\tException: Exception: normal_lpdf: Random variable is nan, but must be not nan! (in 'real_data.stan', line 81, column 2 to column 53) (in 'real_data.stan', line 175, column 2 to line 180, column 4)\n",
      "\tException: Exception: normal_lpdf: Random variable is nan, but must be not nan! (in 'real_data.stan', line 81, column 2 to column 53) (in 'real_data.stan', line 175, column 2 to line 180, column 4)\n",
      "Consider re-running with show_console=True if the above output is unclear!\n"
     ]
    },
    {
     "name": "stdout",
     "output_type": "stream",
     "text": [
      "\n"
     ]
    },
    {
     "name": "stderr",
     "output_type": "stream",
     "text": [
      "23:11:23 - cmdstanpy - INFO - CmdStan start processing\n"
     ]
    },
    {
     "name": "stdout",
     "output_type": "stream",
     "text": [
      "contest_3366 end\n",
      "contest_5174 begin\n"
     ]
    },
    {
     "data": {
      "application/vnd.jupyter.widget-view+json": {
       "model_id": "c335bea50185419cb15db5bf6c603148",
       "version_major": 2,
       "version_minor": 0
      },
      "text/plain": [
       "chain 1 |          | 00:00 Status"
      ]
     },
     "metadata": {},
     "output_type": "display_data"
    },
    {
     "data": {
      "application/vnd.jupyter.widget-view+json": {
       "model_id": "e8cf72f91fa54f88be29e91c84302b0a",
       "version_major": 2,
       "version_minor": 0
      },
      "text/plain": [
       "chain 2 |          | 00:00 Status"
      ]
     },
     "metadata": {},
     "output_type": "display_data"
    },
    {
     "data": {
      "application/vnd.jupyter.widget-view+json": {
       "model_id": "cca7ef3d24c84c9aa908ab5eba7d8843",
       "version_major": 2,
       "version_minor": 0
      },
      "text/plain": [
       "chain 3 |          | 00:00 Status"
      ]
     },
     "metadata": {},
     "output_type": "display_data"
    },
    {
     "data": {
      "application/vnd.jupyter.widget-view+json": {
       "model_id": "27b60e2b075c40d1af64e24f6689210b",
       "version_major": 2,
       "version_minor": 0
      },
      "text/plain": [
       "chain 4 |          | 00:00 Status"
      ]
     },
     "metadata": {},
     "output_type": "display_data"
    },
    {
     "name": "stdout",
     "output_type": "stream",
     "text": [
      "                                                                                                                                                                                                                                                                                                                                "
     ]
    },
    {
     "name": "stderr",
     "output_type": "stream",
     "text": [
      "23:13:51 - cmdstanpy - INFO - CmdStan done processing.\n",
      "23:13:51 - cmdstanpy - WARNING - Non-fatal error during sampling:\n",
      "Exception: Exception: normal_lpdf: Random variable is nan, but must be not nan! (in 'real_data.stan', line 81, column 2 to column 53) (in 'real_data.stan', line 175, column 2 to line 180, column 4)\n",
      "\tException: Exception: normal_lpdf: Random variable is nan, but must be not nan! (in 'real_data.stan', line 81, column 2 to column 53) (in 'real_data.stan', line 175, column 2 to line 180, column 4)\n",
      "\tException: Exception: normal_lpdf: Random variable is nan, but must be not nan! (in 'real_data.stan', line 81, column 2 to column 53) (in 'real_data.stan', line 175, column 2 to line 180, column 4)\n",
      "\tException: Exception: normal_lpdf: Random variable is nan, but must be not nan! (in 'real_data.stan', line 81, column 2 to column 53) (in 'real_data.stan', line 175, column 2 to line 180, column 4)\n",
      "\tException: Exception: normal_lpdf: Random variable is nan, but must be not nan! (in 'real_data.stan', line 81, column 2 to column 53) (in 'real_data.stan', line 175, column 2 to line 180, column 4)\n",
      "Exception: Exception: normal_lpdf: Random variable is nan, but must be not nan! (in 'real_data.stan', line 81, column 2 to column 53) (in 'real_data.stan', line 175, column 2 to line 180, column 4)\n",
      "\tException: Exception: normal_lpdf: Random variable is nan, but must be not nan! (in 'real_data.stan', line 81, column 2 to column 53) (in 'real_data.stan', line 175, column 2 to line 180, column 4)\n",
      "\tException: Exception: normal_lpdf: Random variable is nan, but must be not nan! (in 'real_data.stan', line 81, column 2 to column 53) (in 'real_data.stan', line 175, column 2 to line 180, column 4)\n",
      "Exception: Exception: normal_lpdf: Random variable is nan, but must be not nan! (in 'real_data.stan', line 81, column 2 to column 53) (in 'real_data.stan', line 175, column 2 to line 180, column 4)\n",
      "\tException: Exception: normal_lpdf: Random variable is nan, but must be not nan! (in 'real_data.stan', line 81, column 2 to column 53) (in 'real_data.stan', line 175, column 2 to line 180, column 4)\n",
      "\tException: Exception: normal_lpdf: Random variable is nan, but must be not nan! (in 'real_data.stan', line 81, column 2 to column 53) (in 'real_data.stan', line 175, column 2 to line 180, column 4)\n",
      "\tException: Exception: normal_lpdf: Random variable is nan, but must be not nan! (in 'real_data.stan', line 81, column 2 to column 53) (in 'real_data.stan', line 175, column 2 to line 180, column 4)\n",
      "\tException: Exception: normal_lpdf: Random variable is nan, but must be not nan! (in 'real_data.stan', line 81, column 2 to column 53) (in 'real_data.stan', line 175, column 2 to line 180, column 4)\n",
      "Exception: Exception: normal_lpdf: Random variable is nan, but must be not nan! (in 'real_data.stan', line 81, column 2 to column 53) (in 'real_data.stan', line 175, column 2 to line 180, column 4)\n",
      "\tException: Exception: normal_lpdf: Random variable is nan, but must be not nan! (in 'real_data.stan', line 81, column 2 to column 53) (in 'real_data.stan', line 175, column 2 to line 180, column 4)\n",
      "Consider re-running with show_console=True if the above output is unclear!\n"
     ]
    },
    {
     "name": "stdout",
     "output_type": "stream",
     "text": [
      "\n"
     ]
    },
    {
     "name": "stderr",
     "output_type": "stream",
     "text": [
      "23:13:54 - cmdstanpy - WARNING - Some chains may have failed to converge.\n",
      "\tChain 4 had 1 divergent transitions (0.1%)\n",
      "\tUse the \"diagnose()\" method on the CmdStanMCMC object to see further information.\n",
      "23:14:08 - cmdstanpy - INFO - CmdStan start processing\n"
     ]
    },
    {
     "name": "stdout",
     "output_type": "stream",
     "text": [
      "contest_5174 end\n",
      "contest_10200 begin\n"
     ]
    },
    {
     "data": {
      "application/vnd.jupyter.widget-view+json": {
       "model_id": "8f004f1b48164cbca384e27b09d69c96",
       "version_major": 2,
       "version_minor": 0
      },
      "text/plain": [
       "chain 1 |          | 00:00 Status"
      ]
     },
     "metadata": {},
     "output_type": "display_data"
    },
    {
     "data": {
      "application/vnd.jupyter.widget-view+json": {
       "model_id": "fb30776dd68242d9b551c36dea66e0aa",
       "version_major": 2,
       "version_minor": 0
      },
      "text/plain": [
       "chain 2 |          | 00:00 Status"
      ]
     },
     "metadata": {},
     "output_type": "display_data"
    },
    {
     "data": {
      "application/vnd.jupyter.widget-view+json": {
       "model_id": "eb90d8f5b9aa4bfa858eaac04bf86984",
       "version_major": 2,
       "version_minor": 0
      },
      "text/plain": [
       "chain 3 |          | 00:00 Status"
      ]
     },
     "metadata": {},
     "output_type": "display_data"
    },
    {
     "data": {
      "application/vnd.jupyter.widget-view+json": {
       "model_id": "05d29fcf89fe40cb998b768a13788c13",
       "version_major": 2,
       "version_minor": 0
      },
      "text/plain": [
       "chain 4 |          | 00:00 Status"
      ]
     },
     "metadata": {},
     "output_type": "display_data"
    },
    {
     "name": "stdout",
     "output_type": "stream",
     "text": [
      "                                                                                                                                                                                                                                                                                                                                "
     ]
    },
    {
     "name": "stderr",
     "output_type": "stream",
     "text": [
      "23:15:48 - cmdstanpy - INFO - CmdStan done processing.\n",
      "23:15:48 - cmdstanpy - WARNING - Non-fatal error during sampling:\n",
      "Exception: Exception: normal_lpdf: Random variable is nan, but must be not nan! (in 'real_data.stan', line 81, column 2 to column 53) (in 'real_data.stan', line 175, column 2 to line 180, column 4)\n",
      "\tException: Exception: normal_lpdf: Random variable is nan, but must be not nan! (in 'real_data.stan', line 81, column 2 to column 53) (in 'real_data.stan', line 175, column 2 to line 180, column 4)\n",
      "\tException: Exception: normal_lpdf: Random variable is nan, but must be not nan! (in 'real_data.stan', line 81, column 2 to column 53) (in 'real_data.stan', line 175, column 2 to line 180, column 4)\n",
      "\tException: Exception: normal_lpdf: Random variable is nan, but must be not nan! (in 'real_data.stan', line 81, column 2 to column 53) (in 'real_data.stan', line 175, column 2 to line 180, column 4)\n",
      "Exception: Exception: normal_lpdf: Random variable is nan, but must be not nan! (in 'real_data.stan', line 81, column 2 to column 53) (in 'real_data.stan', line 175, column 2 to line 180, column 4)\n",
      "Exception: Exception: normal_lpdf: Random variable is nan, but must be not nan! (in 'real_data.stan', line 81, column 2 to column 53) (in 'real_data.stan', line 175, column 2 to line 180, column 4)\n",
      "\tException: Exception: normal_lpdf: Random variable is nan, but must be not nan! (in 'real_data.stan', line 81, column 2 to column 53) (in 'real_data.stan', line 175, column 2 to line 180, column 4)\n",
      "\tException: Exception: normal_lpdf: Random variable is nan, but must be not nan! (in 'real_data.stan', line 81, column 2 to column 53) (in 'real_data.stan', line 175, column 2 to line 180, column 4)\n",
      "\tException: Exception: normal_lpdf: Random variable is nan, but must be not nan! (in 'real_data.stan', line 81, column 2 to column 53) (in 'real_data.stan', line 175, column 2 to line 180, column 4)\n",
      "Exception: Exception: normal_lpdf: Random variable is nan, but must be not nan! (in 'real_data.stan', line 81, column 2 to column 53) (in 'real_data.stan', line 175, column 2 to line 180, column 4)\n",
      "\tException: Exception: normal_lpdf: Random variable is nan, but must be not nan! (in 'real_data.stan', line 81, column 2 to column 53) (in 'real_data.stan', line 175, column 2 to line 180, column 4)\n",
      "\tException: Exception: normal_lpdf: Random variable is nan, but must be not nan! (in 'real_data.stan', line 81, column 2 to column 53) (in 'real_data.stan', line 175, column 2 to line 180, column 4)\n",
      "\tException: Exception: normal_lpdf: Random variable is nan, but must be not nan! (in 'real_data.stan', line 81, column 2 to column 53) (in 'real_data.stan', line 175, column 2 to line 180, column 4)\n",
      "Consider re-running with show_console=True if the above output is unclear!\n"
     ]
    },
    {
     "name": "stdout",
     "output_type": "stream",
     "text": [
      "\n"
     ]
    },
    {
     "name": "stderr",
     "output_type": "stream",
     "text": [
      "23:15:58 - cmdstanpy - INFO - CmdStan start processing\n"
     ]
    },
    {
     "name": "stdout",
     "output_type": "stream",
     "text": [
      "contest_10200 end\n",
      "contest_9120 begin\n"
     ]
    },
    {
     "data": {
      "application/vnd.jupyter.widget-view+json": {
       "model_id": "886fa891a7994bfb99ef57ba21cfeb15",
       "version_major": 2,
       "version_minor": 0
      },
      "text/plain": [
       "chain 1 |          | 00:00 Status"
      ]
     },
     "metadata": {},
     "output_type": "display_data"
    },
    {
     "data": {
      "application/vnd.jupyter.widget-view+json": {
       "model_id": "c9c1708408c44f98b06f49be1e05f0f7",
       "version_major": 2,
       "version_minor": 0
      },
      "text/plain": [
       "chain 2 |          | 00:00 Status"
      ]
     },
     "metadata": {},
     "output_type": "display_data"
    },
    {
     "data": {
      "application/vnd.jupyter.widget-view+json": {
       "model_id": "dab554c1eff9492a871159010827f173",
       "version_major": 2,
       "version_minor": 0
      },
      "text/plain": [
       "chain 3 |          | 00:00 Status"
      ]
     },
     "metadata": {},
     "output_type": "display_data"
    },
    {
     "data": {
      "application/vnd.jupyter.widget-view+json": {
       "model_id": "dac91397966b46bfaa92923fdc79af5d",
       "version_major": 2,
       "version_minor": 0
      },
      "text/plain": [
       "chain 4 |          | 00:00 Status"
      ]
     },
     "metadata": {},
     "output_type": "display_data"
    },
    {
     "name": "stdout",
     "output_type": "stream",
     "text": [
      "                                                                                                                                                                                                                                                                                                                                "
     ]
    },
    {
     "name": "stderr",
     "output_type": "stream",
     "text": [
      "01:41:27 - cmdstanpy - INFO - CmdStan done processing.\n",
      "01:41:27 - cmdstanpy - WARNING - Non-fatal error during sampling:\n",
      "Exception: Exception: normal_lpdf: Random variable is nan, but must be not nan! (in 'real_data.stan', line 81, column 2 to column 53) (in 'real_data.stan', line 175, column 2 to line 180, column 4)\n",
      "\tException: Exception: normal_lpdf: Random variable is nan, but must be not nan! (in 'real_data.stan', line 81, column 2 to column 53) (in 'real_data.stan', line 175, column 2 to line 180, column 4)\n",
      "\tException: Exception: normal_lpdf: Random variable is nan, but must be not nan! (in 'real_data.stan', line 81, column 2 to column 53) (in 'real_data.stan', line 175, column 2 to line 180, column 4)\n",
      "\tException: Exception: normal_lpdf: Random variable is nan, but must be not nan! (in 'real_data.stan', line 81, column 2 to column 53) (in 'real_data.stan', line 175, column 2 to line 180, column 4)\n",
      "\tException: Exception: normal_lpdf: Random variable is nan, but must be not nan! (in 'real_data.stan', line 81, column 2 to column 53) (in 'real_data.stan', line 175, column 2 to line 180, column 4)\n",
      "\tException: Exception: normal_lpdf: Random variable is nan, but must be not nan! (in 'real_data.stan', line 81, column 2 to column 53) (in 'real_data.stan', line 175, column 2 to line 180, column 4)\n",
      "Exception: Exception: normal_lpdf: Random variable is nan, but must be not nan! (in 'real_data.stan', line 81, column 2 to column 53) (in 'real_data.stan', line 175, column 2 to line 180, column 4)\n",
      "\tException: Exception: normal_lpdf: Random variable is nan, but must be not nan! (in 'real_data.stan', line 81, column 2 to column 53) (in 'real_data.stan', line 175, column 2 to line 180, column 4)\n",
      "\tException: Exception: normal_lpdf: Random variable is nan, but must be not nan! (in 'real_data.stan', line 81, column 2 to column 53) (in 'real_data.stan', line 175, column 2 to line 180, column 4)\n",
      "\tException: Exception: normal_lpdf: Random variable is nan, but must be not nan! (in 'real_data.stan', line 81, column 2 to column 53) (in 'real_data.stan', line 175, column 2 to line 180, column 4)\n",
      "\tException: Exception: normal_lpdf: Random variable is nan, but must be not nan! (in 'real_data.stan', line 81, column 2 to column 53) (in 'real_data.stan', line 175, column 2 to line 180, column 4)\n",
      "Exception: Exception: normal_lpdf: Random variable is nan, but must be not nan! (in 'real_data.stan', line 81, column 2 to column 53) (in 'real_data.stan', line 175, column 2 to line 180, column 4)\n",
      "\tException: Exception: normal_lpdf: Random variable is nan, but must be not nan! (in 'real_data.stan', line 81, column 2 to column 53) (in 'real_data.stan', line 175, column 2 to line 180, column 4)\n",
      "\tException: Exception: normal_lpdf: Random variable is nan, but must be not nan! (in 'real_data.stan', line 81, column 2 to column 53) (in 'real_data.stan', line 175, column 2 to line 180, column 4)\n",
      "\tException: Exception: normal_lpdf: Random variable is nan, but must be not nan! (in 'real_data.stan', line 81, column 2 to column 53) (in 'real_data.stan', line 175, column 2 to line 180, column 4)\n",
      "\tException: Exception: normal_lpdf: Random variable is nan, but must be not nan! (in 'real_data.stan', line 81, column 2 to column 53) (in 'real_data.stan', line 175, column 2 to line 180, column 4)\n",
      "Exception: Exception: normal_lpdf: Random variable is nan, but must be not nan! (in 'real_data.stan', line 81, column 2 to column 53) (in 'real_data.stan', line 175, column 2 to line 180, column 4)\n",
      "\tException: Exception: normal_lpdf: Random variable is nan, but must be not nan! (in 'real_data.stan', line 81, column 2 to column 53) (in 'real_data.stan', line 175, column 2 to line 180, column 4)\n",
      "\tException: Exception: normal_lpdf: Random variable is nan, but must be not nan! (in 'real_data.stan', line 81, column 2 to column 53) (in 'real_data.stan', line 175, column 2 to line 180, column 4)\n",
      "\tException: Exception: normal_lpdf: Random variable is nan, but must be not nan! (in 'real_data.stan', line 81, column 2 to column 53) (in 'real_data.stan', line 175, column 2 to line 180, column 4)\n",
      "\tException: Exception: normal_lpdf: Random variable is nan, but must be not nan! (in 'real_data.stan', line 81, column 2 to column 53) (in 'real_data.stan', line 175, column 2 to line 180, column 4)\n",
      "Consider re-running with show_console=True if the above output is unclear!\n"
     ]
    },
    {
     "name": "stdout",
     "output_type": "stream",
     "text": [
      "\n"
     ]
    },
    {
     "name": "stderr",
     "output_type": "stream",
     "text": [
      "01:41:31 - cmdstanpy - WARNING - Some chains may have failed to converge.\n",
      "\tChain 1 had 37 divergent transitions (1.8%)\n",
      "\tChain 1 had 1397 iterations at max treedepth (69.8%)\n",
      "\tChain 2 had 20 divergent transitions (1.0%)\n",
      "\tChain 2 had 1812 iterations at max treedepth (90.6%)\n",
      "\tChain 3 had 80 divergent transitions (4.0%)\n",
      "\tChain 3 had 3 iterations at max treedepth (0.1%)\n",
      "\tChain 4 had 32 divergent transitions (1.6%)\n",
      "\tChain 4 had 1704 iterations at max treedepth (85.2%)\n",
      "\tUse the \"diagnose()\" method on the CmdStanMCMC object to see further information.\n"
     ]
    },
    {
     "name": "stdout",
     "output_type": "stream",
     "text": [
      "contest_9120 end\n",
      "contest_4657 begin\n"
     ]
    },
    {
     "name": "stderr",
     "output_type": "stream",
     "text": [
      "01:41:48 - cmdstanpy - INFO - CmdStan start processing\n"
     ]
    },
    {
     "data": {
      "application/vnd.jupyter.widget-view+json": {
       "model_id": "0387af3f2df743f58e5aebeafbc2e7da",
       "version_major": 2,
       "version_minor": 0
      },
      "text/plain": [
       "chain 1 |          | 00:00 Status"
      ]
     },
     "metadata": {},
     "output_type": "display_data"
    },
    {
     "data": {
      "application/vnd.jupyter.widget-view+json": {
       "model_id": "b104ca434d194e9483015e119ccdcf10",
       "version_major": 2,
       "version_minor": 0
      },
      "text/plain": [
       "chain 2 |          | 00:00 Status"
      ]
     },
     "metadata": {},
     "output_type": "display_data"
    },
    {
     "data": {
      "application/vnd.jupyter.widget-view+json": {
       "model_id": "47e5cb96d20446ddb271feb59ef376aa",
       "version_major": 2,
       "version_minor": 0
      },
      "text/plain": [
       "chain 3 |          | 00:00 Status"
      ]
     },
     "metadata": {},
     "output_type": "display_data"
    },
    {
     "data": {
      "application/vnd.jupyter.widget-view+json": {
       "model_id": "65f1c94c4950488391021f8be42ed7e2",
       "version_major": 2,
       "version_minor": 0
      },
      "text/plain": [
       "chain 4 |          | 00:00 Status"
      ]
     },
     "metadata": {},
     "output_type": "display_data"
    },
    {
     "name": "stdout",
     "output_type": "stream",
     "text": [
      "                                                                                                                                                                                                                                                                                                                                "
     ]
    },
    {
     "name": "stderr",
     "output_type": "stream",
     "text": [
      "03:20:55 - cmdstanpy - INFO - CmdStan done processing.\n",
      "03:20:55 - cmdstanpy - WARNING - Non-fatal error during sampling:\n",
      "Exception: Exception: normal_lpdf: Random variable is nan, but must be not nan! (in 'real_data.stan', line 81, column 2 to column 53) (in 'real_data.stan', line 175, column 2 to line 180, column 4)\n",
      "\tException: Exception: normal_lpdf: Random variable is nan, but must be not nan! (in 'real_data.stan', line 81, column 2 to column 53) (in 'real_data.stan', line 175, column 2 to line 180, column 4)\n",
      "\tException: Exception: normal_lpdf: Random variable is nan, but must be not nan! (in 'real_data.stan', line 81, column 2 to column 53) (in 'real_data.stan', line 175, column 2 to line 180, column 4)\n",
      "\tException: Exception: normal_lpdf: Random variable is nan, but must be not nan! (in 'real_data.stan', line 81, column 2 to column 53) (in 'real_data.stan', line 175, column 2 to line 180, column 4)\n",
      "\tException: Exception: normal_lpdf: Random variable is nan, but must be not nan! (in 'real_data.stan', line 81, column 2 to column 53) (in 'real_data.stan', line 175, column 2 to line 180, column 4)\n",
      "Exception: Exception: normal_lpdf: Random variable is nan, but must be not nan! (in 'real_data.stan', line 81, column 2 to column 53) (in 'real_data.stan', line 175, column 2 to line 180, column 4)\n",
      "\tException: Exception: normal_lpdf: Random variable is nan, but must be not nan! (in 'real_data.stan', line 81, column 2 to column 53) (in 'real_data.stan', line 175, column 2 to line 180, column 4)\n",
      "\tException: Exception: normal_lpdf: Random variable is nan, but must be not nan! (in 'real_data.stan', line 81, column 2 to column 53) (in 'real_data.stan', line 175, column 2 to line 180, column 4)\n",
      "\tException: Exception: normal_lpdf: Random variable is nan, but must be not nan! (in 'real_data.stan', line 81, column 2 to column 53) (in 'real_data.stan', line 175, column 2 to line 180, column 4)\n",
      "Exception: Exception: normal_lpdf: Random variable is nan, but must be not nan! (in 'real_data.stan', line 81, column 2 to column 53) (in 'real_data.stan', line 175, column 2 to line 180, column 4)\n",
      "\tException: Exception: normal_lpdf: Random variable is nan, but must be not nan! (in 'real_data.stan', line 81, column 2 to column 53) (in 'real_data.stan', line 175, column 2 to line 180, column 4)\n",
      "\tException: Exception: normal_lpdf: Random variable is nan, but must be not nan! (in 'real_data.stan', line 81, column 2 to column 53) (in 'real_data.stan', line 175, column 2 to line 180, column 4)\n",
      "\tException: Exception: normal_lpdf: Random variable is nan, but must be not nan! (in 'real_data.stan', line 81, column 2 to column 53) (in 'real_data.stan', line 175, column 2 to line 180, column 4)\n",
      "\tException: Exception: normal_lpdf: Random variable is nan, but must be not nan! (in 'real_data.stan', line 81, column 2 to column 53) (in 'real_data.stan', line 175, column 2 to line 180, column 4)\n",
      "Exception: Exception: normal_lpdf: Random variable is nan, but must be not nan! (in 'real_data.stan', line 81, column 2 to column 53) (in 'real_data.stan', line 175, column 2 to line 180, column 4)\n",
      "\tException: Exception: normal_lpdf: Random variable is nan, but must be not nan! (in 'real_data.stan', line 81, column 2 to column 53) (in 'real_data.stan', line 175, column 2 to line 180, column 4)\n",
      "\tException: Exception: normal_lpdf: Random variable is nan, but must be not nan! (in 'real_data.stan', line 81, column 2 to column 53) (in 'real_data.stan', line 175, column 2 to line 180, column 4)\n",
      "\tException: Exception: normal_lpdf: Random variable is nan, but must be not nan! (in 'real_data.stan', line 81, column 2 to column 53) (in 'real_data.stan', line 175, column 2 to line 180, column 4)\n",
      "Consider re-running with show_console=True if the above output is unclear!\n"
     ]
    },
    {
     "name": "stdout",
     "output_type": "stream",
     "text": [
      "\n"
     ]
    },
    {
     "name": "stderr",
     "output_type": "stream",
     "text": [
      "03:21:01 - cmdstanpy - WARNING - Some chains may have failed to converge.\n",
      "\tChain 1 had 15 divergent transitions (0.8%)\n",
      "\tChain 1 had 1726 iterations at max treedepth (86.3%)\n",
      "\tChain 2 had 80 divergent transitions (4.0%)\n",
      "\tChain 2 had 9 iterations at max treedepth (0.4%)\n",
      "\tChain 3 had 75 divergent transitions (3.8%)\n",
      "\tChain 4 had 70 divergent transitions (3.5%)\n",
      "\tUse the \"diagnose()\" method on the CmdStanMCMC object to see further information.\n"
     ]
    },
    {
     "name": "stdout",
     "output_type": "stream",
     "text": [
      "contest_4657 end\n"
     ]
    },
    {
     "name": "stderr",
     "output_type": "stream",
     "text": [
      "03:21:26 - cmdstanpy - INFO - CmdStan start processing\n"
     ]
    },
    {
     "name": "stdout",
     "output_type": "stream",
     "text": [
      "contest_2445 begin\n"
     ]
    },
    {
     "data": {
      "application/vnd.jupyter.widget-view+json": {
       "model_id": "b78bac71b7c945eeaece8ba3dd28957d",
       "version_major": 2,
       "version_minor": 0
      },
      "text/plain": [
       "chain 1 |          | 00:00 Status"
      ]
     },
     "metadata": {},
     "output_type": "display_data"
    },
    {
     "data": {
      "application/vnd.jupyter.widget-view+json": {
       "model_id": "f3cd9d4a1f1246088efebc7f0c5a206a",
       "version_major": 2,
       "version_minor": 0
      },
      "text/plain": [
       "chain 2 |          | 00:00 Status"
      ]
     },
     "metadata": {},
     "output_type": "display_data"
    },
    {
     "data": {
      "application/vnd.jupyter.widget-view+json": {
       "model_id": "73c82638027e4f608a0c5142f2cb7a86",
       "version_major": 2,
       "version_minor": 0
      },
      "text/plain": [
       "chain 3 |          | 00:00 Status"
      ]
     },
     "metadata": {},
     "output_type": "display_data"
    },
    {
     "data": {
      "application/vnd.jupyter.widget-view+json": {
       "model_id": "158eef80b86a470aacb1418fcf0d066f",
       "version_major": 2,
       "version_minor": 0
      },
      "text/plain": [
       "chain 4 |          | 00:00 Status"
      ]
     },
     "metadata": {},
     "output_type": "display_data"
    },
    {
     "name": "stdout",
     "output_type": "stream",
     "text": [
      "                                                                                                                                                                                                                                                                                                                                "
     ]
    },
    {
     "name": "stderr",
     "output_type": "stream",
     "text": [
      "03:22:22 - cmdstanpy - INFO - CmdStan done processing.\n",
      "03:22:22 - cmdstanpy - WARNING - Non-fatal error during sampling:\n",
      "Exception: Exception: normal_lpdf: Random variable is nan, but must be not nan! (in 'real_data.stan', line 81, column 2 to column 53) (in 'real_data.stan', line 175, column 2 to line 180, column 4)\n",
      "\tException: Exception: normal_lpdf: Random variable is nan, but must be not nan! (in 'real_data.stan', line 81, column 2 to column 53) (in 'real_data.stan', line 175, column 2 to line 180, column 4)\n",
      "\tException: Exception: normal_lpdf: Random variable is nan, but must be not nan! (in 'real_data.stan', line 81, column 2 to column 53) (in 'real_data.stan', line 175, column 2 to line 180, column 4)\n",
      "Exception: Exception: normal_lpdf: Random variable is nan, but must be not nan! (in 'real_data.stan', line 81, column 2 to column 53) (in 'real_data.stan', line 175, column 2 to line 180, column 4)\n",
      "\tException: Exception: normal_lpdf: Random variable is nan, but must be not nan! (in 'real_data.stan', line 81, column 2 to column 53) (in 'real_data.stan', line 175, column 2 to line 180, column 4)\n",
      "\tException: Exception: normal_lpdf: Random variable is nan, but must be not nan! (in 'real_data.stan', line 81, column 2 to column 53) (in 'real_data.stan', line 175, column 2 to line 180, column 4)\n",
      "Exception: Exception: normal_lpdf: Random variable is nan, but must be not nan! (in 'real_data.stan', line 81, column 2 to column 53) (in 'real_data.stan', line 175, column 2 to line 180, column 4)\n",
      "\tException: Exception: normal_lpdf: Random variable is nan, but must be not nan! (in 'real_data.stan', line 81, column 2 to column 53) (in 'real_data.stan', line 175, column 2 to line 180, column 4)\n",
      "\tException: Exception: normal_lpdf: Random variable is nan, but must be not nan! (in 'real_data.stan', line 81, column 2 to column 53) (in 'real_data.stan', line 175, column 2 to line 180, column 4)\n",
      "\tException: Exception: normal_lpdf: Random variable is nan, but must be not nan! (in 'real_data.stan', line 81, column 2 to column 53) (in 'real_data.stan', line 175, column 2 to line 180, column 4)\n",
      "\tException: Exception: normal_lpdf: Random variable is nan, but must be not nan! (in 'real_data.stan', line 81, column 2 to column 53) (in 'real_data.stan', line 175, column 2 to line 180, column 4)\n",
      "\tException: Exception: normal_lpdf: Random variable is nan, but must be not nan! (in 'real_data.stan', line 81, column 2 to column 53) (in 'real_data.stan', line 175, column 2 to line 180, column 4)\n",
      "\tException: Exception: normal_lpdf: Random variable is nan, but must be not nan! (in 'real_data.stan', line 81, column 2 to column 53) (in 'real_data.stan', line 175, column 2 to line 180, column 4)\n",
      "\tException: Exception: normal_lpdf: Random variable is nan, but must be not nan! (in 'real_data.stan', line 81, column 2 to column 53) (in 'real_data.stan', line 175, column 2 to line 180, column 4)\n",
      "\tException: Exception: normal_lpdf: Random variable is nan, but must be not nan! (in 'real_data.stan', line 81, column 2 to column 53) (in 'real_data.stan', line 175, column 2 to line 180, column 4)\n",
      "Exception: Exception: normal_lpdf: Random variable is nan, but must be not nan! (in 'real_data.stan', line 81, column 2 to column 53) (in 'real_data.stan', line 175, column 2 to line 180, column 4)\n",
      "\tException: Exception: normal_lpdf: Random variable is nan, but must be not nan! (in 'real_data.stan', line 81, column 2 to column 53) (in 'real_data.stan', line 175, column 2 to line 180, column 4)\n",
      "\tException: Exception: normal_lpdf: Random variable is nan, but must be not nan! (in 'real_data.stan', line 81, column 2 to column 53) (in 'real_data.stan', line 175, column 2 to line 180, column 4)\n",
      "\tException: Exception: normal_lpdf: Random variable is nan, but must be not nan! (in 'real_data.stan', line 81, column 2 to column 53) (in 'real_data.stan', line 175, column 2 to line 180, column 4)\n",
      "\tException: Exception: normal_lpdf: Random variable is nan, but must be not nan! (in 'real_data.stan', line 81, column 2 to column 53) (in 'real_data.stan', line 175, column 2 to line 180, column 4)\n",
      "\tException: Exception: normal_lpdf: Random variable is nan, but must be not nan! (in 'real_data.stan', line 81, column 2 to column 53) (in 'real_data.stan', line 175, column 2 to line 180, column 4)\n",
      "Consider re-running with show_console=True if the above output is unclear!\n"
     ]
    },
    {
     "name": "stdout",
     "output_type": "stream",
     "text": [
      "\n"
     ]
    },
    {
     "name": "stderr",
     "output_type": "stream",
     "text": [
      "03:22:23 - cmdstanpy - WARNING - Some chains may have failed to converge.\n",
      "\tChain 1 had 3 divergent transitions (0.1%)\n",
      "\tChain 2 had 1 divergent transitions (0.1%)\n",
      "\tChain 3 had 2 divergent transitions (0.1%)\n",
      "\tChain 4 had 3 divergent transitions (0.1%)\n",
      "\tUse the \"diagnose()\" method on the CmdStanMCMC object to see further information.\n",
      "03:22:27 - cmdstanpy - INFO - CmdStan start processing\n"
     ]
    },
    {
     "name": "stdout",
     "output_type": "stream",
     "text": [
      "contest_2445 end\n",
      "contest_3080 begin\n"
     ]
    },
    {
     "data": {
      "application/vnd.jupyter.widget-view+json": {
       "model_id": "2d5727d43415401c8cd38873f2f7762d",
       "version_major": 2,
       "version_minor": 0
      },
      "text/plain": [
       "chain 1 |          | 00:00 Status"
      ]
     },
     "metadata": {},
     "output_type": "display_data"
    },
    {
     "data": {
      "application/vnd.jupyter.widget-view+json": {
       "model_id": "51e1b543de384732888a442073ab6811",
       "version_major": 2,
       "version_minor": 0
      },
      "text/plain": [
       "chain 2 |          | 00:00 Status"
      ]
     },
     "metadata": {},
     "output_type": "display_data"
    },
    {
     "data": {
      "application/vnd.jupyter.widget-view+json": {
       "model_id": "59692e5a75ff4cd3b2ff7c4f0cce56de",
       "version_major": 2,
       "version_minor": 0
      },
      "text/plain": [
       "chain 3 |          | 00:00 Status"
      ]
     },
     "metadata": {},
     "output_type": "display_data"
    },
    {
     "data": {
      "application/vnd.jupyter.widget-view+json": {
       "model_id": "47b63384860a423aa09d7474edc21e41",
       "version_major": 2,
       "version_minor": 0
      },
      "text/plain": [
       "chain 4 |          | 00:00 Status"
      ]
     },
     "metadata": {},
     "output_type": "display_data"
    },
    {
     "name": "stdout",
     "output_type": "stream",
     "text": [
      "                                                                                                                                                                                                                                                                                                                                "
     ]
    },
    {
     "name": "stderr",
     "output_type": "stream",
     "text": [
      "03:23:17 - cmdstanpy - INFO - CmdStan done processing.\n",
      "03:23:17 - cmdstanpy - WARNING - Non-fatal error during sampling:\n",
      "Exception: Exception: normal_lpdf: Random variable is nan, but must be not nan! (in 'real_data.stan', line 81, column 2 to column 53) (in 'real_data.stan', line 175, column 2 to line 180, column 4)\n",
      "\tException: Exception: normal_lpdf: Random variable is nan, but must be not nan! (in 'real_data.stan', line 81, column 2 to column 53) (in 'real_data.stan', line 175, column 2 to line 180, column 4)\n",
      "Exception: Exception: normal_lpdf: Random variable is nan, but must be not nan! (in 'real_data.stan', line 81, column 2 to column 53) (in 'real_data.stan', line 175, column 2 to line 180, column 4)\n",
      "\tException: Exception: normal_lpdf: Random variable is nan, but must be not nan! (in 'real_data.stan', line 81, column 2 to column 53) (in 'real_data.stan', line 175, column 2 to line 180, column 4)\n",
      "\tException: Exception: normal_lpdf: Random variable is nan, but must be not nan! (in 'real_data.stan', line 81, column 2 to column 53) (in 'real_data.stan', line 175, column 2 to line 180, column 4)\n",
      "\tException: Exception: normal_lpdf: Random variable is nan, but must be not nan! (in 'real_data.stan', line 81, column 2 to column 53) (in 'real_data.stan', line 175, column 2 to line 180, column 4)\n",
      "Exception: Exception: normal_lpdf: Random variable is nan, but must be not nan! (in 'real_data.stan', line 81, column 2 to column 53) (in 'real_data.stan', line 175, column 2 to line 180, column 4)\n",
      "\tException: Exception: normal_lpdf: Random variable is nan, but must be not nan! (in 'real_data.stan', line 81, column 2 to column 53) (in 'real_data.stan', line 175, column 2 to line 180, column 4)\n",
      "\tException: Exception: normal_lpdf: Random variable is nan, but must be not nan! (in 'real_data.stan', line 81, column 2 to column 53) (in 'real_data.stan', line 175, column 2 to line 180, column 4)\n",
      "\tException: Exception: normal_lpdf: Random variable is nan, but must be not nan! (in 'real_data.stan', line 81, column 2 to column 53) (in 'real_data.stan', line 175, column 2 to line 180, column 4)\n",
      "Exception: Exception: normal_lpdf: Random variable is nan, but must be not nan! (in 'real_data.stan', line 81, column 2 to column 53) (in 'real_data.stan', line 175, column 2 to line 180, column 4)\n",
      "Consider re-running with show_console=True if the above output is unclear!\n"
     ]
    },
    {
     "name": "stdout",
     "output_type": "stream",
     "text": [
      "\n"
     ]
    },
    {
     "name": "stderr",
     "output_type": "stream",
     "text": [
      "03:23:24 - cmdstanpy - INFO - CmdStan start processing\n"
     ]
    },
    {
     "name": "stdout",
     "output_type": "stream",
     "text": [
      "contest_3080 end\n",
      "contest_37190 begin\n"
     ]
    },
    {
     "data": {
      "application/vnd.jupyter.widget-view+json": {
       "model_id": "068f3361e7e1421cad567a456d4c53bf",
       "version_major": 2,
       "version_minor": 0
      },
      "text/plain": [
       "chain 1 |          | 00:00 Status"
      ]
     },
     "metadata": {},
     "output_type": "display_data"
    },
    {
     "data": {
      "application/vnd.jupyter.widget-view+json": {
       "model_id": "5d58325b6c404bb391c844f0cce9f8a6",
       "version_major": 2,
       "version_minor": 0
      },
      "text/plain": [
       "chain 2 |          | 00:00 Status"
      ]
     },
     "metadata": {},
     "output_type": "display_data"
    },
    {
     "data": {
      "application/vnd.jupyter.widget-view+json": {
       "model_id": "ac72d7cfac1143219ae751195118d84d",
       "version_major": 2,
       "version_minor": 0
      },
      "text/plain": [
       "chain 3 |          | 00:00 Status"
      ]
     },
     "metadata": {},
     "output_type": "display_data"
    },
    {
     "data": {
      "application/vnd.jupyter.widget-view+json": {
       "model_id": "d077441dcefa4b48956a6a575f5f32ba",
       "version_major": 2,
       "version_minor": 0
      },
      "text/plain": [
       "chain 4 |          | 00:00 Status"
      ]
     },
     "metadata": {},
     "output_type": "display_data"
    },
    {
     "name": "stdout",
     "output_type": "stream",
     "text": [
      "                                                                                                                                                                                                                                                                                                                                "
     ]
    },
    {
     "name": "stderr",
     "output_type": "stream",
     "text": [
      "03:27:17 - cmdstanpy - INFO - CmdStan done processing.\n",
      "03:27:17 - cmdstanpy - WARNING - Non-fatal error during sampling:\n",
      "Exception: Exception: normal_lpdf: Random variable is nan, but must be not nan! (in 'real_data.stan', line 81, column 2 to column 53) (in 'real_data.stan', line 175, column 2 to line 180, column 4)\n",
      "\tException: Exception: normal_lpdf: Random variable is nan, but must be not nan! (in 'real_data.stan', line 81, column 2 to column 53) (in 'real_data.stan', line 175, column 2 to line 180, column 4)\n",
      "\tException: Exception: normal_lpdf: Random variable is nan, but must be not nan! (in 'real_data.stan', line 81, column 2 to column 53) (in 'real_data.stan', line 175, column 2 to line 180, column 4)\n",
      "\tException: Exception: normal_lpdf: Random variable is nan, but must be not nan! (in 'real_data.stan', line 81, column 2 to column 53) (in 'real_data.stan', line 175, column 2 to line 180, column 4)\n",
      "\tException: Exception: normal_lpdf: Random variable is nan, but must be not nan! (in 'real_data.stan', line 81, column 2 to column 53) (in 'real_data.stan', line 175, column 2 to line 180, column 4)\n",
      "\tException: Exception: normal_lpdf: Random variable is nan, but must be not nan! (in 'real_data.stan', line 81, column 2 to column 53) (in 'real_data.stan', line 175, column 2 to line 180, column 4)\n",
      "Exception: Exception: normal_lpdf: Random variable is nan, but must be not nan! (in 'real_data.stan', line 81, column 2 to column 53) (in 'real_data.stan', line 175, column 2 to line 180, column 4)\n",
      "\tException: Exception: normal_lpdf: Random variable is nan, but must be not nan! (in 'real_data.stan', line 81, column 2 to column 53) (in 'real_data.stan', line 175, column 2 to line 180, column 4)\n",
      "\tException: Exception: normal_lpdf: Random variable is nan, but must be not nan! (in 'real_data.stan', line 81, column 2 to column 53) (in 'real_data.stan', line 175, column 2 to line 180, column 4)\n",
      "\tException: Exception: normal_lpdf: Random variable is nan, but must be not nan! (in 'real_data.stan', line 81, column 2 to column 53) (in 'real_data.stan', line 175, column 2 to line 180, column 4)\n",
      "Exception: Exception: normal_lpdf: Random variable is nan, but must be not nan! (in 'real_data.stan', line 81, column 2 to column 53) (in 'real_data.stan', line 175, column 2 to line 180, column 4)\n",
      "\tException: Exception: normal_lpdf: Random variable is nan, but must be not nan! (in 'real_data.stan', line 81, column 2 to column 53) (in 'real_data.stan', line 175, column 2 to line 180, column 4)\n",
      "\tException: Exception: normal_lpdf: Random variable is nan, but must be not nan! (in 'real_data.stan', line 81, column 2 to column 53) (in 'real_data.stan', line 175, column 2 to line 180, column 4)\n",
      "\tException: Exception: normal_lpdf: Random variable is nan, but must be not nan! (in 'real_data.stan', line 81, column 2 to column 53) (in 'real_data.stan', line 175, column 2 to line 180, column 4)\n",
      "\tException: Exception: normal_lpdf: Random variable is nan, but must be not nan! (in 'real_data.stan', line 81, column 2 to column 53) (in 'real_data.stan', line 175, column 2 to line 180, column 4)\n",
      "Exception: Exception: normal_lpdf: Random variable is nan, but must be not nan! (in 'real_data.stan', line 81, column 2 to column 53) (in 'real_data.stan', line 175, column 2 to line 180, column 4)\n",
      "\tException: Exception: normal_lpdf: Random variable is nan, but must be not nan! (in 'real_data.stan', line 81, column 2 to column 53) (in 'real_data.stan', line 175, column 2 to line 180, column 4)\n",
      "\tException: Exception: normal_lpdf: Random variable is nan, but must be not nan! (in 'real_data.stan', line 81, column 2 to column 53) (in 'real_data.stan', line 175, column 2 to line 180, column 4)\n",
      "Consider re-running with show_console=True if the above output is unclear!\n"
     ]
    },
    {
     "name": "stdout",
     "output_type": "stream",
     "text": [
      "\n"
     ]
    },
    {
     "name": "stderr",
     "output_type": "stream",
     "text": [
      "03:27:21 - cmdstanpy - WARNING - Some chains may have failed to converge.\n",
      "\tChain 3 had 1 divergent transitions (0.1%)\n",
      "\tChain 4 had 1 divergent transitions (0.1%)\n",
      "\tUse the \"diagnose()\" method on the CmdStanMCMC object to see further information.\n",
      "03:27:41 - cmdstanpy - INFO - CmdStan start processing\n"
     ]
    },
    {
     "name": "stdout",
     "output_type": "stream",
     "text": [
      "contest_37190 end\n",
      "contest_23652 begin\n"
     ]
    },
    {
     "data": {
      "application/vnd.jupyter.widget-view+json": {
       "model_id": "f6a4a8a5d1d243e184d75b59be051d28",
       "version_major": 2,
       "version_minor": 0
      },
      "text/plain": [
       "chain 1 |          | 00:00 Status"
      ]
     },
     "metadata": {},
     "output_type": "display_data"
    },
    {
     "data": {
      "application/vnd.jupyter.widget-view+json": {
       "model_id": "0db778c52d7d4e91a5abaecb24ff2d9f",
       "version_major": 2,
       "version_minor": 0
      },
      "text/plain": [
       "chain 2 |          | 00:00 Status"
      ]
     },
     "metadata": {},
     "output_type": "display_data"
    },
    {
     "data": {
      "application/vnd.jupyter.widget-view+json": {
       "model_id": "37805b0d634d420fa64d54d9b715948d",
       "version_major": 2,
       "version_minor": 0
      },
      "text/plain": [
       "chain 3 |          | 00:00 Status"
      ]
     },
     "metadata": {},
     "output_type": "display_data"
    },
    {
     "data": {
      "application/vnd.jupyter.widget-view+json": {
       "model_id": "feee83628ab549bda5b15c0e0003186a",
       "version_major": 2,
       "version_minor": 0
      },
      "text/plain": [
       "chain 4 |          | 00:00 Status"
      ]
     },
     "metadata": {},
     "output_type": "display_data"
    },
    {
     "name": "stdout",
     "output_type": "stream",
     "text": [
      "                                                                                                                                                                                                                                                                                                                                "
     ]
    },
    {
     "name": "stderr",
     "output_type": "stream",
     "text": [
      "03:28:42 - cmdstanpy - INFO - CmdStan done processing.\n",
      "03:28:42 - cmdstanpy - WARNING - Non-fatal error during sampling:\n",
      "Exception: Exception: normal_lpdf: Random variable is nan, but must be not nan! (in 'real_data.stan', line 81, column 2 to column 53) (in 'real_data.stan', line 175, column 2 to line 180, column 4)\n",
      "\tException: Exception: normal_lpdf: Random variable is nan, but must be not nan! (in 'real_data.stan', line 81, column 2 to column 53) (in 'real_data.stan', line 175, column 2 to line 180, column 4)\n",
      "Exception: Exception: normal_lpdf: Random variable is nan, but must be not nan! (in 'real_data.stan', line 81, column 2 to column 53) (in 'real_data.stan', line 175, column 2 to line 180, column 4)\n",
      "Exception: Exception: normal_lpdf: Random variable is nan, but must be not nan! (in 'real_data.stan', line 81, column 2 to column 53) (in 'real_data.stan', line 175, column 2 to line 180, column 4)\n",
      "\tException: Exception: normal_lpdf: Random variable is nan, but must be not nan! (in 'real_data.stan', line 81, column 2 to column 53) (in 'real_data.stan', line 175, column 2 to line 180, column 4)\n",
      "\tException: Exception: normal_lpdf: Random variable is nan, but must be not nan! (in 'real_data.stan', line 81, column 2 to column 53) (in 'real_data.stan', line 175, column 2 to line 180, column 4)\n",
      "\tException: Exception: normal_lpdf: Random variable is nan, but must be not nan! (in 'real_data.stan', line 81, column 2 to column 53) (in 'real_data.stan', line 175, column 2 to line 180, column 4)\n",
      "\tException: Exception: normal_lpdf: Random variable is nan, but must be not nan! (in 'real_data.stan', line 81, column 2 to column 53) (in 'real_data.stan', line 175, column 2 to line 180, column 4)\n",
      "Exception: Exception: normal_lpdf: Random variable is nan, but must be not nan! (in 'real_data.stan', line 81, column 2 to column 53) (in 'real_data.stan', line 175, column 2 to line 180, column 4)\n",
      "\tException: Exception: normal_lpdf: Random variable is nan, but must be not nan! (in 'real_data.stan', line 81, column 2 to column 53) (in 'real_data.stan', line 175, column 2 to line 180, column 4)\n",
      "Consider re-running with show_console=True if the above output is unclear!\n"
     ]
    },
    {
     "name": "stdout",
     "output_type": "stream",
     "text": [
      "\n"
     ]
    },
    {
     "name": "stderr",
     "output_type": "stream",
     "text": [
      "03:28:49 - cmdstanpy - INFO - CmdStan start processing\n"
     ]
    },
    {
     "name": "stdout",
     "output_type": "stream",
     "text": [
      "contest_23652 end\n",
      "contest_4986 begin\n"
     ]
    },
    {
     "data": {
      "application/vnd.jupyter.widget-view+json": {
       "model_id": "df0776dbf86549908bcb7816361edfb0",
       "version_major": 2,
       "version_minor": 0
      },
      "text/plain": [
       "chain 1 |          | 00:00 Status"
      ]
     },
     "metadata": {},
     "output_type": "display_data"
    },
    {
     "data": {
      "application/vnd.jupyter.widget-view+json": {
       "model_id": "70cc86d62d0e49a98ba0b1ed930d3d6e",
       "version_major": 2,
       "version_minor": 0
      },
      "text/plain": [
       "chain 2 |          | 00:00 Status"
      ]
     },
     "metadata": {},
     "output_type": "display_data"
    },
    {
     "data": {
      "application/vnd.jupyter.widget-view+json": {
       "model_id": "dec4ed7575a44d85b08c2382a957f29c",
       "version_major": 2,
       "version_minor": 0
      },
      "text/plain": [
       "chain 3 |          | 00:00 Status"
      ]
     },
     "metadata": {},
     "output_type": "display_data"
    },
    {
     "data": {
      "application/vnd.jupyter.widget-view+json": {
       "model_id": "7d269c4c97984d3eb377a9d69aa5354d",
       "version_major": 2,
       "version_minor": 0
      },
      "text/plain": [
       "chain 4 |          | 00:00 Status"
      ]
     },
     "metadata": {},
     "output_type": "display_data"
    },
    {
     "name": "stdout",
     "output_type": "stream",
     "text": [
      "                                                                                                                                                                                                                                                                                                                                "
     ]
    },
    {
     "name": "stderr",
     "output_type": "stream",
     "text": [
      "03:29:42 - cmdstanpy - INFO - CmdStan done processing.\n",
      "03:29:42 - cmdstanpy - WARNING - Non-fatal error during sampling:\n",
      "Exception: Exception: normal_lpdf: Random variable is nan, but must be not nan! (in 'real_data.stan', line 81, column 2 to column 53) (in 'real_data.stan', line 175, column 2 to line 180, column 4)\n",
      "\tException: Exception: normal_lpdf: Random variable is nan, but must be not nan! (in 'real_data.stan', line 81, column 2 to column 53) (in 'real_data.stan', line 175, column 2 to line 180, column 4)\n",
      "\tException: Exception: normal_lpdf: Random variable is nan, but must be not nan! (in 'real_data.stan', line 81, column 2 to column 53) (in 'real_data.stan', line 175, column 2 to line 180, column 4)\n",
      "\tException: Exception: normal_lpdf: Random variable is nan, but must be not nan! (in 'real_data.stan', line 81, column 2 to column 53) (in 'real_data.stan', line 175, column 2 to line 180, column 4)\n",
      "\tException: Exception: normal_lpdf: Random variable is nan, but must be not nan! (in 'real_data.stan', line 81, column 2 to column 53) (in 'real_data.stan', line 175, column 2 to line 180, column 4)\n",
      "\tException: Exception: normal_lpdf: Random variable is nan, but must be not nan! (in 'real_data.stan', line 81, column 2 to column 53) (in 'real_data.stan', line 175, column 2 to line 180, column 4)\n",
      "Exception: Exception: normal_lpdf: Random variable is nan, but must be not nan! (in 'real_data.stan', line 81, column 2 to column 53) (in 'real_data.stan', line 175, column 2 to line 180, column 4)\n",
      "\tException: Exception: normal_lpdf: Random variable is nan, but must be not nan! (in 'real_data.stan', line 81, column 2 to column 53) (in 'real_data.stan', line 175, column 2 to line 180, column 4)\n",
      "\tException: Exception: normal_lpdf: Random variable is nan, but must be not nan! (in 'real_data.stan', line 81, column 2 to column 53) (in 'real_data.stan', line 175, column 2 to line 180, column 4)\n",
      "\tException: Exception: normal_lpdf: Random variable is nan, but must be not nan! (in 'real_data.stan', line 81, column 2 to column 53) (in 'real_data.stan', line 175, column 2 to line 180, column 4)\n",
      "\tException: Exception: normal_lpdf: Random variable is nan, but must be not nan! (in 'real_data.stan', line 81, column 2 to column 53) (in 'real_data.stan', line 175, column 2 to line 180, column 4)\n",
      "\tException: Exception: normal_lpdf: Random variable is nan, but must be not nan! (in 'real_data.stan', line 81, column 2 to column 53) (in 'real_data.stan', line 175, column 2 to line 180, column 4)\n",
      "\tException: Exception: normal_lpdf: Random variable is nan, but must be not nan! (in 'real_data.stan', line 81, column 2 to column 53) (in 'real_data.stan', line 175, column 2 to line 180, column 4)\n",
      "Exception: Exception: normal_lpdf: Random variable is nan, but must be not nan! (in 'real_data.stan', line 81, column 2 to column 53) (in 'real_data.stan', line 175, column 2 to line 180, column 4)\n",
      "\tException: Exception: normal_lpdf: Random variable is nan, but must be not nan! (in 'real_data.stan', line 81, column 2 to column 53) (in 'real_data.stan', line 175, column 2 to line 180, column 4)\n",
      "\tException: Exception: normal_lpdf: Random variable is nan, but must be not nan! (in 'real_data.stan', line 81, column 2 to column 53) (in 'real_data.stan', line 175, column 2 to line 180, column 4)\n",
      "\tException: Exception: normal_lpdf: Random variable is nan, but must be not nan! (in 'real_data.stan', line 81, column 2 to column 53) (in 'real_data.stan', line 175, column 2 to line 180, column 4)\n",
      "Exception: Exception: normal_lpdf: Random variable is nan, but must be not nan! (in 'real_data.stan', line 81, column 2 to column 53) (in 'real_data.stan', line 175, column 2 to line 180, column 4)\n",
      "\tException: Exception: normal_lpdf: Random variable is nan, but must be not nan! (in 'real_data.stan', line 81, column 2 to column 53) (in 'real_data.stan', line 175, column 2 to line 180, column 4)\n",
      "\tException: Exception: normal_lpdf: Random variable is nan, but must be not nan! (in 'real_data.stan', line 81, column 2 to column 53) (in 'real_data.stan', line 175, column 2 to line 180, column 4)\n",
      "\tException: Exception: normal_lpdf: Random variable is nan, but must be not nan! (in 'real_data.stan', line 81, column 2 to column 53) (in 'real_data.stan', line 175, column 2 to line 180, column 4)\n",
      "\tException: Exception: normal_lpdf: Random variable is nan, but must be not nan! (in 'real_data.stan', line 81, column 2 to column 53) (in 'real_data.stan', line 175, column 2 to line 180, column 4)\n",
      "Consider re-running with show_console=True if the above output is unclear!\n"
     ]
    },
    {
     "name": "stdout",
     "output_type": "stream",
     "text": [
      "\n"
     ]
    },
    {
     "name": "stderr",
     "output_type": "stream",
     "text": [
      "03:29:43 - cmdstanpy - WARNING - Some chains may have failed to converge.\n",
      "\tChain 1 had 8 divergent transitions (0.4%)\n",
      "\tChain 2 had 3 divergent transitions (0.1%)\n",
      "\tChain 3 had 4 divergent transitions (0.2%)\n",
      "\tChain 4 had 5 divergent transitions (0.2%)\n",
      "\tUse the \"diagnose()\" method on the CmdStanMCMC object to see further information.\n",
      "03:29:46 - cmdstanpy - INFO - CmdStan start processing\n"
     ]
    },
    {
     "name": "stdout",
     "output_type": "stream",
     "text": [
      "contest_4986 end\n",
      "contest_14242 begin\n"
     ]
    },
    {
     "data": {
      "application/vnd.jupyter.widget-view+json": {
       "model_id": "de84dee970734558a02ef3dd196a601f",
       "version_major": 2,
       "version_minor": 0
      },
      "text/plain": [
       "chain 1 |          | 00:00 Status"
      ]
     },
     "metadata": {},
     "output_type": "display_data"
    },
    {
     "data": {
      "application/vnd.jupyter.widget-view+json": {
       "model_id": "c36acee0a0c445c8ada21c2b2d7162ad",
       "version_major": 2,
       "version_minor": 0
      },
      "text/plain": [
       "chain 2 |          | 00:00 Status"
      ]
     },
     "metadata": {},
     "output_type": "display_data"
    },
    {
     "data": {
      "application/vnd.jupyter.widget-view+json": {
       "model_id": "6ba7994f3a8f40d5864d5f31af008b42",
       "version_major": 2,
       "version_minor": 0
      },
      "text/plain": [
       "chain 3 |          | 00:00 Status"
      ]
     },
     "metadata": {},
     "output_type": "display_data"
    },
    {
     "data": {
      "application/vnd.jupyter.widget-view+json": {
       "model_id": "6f384c128aad4fae9d135232e9eaa973",
       "version_major": 2,
       "version_minor": 0
      },
      "text/plain": [
       "chain 4 |          | 00:00 Status"
      ]
     },
     "metadata": {},
     "output_type": "display_data"
    },
    {
     "name": "stdout",
     "output_type": "stream",
     "text": [
      "                                                                                                                                                                                                                                                                                                                                "
     ]
    },
    {
     "name": "stderr",
     "output_type": "stream",
     "text": [
      "03:33:54 - cmdstanpy - INFO - CmdStan done processing.\n",
      "03:33:54 - cmdstanpy - WARNING - Non-fatal error during sampling:\n",
      "Exception: Exception: normal_lpdf: Random variable is nan, but must be not nan! (in 'real_data.stan', line 81, column 2 to column 53) (in 'real_data.stan', line 175, column 2 to line 180, column 4)\n",
      "\tException: Exception: normal_lpdf: Random variable is nan, but must be not nan! (in 'real_data.stan', line 81, column 2 to column 53) (in 'real_data.stan', line 175, column 2 to line 180, column 4)\n",
      "\tException: Exception: normal_lpdf: Random variable is nan, but must be not nan! (in 'real_data.stan', line 81, column 2 to column 53) (in 'real_data.stan', line 175, column 2 to line 180, column 4)\n",
      "\tException: Exception: normal_lpdf: Random variable is nan, but must be not nan! (in 'real_data.stan', line 81, column 2 to column 53) (in 'real_data.stan', line 175, column 2 to line 180, column 4)\n",
      "\tException: Exception: normal_lpdf: Random variable is nan, but must be not nan! (in 'real_data.stan', line 81, column 2 to column 53) (in 'real_data.stan', line 175, column 2 to line 180, column 4)\n",
      "\tException: Exception: normal_lpdf: Random variable is nan, but must be not nan! (in 'real_data.stan', line 81, column 2 to column 53) (in 'real_data.stan', line 175, column 2 to line 180, column 4)\n",
      "Exception: Exception: normal_lpdf: Random variable is nan, but must be not nan! (in 'real_data.stan', line 81, column 2 to column 53) (in 'real_data.stan', line 175, column 2 to line 180, column 4)\n",
      "\tException: Exception: normal_lpdf: Random variable is nan, but must be not nan! (in 'real_data.stan', line 81, column 2 to column 53) (in 'real_data.stan', line 175, column 2 to line 180, column 4)\n",
      "\tException: Exception: normal_lpdf: Random variable is nan, but must be not nan! (in 'real_data.stan', line 81, column 2 to column 53) (in 'real_data.stan', line 175, column 2 to line 180, column 4)\n",
      "\tException: Exception: normal_lpdf: Random variable is nan, but must be not nan! (in 'real_data.stan', line 81, column 2 to column 53) (in 'real_data.stan', line 175, column 2 to line 180, column 4)\n",
      "Exception: Exception: normal_lpdf: Random variable is nan, but must be not nan! (in 'real_data.stan', line 81, column 2 to column 53) (in 'real_data.stan', line 175, column 2 to line 180, column 4)\n",
      "\tException: Exception: normal_lpdf: Random variable is nan, but must be not nan! (in 'real_data.stan', line 81, column 2 to column 53) (in 'real_data.stan', line 175, column 2 to line 180, column 4)\n",
      "\tException: Exception: normal_lpdf: Random variable is nan, but must be not nan! (in 'real_data.stan', line 81, column 2 to column 53) (in 'real_data.stan', line 175, column 2 to line 180, column 4)\n",
      "\tException: Exception: normal_lpdf: Random variable is nan, but must be not nan! (in 'real_data.stan', line 81, column 2 to column 53) (in 'real_data.stan', line 175, column 2 to line 180, column 4)\n",
      "\tException: Exception: normal_lpdf: Random variable is nan, but must be not nan! (in 'real_data.stan', line 81, column 2 to column 53) (in 'real_data.stan', line 175, column 2 to line 180, column 4)\n",
      "Exception: Exception: normal_lpdf: Random variable is nan, but must be not nan! (in 'real_data.stan', line 81, column 2 to column 53) (in 'real_data.stan', line 175, column 2 to line 180, column 4)\n",
      "\tException: Exception: normal_lpdf: Random variable is nan, but must be not nan! (in 'real_data.stan', line 81, column 2 to column 53) (in 'real_data.stan', line 175, column 2 to line 180, column 4)\n",
      "\tException: Exception: normal_lpdf: Random variable is nan, but must be not nan! (in 'real_data.stan', line 81, column 2 to column 53) (in 'real_data.stan', line 175, column 2 to line 180, column 4)\n",
      "\tException: Exception: normal_lpdf: Random variable is nan, but must be not nan! (in 'real_data.stan', line 81, column 2 to column 53) (in 'real_data.stan', line 175, column 2 to line 180, column 4)\n",
      "\tException: Exception: normal_lpdf: Random variable is nan, but must be not nan! (in 'real_data.stan', line 81, column 2 to column 53) (in 'real_data.stan', line 175, column 2 to line 180, column 4)\n",
      "\tException: Exception: normal_lpdf: Random variable is nan, but must be not nan! (in 'real_data.stan', line 81, column 2 to column 53) (in 'real_data.stan', line 175, column 2 to line 180, column 4)\n",
      "Consider re-running with show_console=True if the above output is unclear!\n"
     ]
    },
    {
     "name": "stdout",
     "output_type": "stream",
     "text": [
      "\n"
     ]
    },
    {
     "name": "stderr",
     "output_type": "stream",
     "text": [
      "03:33:59 - cmdstanpy - WARNING - Some chains may have failed to converge.\n",
      "\tChain 1 had 3 divergent transitions (0.1%)\n",
      "\tChain 2 had 6 divergent transitions (0.3%)\n",
      "\tChain 3 had 2 divergent transitions (0.1%)\n",
      "\tChain 4 had 2 divergent transitions (0.1%)\n",
      "\tUse the \"diagnose()\" method on the CmdStanMCMC object to see further information.\n",
      "03:34:18 - cmdstanpy - INFO - CmdStan start processing\n"
     ]
    },
    {
     "name": "stdout",
     "output_type": "stream",
     "text": [
      "contest_14242 end\n",
      "contest_4699 begin\n"
     ]
    },
    {
     "data": {
      "application/vnd.jupyter.widget-view+json": {
       "model_id": "a45d65776056466c891007c06ee04467",
       "version_major": 2,
       "version_minor": 0
      },
      "text/plain": [
       "chain 1 |          | 00:00 Status"
      ]
     },
     "metadata": {},
     "output_type": "display_data"
    },
    {
     "data": {
      "application/vnd.jupyter.widget-view+json": {
       "model_id": "9c57c39615a04555a275bb62558cc345",
       "version_major": 2,
       "version_minor": 0
      },
      "text/plain": [
       "chain 2 |          | 00:00 Status"
      ]
     },
     "metadata": {},
     "output_type": "display_data"
    },
    {
     "data": {
      "application/vnd.jupyter.widget-view+json": {
       "model_id": "fcef1cc7e4ab4b1cbc62f285eef705b7",
       "version_major": 2,
       "version_minor": 0
      },
      "text/plain": [
       "chain 3 |          | 00:00 Status"
      ]
     },
     "metadata": {},
     "output_type": "display_data"
    },
    {
     "data": {
      "application/vnd.jupyter.widget-view+json": {
       "model_id": "19071b51109a4da299c384b298e63817",
       "version_major": 2,
       "version_minor": 0
      },
      "text/plain": [
       "chain 4 |          | 00:00 Status"
      ]
     },
     "metadata": {},
     "output_type": "display_data"
    },
    {
     "name": "stdout",
     "output_type": "stream",
     "text": [
      "                                                                                                                                                                                                                                                                                                                                "
     ]
    },
    {
     "name": "stderr",
     "output_type": "stream",
     "text": [
      "04:34:06 - cmdstanpy - INFO - CmdStan done processing.\n",
      "04:34:06 - cmdstanpy - WARNING - Non-fatal error during sampling:\n",
      "Exception: Exception: normal_lpdf: Random variable is nan, but must be not nan! (in 'real_data.stan', line 81, column 2 to column 53) (in 'real_data.stan', line 175, column 2 to line 180, column 4)\n",
      "\tException: Exception: normal_lpdf: Random variable is nan, but must be not nan! (in 'real_data.stan', line 81, column 2 to column 53) (in 'real_data.stan', line 175, column 2 to line 180, column 4)\n",
      "\tException: Exception: normal_lpdf: Random variable is nan, but must be not nan! (in 'real_data.stan', line 81, column 2 to column 53) (in 'real_data.stan', line 175, column 2 to line 180, column 4)\n",
      "\tException: Exception: normal_lpdf: Random variable is nan, but must be not nan! (in 'real_data.stan', line 81, column 2 to column 53) (in 'real_data.stan', line 175, column 2 to line 180, column 4)\n",
      "\tException: Exception: normal_lpdf: Random variable is nan, but must be not nan! (in 'real_data.stan', line 81, column 2 to column 53) (in 'real_data.stan', line 175, column 2 to line 180, column 4)\n",
      "Exception: Exception: normal_lpdf: Random variable is nan, but must be not nan! (in 'real_data.stan', line 81, column 2 to column 53) (in 'real_data.stan', line 175, column 2 to line 180, column 4)\n",
      "\tException: Exception: normal_lpdf: Random variable is nan, but must be not nan! (in 'real_data.stan', line 81, column 2 to column 53) (in 'real_data.stan', line 175, column 2 to line 180, column 4)\n",
      "\tException: Exception: normal_lpdf: Random variable is nan, but must be not nan! (in 'real_data.stan', line 81, column 2 to column 53) (in 'real_data.stan', line 175, column 2 to line 180, column 4)\n",
      "\tException: Exception: normal_lpdf: Random variable is nan, but must be not nan! (in 'real_data.stan', line 81, column 2 to column 53) (in 'real_data.stan', line 175, column 2 to line 180, column 4)\n",
      "Exception: Exception: normal_lpdf: Random variable is nan, but must be not nan! (in 'real_data.stan', line 81, column 2 to column 53) (in 'real_data.stan', line 175, column 2 to line 180, column 4)\n",
      "\tException: Exception: normal_lpdf: Random variable is nan, but must be not nan! (in 'real_data.stan', line 81, column 2 to column 53) (in 'real_data.stan', line 175, column 2 to line 180, column 4)\n",
      "\tException: Exception: normal_lpdf: Random variable is nan, but must be not nan! (in 'real_data.stan', line 81, column 2 to column 53) (in 'real_data.stan', line 175, column 2 to line 180, column 4)\n",
      "\tException: Exception: normal_lpdf: Random variable is nan, but must be not nan! (in 'real_data.stan', line 81, column 2 to column 53) (in 'real_data.stan', line 175, column 2 to line 180, column 4)\n",
      "\tException: Exception: normal_lpdf: Random variable is nan, but must be not nan! (in 'real_data.stan', line 81, column 2 to column 53) (in 'real_data.stan', line 175, column 2 to line 180, column 4)\n",
      "Exception: Exception: normal_lpdf: Random variable is nan, but must be not nan! (in 'real_data.stan', line 81, column 2 to column 53) (in 'real_data.stan', line 175, column 2 to line 180, column 4)\n",
      "\tException: Exception: normal_lpdf: Random variable is nan, but must be not nan! (in 'real_data.stan', line 81, column 2 to column 53) (in 'real_data.stan', line 175, column 2 to line 180, column 4)\n",
      "\tException: Exception: normal_lpdf: Random variable is nan, but must be not nan! (in 'real_data.stan', line 81, column 2 to column 53) (in 'real_data.stan', line 175, column 2 to line 180, column 4)\n",
      "\tException: Exception: normal_lpdf: Random variable is nan, but must be not nan! (in 'real_data.stan', line 81, column 2 to column 53) (in 'real_data.stan', line 175, column 2 to line 180, column 4)\n",
      "Consider re-running with show_console=True if the above output is unclear!\n"
     ]
    },
    {
     "name": "stdout",
     "output_type": "stream",
     "text": [
      "\n"
     ]
    },
    {
     "name": "stderr",
     "output_type": "stream",
     "text": [
      "04:34:08 - cmdstanpy - WARNING - Some chains may have failed to converge.\n",
      "\tChain 1 had 34 divergent transitions (1.7%)\n",
      "\tChain 2 had 20 divergent transitions (1.0%)\n",
      "\tChain 3 had 6 divergent transitions (0.3%)\n",
      "\tChain 3 had 1954 iterations at max treedepth (97.7%)\n",
      "\tChain 4 had 15 divergent transitions (0.8%)\n",
      "\tUse the \"diagnose()\" method on the CmdStanMCMC object to see further information.\n",
      "04:34:18 - cmdstanpy - INFO - CmdStan start processing\n"
     ]
    },
    {
     "name": "stdout",
     "output_type": "stream",
     "text": [
      "contest_4699 end\n",
      "contest_2464 begin\n"
     ]
    },
    {
     "data": {
      "application/vnd.jupyter.widget-view+json": {
       "model_id": "8e76681cc6c14cc9b99f9a060825ccb0",
       "version_major": 2,
       "version_minor": 0
      },
      "text/plain": [
       "chain 1 |          | 00:00 Status"
      ]
     },
     "metadata": {},
     "output_type": "display_data"
    },
    {
     "data": {
      "application/vnd.jupyter.widget-view+json": {
       "model_id": "dbfaa8f2a1c943ffb3ef42a9298d60d6",
       "version_major": 2,
       "version_minor": 0
      },
      "text/plain": [
       "chain 2 |          | 00:00 Status"
      ]
     },
     "metadata": {},
     "output_type": "display_data"
    },
    {
     "data": {
      "application/vnd.jupyter.widget-view+json": {
       "model_id": "d3e2468cdf44404196e7d8587f44bb46",
       "version_major": 2,
       "version_minor": 0
      },
      "text/plain": [
       "chain 3 |          | 00:00 Status"
      ]
     },
     "metadata": {},
     "output_type": "display_data"
    },
    {
     "data": {
      "application/vnd.jupyter.widget-view+json": {
       "model_id": "df1e62396598406a8b5b3ae13ae9d101",
       "version_major": 2,
       "version_minor": 0
      },
      "text/plain": [
       "chain 4 |          | 00:00 Status"
      ]
     },
     "metadata": {},
     "output_type": "display_data"
    },
    {
     "name": "stdout",
     "output_type": "stream",
     "text": [
      "                                                                                                                                                                                                                                                                                                                                "
     ]
    },
    {
     "name": "stderr",
     "output_type": "stream",
     "text": [
      "04:34:37 - cmdstanpy - INFO - CmdStan done processing.\n",
      "04:34:37 - cmdstanpy - WARNING - Non-fatal error during sampling:\n",
      "Exception: Exception: normal_lpdf: Random variable is nan, but must be not nan! (in 'real_data.stan', line 81, column 2 to column 53) (in 'real_data.stan', line 175, column 2 to line 180, column 4)\n",
      "\tException: Exception: normal_lpdf: Random variable is nan, but must be not nan! (in 'real_data.stan', line 81, column 2 to column 53) (in 'real_data.stan', line 175, column 2 to line 180, column 4)\n",
      "Exception: Exception: normal_lpdf: Random variable is nan, but must be not nan! (in 'real_data.stan', line 81, column 2 to column 53) (in 'real_data.stan', line 175, column 2 to line 180, column 4)\n",
      "\tException: Exception: normal_lpdf: Random variable is nan, but must be not nan! (in 'real_data.stan', line 81, column 2 to column 53) (in 'real_data.stan', line 175, column 2 to line 180, column 4)\n",
      "Exception: Exception: normal_lpdf: Random variable is nan, but must be not nan! (in 'real_data.stan', line 81, column 2 to column 53) (in 'real_data.stan', line 175, column 2 to line 180, column 4)\n",
      "\tException: Exception: normal_lpdf: Random variable is nan, but must be not nan! (in 'real_data.stan', line 81, column 2 to column 53) (in 'real_data.stan', line 175, column 2 to line 180, column 4)\n",
      "Exception: Exception: normal_lpdf: Random variable is nan, but must be not nan! (in 'real_data.stan', line 81, column 2 to column 53) (in 'real_data.stan', line 175, column 2 to line 180, column 4)\n",
      "\tException: Exception: normal_lpdf: Random variable is nan, but must be not nan! (in 'real_data.stan', line 81, column 2 to column 53) (in 'real_data.stan', line 175, column 2 to line 180, column 4)\n",
      "Consider re-running with show_console=True if the above output is unclear!\n"
     ]
    },
    {
     "name": "stdout",
     "output_type": "stream",
     "text": [
      "\n"
     ]
    },
    {
     "name": "stderr",
     "output_type": "stream",
     "text": [
      "04:34:40 - cmdstanpy - INFO - CmdStan start processing\n"
     ]
    },
    {
     "name": "stdout",
     "output_type": "stream",
     "text": [
      "contest_2464 end\n",
      "contest_10684 begin\n"
     ]
    },
    {
     "data": {
      "application/vnd.jupyter.widget-view+json": {
       "model_id": "bce25c7cdd5c47338b33bc33762f0aad",
       "version_major": 2,
       "version_minor": 0
      },
      "text/plain": [
       "chain 1 |          | 00:00 Status"
      ]
     },
     "metadata": {},
     "output_type": "display_data"
    },
    {
     "data": {
      "application/vnd.jupyter.widget-view+json": {
       "model_id": "31a009386f2746e684bb029c67ab64b5",
       "version_major": 2,
       "version_minor": 0
      },
      "text/plain": [
       "chain 2 |          | 00:00 Status"
      ]
     },
     "metadata": {},
     "output_type": "display_data"
    },
    {
     "data": {
      "application/vnd.jupyter.widget-view+json": {
       "model_id": "0c49d9b964084de6834eb91286f16b9e",
       "version_major": 2,
       "version_minor": 0
      },
      "text/plain": [
       "chain 3 |          | 00:00 Status"
      ]
     },
     "metadata": {},
     "output_type": "display_data"
    },
    {
     "data": {
      "application/vnd.jupyter.widget-view+json": {
       "model_id": "e127c8512d4947d998c88ce7b6cd3e11",
       "version_major": 2,
       "version_minor": 0
      },
      "text/plain": [
       "chain 4 |          | 00:00 Status"
      ]
     },
     "metadata": {},
     "output_type": "display_data"
    },
    {
     "name": "stdout",
     "output_type": "stream",
     "text": [
      "                                                                                                                                                                                                                                                                                                                                "
     ]
    },
    {
     "name": "stderr",
     "output_type": "stream",
     "text": [
      "04:38:08 - cmdstanpy - INFO - CmdStan done processing.\n",
      "04:38:08 - cmdstanpy - WARNING - Non-fatal error during sampling:\n",
      "Exception: Exception: normal_lpdf: Random variable is nan, but must be not nan! (in 'real_data.stan', line 81, column 2 to column 53) (in 'real_data.stan', line 175, column 2 to line 180, column 4)\n",
      "\tException: Exception: normal_lpdf: Random variable is nan, but must be not nan! (in 'real_data.stan', line 81, column 2 to column 53) (in 'real_data.stan', line 175, column 2 to line 180, column 4)\n",
      "\tException: Exception: normal_lpdf: Random variable is nan, but must be not nan! (in 'real_data.stan', line 81, column 2 to column 53) (in 'real_data.stan', line 175, column 2 to line 180, column 4)\n",
      "\tException: Exception: normal_lpdf: Random variable is nan, but must be not nan! (in 'real_data.stan', line 81, column 2 to column 53) (in 'real_data.stan', line 175, column 2 to line 180, column 4)\n",
      "Exception: Exception: normal_lpdf: Random variable is nan, but must be not nan! (in 'real_data.stan', line 81, column 2 to column 53) (in 'real_data.stan', line 175, column 2 to line 180, column 4)\n",
      "\tException: Exception: normal_lpdf: Random variable is nan, but must be not nan! (in 'real_data.stan', line 81, column 2 to column 53) (in 'real_data.stan', line 175, column 2 to line 180, column 4)\n",
      "Exception: Exception: normal_lpdf: Random variable is nan, but must be not nan! (in 'real_data.stan', line 81, column 2 to column 53) (in 'real_data.stan', line 175, column 2 to line 180, column 4)\n",
      "\tException: Exception: normal_lpdf: Random variable is nan, but must be not nan! (in 'real_data.stan', line 81, column 2 to column 53) (in 'real_data.stan', line 175, column 2 to line 180, column 4)\n",
      "\tException: Exception: normal_lpdf: Random variable is nan, but must be not nan! (in 'real_data.stan', line 81, column 2 to column 53) (in 'real_data.stan', line 175, column 2 to line 180, column 4)\n",
      "\tException: Exception: normal_lpdf: Random variable is nan, but must be not nan! (in 'real_data.stan', line 81, column 2 to column 53) (in 'real_data.stan', line 175, column 2 to line 180, column 4)\n",
      "Exception: Exception: normal_lpdf: Random variable is nan, but must be not nan! (in 'real_data.stan', line 81, column 2 to column 53) (in 'real_data.stan', line 175, column 2 to line 180, column 4)\n",
      "\tException: Exception: normal_lpdf: Random variable is nan, but must be not nan! (in 'real_data.stan', line 81, column 2 to column 53) (in 'real_data.stan', line 175, column 2 to line 180, column 4)\n",
      "\tException: Exception: normal_lpdf: Random variable is nan, but must be not nan! (in 'real_data.stan', line 81, column 2 to column 53) (in 'real_data.stan', line 175, column 2 to line 180, column 4)\n",
      "\tException: Exception: normal_lpdf: Random variable is nan, but must be not nan! (in 'real_data.stan', line 81, column 2 to column 53) (in 'real_data.stan', line 175, column 2 to line 180, column 4)\n",
      "Consider re-running with show_console=True if the above output is unclear!\n"
     ]
    },
    {
     "name": "stdout",
     "output_type": "stream",
     "text": [
      "\n"
     ]
    },
    {
     "name": "stderr",
     "output_type": "stream",
     "text": [
      "04:38:11 - cmdstanpy - WARNING - Some chains may have failed to converge.\n",
      "\tChain 1 had 1 divergent transitions (0.1%)\n",
      "\tChain 2 had 23 divergent transitions (1.1%)\n",
      "\tChain 3 had 1 divergent transitions (0.1%)\n",
      "\tChain 4 had 10 divergent transitions (0.5%)\n",
      "\tUse the \"diagnose()\" method on the CmdStanMCMC object to see further information.\n",
      "04:38:24 - cmdstanpy - INFO - CmdStan start processing\n"
     ]
    },
    {
     "name": "stdout",
     "output_type": "stream",
     "text": [
      "contest_10684 end\n",
      "contest_4031 begin\n"
     ]
    },
    {
     "data": {
      "application/vnd.jupyter.widget-view+json": {
       "model_id": "a9d9d1796cf8412e895650a6e40517ee",
       "version_major": 2,
       "version_minor": 0
      },
      "text/plain": [
       "chain 1 |          | 00:00 Status"
      ]
     },
     "metadata": {},
     "output_type": "display_data"
    },
    {
     "data": {
      "application/vnd.jupyter.widget-view+json": {
       "model_id": "f41994bc79304356adf20b93fb0dea66",
       "version_major": 2,
       "version_minor": 0
      },
      "text/plain": [
       "chain 2 |          | 00:00 Status"
      ]
     },
     "metadata": {},
     "output_type": "display_data"
    },
    {
     "data": {
      "application/vnd.jupyter.widget-view+json": {
       "model_id": "4d44732216ae4d04864a679dc0949f44",
       "version_major": 2,
       "version_minor": 0
      },
      "text/plain": [
       "chain 3 |          | 00:00 Status"
      ]
     },
     "metadata": {},
     "output_type": "display_data"
    },
    {
     "data": {
      "application/vnd.jupyter.widget-view+json": {
       "model_id": "403eda929411430c8fcef5e50cce9623",
       "version_major": 2,
       "version_minor": 0
      },
      "text/plain": [
       "chain 4 |          | 00:00 Status"
      ]
     },
     "metadata": {},
     "output_type": "display_data"
    },
    {
     "name": "stdout",
     "output_type": "stream",
     "text": [
      "                                                                                                                                                                                                                                                                                                                                "
     ]
    },
    {
     "name": "stderr",
     "output_type": "stream",
     "text": [
      "04:41:03 - cmdstanpy - INFO - CmdStan done processing.\n",
      "04:41:03 - cmdstanpy - WARNING - Non-fatal error during sampling:\n",
      "Exception: Exception: normal_lpdf: Random variable is nan, but must be not nan! (in 'real_data.stan', line 81, column 2 to column 53) (in 'real_data.stan', line 175, column 2 to line 180, column 4)\n",
      "\tException: Exception: normal_lpdf: Random variable is nan, but must be not nan! (in 'real_data.stan', line 81, column 2 to column 53) (in 'real_data.stan', line 175, column 2 to line 180, column 4)\n",
      "\tException: Exception: normal_lpdf: Random variable is nan, but must be not nan! (in 'real_data.stan', line 81, column 2 to column 53) (in 'real_data.stan', line 175, column 2 to line 180, column 4)\n",
      "\tException: Exception: normal_lpdf: Random variable is nan, but must be not nan! (in 'real_data.stan', line 81, column 2 to column 53) (in 'real_data.stan', line 175, column 2 to line 180, column 4)\n",
      "\tException: Exception: normal_lpdf: Random variable is nan, but must be not nan! (in 'real_data.stan', line 81, column 2 to column 53) (in 'real_data.stan', line 175, column 2 to line 180, column 4)\n",
      "\tException: Exception: normal_lpdf: Random variable is nan, but must be not nan! (in 'real_data.stan', line 81, column 2 to column 53) (in 'real_data.stan', line 175, column 2 to line 180, column 4)\n",
      "\tException: Exception: normal_lpdf: Random variable is nan, but must be not nan! (in 'real_data.stan', line 81, column 2 to column 53) (in 'real_data.stan', line 175, column 2 to line 180, column 4)\n",
      "Exception: Exception: normal_lpdf: Random variable is nan, but must be not nan! (in 'real_data.stan', line 81, column 2 to column 53) (in 'real_data.stan', line 175, column 2 to line 180, column 4)\n",
      "\tException: Exception: normal_lpdf: Random variable is nan, but must be not nan! (in 'real_data.stan', line 81, column 2 to column 53) (in 'real_data.stan', line 175, column 2 to line 180, column 4)\n",
      "\tException: Exception: normal_lpdf: Random variable is nan, but must be not nan! (in 'real_data.stan', line 81, column 2 to column 53) (in 'real_data.stan', line 175, column 2 to line 180, column 4)\n",
      "\tException: Exception: normal_lpdf: Random variable is nan, but must be not nan! (in 'real_data.stan', line 81, column 2 to column 53) (in 'real_data.stan', line 175, column 2 to line 180, column 4)\n",
      "Exception: Exception: normal_lpdf: Random variable is nan, but must be not nan! (in 'real_data.stan', line 81, column 2 to column 53) (in 'real_data.stan', line 175, column 2 to line 180, column 4)\n",
      "\tException: Exception: normal_lpdf: Random variable is nan, but must be not nan! (in 'real_data.stan', line 81, column 2 to column 53) (in 'real_data.stan', line 175, column 2 to line 180, column 4)\n",
      "\tException: Exception: normal_lpdf: Random variable is nan, but must be not nan! (in 'real_data.stan', line 81, column 2 to column 53) (in 'real_data.stan', line 175, column 2 to line 180, column 4)\n",
      "\tException: Exception: normal_lpdf: Random variable is nan, but must be not nan! (in 'real_data.stan', line 81, column 2 to column 53) (in 'real_data.stan', line 175, column 2 to line 180, column 4)\n",
      "\tException: Exception: normal_lpdf: Random variable is nan, but must be not nan! (in 'real_data.stan', line 81, column 2 to column 53) (in 'real_data.stan', line 175, column 2 to line 180, column 4)\n",
      "\tException: Exception: normal_lpdf: Random variable is nan, but must be not nan! (in 'real_data.stan', line 81, column 2 to column 53) (in 'real_data.stan', line 175, column 2 to line 180, column 4)\n",
      "Exception: Exception: normal_lpdf: Random variable is nan, but must be not nan! (in 'real_data.stan', line 81, column 2 to column 53) (in 'real_data.stan', line 175, column 2 to line 180, column 4)\n",
      "\tException: Exception: normal_lpdf: Random variable is nan, but must be not nan! (in 'real_data.stan', line 81, column 2 to column 53) (in 'real_data.stan', line 175, column 2 to line 180, column 4)\n",
      "\tException: Exception: normal_lpdf: Random variable is nan, but must be not nan! (in 'real_data.stan', line 81, column 2 to column 53) (in 'real_data.stan', line 175, column 2 to line 180, column 4)\n",
      "\tException: Exception: normal_lpdf: Random variable is nan, but must be not nan! (in 'real_data.stan', line 81, column 2 to column 53) (in 'real_data.stan', line 175, column 2 to line 180, column 4)\n",
      "\tException: Exception: normal_lpdf: Random variable is nan, but must be not nan! (in 'real_data.stan', line 81, column 2 to column 53) (in 'real_data.stan', line 175, column 2 to line 180, column 4)\n",
      "\tException: Exception: normal_lpdf: Random variable is nan, but must be not nan! (in 'real_data.stan', line 81, column 2 to column 53) (in 'real_data.stan', line 175, column 2 to line 180, column 4)\n",
      "\tException: Exception: normal_lpdf: Random variable is nan, but must be not nan! (in 'real_data.stan', line 81, column 2 to column 53) (in 'real_data.stan', line 175, column 2 to line 180, column 4)\n",
      "Consider re-running with show_console=True if the above output is unclear!\n"
     ]
    },
    {
     "name": "stdout",
     "output_type": "stream",
     "text": [
      "\n"
     ]
    },
    {
     "name": "stderr",
     "output_type": "stream",
     "text": [
      "04:41:06 - cmdstanpy - WARNING - Some chains may have failed to converge.\n",
      "\tChain 1 had 12 divergent transitions (0.6%)\n",
      "\tChain 2 had 1 divergent transitions (0.1%)\n",
      "\tChain 3 had 3 divergent transitions (0.1%)\n",
      "\tChain 4 had 4 divergent transitions (0.2%)\n",
      "\tUse the \"diagnose()\" method on the CmdStanMCMC object to see further information.\n",
      "04:41:19 - cmdstanpy - INFO - CmdStan start processing\n"
     ]
    },
    {
     "name": "stdout",
     "output_type": "stream",
     "text": [
      "contest_4031 end\n",
      "contest_4477 begin\n"
     ]
    },
    {
     "data": {
      "application/vnd.jupyter.widget-view+json": {
       "model_id": "5a6a6561b718493cb7ffda793ebe72fa",
       "version_major": 2,
       "version_minor": 0
      },
      "text/plain": [
       "chain 1 |          | 00:00 Status"
      ]
     },
     "metadata": {},
     "output_type": "display_data"
    },
    {
     "data": {
      "application/vnd.jupyter.widget-view+json": {
       "model_id": "f637ac28173d4f29913bd40fd97d2d57",
       "version_major": 2,
       "version_minor": 0
      },
      "text/plain": [
       "chain 2 |          | 00:00 Status"
      ]
     },
     "metadata": {},
     "output_type": "display_data"
    },
    {
     "data": {
      "application/vnd.jupyter.widget-view+json": {
       "model_id": "1e1a55db0b90493f9f6cc1a24d7d85d7",
       "version_major": 2,
       "version_minor": 0
      },
      "text/plain": [
       "chain 3 |          | 00:00 Status"
      ]
     },
     "metadata": {},
     "output_type": "display_data"
    },
    {
     "data": {
      "application/vnd.jupyter.widget-view+json": {
       "model_id": "5f2ea0b6cd4e47e6851ddbb253ba839f",
       "version_major": 2,
       "version_minor": 0
      },
      "text/plain": [
       "chain 4 |          | 00:00 Status"
      ]
     },
     "metadata": {},
     "output_type": "display_data"
    },
    {
     "name": "stdout",
     "output_type": "stream",
     "text": [
      "                                                                                                                                                                                                                                                                                                                                "
     ]
    },
    {
     "name": "stderr",
     "output_type": "stream",
     "text": [
      "04:42:02 - cmdstanpy - INFO - CmdStan done processing.\n",
      "04:42:02 - cmdstanpy - WARNING - Non-fatal error during sampling:\n",
      "Exception: Exception: normal_lpdf: Random variable is nan, but must be not nan! (in 'real_data.stan', line 81, column 2 to column 53) (in 'real_data.stan', line 175, column 2 to line 180, column 4)\n",
      "\tException: Exception: normal_lpdf: Random variable is nan, but must be not nan! (in 'real_data.stan', line 81, column 2 to column 53) (in 'real_data.stan', line 175, column 2 to line 180, column 4)\n",
      "Exception: Exception: normal_lpdf: Random variable is nan, but must be not nan! (in 'real_data.stan', line 81, column 2 to column 53) (in 'real_data.stan', line 175, column 2 to line 180, column 4)\n",
      "\tException: Exception: normal_lpdf: Random variable is nan, but must be not nan! (in 'real_data.stan', line 81, column 2 to column 53) (in 'real_data.stan', line 175, column 2 to line 180, column 4)\n",
      "Exception: Exception: normal_lpdf: Random variable is nan, but must be not nan! (in 'real_data.stan', line 81, column 2 to column 53) (in 'real_data.stan', line 175, column 2 to line 180, column 4)\n",
      "\tException: Exception: normal_lpdf: Random variable is nan, but must be not nan! (in 'real_data.stan', line 81, column 2 to column 53) (in 'real_data.stan', line 175, column 2 to line 180, column 4)\n",
      "\tException: Exception: normal_lpdf: Random variable is nan, but must be not nan! (in 'real_data.stan', line 81, column 2 to column 53) (in 'real_data.stan', line 175, column 2 to line 180, column 4)\n",
      "Exception: Exception: normal_lpdf: Random variable is nan, but must be not nan! (in 'real_data.stan', line 81, column 2 to column 53) (in 'real_data.stan', line 175, column 2 to line 180, column 4)\n",
      "\tException: Exception: normal_lpdf: Random variable is nan, but must be not nan! (in 'real_data.stan', line 81, column 2 to column 53) (in 'real_data.stan', line 175, column 2 to line 180, column 4)\n",
      "Consider re-running with show_console=True if the above output is unclear!\n"
     ]
    },
    {
     "name": "stdout",
     "output_type": "stream",
     "text": [
      "\n"
     ]
    },
    {
     "name": "stderr",
     "output_type": "stream",
     "text": [
      "04:42:03 - cmdstanpy - WARNING - Some chains may have failed to converge.\n",
      "\tChain 1 had 1 divergent transitions (0.1%)\n",
      "\tUse the \"diagnose()\" method on the CmdStanMCMC object to see further information.\n"
     ]
    },
    {
     "name": "stdout",
     "output_type": "stream",
     "text": [
      "contest_4477 end\n"
     ]
    }
   ],
   "source": [
    "contest_max_longivity = 2300\n",
    "\n",
    "# fit the model with data\n",
    "for json_data in all_json_datas:\n",
    "\tfor file in output_dir.iterdir():\n",
    "\t\tif file.is_file():\n",
    "\t\t\tfile.unlink()\n",
    "\tcontest_name = json_data.stem\n",
    "\tposterior_file = f'{contest_name}.pkl'\n",
    "\tposterior_file_path = wd_jsondata.joinpath(posterior_file)\n",
    "\tif posterior_file_path.exists():\n",
    "\t\tcontinue\n",
    "\twith open(json_data, \"r\", encoding=\"utf-8\") as f:\n",
    "\t\tdata_json = json.load(f)\n",
    "\tif data_json['N_Delta'] > contest_max_longivity:\n",
    "\t\tcontinue\n",
    "\tprint(contest_name, 'begin')\n",
    "\tfit = model.sample( \\\n",
    "\t\tdata=json_data,\n",
    "\t\titer_warmup=1000,\n",
    "\t\titer_sampling=2000,\n",
    "\t\tchains=4,\n",
    "\t\tparallel_chains=2,\n",
    "\t\tshow_console=False,\n",
    "\t\t#max_treedepth=12,  # for difficult model\n",
    "\t\t#adapt_delta=0.99,  # for difficult model\n",
    "\t\toutput_dir=output_dir,\n",
    "\t\tseed=12345,\n",
    "\t)\n",
    "\tposteriors = fit.stan_variables()\n",
    "\twith open(posterior_file_path, 'wb') as f:\n",
    "\t\tpickle.dump(posteriors, f)\n",
    "\tprint(contest_name, 'end')\n"
   ]
  }
 ],
 "metadata": {
  "kernelspec": {
   "display_name": ".venv",
   "language": "python",
   "name": "python3"
  },
  "language_info": {
   "codemirror_mode": {
    "name": "ipython",
    "version": 3
   },
   "file_extension": ".py",
   "mimetype": "text/x-python",
   "name": "python",
   "nbconvert_exporter": "python",
   "pygments_lexer": "ipython3",
   "version": "3.13.3"
  }
 },
 "nbformat": 4,
 "nbformat_minor": 5
}
