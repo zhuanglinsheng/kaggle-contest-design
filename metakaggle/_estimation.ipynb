{
 "cells": [
  {
   "cell_type": "markdown",
   "id": "0e1b14f6",
   "metadata": {},
   "source": [
    "# Estimations"
   ]
  },
  {
   "cell_type": "code",
   "execution_count": 1,
   "id": "62289779",
   "metadata": {},
   "outputs": [],
   "source": [
    "import os\n",
    "from pathlib import Path\n",
    "\n",
    "import numpy as np\n",
    "import pandas as pd"
   ]
  },
  {
   "cell_type": "code",
   "execution_count": 2,
   "id": "7bee7be1",
   "metadata": {},
   "outputs": [],
   "source": [
    "# import cmdstanpy\n",
    "# cmdstanpy.install_cmdstan()\n",
    "from cmdstanpy import CmdStanModel"
   ]
  },
  {
   "cell_type": "code",
   "execution_count": 3,
   "id": "4116d30b",
   "metadata": {},
   "outputs": [],
   "source": [
    "def display_estimation_results(var_names: list[str], posteriors):\n",
    "\tdata = []\n",
    "\tfor name in var_names:\n",
    "\t\tposterior_mean = posteriors[name].mean()\n",
    "\t\tposterior_std = posteriors[name].std()\n",
    "\t\tquantile_05, quantile_95 = np.percentile(posteriors[name], [2.5, 97.5])\n",
    "\t\trecord = (\n",
    "\t\t\tname, posterior_mean, posterior_std, quantile_05, quantile_95\n",
    "\t\t)\n",
    "\t\tdata.append(record)\n",
    "\tcolumns = ['Name', 'Posterior Mean', 'Posterior Std.', '2.5% Quantile', '97.5% Quantile']\n",
    "\treturn pd.DataFrame(data, columns=columns)"
   ]
  },
  {
   "cell_type": "markdown",
   "id": "e1059e2b",
   "metadata": {},
   "source": [
    "### Estimations"
   ]
  },
  {
   "cell_type": "code",
   "execution_count": 10,
   "id": "6c2f888c",
   "metadata": {},
   "outputs": [
    {
     "data": {
      "text/plain": [
       "35"
      ]
     },
     "execution_count": 10,
     "metadata": {},
     "output_type": "execute_result"
    }
   ],
   "source": [
    "wd = os.getcwd()\n",
    "wd_jsondata = os.path.join(wd, '__jsondata__')\n",
    "all_json_datas = [os.path.join(wd_jsondata, f) for f in os.listdir(wd_jsondata)]\n",
    "all_json_datas = [f for f in all_json_datas if os.path.isfile(f)]\n",
    "len(all_json_datas)"
   ]
  },
  {
   "cell_type": "code",
   "execution_count": 5,
   "id": "f7421b8a",
   "metadata": {},
   "outputs": [],
   "source": [
    "# build stan model\n",
    "stan_file = os.path.join(wd, f'real_data.stan')\n",
    "output_dir = Path('./tmp')\n",
    "model = CmdStanModel(stan_file=stan_file)"
   ]
  },
  {
   "cell_type": "code",
   "execution_count": 6,
   "id": "5e231784",
   "metadata": {},
   "outputs": [
    {
     "name": "stderr",
     "output_type": "stream",
     "text": [
      "16:18:38 - cmdstanpy - INFO - CmdStan start processing\n"
     ]
    },
    {
     "data": {
      "application/vnd.jupyter.widget-view+json": {
       "model_id": "b5dc1a06afbe42dd99346df879efa790",
       "version_major": 2,
       "version_minor": 0
      },
      "text/plain": [
       "chain 1 |          | 00:00 Status"
      ]
     },
     "metadata": {},
     "output_type": "display_data"
    },
    {
     "data": {
      "application/vnd.jupyter.widget-view+json": {
       "model_id": "bf342ed59f8643cc844fbe7acda19c32",
       "version_major": 2,
       "version_minor": 0
      },
      "text/plain": [
       "chain 2 |          | 00:00 Status"
      ]
     },
     "metadata": {},
     "output_type": "display_data"
    },
    {
     "data": {
      "application/vnd.jupyter.widget-view+json": {
       "model_id": "2afb31ec9c9a4f1282e2d14b0deb1250",
       "version_major": 2,
       "version_minor": 0
      },
      "text/plain": [
       "chain 3 |          | 00:00 Status"
      ]
     },
     "metadata": {},
     "output_type": "display_data"
    },
    {
     "data": {
      "application/vnd.jupyter.widget-view+json": {
       "model_id": "569eb10cc37344959fe56af7a70b28fa",
       "version_major": 2,
       "version_minor": 0
      },
      "text/plain": [
       "chain 4 |          | 00:00 Status"
      ]
     },
     "metadata": {},
     "output_type": "display_data"
    },
    {
     "name": "stdout",
     "output_type": "stream",
     "text": [
      "                                                                                                                                                                                                                                                                                                                                "
     ]
    },
    {
     "name": "stderr",
     "output_type": "stream",
     "text": [
      "16:20:41 - cmdstanpy - INFO - CmdStan done processing.\n",
      "16:20:41 - cmdstanpy - WARNING - Non-fatal error during sampling:\n",
      "Exception: Exception: normal_lpdf: Random variable is nan, but must be not nan! (in '/Users/zhuanglinsheng/Documents/Github/kaggle-contest-design/metakaggle/model_effort.stan', line 81, column 2, included from\n",
      "Exception: Exception: normal_lpdf: Random variable is nan, but must be not nan! (in '/Users/zhuanglinsheng/Documents/Github/kaggle-contest-design/metakaggle/model_effort.stan', line 81, column 2, included from\n",
      "\tException: Exception: normal_lpdf: Random variable is nan, but must be not nan! (in '/Users/zhuanglinsheng/Documents/Github/kaggle-contest-design/metakaggle/model_effort.stan', line 81, column 2, included from\n",
      "\tException: Exception: normal_lpdf: Random variable is nan, but must be not nan! (in '/Users/zhuanglinsheng/Documents/Github/kaggle-contest-design/metakaggle/model_effort.stan', line 81, column 2, included from\n",
      "Exception: Exception: normal_lpdf: Random variable is nan, but must be not nan! (in '/Users/zhuanglinsheng/Documents/Github/kaggle-contest-design/metakaggle/model_effort.stan', line 81, column 2, included from\n",
      "Exception: Exception: normal_lpdf: Random variable is nan, but must be not nan! (in '/Users/zhuanglinsheng/Documents/Github/kaggle-contest-design/metakaggle/model_effort.stan', line 81, column 2, included from\n",
      "\tException: Exception: normal_lpdf: Random variable is nan, but must be not nan! (in '/Users/zhuanglinsheng/Documents/Github/kaggle-contest-design/metakaggle/model_effort.stan', line 81, column 2, included from\n",
      "Consider re-running with show_console=True if the above output is unclear!\n"
     ]
    },
    {
     "name": "stdout",
     "output_type": "stream",
     "text": [
      "\n"
     ]
    }
   ],
   "source": [
    "# fit the model with data\n",
    "fit = model.sample( \\\n",
    "\t\tdata=all_json_datas[1],\n",
    "\t\titer_warmup=1000,\n",
    "\t\titer_sampling=2000,\n",
    "\t\tchains=4,\n",
    "\t\tparallel_chains=4,\n",
    "\t\tshow_console=False,\n",
    "\t\tmax_treedepth=12,  # for difficult model\n",
    "\t\tadapt_delta=0.99,  # for difficult model\n",
    "\t\toutput_dir=output_dir,\n",
    "\t\tseed=12345,\n",
    "\t)"
   ]
  },
  {
   "cell_type": "code",
   "execution_count": 7,
   "id": "dde6b736",
   "metadata": {},
   "outputs": [],
   "source": [
    "posteriors = fit.stan_variables()"
   ]
  },
  {
   "cell_type": "code",
   "execution_count": 8,
   "id": "0563b037",
   "metadata": {},
   "outputs": [
    {
     "data": {
      "application/vnd.microsoft.datawrangler.viewer.v0+json": {
       "columns": [
        {
         "name": "index",
         "rawType": "int64",
         "type": "integer"
        },
        {
         "name": "Name",
         "rawType": "object",
         "type": "string"
        },
        {
         "name": "Posterior Mean",
         "rawType": "float64",
         "type": "float"
        },
        {
         "name": "Posterior Std.",
         "rawType": "float64",
         "type": "float"
        },
        {
         "name": "2.5% Quantile",
         "rawType": "float64",
         "type": "float"
        },
        {
         "name": "97.5% Quantile",
         "rawType": "float64",
         "type": "float"
        }
       ],
       "conversionMethod": "pd.DataFrame",
       "ref": "e72637f5-b01c-4491-8d30-c82bc6ae0bea",
       "rows": [
        [
         "0",
         "c_i",
         "4.46905704",
         "0.4237897713486174",
         "3.45170825",
         "4.9820002500000005"
        ],
        [
         "1",
         "c_j",
         "4.58886561125",
         "0.3474431540794859",
         "3.7053450000000003",
         "4.98545025"
        ],
        [
         "2",
         "sigma",
         "9.0674582575",
         "0.6610983204129615",
         "7.57542125",
         "9.9653715"
        ],
        [
         "3",
         "lambda",
         "5.06941393875",
         "2.321194913614886",
         "1.1165625",
         "9.4389485"
        ],
        [
         "4",
         "mu_0",
         "-0.012562718609625009",
         "5.007155158842484",
         "-9.471782750000001",
         "10.069472499999994"
        ]
       ],
       "shape": {
        "columns": 5,
        "rows": 5
       }
      },
      "text/html": [
       "<div>\n",
       "<style scoped>\n",
       "    .dataframe tbody tr th:only-of-type {\n",
       "        vertical-align: middle;\n",
       "    }\n",
       "\n",
       "    .dataframe tbody tr th {\n",
       "        vertical-align: top;\n",
       "    }\n",
       "\n",
       "    .dataframe thead th {\n",
       "        text-align: right;\n",
       "    }\n",
       "</style>\n",
       "<table border=\"1\" class=\"dataframe\">\n",
       "  <thead>\n",
       "    <tr style=\"text-align: right;\">\n",
       "      <th></th>\n",
       "      <th>Name</th>\n",
       "      <th>Posterior Mean</th>\n",
       "      <th>Posterior Std.</th>\n",
       "      <th>2.5% Quantile</th>\n",
       "      <th>97.5% Quantile</th>\n",
       "    </tr>\n",
       "  </thead>\n",
       "  <tbody>\n",
       "    <tr>\n",
       "      <th>0</th>\n",
       "      <td>c_i</td>\n",
       "      <td>4.469057</td>\n",
       "      <td>0.423790</td>\n",
       "      <td>3.451708</td>\n",
       "      <td>4.982000</td>\n",
       "    </tr>\n",
       "    <tr>\n",
       "      <th>1</th>\n",
       "      <td>c_j</td>\n",
       "      <td>4.588866</td>\n",
       "      <td>0.347443</td>\n",
       "      <td>3.705345</td>\n",
       "      <td>4.985450</td>\n",
       "    </tr>\n",
       "    <tr>\n",
       "      <th>2</th>\n",
       "      <td>sigma</td>\n",
       "      <td>9.067458</td>\n",
       "      <td>0.661098</td>\n",
       "      <td>7.575421</td>\n",
       "      <td>9.965371</td>\n",
       "    </tr>\n",
       "    <tr>\n",
       "      <th>3</th>\n",
       "      <td>lambda</td>\n",
       "      <td>5.069414</td>\n",
       "      <td>2.321195</td>\n",
       "      <td>1.116562</td>\n",
       "      <td>9.438949</td>\n",
       "    </tr>\n",
       "    <tr>\n",
       "      <th>4</th>\n",
       "      <td>mu_0</td>\n",
       "      <td>-0.012563</td>\n",
       "      <td>5.007155</td>\n",
       "      <td>-9.471783</td>\n",
       "      <td>10.069472</td>\n",
       "    </tr>\n",
       "  </tbody>\n",
       "</table>\n",
       "</div>"
      ],
      "text/plain": [
       "     Name  Posterior Mean  Posterior Std.  2.5% Quantile  97.5% Quantile\n",
       "0     c_i        4.469057        0.423790       3.451708        4.982000\n",
       "1     c_j        4.588866        0.347443       3.705345        4.985450\n",
       "2   sigma        9.067458        0.661098       7.575421        9.965371\n",
       "3  lambda        5.069414        2.321195       1.116562        9.438949\n",
       "4    mu_0       -0.012563        5.007155      -9.471783       10.069472"
      ]
     },
     "execution_count": 8,
     "metadata": {},
     "output_type": "execute_result"
    }
   ],
   "source": [
    "display_estimation_results(\n",
    "\t['c_i', 'c_j', 'sigma', 'lambda', 'mu_0'],\n",
    "\tposteriors\n",
    ")"
   ]
  },
  {
   "cell_type": "code",
   "execution_count": 9,
   "id": "3bccc13d",
   "metadata": {},
   "outputs": [],
   "source": [
    "for file in output_dir.iterdir():\n",
    "\tif file.is_file():\n",
    "\t\tfile.unlink()"
   ]
  }
 ],
 "metadata": {
  "kernelspec": {
   "display_name": ".venv",
   "language": "python",
   "name": "python3"
  },
  "language_info": {
   "codemirror_mode": {
    "name": "ipython",
    "version": 3
   },
   "file_extension": ".py",
   "mimetype": "text/x-python",
   "name": "python",
   "nbconvert_exporter": "python",
   "pygments_lexer": "ipython3",
   "version": "3.13.2"
  }
 },
 "nbformat": 4,
 "nbformat_minor": 5
}
