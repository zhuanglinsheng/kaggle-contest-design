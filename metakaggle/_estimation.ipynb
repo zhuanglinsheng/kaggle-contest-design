{
 "cells": [
  {
   "cell_type": "markdown",
   "id": "0e1b14f6",
   "metadata": {},
   "source": [
    "# Estimations"
   ]
  },
  {
   "cell_type": "code",
   "execution_count": 1,
   "id": "62289779",
   "metadata": {},
   "outputs": [],
   "source": [
    "import os\n",
    "import pickle\n",
    "from pathlib import Path\n",
    "\n",
    "import numpy as np\n",
    "import pandas as pd"
   ]
  },
  {
   "cell_type": "code",
   "execution_count": 2,
   "id": "7bee7be1",
   "metadata": {},
   "outputs": [],
   "source": [
    "# import cmdstanpy\n",
    "# cmdstanpy.install_cmdstan()\n",
    "from cmdstanpy import CmdStanModel"
   ]
  },
  {
   "cell_type": "code",
   "execution_count": 3,
   "id": "4116d30b",
   "metadata": {},
   "outputs": [],
   "source": [
    "def display_estimation_results(var_names: list[str], posteriors):\n",
    "\tdata = []\n",
    "\tfor name in var_names:\n",
    "\t\tposterior_mean = posteriors[name].mean()\n",
    "\t\tposterior_std = posteriors[name].std()\n",
    "\t\tquantile_05, quantile_95 = np.percentile(posteriors[name], [2.5, 97.5])\n",
    "\t\trecord = (\n",
    "\t\t\tname, posterior_mean, posterior_std, quantile_05, quantile_95\n",
    "\t\t)\n",
    "\t\tdata.append(record)\n",
    "\tcolumns = ['Name', 'Posterior Mean', 'Posterior Std.', '2.5% Quantile', '97.5% Quantile']\n",
    "\treturn pd.DataFrame(data, columns=columns)"
   ]
  },
  {
   "cell_type": "markdown",
   "id": "e1059e2b",
   "metadata": {},
   "source": [
    "### Estimations"
   ]
  },
  {
   "cell_type": "code",
   "execution_count": 4,
   "id": "6c2f888c",
   "metadata": {},
   "outputs": [
    {
     "data": {
      "text/plain": [
       "14"
      ]
     },
     "execution_count": 4,
     "metadata": {},
     "output_type": "execute_result"
    }
   ],
   "source": [
    "wd = os.getcwd()\n",
    "wd_jsondata = Path(os.path.join(wd, '__jsondata__'))\n",
    "all_json_datas = list(wd_jsondata.rglob('*.json'))\n",
    "len(all_json_datas)"
   ]
  },
  {
   "cell_type": "code",
   "execution_count": 5,
   "id": "f7421b8a",
   "metadata": {},
   "outputs": [],
   "source": [
    "# build stan model\n",
    "stan_file = os.path.join(wd, f'real_data.stan')\n",
    "output_dir = Path('./tmp')\n",
    "model = CmdStanModel(stan_file=stan_file)"
   ]
  },
  {
   "cell_type": "code",
   "execution_count": 6,
   "id": "5e231784",
   "metadata": {},
   "outputs": [
    {
     "name": "stderr",
     "output_type": "stream",
     "text": [
      "17:51:29 - cmdstanpy - INFO - CmdStan start processing\n"
     ]
    },
    {
     "name": "stdout",
     "output_type": "stream",
     "text": [
      "contest_2589 begin\n"
     ]
    },
    {
     "data": {
      "application/vnd.jupyter.widget-view+json": {
       "model_id": "3e4a1838b6444f2bac77e9ae6be5b90a",
       "version_major": 2,
       "version_minor": 0
      },
      "text/plain": [
       "chain 1 |          | 00:00 Status"
      ]
     },
     "metadata": {},
     "output_type": "display_data"
    },
    {
     "data": {
      "application/vnd.jupyter.widget-view+json": {
       "model_id": "5db3e79064a74014b29bf87edfcd6ca4",
       "version_major": 2,
       "version_minor": 0
      },
      "text/plain": [
       "chain 2 |          | 00:00 Status"
      ]
     },
     "metadata": {},
     "output_type": "display_data"
    },
    {
     "data": {
      "application/vnd.jupyter.widget-view+json": {
       "model_id": "a6a0cc6b6c8d4af492696a67a91a7889",
       "version_major": 2,
       "version_minor": 0
      },
      "text/plain": [
       "chain 3 |          | 00:00 Status"
      ]
     },
     "metadata": {},
     "output_type": "display_data"
    },
    {
     "data": {
      "application/vnd.jupyter.widget-view+json": {
       "model_id": "c49497ac325843c1ab87a7ee4c807eab",
       "version_major": 2,
       "version_minor": 0
      },
      "text/plain": [
       "chain 4 |          | 00:00 Status"
      ]
     },
     "metadata": {},
     "output_type": "display_data"
    },
    {
     "name": "stdout",
     "output_type": "stream",
     "text": [
      "                                                                                                                                                                                                                                                                                                                                "
     ]
    },
    {
     "name": "stderr",
     "output_type": "stream",
     "text": [
      "17:52:22 - cmdstanpy - INFO - CmdStan done processing.\n",
      "17:52:22 - cmdstanpy - WARNING - Non-fatal error during sampling:\n",
      "Exception: Exception: normal_lpdf: Random variable is nan, but must be not nan! (in '/Users/linsheng/Documents/GitHub/kaggle-contest-design/metakaggle/model_effort.stan', line 81, column 2, included from\n",
      "Exception: Exception: normal_lpdf: Random variable is nan, but must be not nan! (in '/Users/linsheng/Documents/GitHub/kaggle-contest-design/metakaggle/model_effort.stan', line 81, column 2, included from\n",
      "\tException: Exception: normal_lpdf: Random variable is nan, but must be not nan! (in '/Users/linsheng/Documents/GitHub/kaggle-contest-design/metakaggle/model_effort.stan', line 81, column 2, included from\n",
      "\tException: Exception: normal_lpdf: Random variable is nan, but must be not nan! (in '/Users/linsheng/Documents/GitHub/kaggle-contest-design/metakaggle/model_effort.stan', line 81, column 2, included from\n",
      "Consider re-running with show_console=True if the above output is unclear!\n"
     ]
    },
    {
     "name": "stdout",
     "output_type": "stream",
     "text": [
      "\n"
     ]
    },
    {
     "name": "stderr",
     "output_type": "stream",
     "text": [
      "17:52:29 - cmdstanpy - INFO - CmdStan start processing\n"
     ]
    },
    {
     "name": "stdout",
     "output_type": "stream",
     "text": [
      "contest_2589 end\n",
      "contest_2435 begin\n"
     ]
    },
    {
     "data": {
      "application/vnd.jupyter.widget-view+json": {
       "model_id": "67274fd1009144e581396fe5c0075f70",
       "version_major": 2,
       "version_minor": 0
      },
      "text/plain": [
       "chain 1 |          | 00:00 Status"
      ]
     },
     "metadata": {},
     "output_type": "display_data"
    },
    {
     "data": {
      "application/vnd.jupyter.widget-view+json": {
       "model_id": "00034f5ff5a44589bd048151899a0fba",
       "version_major": 2,
       "version_minor": 0
      },
      "text/plain": [
       "chain 2 |          | 00:00 Status"
      ]
     },
     "metadata": {},
     "output_type": "display_data"
    },
    {
     "data": {
      "application/vnd.jupyter.widget-view+json": {
       "model_id": "4316a478407d4515a9ac1722222ca960",
       "version_major": 2,
       "version_minor": 0
      },
      "text/plain": [
       "chain 3 |          | 00:00 Status"
      ]
     },
     "metadata": {},
     "output_type": "display_data"
    },
    {
     "data": {
      "application/vnd.jupyter.widget-view+json": {
       "model_id": "26637dfb07bc40d79d0439480249db72",
       "version_major": 2,
       "version_minor": 0
      },
      "text/plain": [
       "chain 4 |          | 00:00 Status"
      ]
     },
     "metadata": {},
     "output_type": "display_data"
    },
    {
     "name": "stdout",
     "output_type": "stream",
     "text": [
      "                                                                                                                                                                                                                                                                                                                                "
     ]
    },
    {
     "name": "stderr",
     "output_type": "stream",
     "text": [
      "17:52:50 - cmdstanpy - INFO - CmdStan done processing.\n"
     ]
    },
    {
     "name": "stdout",
     "output_type": "stream",
     "text": [
      "\n"
     ]
    },
    {
     "name": "stderr",
     "output_type": "stream",
     "text": [
      "17:52:53 - cmdstanpy - INFO - CmdStan start processing\n"
     ]
    },
    {
     "name": "stdout",
     "output_type": "stream",
     "text": [
      "contest_2435 end\n",
      "contest_3526 begin\n"
     ]
    },
    {
     "data": {
      "application/vnd.jupyter.widget-view+json": {
       "model_id": "d252c935aab7470aaef4996410857b61",
       "version_major": 2,
       "version_minor": 0
      },
      "text/plain": [
       "chain 1 |          | 00:00 Status"
      ]
     },
     "metadata": {},
     "output_type": "display_data"
    },
    {
     "data": {
      "application/vnd.jupyter.widget-view+json": {
       "model_id": "26b3ec6534374abe940eae5147ee161d",
       "version_major": 2,
       "version_minor": 0
      },
      "text/plain": [
       "chain 2 |          | 00:00 Status"
      ]
     },
     "metadata": {},
     "output_type": "display_data"
    },
    {
     "data": {
      "application/vnd.jupyter.widget-view+json": {
       "model_id": "d476e61702f54d0ea4ada3a7000547bc",
       "version_major": 2,
       "version_minor": 0
      },
      "text/plain": [
       "chain 3 |          | 00:00 Status"
      ]
     },
     "metadata": {},
     "output_type": "display_data"
    },
    {
     "data": {
      "application/vnd.jupyter.widget-view+json": {
       "model_id": "fb9b2cf8987442788135e4d7c936b9bb",
       "version_major": 2,
       "version_minor": 0
      },
      "text/plain": [
       "chain 4 |          | 00:00 Status"
      ]
     },
     "metadata": {},
     "output_type": "display_data"
    },
    {
     "name": "stdout",
     "output_type": "stream",
     "text": [
      "                                                                                                                                                                                                                                                                                                                                "
     ]
    },
    {
     "name": "stderr",
     "output_type": "stream",
     "text": [
      "17:55:15 - cmdstanpy - INFO - CmdStan done processing.\n",
      "17:55:15 - cmdstanpy - WARNING - Non-fatal error during sampling:\n",
      "Exception: Exception: normal_lpdf: Random variable is nan, but must be not nan! (in '/Users/linsheng/Documents/GitHub/kaggle-contest-design/metakaggle/model_effort.stan', line 81, column 2, included from\n",
      "Consider re-running with show_console=True if the above output is unclear!\n"
     ]
    },
    {
     "name": "stdout",
     "output_type": "stream",
     "text": [
      "\n"
     ]
    },
    {
     "name": "stderr",
     "output_type": "stream",
     "text": [
      "17:55:22 - cmdstanpy - INFO - CmdStan start processing\n"
     ]
    },
    {
     "name": "stdout",
     "output_type": "stream",
     "text": [
      "contest_3526 end\n",
      "contest_2478 begin\n"
     ]
    },
    {
     "data": {
      "application/vnd.jupyter.widget-view+json": {
       "model_id": "83f60fb995cf413f8f32a33ae1a30b97",
       "version_major": 2,
       "version_minor": 0
      },
      "text/plain": [
       "chain 1 |          | 00:00 Status"
      ]
     },
     "metadata": {},
     "output_type": "display_data"
    },
    {
     "data": {
      "application/vnd.jupyter.widget-view+json": {
       "model_id": "d085d88671714582a27b387bc05962ef",
       "version_major": 2,
       "version_minor": 0
      },
      "text/plain": [
       "chain 2 |          | 00:00 Status"
      ]
     },
     "metadata": {},
     "output_type": "display_data"
    },
    {
     "data": {
      "application/vnd.jupyter.widget-view+json": {
       "model_id": "d79695a764814f189f133c274772bbb6",
       "version_major": 2,
       "version_minor": 0
      },
      "text/plain": [
       "chain 3 |          | 00:00 Status"
      ]
     },
     "metadata": {},
     "output_type": "display_data"
    },
    {
     "data": {
      "application/vnd.jupyter.widget-view+json": {
       "model_id": "f50ac4c5e62d47a7a68dea54428f831e",
       "version_major": 2,
       "version_minor": 0
      },
      "text/plain": [
       "chain 4 |          | 00:00 Status"
      ]
     },
     "metadata": {},
     "output_type": "display_data"
    },
    {
     "name": "stdout",
     "output_type": "stream",
     "text": [
      "                                                                                                                                                                                                                                                                                                                                "
     ]
    },
    {
     "name": "stderr",
     "output_type": "stream",
     "text": [
      "17:56:05 - cmdstanpy - INFO - CmdStan done processing.\n"
     ]
    },
    {
     "name": "stdout",
     "output_type": "stream",
     "text": [
      "\n"
     ]
    },
    {
     "name": "stderr",
     "output_type": "stream",
     "text": [
      "17:56:11 - cmdstanpy - INFO - CmdStan start processing\n"
     ]
    },
    {
     "name": "stdout",
     "output_type": "stream",
     "text": [
      "contest_2478 end\n",
      "contest_2454 begin\n"
     ]
    },
    {
     "data": {
      "application/vnd.jupyter.widget-view+json": {
       "model_id": "8bf4c16b381444cd835a48f089bd8326",
       "version_major": 2,
       "version_minor": 0
      },
      "text/plain": [
       "chain 1 |          | 00:00 Status"
      ]
     },
     "metadata": {},
     "output_type": "display_data"
    },
    {
     "data": {
      "application/vnd.jupyter.widget-view+json": {
       "model_id": "32092e8f5e9d4122984c39f66342a3df",
       "version_major": 2,
       "version_minor": 0
      },
      "text/plain": [
       "chain 2 |          | 00:00 Status"
      ]
     },
     "metadata": {},
     "output_type": "display_data"
    },
    {
     "data": {
      "application/vnd.jupyter.widget-view+json": {
       "model_id": "e1bbe6cc305a4702893b593d79a500cc",
       "version_major": 2,
       "version_minor": 0
      },
      "text/plain": [
       "chain 3 |          | 00:00 Status"
      ]
     },
     "metadata": {},
     "output_type": "display_data"
    },
    {
     "data": {
      "application/vnd.jupyter.widget-view+json": {
       "model_id": "00b5b97a1d2947afbc27bd8daa9f721a",
       "version_major": 2,
       "version_minor": 0
      },
      "text/plain": [
       "chain 4 |          | 00:00 Status"
      ]
     },
     "metadata": {},
     "output_type": "display_data"
    },
    {
     "name": "stdout",
     "output_type": "stream",
     "text": [
      "                                                                                                                                                                                                                                                                                                                                "
     ]
    },
    {
     "name": "stderr",
     "output_type": "stream",
     "text": [
      "17:56:51 - cmdstanpy - INFO - CmdStan done processing.\n"
     ]
    },
    {
     "name": "stdout",
     "output_type": "stream",
     "text": [
      "\n"
     ]
    },
    {
     "name": "stderr",
     "output_type": "stream",
     "text": [
      "17:56:56 - cmdstanpy - INFO - CmdStan start processing\n"
     ]
    },
    {
     "name": "stdout",
     "output_type": "stream",
     "text": [
      "contest_2454 end\n",
      "contest_2445 begin\n"
     ]
    },
    {
     "data": {
      "application/vnd.jupyter.widget-view+json": {
       "model_id": "f4e4c2f249f244278249b04cd4f53b87",
       "version_major": 2,
       "version_minor": 0
      },
      "text/plain": [
       "chain 1 |          | 00:00 Status"
      ]
     },
     "metadata": {},
     "output_type": "display_data"
    },
    {
     "data": {
      "application/vnd.jupyter.widget-view+json": {
       "model_id": "4b344e22784e4bd697bc785c8b665e23",
       "version_major": 2,
       "version_minor": 0
      },
      "text/plain": [
       "chain 2 |          | 00:00 Status"
      ]
     },
     "metadata": {},
     "output_type": "display_data"
    },
    {
     "data": {
      "application/vnd.jupyter.widget-view+json": {
       "model_id": "85525ada3e784b8e8df8d8ce1f2917ed",
       "version_major": 2,
       "version_minor": 0
      },
      "text/plain": [
       "chain 3 |          | 00:00 Status"
      ]
     },
     "metadata": {},
     "output_type": "display_data"
    },
    {
     "data": {
      "application/vnd.jupyter.widget-view+json": {
       "model_id": "688a48c6eb8045959fbbb4f69f27561f",
       "version_major": 2,
       "version_minor": 0
      },
      "text/plain": [
       "chain 4 |          | 00:00 Status"
      ]
     },
     "metadata": {},
     "output_type": "display_data"
    },
    {
     "name": "stdout",
     "output_type": "stream",
     "text": [
      "                                                                                                                                                                                                                                                                                                                                "
     ]
    },
    {
     "name": "stderr",
     "output_type": "stream",
     "text": [
      "17:57:31 - cmdstanpy - INFO - CmdStan done processing.\n",
      "17:57:31 - cmdstanpy - WARNING - Non-fatal error during sampling:\n",
      "Exception: Exception: normal_lpdf: Random variable is nan, but must be not nan! (in '/Users/linsheng/Documents/GitHub/kaggle-contest-design/metakaggle/model_effort.stan', line 81, column 2, included from\n",
      "\tException: Exception: normal_lpdf: Random variable is nan, but must be not nan! (in '/Users/linsheng/Documents/GitHub/kaggle-contest-design/metakaggle/model_effort.stan', line 81, column 2, included from\n",
      "Consider re-running with show_console=True if the above output is unclear!\n"
     ]
    },
    {
     "name": "stdout",
     "output_type": "stream",
     "text": [
      "\n"
     ]
    },
    {
     "name": "stderr",
     "output_type": "stream",
     "text": [
      "17:57:35 - cmdstanpy - INFO - CmdStan start processing\n"
     ]
    },
    {
     "name": "stdout",
     "output_type": "stream",
     "text": [
      "contest_2445 end\n",
      "contest_2464 begin\n"
     ]
    },
    {
     "data": {
      "application/vnd.jupyter.widget-view+json": {
       "model_id": "da45150b8c64470ba896d58cdfee4154",
       "version_major": 2,
       "version_minor": 0
      },
      "text/plain": [
       "chain 1 |          | 00:00 Status"
      ]
     },
     "metadata": {},
     "output_type": "display_data"
    },
    {
     "data": {
      "application/vnd.jupyter.widget-view+json": {
       "model_id": "f3a593fefb14492687776b0c16449c1a",
       "version_major": 2,
       "version_minor": 0
      },
      "text/plain": [
       "chain 2 |          | 00:00 Status"
      ]
     },
     "metadata": {},
     "output_type": "display_data"
    },
    {
     "data": {
      "application/vnd.jupyter.widget-view+json": {
       "model_id": "fe0e3f0b637842ff8266d1906e693d7b",
       "version_major": 2,
       "version_minor": 0
      },
      "text/plain": [
       "chain 3 |          | 00:00 Status"
      ]
     },
     "metadata": {},
     "output_type": "display_data"
    },
    {
     "data": {
      "application/vnd.jupyter.widget-view+json": {
       "model_id": "e9817cbe54124ae698fb0497d8602060",
       "version_major": 2,
       "version_minor": 0
      },
      "text/plain": [
       "chain 4 |          | 00:00 Status"
      ]
     },
     "metadata": {},
     "output_type": "display_data"
    },
    {
     "name": "stdout",
     "output_type": "stream",
     "text": [
      "                                                                                                                                                                                                                                                                                                                                "
     ]
    },
    {
     "name": "stderr",
     "output_type": "stream",
     "text": [
      "17:57:52 - cmdstanpy - INFO - CmdStan done processing.\n"
     ]
    },
    {
     "name": "stdout",
     "output_type": "stream",
     "text": [
      "\n",
      "contest_2464 end\n"
     ]
    }
   ],
   "source": [
    "# fit the model with data\n",
    "for json_data in all_json_datas:\n",
    "\tcontest_name = json_data.stem\n",
    "\tposterior_file = f'posteriors_{contest_name}.pkl'\n",
    "\tposterior_file_path = wd_jsondata.joinpath(posterior_file)\n",
    "\tif posterior_file_path.exists():\n",
    "\t\tcontinue\n",
    "\tprint(contest_name, 'begin')\n",
    "\tfit = model.sample( \\\n",
    "\t\tdata=json_data,\n",
    "\t\titer_warmup=1000,\n",
    "\t\titer_sampling=2000,\n",
    "\t\tchains=4,\n",
    "\t\tparallel_chains=4,\n",
    "\t\tshow_console=False,\n",
    "\t\tmax_treedepth=12,  # for difficult model\n",
    "\t\tadapt_delta=0.99,  # for difficult model\n",
    "\t\toutput_dir=output_dir,\n",
    "\t\tseed=12345,\n",
    "\t)\n",
    "\tposteriors = fit.stan_variables()\n",
    "\twith open(posterior_file, 'wb') as f:\n",
    "\t\tpickle.dump(posteriors, f)\n",
    "\tprint(contest_name, 'end')"
   ]
  },
  {
   "cell_type": "code",
   "execution_count": 7,
   "id": "0563b037",
   "metadata": {},
   "outputs": [
    {
     "data": {
      "text/html": [
       "<div>\n",
       "<style scoped>\n",
       "    .dataframe tbody tr th:only-of-type {\n",
       "        vertical-align: middle;\n",
       "    }\n",
       "\n",
       "    .dataframe tbody tr th {\n",
       "        vertical-align: top;\n",
       "    }\n",
       "\n",
       "    .dataframe thead th {\n",
       "        text-align: right;\n",
       "    }\n",
       "</style>\n",
       "<table border=\"1\" class=\"dataframe\">\n",
       "  <thead>\n",
       "    <tr style=\"text-align: right;\">\n",
       "      <th></th>\n",
       "      <th>Name</th>\n",
       "      <th>Posterior Mean</th>\n",
       "      <th>Posterior Std.</th>\n",
       "      <th>2.5% Quantile</th>\n",
       "      <th>97.5% Quantile</th>\n",
       "    </tr>\n",
       "  </thead>\n",
       "  <tbody>\n",
       "    <tr>\n",
       "      <th>0</th>\n",
       "      <td>c_i</td>\n",
       "      <td>0.626243</td>\n",
       "      <td>0.125604</td>\n",
       "      <td>0.503532</td>\n",
       "      <td>0.962788</td>\n",
       "    </tr>\n",
       "    <tr>\n",
       "      <th>1</th>\n",
       "      <td>c_j</td>\n",
       "      <td>0.604383</td>\n",
       "      <td>0.107485</td>\n",
       "      <td>0.502876</td>\n",
       "      <td>0.890262</td>\n",
       "    </tr>\n",
       "    <tr>\n",
       "      <th>2</th>\n",
       "      <td>sigma</td>\n",
       "      <td>9.441136</td>\n",
       "      <td>0.474248</td>\n",
       "      <td>8.245029</td>\n",
       "      <td>9.980237</td>\n",
       "    </tr>\n",
       "    <tr>\n",
       "      <th>3</th>\n",
       "      <td>lambda</td>\n",
       "      <td>0.208448</td>\n",
       "      <td>0.095743</td>\n",
       "      <td>0.070087</td>\n",
       "      <td>0.437911</td>\n",
       "    </tr>\n",
       "    <tr>\n",
       "      <th>4</th>\n",
       "      <td>mu_0</td>\n",
       "      <td>-0.084615</td>\n",
       "      <td>5.017722</td>\n",
       "      <td>-9.930651</td>\n",
       "      <td>9.932066</td>\n",
       "    </tr>\n",
       "  </tbody>\n",
       "</table>\n",
       "</div>"
      ],
      "text/plain": [
       "     Name  Posterior Mean  Posterior Std.  2.5% Quantile  97.5% Quantile\n",
       "0     c_i        0.626243        0.125604       0.503532        0.962788\n",
       "1     c_j        0.604383        0.107485       0.502876        0.890262\n",
       "2   sigma        9.441136        0.474248       8.245029        9.980237\n",
       "3  lambda        0.208448        0.095743       0.070087        0.437911\n",
       "4    mu_0       -0.084615        5.017722      -9.930651        9.932066"
      ]
     },
     "execution_count": 7,
     "metadata": {},
     "output_type": "execute_result"
    }
   ],
   "source": [
    "display_estimation_results(\n",
    "\t['c_i', 'c_j', 'sigma', 'lambda', 'mu_0'],\n",
    "\tposteriors\n",
    ")"
   ]
  },
  {
   "cell_type": "code",
   "execution_count": 8,
   "id": "3bccc13d",
   "metadata": {},
   "outputs": [],
   "source": [
    "for file in output_dir.iterdir():\n",
    "\tif file.is_file():\n",
    "\t\tfile.unlink()"
   ]
  }
 ],
 "metadata": {
  "kernelspec": {
   "display_name": ".venv_macbook",
   "language": "python",
   "name": "python3"
  },
  "language_info": {
   "codemirror_mode": {
    "name": "ipython",
    "version": 3
   },
   "file_extension": ".py",
   "mimetype": "text/x-python",
   "name": "python",
   "nbconvert_exporter": "python",
   "pygments_lexer": "ipython3",
   "version": "3.13.2"
  }
 },
 "nbformat": 4,
 "nbformat_minor": 5
}
