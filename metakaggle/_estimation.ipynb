{
 "cells": [
  {
   "cell_type": "markdown",
   "id": "0e1b14f6",
   "metadata": {},
   "source": [
    "# Estimations"
   ]
  },
  {
   "cell_type": "code",
   "execution_count": 1,
   "id": "62289779",
   "metadata": {},
   "outputs": [],
   "source": [
    "import os\n",
    "import pickle\n",
    "import json\n",
    "from pathlib import Path"
   ]
  },
  {
   "cell_type": "code",
   "execution_count": 2,
   "id": "7bee7be1",
   "metadata": {},
   "outputs": [],
   "source": [
    "# import cmdstanpy\n",
    "# cmdstanpy.install_cmdstan()\n",
    "from cmdstanpy import CmdStanModel, compile_stan_file"
   ]
  },
  {
   "cell_type": "markdown",
   "id": "e1059e2b",
   "metadata": {},
   "source": [
    "### Estimations"
   ]
  },
  {
   "cell_type": "code",
   "execution_count": 3,
   "id": "e256f0f2",
   "metadata": {},
   "outputs": [],
   "source": [
    "wd = os.getcwd()\n",
    "wd_jsondata = Path(os.path.join(wd, '__jsondata__'))"
   ]
  },
  {
   "cell_type": "code",
   "execution_count": 4,
   "id": "6ac3669d",
   "metadata": {},
   "outputs": [],
   "source": [
    "# # delete all `pkl` files\n",
    "# for file in wd_jsondata.glob(\"*.pkl\"):\n",
    "# \tfile.unlink()"
   ]
  },
  {
   "cell_type": "code",
   "execution_count": 5,
   "id": "6c2f888c",
   "metadata": {},
   "outputs": [
    {
     "data": {
      "text/plain": [
       "78"
      ]
     },
     "execution_count": 5,
     "metadata": {},
     "output_type": "execute_result"
    }
   ],
   "source": [
    "all_json_datas = list(wd_jsondata.rglob('*.json'))\n",
    "len(all_json_datas)"
   ]
  },
  {
   "cell_type": "code",
   "execution_count": 6,
   "id": "f7421b8a",
   "metadata": {},
   "outputs": [],
   "source": [
    "# build stan model\n",
    "stan_file = os.path.join(wd, 'real_data.stan')\n",
    "output_dir = Path('./tmp')\n",
    "exe_path = compile_stan_file(\n",
    "\tsrc=stan_file,\n",
    "\tcpp_options={\n",
    "\t\t\"LDFLAGS\": \"-headerpad_max_install_names\",\n",
    "\t\t\"CXXFLAGS\": \"-O2\",\n",
    "})\n",
    "model = CmdStanModel(stan_file=stan_file, exe_file=exe_path)"
   ]
  },
  {
   "cell_type": "code",
   "execution_count": 7,
   "id": "5e231784",
   "metadata": {},
   "outputs": [
    {
     "name": "stderr",
     "output_type": "stream",
     "text": [
      "02:44:19 - cmdstanpy - INFO - CmdStan start processing\n"
     ]
    },
    {
     "name": "stdout",
     "output_type": "stream",
     "text": [
      "contest_2667 begin\n"
     ]
    },
    {
     "data": {
      "application/vnd.jupyter.widget-view+json": {
       "model_id": "9ee31c5c46134d5d9bac68af749149c1",
       "version_major": 2,
       "version_minor": 0
      },
      "text/plain": [
       "chain 1 |          | 00:00 Status"
      ]
     },
     "metadata": {},
     "output_type": "display_data"
    },
    {
     "data": {
      "application/vnd.jupyter.widget-view+json": {
       "model_id": "a7e70e82bb344563ab045e3a1285fafa",
       "version_major": 2,
       "version_minor": 0
      },
      "text/plain": [
       "chain 2 |          | 00:00 Status"
      ]
     },
     "metadata": {},
     "output_type": "display_data"
    },
    {
     "data": {
      "application/vnd.jupyter.widget-view+json": {
       "model_id": "ef02ca8411af4bcfbd75148fca06c9fe",
       "version_major": 2,
       "version_minor": 0
      },
      "text/plain": [
       "chain 3 |          | 00:00 Status"
      ]
     },
     "metadata": {},
     "output_type": "display_data"
    },
    {
     "data": {
      "application/vnd.jupyter.widget-view+json": {
       "model_id": "162672759eb04456bb370d4a90bb413c",
       "version_major": 2,
       "version_minor": 0
      },
      "text/plain": [
       "chain 4 |          | 00:00 Status"
      ]
     },
     "metadata": {},
     "output_type": "display_data"
    },
    {
     "name": "stdout",
     "output_type": "stream",
     "text": [
      "                                                                                                                                                                                                                                                                                                                                "
     ]
    },
    {
     "name": "stderr",
     "output_type": "stream",
     "text": [
      "04:05:16 - cmdstanpy - INFO - CmdStan done processing.\n",
      "04:05:16 - cmdstanpy - WARNING - Non-fatal error during sampling:\n",
      "Exception: Exception: normal_lpdf: Random variable is nan, but must be not nan! (in 'real_data.stan', line 81, column 2 to column 53) (in 'real_data.stan', line 175, column 2 to line 180, column 4)\n",
      "\tException: Exception: normal_lpdf: Random variable is nan, but must be not nan! (in 'real_data.stan', line 81, column 2 to column 53) (in 'real_data.stan', line 175, column 2 to line 180, column 4)\n",
      "\tException: Exception: normal_lpdf: Random variable is nan, but must be not nan! (in 'real_data.stan', line 81, column 2 to column 53) (in 'real_data.stan', line 175, column 2 to line 180, column 4)\n",
      "\tException: Exception: normal_lpdf: Random variable is nan, but must be not nan! (in 'real_data.stan', line 81, column 2 to column 53) (in 'real_data.stan', line 175, column 2 to line 180, column 4)\n",
      "\tException: Exception: normal_lpdf: Random variable is nan, but must be not nan! (in 'real_data.stan', line 81, column 2 to column 53) (in 'real_data.stan', line 175, column 2 to line 180, column 4)\n",
      "\tException: Exception: normal_lpdf: Random variable is nan, but must be not nan! (in 'real_data.stan', line 81, column 2 to column 53) (in 'real_data.stan', line 175, column 2 to line 180, column 4)\n",
      "Exception: Exception: normal_lpdf: Random variable is nan, but must be not nan! (in 'real_data.stan', line 81, column 2 to column 53) (in 'real_data.stan', line 175, column 2 to line 180, column 4)\n",
      "\tException: Exception: normal_lpdf: Random variable is nan, but must be not nan! (in 'real_data.stan', line 81, column 2 to column 53) (in 'real_data.stan', line 175, column 2 to line 180, column 4)\n",
      "\tException: Exception: normal_lpdf: Random variable is nan, but must be not nan! (in 'real_data.stan', line 81, column 2 to column 53) (in 'real_data.stan', line 175, column 2 to line 180, column 4)\n",
      "\tException: Exception: normal_lpdf: Random variable is nan, but must be not nan! (in 'real_data.stan', line 81, column 2 to column 53) (in 'real_data.stan', line 175, column 2 to line 180, column 4)\n",
      "\tException: Exception: normal_lpdf: Random variable is nan, but must be not nan! (in 'real_data.stan', line 81, column 2 to column 53) (in 'real_data.stan', line 175, column 2 to line 180, column 4)\n",
      "Exception: Exception: normal_lpdf: Random variable is nan, but must be not nan! (in 'real_data.stan', line 81, column 2 to column 53) (in 'real_data.stan', line 175, column 2 to line 180, column 4)\n",
      "\tException: Exception: normal_lpdf: Random variable is nan, but must be not nan! (in 'real_data.stan', line 81, column 2 to column 53) (in 'real_data.stan', line 175, column 2 to line 180, column 4)\n",
      "Exception: Exception: normal_lpdf: Random variable is nan, but must be not nan! (in 'real_data.stan', line 81, column 2 to column 53) (in 'real_data.stan', line 175, column 2 to line 180, column 4)\n",
      "\tException: Exception: normal_lpdf: Random variable is nan, but must be not nan! (in 'real_data.stan', line 81, column 2 to column 53) (in 'real_data.stan', line 175, column 2 to line 180, column 4)\n",
      "\tException: Exception: normal_lpdf: Random variable is nan, but must be not nan! (in 'real_data.stan', line 81, column 2 to column 53) (in 'real_data.stan', line 175, column 2 to line 180, column 4)\n",
      "\tException: Exception: normal_lpdf: Random variable is nan, but must be not nan! (in 'real_data.stan', line 81, column 2 to column 53) (in 'real_data.stan', line 175, column 2 to line 180, column 4)\n",
      "\tException: Exception: normal_lpdf: Random variable is nan, but must be not nan! (in 'real_data.stan', line 81, column 2 to column 53) (in 'real_data.stan', line 175, column 2 to line 180, column 4)\n",
      "Consider re-running with show_console=True if the above output is unclear!\n"
     ]
    },
    {
     "name": "stdout",
     "output_type": "stream",
     "text": [
      "\n"
     ]
    },
    {
     "name": "stderr",
     "output_type": "stream",
     "text": [
      "04:05:20 - cmdstanpy - WARNING - Some chains may have failed to converge.\n",
      "\tChain 1 had 10 divergent transitions (0.5%)\n",
      "\tChain 1 had 1349 iterations at max treedepth (67.5%)\n",
      "\tChain 2 had 18 divergent transitions (0.9%)\n",
      "\tChain 2 had 1 iterations at max treedepth (0.1%)\n",
      "\tChain 3 had 5 divergent transitions (0.2%)\n",
      "\tChain 3 had 1910 iterations at max treedepth (95.5%)\n",
      "\tChain 4 had 9 divergent transitions (0.4%)\n",
      "\tChain 4 had 1549 iterations at max treedepth (77.5%)\n",
      "\tUse the \"diagnose()\" method on the CmdStanMCMC object to see further information.\n",
      "04:05:38 - cmdstanpy - INFO - CmdStan start processing\n"
     ]
    },
    {
     "name": "stdout",
     "output_type": "stream",
     "text": [
      "contest_2667 end\n",
      "contest_19018 begin\n"
     ]
    },
    {
     "data": {
      "application/vnd.jupyter.widget-view+json": {
       "model_id": "d3f65719c35541ce85a79ffae7451424",
       "version_major": 2,
       "version_minor": 0
      },
      "text/plain": [
       "chain 1 |          | 00:00 Status"
      ]
     },
     "metadata": {},
     "output_type": "display_data"
    },
    {
     "data": {
      "application/vnd.jupyter.widget-view+json": {
       "model_id": "67ef7a21deaf49129e1a4325e4f7119f",
       "version_major": 2,
       "version_minor": 0
      },
      "text/plain": [
       "chain 2 |          | 00:00 Status"
      ]
     },
     "metadata": {},
     "output_type": "display_data"
    },
    {
     "data": {
      "application/vnd.jupyter.widget-view+json": {
       "model_id": "26894d82027f47dab32ad7395d4df99d",
       "version_major": 2,
       "version_minor": 0
      },
      "text/plain": [
       "chain 3 |          | 00:00 Status"
      ]
     },
     "metadata": {},
     "output_type": "display_data"
    },
    {
     "data": {
      "application/vnd.jupyter.widget-view+json": {
       "model_id": "4cbda67b12e14dda8f5c829db4ba4307",
       "version_major": 2,
       "version_minor": 0
      },
      "text/plain": [
       "chain 4 |          | 00:00 Status"
      ]
     },
     "metadata": {},
     "output_type": "display_data"
    },
    {
     "name": "stdout",
     "output_type": "stream",
     "text": [
      "                                                                                                                                                                                                                                                                                                                                "
     ]
    },
    {
     "name": "stderr",
     "output_type": "stream",
     "text": [
      "04:42:20 - cmdstanpy - INFO - CmdStan done processing.\n",
      "04:42:20 - cmdstanpy - WARNING - Non-fatal error during sampling:\n",
      "Exception: Exception: normal_lpdf: Random variable is nan, but must be not nan! (in 'real_data.stan', line 81, column 2 to column 53) (in 'real_data.stan', line 175, column 2 to line 180, column 4)\n",
      "\tException: Exception: normal_lpdf: Random variable is nan, but must be not nan! (in 'real_data.stan', line 81, column 2 to column 53) (in 'real_data.stan', line 175, column 2 to line 180, column 4)\n",
      "\tException: Exception: normal_lpdf: Random variable is nan, but must be not nan! (in 'real_data.stan', line 81, column 2 to column 53) (in 'real_data.stan', line 175, column 2 to line 180, column 4)\n",
      "\tException: Exception: normal_lpdf: Random variable is nan, but must be not nan! (in 'real_data.stan', line 81, column 2 to column 53) (in 'real_data.stan', line 175, column 2 to line 180, column 4)\n",
      "\tException: Exception: normal_lpdf: Random variable is nan, but must be not nan! (in 'real_data.stan', line 81, column 2 to column 53) (in 'real_data.stan', line 175, column 2 to line 180, column 4)\n",
      "Exception: Exception: normal_lpdf: Random variable is nan, but must be not nan! (in 'real_data.stan', line 81, column 2 to column 53) (in 'real_data.stan', line 175, column 2 to line 180, column 4)\n",
      "\tException: Exception: normal_lpdf: Random variable is nan, but must be not nan! (in 'real_data.stan', line 81, column 2 to column 53) (in 'real_data.stan', line 175, column 2 to line 180, column 4)\n",
      "\tException: Exception: normal_lpdf: Random variable is nan, but must be not nan! (in 'real_data.stan', line 81, column 2 to column 53) (in 'real_data.stan', line 175, column 2 to line 180, column 4)\n",
      "\tException: Exception: normal_lpdf: Random variable is nan, but must be not nan! (in 'real_data.stan', line 81, column 2 to column 53) (in 'real_data.stan', line 175, column 2 to line 180, column 4)\n",
      "\tException: Exception: normal_lpdf: Random variable is nan, but must be not nan! (in 'real_data.stan', line 81, column 2 to column 53) (in 'real_data.stan', line 175, column 2 to line 180, column 4)\n",
      "Exception: Exception: normal_lpdf: Random variable is nan, but must be not nan! (in 'real_data.stan', line 81, column 2 to column 53) (in 'real_data.stan', line 175, column 2 to line 180, column 4)\n",
      "\tException: Exception: normal_lpdf: Random variable is nan, but must be not nan! (in 'real_data.stan', line 81, column 2 to column 53) (in 'real_data.stan', line 175, column 2 to line 180, column 4)\n",
      "\tException: Exception: normal_lpdf: Random variable is nan, but must be not nan! (in 'real_data.stan', line 81, column 2 to column 53) (in 'real_data.stan', line 175, column 2 to line 180, column 4)\n",
      "\tException: Exception: normal_lpdf: Random variable is nan, but must be not nan! (in 'real_data.stan', line 81, column 2 to column 53) (in 'real_data.stan', line 175, column 2 to line 180, column 4)\n",
      "\tException: Exception: normal_lpdf: Random variable is nan, but must be not nan! (in 'real_data.stan', line 81, column 2 to column 53) (in 'real_data.stan', line 175, column 2 to line 180, column 4)\n",
      "Exception: Exception: normal_lpdf: Random variable is nan, but must be not nan! (in 'real_data.stan', line 81, column 2 to column 53) (in 'real_data.stan', line 175, column 2 to line 180, column 4)\n",
      "\tException: Exception: normal_lpdf: Random variable is nan, but must be not nan! (in 'real_data.stan', line 81, column 2 to column 53) (in 'real_data.stan', line 175, column 2 to line 180, column 4)\n",
      "\tException: Exception: normal_lpdf: Random variable is nan, but must be not nan! (in 'real_data.stan', line 81, column 2 to column 53) (in 'real_data.stan', line 175, column 2 to line 180, column 4)\n",
      "\tException: Exception: normal_lpdf: Random variable is nan, but must be not nan! (in 'real_data.stan', line 81, column 2 to column 53) (in 'real_data.stan', line 175, column 2 to line 180, column 4)\n",
      "\tException: Exception: normal_lpdf: Random variable is nan, but must be not nan! (in 'real_data.stan', line 81, column 2 to column 53) (in 'real_data.stan', line 175, column 2 to line 180, column 4)\n",
      "Consider re-running with show_console=True if the above output is unclear!\n"
     ]
    },
    {
     "name": "stdout",
     "output_type": "stream",
     "text": [
      "\n"
     ]
    },
    {
     "name": "stderr",
     "output_type": "stream",
     "text": [
      "04:42:25 - cmdstanpy - WARNING - Some chains may have failed to converge.\n",
      "\tChain 1 had 35 divergent transitions (1.8%)\n",
      "\tChain 1 had 1 iterations at max treedepth (0.1%)\n",
      "\tChain 2 had 34 divergent transitions (1.7%)\n",
      "\tChain 2 had 239 iterations at max treedepth (11.9%)\n",
      "\tChain 3 had 43 divergent transitions (2.1%)\n",
      "\tChain 4 had 65 divergent transitions (3.2%)\n",
      "\tUse the \"diagnose()\" method on the CmdStanMCMC object to see further information.\n",
      "04:42:44 - cmdstanpy - INFO - CmdStan start processing\n"
     ]
    },
    {
     "name": "stdout",
     "output_type": "stream",
     "text": [
      "contest_19018 end\n",
      "contest_4043 begin\n"
     ]
    },
    {
     "data": {
      "application/vnd.jupyter.widget-view+json": {
       "model_id": "a912a8d150bc40dba73d8be5dde8604b",
       "version_major": 2,
       "version_minor": 0
      },
      "text/plain": [
       "chain 1 |          | 00:00 Status"
      ]
     },
     "metadata": {},
     "output_type": "display_data"
    },
    {
     "data": {
      "application/vnd.jupyter.widget-view+json": {
       "model_id": "4e94a2a4323b4f248ecb0927bd98b66d",
       "version_major": 2,
       "version_minor": 0
      },
      "text/plain": [
       "chain 2 |          | 00:00 Status"
      ]
     },
     "metadata": {},
     "output_type": "display_data"
    },
    {
     "data": {
      "application/vnd.jupyter.widget-view+json": {
       "model_id": "53c818a162f041c6b577dca2d23a1736",
       "version_major": 2,
       "version_minor": 0
      },
      "text/plain": [
       "chain 3 |          | 00:00 Status"
      ]
     },
     "metadata": {},
     "output_type": "display_data"
    },
    {
     "data": {
      "application/vnd.jupyter.widget-view+json": {
       "model_id": "5b214000e9044d258ddbd3b1e3070be5",
       "version_major": 2,
       "version_minor": 0
      },
      "text/plain": [
       "chain 4 |          | 00:00 Status"
      ]
     },
     "metadata": {},
     "output_type": "display_data"
    },
    {
     "name": "stdout",
     "output_type": "stream",
     "text": [
      "                                                                                                                                                                                                                                                                                                                                "
     ]
    },
    {
     "name": "stderr",
     "output_type": "stream",
     "text": [
      "04:43:54 - cmdstanpy - INFO - CmdStan done processing.\n",
      "04:43:54 - cmdstanpy - WARNING - Non-fatal error during sampling:\n",
      "Exception: Exception: normal_lpdf: Random variable is nan, but must be not nan! (in 'real_data.stan', line 81, column 2 to column 53) (in 'real_data.stan', line 175, column 2 to line 180, column 4)\n",
      "\tException: Exception: normal_lpdf: Random variable is nan, but must be not nan! (in 'real_data.stan', line 81, column 2 to column 53) (in 'real_data.stan', line 175, column 2 to line 180, column 4)\n",
      "\tException: Exception: normal_lpdf: Random variable is nan, but must be not nan! (in 'real_data.stan', line 81, column 2 to column 53) (in 'real_data.stan', line 175, column 2 to line 180, column 4)\n",
      "Exception: Exception: normal_lpdf: Random variable is nan, but must be not nan! (in 'real_data.stan', line 81, column 2 to column 53) (in 'real_data.stan', line 175, column 2 to line 180, column 4)\n",
      "\tException: Exception: normal_lpdf: Random variable is nan, but must be not nan! (in 'real_data.stan', line 81, column 2 to column 53) (in 'real_data.stan', line 175, column 2 to line 180, column 4)\n",
      "Exception: Exception: normal_lpdf: Random variable is nan, but must be not nan! (in 'real_data.stan', line 81, column 2 to column 53) (in 'real_data.stan', line 175, column 2 to line 180, column 4)\n",
      "\tException: Exception: normal_lpdf: Random variable is nan, but must be not nan! (in 'real_data.stan', line 81, column 2 to column 53) (in 'real_data.stan', line 175, column 2 to line 180, column 4)\n",
      "\tException: Exception: normal_lpdf: Random variable is nan, but must be not nan! (in 'real_data.stan', line 81, column 2 to column 53) (in 'real_data.stan', line 175, column 2 to line 180, column 4)\n",
      "Consider re-running with show_console=True if the above output is unclear!\n"
     ]
    },
    {
     "name": "stdout",
     "output_type": "stream",
     "text": [
      "\n"
     ]
    },
    {
     "name": "stderr",
     "output_type": "stream",
     "text": [
      "04:44:07 - cmdstanpy - INFO - CmdStan start processing\n"
     ]
    },
    {
     "name": "stdout",
     "output_type": "stream",
     "text": [
      "contest_4043 end\n",
      "contest_18045 begin\n"
     ]
    },
    {
     "data": {
      "application/vnd.jupyter.widget-view+json": {
       "model_id": "4157da49d6cd4c4a9f5dbee8d55ccb5e",
       "version_major": 2,
       "version_minor": 0
      },
      "text/plain": [
       "chain 1 |          | 00:00 Status"
      ]
     },
     "metadata": {},
     "output_type": "display_data"
    },
    {
     "data": {
      "application/vnd.jupyter.widget-view+json": {
       "model_id": "4c8613efb08d4bb79e773faa8022fe85",
       "version_major": 2,
       "version_minor": 0
      },
      "text/plain": [
       "chain 2 |          | 00:00 Status"
      ]
     },
     "metadata": {},
     "output_type": "display_data"
    },
    {
     "data": {
      "application/vnd.jupyter.widget-view+json": {
       "model_id": "3a87ddac90e0491391dfa60718e031a5",
       "version_major": 2,
       "version_minor": 0
      },
      "text/plain": [
       "chain 3 |          | 00:00 Status"
      ]
     },
     "metadata": {},
     "output_type": "display_data"
    },
    {
     "data": {
      "application/vnd.jupyter.widget-view+json": {
       "model_id": "0bbaef2824ca46e1a761811afcb1c342",
       "version_major": 2,
       "version_minor": 0
      },
      "text/plain": [
       "chain 4 |          | 00:00 Status"
      ]
     },
     "metadata": {},
     "output_type": "display_data"
    },
    {
     "name": "stdout",
     "output_type": "stream",
     "text": [
      "                                                                                                                                                                                                                                                                                                                                "
     ]
    },
    {
     "name": "stderr",
     "output_type": "stream",
     "text": [
      "04:52:14 - cmdstanpy - INFO - CmdStan done processing.\n",
      "04:52:14 - cmdstanpy - WARNING - Non-fatal error during sampling:\n",
      "Exception: Exception: normal_lpdf: Random variable is nan, but must be not nan! (in 'real_data.stan', line 81, column 2 to column 53) (in 'real_data.stan', line 175, column 2 to line 180, column 4)\n",
      "\tException: Exception: normal_lpdf: Random variable is nan, but must be not nan! (in 'real_data.stan', line 81, column 2 to column 53) (in 'real_data.stan', line 175, column 2 to line 180, column 4)\n",
      "\tException: Exception: normal_lpdf: Random variable is nan, but must be not nan! (in 'real_data.stan', line 81, column 2 to column 53) (in 'real_data.stan', line 175, column 2 to line 180, column 4)\n",
      "\tException: Exception: normal_lpdf: Random variable is nan, but must be not nan! (in 'real_data.stan', line 81, column 2 to column 53) (in 'real_data.stan', line 175, column 2 to line 180, column 4)\n",
      "\tException: Exception: normal_lpdf: Random variable is nan, but must be not nan! (in 'real_data.stan', line 81, column 2 to column 53) (in 'real_data.stan', line 175, column 2 to line 180, column 4)\n",
      "Exception: Exception: normal_lpdf: Random variable is nan, but must be not nan! (in 'real_data.stan', line 81, column 2 to column 53) (in 'real_data.stan', line 175, column 2 to line 180, column 4)\n",
      "\tException: Exception: normal_lpdf: Random variable is nan, but must be not nan! (in 'real_data.stan', line 81, column 2 to column 53) (in 'real_data.stan', line 175, column 2 to line 180, column 4)\n",
      "\tException: Exception: normal_lpdf: Random variable is nan, but must be not nan! (in 'real_data.stan', line 81, column 2 to column 53) (in 'real_data.stan', line 175, column 2 to line 180, column 4)\n",
      "\tException: Exception: normal_lpdf: Random variable is nan, but must be not nan! (in 'real_data.stan', line 81, column 2 to column 53) (in 'real_data.stan', line 175, column 2 to line 180, column 4)\n",
      "Exception: Exception: normal_lpdf: Random variable is nan, but must be not nan! (in 'real_data.stan', line 81, column 2 to column 53) (in 'real_data.stan', line 175, column 2 to line 180, column 4)\n",
      "\tException: Exception: normal_lpdf: Random variable is nan, but must be not nan! (in 'real_data.stan', line 81, column 2 to column 53) (in 'real_data.stan', line 175, column 2 to line 180, column 4)\n",
      "\tException: Exception: normal_lpdf: Random variable is nan, but must be not nan! (in 'real_data.stan', line 81, column 2 to column 53) (in 'real_data.stan', line 175, column 2 to line 180, column 4)\n",
      "\tException: Exception: normal_lpdf: Random variable is nan, but must be not nan! (in 'real_data.stan', line 81, column 2 to column 53) (in 'real_data.stan', line 175, column 2 to line 180, column 4)\n",
      "\tException: Exception: normal_lpdf: Random variable is nan, but must be not nan! (in 'real_data.stan', line 81, column 2 to column 53) (in 'real_data.stan', line 175, column 2 to line 180, column 4)\n",
      "Exception: Exception: normal_lpdf: Random variable is nan, but must be not nan! (in 'real_data.stan', line 81, column 2 to column 53) (in 'real_data.stan', line 175, column 2 to line 180, column 4)\n",
      "\tException: Exception: normal_lpdf: Random variable is nan, but must be not nan! (in 'real_data.stan', line 81, column 2 to column 53) (in 'real_data.stan', line 175, column 2 to line 180, column 4)\n",
      "\tException: Exception: normal_lpdf: Random variable is nan, but must be not nan! (in 'real_data.stan', line 81, column 2 to column 53) (in 'real_data.stan', line 175, column 2 to line 180, column 4)\n",
      "\tException: Exception: normal_lpdf: Random variable is nan, but must be not nan! (in 'real_data.stan', line 81, column 2 to column 53) (in 'real_data.stan', line 175, column 2 to line 180, column 4)\n",
      "\tException: Exception: normal_lpdf: Random variable is nan, but must be not nan! (in 'real_data.stan', line 81, column 2 to column 53) (in 'real_data.stan', line 175, column 2 to line 180, column 4)\n",
      "Consider re-running with show_console=True if the above output is unclear!\n"
     ]
    },
    {
     "name": "stdout",
     "output_type": "stream",
     "text": [
      "\n"
     ]
    },
    {
     "name": "stderr",
     "output_type": "stream",
     "text": [
      "04:52:17 - cmdstanpy - WARNING - Some chains may have failed to converge.\n",
      "\tChain 1 had 51 divergent transitions (2.5%)\n",
      "\tChain 2 had 54 divergent transitions (2.7%)\n",
      "\tChain 3 had 66 divergent transitions (3.3%)\n",
      "\tChain 4 had 74 divergent transitions (3.7%)\n",
      "\tUse the \"diagnose()\" method on the CmdStanMCMC object to see further information.\n",
      "04:52:30 - cmdstanpy - INFO - CmdStan start processing\n"
     ]
    },
    {
     "name": "stdout",
     "output_type": "stream",
     "text": [
      "contest_18045 end\n",
      "contest_3641 begin\n"
     ]
    },
    {
     "data": {
      "application/vnd.jupyter.widget-view+json": {
       "model_id": "b906a26af32a46328f284a37c0342399",
       "version_major": 2,
       "version_minor": 0
      },
      "text/plain": [
       "chain 1 |          | 00:00 Status"
      ]
     },
     "metadata": {},
     "output_type": "display_data"
    },
    {
     "data": {
      "application/vnd.jupyter.widget-view+json": {
       "model_id": "c3d42890f59b48199439068db0675756",
       "version_major": 2,
       "version_minor": 0
      },
      "text/plain": [
       "chain 2 |          | 00:00 Status"
      ]
     },
     "metadata": {},
     "output_type": "display_data"
    },
    {
     "data": {
      "application/vnd.jupyter.widget-view+json": {
       "model_id": "af8344ca509549a1b0826040ee2d76d0",
       "version_major": 2,
       "version_minor": 0
      },
      "text/plain": [
       "chain 3 |          | 00:00 Status"
      ]
     },
     "metadata": {},
     "output_type": "display_data"
    },
    {
     "data": {
      "application/vnd.jupyter.widget-view+json": {
       "model_id": "64f1d7a298194957888a4e0a0aaae956",
       "version_major": 2,
       "version_minor": 0
      },
      "text/plain": [
       "chain 4 |          | 00:00 Status"
      ]
     },
     "metadata": {},
     "output_type": "display_data"
    },
    {
     "name": "stdout",
     "output_type": "stream",
     "text": [
      "                                                                                                                                                                                                                                                                                                                                "
     ]
    },
    {
     "name": "stderr",
     "output_type": "stream",
     "text": [
      "04:54:04 - cmdstanpy - INFO - CmdStan done processing.\n",
      "04:54:04 - cmdstanpy - WARNING - Non-fatal error during sampling:\n",
      "Exception: Exception: normal_lpdf: Random variable is nan, but must be not nan! (in 'real_data.stan', line 81, column 2 to column 53) (in 'real_data.stan', line 175, column 2 to line 180, column 4)\n",
      "\tException: Exception: normal_lpdf: Random variable is nan, but must be not nan! (in 'real_data.stan', line 81, column 2 to column 53) (in 'real_data.stan', line 175, column 2 to line 180, column 4)\n",
      "\tException: Exception: normal_lpdf: Random variable is nan, but must be not nan! (in 'real_data.stan', line 81, column 2 to column 53) (in 'real_data.stan', line 175, column 2 to line 180, column 4)\n",
      "\tException: Exception: normal_lpdf: Random variable is nan, but must be not nan! (in 'real_data.stan', line 81, column 2 to column 53) (in 'real_data.stan', line 175, column 2 to line 180, column 4)\n",
      "Exception: Exception: normal_lpdf: Random variable is nan, but must be not nan! (in 'real_data.stan', line 81, column 2 to column 53) (in 'real_data.stan', line 175, column 2 to line 180, column 4)\n",
      "\tException: Exception: normal_lpdf: Random variable is nan, but must be not nan! (in 'real_data.stan', line 81, column 2 to column 53) (in 'real_data.stan', line 175, column 2 to line 180, column 4)\n",
      "Exception: Exception: normal_lpdf: Random variable is nan, but must be not nan! (in 'real_data.stan', line 81, column 2 to column 53) (in 'real_data.stan', line 175, column 2 to line 180, column 4)\n",
      "\tException: Exception: normal_lpdf: Random variable is nan, but must be not nan! (in 'real_data.stan', line 81, column 2 to column 53) (in 'real_data.stan', line 175, column 2 to line 180, column 4)\n",
      "\tException: Exception: normal_lpdf: Random variable is nan, but must be not nan! (in 'real_data.stan', line 81, column 2 to column 53) (in 'real_data.stan', line 175, column 2 to line 180, column 4)\n",
      "\tException: Exception: normal_lpdf: Random variable is nan, but must be not nan! (in 'real_data.stan', line 81, column 2 to column 53) (in 'real_data.stan', line 175, column 2 to line 180, column 4)\n",
      "Exception: Exception: normal_lpdf: Random variable is nan, but must be not nan! (in 'real_data.stan', line 81, column 2 to column 53) (in 'real_data.stan', line 175, column 2 to line 180, column 4)\n",
      "\tException: Exception: normal_lpdf: Random variable is nan, but must be not nan! (in 'real_data.stan', line 81, column 2 to column 53) (in 'real_data.stan', line 175, column 2 to line 180, column 4)\n",
      "\tException: Exception: normal_lpdf: Random variable is nan, but must be not nan! (in 'real_data.stan', line 81, column 2 to column 53) (in 'real_data.stan', line 175, column 2 to line 180, column 4)\n",
      "\tException: Exception: normal_lpdf: Random variable is nan, but must be not nan! (in 'real_data.stan', line 81, column 2 to column 53) (in 'real_data.stan', line 175, column 2 to line 180, column 4)\n",
      "Consider re-running with show_console=True if the above output is unclear!\n"
     ]
    },
    {
     "name": "stdout",
     "output_type": "stream",
     "text": [
      "\n"
     ]
    },
    {
     "name": "stderr",
     "output_type": "stream",
     "text": [
      "04:54:07 - cmdstanpy - WARNING - Some chains may have failed to converge.\n",
      "\tChain 1 had 4 divergent transitions (0.2%)\n",
      "\tChain 2 had 2 divergent transitions (0.1%)\n",
      "\tChain 4 had 7 divergent transitions (0.4%)\n",
      "\tUse the \"diagnose()\" method on the CmdStanMCMC object to see further information.\n",
      "04:54:17 - cmdstanpy - INFO - CmdStan start processing\n"
     ]
    },
    {
     "name": "stdout",
     "output_type": "stream",
     "text": [
      "contest_3641 end\n",
      "contest_38128 begin\n"
     ]
    },
    {
     "data": {
      "application/vnd.jupyter.widget-view+json": {
       "model_id": "42c3acaedb7841598aa94fbc58526d6d",
       "version_major": 2,
       "version_minor": 0
      },
      "text/plain": [
       "chain 1 |          | 00:00 Status"
      ]
     },
     "metadata": {},
     "output_type": "display_data"
    },
    {
     "data": {
      "application/vnd.jupyter.widget-view+json": {
       "model_id": "e368b884121340b8a0658f7fbceac312",
       "version_major": 2,
       "version_minor": 0
      },
      "text/plain": [
       "chain 2 |          | 00:00 Status"
      ]
     },
     "metadata": {},
     "output_type": "display_data"
    },
    {
     "data": {
      "application/vnd.jupyter.widget-view+json": {
       "model_id": "5a4ae82774a14056a940bb90d0b6d4e6",
       "version_major": 2,
       "version_minor": 0
      },
      "text/plain": [
       "chain 3 |          | 00:00 Status"
      ]
     },
     "metadata": {},
     "output_type": "display_data"
    },
    {
     "data": {
      "application/vnd.jupyter.widget-view+json": {
       "model_id": "da0320913ef74d169317a2cba5e77ec3",
       "version_major": 2,
       "version_minor": 0
      },
      "text/plain": [
       "chain 4 |          | 00:00 Status"
      ]
     },
     "metadata": {},
     "output_type": "display_data"
    },
    {
     "name": "stdout",
     "output_type": "stream",
     "text": [
      "                                                                                                                                                                                                                                                                                                                                "
     ]
    },
    {
     "name": "stderr",
     "output_type": "stream",
     "text": [
      "04:56:45 - cmdstanpy - INFO - CmdStan done processing.\n",
      "04:56:45 - cmdstanpy - WARNING - Non-fatal error during sampling:\n",
      "Exception: Exception: normal_lpdf: Random variable is nan, but must be not nan! (in 'real_data.stan', line 81, column 2 to column 53) (in 'real_data.stan', line 175, column 2 to line 180, column 4)\n",
      "\tException: Exception: normal_lpdf: Random variable is nan, but must be not nan! (in 'real_data.stan', line 81, column 2 to column 53) (in 'real_data.stan', line 175, column 2 to line 180, column 4)\n",
      "\tException: Exception: normal_lpdf: Random variable is nan, but must be not nan! (in 'real_data.stan', line 81, column 2 to column 53) (in 'real_data.stan', line 175, column 2 to line 180, column 4)\n",
      "\tException: Exception: normal_lpdf: Random variable is nan, but must be not nan! (in 'real_data.stan', line 81, column 2 to column 53) (in 'real_data.stan', line 175, column 2 to line 180, column 4)\n",
      "\tException: Exception: normal_lpdf: Random variable is nan, but must be not nan! (in 'real_data.stan', line 81, column 2 to column 53) (in 'real_data.stan', line 175, column 2 to line 180, column 4)\n",
      "Exception: Exception: normal_lpdf: Random variable is nan, but must be not nan! (in 'real_data.stan', line 81, column 2 to column 53) (in 'real_data.stan', line 175, column 2 to line 180, column 4)\n",
      "\tException: Exception: normal_lpdf: Random variable is nan, but must be not nan! (in 'real_data.stan', line 81, column 2 to column 53) (in 'real_data.stan', line 175, column 2 to line 180, column 4)\n",
      "\tException: Exception: normal_lpdf: Random variable is nan, but must be not nan! (in 'real_data.stan', line 81, column 2 to column 53) (in 'real_data.stan', line 175, column 2 to line 180, column 4)\n",
      "\tException: Exception: normal_lpdf: Random variable is nan, but must be not nan! (in 'real_data.stan', line 81, column 2 to column 53) (in 'real_data.stan', line 175, column 2 to line 180, column 4)\n",
      "\tException: Exception: normal_lpdf: Random variable is nan, but must be not nan! (in 'real_data.stan', line 81, column 2 to column 53) (in 'real_data.stan', line 175, column 2 to line 180, column 4)\n",
      "Exception: Exception: normal_lpdf: Random variable is nan, but must be not nan! (in 'real_data.stan', line 81, column 2 to column 53) (in 'real_data.stan', line 175, column 2 to line 180, column 4)\n",
      "\tException: Exception: normal_lpdf: Random variable is nan, but must be not nan! (in 'real_data.stan', line 81, column 2 to column 53) (in 'real_data.stan', line 175, column 2 to line 180, column 4)\n",
      "\tException: Exception: normal_lpdf: Random variable is nan, but must be not nan! (in 'real_data.stan', line 81, column 2 to column 53) (in 'real_data.stan', line 175, column 2 to line 180, column 4)\n",
      "\tException: Exception: normal_lpdf: Random variable is nan, but must be not nan! (in 'real_data.stan', line 81, column 2 to column 53) (in 'real_data.stan', line 175, column 2 to line 180, column 4)\n",
      "\tException: Exception: normal_lpdf: Random variable is nan, but must be not nan! (in 'real_data.stan', line 81, column 2 to column 53) (in 'real_data.stan', line 175, column 2 to line 180, column 4)\n",
      "\tException: Exception: normal_lpdf: Random variable is nan, but must be not nan! (in 'real_data.stan', line 81, column 2 to column 53) (in 'real_data.stan', line 175, column 2 to line 180, column 4)\n",
      "\tException: Exception: normal_lpdf: Random variable is nan, but must be not nan! (in 'real_data.stan', line 81, column 2 to column 53) (in 'real_data.stan', line 175, column 2 to line 180, column 4)\n",
      "Exception: Exception: normal_lpdf: Random variable is nan, but must be not nan! (in 'real_data.stan', line 81, column 2 to column 53) (in 'real_data.stan', line 175, column 2 to line 180, column 4)\n",
      "\tException: Exception: normal_lpdf: Random variable is nan, but must be not nan! (in 'real_data.stan', line 81, column 2 to column 53) (in 'real_data.stan', line 175, column 2 to line 180, column 4)\n",
      "\tException: Exception: normal_lpdf: Random variable is nan, but must be not nan! (in 'real_data.stan', line 81, column 2 to column 53) (in 'real_data.stan', line 175, column 2 to line 180, column 4)\n",
      "\tException: Exception: normal_lpdf: Random variable is nan, but must be not nan! (in 'real_data.stan', line 81, column 2 to column 53) (in 'real_data.stan', line 175, column 2 to line 180, column 4)\n",
      "\tException: Exception: normal_lpdf: Random variable is nan, but must be not nan! (in 'real_data.stan', line 81, column 2 to column 53) (in 'real_data.stan', line 175, column 2 to line 180, column 4)\n",
      "\tException: Exception: normal_lpdf: Random variable is nan, but must be not nan! (in 'real_data.stan', line 81, column 2 to column 53) (in 'real_data.stan', line 175, column 2 to line 180, column 4)\n",
      "\tException: Exception: normal_lpdf: Random variable is nan, but must be not nan! (in 'real_data.stan', line 81, column 2 to column 53) (in 'real_data.stan', line 175, column 2 to line 180, column 4)\n",
      "Consider re-running with show_console=True if the above output is unclear!\n"
     ]
    },
    {
     "name": "stdout",
     "output_type": "stream",
     "text": [
      "\n"
     ]
    },
    {
     "name": "stderr",
     "output_type": "stream",
     "text": [
      "04:56:48 - cmdstanpy - WARNING - Some chains may have failed to converge.\n",
      "\tChain 1 had 13 divergent transitions (0.7%)\n",
      "\tChain 2 had 13 divergent transitions (0.7%)\n",
      "\tChain 3 had 47 divergent transitions (2.4%)\n",
      "\tChain 4 had 13 divergent transitions (0.7%)\n",
      "\tUse the \"diagnose()\" method on the CmdStanMCMC object to see further information.\n",
      "04:57:00 - cmdstanpy - INFO - CmdStan start processing\n"
     ]
    },
    {
     "name": "stdout",
     "output_type": "stream",
     "text": [
      "contest_38128 end\n",
      "contest_2551 begin\n"
     ]
    },
    {
     "data": {
      "application/vnd.jupyter.widget-view+json": {
       "model_id": "983776ab433e4b908059bb15468f6999",
       "version_major": 2,
       "version_minor": 0
      },
      "text/plain": [
       "chain 1 |          | 00:00 Status"
      ]
     },
     "metadata": {},
     "output_type": "display_data"
    },
    {
     "data": {
      "application/vnd.jupyter.widget-view+json": {
       "model_id": "5d53b7d4ca6a4476be5599a80d8f8b18",
       "version_major": 2,
       "version_minor": 0
      },
      "text/plain": [
       "chain 2 |          | 00:00 Status"
      ]
     },
     "metadata": {},
     "output_type": "display_data"
    },
    {
     "data": {
      "application/vnd.jupyter.widget-view+json": {
       "model_id": "abea23d7faa7441f87021345254e920d",
       "version_major": 2,
       "version_minor": 0
      },
      "text/plain": [
       "chain 3 |          | 00:00 Status"
      ]
     },
     "metadata": {},
     "output_type": "display_data"
    },
    {
     "data": {
      "application/vnd.jupyter.widget-view+json": {
       "model_id": "66a2cedb08d946e38cd26c1724d6a841",
       "version_major": 2,
       "version_minor": 0
      },
      "text/plain": [
       "chain 4 |          | 00:00 Status"
      ]
     },
     "metadata": {},
     "output_type": "display_data"
    },
    {
     "name": "stdout",
     "output_type": "stream",
     "text": [
      "                                                                                                                                                                                                                                                                                                                                "
     ]
    },
    {
     "name": "stderr",
     "output_type": "stream",
     "text": [
      "04:58:18 - cmdstanpy - INFO - CmdStan done processing.\n",
      "04:58:18 - cmdstanpy - WARNING - Non-fatal error during sampling:\n",
      "Exception: Exception: normal_lpdf: Random variable is nan, but must be not nan! (in 'real_data.stan', line 81, column 2 to column 53) (in 'real_data.stan', line 175, column 2 to line 180, column 4)\n",
      "\tException: Exception: normal_lpdf: Random variable is nan, but must be not nan! (in 'real_data.stan', line 81, column 2 to column 53) (in 'real_data.stan', line 175, column 2 to line 180, column 4)\n",
      "\tException: Exception: normal_lpdf: Random variable is nan, but must be not nan! (in 'real_data.stan', line 81, column 2 to column 53) (in 'real_data.stan', line 175, column 2 to line 180, column 4)\n",
      "\tException: Exception: normal_lpdf: Random variable is nan, but must be not nan! (in 'real_data.stan', line 81, column 2 to column 53) (in 'real_data.stan', line 175, column 2 to line 180, column 4)\n",
      "Exception: Exception: normal_lpdf: Random variable is nan, but must be not nan! (in 'real_data.stan', line 81, column 2 to column 53) (in 'real_data.stan', line 175, column 2 to line 180, column 4)\n",
      "\tException: Exception: normal_lpdf: Random variable is nan, but must be not nan! (in 'real_data.stan', line 81, column 2 to column 53) (in 'real_data.stan', line 175, column 2 to line 180, column 4)\n",
      "Exception: Exception: normal_lpdf: Random variable is nan, but must be not nan! (in 'real_data.stan', line 81, column 2 to column 53) (in 'real_data.stan', line 175, column 2 to line 180, column 4)\n",
      "\tException: Exception: normal_lpdf: Random variable is nan, but must be not nan! (in 'real_data.stan', line 81, column 2 to column 53) (in 'real_data.stan', line 175, column 2 to line 180, column 4)\n",
      "\tException: Exception: normal_lpdf: Random variable is nan, but must be not nan! (in 'real_data.stan', line 81, column 2 to column 53) (in 'real_data.stan', line 175, column 2 to line 180, column 4)\n",
      "\tException: Exception: normal_lpdf: Random variable is nan, but must be not nan! (in 'real_data.stan', line 81, column 2 to column 53) (in 'real_data.stan', line 175, column 2 to line 180, column 4)\n",
      "\tException: Exception: normal_lpdf: Random variable is nan, but must be not nan! (in 'real_data.stan', line 81, column 2 to column 53) (in 'real_data.stan', line 175, column 2 to line 180, column 4)\n",
      "Exception: Exception: normal_lpdf: Random variable is nan, but must be not nan! (in 'real_data.stan', line 81, column 2 to column 53) (in 'real_data.stan', line 175, column 2 to line 180, column 4)\n",
      "\tException: Exception: normal_lpdf: Random variable is nan, but must be not nan! (in 'real_data.stan', line 81, column 2 to column 53) (in 'real_data.stan', line 175, column 2 to line 180, column 4)\n",
      "\tException: Exception: normal_lpdf: Random variable is nan, but must be not nan! (in 'real_data.stan', line 81, column 2 to column 53) (in 'real_data.stan', line 175, column 2 to line 180, column 4)\n",
      "\tException: Exception: normal_lpdf: Random variable is nan, but must be not nan! (in 'real_data.stan', line 81, column 2 to column 53) (in 'real_data.stan', line 175, column 2 to line 180, column 4)\n",
      "Consider re-running with show_console=True if the above output is unclear!\n"
     ]
    },
    {
     "name": "stdout",
     "output_type": "stream",
     "text": [
      "\n"
     ]
    },
    {
     "name": "stderr",
     "output_type": "stream",
     "text": [
      "04:58:21 - cmdstanpy - WARNING - Some chains may have failed to converge.\n",
      "\tChain 1 had 12 divergent transitions (0.6%)\n",
      "\tChain 2 had 18 divergent transitions (0.9%)\n",
      "\tChain 3 had 11 divergent transitions (0.5%)\n",
      "\tChain 4 had 10 divergent transitions (0.5%)\n",
      "\tUse the \"diagnose()\" method on the CmdStanMCMC object to see further information.\n",
      "04:58:34 - cmdstanpy - INFO - CmdStan start processing\n"
     ]
    },
    {
     "name": "stdout",
     "output_type": "stream",
     "text": [
      "contest_2551 end\n",
      "contest_37077 begin\n"
     ]
    },
    {
     "data": {
      "application/vnd.jupyter.widget-view+json": {
       "model_id": "0afafae6c78d4c4995faa47be0e6f690",
       "version_major": 2,
       "version_minor": 0
      },
      "text/plain": [
       "chain 1 |          | 00:00 Status"
      ]
     },
     "metadata": {},
     "output_type": "display_data"
    },
    {
     "data": {
      "application/vnd.jupyter.widget-view+json": {
       "model_id": "70e7e56860504d1fbe7ff5a93085141d",
       "version_major": 2,
       "version_minor": 0
      },
      "text/plain": [
       "chain 2 |          | 00:00 Status"
      ]
     },
     "metadata": {},
     "output_type": "display_data"
    },
    {
     "data": {
      "application/vnd.jupyter.widget-view+json": {
       "model_id": "8b7ca548450745ca961b21fa419bcf1a",
       "version_major": 2,
       "version_minor": 0
      },
      "text/plain": [
       "chain 3 |          | 00:00 Status"
      ]
     },
     "metadata": {},
     "output_type": "display_data"
    },
    {
     "data": {
      "application/vnd.jupyter.widget-view+json": {
       "model_id": "8a119100113f4087a10e56244f24ec85",
       "version_major": 2,
       "version_minor": 0
      },
      "text/plain": [
       "chain 4 |          | 00:00 Status"
      ]
     },
     "metadata": {},
     "output_type": "display_data"
    },
    {
     "name": "stdout",
     "output_type": "stream",
     "text": [
      "                                                                                                                                                                                                                                                                                                                                "
     ]
    },
    {
     "name": "stderr",
     "output_type": "stream",
     "text": [
      "04:59:30 - cmdstanpy - INFO - CmdStan done processing.\n",
      "04:59:30 - cmdstanpy - WARNING - Non-fatal error during sampling:\n",
      "Exception: Exception: normal_lpdf: Random variable is nan, but must be not nan! (in 'real_data.stan', line 81, column 2 to column 53) (in 'real_data.stan', line 175, column 2 to line 180, column 4)\n",
      "\tException: Exception: normal_lpdf: Random variable is nan, but must be not nan! (in 'real_data.stan', line 81, column 2 to column 53) (in 'real_data.stan', line 175, column 2 to line 180, column 4)\n",
      "\tException: Exception: normal_lpdf: Random variable is nan, but must be not nan! (in 'real_data.stan', line 81, column 2 to column 53) (in 'real_data.stan', line 175, column 2 to line 180, column 4)\n",
      "\tException: Exception: normal_lpdf: Random variable is nan, but must be not nan! (in 'real_data.stan', line 81, column 2 to column 53) (in 'real_data.stan', line 175, column 2 to line 180, column 4)\n",
      "Exception: Exception: normal_lpdf: Random variable is nan, but must be not nan! (in 'real_data.stan', line 81, column 2 to column 53) (in 'real_data.stan', line 175, column 2 to line 180, column 4)\n",
      "Exception: Exception: normal_lpdf: Random variable is nan, but must be not nan! (in 'real_data.stan', line 81, column 2 to column 53) (in 'real_data.stan', line 175, column 2 to line 180, column 4)\n",
      "\tException: Exception: normal_lpdf: Random variable is nan, but must be not nan! (in 'real_data.stan', line 81, column 2 to column 53) (in 'real_data.stan', line 175, column 2 to line 180, column 4)\n",
      "\tException: Exception: normal_lpdf: Random variable is nan, but must be not nan! (in 'real_data.stan', line 81, column 2 to column 53) (in 'real_data.stan', line 175, column 2 to line 180, column 4)\n",
      "\tException: Exception: normal_lpdf: Random variable is nan, but must be not nan! (in 'real_data.stan', line 81, column 2 to column 53) (in 'real_data.stan', line 175, column 2 to line 180, column 4)\n",
      "Exception: Exception: normal_lpdf: Random variable is nan, but must be not nan! (in 'real_data.stan', line 81, column 2 to column 53) (in 'real_data.stan', line 175, column 2 to line 180, column 4)\n",
      "\tException: Exception: normal_lpdf: Random variable is nan, but must be not nan! (in 'real_data.stan', line 81, column 2 to column 53) (in 'real_data.stan', line 175, column 2 to line 180, column 4)\n",
      "\tException: Exception: normal_lpdf: Random variable is nan, but must be not nan! (in 'real_data.stan', line 81, column 2 to column 53) (in 'real_data.stan', line 175, column 2 to line 180, column 4)\n",
      "\tException: Exception: normal_lpdf: Random variable is nan, but must be not nan! (in 'real_data.stan', line 81, column 2 to column 53) (in 'real_data.stan', line 175, column 2 to line 180, column 4)\n",
      "Consider re-running with show_console=True if the above output is unclear!\n"
     ]
    },
    {
     "name": "stdout",
     "output_type": "stream",
     "text": [
      "\n"
     ]
    },
    {
     "name": "stderr",
     "output_type": "stream",
     "text": [
      "04:59:33 - cmdstanpy - WARNING - Some chains may have failed to converge.\n",
      "\tChain 1 had 1 divergent transitions (0.1%)\n",
      "\tChain 2 had 4 divergent transitions (0.2%)\n",
      "\tUse the \"diagnose()\" method on the CmdStanMCMC object to see further information.\n",
      "04:59:42 - cmdstanpy - INFO - CmdStan start processing\n"
     ]
    },
    {
     "name": "stdout",
     "output_type": "stream",
     "text": [
      "contest_37077 end\n",
      "contest_4657 begin\n"
     ]
    },
    {
     "data": {
      "application/vnd.jupyter.widget-view+json": {
       "model_id": "b119fe9444124b6994b3422396ff83f0",
       "version_major": 2,
       "version_minor": 0
      },
      "text/plain": [
       "chain 1 |          | 00:00 Status"
      ]
     },
     "metadata": {},
     "output_type": "display_data"
    },
    {
     "data": {
      "application/vnd.jupyter.widget-view+json": {
       "model_id": "e068ae6f5b494a6491c9bc0e50c73607",
       "version_major": 2,
       "version_minor": 0
      },
      "text/plain": [
       "chain 2 |          | 00:00 Status"
      ]
     },
     "metadata": {},
     "output_type": "display_data"
    },
    {
     "data": {
      "application/vnd.jupyter.widget-view+json": {
       "model_id": "8c145628732042b89e8f6134f3957179",
       "version_major": 2,
       "version_minor": 0
      },
      "text/plain": [
       "chain 3 |          | 00:00 Status"
      ]
     },
     "metadata": {},
     "output_type": "display_data"
    },
    {
     "data": {
      "application/vnd.jupyter.widget-view+json": {
       "model_id": "f40c5f90ef2a46ffbd5f8688fee68069",
       "version_major": 2,
       "version_minor": 0
      },
      "text/plain": [
       "chain 4 |          | 00:00 Status"
      ]
     },
     "metadata": {},
     "output_type": "display_data"
    },
    {
     "name": "stdout",
     "output_type": "stream",
     "text": [
      "                                                                                                                                                                                                                                                                                                                                "
     ]
    },
    {
     "name": "stderr",
     "output_type": "stream",
     "text": [
      "06:25:14 - cmdstanpy - INFO - CmdStan done processing.\n",
      "06:25:14 - cmdstanpy - WARNING - Non-fatal error during sampling:\n",
      "Exception: Exception: normal_lpdf: Random variable is nan, but must be not nan! (in 'real_data.stan', line 81, column 2 to column 53) (in 'real_data.stan', line 175, column 2 to line 180, column 4)\n",
      "\tException: Exception: normal_lpdf: Random variable is nan, but must be not nan! (in 'real_data.stan', line 81, column 2 to column 53) (in 'real_data.stan', line 175, column 2 to line 180, column 4)\n",
      "\tException: Exception: normal_lpdf: Random variable is nan, but must be not nan! (in 'real_data.stan', line 81, column 2 to column 53) (in 'real_data.stan', line 175, column 2 to line 180, column 4)\n",
      "\tException: Exception: normal_lpdf: Random variable is nan, but must be not nan! (in 'real_data.stan', line 81, column 2 to column 53) (in 'real_data.stan', line 175, column 2 to line 180, column 4)\n",
      "\tException: Exception: normal_lpdf: Random variable is nan, but must be not nan! (in 'real_data.stan', line 81, column 2 to column 53) (in 'real_data.stan', line 175, column 2 to line 180, column 4)\n",
      "Exception: Exception: normal_lpdf: Random variable is nan, but must be not nan! (in 'real_data.stan', line 81, column 2 to column 53) (in 'real_data.stan', line 175, column 2 to line 180, column 4)\n",
      "\tException: Exception: normal_lpdf: Random variable is nan, but must be not nan! (in 'real_data.stan', line 81, column 2 to column 53) (in 'real_data.stan', line 175, column 2 to line 180, column 4)\n",
      "\tException: Exception: normal_lpdf: Random variable is nan, but must be not nan! (in 'real_data.stan', line 81, column 2 to column 53) (in 'real_data.stan', line 175, column 2 to line 180, column 4)\n",
      "\tException: Exception: normal_lpdf: Random variable is nan, but must be not nan! (in 'real_data.stan', line 81, column 2 to column 53) (in 'real_data.stan', line 175, column 2 to line 180, column 4)\n",
      "Exception: Exception: normal_lpdf: Random variable is nan, but must be not nan! (in 'real_data.stan', line 81, column 2 to column 53) (in 'real_data.stan', line 175, column 2 to line 180, column 4)\n",
      "\tException: Exception: normal_lpdf: Random variable is nan, but must be not nan! (in 'real_data.stan', line 81, column 2 to column 53) (in 'real_data.stan', line 175, column 2 to line 180, column 4)\n",
      "\tException: Exception: normal_lpdf: Random variable is nan, but must be not nan! (in 'real_data.stan', line 81, column 2 to column 53) (in 'real_data.stan', line 175, column 2 to line 180, column 4)\n",
      "\tException: Exception: normal_lpdf: Random variable is nan, but must be not nan! (in 'real_data.stan', line 81, column 2 to column 53) (in 'real_data.stan', line 175, column 2 to line 180, column 4)\n",
      "\tException: Exception: normal_lpdf: Random variable is nan, but must be not nan! (in 'real_data.stan', line 81, column 2 to column 53) (in 'real_data.stan', line 175, column 2 to line 180, column 4)\n",
      "Exception: Exception: normal_lpdf: Random variable is nan, but must be not nan! (in 'real_data.stan', line 81, column 2 to column 53) (in 'real_data.stan', line 175, column 2 to line 180, column 4)\n",
      "\tException: Exception: normal_lpdf: Random variable is nan, but must be not nan! (in 'real_data.stan', line 81, column 2 to column 53) (in 'real_data.stan', line 175, column 2 to line 180, column 4)\n",
      "\tException: Exception: normal_lpdf: Random variable is nan, but must be not nan! (in 'real_data.stan', line 81, column 2 to column 53) (in 'real_data.stan', line 175, column 2 to line 180, column 4)\n",
      "\tException: Exception: normal_lpdf: Random variable is nan, but must be not nan! (in 'real_data.stan', line 81, column 2 to column 53) (in 'real_data.stan', line 175, column 2 to line 180, column 4)\n",
      "Consider re-running with show_console=True if the above output is unclear!\n"
     ]
    },
    {
     "name": "stdout",
     "output_type": "stream",
     "text": [
      "\n"
     ]
    },
    {
     "name": "stderr",
     "output_type": "stream",
     "text": [
      "06:25:19 - cmdstanpy - WARNING - Some chains may have failed to converge.\n",
      "\tChain 1 had 15 divergent transitions (0.8%)\n",
      "\tChain 1 had 1726 iterations at max treedepth (86.3%)\n",
      "\tChain 2 had 80 divergent transitions (4.0%)\n",
      "\tChain 2 had 9 iterations at max treedepth (0.4%)\n",
      "\tChain 3 had 75 divergent transitions (3.8%)\n",
      "\tChain 4 had 70 divergent transitions (3.5%)\n",
      "\tUse the \"diagnose()\" method on the CmdStanMCMC object to see further information.\n",
      "06:25:39 - cmdstanpy - INFO - CmdStan start processing\n"
     ]
    },
    {
     "name": "stdout",
     "output_type": "stream",
     "text": [
      "contest_4657 end\n",
      "contest_37190 begin\n"
     ]
    },
    {
     "data": {
      "application/vnd.jupyter.widget-view+json": {
       "model_id": "3315f7e093514e81ae29ca510691ddbe",
       "version_major": 2,
       "version_minor": 0
      },
      "text/plain": [
       "chain 1 |          | 00:00 Status"
      ]
     },
     "metadata": {},
     "output_type": "display_data"
    },
    {
     "data": {
      "application/vnd.jupyter.widget-view+json": {
       "model_id": "60f866a96da2457bbe83716c58cd2ee6",
       "version_major": 2,
       "version_minor": 0
      },
      "text/plain": [
       "chain 2 |          | 00:00 Status"
      ]
     },
     "metadata": {},
     "output_type": "display_data"
    },
    {
     "data": {
      "application/vnd.jupyter.widget-view+json": {
       "model_id": "0ae467f8239448de8707753e79d1fab2",
       "version_major": 2,
       "version_minor": 0
      },
      "text/plain": [
       "chain 3 |          | 00:00 Status"
      ]
     },
     "metadata": {},
     "output_type": "display_data"
    },
    {
     "data": {
      "application/vnd.jupyter.widget-view+json": {
       "model_id": "5e0ad6d0f7064cd69c6e69132104c39e",
       "version_major": 2,
       "version_minor": 0
      },
      "text/plain": [
       "chain 4 |          | 00:00 Status"
      ]
     },
     "metadata": {},
     "output_type": "display_data"
    },
    {
     "name": "stdout",
     "output_type": "stream",
     "text": [
      "                                                                                                                                                                                                                                                                                                                                "
     ]
    },
    {
     "name": "stderr",
     "output_type": "stream",
     "text": [
      "06:27:24 - cmdstanpy - INFO - CmdStan done processing.\n",
      "06:27:24 - cmdstanpy - WARNING - Non-fatal error during sampling:\n",
      "Exception: Exception: normal_lpdf: Random variable is nan, but must be not nan! (in 'real_data.stan', line 81, column 2 to column 53) (in 'real_data.stan', line 175, column 2 to line 180, column 4)\n",
      "\tException: Exception: normal_lpdf: Random variable is nan, but must be not nan! (in 'real_data.stan', line 81, column 2 to column 53) (in 'real_data.stan', line 175, column 2 to line 180, column 4)\n",
      "\tException: Exception: normal_lpdf: Random variable is nan, but must be not nan! (in 'real_data.stan', line 81, column 2 to column 53) (in 'real_data.stan', line 175, column 2 to line 180, column 4)\n",
      "\tException: Exception: normal_lpdf: Random variable is nan, but must be not nan! (in 'real_data.stan', line 81, column 2 to column 53) (in 'real_data.stan', line 175, column 2 to line 180, column 4)\n",
      "\tException: Exception: normal_lpdf: Random variable is nan, but must be not nan! (in 'real_data.stan', line 81, column 2 to column 53) (in 'real_data.stan', line 175, column 2 to line 180, column 4)\n",
      "\tException: Exception: normal_lpdf: Random variable is nan, but must be not nan! (in 'real_data.stan', line 81, column 2 to column 53) (in 'real_data.stan', line 175, column 2 to line 180, column 4)\n",
      "Exception: Exception: normal_lpdf: Random variable is nan, but must be not nan! (in 'real_data.stan', line 81, column 2 to column 53) (in 'real_data.stan', line 175, column 2 to line 180, column 4)\n",
      "\tException: Exception: normal_lpdf: Random variable is nan, but must be not nan! (in 'real_data.stan', line 81, column 2 to column 53) (in 'real_data.stan', line 175, column 2 to line 180, column 4)\n",
      "\tException: Exception: normal_lpdf: Random variable is nan, but must be not nan! (in 'real_data.stan', line 81, column 2 to column 53) (in 'real_data.stan', line 175, column 2 to line 180, column 4)\n",
      "\tException: Exception: normal_lpdf: Random variable is nan, but must be not nan! (in 'real_data.stan', line 81, column 2 to column 53) (in 'real_data.stan', line 175, column 2 to line 180, column 4)\n",
      "Exception: Exception: normal_lpdf: Random variable is nan, but must be not nan! (in 'real_data.stan', line 81, column 2 to column 53) (in 'real_data.stan', line 175, column 2 to line 180, column 4)\n",
      "\tException: Exception: normal_lpdf: Random variable is nan, but must be not nan! (in 'real_data.stan', line 81, column 2 to column 53) (in 'real_data.stan', line 175, column 2 to line 180, column 4)\n",
      "\tException: Exception: normal_lpdf: Random variable is nan, but must be not nan! (in 'real_data.stan', line 81, column 2 to column 53) (in 'real_data.stan', line 175, column 2 to line 180, column 4)\n",
      "\tException: Exception: normal_lpdf: Random variable is nan, but must be not nan! (in 'real_data.stan', line 81, column 2 to column 53) (in 'real_data.stan', line 175, column 2 to line 180, column 4)\n",
      "\tException: Exception: normal_lpdf: Random variable is nan, but must be not nan! (in 'real_data.stan', line 81, column 2 to column 53) (in 'real_data.stan', line 175, column 2 to line 180, column 4)\n",
      "Exception: Exception: normal_lpdf: Random variable is nan, but must be not nan! (in 'real_data.stan', line 81, column 2 to column 53) (in 'real_data.stan', line 175, column 2 to line 180, column 4)\n",
      "\tException: Exception: normal_lpdf: Random variable is nan, but must be not nan! (in 'real_data.stan', line 81, column 2 to column 53) (in 'real_data.stan', line 175, column 2 to line 180, column 4)\n",
      "\tException: Exception: normal_lpdf: Random variable is nan, but must be not nan! (in 'real_data.stan', line 81, column 2 to column 53) (in 'real_data.stan', line 175, column 2 to line 180, column 4)\n",
      "Consider re-running with show_console=True if the above output is unclear!\n"
     ]
    },
    {
     "name": "stdout",
     "output_type": "stream",
     "text": [
      "\n"
     ]
    },
    {
     "name": "stderr",
     "output_type": "stream",
     "text": [
      "06:27:28 - cmdstanpy - WARNING - Some chains may have failed to converge.\n",
      "\tChain 3 had 1 divergent transitions (0.1%)\n",
      "\tChain 4 had 1 divergent transitions (0.1%)\n",
      "\tUse the \"diagnose()\" method on the CmdStanMCMC object to see further information.\n",
      "06:27:44 - cmdstanpy - INFO - CmdStan start processing\n"
     ]
    },
    {
     "name": "stdout",
     "output_type": "stream",
     "text": [
      "contest_37190 end\n",
      "contest_14242 begin\n"
     ]
    },
    {
     "data": {
      "application/vnd.jupyter.widget-view+json": {
       "model_id": "25e0de08db4f483184074fee5d359b2b",
       "version_major": 2,
       "version_minor": 0
      },
      "text/plain": [
       "chain 1 |          | 00:00 Status"
      ]
     },
     "metadata": {},
     "output_type": "display_data"
    },
    {
     "data": {
      "application/vnd.jupyter.widget-view+json": {
       "model_id": "0b8dc564cda04a0bad8bc44bf873848f",
       "version_major": 2,
       "version_minor": 0
      },
      "text/plain": [
       "chain 2 |          | 00:00 Status"
      ]
     },
     "metadata": {},
     "output_type": "display_data"
    },
    {
     "data": {
      "application/vnd.jupyter.widget-view+json": {
       "model_id": "4b0281adbc5c42f084f2e75f4027fa93",
       "version_major": 2,
       "version_minor": 0
      },
      "text/plain": [
       "chain 3 |          | 00:00 Status"
      ]
     },
     "metadata": {},
     "output_type": "display_data"
    },
    {
     "data": {
      "application/vnd.jupyter.widget-view+json": {
       "model_id": "5bd356026d2040e98622444a33c395ac",
       "version_major": 2,
       "version_minor": 0
      },
      "text/plain": [
       "chain 4 |          | 00:00 Status"
      ]
     },
     "metadata": {},
     "output_type": "display_data"
    },
    {
     "name": "stdout",
     "output_type": "stream",
     "text": [
      "                                                                                                                                                                                                                                                                                                                                "
     ]
    },
    {
     "name": "stderr",
     "output_type": "stream",
     "text": [
      "06:29:30 - cmdstanpy - INFO - CmdStan done processing.\n",
      "06:29:30 - cmdstanpy - WARNING - Non-fatal error during sampling:\n",
      "Exception: Exception: normal_lpdf: Random variable is nan, but must be not nan! (in 'real_data.stan', line 81, column 2 to column 53) (in 'real_data.stan', line 175, column 2 to line 180, column 4)\n",
      "\tException: Exception: normal_lpdf: Random variable is nan, but must be not nan! (in 'real_data.stan', line 81, column 2 to column 53) (in 'real_data.stan', line 175, column 2 to line 180, column 4)\n",
      "\tException: Exception: normal_lpdf: Random variable is nan, but must be not nan! (in 'real_data.stan', line 81, column 2 to column 53) (in 'real_data.stan', line 175, column 2 to line 180, column 4)\n",
      "\tException: Exception: normal_lpdf: Random variable is nan, but must be not nan! (in 'real_data.stan', line 81, column 2 to column 53) (in 'real_data.stan', line 175, column 2 to line 180, column 4)\n",
      "\tException: Exception: normal_lpdf: Random variable is nan, but must be not nan! (in 'real_data.stan', line 81, column 2 to column 53) (in 'real_data.stan', line 175, column 2 to line 180, column 4)\n",
      "\tException: Exception: normal_lpdf: Random variable is nan, but must be not nan! (in 'real_data.stan', line 81, column 2 to column 53) (in 'real_data.stan', line 175, column 2 to line 180, column 4)\n",
      "Exception: Exception: normal_lpdf: Random variable is nan, but must be not nan! (in 'real_data.stan', line 81, column 2 to column 53) (in 'real_data.stan', line 175, column 2 to line 180, column 4)\n",
      "\tException: Exception: normal_lpdf: Random variable is nan, but must be not nan! (in 'real_data.stan', line 81, column 2 to column 53) (in 'real_data.stan', line 175, column 2 to line 180, column 4)\n",
      "\tException: Exception: normal_lpdf: Random variable is nan, but must be not nan! (in 'real_data.stan', line 81, column 2 to column 53) (in 'real_data.stan', line 175, column 2 to line 180, column 4)\n",
      "\tException: Exception: normal_lpdf: Random variable is nan, but must be not nan! (in 'real_data.stan', line 81, column 2 to column 53) (in 'real_data.stan', line 175, column 2 to line 180, column 4)\n",
      "Exception: Exception: normal_lpdf: Random variable is nan, but must be not nan! (in 'real_data.stan', line 81, column 2 to column 53) (in 'real_data.stan', line 175, column 2 to line 180, column 4)\n",
      "\tException: Exception: normal_lpdf: Random variable is nan, but must be not nan! (in 'real_data.stan', line 81, column 2 to column 53) (in 'real_data.stan', line 175, column 2 to line 180, column 4)\n",
      "\tException: Exception: normal_lpdf: Random variable is nan, but must be not nan! (in 'real_data.stan', line 81, column 2 to column 53) (in 'real_data.stan', line 175, column 2 to line 180, column 4)\n",
      "\tException: Exception: normal_lpdf: Random variable is nan, but must be not nan! (in 'real_data.stan', line 81, column 2 to column 53) (in 'real_data.stan', line 175, column 2 to line 180, column 4)\n",
      "\tException: Exception: normal_lpdf: Random variable is nan, but must be not nan! (in 'real_data.stan', line 81, column 2 to column 53) (in 'real_data.stan', line 175, column 2 to line 180, column 4)\n",
      "Exception: Exception: normal_lpdf: Random variable is nan, but must be not nan! (in 'real_data.stan', line 81, column 2 to column 53) (in 'real_data.stan', line 175, column 2 to line 180, column 4)\n",
      "\tException: Exception: normal_lpdf: Random variable is nan, but must be not nan! (in 'real_data.stan', line 81, column 2 to column 53) (in 'real_data.stan', line 175, column 2 to line 180, column 4)\n",
      "\tException: Exception: normal_lpdf: Random variable is nan, but must be not nan! (in 'real_data.stan', line 81, column 2 to column 53) (in 'real_data.stan', line 175, column 2 to line 180, column 4)\n",
      "\tException: Exception: normal_lpdf: Random variable is nan, but must be not nan! (in 'real_data.stan', line 81, column 2 to column 53) (in 'real_data.stan', line 175, column 2 to line 180, column 4)\n",
      "\tException: Exception: normal_lpdf: Random variable is nan, but must be not nan! (in 'real_data.stan', line 81, column 2 to column 53) (in 'real_data.stan', line 175, column 2 to line 180, column 4)\n",
      "\tException: Exception: normal_lpdf: Random variable is nan, but must be not nan! (in 'real_data.stan', line 81, column 2 to column 53) (in 'real_data.stan', line 175, column 2 to line 180, column 4)\n",
      "Consider re-running with show_console=True if the above output is unclear!\n"
     ]
    },
    {
     "name": "stdout",
     "output_type": "stream",
     "text": [
      "\n"
     ]
    },
    {
     "name": "stderr",
     "output_type": "stream",
     "text": [
      "06:29:34 - cmdstanpy - WARNING - Some chains may have failed to converge.\n",
      "\tChain 1 had 3 divergent transitions (0.1%)\n",
      "\tChain 2 had 6 divergent transitions (0.3%)\n",
      "\tChain 3 had 2 divergent transitions (0.1%)\n",
      "\tChain 4 had 2 divergent transitions (0.1%)\n",
      "\tUse the \"diagnose()\" method on the CmdStanMCMC object to see further information.\n",
      "06:29:49 - cmdstanpy - INFO - CmdStan start processing\n"
     ]
    },
    {
     "name": "stdout",
     "output_type": "stream",
     "text": [
      "contest_14242 end\n",
      "contest_4031 begin\n"
     ]
    },
    {
     "data": {
      "application/vnd.jupyter.widget-view+json": {
       "model_id": "d5deacb50ade4291b331acc50caad037",
       "version_major": 2,
       "version_minor": 0
      },
      "text/plain": [
       "chain 1 |          | 00:00 Status"
      ]
     },
     "metadata": {},
     "output_type": "display_data"
    },
    {
     "data": {
      "application/vnd.jupyter.widget-view+json": {
       "model_id": "36b6f8f9a3d74276943477f1f3df77c2",
       "version_major": 2,
       "version_minor": 0
      },
      "text/plain": [
       "chain 2 |          | 00:00 Status"
      ]
     },
     "metadata": {},
     "output_type": "display_data"
    },
    {
     "data": {
      "application/vnd.jupyter.widget-view+json": {
       "model_id": "9f3f53512a6747cba90f0c3f7df43c8a",
       "version_major": 2,
       "version_minor": 0
      },
      "text/plain": [
       "chain 3 |          | 00:00 Status"
      ]
     },
     "metadata": {},
     "output_type": "display_data"
    },
    {
     "data": {
      "application/vnd.jupyter.widget-view+json": {
       "model_id": "f6f423d5329c4c5ba61e705b2e1b78bb",
       "version_major": 2,
       "version_minor": 0
      },
      "text/plain": [
       "chain 4 |          | 00:00 Status"
      ]
     },
     "metadata": {},
     "output_type": "display_data"
    },
    {
     "name": "stdout",
     "output_type": "stream",
     "text": [
      "                                                                                                                                                                                                                                                                                                                                "
     ]
    },
    {
     "name": "stderr",
     "output_type": "stream",
     "text": [
      "06:30:55 - cmdstanpy - INFO - CmdStan done processing.\n",
      "06:30:55 - cmdstanpy - WARNING - Non-fatal error during sampling:\n",
      "Exception: Exception: normal_lpdf: Random variable is nan, but must be not nan! (in 'real_data.stan', line 81, column 2 to column 53) (in 'real_data.stan', line 175, column 2 to line 180, column 4)\n",
      "\tException: Exception: normal_lpdf: Random variable is nan, but must be not nan! (in 'real_data.stan', line 81, column 2 to column 53) (in 'real_data.stan', line 175, column 2 to line 180, column 4)\n",
      "\tException: Exception: normal_lpdf: Random variable is nan, but must be not nan! (in 'real_data.stan', line 81, column 2 to column 53) (in 'real_data.stan', line 175, column 2 to line 180, column 4)\n",
      "\tException: Exception: normal_lpdf: Random variable is nan, but must be not nan! (in 'real_data.stan', line 81, column 2 to column 53) (in 'real_data.stan', line 175, column 2 to line 180, column 4)\n",
      "\tException: Exception: normal_lpdf: Random variable is nan, but must be not nan! (in 'real_data.stan', line 81, column 2 to column 53) (in 'real_data.stan', line 175, column 2 to line 180, column 4)\n",
      "\tException: Exception: normal_lpdf: Random variable is nan, but must be not nan! (in 'real_data.stan', line 81, column 2 to column 53) (in 'real_data.stan', line 175, column 2 to line 180, column 4)\n",
      "\tException: Exception: normal_lpdf: Random variable is nan, but must be not nan! (in 'real_data.stan', line 81, column 2 to column 53) (in 'real_data.stan', line 175, column 2 to line 180, column 4)\n",
      "Exception: Exception: normal_lpdf: Random variable is nan, but must be not nan! (in 'real_data.stan', line 81, column 2 to column 53) (in 'real_data.stan', line 175, column 2 to line 180, column 4)\n",
      "\tException: Exception: normal_lpdf: Random variable is nan, but must be not nan! (in 'real_data.stan', line 81, column 2 to column 53) (in 'real_data.stan', line 175, column 2 to line 180, column 4)\n",
      "\tException: Exception: normal_lpdf: Random variable is nan, but must be not nan! (in 'real_data.stan', line 81, column 2 to column 53) (in 'real_data.stan', line 175, column 2 to line 180, column 4)\n",
      "\tException: Exception: normal_lpdf: Random variable is nan, but must be not nan! (in 'real_data.stan', line 81, column 2 to column 53) (in 'real_data.stan', line 175, column 2 to line 180, column 4)\n",
      "Exception: Exception: normal_lpdf: Random variable is nan, but must be not nan! (in 'real_data.stan', line 81, column 2 to column 53) (in 'real_data.stan', line 175, column 2 to line 180, column 4)\n",
      "\tException: Exception: normal_lpdf: Random variable is nan, but must be not nan! (in 'real_data.stan', line 81, column 2 to column 53) (in 'real_data.stan', line 175, column 2 to line 180, column 4)\n",
      "\tException: Exception: normal_lpdf: Random variable is nan, but must be not nan! (in 'real_data.stan', line 81, column 2 to column 53) (in 'real_data.stan', line 175, column 2 to line 180, column 4)\n",
      "\tException: Exception: normal_lpdf: Random variable is nan, but must be not nan! (in 'real_data.stan', line 81, column 2 to column 53) (in 'real_data.stan', line 175, column 2 to line 180, column 4)\n",
      "\tException: Exception: normal_lpdf: Random variable is nan, but must be not nan! (in 'real_data.stan', line 81, column 2 to column 53) (in 'real_data.stan', line 175, column 2 to line 180, column 4)\n",
      "\tException: Exception: normal_lpdf: Random variable is nan, but must be not nan! (in 'real_data.stan', line 81, column 2 to column 53) (in 'real_data.stan', line 175, column 2 to line 180, column 4)\n",
      "Exception: Exception: normal_lpdf: Random variable is nan, but must be not nan! (in 'real_data.stan', line 81, column 2 to column 53) (in 'real_data.stan', line 175, column 2 to line 180, column 4)\n",
      "\tException: Exception: normal_lpdf: Random variable is nan, but must be not nan! (in 'real_data.stan', line 81, column 2 to column 53) (in 'real_data.stan', line 175, column 2 to line 180, column 4)\n",
      "\tException: Exception: normal_lpdf: Random variable is nan, but must be not nan! (in 'real_data.stan', line 81, column 2 to column 53) (in 'real_data.stan', line 175, column 2 to line 180, column 4)\n",
      "\tException: Exception: normal_lpdf: Random variable is nan, but must be not nan! (in 'real_data.stan', line 81, column 2 to column 53) (in 'real_data.stan', line 175, column 2 to line 180, column 4)\n",
      "\tException: Exception: normal_lpdf: Random variable is nan, but must be not nan! (in 'real_data.stan', line 81, column 2 to column 53) (in 'real_data.stan', line 175, column 2 to line 180, column 4)\n",
      "\tException: Exception: normal_lpdf: Random variable is nan, but must be not nan! (in 'real_data.stan', line 81, column 2 to column 53) (in 'real_data.stan', line 175, column 2 to line 180, column 4)\n",
      "\tException: Exception: normal_lpdf: Random variable is nan, but must be not nan! (in 'real_data.stan', line 81, column 2 to column 53) (in 'real_data.stan', line 175, column 2 to line 180, column 4)\n",
      "Consider re-running with show_console=True if the above output is unclear!\n"
     ]
    },
    {
     "name": "stdout",
     "output_type": "stream",
     "text": [
      "\n"
     ]
    },
    {
     "name": "stderr",
     "output_type": "stream",
     "text": [
      "06:30:58 - cmdstanpy - WARNING - Some chains may have failed to converge.\n",
      "\tChain 1 had 12 divergent transitions (0.6%)\n",
      "\tChain 2 had 1 divergent transitions (0.1%)\n",
      "\tChain 3 had 3 divergent transitions (0.1%)\n",
      "\tChain 4 had 4 divergent transitions (0.2%)\n",
      "\tUse the \"diagnose()\" method on the CmdStanMCMC object to see further information.\n"
     ]
    },
    {
     "name": "stdout",
     "output_type": "stream",
     "text": [
      "contest_4031 end\n"
     ]
    }
   ],
   "source": [
    "contest_max_longivity = 2500\n",
    "\n",
    "# fit the model with data\n",
    "for json_data in all_json_datas:\n",
    "\tfor file in output_dir.iterdir():\n",
    "\t\tif file.is_file():\n",
    "\t\t\tfile.unlink()\n",
    "\tcontest_name = json_data.stem\n",
    "\tposterior_file = f'{contest_name}.pkl'\n",
    "\tposterior_file_path = wd_jsondata.joinpath(posterior_file)\n",
    "\tif posterior_file_path.exists():\n",
    "\t\tcontinue\n",
    "\twith open(json_data, \"r\", encoding=\"utf-8\") as f:\n",
    "\t\tdata_json = json.load(f)\n",
    "\tif data_json['N_Delta'] > contest_max_longivity:\n",
    "\t\tcontinue\n",
    "\tprint(contest_name, 'begin')\n",
    "\tfit = model.sample( \\\n",
    "\t\tdata=json_data,\n",
    "\t\titer_warmup=1000,\n",
    "\t\titer_sampling=2000,\n",
    "\t\tchains=4,\n",
    "\t\tparallel_chains=4,\n",
    "\t\tshow_console=False,\n",
    "\t\t#max_treedepth=12,  # for difficult model\n",
    "\t\t#adapt_delta=0.99,  # for difficult model\n",
    "\t\toutput_dir=output_dir,\n",
    "\t\tseed=12345,\n",
    "\t)\n",
    "\tposteriors = fit.stan_variables()\n",
    "\twith open(posterior_file_path, 'wb') as f:\n",
    "\t\tpickle.dump(posteriors, f)\n",
    "\tprint(contest_name, 'end')"
   ]
  }
 ],
 "metadata": {
  "kernelspec": {
   "display_name": ".venv",
   "language": "python",
   "name": "python3"
  },
  "language_info": {
   "codemirror_mode": {
    "name": "ipython",
    "version": 3
   },
   "file_extension": ".py",
   "mimetype": "text/x-python",
   "name": "python",
   "nbconvert_exporter": "python",
   "pygments_lexer": "ipython3",
   "version": "3.13.3"
  }
 },
 "nbformat": 4,
 "nbformat_minor": 5
}
