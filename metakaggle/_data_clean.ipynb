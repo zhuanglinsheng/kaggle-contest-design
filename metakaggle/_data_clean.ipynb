{
 "cells": [
  {
   "cell_type": "markdown",
   "id": "048e6c3e",
   "metadata": {},
   "source": [
    "# Explore `meta-kaggle` Dataset"
   ]
  },
  {
   "cell_type": "markdown",
   "id": "f3136aec",
   "metadata": {},
   "source": [
    "## --- Data Clean"
   ]
  },
  {
   "cell_type": "markdown",
   "id": "08eeebe3",
   "metadata": {},
   "source": [
    "Pre-requisites: \n",
    "\n",
    "1. Install Python package `kaggle`\n",
    "2. [Create token](https://www.kaggle.com/docs/api) and \n",
    "3. Put the `kaggle.json` file to the `.kaggle` folder of your home directory\n",
    "4. Download dataset `meta-kaggle` if haven't yet, by excuting: \n",
    "   ```python\n",
    "   import api\n",
    "   api.download_rawdata(rawdata_path)\n",
    "   ```"
   ]
  },
  {
   "cell_type": "code",
   "execution_count": 1,
   "id": "76d0f266",
   "metadata": {},
   "outputs": [],
   "source": [
    "# std library\n",
    "import os\n",
    "from datetime import datetime\n",
    "\n",
    "# third-party\n",
    "import pandas as pd\n",
    "import numpy as np\n",
    "from matplotlib import pyplot as plt\n",
    "\n",
    "# local\n",
    "from datafilter import table_filter"
   ]
  },
  {
   "cell_type": "code",
   "execution_count": 2,
   "id": "457a7f2d",
   "metadata": {},
   "outputs": [],
   "source": [
    "rawdata_path = os.path.abspath('./__rawdata__')"
   ]
  },
  {
   "cell_type": "markdown",
   "id": "88b86395",
   "metadata": {},
   "source": [
    "### 1. Mapping Datasets"
   ]
  },
  {
   "cell_type": "markdown",
   "id": "15309878",
   "metadata": {},
   "source": [
    "Create a dataset of submissions, containing the following fields:\n",
    "- Id \n",
    "- TeamId \n",
    "- CompetitionId \n",
    "- SubmissionDate\n",
    "- PublicScore\n",
    "- PrivateScore"
   ]
  },
  {
   "cell_type": "code",
   "execution_count": 3,
   "id": "e9ddc353",
   "metadata": {},
   "outputs": [],
   "source": [
    "# Submissions\n",
    "# - TeamId\n",
    "# - SubmissionDate\n",
    "tbl_submissions = table_filter( \\\n",
    "\t'Submissions', rawdata_path,\n",
    "\tfields = ['Id', 'TeamId', 'SubmissionDate', 'IsAfterDeadline',\n",
    "\t\t'PublicScoreLeaderboardDisplay', 'PrivateScoreFullPrecision'],\n",
    "\tfields_index = ['Id'],\n",
    "\tfields_datetime = ['SubmissionDate'],\n",
    ")\n",
    "# drop all submissions after deadlines\n",
    "tbl_submissions = tbl_submissions[~tbl_submissions['IsAfterDeadline']]\n",
    "tbl_submissions.drop('IsAfterDeadline', axis=1, inplace=True)\n",
    "# rename long name\n",
    "tbl_submissions.rename(columns={\n",
    "\t'PublicScoreLeaderboardDisplay': 'PublicScore',\n",
    "\t'PrivateScoreFullPrecision': 'PrivateScore'\n",
    "}, inplace=True)"
   ]
  },
  {
   "cell_type": "code",
   "execution_count": 4,
   "id": "c69a4698",
   "metadata": {},
   "outputs": [],
   "source": [
    "# Mapping: Teams\n",
    "# - CompetitionId\n",
    "map_teams_competitions = table_filter( \\\n",
    "\t'Teams', rawdata_path,\n",
    "\tfields = ['Id', 'CompetitionId'],\n",
    "\tfields_index = ['Id'],\n",
    ")"
   ]
  },
  {
   "cell_type": "code",
   "execution_count": 5,
   "id": "342a432c",
   "metadata": {},
   "outputs": [
    {
     "data": {
      "text/plain": [
       "Id                         int64\n",
       "TeamId                     int64\n",
       "SubmissionDate    datetime64[ns]\n",
       "PublicScore              float64\n",
       "PrivateScore             float64\n",
       "CompetitionId              int64\n",
       "dtype: object"
      ]
     },
     "execution_count": 5,
     "metadata": {},
     "output_type": "execute_result"
    }
   ],
   "source": [
    "# Merge `Submissions` and `TeamsCompetition`\n",
    "tbl_submissions = pd.merge(tbl_submissions, map_teams_competitions,\n",
    "\thow = 'left', left_on = 'TeamId', right_on = 'Id', sort = False,\n",
    "\tsuffixes=('', '_Team'))\n",
    "tbl_submissions.drop(columns='Id_Team', inplace=True)\n",
    "tbl_submissions.dtypes"
   ]
  },
  {
   "cell_type": "markdown",
   "id": "338d7da7",
   "metadata": {},
   "source": [
    "### 2. Splitting Contests by Types"
   ]
  },
  {
   "cell_type": "code",
   "execution_count": 6,
   "id": "c04e9d5d",
   "metadata": {},
   "outputs": [
    {
     "data": {
      "text/plain": [
       "9446"
      ]
     },
     "execution_count": 6,
     "metadata": {},
     "output_type": "execute_result"
    }
   ],
   "source": [
    "# Table of Contests\n",
    "tbl_contests = table_filter( \\\n",
    "\t'Competitions', rawdata_path,\n",
    "\tfields=['Id',\n",
    "\t\t'EnabledDate', 'DeadlineDate', 'ProhibitNewEntrantsDeadlineDate',\n",
    "\t\t'TeamMergerDeadlineDate', 'TeamModelDeadlineDate', 'TeamModelDeadlineDate',\n",
    "\t\t'ModelSubmissionDeadlineDate',\n",
    "\t\t'HasLeaderboard', 'LeaderboardPercentage', 'MaxDailySubmissions',\n",
    "\t\t'RewardType', 'RewardQuantity', 'NumPrizes',\n",
    "\t\t'FinalLeaderboardHasBeenVerified'\n",
    "\t],\n",
    "\tfields_datetime=[\n",
    "\t\t'EnabledDate', 'DeadlineDate', 'ProhibitNewEntrantsDeadlineDate',\n",
    "\t\t'TeamMergerDeadlineDate', 'TeamModelDeadlineDate', 'TeamModelDeadlineDate',\n",
    "\t\t'ModelSubmissionDeadlineDate'\n",
    "\t],\n",
    "\tfields_index=['Id'],\n",
    ")\n",
    "len(tbl_contests)"
   ]
  },
  {
   "cell_type": "code",
   "execution_count": 7,
   "id": "e89a1c78",
   "metadata": {},
   "outputs": [
    {
     "name": "stdout",
     "output_type": "stream",
     "text": [
      "Filter 1: How many contests are there having records of submissions from players?\n",
      "5694\n"
     ]
    }
   ],
   "source": [
    "print('Filter 1: How many contests are there having records of submissions from players?')\n",
    "lst_contests_with_submissions = tbl_submissions['CompetitionId'].unique()\n",
    "print(len(lst_contests_with_submissions))\n",
    "\n",
    "# Filter 1\n",
    "tbl_contests = tbl_contests[tbl_contests['Id'].isin(lst_contests_with_submissions)]\n",
    "tbl_submissions = tbl_submissions.loc[tbl_submissions['CompetitionId'].isin(tbl_contests['Id'])]"
   ]
  },
  {
   "cell_type": "code",
   "execution_count": 8,
   "id": "7d461d8f",
   "metadata": {},
   "outputs": [
    {
     "name": "stdout",
     "output_type": "stream",
     "text": [
      "Filter 2: In above, how many contests are there having public leaderboard?\n",
      "5694\n"
     ]
    }
   ],
   "source": [
    "print('Filter 2: In above, how many contests are there having public leaderboard?')\n",
    "lst_contests_with_leaderboard = tbl_contests.loc[tbl_contests['HasLeaderboard']==True]['Id']\n",
    "print(len(lst_contests_with_submissions))\n",
    "\n",
    "# Filter 2\n",
    "tbl_contests = tbl_contests[tbl_contests['Id'].isin(lst_contests_with_leaderboard)]\n",
    "tbl_submissions = tbl_submissions.loc[tbl_submissions['CompetitionId'].isin(tbl_contests['Id'])]"
   ]
  },
  {
   "cell_type": "code",
   "execution_count": 9,
   "id": "4a97d645",
   "metadata": {},
   "outputs": [
    {
     "name": "stdout",
     "output_type": "stream",
     "text": [
      "Is there never-ending contests?\n",
      "0\n",
      "0\n"
     ]
    }
   ],
   "source": [
    "print('Is there never-ending contests?')\n",
    "forever_date = datetime(2029, 1, 1, 0, 0, 0)\n",
    "print((tbl_contests['DeadlineDate'] > forever_date).sum())\n",
    "print((tbl_contests['DeadlineDate'].isna()).sum())"
   ]
  },
  {
   "cell_type": "code",
   "execution_count": 10,
   "id": "51534011",
   "metadata": {},
   "outputs": [
    {
     "name": "stdout",
     "output_type": "stream",
     "text": [
      "How many reward types are there?\n",
      "RewardType\n",
      "NaN          4778\n",
      "USD           407\n",
      "Knowledge     381\n",
      "Swag           95\n",
      "Jobs           14\n",
      "Kudos          10\n",
      "Prizes          6\n",
      "EUR             1\n",
      "Name: count, dtype: int64\n"
     ]
    }
   ],
   "source": [
    "print('How many reward types are there?')\n",
    "print(tbl_contests['RewardType'].value_counts(dropna=False))"
   ]
  },
  {
   "cell_type": "code",
   "execution_count": 11,
   "id": "2c6dd693",
   "metadata": {},
   "outputs": [
    {
     "name": "stdout",
     "output_type": "stream",
     "text": [
      "List of the number of contests providing multiple prize:\n"
     ]
    },
    {
     "data": {
      "text/plain": [
       "NumPrizes\n",
       "1     4722\n",
       "0      498\n",
       "3      292\n",
       "5       82\n",
       "4       28\n",
       "10      18\n",
       "6       16\n",
       "2       11\n",
       "8       10\n",
       "7        9\n",
       "9        4\n",
       "13       1\n",
       "12       1\n",
       "Name: count, dtype: int64"
      ]
     },
     "execution_count": 11,
     "metadata": {},
     "output_type": "execute_result"
    }
   ],
   "source": [
    "print('List of the number of contests providing multiple prize:')\n",
    "tbl_contests['NumPrizes'].value_counts()"
   ]
  },
  {
   "cell_type": "code",
   "execution_count": 12,
   "id": "554a914d",
   "metadata": {},
   "outputs": [],
   "source": [
    "# Split contests with prize type\n",
    "lst_contest_Usd = tbl_contests.loc[tbl_contests['RewardType']=='USD']['Id']\n",
    "lst_contest_Knowledge = tbl_contests.loc[tbl_contests['RewardType']=='Knowledge']['Id']\n",
    "lst_contest_Swag = tbl_contests.loc[tbl_contests['RewardType']=='Swag']['Id']\n",
    "lst_contest_Kudos = tbl_contests.loc[tbl_contests['RewardType']=='Kudos']['Id']\n",
    "lst_contest_EUR = tbl_contests.loc[tbl_contests['RewardType']=='EUR']['Id']\n",
    "\n",
    "# Split contests with prize number\n",
    "lst_contest_1_prize = tbl_contests.loc[tbl_contests['NumPrizes']==1]['Id']\n",
    "lst_contest_2_prize = tbl_contests.loc[tbl_contests['NumPrizes']==2]['Id']\n",
    "lst_contest_3_prize = tbl_contests.loc[tbl_contests['NumPrizes']==3]['Id']\n",
    "lst_contest_4_prize = tbl_contests.loc[tbl_contests['NumPrizes']==4]['Id']\n",
    "lst_contest_5_prize = tbl_contests.loc[tbl_contests['NumPrizes']==5]['Id']\n",
    "lst_contest_6_prize = tbl_contests.loc[tbl_contests['NumPrizes']==6]['Id']\n",
    "lst_contest_7_prize = tbl_contests.loc[tbl_contests['NumPrizes']==7]['Id']\n",
    "lst_contest_8_prize = tbl_contests.loc[tbl_contests['NumPrizes']==8]['Id']\n",
    "lst_contest_9_prize = tbl_contests.loc[tbl_contests['NumPrizes']==9]['Id']"
   ]
  },
  {
   "cell_type": "markdown",
   "id": "c566eedb",
   "metadata": {},
   "source": [
    "### 3. Select contest providing single USD prize"
   ]
  },
  {
   "cell_type": "code",
   "execution_count": 13,
   "id": "220bcc66",
   "metadata": {},
   "outputs": [
    {
     "data": {
      "text/plain": [
       "42"
      ]
     },
     "execution_count": 13,
     "metadata": {},
     "output_type": "execute_result"
    }
   ],
   "source": [
    "# select\n",
    "tbl_contest_1_Usd_prize = tbl_contests[tbl_contests['Id'].isin(lst_contest_Usd)]\n",
    "tbl_contest_1_Usd_prize = tbl_contest_1_Usd_prize[tbl_contest_1_Usd_prize['Id'].isin(lst_contest_1_prize)]\n",
    "\n",
    "# filter\n",
    "tbl_contest_1_Usd_prize = tbl_contest_1_Usd_prize.loc[tbl_contest_1_Usd_prize['RewardQuantity'] > 0]\n",
    "lst_contest_1_Usd_prize = tbl_contest_1_Usd_prize['Id']\n",
    "len(lst_contest_1_Usd_prize)"
   ]
  },
  {
   "cell_type": "code",
   "execution_count": 14,
   "id": "8d5727d6",
   "metadata": {},
   "outputs": [
    {
     "data": {
      "text/plain": [
       "array([2435, 2445, 2448, 2452, 2454, 2464, 2467, 2478, 2479, 2487, 2488,\n",
       "       2496, 2549, 2589, 2762, 2860, 2895, 2963, 3065, 3294, 3364, 3370,\n",
       "       3377, 3385, 3386, 3469, 3493, 3507, 3521, 3526, 3586, 3706, 3867,\n",
       "       3928, 3973, 3984, 4195, 4378, 4383, 4493, 4495, 4704])"
      ]
     },
     "execution_count": 14,
     "metadata": {},
     "output_type": "execute_result"
    }
   ],
   "source": [
    "lst_contest_1_Usd_prize.values"
   ]
  },
  {
   "cell_type": "code",
   "execution_count": 20,
   "id": "bf2d85a4",
   "metadata": {},
   "outputs": [
    {
     "data": {
      "text/html": [
       "<div>\n",
       "<style scoped>\n",
       "    .dataframe tbody tr th:only-of-type {\n",
       "        vertical-align: middle;\n",
       "    }\n",
       "\n",
       "    .dataframe tbody tr th {\n",
       "        vertical-align: top;\n",
       "    }\n",
       "\n",
       "    .dataframe thead th {\n",
       "        text-align: right;\n",
       "    }\n",
       "</style>\n",
       "<table border=\"1\" class=\"dataframe\">\n",
       "  <thead>\n",
       "    <tr style=\"text-align: right;\">\n",
       "      <th></th>\n",
       "      <th>Id</th>\n",
       "      <th>EnabledDate</th>\n",
       "      <th>DeadlineDate</th>\n",
       "      <th>ProhibitNewEntrantsDeadlineDate</th>\n",
       "      <th>TeamMergerDeadlineDate</th>\n",
       "      <th>TeamModelDeadlineDate</th>\n",
       "      <th>ModelSubmissionDeadlineDate</th>\n",
       "      <th>FinalLeaderboardHasBeenVerified</th>\n",
       "      <th>HasLeaderboard</th>\n",
       "      <th>LeaderboardPercentage</th>\n",
       "      <th>MaxDailySubmissions</th>\n",
       "      <th>RewardType</th>\n",
       "      <th>RewardQuantity</th>\n",
       "      <th>NumPrizes</th>\n",
       "    </tr>\n",
       "  </thead>\n",
       "  <tbody>\n",
       "    <tr>\n",
       "      <th>1</th>\n",
       "      <td>2435</td>\n",
       "      <td>2010-04-27 21:29:09</td>\n",
       "      <td>2010-08-02 12:32:00</td>\n",
       "      <td>NaT</td>\n",
       "      <td>NaT</td>\n",
       "      <td>NaT</td>\n",
       "      <td>NaT</td>\n",
       "      <td>True</td>\n",
       "      <td>True</td>\n",
       "      <td>30</td>\n",
       "      <td>4</td>\n",
       "      <td>USD</td>\n",
       "      <td>500.0</td>\n",
       "      <td>1</td>\n",
       "    </tr>\n",
       "    <tr>\n",
       "      <th>5</th>\n",
       "      <td>2445</td>\n",
       "      <td>2010-12-13 09:22:46</td>\n",
       "      <td>2011-02-20 22:00:00</td>\n",
       "      <td>NaT</td>\n",
       "      <td>NaT</td>\n",
       "      <td>NaT</td>\n",
       "      <td>NaT</td>\n",
       "      <td>True</td>\n",
       "      <td>True</td>\n",
       "      <td>25</td>\n",
       "      <td>2</td>\n",
       "      <td>USD</td>\n",
       "      <td>5000.0</td>\n",
       "      <td>1</td>\n",
       "    </tr>\n",
       "    <tr>\n",
       "      <th>7</th>\n",
       "      <td>2448</td>\n",
       "      <td>2010-08-09 04:19:02</td>\n",
       "      <td>2010-09-19 23:00:00</td>\n",
       "      <td>NaT</td>\n",
       "      <td>NaT</td>\n",
       "      <td>NaT</td>\n",
       "      <td>NaT</td>\n",
       "      <td>True</td>\n",
       "      <td>True</td>\n",
       "      <td>20</td>\n",
       "      <td>2</td>\n",
       "      <td>USD</td>\n",
       "      <td>500.0</td>\n",
       "      <td>1</td>\n",
       "    </tr>\n",
       "    <tr>\n",
       "      <th>8</th>\n",
       "      <td>2452</td>\n",
       "      <td>2010-09-20 08:38:44</td>\n",
       "      <td>2010-11-21 23:00:00</td>\n",
       "      <td>NaT</td>\n",
       "      <td>NaT</td>\n",
       "      <td>NaT</td>\n",
       "      <td>NaT</td>\n",
       "      <td>True</td>\n",
       "      <td>True</td>\n",
       "      <td>20</td>\n",
       "      <td>3</td>\n",
       "      <td>USD</td>\n",
       "      <td>500.0</td>\n",
       "      <td>1</td>\n",
       "    </tr>\n",
       "    <tr>\n",
       "      <th>9</th>\n",
       "      <td>2454</td>\n",
       "      <td>2010-10-10 04:00:28</td>\n",
       "      <td>2011-02-08 09:00:00</td>\n",
       "      <td>NaT</td>\n",
       "      <td>NaT</td>\n",
       "      <td>NaT</td>\n",
       "      <td>NaT</td>\n",
       "      <td>True</td>\n",
       "      <td>True</td>\n",
       "      <td>62</td>\n",
       "      <td>2</td>\n",
       "      <td>USD</td>\n",
       "      <td>150.0</td>\n",
       "      <td>1</td>\n",
       "    </tr>\n",
       "  </tbody>\n",
       "</table>\n",
       "</div>"
      ],
      "text/plain": [
       "     Id         EnabledDate        DeadlineDate  \\\n",
       "1  2435 2010-04-27 21:29:09 2010-08-02 12:32:00   \n",
       "5  2445 2010-12-13 09:22:46 2011-02-20 22:00:00   \n",
       "7  2448 2010-08-09 04:19:02 2010-09-19 23:00:00   \n",
       "8  2452 2010-09-20 08:38:44 2010-11-21 23:00:00   \n",
       "9  2454 2010-10-10 04:00:28 2011-02-08 09:00:00   \n",
       "\n",
       "  ProhibitNewEntrantsDeadlineDate TeamMergerDeadlineDate  \\\n",
       "1                             NaT                    NaT   \n",
       "5                             NaT                    NaT   \n",
       "7                             NaT                    NaT   \n",
       "8                             NaT                    NaT   \n",
       "9                             NaT                    NaT   \n",
       "\n",
       "  TeamModelDeadlineDate ModelSubmissionDeadlineDate  \\\n",
       "1                   NaT                         NaT   \n",
       "5                   NaT                         NaT   \n",
       "7                   NaT                         NaT   \n",
       "8                   NaT                         NaT   \n",
       "9                   NaT                         NaT   \n",
       "\n",
       "   FinalLeaderboardHasBeenVerified  HasLeaderboard  LeaderboardPercentage  \\\n",
       "1                             True            True                     30   \n",
       "5                             True            True                     25   \n",
       "7                             True            True                     20   \n",
       "8                             True            True                     20   \n",
       "9                             True            True                     62   \n",
       "\n",
       "   MaxDailySubmissions RewardType  RewardQuantity  NumPrizes  \n",
       "1                    4        USD           500.0          1  \n",
       "5                    2        USD          5000.0          1  \n",
       "7                    2        USD           500.0          1  \n",
       "8                    3        USD           500.0          1  \n",
       "9                    2        USD           150.0          1  "
      ]
     },
     "execution_count": 20,
     "metadata": {},
     "output_type": "execute_result"
    }
   ],
   "source": [
    "tbl_contest_1_Usd_prize.head()"
   ]
  },
  {
   "cell_type": "code",
   "execution_count": 21,
   "id": "4707af49",
   "metadata": {},
   "outputs": [
    {
     "data": {
      "text/html": [
       "<div>\n",
       "<style scoped>\n",
       "    .dataframe tbody tr th:only-of-type {\n",
       "        vertical-align: middle;\n",
       "    }\n",
       "\n",
       "    .dataframe tbody tr th {\n",
       "        vertical-align: top;\n",
       "    }\n",
       "\n",
       "    .dataframe thead th {\n",
       "        text-align: right;\n",
       "    }\n",
       "</style>\n",
       "<table border=\"1\" class=\"dataframe\">\n",
       "  <thead>\n",
       "    <tr style=\"text-align: right;\">\n",
       "      <th></th>\n",
       "      <th>Id</th>\n",
       "      <th>TeamId</th>\n",
       "      <th>SubmissionDate</th>\n",
       "      <th>PublicScore</th>\n",
       "      <th>PrivateScore</th>\n",
       "      <th>CompetitionId</th>\n",
       "    </tr>\n",
       "  </thead>\n",
       "  <tbody>\n",
       "    <tr>\n",
       "      <th>0</th>\n",
       "      <td>2180</td>\n",
       "      <td>496</td>\n",
       "      <td>2010-04-29</td>\n",
       "      <td>55.76919</td>\n",
       "      <td>56.213902</td>\n",
       "      <td>2435</td>\n",
       "    </tr>\n",
       "    <tr>\n",
       "      <th>1</th>\n",
       "      <td>2181</td>\n",
       "      <td>497</td>\n",
       "      <td>2010-04-30</td>\n",
       "      <td>47.11539</td>\n",
       "      <td>50.000000</td>\n",
       "      <td>2435</td>\n",
       "    </tr>\n",
       "    <tr>\n",
       "      <th>2</th>\n",
       "      <td>2182</td>\n",
       "      <td>497</td>\n",
       "      <td>2010-04-30</td>\n",
       "      <td>61.05770</td>\n",
       "      <td>65.606903</td>\n",
       "      <td>2435</td>\n",
       "    </tr>\n",
       "    <tr>\n",
       "      <th>3</th>\n",
       "      <td>2184</td>\n",
       "      <td>499</td>\n",
       "      <td>2010-05-01</td>\n",
       "      <td>47.11539</td>\n",
       "      <td>50.000000</td>\n",
       "      <td>2435</td>\n",
       "    </tr>\n",
       "    <tr>\n",
       "      <th>4</th>\n",
       "      <td>2185</td>\n",
       "      <td>500</td>\n",
       "      <td>2010-05-02</td>\n",
       "      <td>61.05770</td>\n",
       "      <td>62.283199</td>\n",
       "      <td>2435</td>\n",
       "    </tr>\n",
       "  </tbody>\n",
       "</table>\n",
       "</div>"
      ],
      "text/plain": [
       "     Id  TeamId SubmissionDate  PublicScore  PrivateScore  CompetitionId\n",
       "0  2180     496     2010-04-29     55.76919     56.213902           2435\n",
       "1  2181     497     2010-04-30     47.11539     50.000000           2435\n",
       "2  2182     497     2010-04-30     61.05770     65.606903           2435\n",
       "3  2184     499     2010-05-01     47.11539     50.000000           2435\n",
       "4  2185     500     2010-05-02     61.05770     62.283199           2435"
      ]
     },
     "execution_count": 21,
     "metadata": {},
     "output_type": "execute_result"
    }
   ],
   "source": [
    "tbl_submissions_selected = tbl_submissions.loc[tbl_submissions['CompetitionId'].isin(lst_contest_1_Usd_prize)]\n",
    "tbl_submissions_selected.head()"
   ]
  },
  {
   "cell_type": "markdown",
   "id": "02c57a66",
   "metadata": {},
   "source": [
    "#### Contest `2435` for example"
   ]
  },
  {
   "cell_type": "code",
   "execution_count": 17,
   "id": "f65ce215",
   "metadata": {},
   "outputs": [],
   "source": [
    "tbl_submissions_2435 = tbl_submissions_selected.loc[tbl_submissions_selected['CompetitionId']==2435]"
   ]
  },
  {
   "cell_type": "code",
   "execution_count": 22,
   "id": "295c44ab",
   "metadata": {},
   "outputs": [
    {
     "data": {
      "text/html": [
       "<div>\n",
       "<style scoped>\n",
       "    .dataframe tbody tr th:only-of-type {\n",
       "        vertical-align: middle;\n",
       "    }\n",
       "\n",
       "    .dataframe tbody tr th {\n",
       "        vertical-align: top;\n",
       "    }\n",
       "\n",
       "    .dataframe thead th {\n",
       "        text-align: right;\n",
       "    }\n",
       "</style>\n",
       "<table border=\"1\" class=\"dataframe\">\n",
       "  <thead>\n",
       "    <tr style=\"text-align: right;\">\n",
       "      <th></th>\n",
       "      <th>Id</th>\n",
       "      <th>TeamId</th>\n",
       "      <th>SubmissionDate</th>\n",
       "      <th>PublicScore</th>\n",
       "      <th>PrivateScore</th>\n",
       "      <th>CompetitionId</th>\n",
       "    </tr>\n",
       "  </thead>\n",
       "  <tbody>\n",
       "    <tr>\n",
       "      <th>0</th>\n",
       "      <td>2180</td>\n",
       "      <td>496</td>\n",
       "      <td>2010-04-29</td>\n",
       "      <td>55.76919</td>\n",
       "      <td>56.213902</td>\n",
       "      <td>2435</td>\n",
       "    </tr>\n",
       "    <tr>\n",
       "      <th>1</th>\n",
       "      <td>2181</td>\n",
       "      <td>497</td>\n",
       "      <td>2010-04-30</td>\n",
       "      <td>47.11539</td>\n",
       "      <td>50.000000</td>\n",
       "      <td>2435</td>\n",
       "    </tr>\n",
       "    <tr>\n",
       "      <th>2</th>\n",
       "      <td>2182</td>\n",
       "      <td>497</td>\n",
       "      <td>2010-04-30</td>\n",
       "      <td>61.05770</td>\n",
       "      <td>65.606903</td>\n",
       "      <td>2435</td>\n",
       "    </tr>\n",
       "    <tr>\n",
       "      <th>3</th>\n",
       "      <td>2184</td>\n",
       "      <td>499</td>\n",
       "      <td>2010-05-01</td>\n",
       "      <td>47.11539</td>\n",
       "      <td>50.000000</td>\n",
       "      <td>2435</td>\n",
       "    </tr>\n",
       "    <tr>\n",
       "      <th>4</th>\n",
       "      <td>2185</td>\n",
       "      <td>500</td>\n",
       "      <td>2010-05-02</td>\n",
       "      <td>61.05770</td>\n",
       "      <td>62.283199</td>\n",
       "      <td>2435</td>\n",
       "    </tr>\n",
       "  </tbody>\n",
       "</table>\n",
       "</div>"
      ],
      "text/plain": [
       "     Id  TeamId SubmissionDate  PublicScore  PrivateScore  CompetitionId\n",
       "0  2180     496     2010-04-29     55.76919     56.213902           2435\n",
       "1  2181     497     2010-04-30     47.11539     50.000000           2435\n",
       "2  2182     497     2010-04-30     61.05770     65.606903           2435\n",
       "3  2184     499     2010-05-01     47.11539     50.000000           2435\n",
       "4  2185     500     2010-05-02     61.05770     62.283199           2435"
      ]
     },
     "execution_count": 22,
     "metadata": {},
     "output_type": "execute_result"
    }
   ],
   "source": [
    "tbl_submissions_2435.head()"
   ]
  },
  {
   "cell_type": "code",
   "execution_count": 23,
   "id": "f5ac3eac",
   "metadata": {},
   "outputs": [
    {
     "name": "stdout",
     "output_type": "stream",
     "text": [
      "How many teams are there in this contest?\n",
      "107\n",
      "How many submission are there in total?\n",
      "855\n",
      "List the number of submissions for the most active 5 teams:\n"
     ]
    }
   ],
   "source": [
    "print('How many teams are there in this contest?')\n",
    "print(tbl_submissions_2435['TeamId'].unique().size)\n",
    "\n",
    "print('How many submission are there in total?')\n",
    "print(len(tbl_submissions_2435))\n",
    "\n",
    "print('List the number of submissions for the most active 5 teams:')\n",
    "#tbl_submissions_2435.groupby()"
   ]
  }
 ],
 "metadata": {
  "kernelspec": {
   "display_name": ".venv_macbook",
   "language": "python",
   "name": "python3"
  },
  "language_info": {
   "codemirror_mode": {
    "name": "ipython",
    "version": 3
   },
   "file_extension": ".py",
   "mimetype": "text/x-python",
   "name": "python",
   "nbconvert_exporter": "python",
   "pygments_lexer": "ipython3",
   "version": "3.13.2"
  }
 },
 "nbformat": 4,
 "nbformat_minor": 5
}
