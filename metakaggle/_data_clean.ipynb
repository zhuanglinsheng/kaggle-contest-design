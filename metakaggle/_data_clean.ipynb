{
 "cells": [
  {
   "cell_type": "markdown",
   "id": "048e6c3e",
   "metadata": {},
   "source": [
    "# Explore `meta-kaggle` Dataset"
   ]
  },
  {
   "cell_type": "markdown",
   "id": "f3136aec",
   "metadata": {},
   "source": [
    "## --- Data Clean"
   ]
  },
  {
   "cell_type": "markdown",
   "id": "08eeebe3",
   "metadata": {},
   "source": [
    "Pre-requisites: \n",
    "\n",
    "1. Install Python package `kaggle`\n",
    "2. [Create token](https://www.kaggle.com/docs/api) and \n",
    "3. Put the `kaggle.json` file to the `.kaggle` folder of your home directory\n",
    "4. Download dataset `meta-kaggle` if haven't yet, by excuting: \n",
    "   ```python\n",
    "   import api\n",
    "   api.download_rawdata(rawdata_path)\n",
    "   ```"
   ]
  },
  {
   "cell_type": "code",
   "execution_count": 1,
   "id": "76d0f266",
   "metadata": {},
   "outputs": [],
   "source": [
    "# std library\n",
    "import os\n",
    "import json\n",
    "from datetime import datetime, timedelta\n",
    "from pprint import pprint\n",
    "\n",
    "# third-party\n",
    "import pandas as pd\n",
    "import numpy as np\n",
    "from matplotlib import pyplot as plt\n",
    "\n",
    "# local\n",
    "from datafilter import table_filter\n",
    "from leaderboard import Leaderboard"
   ]
  },
  {
   "cell_type": "code",
   "execution_count": 2,
   "id": "457a7f2d",
   "metadata": {},
   "outputs": [],
   "source": [
    "rawdata_path = os.path.abspath('./__rawdata__')"
   ]
  },
  {
   "cell_type": "markdown",
   "id": "88b86395",
   "metadata": {},
   "source": [
    "### 1. Mapping Datasets"
   ]
  },
  {
   "cell_type": "markdown",
   "id": "15309878",
   "metadata": {},
   "source": [
    "Create a dataset of submissions, containing the following fields:\n",
    "- Id \n",
    "- TeamId \n",
    "- CompetitionId \n",
    "- SubmissionDate\n",
    "- PublicScore\n",
    "- PrivateScore"
   ]
  },
  {
   "cell_type": "code",
   "execution_count": 3,
   "id": "e9ddc353",
   "metadata": {},
   "outputs": [],
   "source": [
    "# Submissions\n",
    "# - TeamId\n",
    "# - SubmissionDate\n",
    "tbl_submissions = table_filter( \\\n",
    "\t'Submissions', rawdata_path,\n",
    "\tfields = ['Id', 'TeamId', 'SubmissionDate', 'IsAfterDeadline',\n",
    "\t\t'PublicScoreLeaderboardDisplay', 'PrivateScoreFullPrecision'],\n",
    "\tfields_index = ['Id'],\n",
    "\tfields_datetime = ['SubmissionDate'],\n",
    ")\n",
    "# drop all submissions after deadlines\n",
    "tbl_submissions = tbl_submissions[~tbl_submissions['IsAfterDeadline']]\n",
    "tbl_submissions.drop('IsAfterDeadline', axis=1, inplace=True)\n",
    "# rename long name\n",
    "tbl_submissions.rename(columns={\n",
    "\t'PublicScoreLeaderboardDisplay': 'PublicScore',\n",
    "\t'PrivateScoreFullPrecision': 'PrivateScore'\n",
    "}, inplace=True)\n",
    "# drop duplicated\n",
    "## One team can submit only once at a time point\n",
    "tbl_submissions = tbl_submissions.drop_duplicates(subset=['SubmissionDate', 'TeamId'])"
   ]
  },
  {
   "cell_type": "code",
   "execution_count": 4,
   "id": "c69a4698",
   "metadata": {},
   "outputs": [],
   "source": [
    "# Mapping: Teams\n",
    "# - CompetitionId\n",
    "map_teams_competitions = table_filter( \\\n",
    "\t'Teams', rawdata_path,\n",
    "\tfields = ['Id', 'CompetitionId'],\n",
    "\tfields_index = ['Id'],\n",
    ")"
   ]
  },
  {
   "cell_type": "code",
   "execution_count": 5,
   "id": "342a432c",
   "metadata": {},
   "outputs": [
    {
     "data": {
      "text/plain": [
       "Id                         int64\n",
       "TeamId                     int64\n",
       "SubmissionDate    datetime64[ns]\n",
       "PublicScore              float64\n",
       "PrivateScore             float64\n",
       "CompetitionId              int64\n",
       "dtype: object"
      ]
     },
     "execution_count": 5,
     "metadata": {},
     "output_type": "execute_result"
    }
   ],
   "source": [
    "# Merge `Submissions` and `TeamsCompetition`\n",
    "tbl_submissions = pd.merge(tbl_submissions, map_teams_competitions,\n",
    "\thow = 'left', left_on = 'TeamId', right_on = 'Id', sort = False,\n",
    "\tsuffixes=('', '_Team'))\n",
    "tbl_submissions.drop(columns='Id_Team', inplace=True)\n",
    "tbl_submissions.dtypes"
   ]
  },
  {
   "cell_type": "markdown",
   "id": "338d7da7",
   "metadata": {},
   "source": [
    "### 2. Splitting Contests by Types"
   ]
  },
  {
   "cell_type": "code",
   "execution_count": 6,
   "id": "c04e9d5d",
   "metadata": {},
   "outputs": [
    {
     "data": {
      "text/plain": [
       "9442"
      ]
     },
     "execution_count": 6,
     "metadata": {},
     "output_type": "execute_result"
    }
   ],
   "source": [
    "# Table of Contests\n",
    "tbl_contests = table_filter( \\\n",
    "\t'Competitions', rawdata_path,\n",
    "\tfields=['Id',\n",
    "\t\t'EnabledDate', 'DeadlineDate', 'ProhibitNewEntrantsDeadlineDate',\n",
    "\t\t'TeamMergerDeadlineDate', 'TeamModelDeadlineDate', 'TeamModelDeadlineDate',\n",
    "\t\t'ModelSubmissionDeadlineDate',\n",
    "\t\t'HasLeaderboard', 'LeaderboardPercentage', 'MaxDailySubmissions',\n",
    "\t\t'RewardType', 'RewardQuantity', 'NumPrizes',\n",
    "\t\t'FinalLeaderboardHasBeenVerified'\n",
    "\t],\n",
    "\tfields_datetime=[\n",
    "\t\t'EnabledDate', 'DeadlineDate', 'ProhibitNewEntrantsDeadlineDate',\n",
    "\t\t'TeamMergerDeadlineDate', 'TeamModelDeadlineDate', 'TeamModelDeadlineDate',\n",
    "\t\t'ModelSubmissionDeadlineDate'\n",
    "\t],\n",
    "\tfields_index=['Id'],\n",
    ")\n",
    "len(tbl_contests)"
   ]
  },
  {
   "cell_type": "code",
   "execution_count": 7,
   "id": "e89a1c78",
   "metadata": {},
   "outputs": [
    {
     "name": "stdout",
     "output_type": "stream",
     "text": [
      ">>> Filter 1: How many contests are there having records of submissions from players?\n",
      "5693\n"
     ]
    }
   ],
   "source": [
    "print('>>> Filter 1: How many contests are there having records of submissions from players?')\n",
    "lst_contests_with_submissions = tbl_submissions['CompetitionId'].unique()\n",
    "print(len(lst_contests_with_submissions))\n",
    "\n",
    "# Filter 1\n",
    "tbl_contests = tbl_contests[tbl_contests['Id'].isin(lst_contests_with_submissions)]\n",
    "tbl_submissions = tbl_submissions.loc[tbl_submissions['CompetitionId'].isin(tbl_contests['Id'])]"
   ]
  },
  {
   "cell_type": "code",
   "execution_count": 8,
   "id": "7d461d8f",
   "metadata": {},
   "outputs": [
    {
     "name": "stdout",
     "output_type": "stream",
     "text": [
      ">>> Filter 2: In above, how many contests are there having public leaderboard?\n",
      "5693\n"
     ]
    }
   ],
   "source": [
    "print('>>> Filter 2: In above, how many contests are there having public leaderboard?')\n",
    "lst_contests_with_leaderboard = tbl_contests.loc[tbl_contests['HasLeaderboard']==True]['Id']\n",
    "print(len(lst_contests_with_submissions))\n",
    "\n",
    "# Filter 2\n",
    "tbl_contests = tbl_contests[tbl_contests['Id'].isin(lst_contests_with_leaderboard)]\n",
    "tbl_submissions = tbl_submissions.loc[tbl_submissions['CompetitionId'].isin(tbl_contests['Id'])]"
   ]
  },
  {
   "cell_type": "code",
   "execution_count": 9,
   "id": "4a97d645",
   "metadata": {},
   "outputs": [
    {
     "name": "stdout",
     "output_type": "stream",
     "text": [
      ">>> Is there never-ending contests?\n",
      "0\n",
      "0\n"
     ]
    }
   ],
   "source": [
    "print('>>> Is there never-ending contests?')\n",
    "forever_date = datetime(2029, 1, 1, 0, 0, 0)\n",
    "print((tbl_contests['DeadlineDate'] > forever_date).sum())\n",
    "print((tbl_contests['DeadlineDate'].isna()).sum())"
   ]
  },
  {
   "cell_type": "code",
   "execution_count": 10,
   "id": "51534011",
   "metadata": {},
   "outputs": [
    {
     "name": "stdout",
     "output_type": "stream",
     "text": [
      ">>> How many reward types are there?\n",
      "RewardType\n",
      "NaN          4777\n",
      "USD           407\n",
      "Knowledge     381\n",
      "Swag           95\n",
      "Jobs           14\n",
      "Kudos          10\n",
      "Prizes          6\n",
      "EUR             1\n",
      "Name: count, dtype: int64\n"
     ]
    }
   ],
   "source": [
    "print('>>> How many reward types are there?')\n",
    "print(tbl_contests['RewardType'].value_counts(dropna=False))"
   ]
  },
  {
   "cell_type": "code",
   "execution_count": 11,
   "id": "2c6dd693",
   "metadata": {},
   "outputs": [
    {
     "name": "stdout",
     "output_type": "stream",
     "text": [
      ">>> List of the number of contests providing multiple prize:\n",
      "NumPrizes\n",
      "1     4721\n",
      "0      498\n",
      "3      292\n",
      "5       82\n",
      "4       28\n",
      "10      18\n",
      "6       16\n",
      "2       11\n",
      "8       10\n",
      "7        9\n",
      "9        4\n",
      "13       1\n",
      "12       1\n",
      "Name: count, dtype: int64\n"
     ]
    }
   ],
   "source": [
    "print('>>> List of the number of contests providing multiple prize:')\n",
    "pprint(tbl_contests['NumPrizes'].value_counts())"
   ]
  },
  {
   "cell_type": "code",
   "execution_count": 12,
   "id": "554a914d",
   "metadata": {},
   "outputs": [],
   "source": [
    "# Split contests with prize type\n",
    "lst_contest_Usd = tbl_contests.loc[tbl_contests['RewardType']=='USD']['Id']\n",
    "lst_contest_Knowledge = tbl_contests.loc[tbl_contests['RewardType']=='Knowledge']['Id']\n",
    "lst_contest_Swag = tbl_contests.loc[tbl_contests['RewardType']=='Swag']['Id']\n",
    "lst_contest_Kudos = tbl_contests.loc[tbl_contests['RewardType']=='Kudos']['Id']\n",
    "lst_contest_EUR = tbl_contests.loc[tbl_contests['RewardType']=='EUR']['Id']\n",
    "\n",
    "# Split contests with prize number\n",
    "lst_contest_1_prize = tbl_contests.loc[tbl_contests['NumPrizes']==1]['Id']\n",
    "lst_contest_2_prize = tbl_contests.loc[tbl_contests['NumPrizes']==2]['Id']\n",
    "lst_contest_3_prize = tbl_contests.loc[tbl_contests['NumPrizes']==3]['Id']\n",
    "lst_contest_4_prize = tbl_contests.loc[tbl_contests['NumPrizes']==4]['Id']\n",
    "lst_contest_5_prize = tbl_contests.loc[tbl_contests['NumPrizes']==5]['Id']\n",
    "lst_contest_6_prize = tbl_contests.loc[tbl_contests['NumPrizes']==6]['Id']\n",
    "lst_contest_7_prize = tbl_contests.loc[tbl_contests['NumPrizes']==7]['Id']\n",
    "lst_contest_8_prize = tbl_contests.loc[tbl_contests['NumPrizes']==8]['Id']\n",
    "lst_contest_9_prize = tbl_contests.loc[tbl_contests['NumPrizes']==9]['Id']"
   ]
  },
  {
   "cell_type": "markdown",
   "id": "c566eedb",
   "metadata": {},
   "source": [
    "### 3. Select contest providing single USD prize"
   ]
  },
  {
   "cell_type": "code",
   "execution_count": 13,
   "id": "220bcc66",
   "metadata": {},
   "outputs": [
    {
     "data": {
      "text/plain": [
       "42"
      ]
     },
     "execution_count": 13,
     "metadata": {},
     "output_type": "execute_result"
    }
   ],
   "source": [
    "# select\n",
    "tbl_contest_1_Usd_prize = tbl_contests[tbl_contests['Id'].isin(lst_contest_Usd)]\n",
    "tbl_contest_1_Usd_prize = tbl_contest_1_Usd_prize[tbl_contest_1_Usd_prize['Id'].isin(lst_contest_1_prize)]\n",
    "\n",
    "# filter\n",
    "tbl_contest_1_Usd_prize = tbl_contest_1_Usd_prize.loc[tbl_contest_1_Usd_prize['RewardQuantity'] > 0]\n",
    "lst_contest_1_Usd_prize = tbl_contest_1_Usd_prize['Id'].values\n",
    "len(lst_contest_1_Usd_prize)"
   ]
  },
  {
   "cell_type": "code",
   "execution_count": 14,
   "id": "8d5727d6",
   "metadata": {},
   "outputs": [
    {
     "name": "stdout",
     "output_type": "stream",
     "text": [
      "[2435 2445 2448 2452 2454 2464 2467 2478 2479 2487 2488 2496 2549 2589\n",
      " 2762 2860 2895 2963 3065 3294 3364 3370 3377 3385 3386 3469 3493 3507\n",
      " 3521 3526 3586 3706 3867 3928 3973 3984 4195 4378 4383 4493 4495 4704]\n"
     ]
    }
   ],
   "source": [
    "print(lst_contest_1_Usd_prize)"
   ]
  },
  {
   "cell_type": "markdown",
   "id": "02c57a66",
   "metadata": {},
   "source": [
    "#### Contest `2435` for example"
   ]
  },
  {
   "cell_type": "markdown",
   "id": "2f1a2aa8",
   "metadata": {},
   "source": [
    "#### (1) Contest Setting"
   ]
  },
  {
   "cell_type": "code",
   "execution_count": 60,
   "id": "bde38437",
   "metadata": {},
   "outputs": [],
   "source": [
    "def contest_basic_info(contest_id: int):\n",
    "\ttbl_contest_info = tbl_contests.loc[tbl_contests['Id'] == contest_id]\n",
    "\t# deadline\n",
    "\tdeadline = tbl_contest_info['DeadlineDate'].iloc[0].to_pydatetime()\n",
    "\tdeadline = deadline.replace(hour=0, minute=0, second=0, microsecond=0)\n",
    "\tdeadline += timedelta(days=1)\n",
    "\treturn deadline"
   ]
  },
  {
   "cell_type": "code",
   "execution_count": 61,
   "id": "a5b05fee",
   "metadata": {},
   "outputs": [],
   "source": [
    "deadline = contest_basic_info(2435)"
   ]
  },
  {
   "cell_type": "markdown",
   "id": "42272511",
   "metadata": {},
   "source": [
    "#### (2) Leaderboard"
   ]
  },
  {
   "cell_type": "code",
   "execution_count": 58,
   "id": "4b71d189",
   "metadata": {},
   "outputs": [],
   "source": [
    "def contest_basic_submission_info(contest_id: int) -> pd.DataFrame:\n",
    "\ttbl = tbl_submissions.loc[tbl_submissions['CompetitionId']==contest_id]\n",
    "\tprint('>>> How many teams are there in this contest?')\n",
    "\tprint(tbl['TeamId'].unique().size)\n",
    "\tprint('>>> How many submissions are there in total?')\n",
    "\tprint(len(tbl))\n",
    "\tprint('>>> List the number of submissions for the most active 5 teams:')\n",
    "\tprint(tbl.groupby('TeamId').size().sort_values(ascending=False).head(5))\n",
    "\treturn tbl\n",
    "\n",
    "def randomize_within_day(group: pd.Series, seed = 1234):\n",
    "\trgn = np.random.default_rng(seed)\n",
    "\tseconds = rgn.choice(range(86400), size=len(group), replace=False)\n",
    "\tseconds.sort()\n",
    "\trandomized_times = group + pd.to_timedelta(seconds, unit='s')\n",
    "\treturn randomized_times\n",
    "\n",
    "def leaderboard_fulfill(tbl_contest_submissions, deadline: datetime):\n",
    "\tleaderboard_public = Leaderboard()\n",
    "\tleaderboard_private = Leaderboard()\n",
    "\ttbl_contest_submissions_sorted = tbl_contest_submissions.sort_values(by='SubmissionDate')\n",
    "\tsubmission_dates = tbl_contest_submissions_sorted['SubmissionDate']\n",
    "\tsubmission_datetimes = submission_dates.groupby(submission_dates).apply(randomize_within_day).reset_index(level=0, drop=True)\n",
    "\tfor idx_row, row in tbl_contest_submissions_sorted.iterrows():\n",
    "\t\ttime = submission_datetimes[idx_row].to_pydatetime()\n",
    "\t\tif time > deadline:\n",
    "\t\t\tbreak\n",
    "\t\tteam_id = row['TeamId']\n",
    "\t\tscore_pub = row['PublicScore']\n",
    "\t\tscore_pri = row['PrivateScore']\n",
    "\t\tleaderboard_public.refresh(time, team_id, score_pub)\n",
    "\t\tleaderboard_private.refresh(time, team_id, score_pri)\n",
    "\treturn leaderboard_public, leaderboard_private"
   ]
  },
  {
   "cell_type": "code",
   "execution_count": 59,
   "id": "f65ce215",
   "metadata": {},
   "outputs": [
    {
     "name": "stdout",
     "output_type": "stream",
     "text": [
      ">>> How many teams are there in this contest?\n",
      "107\n",
      ">>> How many submissions are there in total?\n",
      "361\n",
      ">>> List the number of submissions for the most active 5 teams:\n",
      "TeamId\n",
      "751    23\n",
      "697    23\n",
      "788    19\n",
      "752    18\n",
      "737    18\n",
      "dtype: int64\n"
     ]
    }
   ],
   "source": [
    "# Display basic info\n",
    "tbl_submissions_2435 = contest_basic_submission_info(2435)\n",
    "\n",
    "# Create leaderboard\n",
    "leaderboard_pub, leaderboard_pri = leaderboard_fulfill(tbl_submissions_2435, deadline)"
   ]
  },
  {
   "cell_type": "markdown",
   "id": "53b9da15",
   "metadata": {},
   "source": [
    "#### Select the 2 Strongest Players"
   ]
  },
  {
   "cell_type": "code",
   "execution_count": 19,
   "id": "92a30aef",
   "metadata": {},
   "outputs": [
    {
     "name": "stdout",
     "output_type": "stream",
     "text": [
      "   rank      score  submit_count\n",
      "0   788  77.312103            19\n",
      "1   751  76.156097            23\n",
      "2   552  70.375702             8\n",
      "3   509  70.231201             7\n",
      "4   690  69.075104            11\n"
     ]
    }
   ],
   "source": [
    "_, tbl_submissions_2435_pri_top = leaderboard_pri.display(-1, 5)\n",
    "print(tbl_submissions_2435_pri_top)"
   ]
  },
  {
   "cell_type": "markdown",
   "id": "fd0e9517",
   "metadata": {},
   "source": [
    "We select the top 2 in private leaderboard."
   ]
  },
  {
   "cell_type": "markdown",
   "id": "cc1d9fa2",
   "metadata": {},
   "source": [
    "#### Save Contest Data to `.json` File"
   ]
  },
  {
   "cell_type": "code",
   "execution_count": 20,
   "id": "8433ca7c",
   "metadata": {},
   "outputs": [],
   "source": [
    "# print(leaderboard_pub.submission_records_of(751))\n",
    "# print(leaderboard_pub.submission_records_of(788))"
   ]
  },
  {
   "cell_type": "code",
   "execution_count": 21,
   "id": "f516a705",
   "metadata": {},
   "outputs": [],
   "source": [
    "tbl_hat_y = leaderboard_pub.real_time_gap_between(788, 751, delta=timedelta(hours=1))"
   ]
  },
  {
   "cell_type": "code",
   "execution_count": 22,
   "id": "cdd379c3",
   "metadata": {},
   "outputs": [
    {
     "data": {
      "text/plain": [
       "datetime.datetime(2010, 8, 2, 23, 42, 25)"
      ]
     },
     "execution_count": 22,
     "metadata": {},
     "output_type": "execute_result"
    }
   ],
   "source": [
    "leaderboard_pub.last_submission_time()"
   ]
  },
  {
   "cell_type": "code",
   "execution_count": 23,
   "id": "429b43ab",
   "metadata": {},
   "outputs": [
    {
     "data": {
      "application/vnd.microsoft.datawrangler.viewer.v0+json": {
       "columns": [
        {
         "name": "index",
         "rawType": "int64",
         "type": "integer"
        },
        {
         "name": "time",
         "rawType": "datetime64[ns]",
         "type": "datetime"
        },
        {
         "name": "hat_x_i",
         "rawType": "float64",
         "type": "float"
        },
        {
         "name": "hat_x_j",
         "rawType": "float64",
         "type": "float"
        },
        {
         "name": "hat_y",
         "rawType": "float64",
         "type": "float"
        }
       ],
       "conversionMethod": "pd.DataFrame",
       "ref": "483b1237-4359-4990-a068-4bc0eff48c0a",
       "rows": [
        [
         "0",
         "2010-07-16 00:00:00",
         "66.82689",
         "53.84619",
         "12.980700000000006"
        ],
        [
         "1",
         "2010-07-16 01:00:00",
         "66.82689",
         "53.84619",
         "12.980700000000006"
        ],
        [
         "2",
         "2010-07-16 02:00:00",
         "66.82689",
         "53.84619",
         "12.980700000000006"
        ],
        [
         "3",
         "2010-07-16 03:00:00",
         "66.82689",
         "53.84619",
         "12.980700000000006"
        ],
        [
         "4",
         "2010-07-16 04:00:00",
         "66.82689",
         "53.84619",
         "12.980700000000006"
        ],
        [
         "5",
         "2010-07-16 05:00:00",
         "66.82689",
         "53.84619",
         "12.980700000000006"
        ],
        [
         "6",
         "2010-07-16 06:00:00",
         "66.82689",
         "53.84619",
         "12.980700000000006"
        ],
        [
         "7",
         "2010-07-16 07:00:00",
         "66.82689",
         "53.84619",
         "12.980700000000006"
        ],
        [
         "8",
         "2010-07-16 08:00:00",
         "66.82689",
         "53.84619",
         "12.980700000000006"
        ],
        [
         "9",
         "2010-07-16 09:00:00",
         "66.82689",
         "53.84619",
         "12.980700000000006"
        ],
        [
         "10",
         "2010-07-16 10:00:00",
         "64.4231",
         "53.84619",
         "10.576910000000005"
        ],
        [
         "11",
         "2010-07-16 11:00:00",
         "64.4231",
         "53.84619",
         "10.576910000000005"
        ],
        [
         "12",
         "2010-07-16 12:00:00",
         "64.4231",
         "53.84619",
         "10.576910000000005"
        ],
        [
         "13",
         "2010-07-16 13:00:00",
         "64.4231",
         "53.84619",
         "10.576910000000005"
        ],
        [
         "14",
         "2010-07-16 14:00:00",
         "64.4231",
         "53.84619",
         "10.576910000000005"
        ],
        [
         "15",
         "2010-07-16 15:00:00",
         "64.4231",
         "53.84619",
         "10.576910000000005"
        ],
        [
         "16",
         "2010-07-16 16:00:00",
         "64.4231",
         "53.84619",
         "10.576910000000005"
        ],
        [
         "17",
         "2010-07-16 17:00:00",
         "64.4231",
         "53.84619",
         "10.576910000000005"
        ],
        [
         "18",
         "2010-07-16 18:00:00",
         "64.4231",
         "53.84619",
         "10.576910000000005"
        ],
        [
         "19",
         "2010-07-16 19:00:00",
         "64.4231",
         "53.84619",
         "10.576910000000005"
        ],
        [
         "20",
         "2010-07-16 20:00:00",
         "64.4231",
         "53.84619",
         "10.576910000000005"
        ],
        [
         "21",
         "2010-07-16 21:00:00",
         "64.4231",
         "53.84619",
         "10.576910000000005"
        ],
        [
         "22",
         "2010-07-16 22:00:00",
         "64.4231",
         "53.84619",
         "10.576910000000005"
        ],
        [
         "23",
         "2010-07-16 23:00:00",
         "64.4231",
         "53.84619",
         "10.576910000000005"
        ],
        [
         "24",
         "2010-07-17 00:00:00",
         "64.4231",
         "55.2885",
         "9.134600000000006"
        ],
        [
         "25",
         "2010-07-17 01:00:00",
         "64.4231",
         "55.2885",
         "9.134600000000006"
        ],
        [
         "26",
         "2010-07-17 02:00:00",
         "64.4231",
         "55.2885",
         "9.134600000000006"
        ],
        [
         "27",
         "2010-07-17 03:00:00",
         "64.4231",
         "55.2885",
         "9.134600000000006"
        ],
        [
         "28",
         "2010-07-17 04:00:00",
         "64.4231",
         "64.9038",
         "-0.4806999999999988"
        ],
        [
         "29",
         "2010-07-17 05:00:00",
         "64.4231",
         "64.9038",
         "-0.4806999999999988"
        ],
        [
         "30",
         "2010-07-17 06:00:00",
         "64.4231",
         "64.9038",
         "-0.4806999999999988"
        ],
        [
         "31",
         "2010-07-17 07:00:00",
         "64.9038",
         "64.9038",
         "0.0"
        ],
        [
         "32",
         "2010-07-17 08:00:00",
         "64.9038",
         "64.9038",
         "0.0"
        ],
        [
         "33",
         "2010-07-17 09:00:00",
         "64.9038",
         "64.9038",
         "0.0"
        ],
        [
         "34",
         "2010-07-17 10:00:00",
         "64.9038",
         "64.9038",
         "0.0"
        ],
        [
         "35",
         "2010-07-17 11:00:00",
         "64.9038",
         "64.9038",
         "0.0"
        ],
        [
         "36",
         "2010-07-17 12:00:00",
         "64.9038",
         "64.9038",
         "0.0"
        ],
        [
         "37",
         "2010-07-17 13:00:00",
         "64.9038",
         "64.9038",
         "0.0"
        ],
        [
         "38",
         "2010-07-17 14:00:00",
         "64.9038",
         "64.9038",
         "0.0"
        ],
        [
         "39",
         "2010-07-17 15:00:00",
         "64.9038",
         "64.9038",
         "0.0"
        ],
        [
         "40",
         "2010-07-17 16:00:00",
         "64.9038",
         "64.9038",
         "0.0"
        ],
        [
         "41",
         "2010-07-17 17:00:00",
         "64.9038",
         "64.9038",
         "0.0"
        ],
        [
         "42",
         "2010-07-17 18:00:00",
         "64.9038",
         "64.9038",
         "0.0"
        ],
        [
         "43",
         "2010-07-17 19:00:00",
         "64.9038",
         "64.9038",
         "0.0"
        ],
        [
         "44",
         "2010-07-17 20:00:00",
         "64.9038",
         "64.9038",
         "0.0"
        ],
        [
         "45",
         "2010-07-17 21:00:00",
         "64.9038",
         "64.9038",
         "0.0"
        ],
        [
         "46",
         "2010-07-17 22:00:00",
         "64.9038",
         "64.9038",
         "0.0"
        ],
        [
         "47",
         "2010-07-17 23:00:00",
         "64.9038",
         "64.9038",
         "0.0"
        ],
        [
         "48",
         "2010-07-18 00:00:00",
         "64.9038",
         "64.9038",
         "0.0"
        ],
        [
         "49",
         "2010-07-18 01:00:00",
         "64.9038",
         "64.9038",
         "0.0"
        ]
       ],
       "shape": {
        "columns": 4,
        "rows": 433
       }
      },
      "text/html": [
       "<div>\n",
       "<style scoped>\n",
       "    .dataframe tbody tr th:only-of-type {\n",
       "        vertical-align: middle;\n",
       "    }\n",
       "\n",
       "    .dataframe tbody tr th {\n",
       "        vertical-align: top;\n",
       "    }\n",
       "\n",
       "    .dataframe thead th {\n",
       "        text-align: right;\n",
       "    }\n",
       "</style>\n",
       "<table border=\"1\" class=\"dataframe\">\n",
       "  <thead>\n",
       "    <tr style=\"text-align: right;\">\n",
       "      <th></th>\n",
       "      <th>time</th>\n",
       "      <th>hat_x_i</th>\n",
       "      <th>hat_x_j</th>\n",
       "      <th>hat_y</th>\n",
       "    </tr>\n",
       "  </thead>\n",
       "  <tbody>\n",
       "    <tr>\n",
       "      <th>0</th>\n",
       "      <td>2010-07-16 00:00:00</td>\n",
       "      <td>66.82689</td>\n",
       "      <td>53.84619</td>\n",
       "      <td>12.9807</td>\n",
       "    </tr>\n",
       "    <tr>\n",
       "      <th>1</th>\n",
       "      <td>2010-07-16 01:00:00</td>\n",
       "      <td>66.82689</td>\n",
       "      <td>53.84619</td>\n",
       "      <td>12.9807</td>\n",
       "    </tr>\n",
       "    <tr>\n",
       "      <th>2</th>\n",
       "      <td>2010-07-16 02:00:00</td>\n",
       "      <td>66.82689</td>\n",
       "      <td>53.84619</td>\n",
       "      <td>12.9807</td>\n",
       "    </tr>\n",
       "    <tr>\n",
       "      <th>3</th>\n",
       "      <td>2010-07-16 03:00:00</td>\n",
       "      <td>66.82689</td>\n",
       "      <td>53.84619</td>\n",
       "      <td>12.9807</td>\n",
       "    </tr>\n",
       "    <tr>\n",
       "      <th>4</th>\n",
       "      <td>2010-07-16 04:00:00</td>\n",
       "      <td>66.82689</td>\n",
       "      <td>53.84619</td>\n",
       "      <td>12.9807</td>\n",
       "    </tr>\n",
       "    <tr>\n",
       "      <th>...</th>\n",
       "      <td>...</td>\n",
       "      <td>...</td>\n",
       "      <td>...</td>\n",
       "      <td>...</td>\n",
       "    </tr>\n",
       "    <tr>\n",
       "      <th>428</th>\n",
       "      <td>2010-08-02 20:00:00</td>\n",
       "      <td>73.07689</td>\n",
       "      <td>94.23079</td>\n",
       "      <td>-21.1539</td>\n",
       "    </tr>\n",
       "    <tr>\n",
       "      <th>429</th>\n",
       "      <td>2010-08-02 21:00:00</td>\n",
       "      <td>73.07689</td>\n",
       "      <td>94.23079</td>\n",
       "      <td>-21.1539</td>\n",
       "    </tr>\n",
       "    <tr>\n",
       "      <th>430</th>\n",
       "      <td>2010-08-02 22:00:00</td>\n",
       "      <td>73.07689</td>\n",
       "      <td>94.23079</td>\n",
       "      <td>-21.1539</td>\n",
       "    </tr>\n",
       "    <tr>\n",
       "      <th>431</th>\n",
       "      <td>2010-08-02 23:00:00</td>\n",
       "      <td>73.07689</td>\n",
       "      <td>94.23079</td>\n",
       "      <td>-21.1539</td>\n",
       "    </tr>\n",
       "    <tr>\n",
       "      <th>432</th>\n",
       "      <td>2010-08-03 00:00:00</td>\n",
       "      <td>74.03849</td>\n",
       "      <td>94.23079</td>\n",
       "      <td>-20.1923</td>\n",
       "    </tr>\n",
       "  </tbody>\n",
       "</table>\n",
       "<p>433 rows × 4 columns</p>\n",
       "</div>"
      ],
      "text/plain": [
       "                   time   hat_x_i   hat_x_j    hat_y\n",
       "0   2010-07-16 00:00:00  66.82689  53.84619  12.9807\n",
       "1   2010-07-16 01:00:00  66.82689  53.84619  12.9807\n",
       "2   2010-07-16 02:00:00  66.82689  53.84619  12.9807\n",
       "3   2010-07-16 03:00:00  66.82689  53.84619  12.9807\n",
       "4   2010-07-16 04:00:00  66.82689  53.84619  12.9807\n",
       "..                  ...       ...       ...      ...\n",
       "428 2010-08-02 20:00:00  73.07689  94.23079 -21.1539\n",
       "429 2010-08-02 21:00:00  73.07689  94.23079 -21.1539\n",
       "430 2010-08-02 22:00:00  73.07689  94.23079 -21.1539\n",
       "431 2010-08-02 23:00:00  73.07689  94.23079 -21.1539\n",
       "432 2010-08-03 00:00:00  74.03849  94.23079 -20.1923\n",
       "\n",
       "[433 rows x 4 columns]"
      ]
     },
     "execution_count": 23,
     "metadata": {},
     "output_type": "execute_result"
    }
   ],
   "source": [
    "tbl_hat_y"
   ]
  },
  {
   "cell_type": "code",
   "execution_count": 78,
   "id": "3b5bf1fc",
   "metadata": {},
   "outputs": [],
   "source": [
    "def save_contest_data(contest_id, team_i_id: int, team_j_id: int):\n",
    "\t# json file & utils\n",
    "\twd = os.getcwd()\n",
    "\twd_synthetic_data = os.path.join(wd, f'__jsondata__/contest_{contest_id}.json')\n",
    "\troundint = lambda x: int(round(x))\n",
    "\n",
    "\t# contest setting\n",
    "\tcontest_info = tbl_contests.loc[tbl_contests['Id'] == contest_id]\n",
    "\tparam_theta = contest_info['RewardQuantity'].values[0] / 1000\n",
    "\tparam_r = 15\n",
    "\ttime_unit_2f = 1 / 24\n",
    "\n",
    "\t# observations\n",
    "\tcontest_submissions = tbl_submissions.loc[tbl_submissions['CompetitionId']==contest_id]\n",
    "\tleaderboard_pub, _ = leaderboard_fulfill(contest_submissions, deadline)\n",
    "\n",
    "\ttbl_hat_y = leaderboard_pub.real_time_gap_between(team_i_id, team_j_id, delta=timedelta(hours=1))\n",
    "\tstart_time: datetime = tbl_hat_y['time'].iloc[0].to_pydatetime() - timedelta(hours=1)\n",
    "\tend_time: datetime = tbl_hat_y['time'].iloc[-1].to_pydatetime() + timedelta(hours=1)\n",
    "\tobserved_gap_dynamic = tbl_hat_y['hat_y']\n",
    "\n",
    "\tobserved_i_commits = leaderboard_pub.submission_records_of(team_i_id)['time']\n",
    "\tobserved_i_commits = observed_i_commits.loc[observed_i_commits > start_time].tolist()\n",
    "\tobserved_j_commits = leaderboard_pub.submission_records_of(team_j_id)['time']\n",
    "\tobserved_j_commits = observed_j_commits.loc[observed_j_commits > start_time].tolist()\n",
    "\n",
    "\twith open(wd_synthetic_data, 'w') as f:\n",
    "\t\tjson.dump({\n",
    "\t\t\t'theta': param_theta,\n",
    "\t\t\t'ratio': param_r,\n",
    "\t\t\t'N_Delta': roundint((end_time - start_time).total_seconds() / 3600),\n",
    "\t\t\t'Delta2f': time_unit_2f,\n",
    "\t\t\t'Ni': len(observed_i_commits),\n",
    "\t\t\t'Nj': len(observed_j_commits),\n",
    "\t\t\t'hat_t_i': [(dt - start_time).total_seconds() / 3600 for dt in observed_i_commits],\n",
    "\t\t\t'hat_t_j': [(dt - start_time).total_seconds() / 3600 for dt in observed_j_commits],\n",
    "\t\t\t'hat_y': observed_gap_dynamic.tolist(),\n",
    "\t\t}, f, indent=4)\n"
   ]
  },
  {
   "cell_type": "code",
   "execution_count": 79,
   "id": "38f9ad64",
   "metadata": {},
   "outputs": [],
   "source": [
    "save_contest_data(2435, 751, 788)"
   ]
  }
 ],
 "metadata": {
  "kernelspec": {
   "display_name": ".venv",
   "language": "python",
   "name": "python3"
  },
  "language_info": {
   "codemirror_mode": {
    "name": "ipython",
    "version": 3
   },
   "file_extension": ".py",
   "mimetype": "text/x-python",
   "name": "python",
   "nbconvert_exporter": "python",
   "pygments_lexer": "ipython3",
   "version": "3.13.2"
  }
 },
 "nbformat": 4,
 "nbformat_minor": 5
}
