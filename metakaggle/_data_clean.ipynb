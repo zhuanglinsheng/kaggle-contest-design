{
 "cells": [
  {
   "cell_type": "markdown",
   "id": "048e6c3e",
   "metadata": {},
   "source": [
    "# Explore `meta-kaggle` Dataset"
   ]
  },
  {
   "cell_type": "markdown",
   "id": "f3136aec",
   "metadata": {},
   "source": [
    "## --- Data Clean"
   ]
  },
  {
   "cell_type": "markdown",
   "id": "08eeebe3",
   "metadata": {},
   "source": [
    "Pre-requisites: \n",
    "\n",
    "1. Install Python package `kaggle`\n",
    "2. [Create token](https://www.kaggle.com/docs/api) and \n",
    "3. Put the `kaggle.json` file to the `.kaggle` folder of your home directory\n",
    "4. Download dataset `meta-kaggle` if haven't yet, by excuting: \n",
    "   ```python\n",
    "   import api\n",
    "   api.download_rawdata(rawdata_path)\n",
    "   ```"
   ]
  },
  {
   "cell_type": "code",
   "execution_count": 1,
   "id": "76d0f266",
   "metadata": {},
   "outputs": [],
   "source": [
    "# std library\n",
    "import os\n",
    "import json\n",
    "from datetime import datetime, timedelta\n",
    "from pprint import pprint\n",
    "\n",
    "# third-party\n",
    "import pandas as pd\n",
    "import numpy as np\n",
    "from matplotlib import pyplot as plt\n",
    "\n",
    "# local\n",
    "from datafilter import table_filter\n",
    "from leaderboard import Leaderboard"
   ]
  },
  {
   "cell_type": "code",
   "execution_count": 2,
   "id": "457a7f2d",
   "metadata": {},
   "outputs": [],
   "source": [
    "rawdata_path = os.path.abspath('./__rawdata__')"
   ]
  },
  {
   "cell_type": "markdown",
   "id": "88b86395",
   "metadata": {},
   "source": [
    "### 1. Mapping Datasets"
   ]
  },
  {
   "cell_type": "markdown",
   "id": "15309878",
   "metadata": {},
   "source": [
    "Create a dataset of submissions, containing the following fields:\n",
    "- Id \n",
    "- TeamId \n",
    "- CompetitionId \n",
    "- SubmissionDate\n",
    "- PublicScore\n",
    "- PrivateScore"
   ]
  },
  {
   "cell_type": "code",
   "execution_count": 3,
   "id": "e9ddc353",
   "metadata": {},
   "outputs": [],
   "source": [
    "# Submissions\n",
    "# - TeamId\n",
    "# - SubmissionDate\n",
    "tbl_submissions = table_filter( \\\n",
    "\t'Submissions', rawdata_path,\n",
    "\tfields = ['Id', 'TeamId', 'SubmissionDate', 'IsAfterDeadline',\n",
    "\t\t'PublicScoreLeaderboardDisplay', 'PrivateScoreFullPrecision'],\n",
    "\tfields_index = ['Id'],\n",
    "\tfields_datetime = ['SubmissionDate'],\n",
    ")\n",
    "# drop all submissions after deadlines\n",
    "tbl_submissions = tbl_submissions[~tbl_submissions['IsAfterDeadline']]\n",
    "tbl_submissions.drop('IsAfterDeadline', axis=1, inplace=True)\n",
    "# rename long name\n",
    "tbl_submissions.rename(columns={\n",
    "\t'PublicScoreLeaderboardDisplay': 'PublicScore',\n",
    "\t'PrivateScoreFullPrecision': 'PrivateScore'\n",
    "}, inplace=True)\n",
    "# drop duplicated\n",
    "## One team can submit only once at a time point\n",
    "tbl_submissions = tbl_submissions.drop_duplicates(subset=['SubmissionDate', 'TeamId'])"
   ]
  },
  {
   "cell_type": "code",
   "execution_count": 4,
   "id": "c69a4698",
   "metadata": {},
   "outputs": [],
   "source": [
    "# Mapping: Teams\n",
    "# - CompetitionId\n",
    "map_teams_competitions = table_filter( \\\n",
    "\t'Teams', rawdata_path,\n",
    "\tfields = ['Id', 'CompetitionId'],\n",
    "\tfields_index = ['Id'],\n",
    ")"
   ]
  },
  {
   "cell_type": "code",
   "execution_count": 5,
   "id": "342a432c",
   "metadata": {},
   "outputs": [
    {
     "data": {
      "text/plain": [
       "Id                         int64\n",
       "TeamId                     int64\n",
       "SubmissionDate    datetime64[ns]\n",
       "PublicScore              float64\n",
       "PrivateScore             float64\n",
       "CompetitionId              int64\n",
       "dtype: object"
      ]
     },
     "execution_count": 5,
     "metadata": {},
     "output_type": "execute_result"
    }
   ],
   "source": [
    "# Merge `Submissions` and `TeamsCompetition`\n",
    "tbl_submissions = pd.merge(tbl_submissions, map_teams_competitions,\n",
    "\thow = 'left', left_on = 'TeamId', right_on = 'Id', sort = False,\n",
    "\tsuffixes=('', '_Team'))\n",
    "tbl_submissions.drop(columns='Id_Team', inplace=True)\n",
    "tbl_submissions.dtypes"
   ]
  },
  {
   "cell_type": "markdown",
   "id": "338d7da7",
   "metadata": {},
   "source": [
    "### 2. Splitting Contests by Types, Filter"
   ]
  },
  {
   "cell_type": "code",
   "execution_count": 6,
   "id": "c04e9d5d",
   "metadata": {},
   "outputs": [
    {
     "data": {
      "text/plain": [
       "9442"
      ]
     },
     "execution_count": 6,
     "metadata": {},
     "output_type": "execute_result"
    }
   ],
   "source": [
    "# Table of Contests\n",
    "tbl_contests = table_filter( \\\n",
    "\t'Competitions', rawdata_path,\n",
    "\tfields=['Id',\n",
    "\t\t'EnabledDate', 'DeadlineDate', 'ProhibitNewEntrantsDeadlineDate',\n",
    "\t\t'TeamMergerDeadlineDate', 'TeamModelDeadlineDate', 'TeamModelDeadlineDate',\n",
    "\t\t'ModelSubmissionDeadlineDate',\n",
    "\t\t'HasLeaderboard', 'LeaderboardPercentage', 'MaxDailySubmissions',\n",
    "\t\t'RewardType', 'RewardQuantity', 'NumPrizes',\n",
    "\t\t'FinalLeaderboardHasBeenVerified'\n",
    "\t],\n",
    "\tfields_datetime=[\n",
    "\t\t'EnabledDate', 'DeadlineDate', 'ProhibitNewEntrantsDeadlineDate',\n",
    "\t\t'TeamMergerDeadlineDate', 'TeamModelDeadlineDate', 'TeamModelDeadlineDate',\n",
    "\t\t'ModelSubmissionDeadlineDate'\n",
    "\t],\n",
    "\tfields_index=['Id'],\n",
    ")\n",
    "len(tbl_contests)"
   ]
  },
  {
   "cell_type": "code",
   "execution_count": 7,
   "id": "e89a1c78",
   "metadata": {},
   "outputs": [
    {
     "name": "stdout",
     "output_type": "stream",
     "text": [
      ">>> Filter 1: How many contests are there having records of submissions from players?\n",
      "5693\n",
      ">>> We only consider these contests\n"
     ]
    }
   ],
   "source": [
    "print('>>> Filter 1: How many contests are there having records of submissions from players?')\n",
    "lst_contests_with_submissions = tbl_submissions['CompetitionId'].unique()\n",
    "print(len(lst_contests_with_submissions))\n",
    "\n",
    "# Filter 1\n",
    "print('>>> We only consider these contests')\n",
    "tbl_contests = tbl_contests[tbl_contests['Id'].isin(lst_contests_with_submissions)]\n",
    "tbl_submissions = tbl_submissions.loc[tbl_submissions['CompetitionId'].isin(tbl_contests['Id'])]"
   ]
  },
  {
   "cell_type": "code",
   "execution_count": 8,
   "id": "7d461d8f",
   "metadata": {},
   "outputs": [
    {
     "name": "stdout",
     "output_type": "stream",
     "text": [
      ">>> Filter 2: In above, how many contests are there having public leaderboard?\n",
      "5693\n",
      ">>> We only consider these contests\n"
     ]
    }
   ],
   "source": [
    "print('>>> Filter 2: In above, how many contests are there having public leaderboard?')\n",
    "lst_contests_with_leaderboard = tbl_contests.loc[tbl_contests['HasLeaderboard']==True]['Id']\n",
    "print(len(lst_contests_with_submissions))\n",
    "\n",
    "# Filter 2\n",
    "print('>>> We only consider these contests')\n",
    "tbl_contests = tbl_contests[tbl_contests['Id'].isin(lst_contests_with_leaderboard)]\n",
    "tbl_submissions = tbl_submissions.loc[tbl_submissions['CompetitionId'].isin(tbl_contests['Id'])]"
   ]
  },
  {
   "cell_type": "code",
   "execution_count": 9,
   "id": "4a97d645",
   "metadata": {},
   "outputs": [
    {
     "name": "stdout",
     "output_type": "stream",
     "text": [
      ">>> Is there never-ending contests?\n",
      "0\n",
      "0\n"
     ]
    }
   ],
   "source": [
    "print('>>> Is there never-ending contests?')\n",
    "forever_date = datetime(2029, 1, 1, 0, 0, 0)\n",
    "print((tbl_contests['DeadlineDate'] > forever_date).sum())\n",
    "print((tbl_contests['DeadlineDate'].isna()).sum())"
   ]
  },
  {
   "cell_type": "code",
   "execution_count": 10,
   "id": "51534011",
   "metadata": {},
   "outputs": [
    {
     "name": "stdout",
     "output_type": "stream",
     "text": [
      ">>> How many reward types are there?\n",
      "RewardType\n",
      "NaN          4777\n",
      "USD           407\n",
      "Knowledge     381\n",
      "Swag           95\n",
      "Jobs           14\n",
      "Kudos          10\n",
      "Prizes          6\n",
      "EUR             1\n",
      "Name: count, dtype: int64\n"
     ]
    }
   ],
   "source": [
    "print('>>> How many reward types are there?')\n",
    "print(tbl_contests['RewardType'].value_counts(dropna=False))"
   ]
  },
  {
   "cell_type": "code",
   "execution_count": 11,
   "id": "2c6dd693",
   "metadata": {},
   "outputs": [
    {
     "name": "stdout",
     "output_type": "stream",
     "text": [
      ">>> List of the number of contests providing multiple prize:\n",
      "NumPrizes\n",
      "1     4721\n",
      "0      498\n",
      "3      292\n",
      "5       82\n",
      "4       28\n",
      "10      18\n",
      "6       16\n",
      "2       11\n",
      "8       10\n",
      "7        9\n",
      "9        4\n",
      "13       1\n",
      "12       1\n",
      "Name: count, dtype: int64\n"
     ]
    }
   ],
   "source": [
    "print('>>> List of the number of contests providing multiple prize:')\n",
    "pprint(tbl_contests['NumPrizes'].value_counts())"
   ]
  },
  {
   "cell_type": "code",
   "execution_count": 12,
   "id": "554a914d",
   "metadata": {},
   "outputs": [],
   "source": [
    "# Split contests with prize type\n",
    "lst_contest_Usd = tbl_contests.loc[tbl_contests['RewardType']=='USD']['Id']\n",
    "lst_contest_Knowledge = tbl_contests.loc[tbl_contests['RewardType']=='Knowledge']['Id']\n",
    "lst_contest_Swag = tbl_contests.loc[tbl_contests['RewardType']=='Swag']['Id']\n",
    "lst_contest_Kudos = tbl_contests.loc[tbl_contests['RewardType']=='Kudos']['Id']\n",
    "lst_contest_EUR = tbl_contests.loc[tbl_contests['RewardType']=='EUR']['Id']\n",
    "\n",
    "# Split contests with prize number\n",
    "lst_contest_1_prize = tbl_contests.loc[tbl_contests['NumPrizes']==1]['Id']\n",
    "lst_contest_2_prize = tbl_contests.loc[tbl_contests['NumPrizes']==2]['Id']\n",
    "lst_contest_3_prize = tbl_contests.loc[tbl_contests['NumPrizes']==3]['Id']\n",
    "lst_contest_4_prize = tbl_contests.loc[tbl_contests['NumPrizes']==4]['Id']\n",
    "lst_contest_5_prize = tbl_contests.loc[tbl_contests['NumPrizes']==5]['Id']\n",
    "lst_contest_6_prize = tbl_contests.loc[tbl_contests['NumPrizes']==6]['Id']\n",
    "lst_contest_7_prize = tbl_contests.loc[tbl_contests['NumPrizes']==7]['Id']\n",
    "lst_contest_8_prize = tbl_contests.loc[tbl_contests['NumPrizes']==8]['Id']\n",
    "lst_contest_9_prize = tbl_contests.loc[tbl_contests['NumPrizes']==9]['Id']"
   ]
  },
  {
   "cell_type": "markdown",
   "id": "c566eedb",
   "metadata": {},
   "source": [
    "### 3. Select contest providing single USD prize"
   ]
  },
  {
   "cell_type": "code",
   "execution_count": 13,
   "id": "220bcc66",
   "metadata": {},
   "outputs": [],
   "source": [
    "# select\n",
    "tbl_contest_1_Usd_prize = tbl_contests[tbl_contests['Id'].isin(lst_contest_Usd)]\n",
    "tbl_contest_1_Usd_prize = tbl_contest_1_Usd_prize[tbl_contest_1_Usd_prize['Id'].isin(lst_contest_1_prize)]\n",
    "\n",
    "# filter\n",
    "tbl_contest_1_Usd_prize = tbl_contest_1_Usd_prize.loc[tbl_contest_1_Usd_prize['RewardQuantity'] > 0]\n",
    "lst_contest_1_Usd_prize = tbl_contest_1_Usd_prize['Id'].values"
   ]
  },
  {
   "cell_type": "code",
   "execution_count": 14,
   "id": "8d5727d6",
   "metadata": {},
   "outputs": [
    {
     "data": {
      "text/plain": [
       "(array([2435, 2445, 2448, 2452, 2454, 2464, 2467, 2478, 2479, 2487, 2488,\n",
       "        2496, 2549, 2589, 2762, 2860, 2895, 2963, 3065, 3294, 3364, 3370,\n",
       "        3377, 3385, 3386, 3469, 3493, 3507, 3521, 3526, 3586, 3706, 3867,\n",
       "        3928, 3973, 3984, 4195, 4378, 4383, 4493, 4495, 4704]),\n",
       " 42)"
      ]
     },
     "execution_count": 14,
     "metadata": {},
     "output_type": "execute_result"
    }
   ],
   "source": [
    "lst_contest_1_Usd_prize, len(lst_contest_1_Usd_prize)"
   ]
  },
  {
   "cell_type": "markdown",
   "id": "adf240fc",
   "metadata": {},
   "source": [
    "### 4. Extract Info from these Contests"
   ]
  },
  {
   "cell_type": "code",
   "execution_count": 15,
   "id": "95ff04dd",
   "metadata": {},
   "outputs": [
    {
     "data": {
      "text/plain": [
       "Index(['Id', 'EnabledDate', 'DeadlineDate', 'ProhibitNewEntrantsDeadlineDate',\n",
       "       'TeamMergerDeadlineDate', 'TeamModelDeadlineDate',\n",
       "       'ModelSubmissionDeadlineDate', 'FinalLeaderboardHasBeenVerified',\n",
       "       'HasLeaderboard', 'LeaderboardPercentage', 'MaxDailySubmissions',\n",
       "       'RewardType', 'RewardQuantity', 'NumPrizes'],\n",
       "      dtype='object')"
      ]
     },
     "execution_count": 15,
     "metadata": {},
     "output_type": "execute_result"
    }
   ],
   "source": [
    "tbl_contests.columns"
   ]
  },
  {
   "cell_type": "code",
   "execution_count": 16,
   "id": "4b71d189",
   "metadata": {},
   "outputs": [],
   "source": [
    "def contest_basic_setting(contest_id: int):\n",
    "\ttbl_contest_info = tbl_contests.loc[tbl_contests['Id'] == contest_id]\n",
    "\t# prize\n",
    "\tprize = tbl_contest_info['RewardQuantity'].iloc[0]\n",
    "\t# deadline\n",
    "\tdeadline = tbl_contest_info['DeadlineDate'].iloc[0].to_pydatetime()\n",
    "\tdeadline = deadline.replace(hour=0, minute=0, second=0, microsecond=0)\n",
    "\tdeadline += timedelta(days=1)\n",
    "\t# others\n",
    "\tmax_daily_submit = tbl_contest_info['MaxDailySubmissions'].iloc[0]\n",
    "\tpercentage = tbl_contest_info['LeaderboardPercentage'].iloc[0]\n",
    "\treturn deadline, prize, max_daily_submit, percentage\n",
    "\n",
    "def contest_basic_submission_info(contest_id: int) -> pd.DataFrame:\n",
    "\ttbl = tbl_submissions.loc[tbl_submissions['CompetitionId']==contest_id]\n",
    "\tprint('>>> How many teams are there in this contest?')\n",
    "\tprint(tbl['TeamId'].unique().size)\n",
    "\tprint('>>> How many submissions are there in total?')\n",
    "\tprint(len(tbl))\n",
    "\tprint('>>> List the number of submissions for the most active 5 teams:')\n",
    "\tprint(tbl.groupby('TeamId').size().sort_values(ascending=False).head(5))\n",
    "\treturn tbl\n",
    "\n",
    "def randomize_within_day(group: pd.Series, seed = 1234):\n",
    "\trgn = np.random.default_rng(seed)\n",
    "\tseconds = rgn.choice(range(86400), size=len(group), replace=False)\n",
    "\tseconds.sort()\n",
    "\trandomized_times = group + pd.to_timedelta(seconds, unit='s')\n",
    "\treturn randomized_times\n",
    "\n",
    "def leaderboard_fulfill(tbl_contest_submissions, deadline: datetime):\n",
    "\tleaderboard_public = Leaderboard()\n",
    "\tleaderboard_private = Leaderboard()\n",
    "\ttbl_contest_submissions_sorted = tbl_contest_submissions.sort_values(by='SubmissionDate')\n",
    "\tsubmission_dates = tbl_contest_submissions_sorted['SubmissionDate']\n",
    "\tsubmission_datetimes = submission_dates.groupby(submission_dates).apply(randomize_within_day).reset_index(level=0, drop=True)\n",
    "\tfor idx_row, row in tbl_contest_submissions_sorted.iterrows():\n",
    "\t\ttime = submission_datetimes[idx_row].to_pydatetime()\n",
    "\t\tif time > deadline:\n",
    "\t\t\tbreak\n",
    "\t\tteam_id = row['TeamId']\n",
    "\t\tscore_pub = row['PublicScore']\n",
    "\t\tscore_pri = row['PrivateScore']\n",
    "\t\tleaderboard_public.refresh(time, team_id, score_pub)\n",
    "\t\tleaderboard_private.refresh(time, team_id, score_pri)\n",
    "\treturn leaderboard_public, leaderboard_private\n",
    "\n",
    "def save_contest_data(contest_id, team_i_id: int, team_j_id: int):\n",
    "\t# json file & utils\n",
    "\twd = os.getcwd()\n",
    "\twd_synthetic_data = os.path.join(wd, f'__jsondata__/contest_{contest_id}.json')\n",
    "\troundint = lambda x: int(round(x))\n",
    "\n",
    "\t# contest setting\n",
    "\tdeadline, prize, max_daily_submit, percentage = contest_basic_setting(contest_id)\n",
    "\tparam_theta = prize / 1000\n",
    "\tparam_r = 15\n",
    "\ttime_unit_2f = 1 / 24\n",
    "\n",
    "\t# observations\n",
    "\tcontest_submissions = tbl_submissions.loc[tbl_submissions['CompetitionId']==contest_id]\n",
    "\tleaderboard_pub, _ = leaderboard_fulfill(contest_submissions, deadline)\n",
    "\n",
    "\ttbl_hat_y = leaderboard_pub.real_time_gap_between(team_i_id, team_j_id, delta=timedelta(hours=1))\n",
    "\tstart_time: datetime = tbl_hat_y['time'].iloc[0].to_pydatetime()\n",
    "\tend_time: datetime = tbl_hat_y['time'].iloc[-1].to_pydatetime() + timedelta(hours=1)\n",
    "\tobserved_gap_dynamic = tbl_hat_y['hat_y'].tolist()\n",
    "\n",
    "\tobserved_i_commits = leaderboard_pub.submission_records_of(team_i_id)['time']\n",
    "\tobserved_i_commits = observed_i_commits.loc[observed_i_commits > start_time].tolist()\n",
    "\tobserved_j_commits = leaderboard_pub.submission_records_of(team_j_id)['time']\n",
    "\tobserved_j_commits = observed_j_commits.loc[observed_j_commits > start_time].tolist()\n",
    "\n",
    "\twith open(wd_synthetic_data, 'w') as f:\n",
    "\t\tjson.dump({\n",
    "\t\t\t'theta': param_theta,\n",
    "\t\t\t'ratio': param_r,\n",
    "\t\t\t'N_Delta': roundint((end_time - start_time).total_seconds() / 3600),\n",
    "\t\t\t'Delta2f': time_unit_2f,\n",
    "\t\t\t'Ni': len(observed_i_commits),\n",
    "\t\t\t'Nj': len(observed_j_commits),\n",
    "\t\t\t'hat_t_i': [(dt - start_time).total_seconds() / 3600 for dt in observed_i_commits],\n",
    "\t\t\t'hat_t_j': [(dt - start_time).total_seconds() / 3600 for dt in observed_j_commits],\n",
    "\t\t\t'hat_y': observed_gap_dynamic,\n",
    "\t\t}, f, indent=4)\n"
   ]
  },
  {
   "cell_type": "markdown",
   "id": "b155901c",
   "metadata": {},
   "source": [
    "### 5. Example"
   ]
  },
  {
   "cell_type": "code",
   "execution_count": 17,
   "id": "3d71c7ab",
   "metadata": {},
   "outputs": [
    {
     "data": {
      "text/plain": [
       "array([2435, 2445, 2448, 2452, 2454, 2464, 2467, 2478, 2479, 2487, 2488,\n",
       "       2496, 2549, 2589, 2762, 2860, 2895, 2963, 3065, 3294, 3364, 3370,\n",
       "       3377, 3385, 3386, 3469, 3493, 3507, 3521, 3526, 3586, 3706, 3867,\n",
       "       3928, 3973, 3984, 4195, 4378, 4383, 4493, 4495, 4704])"
      ]
     },
     "execution_count": 17,
     "metadata": {},
     "output_type": "execute_result"
    }
   ],
   "source": [
    "lst_contest_1_Usd_prize"
   ]
  },
  {
   "cell_type": "code",
   "execution_count": 18,
   "id": "f5ac3eac",
   "metadata": {},
   "outputs": [
    {
     "name": "stdout",
     "output_type": "stream",
     "text": [
      ">>> prize = 10000.0\n",
      ">>> percentage = 30 %\n",
      ">>> daily submit (max) = 2\n",
      ">>> deadline = 2011-02-14 00:00:00\n",
      ">>> How many teams are there in this contest?\n",
      "354\n",
      ">>> How many submissions are there in total?\n",
      "1829\n",
      ">>> List the number of submissions for the most active 5 teams:\n",
      "TeamId\n",
      "1898    68\n",
      "2013    41\n",
      "1692    33\n",
      "2622    32\n",
      "2488    31\n",
      "dtype: int64\n"
     ]
    }
   ],
   "source": [
    "contest_id = 2467\n",
    "\n",
    "# Contest settings\n",
    "deadline, prize, max_daily_submit, percentage = contest_basic_setting(contest_id)\n",
    "print('>>> prize =', prize)\n",
    "print('>>> percentage =', percentage, '%')\n",
    "print('>>> daily submit (max) =', max_daily_submit)\n",
    "print('>>> deadline =', deadline)\n",
    "\n",
    "# Display basic info\n",
    "tbl_submissions_specific = contest_basic_submission_info(contest_id)\n",
    "\n",
    "# Create leaderboard\n",
    "leaderboard_pub, leaderboard_pri = leaderboard_fulfill(tbl_submissions_specific, deadline)"
   ]
  },
  {
   "cell_type": "code",
   "execution_count": 27,
   "id": "a051bd88",
   "metadata": {},
   "outputs": [
    {
     "data": {
      "text/plain": [
       "{1599, 1624, 1668, 1757, 3349}"
      ]
     },
     "execution_count": 27,
     "metadata": {},
     "output_type": "execute_result"
    }
   ],
   "source": [
    "candicates = leaderboard_pri.get_final_rank()[:5]\n",
    "candicates_set = set()\n",
    "for c in candicates:\n",
    "\tcandicates_set.add(c)\n",
    "candicates_set"
   ]
  },
  {
   "cell_type": "code",
   "execution_count": null,
   "id": "2fa481db",
   "metadata": {},
   "outputs": [],
   "source": [
    "def select_2_strongest(contest_id: int) -> tuple[int, int]:\n",
    "\t\"\"\"\n",
    "\t\"\"\"\n",
    "\ttbl = tbl_submissions.loc[tbl_submissions['CompetitionId']==contest_id]\n",
    "\tleaderboard_pub, leaderboard_pri = leaderboard_fulfill(tbl_submissions_specific, deadline)\n",
    "\tpub_final_rank = leaderboard_pub.display(-1)\n",
    "\tpri_final_rank = leaderboard_pri.display(-1)\n",
    "\n",
    "\treturn 0, 0"
   ]
  },
  {
   "cell_type": "code",
   "execution_count": 21,
   "id": "92a30aef",
   "metadata": {},
   "outputs": [
    {
     "name": "stdout",
     "output_type": "stream",
     "text": [
      "   rank         score  submit_count  participate_days  last_submit_days_ago\n",
      "0  1668  66551.296875             9                80                     4\n",
      "1  1599    821.607971             3                81                    72\n",
      "2  1624    798.408020             1                81                    81\n",
      "3  3349    797.265015             1                 8                     8\n",
      "4  1757    720.054016             5                75                    66\n",
      "5  1783    666.775024             6                74                    65\n",
      "6  3464    665.335999             2                 3                     2\n",
      "7  1643    661.796997             7                80                    67\n",
      "8  3587    557.682007             1                 0                     0\n",
      "9  3484    518.742004             1                 3                     3\n"
     ]
    }
   ],
   "source": [
    "# Select the 2 Strongest Players\n",
    "_, tbl_submissions_specific_pri_top = leaderboard_pri.display(-1, 10)\n",
    "print(tbl_submissions_specific_pri_top)"
   ]
  },
  {
   "cell_type": "code",
   "execution_count": 22,
   "id": "c8ffc60e",
   "metadata": {},
   "outputs": [
    {
     "data": {
      "text/plain": [
       "(datetime.datetime(2011, 2, 13, 23, 48, 12),\n",
       "    rank        score  submit_count  participate_days  last_submit_days_ago\n",
       " 0  1668  68301.89843             9                80                     4\n",
       " 1  1643    958.26300             7                80                    67\n",
       " 2  1624    832.48101             1                81                    81\n",
       " 3  1599    830.48797             3                81                    72\n",
       " 4  3349    814.11199             1                 8                     8\n",
       " 5  1757    725.29901             5                75                    66\n",
       " 6  3464    685.97601             2                 3                     2\n",
       " 7  1783    673.47399             6                74                    65\n",
       " 8  3587    557.73498             1                 0                     0\n",
       " 9  3527    543.85302             1                 1                     1)"
      ]
     },
     "execution_count": 22,
     "metadata": {},
     "output_type": "execute_result"
    }
   ],
   "source": [
    "leaderboard_pub.display(-1, 10)"
   ]
  },
  {
   "cell_type": "code",
   "execution_count": 23,
   "id": "2ead0f61",
   "metadata": {},
   "outputs": [
    {
     "data": {
      "application/vnd.microsoft.datawrangler.viewer.v0+json": {
       "columns": [
        {
         "name": "index",
         "rawType": "int64",
         "type": "integer"
        },
        {
         "name": "time",
         "rawType": "datetime64[ns]",
         "type": "datetime"
        },
        {
         "name": "rank",
         "rawType": "int64",
         "type": "integer"
        },
        {
         "name": "score",
         "rawType": "float64",
         "type": "float"
        }
       ],
       "conversionMethod": "pd.DataFrame",
       "ref": "0b96c259-3c5f-452a-ade1-e5ae937ba849",
       "rows": [
        [
         "0",
         "2010-12-03 03:19:49",
         "32",
         "234.02099"
        ],
        [
         "0",
         "2010-12-04 12:51:51",
         "55",
         "226.8"
        ],
        [
         "0",
         "2010-12-05 02:31:01",
         "57",
         "226.143"
        ],
        [
         "0",
         "2010-12-06 05:48:06",
         "36",
         "239.60899"
        ],
        [
         "0",
         "2010-12-07 04:06:41",
         "70",
         "224.212"
        ],
        [
         "0",
         "2010-12-08 07:38:37",
         "79",
         "224.97999"
        ],
        [
         "0",
         "2010-12-09 10:35:02",
         "81",
         "224.151"
        ],
        [
         "0",
         "2010-12-10 22:09:16",
         "84",
         "226.52499"
        ],
        [
         "0",
         "2010-12-11 23:42:25",
         "90",
         "223.41"
        ],
        [
         "0",
         "2010-12-12 23:30:04",
         "97",
         "218.79299"
        ],
        [
         "0",
         "2010-12-13 23:29:53",
         "103",
         "218.38"
        ],
        [
         "0",
         "2010-12-14 05:48:06",
         "107",
         "218.60699"
        ],
        [
         "0",
         "2010-12-15 06:19:39",
         "119",
         "209.19"
        ],
        [
         "0",
         "2010-12-16 23:30:01",
         "116",
         "217.052"
        ],
        [
         "0",
         "2010-12-17 06:06:46",
         "116",
         "217.14199"
        ],
        [
         "0",
         "2010-12-18 23:42:27",
         "124",
         "217.244"
        ],
        [
         "0",
         "2010-12-19 02:31:02",
         "124",
         "217.259"
        ],
        [
         "0",
         "2010-12-20 23:26:10",
         "132",
         "217.42999"
        ],
        [
         "0",
         "2010-12-21 06:16:47",
         "136",
         "217.24499"
        ],
        [
         "0",
         "2010-12-22 02:50:02",
         "137",
         "217.184"
        ],
        [
         "0",
         "2010-12-23 22:09:23",
         "137",
         "217.184"
        ],
        [
         "0",
         "2010-12-24 23:30:06",
         "141",
         "216.97799"
        ],
        [
         "0",
         "2010-12-25 02:31:02",
         "143",
         "215.0"
        ],
        [
         "0",
         "2010-12-26 07:39:29",
         "144",
         "215.10699"
        ],
        [
         "0",
         "2010-12-27 09:07:27",
         "150",
         "210.17799"
        ],
        [
         "0",
         "2010-12-28 22:09:20",
         "152",
         "210.33099"
        ],
        [
         "0",
         "2010-12-29 05:48:07",
         "154",
         "210.363"
        ],
        [
         "0",
         "2010-12-30 19:02:37",
         "158",
         "209.757"
        ],
        [
         "0",
         "2010-12-31 02:50:02",
         "158",
         "209.824"
        ],
        [
         "0",
         "2011-01-01 06:16:48",
         "161",
         "205.718"
        ],
        [
         "0",
         "2011-01-02 04:06:42",
         "162",
         "205.145"
        ],
        [
         "0",
         "2011-01-03 05:48:05",
         "167",
         "206.01699"
        ],
        [
         "0",
         "2011-01-04 19:05:58",
         "179",
         "205.38499"
        ],
        [
         "0",
         "2011-01-05 02:50:02",
         "181",
         "205.188"
        ],
        [
         "0",
         "2011-01-06 04:06:44",
         "181",
         "205.182"
        ],
        [
         "0",
         "2011-01-07 06:16:49",
         "182",
         "206.223"
        ],
        [
         "0",
         "2011-01-08 23:42:36",
         "184",
         "205.095"
        ],
        [
         "0",
         "2011-01-09 22:09:26",
         "188",
         "201.16799"
        ],
        [
         "0",
         "2011-01-10 23:30:08",
         "190",
         "201.16799"
        ],
        [
         "0",
         "2011-01-11 09:07:27",
         "190",
         "201.15899"
        ],
        [
         "0",
         "2011-01-12 03:19:50",
         "190",
         "201.21899"
        ],
        [
         "0",
         "2011-01-13 04:06:45",
         "190",
         "201.078"
        ],
        [
         "0",
         "2011-01-14 09:07:26",
         "192",
         "201.048"
        ],
        [
         "0",
         "2011-01-15 02:31:02",
         "193",
         "201.03999"
        ],
        [
         "0",
         "2011-01-16 22:09:22",
         "198",
         "201.139"
        ],
        [
         "0",
         "2011-01-17 19:02:37",
         "201",
         "201.04499"
        ],
        [
         "0",
         "2011-01-18 03:19:49",
         "200",
         "202.018"
        ],
        [
         "0",
         "2011-01-19 19:06:01",
         "203",
         "202.36199"
        ],
        [
         "0",
         "2011-01-20 09:07:25",
         "207",
         "200.425"
        ],
        [
         "0",
         "2011-01-21 02:31:01",
         "206",
         "201.22599"
        ]
       ],
       "shape": {
        "columns": 3,
        "rows": 68
       }
      },
      "text/html": [
       "<div>\n",
       "<style scoped>\n",
       "    .dataframe tbody tr th:only-of-type {\n",
       "        vertical-align: middle;\n",
       "    }\n",
       "\n",
       "    .dataframe tbody tr th {\n",
       "        vertical-align: top;\n",
       "    }\n",
       "\n",
       "    .dataframe thead th {\n",
       "        text-align: right;\n",
       "    }\n",
       "</style>\n",
       "<table border=\"1\" class=\"dataframe\">\n",
       "  <thead>\n",
       "    <tr style=\"text-align: right;\">\n",
       "      <th></th>\n",
       "      <th>time</th>\n",
       "      <th>rank</th>\n",
       "      <th>score</th>\n",
       "    </tr>\n",
       "  </thead>\n",
       "  <tbody>\n",
       "    <tr>\n",
       "      <th>0</th>\n",
       "      <td>2010-12-03 03:19:49</td>\n",
       "      <td>32</td>\n",
       "      <td>234.02099</td>\n",
       "    </tr>\n",
       "    <tr>\n",
       "      <th>0</th>\n",
       "      <td>2010-12-04 12:51:51</td>\n",
       "      <td>55</td>\n",
       "      <td>226.80000</td>\n",
       "    </tr>\n",
       "    <tr>\n",
       "      <th>0</th>\n",
       "      <td>2010-12-05 02:31:01</td>\n",
       "      <td>57</td>\n",
       "      <td>226.14300</td>\n",
       "    </tr>\n",
       "    <tr>\n",
       "      <th>0</th>\n",
       "      <td>2010-12-06 05:48:06</td>\n",
       "      <td>36</td>\n",
       "      <td>239.60899</td>\n",
       "    </tr>\n",
       "    <tr>\n",
       "      <th>0</th>\n",
       "      <td>2010-12-07 04:06:41</td>\n",
       "      <td>70</td>\n",
       "      <td>224.21200</td>\n",
       "    </tr>\n",
       "    <tr>\n",
       "      <th>...</th>\n",
       "      <td>...</td>\n",
       "      <td>...</td>\n",
       "      <td>...</td>\n",
       "    </tr>\n",
       "    <tr>\n",
       "      <th>0</th>\n",
       "      <td>2011-02-04 07:38:35</td>\n",
       "      <td>266</td>\n",
       "      <td>199.30099</td>\n",
       "    </tr>\n",
       "    <tr>\n",
       "      <th>0</th>\n",
       "      <td>2011-02-05 05:48:03</td>\n",
       "      <td>269</td>\n",
       "      <td>199.07699</td>\n",
       "    </tr>\n",
       "    <tr>\n",
       "      <th>0</th>\n",
       "      <td>2011-02-06 22:08:58</td>\n",
       "      <td>279</td>\n",
       "      <td>199.06700</td>\n",
       "    </tr>\n",
       "    <tr>\n",
       "      <th>0</th>\n",
       "      <td>2011-02-07 10:34:53</td>\n",
       "      <td>279</td>\n",
       "      <td>199.04200</td>\n",
       "    </tr>\n",
       "    <tr>\n",
       "      <th>0</th>\n",
       "      <td>2011-02-08 19:05:42</td>\n",
       "      <td>286</td>\n",
       "      <td>199.07299</td>\n",
       "    </tr>\n",
       "  </tbody>\n",
       "</table>\n",
       "<p>68 rows × 3 columns</p>\n",
       "</div>"
      ],
      "text/plain": [
       "                  time  rank      score\n",
       "0  2010-12-03 03:19:49    32  234.02099\n",
       "0  2010-12-04 12:51:51    55  226.80000\n",
       "0  2010-12-05 02:31:01    57  226.14300\n",
       "0  2010-12-06 05:48:06    36  239.60899\n",
       "0  2010-12-07 04:06:41    70  224.21200\n",
       "..                 ...   ...        ...\n",
       "0  2011-02-04 07:38:35   266  199.30099\n",
       "0  2011-02-05 05:48:03   269  199.07699\n",
       "0  2011-02-06 22:08:58   279  199.06700\n",
       "0  2011-02-07 10:34:53   279  199.04200\n",
       "0  2011-02-08 19:05:42   286  199.07299\n",
       "\n",
       "[68 rows x 3 columns]"
      ]
     },
     "execution_count": 23,
     "metadata": {},
     "output_type": "execute_result"
    }
   ],
   "source": [
    "leaderboard_pub.submission_records_of(1898)"
   ]
  },
  {
   "cell_type": "code",
   "execution_count": 24,
   "id": "76a21258",
   "metadata": {},
   "outputs": [
    {
     "data": {
      "application/vnd.microsoft.datawrangler.viewer.v0+json": {
       "columns": [
        {
         "name": "index",
         "rawType": "int64",
         "type": "integer"
        },
        {
         "name": "time",
         "rawType": "datetime64[ns]",
         "type": "datetime"
        },
        {
         "name": "rank",
         "rawType": "int64",
         "type": "integer"
        },
        {
         "name": "score",
         "rawType": "float64",
         "type": "float"
        }
       ],
       "conversionMethod": "pd.DataFrame",
       "ref": "1280cd17-4ee0-46c2-b8cd-ceefd5ccf6b9",
       "rows": [
        [
         "0",
         "2010-11-24 23:30:00",
         "12",
         "222.69"
        ],
        [
         "0",
         "2010-11-25 09:07:24",
         "1",
         "822.42999"
        ],
        [
         "0",
         "2010-12-03 07:39:27",
         "1",
         "830.48797"
        ]
       ],
       "shape": {
        "columns": 3,
        "rows": 3
       }
      },
      "text/html": [
       "<div>\n",
       "<style scoped>\n",
       "    .dataframe tbody tr th:only-of-type {\n",
       "        vertical-align: middle;\n",
       "    }\n",
       "\n",
       "    .dataframe tbody tr th {\n",
       "        vertical-align: top;\n",
       "    }\n",
       "\n",
       "    .dataframe thead th {\n",
       "        text-align: right;\n",
       "    }\n",
       "</style>\n",
       "<table border=\"1\" class=\"dataframe\">\n",
       "  <thead>\n",
       "    <tr style=\"text-align: right;\">\n",
       "      <th></th>\n",
       "      <th>time</th>\n",
       "      <th>rank</th>\n",
       "      <th>score</th>\n",
       "    </tr>\n",
       "  </thead>\n",
       "  <tbody>\n",
       "    <tr>\n",
       "      <th>0</th>\n",
       "      <td>2010-11-24 23:30:00</td>\n",
       "      <td>12</td>\n",
       "      <td>222.69000</td>\n",
       "    </tr>\n",
       "    <tr>\n",
       "      <th>0</th>\n",
       "      <td>2010-11-25 09:07:24</td>\n",
       "      <td>1</td>\n",
       "      <td>822.42999</td>\n",
       "    </tr>\n",
       "    <tr>\n",
       "      <th>0</th>\n",
       "      <td>2010-12-03 07:39:27</td>\n",
       "      <td>1</td>\n",
       "      <td>830.48797</td>\n",
       "    </tr>\n",
       "  </tbody>\n",
       "</table>\n",
       "</div>"
      ],
      "text/plain": [
       "                 time  rank      score\n",
       "0 2010-11-24 23:30:00    12  222.69000\n",
       "0 2010-11-25 09:07:24     1  822.42999\n",
       "0 2010-12-03 07:39:27     1  830.48797"
      ]
     },
     "execution_count": 24,
     "metadata": {},
     "output_type": "execute_result"
    }
   ],
   "source": [
    "leaderboard_pub.submission_records_of(1599)"
   ]
  },
  {
   "cell_type": "markdown",
   "id": "fd0e9517",
   "metadata": {},
   "source": [
    "We select 2 based on private leaderboard."
   ]
  },
  {
   "cell_type": "code",
   "execution_count": 25,
   "id": "f516a705",
   "metadata": {},
   "outputs": [
    {
     "ename": "KeyError",
     "evalue": "'time'",
     "output_type": "error",
     "traceback": [
      "\u001b[31m---------------------------------------------------------------------------\u001b[39m",
      "\u001b[31mKeyError\u001b[39m                                  Traceback (most recent call last)",
      "\u001b[36mCell\u001b[39m\u001b[36m \u001b[39m\u001b[32mIn[25]\u001b[39m\u001b[32m, line 1\u001b[39m\n\u001b[32m----> \u001b[39m\u001b[32m1\u001b[39m tbl_hat_y = \u001b[43mleaderboard_pub\u001b[49m\u001b[43m.\u001b[49m\u001b[43mreal_time_gap_between\u001b[49m\u001b[43m(\u001b[49m\u001b[32;43m2336\u001b[39;49m\u001b[43m,\u001b[49m\u001b[43m \u001b[49m\u001b[32;43m2394\u001b[39;49m\u001b[43m,\u001b[49m\u001b[43m \u001b[49m\u001b[43mdelta\u001b[49m\u001b[43m=\u001b[49m\u001b[43mtimedelta\u001b[49m\u001b[43m(\u001b[49m\u001b[43mhours\u001b[49m\u001b[43m=\u001b[49m\u001b[32;43m1\u001b[39;49m\u001b[43m)\u001b[49m\u001b[43m)\u001b[49m\n\u001b[32m      2\u001b[39m tbl_hat_y\n",
      "\u001b[36mFile \u001b[39m\u001b[32m~/Documents/Github/kaggle-contest-design/metakaggle/leaderboard.py:137\u001b[39m, in \u001b[36mLeaderboard.real_time_gap_between\u001b[39m\u001b[34m(self, id_i, id_j, delta)\u001b[39m\n\u001b[32m    135\u001b[39m records_i = \u001b[38;5;28mself\u001b[39m.submission_records_of(id_i)\n\u001b[32m    136\u001b[39m records_j = \u001b[38;5;28mself\u001b[39m.submission_records_of(id_j)\n\u001b[32m--> \u001b[39m\u001b[32m137\u001b[39m start_time: datetime = \u001b[38;5;28mmax\u001b[39m(\u001b[43mrecords_i\u001b[49m\u001b[43m[\u001b[49m\u001b[33;43m'\u001b[39;49m\u001b[33;43mtime\u001b[39;49m\u001b[33;43m'\u001b[39;49m\u001b[43m]\u001b[49m.iloc[\u001b[32m0\u001b[39m], records_j[\u001b[33m'\u001b[39m\u001b[33mtime\u001b[39m\u001b[33m'\u001b[39m].iloc[\u001b[32m0\u001b[39m])\n\u001b[32m    138\u001b[39m end_time = \u001b[38;5;28mself\u001b[39m._datetimes[-\u001b[32m1\u001b[39m] + delta  \u001b[38;5;66;03m# after the last submission\u001b[39;00m\n\u001b[32m    139\u001b[39m current_time = start_time.replace(minute=\u001b[32m0\u001b[39m, second=\u001b[32m0\u001b[39m, microsecond=\u001b[32m0\u001b[39m) + delta\n",
      "\u001b[36mFile \u001b[39m\u001b[32m~/Documents/Github/kaggle-contest-design/.venv/lib/python3.13/site-packages/pandas/core/frame.py:4102\u001b[39m, in \u001b[36mDataFrame.__getitem__\u001b[39m\u001b[34m(self, key)\u001b[39m\n\u001b[32m   4100\u001b[39m \u001b[38;5;28;01mif\u001b[39;00m \u001b[38;5;28mself\u001b[39m.columns.nlevels > \u001b[32m1\u001b[39m:\n\u001b[32m   4101\u001b[39m     \u001b[38;5;28;01mreturn\u001b[39;00m \u001b[38;5;28mself\u001b[39m._getitem_multilevel(key)\n\u001b[32m-> \u001b[39m\u001b[32m4102\u001b[39m indexer = \u001b[38;5;28;43mself\u001b[39;49m\u001b[43m.\u001b[49m\u001b[43mcolumns\u001b[49m\u001b[43m.\u001b[49m\u001b[43mget_loc\u001b[49m\u001b[43m(\u001b[49m\u001b[43mkey\u001b[49m\u001b[43m)\u001b[49m\n\u001b[32m   4103\u001b[39m \u001b[38;5;28;01mif\u001b[39;00m is_integer(indexer):\n\u001b[32m   4104\u001b[39m     indexer = [indexer]\n",
      "\u001b[36mFile \u001b[39m\u001b[32m~/Documents/Github/kaggle-contest-design/.venv/lib/python3.13/site-packages/pandas/core/indexes/range.py:417\u001b[39m, in \u001b[36mRangeIndex.get_loc\u001b[39m\u001b[34m(self, key)\u001b[39m\n\u001b[32m    415\u001b[39m         \u001b[38;5;28;01mraise\u001b[39;00m \u001b[38;5;167;01mKeyError\u001b[39;00m(key) \u001b[38;5;28;01mfrom\u001b[39;00m\u001b[38;5;250m \u001b[39m\u001b[34;01merr\u001b[39;00m\n\u001b[32m    416\u001b[39m \u001b[38;5;28;01mif\u001b[39;00m \u001b[38;5;28misinstance\u001b[39m(key, Hashable):\n\u001b[32m--> \u001b[39m\u001b[32m417\u001b[39m     \u001b[38;5;28;01mraise\u001b[39;00m \u001b[38;5;167;01mKeyError\u001b[39;00m(key)\n\u001b[32m    418\u001b[39m \u001b[38;5;28mself\u001b[39m._check_indexing_error(key)\n\u001b[32m    419\u001b[39m \u001b[38;5;28;01mraise\u001b[39;00m \u001b[38;5;167;01mKeyError\u001b[39;00m(key)\n",
      "\u001b[31mKeyError\u001b[39m: 'time'"
     ]
    }
   ],
   "source": [
    "tbl_hat_y = leaderboard_pub.real_time_gap_between(2336, 2394, delta=timedelta(hours=1))\n",
    "tbl_hat_y"
   ]
  },
  {
   "cell_type": "code",
   "execution_count": null,
   "id": "38f9ad64",
   "metadata": {},
   "outputs": [],
   "source": [
    "# Save Contest Data to `.json` File\n",
    "save_contest_data(contest_id, 2336, 2394)"
   ]
  }
 ],
 "metadata": {
  "kernelspec": {
   "display_name": ".venv",
   "language": "python",
   "name": "python3"
  },
  "language_info": {
   "codemirror_mode": {
    "name": "ipython",
    "version": 3
   },
   "file_extension": ".py",
   "mimetype": "text/x-python",
   "name": "python",
   "nbconvert_exporter": "python",
   "pygments_lexer": "ipython3",
   "version": "3.13.2"
  }
 },
 "nbformat": 4,
 "nbformat_minor": 5
}
