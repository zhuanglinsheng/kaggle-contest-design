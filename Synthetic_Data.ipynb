{
 "cells": [
  {
   "cell_type": "markdown",
   "id": "7ae08eed",
   "metadata": {},
   "source": [
    "# Explore `meta-kaggle` Dataset"
   ]
  },
  {
   "cell_type": "markdown",
   "id": "4e88445c",
   "metadata": {},
   "source": [
    "## --- Test Synthetically Generated Data"
   ]
  },
  {
   "cell_type": "markdown",
   "id": "3c1c257d",
   "metadata": {},
   "source": [
    "We test the potential of our estimation algorithm by synthetically generated data."
   ]
  },
  {
   "cell_type": "code",
   "execution_count": null,
   "id": "559d7d33",
   "metadata": {},
   "outputs": [],
   "source": [
    "# std library\n",
    "from pprint import pprint\n",
    "from datetime import datetime, timedelta\n",
    "\n",
    "# third-party\n",
    "from matplotlib import pyplot as plt\n",
    "import numpy as np\n",
    "from numpy import typing as npt\n",
    "\n",
    "# local\n",
    "import ryvkin_model\n"
   ]
  },
  {
   "cell_type": "markdown",
   "id": "5b4eb71a",
   "metadata": {},
   "source": [
    "### 1. Model Setting"
   ]
  },
  {
   "cell_type": "code",
   "execution_count": 20,
   "id": "d5ff76b3",
   "metadata": {},
   "outputs": [
    {
     "name": "stdout",
     "output_type": "stream",
     "text": [
      "90 2160 2160\n"
     ]
    }
   ],
   "source": [
    "# Capacities & Total Innovation Uncertainty\n",
    "## Hour based\n",
    "param_c_i = 1.5\n",
    "param_c_j = 1.5\n",
    "param_sigma = 1.0\n",
    "\n",
    "# Contest related\n",
    "param_theta = 2.0\n",
    "\n",
    "# Signal Precision\n",
    "param_lambda = 0.1\n",
    "\n",
    "# Contest Time Duaration\n",
    "time_step = 1 / 12\n",
    "start_time = datetime(2025, 1, 1, 0, 0, 0)\n",
    "end_time = datetime(2025, 4, 1, 0, 0, 0)\n",
    "contest_days = (end_time - start_time).days\n",
    "contest_seconds = int((end_time - start_time).total_seconds())\n",
    "contest_hours = int(contest_seconds / 3600)\n",
    "contest_timegrids = np.arange(start_time, end_time, \\\n",
    "\t\ttimedelta(hours=1), dtype=np.datetime64)\n",
    "\n",
    "print(contest_days, contest_hours, len(contest_timegrids))"
   ]
  },
  {
   "cell_type": "markdown",
   "id": "522f893f",
   "metadata": {},
   "source": [
    "### 2. Simulations"
   ]
  },
  {
   "cell_type": "code",
   "execution_count": null,
   "id": "bb64f301",
   "metadata": {},
   "outputs": [],
   "source": []
  },
  {
   "cell_type": "code",
   "execution_count": null,
   "id": "52941014",
   "metadata": {},
   "outputs": [],
   "source": [
    "def calculate_contest_dynamics( \\\n",
    "\t\ttime_grids: npt.NDArray[np.datetime64],\n",
    "\t\ttime_unit_float: float,\n",
    "\t\tinnovation_shocks: npt.NDArray[np.float64],\n",
    "\t\ttheta: float,\n",
    "\t\tc_i: float,\n",
    "\t\tc_j: float,\n",
    "\t\tsigma: float,\n",
    "\t\tlamb: float\n",
    "):\n",
    "\t\"\"\"Calculate the Dynamics of Efforts and Gap\n",
    "\t\"\"\"\n",
    "\tdynamic_i_effort = np.zeros_like(time_grids, dtype=np.float64)\n",
    "\tdynamic_j_effort = np.zeros_like(time_grids, dtype=np.float64)\n",
    "\tdynamics_gap = np.zeros(shape = len(time_grids), dtype=np.float64)\n",
    "\tgap_t = 0\n",
    "\tfor idx_time, time in enumerate(time_grids):\n",
    "\t\tq_i, q_j = ryvkin_model.get_equilibrium_efforts(gap_t, time, time_grids[-1],\n",
    "\t\t\tprize=theta,\n",
    "\t\t\tc_i=c_i,\n",
    "\t\t\tc_j=c_j,\n",
    "\t\t\tinnov_uncert=sigma\n",
    "\t\t)\n",
    "\t\tshock = innovation_shocks[idx_time] * sigma * time_unit_float**0.5\n",
    "\t\tdynamics_gap[idx_time] = gap_t + (q_i - q_j) * time_unit_float + kalman_gain\n",
    "\t\tdynamic_i_effort[idx_time] = q_i\n",
    "\t\tdynamic_j_effort[idx_time] = q_j\n",
    "\t\tgap_t = dynamics_gap[idx_time]\n",
    "\treturn dynamic_i_effort, dynamic_j_effort, dynamics_gap"
   ]
  },
  {
   "cell_type": "code",
   "execution_count": 34,
   "id": "df535906",
   "metadata": {},
   "outputs": [
    {
     "data": {
      "text/plain": [
       "array(['2025-01-01T00:00:00.000000', '2025-01-01T01:00:00.000000',\n",
       "       '2025-01-01T02:00:00.000000', ..., '2025-03-31T21:00:00.000000',\n",
       "       '2025-03-31T22:00:00.000000', '2025-03-31T23:00:00.000000'],\n",
       "      shape=(2160,), dtype='datetime64[us]')"
      ]
     },
     "execution_count": 34,
     "metadata": {},
     "output_type": "execute_result"
    }
   ],
   "source": [
    "contest_timegrids"
   ]
  },
  {
   "cell_type": "markdown",
   "id": "02c25aff",
   "metadata": {},
   "source": [
    "### 3. Simulate Submission Data"
   ]
  },
  {
   "cell_type": "code",
   "execution_count": 38,
   "id": "f7d9c36c",
   "metadata": {},
   "outputs": [],
   "source": [
    "effort_intensity_ratio = 5\n",
    "seed_poisson = 1234\n",
    "seed_uniform = 5678"
   ]
  },
  {
   "cell_type": "code",
   "execution_count": 40,
   "id": "535e97b6",
   "metadata": {},
   "outputs": [
    {
     "name": "stdout",
     "output_type": "stream",
     "text": [
      "[datetime.datetime(2025, 1, 25, 1, 10, 36, 805305),\n",
      " datetime.datetime(2025, 2, 5, 23, 43, 32, 521888),\n",
      " datetime.datetime(2025, 2, 22, 7, 25, 43, 848933),\n",
      " datetime.datetime(2025, 2, 22, 17, 40, 33, 259909),\n",
      " datetime.datetime(2025, 3, 6, 11, 2, 42, 814945),\n",
      " datetime.datetime(2025, 3, 26, 1, 51, 19, 308643),\n",
      " datetime.datetime(2025, 3, 26, 14, 13, 1, 680279),\n",
      " datetime.datetime(2025, 3, 27, 6, 56, 30, 440251),\n",
      " datetime.datetime(2025, 3, 27, 19, 35, 40, 482551),\n",
      " datetime.datetime(2025, 3, 28, 14, 43, 38, 686089),\n",
      " datetime.datetime(2025, 3, 31, 4, 2, 11, 284844)]\n"
     ]
    },
    {
     "data": {
      "image/png": "[encoded data removed]",
      "text/plain": [
       "<Figure size 1000x300 with 1 Axes>"
      ]
     },
     "metadata": {},
     "output_type": "display_data"
    }
   ],
   "source": [
    "## Player j\n",
    "##\n",
    "# Interpolate effort as an intensity function\n",
    "submission_intensity_j = nhpp.intensity_interp_d( \\\n",
    "\t\tcontest_timegrids, dynamic_j_effort, ratio=effort_intensity_ratio)\n",
    "\n",
    "# Simulate submission data\n",
    "submit_events_j = nhpp.simulate_inhomogeneous_poisson_process( \\\n",
    "\t\tstart_time, end_time, submission_intensity_j, 0.06,\n",
    "\t\tseed_poisson=seed_poisson, seed_uniform=seed_uniform)\n",
    "pprint(submit_events_j)\n",
    "\n",
    "# Visualization\n",
    "fig, ax = nhpp.plot_intensity( \\\n",
    "\t\tsubmission_intensity_j, (start_time, end_time), timedelta(hours=1))\n",
    "ax = nhpp.plot_poisson_events(ax, submit_events_j, vline_width=0.002)"
   ]
  },
  {
   "cell_type": "markdown",
   "id": "484172cc",
   "metadata": {},
   "source": [
    "### 4. Bayesian Estimation"
   ]
  },
  {
   "cell_type": "code",
   "execution_count": null,
   "id": "e876d5b5",
   "metadata": {},
   "outputs": [],
   "source": [
    "import pymc as pm\n",
    "import arviz as az"
   ]
  },
  {
   "cell_type": "code",
   "execution_count": null,
   "id": "d8a8429a",
   "metadata": {},
   "outputs": [
    {
     "name": "stderr",
     "output_type": "stream",
     "text": [
      "Initializing NUTS using jitter+adapt_diag...\n",
      "Multiprocess sampling (4 chains in 4 jobs)\n",
      "NUTS: [shocks]\n"
     ]
    },
    {
     "data": {
      "application/vnd.jupyter.widget-view+json": {
       "model_id": "865ff7d9a2fc4221a2fc00379e39d774",
       "version_major": 2,
       "version_minor": 0
      },
      "text/plain": [
       "Output()"
      ]
     },
     "metadata": {},
     "output_type": "display_data"
    },
    {
     "data": {
      "text/html": [
       "<pre style=\"white-space:pre;overflow-x:auto;line-height:normal;font-family:Menlo,'DejaVu Sans Mono',consolas,'Courier New',monospace\"></pre>\n"
      ],
      "text/plain": []
     },
     "metadata": {},
     "output_type": "display_data"
    },
    {
     "name": "stderr",
     "output_type": "stream",
     "text": [
      "Sampling 4 chains for 1_000 tune and 1_000 draw iterations (4_000 + 4_000 draws total) took 87 seconds.\n",
      "Chain 0 reached the maximum tree depth. Increase `max_treedepth`, increase `target_accept` or reparameterize.\n",
      "Chain 1 reached the maximum tree depth. Increase `max_treedepth`, increase `target_accept` or reparameterize.\n",
      "Chain 2 reached the maximum tree depth. Increase `max_treedepth`, increase `target_accept` or reparameterize.\n",
      "Chain 3 reached the maximum tree depth. Increase `max_treedepth`, increase `target_accept` or reparameterize.\n",
      "The rhat statistic is larger than 1.01 for some parameters. This indicates problems during sampling. See https://arxiv.org/abs/1903.08008 for details\n",
      "The effective sample size per chain is smaller than 100 for some parameters.  A higher number is needed for reliable rhat and ess computation. See https://arxiv.org/abs/1903.08008 for details\n"
     ]
    }
   ],
   "source": [
    "with pm.Model() as model:\n",
    "\t# Prior\n",
    "\tshocks_sigma = pm.Gamma('shocks_sigma', alpha=1, beta=1)\n",
    "\tc_i = pm.Gamma('c_i', alpha=1, beta=1)\n",
    "\tc_j = pm.Gamma('c_j', alpha=1, beta=1)\n",
    "\n",
    "\t# Shocks\n",
    "\tshocks = pm.GaussianRandomWalk('shocks',\n",
    "\t\t\tmu=0,\n",
    "\t\t\tsigma=shocks_sigma, \\\n",
    "\t\t\tsteps=1000,\n",
    "\t\t\tinit_dist=pm.Normal.dist(mu=0, sigma=1)\n",
    "\t)\n",
    "\n",
    "\t# Calculate the intensity function\n",
    "\n",
    "\n",
    "\ttrace = pm.sample()"
   ]
  },
  {
   "cell_type": "code",
   "execution_count": 65,
   "id": "61065249",
   "metadata": {},
   "outputs": [
    {
     "data": {
      "application/vnd.microsoft.datawrangler.viewer.v0+json": {
       "columns": [
        {
         "name": "index",
         "rawType": "object",
         "type": "string"
        },
        {
         "name": "mean",
         "rawType": "float64",
         "type": "float"
        },
        {
         "name": "sd",
         "rawType": "float64",
         "type": "float"
        },
        {
         "name": "hdi_3%",
         "rawType": "float64",
         "type": "float"
        },
        {
         "name": "hdi_97%",
         "rawType": "float64",
         "type": "float"
        },
        {
         "name": "mcse_mean",
         "rawType": "float64",
         "type": "float"
        },
        {
         "name": "mcse_sd",
         "rawType": "float64",
         "type": "float"
        },
        {
         "name": "ess_bulk",
         "rawType": "float64",
         "type": "float"
        },
        {
         "name": "ess_tail",
         "rawType": "float64",
         "type": "float"
        },
        {
         "name": "r_hat",
         "rawType": "float64",
         "type": "float"
        }
       ],
       "conversionMethod": "pd.DataFrame",
       "ref": "3666b402-dafa-4bfc-a92f-684d0f4dba44",
       "rows": [
        [
         "shocks[0]",
         "0.0",
         "0.0",
         "-0.0",
         "0.0",
         "0.0",
         "0.0",
         "3764.0",
         "2825.0",
         "1.0"
        ],
        [
         "shocks[1]",
         "0.017",
         "1.024",
         "-1.851",
         "2.017",
         "0.016",
         "0.013",
         "3915.0",
         "2949.0",
         "1.0"
        ],
        [
         "shocks[2]",
         "0.042",
         "1.445",
         "-2.646",
         "2.773",
         "0.024",
         "0.018",
         "3695.0",
         "3291.0",
         "1.0"
        ],
        [
         "shocks[3]",
         "0.058",
         "1.755",
         "-3.111",
         "3.461",
         "0.032",
         "0.022",
         "3035.0",
         "3499.0",
         "1.0"
        ],
        [
         "shocks[4]",
         "0.106",
         "2.024",
         "-3.732",
         "3.9",
         "0.038",
         "0.027",
         "2798.0",
         "3019.0",
         "1.0"
        ],
        [
         "shocks[5]",
         "0.126",
         "2.285",
         "-4.079",
         "4.524",
         "0.047",
         "0.03",
         "2364.0",
         "2870.0",
         "1.0"
        ],
        [
         "shocks[6]",
         "0.109",
         "2.476",
         "-4.578",
         "4.508",
         "0.057",
         "0.034",
         "1896.0",
         "3219.0",
         "1.0"
        ],
        [
         "shocks[7]",
         "0.112",
         "2.695",
         "-4.825",
         "5.053",
         "0.067",
         "0.037",
         "1632.0",
         "2855.0",
         "1.0"
        ],
        [
         "shocks[8]",
         "0.119",
         "2.88",
         "-5.35",
         "5.376",
         "0.079",
         "0.039",
         "1320.0",
         "2363.0",
         "1.01"
        ],
        [
         "shocks[9]",
         "0.15",
         "3.062",
         "-5.756",
         "5.659",
         "0.089",
         "0.043",
         "1180.0",
         "2465.0",
         "1.01"
        ],
        [
         "shocks[10]",
         "0.143",
         "3.197",
         "-6.139",
         "5.674",
         "0.097",
         "0.045",
         "1080.0",
         "2501.0",
         "1.01"
        ],
        [
         "shocks[11]",
         "0.165",
         "3.331",
         "-6.195",
         "6.15",
         "0.107",
         "0.048",
         "966.0",
         "1897.0",
         "1.01"
        ],
        [
         "shocks[12]",
         "0.219",
         "3.44",
         "-6.196",
         "6.777",
         "0.115",
         "0.05",
         "896.0",
         "2311.0",
         "1.01"
        ],
        [
         "shocks[13]",
         "0.254",
         "3.56",
         "-6.403",
         "6.989",
         "0.12",
         "0.052",
         "876.0",
         "2002.0",
         "1.01"
        ],
        [
         "shocks[14]",
         "0.274",
         "3.711",
         "-6.772",
         "7.21",
         "0.129",
         "0.057",
         "825.0",
         "2166.0",
         "1.01"
        ],
        [
         "shocks[15]",
         "0.287",
         "3.854",
         "-7.527",
         "6.973",
         "0.148",
         "0.058",
         "679.0",
         "1965.0",
         "1.01"
        ],
        [
         "shocks[16]",
         "0.312",
         "3.98",
         "-7.365",
         "7.545",
         "0.16",
         "0.062",
         "616.0",
         "1853.0",
         "1.01"
        ],
        [
         "shocks[17]",
         "0.324",
         "4.077",
         "-7.36",
         "7.856",
         "0.169",
         "0.062",
         "587.0",
         "2082.0",
         "1.01"
        ],
        [
         "shocks[18]",
         "0.349",
         "4.195",
         "-7.841",
         "7.679",
         "0.182",
         "0.066",
         "527.0",
         "1909.0",
         "1.02"
        ],
        [
         "shocks[19]",
         "0.366",
         "4.329",
         "-7.722",
         "8.135",
         "0.188",
         "0.069",
         "523.0",
         "1803.0",
         "1.02"
        ],
        [
         "shocks[20]",
         "0.374",
         "4.437",
         "-8.027",
         "8.215",
         "0.194",
         "0.073",
         "518.0",
         "1900.0",
         "1.01"
        ],
        [
         "shocks[21]",
         "0.404",
         "4.556",
         "-8.014",
         "8.671",
         "0.201",
         "0.075",
         "507.0",
         "1784.0",
         "1.02"
        ],
        [
         "shocks[22]",
         "0.428",
         "4.678",
         "-7.826",
         "9.348",
         "0.205",
         "0.078",
         "516.0",
         "1860.0",
         "1.01"
        ],
        [
         "shocks[23]",
         "0.415",
         "4.793",
         "-8.354",
         "9.169",
         "0.214",
         "0.081",
         "494.0",
         "1854.0",
         "1.02"
        ],
        [
         "shocks[24]",
         "0.432",
         "4.892",
         "-8.608",
         "9.326",
         "0.223",
         "0.085",
         "476.0",
         "1601.0",
         "1.02"
        ],
        [
         "shocks[25]",
         "0.41",
         "5.002",
         "-8.834",
         "9.772",
         "0.235",
         "0.088",
         "449.0",
         "1449.0",
         "1.02"
        ],
        [
         "shocks[26]",
         "0.441",
         "5.075",
         "-8.633",
         "10.155",
         "0.252",
         "0.089",
         "401.0",
         "1463.0",
         "1.02"
        ],
        [
         "shocks[27]",
         "0.473",
         "5.139",
         "-8.436",
         "10.472",
         "0.267",
         "0.089",
         "372.0",
         "1443.0",
         "1.02"
        ],
        [
         "shocks[28]",
         "0.48",
         "5.225",
         "-8.74",
         "10.639",
         "0.28",
         "0.092",
         "350.0",
         "1347.0",
         "1.02"
        ],
        [
         "shocks[29]",
         "0.521",
         "5.287",
         "-9.527",
         "10.067",
         "0.289",
         "0.095",
         "338.0",
         "1289.0",
         "1.02"
        ],
        [
         "shocks[30]",
         "0.535",
         "5.389",
         "-9.346",
         "10.564",
         "0.297",
         "0.098",
         "329.0",
         "1455.0",
         "1.02"
        ],
        [
         "shocks[31]",
         "0.536",
         "5.489",
         "-9.93",
         "10.44",
         "0.302",
         "0.1",
         "328.0",
         "1417.0",
         "1.02"
        ],
        [
         "shocks[32]",
         "0.572",
         "5.613",
         "-10.273",
         "10.702",
         "0.318",
         "0.103",
         "310.0",
         "1323.0",
         "1.02"
        ],
        [
         "shocks[33]",
         "0.584",
         "5.716",
         "-9.867",
         "11.156",
         "0.33",
         "0.107",
         "297.0",
         "1350.0",
         "1.02"
        ],
        [
         "shocks[34]",
         "0.605",
         "5.805",
         "-10.49",
         "11.159",
         "0.327",
         "0.109",
         "317.0",
         "1155.0",
         "1.02"
        ],
        [
         "shocks[35]",
         "0.615",
         "5.897",
         "-11.035",
         "11.222",
         "0.347",
         "0.11",
         "288.0",
         "1217.0",
         "1.02"
        ],
        [
         "shocks[36]",
         "0.629",
         "5.989",
         "-11.015",
         "11.665",
         "0.366",
         "0.112",
         "271.0",
         "1218.0",
         "1.02"
        ],
        [
         "shocks[37]",
         "0.643",
         "6.034",
         "-10.5",
         "12.135",
         "0.382",
         "0.117",
         "253.0",
         "999.0",
         "1.03"
        ],
        [
         "shocks[38]",
         "0.657",
         "6.097",
         "-10.115",
         "12.704",
         "0.383",
         "0.119",
         "264.0",
         "1004.0",
         "1.03"
        ],
        [
         "shocks[39]",
         "0.664",
         "6.175",
         "-11.413",
         "11.701",
         "0.392",
         "0.123",
         "256.0",
         "901.0",
         "1.03"
        ],
        [
         "shocks[40]",
         "0.662",
         "6.25",
         "-11.252",
         "12.161",
         "0.418",
         "0.121",
         "234.0",
         "892.0",
         "1.03"
        ],
        [
         "shocks[41]",
         "0.697",
         "6.313",
         "-10.913",
         "12.796",
         "0.423",
         "0.123",
         "235.0",
         "913.0",
         "1.03"
        ],
        [
         "shocks[42]",
         "0.741",
         "6.366",
         "-11.655",
         "12.317",
         "0.436",
         "0.13",
         "226.0",
         "825.0",
         "1.03"
        ],
        [
         "shocks[43]",
         "0.774",
         "6.434",
         "-11.175",
         "12.897",
         "0.475",
         "0.138",
         "190.0",
         "744.0",
         "1.03"
        ],
        [
         "shocks[44]",
         "0.795",
         "6.506",
         "-12.419",
         "11.785",
         "0.514",
         "0.142",
         "164.0",
         "802.0",
         "1.03"
        ],
        [
         "shocks[45]",
         "0.804",
         "6.62",
         "-12.418",
         "12.272",
         "0.561",
         "0.152",
         "143.0",
         "774.0",
         "1.03"
        ],
        [
         "shocks[46]",
         "0.825",
         "6.674",
         "-12.076",
         "12.904",
         "0.601",
         "0.15",
         "126.0",
         "834.0",
         "1.03"
        ],
        [
         "shocks[47]",
         "0.846",
         "6.761",
         "-11.992",
         "13.295",
         "0.629",
         "0.162",
         "116.0",
         "771.0",
         "1.04"
        ],
        [
         "shocks[48]",
         "0.864",
         "6.851",
         "-11.803",
         "13.862",
         "0.635",
         "0.161",
         "118.0",
         "845.0",
         "1.04"
        ],
        [
         "shocks[49]",
         "0.847",
         "6.901",
         "-12.029",
         "13.753",
         "0.627",
         "0.166",
         "123.0",
         "856.0",
         "1.04"
        ]
       ],
       "shape": {
        "columns": 9,
        "rows": 1001
       }
      },
      "text/html": [
       "<div>\n",
       "<style scoped>\n",
       "    .dataframe tbody tr th:only-of-type {\n",
       "        vertical-align: middle;\n",
       "    }\n",
       "\n",
       "    .dataframe tbody tr th {\n",
       "        vertical-align: top;\n",
       "    }\n",
       "\n",
       "    .dataframe thead th {\n",
       "        text-align: right;\n",
       "    }\n",
       "</style>\n",
       "<table border=\"1\" class=\"dataframe\">\n",
       "  <thead>\n",
       "    <tr style=\"text-align: right;\">\n",
       "      <th></th>\n",
       "      <th>mean</th>\n",
       "      <th>sd</th>\n",
       "      <th>hdi_3%</th>\n",
       "      <th>hdi_97%</th>\n",
       "      <th>mcse_mean</th>\n",
       "      <th>mcse_sd</th>\n",
       "      <th>ess_bulk</th>\n",
       "      <th>ess_tail</th>\n",
       "      <th>r_hat</th>\n",
       "    </tr>\n",
       "  </thead>\n",
       "  <tbody>\n",
       "    <tr>\n",
       "      <th>shocks[0]</th>\n",
       "      <td>0.000</td>\n",
       "      <td>0.000</td>\n",
       "      <td>-0.000</td>\n",
       "      <td>0.000</td>\n",
       "      <td>0.000</td>\n",
       "      <td>0.000</td>\n",
       "      <td>3764.0</td>\n",
       "      <td>2825.0</td>\n",
       "      <td>1.00</td>\n",
       "    </tr>\n",
       "    <tr>\n",
       "      <th>shocks[1]</th>\n",
       "      <td>0.017</td>\n",
       "      <td>1.024</td>\n",
       "      <td>-1.851</td>\n",
       "      <td>2.017</td>\n",
       "      <td>0.016</td>\n",
       "      <td>0.013</td>\n",
       "      <td>3915.0</td>\n",
       "      <td>2949.0</td>\n",
       "      <td>1.00</td>\n",
       "    </tr>\n",
       "    <tr>\n",
       "      <th>shocks[2]</th>\n",
       "      <td>0.042</td>\n",
       "      <td>1.445</td>\n",
       "      <td>-2.646</td>\n",
       "      <td>2.773</td>\n",
       "      <td>0.024</td>\n",
       "      <td>0.018</td>\n",
       "      <td>3695.0</td>\n",
       "      <td>3291.0</td>\n",
       "      <td>1.00</td>\n",
       "    </tr>\n",
       "    <tr>\n",
       "      <th>shocks[3]</th>\n",
       "      <td>0.058</td>\n",
       "      <td>1.755</td>\n",
       "      <td>-3.111</td>\n",
       "      <td>3.461</td>\n",
       "      <td>0.032</td>\n",
       "      <td>0.022</td>\n",
       "      <td>3035.0</td>\n",
       "      <td>3499.0</td>\n",
       "      <td>1.00</td>\n",
       "    </tr>\n",
       "    <tr>\n",
       "      <th>shocks[4]</th>\n",
       "      <td>0.106</td>\n",
       "      <td>2.024</td>\n",
       "      <td>-3.732</td>\n",
       "      <td>3.900</td>\n",
       "      <td>0.038</td>\n",
       "      <td>0.027</td>\n",
       "      <td>2798.0</td>\n",
       "      <td>3019.0</td>\n",
       "      <td>1.00</td>\n",
       "    </tr>\n",
       "    <tr>\n",
       "      <th>...</th>\n",
       "      <td>...</td>\n",
       "      <td>...</td>\n",
       "      <td>...</td>\n",
       "      <td>...</td>\n",
       "      <td>...</td>\n",
       "      <td>...</td>\n",
       "      <td>...</td>\n",
       "      <td>...</td>\n",
       "      <td>...</td>\n",
       "    </tr>\n",
       "    <tr>\n",
       "      <th>shocks[996]</th>\n",
       "      <td>2.570</td>\n",
       "      <td>31.607</td>\n",
       "      <td>-54.816</td>\n",
       "      <td>63.876</td>\n",
       "      <td>6.386</td>\n",
       "      <td>2.168</td>\n",
       "      <td>24.0</td>\n",
       "      <td>105.0</td>\n",
       "      <td>1.12</td>\n",
       "    </tr>\n",
       "    <tr>\n",
       "      <th>shocks[997]</th>\n",
       "      <td>2.559</td>\n",
       "      <td>31.627</td>\n",
       "      <td>-54.970</td>\n",
       "      <td>64.129</td>\n",
       "      <td>6.391</td>\n",
       "      <td>2.167</td>\n",
       "      <td>24.0</td>\n",
       "      <td>105.0</td>\n",
       "      <td>1.12</td>\n",
       "    </tr>\n",
       "    <tr>\n",
       "      <th>shocks[998]</th>\n",
       "      <td>2.563</td>\n",
       "      <td>31.637</td>\n",
       "      <td>-55.432</td>\n",
       "      <td>63.648</td>\n",
       "      <td>6.396</td>\n",
       "      <td>2.166</td>\n",
       "      <td>24.0</td>\n",
       "      <td>105.0</td>\n",
       "      <td>1.12</td>\n",
       "    </tr>\n",
       "    <tr>\n",
       "      <th>shocks[999]</th>\n",
       "      <td>2.557</td>\n",
       "      <td>31.667</td>\n",
       "      <td>-54.524</td>\n",
       "      <td>64.736</td>\n",
       "      <td>6.398</td>\n",
       "      <td>2.166</td>\n",
       "      <td>24.0</td>\n",
       "      <td>103.0</td>\n",
       "      <td>1.12</td>\n",
       "    </tr>\n",
       "    <tr>\n",
       "      <th>shocks[1000]</th>\n",
       "      <td>2.548</td>\n",
       "      <td>31.683</td>\n",
       "      <td>-54.320</td>\n",
       "      <td>65.043</td>\n",
       "      <td>6.389</td>\n",
       "      <td>2.153</td>\n",
       "      <td>24.0</td>\n",
       "      <td>104.0</td>\n",
       "      <td>1.12</td>\n",
       "    </tr>\n",
       "  </tbody>\n",
       "</table>\n",
       "<p>1001 rows × 9 columns</p>\n",
       "</div>"
      ],
      "text/plain": [
       "               mean      sd  hdi_3%  ...  ess_bulk  ess_tail  r_hat\n",
       "shocks[0]     0.000   0.000  -0.000  ...    3764.0    2825.0   1.00\n",
       "shocks[1]     0.017   1.024  -1.851  ...    3915.0    2949.0   1.00\n",
       "shocks[2]     0.042   1.445  -2.646  ...    3695.0    3291.0   1.00\n",
       "shocks[3]     0.058   1.755  -3.111  ...    3035.0    3499.0   1.00\n",
       "shocks[4]     0.106   2.024  -3.732  ...    2798.0    3019.0   1.00\n",
       "...             ...     ...     ...  ...       ...       ...    ...\n",
       "shocks[996]   2.570  31.607 -54.816  ...      24.0     105.0   1.12\n",
       "shocks[997]   2.559  31.627 -54.970  ...      24.0     105.0   1.12\n",
       "shocks[998]   2.563  31.637 -55.432  ...      24.0     105.0   1.12\n",
       "shocks[999]   2.557  31.667 -54.524  ...      24.0     103.0   1.12\n",
       "shocks[1000]  2.548  31.683 -54.320  ...      24.0     104.0   1.12\n",
       "\n",
       "[1001 rows x 9 columns]"
      ]
     },
     "execution_count": 65,
     "metadata": {},
     "output_type": "execute_result"
    }
   ],
   "source": [
    "az.summary(trace)"
   ]
  }
 ],
 "metadata": {
  "kernelspec": {
   "display_name": ".venv",
   "language": "python",
   "name": "python3"
  },
  "language_info": {
   "codemirror_mode": {
    "name": "ipython",
    "version": 3
   },
   "file_extension": ".py",
   "mimetype": "text/x-python",
   "name": "python",
   "nbconvert_exporter": "python",
   "pygments_lexer": "ipython3",
   "version": "3.13.2"
  }
 },
 "nbformat": 4,
 "nbformat_minor": 5
}
