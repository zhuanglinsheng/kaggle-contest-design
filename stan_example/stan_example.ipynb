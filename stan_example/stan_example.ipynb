{
 "cells": [
  {
   "cell_type": "code",
   "execution_count": 1,
   "id": "84f3e43f",
   "metadata": {},
   "outputs": [
    {
     "name": "stderr",
     "output_type": "stream",
     "text": [
      "/Users/linsheng/Documents/GitHub/kaggle-contest-design/.venv_macbook/lib/python3.13/site-packages/tqdm/auto.py:21: TqdmWarning: IProgress not found. Please update jupyter and ipywidgets. See https://ipywidgets.readthedocs.io/en/stable/user_install.html\n",
      "  from .autonotebook import tqdm as notebook_tqdm\n"
     ]
    },
    {
     "name": "stdout",
     "output_type": "stream",
     "text": [
      "CmdStan install directory: /Users/linsheng/.cmdstan\n",
      "CmdStan version 2.36.0 already installed\n",
      "Test model compilation\n"
     ]
    }
   ],
   "source": [
    "import os\n",
    "from pprint import pprint\n",
    "\n",
    "import cmdstanpy\n",
    "cmdstanpy.install_cmdstan()\n",
    "from cmdstanpy import CmdStanModel"
   ]
  },
  {
   "cell_type": "code",
   "execution_count": 2,
   "id": "9c733268",
   "metadata": {},
   "outputs": [
    {
     "name": "stdout",
     "output_type": "stream",
     "text": [
      "CmdStanModel: name=stan_example\n",
      "\t stan_file=/Users/linsheng/Documents/GitHub/kaggle-contest-design/stan_example_/stan_example.stan\n",
      "\t exe_file=/Users/linsheng/Documents/GitHub/kaggle-contest-design/stan_example_/stan_example\n",
      "\t compiler_options=stanc_options={}, cpp_options={}\n",
      "{'STAN_CPP_OPTIMS': 'false',\n",
      " 'STAN_MPI': 'false',\n",
      " 'STAN_NO_RANGE_CHECKS': 'false',\n",
      " 'STAN_OPENCL': 'false',\n",
      " 'STAN_THREADS': 'false',\n",
      " 'stan_version_major': '2',\n",
      " 'stan_version_minor': '36',\n",
      " 'stan_version_patch': '0'}\n"
     ]
    }
   ],
   "source": [
    "working_dir = os.getcwd()\n",
    "stan_file = os.path.join(working_dir, 'stan_example.stan')\n",
    "data_file = os.path.join(working_dir, 'stan_example_data.json')\n",
    "model = CmdStanModel(stan_file=stan_file)\n",
    "pprint(model)\n",
    "pprint(model.exe_info())"
   ]
  },
  {
   "cell_type": "code",
   "execution_count": 3,
   "id": "28b9b9f5",
   "metadata": {},
   "outputs": [
    {
     "name": "stderr",
     "output_type": "stream",
     "text": [
      "01:06:45 - cmdstanpy - INFO - CmdStan start processing\n",
      "chain 1 |\u001b[33m          \u001b[0m| 00:00 Status\n",
      "\u001b[A\n",
      "\n",
      "chain 1 |\u001b[34m██████████\u001b[0m| 00:00 Sampling completed\n",
      "chain 2 |\u001b[34m██████████\u001b[0m| 00:00 Sampling completed\n",
      "chain 3 |\u001b[34m██████████\u001b[0m| 00:00 Sampling completed\n",
      "chain 4 |\u001b[34m██████████\u001b[0m| 00:00 Sampling completed"
     ]
    },
    {
     "name": "stdout",
     "output_type": "stream",
     "text": [
      "                                                                                                                                                                                                                                                                                                                                "
     ]
    },
    {
     "name": "stderr",
     "output_type": "stream",
     "text": [
      "\n",
      "01:06:45 - cmdstanpy - INFO - CmdStan done processing.\n"
     ]
    },
    {
     "name": "stdout",
     "output_type": "stream",
     "text": [
      "\n",
      "array([0.164421, 0.245969, 0.122183, ..., 0.208251, 0.208251, 0.244075],\n",
      "      shape=(4000,))\n",
      "      theta\n",
      "0  0.164421\n",
      "1  0.245969\n",
      "2  0.122183\n",
      "<xarray.Dataset> Size: 40kB\n",
      "Dimensions:  (draw: 1000, chain: 4)\n",
      "Coordinates:\n",
      "  * chain    (chain) int64 32B 1 2 3 4\n",
      "  * draw     (draw) int64 8kB 0 1 2 3 4 5 6 7 ... 993 994 995 996 997 998 999\n",
      "Data variables:\n",
      "    theta    (chain, draw) float64 32kB 0.1644 0.246 0.1222 ... 0.2083 0.2441\n",
      "Attributes:\n",
      "    stan_version:        2.36.0\n",
      "    model:               stan_example_model\n",
      "    num_draws_sampling:  1000\n"
     ]
    }
   ],
   "source": [
    "fit = model.sample(data=data_file)\n",
    "\n",
    "pprint(fit.stan_variable('theta'))\n",
    "pprint(fit.draws_pd('theta')[:3])\n",
    "pprint(fit.draws_xr('theta'))"
   ]
  },
  {
   "cell_type": "code",
   "execution_count": 4,
   "id": "48e742ae",
   "metadata": {},
   "outputs": [
    {
     "name": "stdout",
     "output_type": "stream",
     "text": [
      "theta\t(4000,)\n"
     ]
    }
   ],
   "source": [
    "for k, v in fit.stan_variables().items():\n",
    "\tprint(f'{k}\\t{v.shape}')"
   ]
  }
 ],
 "metadata": {
  "kernelspec": {
   "display_name": ".venv",
   "language": "python",
   "name": "python3"
  },
  "language_info": {
   "codemirror_mode": {
    "name": "ipython",
    "version": 3
   },
   "file_extension": ".py",
   "mimetype": "text/x-python",
   "name": "python",
   "nbconvert_exporter": "python",
   "pygments_lexer": "ipython3",
   "version": "3.13.2"
  }
 },
 "nbformat": 4,
 "nbformat_minor": 5
}
