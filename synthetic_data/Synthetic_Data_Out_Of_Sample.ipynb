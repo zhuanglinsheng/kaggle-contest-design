{
 "cells": [
  {
   "cell_type": "markdown",
   "id": "c1d89a69",
   "metadata": {},
   "source": [
    "# Out of Sample Test"
   ]
  },
  {
   "cell_type": "code",
   "execution_count": null,
   "id": "257230c6",
   "metadata": {
    "vscode": {
     "languageId": "plaintext"
    }
   },
   "outputs": [],
   "source": []
  }
 ],
 "metadata": {
  "language_info": {
   "name": "python"
  }
 },
 "nbformat": 4,
 "nbformat_minor": 5
}
