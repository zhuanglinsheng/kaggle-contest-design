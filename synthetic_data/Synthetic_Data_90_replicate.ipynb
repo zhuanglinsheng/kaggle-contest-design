{
 "cells": [
  {
   "cell_type": "markdown",
   "id": "7ae08eed",
   "metadata": {},
   "source": [
    "# Synthetically Generated Data"
   ]
  },
  {
   "cell_type": "markdown",
   "id": "3c1c257d",
   "metadata": {},
   "source": [
    "We test the potential of our estimation algorithm by synthetically generated data."
   ]
  },
  {
   "cell_type": "code",
   "execution_count": 1,
   "id": "559d7d33",
   "metadata": {},
   "outputs": [],
   "source": [
    "# std library\n",
    "import os\n",
    "import json\n",
    "from pathlib import Path\n",
    "from pprint import pprint\n",
    "from datetime import datetime, timedelta\n",
    "from typing import Sequence\n",
    "\n",
    "# third-party\n",
    "from matplotlib import pyplot as plt\n",
    "import numpy as np\n",
    "import pandas as pd\n",
    "from numpy import typing as npt\n",
    "\n",
    "# local\n",
    "from synthetic_data import synthetic_data_simulation  # type: ignore\n",
    "\n",
    "roundint = lambda x: int(round(x))"
   ]
  },
  {
   "cell_type": "markdown",
   "id": "5b4eb71a",
   "metadata": {},
   "source": [
    "### 1. Model Setting"
   ]
  },
  {
   "cell_type": "code",
   "execution_count": 2,
   "id": "d5ff76b3",
   "metadata": {},
   "outputs": [
    {
     "name": "stdout",
     "output_type": "stream",
     "text": [
      "90 2160 2160\n"
     ]
    }
   ],
   "source": [
    "# Capacities & Total Innovation Uncertainty\n",
    "param_theta = 1.0\n",
    "\n",
    "param_c_i = 1.2\n",
    "param_c_j = 1.5\n",
    "param_sigma = 2.0\n",
    "param_lambda = 1.0\n",
    "param_r = 15.0\n",
    "\n",
    "# Contest Time Duaration\n",
    "start_time = datetime(2025, 1, 1, 0, 0, 0)\n",
    "end_time = datetime(2025, 4, 1, 0, 0, 0)\n",
    "contest_days = (end_time - start_time).days\n",
    "contest_seconds = int((end_time - start_time).total_seconds())\n",
    "contest_hours = int(contest_seconds / 3600)\n",
    "contest_timegrids: list[datetime] = np.arange(start_time, end_time, \\\n",
    "\t\ttimedelta(hours=1), dtype=datetime).tolist()\n",
    "time_unit_2f = 1 / 24\n",
    "\n",
    "print(contest_days, contest_hours, len(contest_timegrids))"
   ]
  },
  {
   "cell_type": "markdown",
   "id": "522f893f",
   "metadata": {},
   "source": [
    "### 2. Simulations"
   ]
  },
  {
   "cell_type": "code",
   "execution_count": 3,
   "id": "dc6cd47d",
   "metadata": {},
   "outputs": [],
   "source": [
    "number_of_samples = 5"
   ]
  },
  {
   "cell_type": "code",
   "execution_count": 4,
   "id": "621c0571",
   "metadata": {},
   "outputs": [],
   "source": [
    "combined_data = {\n",
    "\t'N_tests': number_of_samples,\n",
    "\t'theta': param_theta,\n",
    "\t'ratio': param_r,\n",
    "\t'Delta2f': time_unit_2f,\n",
    "\t'N_Delta': roundint((end_time - start_time).total_seconds() / 3600),\n",
    "\t'Ni_arr': [],\n",
    "\t'Nj_arr': [],\n",
    "\t'Ni_max': 0,\n",
    "\t'Nj_max': 0,\n",
    "\t'hat_t_i_arr': [],\n",
    "\t'hat_t_j_arr': [],\n",
    "\t'hat_y_arr': [],\n",
    "\t#'efforts_i_arr': [],\n",
    "\t#'efforts_j_arr': [],\n",
    "}"
   ]
  },
  {
   "cell_type": "code",
   "execution_count": 5,
   "id": "bb64f301",
   "metadata": {},
   "outputs": [],
   "source": [
    "Ni_max = 0\n",
    "Nj_max = 0\n",
    "\n",
    "for ii in range(number_of_samples):\n",
    "\trandom_seed = 1000 + 3 * ii\n",
    "\ttime_grids, i_effort_dynamic, j_effort_dynamic, \\\n",
    "\treal_gap_dynamic, perceived_gap_dynamic, observed_gap_dynamic, \\\n",
    "\tobserved_i_commits, observed_j_commits = \\\n",
    "\t\tsynthetic_data_simulation(\n",
    "\t\t\ttheta=param_theta,\n",
    "\t\t\tc_i=param_c_i,\n",
    "\t\t\tc_j=param_c_j,\n",
    "\t\t\tsigma=param_sigma,\n",
    "\t\t\tlamb=param_lambda,\n",
    "\t\t\tintensity_effort_ratio=param_r,\n",
    "\t\t\thour_arrival_ub=1.0,\n",
    "\t\t\tstart_time=start_time,\n",
    "\t\t\tend_time=end_time,\n",
    "\t\t\ttime_unit=timedelta(hours=1),\n",
    "\t\t\ttime_unit_2f=time_unit_2f,\n",
    "\t\t\tapprox = True,  # using approximated version by default\n",
    "\t\t\tseed_brownian = random_seed + 0,\n",
    "\t\t\tseed_poisson = random_seed + 1,\n",
    "\t\t\tseed_uniform = random_seed + 2,\n",
    "\t\t)\n",
    "\t# pprint(observed_gap_dynamic)\n",
    "\tNi = len(observed_i_commits)\n",
    "\tNj = len(observed_j_commits)\n",
    "\tif Ni > Ni_max:\n",
    "\t\tNi_max = Ni\n",
    "\tif Nj > Nj_max:\n",
    "\t\tNj_max = Nj\n",
    "\that_t_i = [(dt - start_time).total_seconds() / 3600 for dt in observed_i_commits]\n",
    "\that_t_j = [(dt - start_time).total_seconds() / 3600 for dt in observed_j_commits]\n",
    "\that_y = observed_gap_dynamic.tolist()\n",
    "\tefforts_i = i_effort_dynamic.tolist()\n",
    "\tefforts_j = j_effort_dynamic.tolist()\n",
    "\tcombined_data['Ni_arr'].append(Ni)\n",
    "\tcombined_data['Nj_arr'].append(Nj)\n",
    "\tcombined_data['hat_t_i_arr'].append(hat_t_i)\n",
    "\tcombined_data['hat_t_j_arr'].append(hat_t_j)\n",
    "\tcombined_data['hat_y_arr'].append(hat_y)\n",
    "combined_data['Ni_max'] = Ni_max\n",
    "combined_data['Nj_max'] = Nj_max"
   ]
  },
  {
   "cell_type": "code",
   "execution_count": 6,
   "id": "025c40ce",
   "metadata": {},
   "outputs": [],
   "source": [
    "for idx_test in range(number_of_samples):\n",
    "\t# hat_t_i_arr\n",
    "\that_t_i = combined_data['hat_t_i_arr'][idx_test]\n",
    "\that_t_i_len = len(hat_t_i)\n",
    "\tif hat_t_i_len < Ni_max:\n",
    "\t\that_t_i.extend([0] * (Ni_max - hat_t_i_len))\n",
    "\t# hat_t_j_arr\n",
    "\that_t_j = combined_data['hat_t_j_arr'][idx_test]\n",
    "\that_t_j_len = len(hat_t_j)\n",
    "\tif hat_t_j_len < Nj_max:\n",
    "\t\that_t_j.extend([0] * (Nj_max - hat_t_j_len))"
   ]
  },
  {
   "cell_type": "code",
   "execution_count": 7,
   "id": "1ffc76b1",
   "metadata": {},
   "outputs": [],
   "source": [
    "# save the observed data\n",
    "wd = os.getcwd()\n",
    "wd_synthetic_data = os.path.join(wd, f'data_{contest_days}_combined_{number_of_samples}.json')\n",
    "\n",
    "with open(wd_synthetic_data, 'w') as f:\n",
    "\tjson.dump(combined_data, f, indent=4)"
   ]
  },
  {
   "cell_type": "markdown",
   "id": "7f26f98f",
   "metadata": {},
   "source": [
    "### 3. Bayesian Inference"
   ]
  },
  {
   "cell_type": "code",
   "execution_count": 8,
   "id": "27044163",
   "metadata": {},
   "outputs": [],
   "source": [
    "# import cmdstanpy\n",
    "# cmdstanpy.install_cmdstan()\n",
    "from cmdstanpy import CmdStanModel, compile_stan_file"
   ]
  },
  {
   "cell_type": "code",
   "execution_count": 9,
   "id": "61580cab",
   "metadata": {},
   "outputs": [],
   "source": [
    "# build stan model\n",
    "stan_file = os.path.join(wd, f'synthetic_data_90_replicated.stan')\n",
    "output_dir = Path('./tmp')\n",
    "exe_path = compile_stan_file(\n",
    "\tsrc=stan_file,\n",
    "\tcpp_options={\n",
    "\t\t\"LDFLAGS\": \"-headerpad_max_install_names\",\n",
    "\t\t\"CXXFLAGS\": \"-O3\",\n",
    "})\n",
    "model = CmdStanModel(stan_file=stan_file, exe_file=exe_path)"
   ]
  },
  {
   "cell_type": "code",
   "execution_count": 10,
   "id": "faf55b4d",
   "metadata": {},
   "outputs": [
    {
     "name": "stderr",
     "output_type": "stream",
     "text": [
      "12:34:29 - cmdstanpy - INFO - CmdStan start processing\n"
     ]
    },
    {
     "data": {
      "application/vnd.jupyter.widget-view+json": {
       "model_id": "87f337a807084f7fb280ee772ca94a31",
       "version_major": 2,
       "version_minor": 0
      },
      "text/plain": [
       "chain 1 |          | 00:00 Status"
      ]
     },
     "metadata": {},
     "output_type": "display_data"
    },
    {
     "data": {
      "application/vnd.jupyter.widget-view+json": {
       "model_id": "c20104cc3a2f496caf5d9be8762094c1",
       "version_major": 2,
       "version_minor": 0
      },
      "text/plain": [
       "chain 2 |          | 00:00 Status"
      ]
     },
     "metadata": {},
     "output_type": "display_data"
    },
    {
     "data": {
      "application/vnd.jupyter.widget-view+json": {
       "model_id": "97799022bbb0418593e382eb6af90b3c",
       "version_major": 2,
       "version_minor": 0
      },
      "text/plain": [
       "chain 3 |          | 00:00 Status"
      ]
     },
     "metadata": {},
     "output_type": "display_data"
    },
    {
     "data": {
      "application/vnd.jupyter.widget-view+json": {
       "model_id": "ed7fb274cf16466793387006235c6cf9",
       "version_major": 2,
       "version_minor": 0
      },
      "text/plain": [
       "chain 4 |          | 00:00 Status"
      ]
     },
     "metadata": {},
     "output_type": "display_data"
    },
    {
     "name": "stdout",
     "output_type": "stream",
     "text": [
      "                                                                                                                                                                                                                                                                                                                                "
     ]
    },
    {
     "name": "stderr",
     "output_type": "stream",
     "text": [
      "12:38:25 - cmdstanpy - INFO - CmdStan done processing.\n"
     ]
    },
    {
     "name": "stdout",
     "output_type": "stream",
     "text": [
      "\n"
     ]
    }
   ],
   "source": [
    "# fit the model with data\n",
    "fit = model.sample( \\\n",
    "\t\tdata=wd_synthetic_data,\n",
    "\t\titer_warmup=1000,\n",
    "\t\titer_sampling=2000,\n",
    "\t\tchains=4,\n",
    "\t\tparallel_chains=4,\n",
    "\t\tshow_console=False,\n",
    "\t\t#max_treedepth=12,  # for difficult model\n",
    "\t\t#adapt_delta=0.99,  # for difficult model\n",
    "\t\toutput_dir=output_dir,\n",
    "\t\tseed=12345,\n",
    "\t)"
   ]
  },
  {
   "cell_type": "code",
   "execution_count": 11,
   "id": "6c7e8cf4",
   "metadata": {},
   "outputs": [],
   "source": [
    "# pprint(fit.diagnose())"
   ]
  },
  {
   "cell_type": "code",
   "execution_count": 12,
   "id": "25f885f0",
   "metadata": {},
   "outputs": [],
   "source": [
    "posteriors = fit.stan_variables()"
   ]
  },
  {
   "cell_type": "code",
   "execution_count": 13,
   "id": "e5978e99",
   "metadata": {},
   "outputs": [],
   "source": [
    "def rmse(true, mean, std):\n",
    "\treturn ((true - mean)**2 + std**2)**0.5\n",
    "\n",
    "def display_estimation_results(var_names: list[str], true_vals, posteriors):\n",
    "\tdata = []\n",
    "\tfor name, true_val in zip(var_names, true_vals):\n",
    "\t\tposterior_mean = posteriors[name].mean()\n",
    "\t\tposterior_std = posteriors[name].std()\n",
    "\t\tquantile_05, quantile_95 = np.percentile(posteriors[name], [2.5, 97.5])\n",
    "\t\trecord = (\n",
    "\t\t\tname, true_val, posterior_mean, posterior_std,\n",
    "\t\t\trmse(true_val, posterior_mean, posterior_std),\n",
    "\t\t\tquantile_05, quantile_95\n",
    "\t\t)\n",
    "\t\tdata.append(record)\n",
    "\tcolumns = ['Name', 'True Val.', 'Posterior Mean', 'Posterior Std.', 'RMSE',\n",
    "\t\t\t'2.5% Quantile', '97.5% Quantile']\n",
    "\treturn pd.DataFrame(data, columns=columns)"
   ]
  },
  {
   "cell_type": "code",
   "execution_count": 14,
   "id": "e90bde28",
   "metadata": {},
   "outputs": [
    {
     "data": {
      "text/html": [
       "<div>\n",
       "<style scoped>\n",
       "    .dataframe tbody tr th:only-of-type {\n",
       "        vertical-align: middle;\n",
       "    }\n",
       "\n",
       "    .dataframe tbody tr th {\n",
       "        vertical-align: top;\n",
       "    }\n",
       "\n",
       "    .dataframe thead th {\n",
       "        text-align: right;\n",
       "    }\n",
       "</style>\n",
       "<table border=\"1\" class=\"dataframe\">\n",
       "  <thead>\n",
       "    <tr style=\"text-align: right;\">\n",
       "      <th></th>\n",
       "      <th>Name</th>\n",
       "      <th>True Val.</th>\n",
       "      <th>Posterior Mean</th>\n",
       "      <th>Posterior Std.</th>\n",
       "      <th>RMSE</th>\n",
       "      <th>2.5% Quantile</th>\n",
       "      <th>97.5% Quantile</th>\n",
       "    </tr>\n",
       "  </thead>\n",
       "  <tbody>\n",
       "    <tr>\n",
       "      <th>0</th>\n",
       "      <td>c_i</td>\n",
       "      <td>1.2</td>\n",
       "      <td>1.213276</td>\n",
       "      <td>0.121123</td>\n",
       "      <td>0.121848</td>\n",
       "      <td>0.987010</td>\n",
       "      <td>1.464663</td>\n",
       "    </tr>\n",
       "    <tr>\n",
       "      <th>1</th>\n",
       "      <td>c_j</td>\n",
       "      <td>1.5</td>\n",
       "      <td>1.644799</td>\n",
       "      <td>0.174095</td>\n",
       "      <td>0.226441</td>\n",
       "      <td>1.335523</td>\n",
       "      <td>2.017971</td>\n",
       "    </tr>\n",
       "    <tr>\n",
       "      <th>2</th>\n",
       "      <td>sigma</td>\n",
       "      <td>2.0</td>\n",
       "      <td>1.973054</td>\n",
       "      <td>0.144616</td>\n",
       "      <td>0.147105</td>\n",
       "      <td>1.711801</td>\n",
       "      <td>2.276741</td>\n",
       "    </tr>\n",
       "    <tr>\n",
       "      <th>3</th>\n",
       "      <td>lambda</td>\n",
       "      <td>1.0</td>\n",
       "      <td>1.082642</td>\n",
       "      <td>0.129068</td>\n",
       "      <td>0.153259</td>\n",
       "      <td>0.848621</td>\n",
       "      <td>1.349140</td>\n",
       "    </tr>\n",
       "    <tr>\n",
       "      <th>4</th>\n",
       "      <td>mu_0</td>\n",
       "      <td>0.0</td>\n",
       "      <td>0.000154</td>\n",
       "      <td>0.996635</td>\n",
       "      <td>0.996635</td>\n",
       "      <td>-1.955334</td>\n",
       "      <td>1.944236</td>\n",
       "    </tr>\n",
       "  </tbody>\n",
       "</table>\n",
       "</div>"
      ],
      "text/plain": [
       "     Name  True Val.  Posterior Mean  Posterior Std.      RMSE  2.5% Quantile  \\\n",
       "0     c_i        1.2        1.213276        0.121123  0.121848       0.987010   \n",
       "1     c_j        1.5        1.644799        0.174095  0.226441       1.335523   \n",
       "2   sigma        2.0        1.973054        0.144616  0.147105       1.711801   \n",
       "3  lambda        1.0        1.082642        0.129068  0.153259       0.848621   \n",
       "4    mu_0        0.0        0.000154        0.996635  0.996635      -1.955334   \n",
       "\n",
       "   97.5% Quantile  \n",
       "0        1.464663  \n",
       "1        2.017971  \n",
       "2        2.276741  \n",
       "3        1.349140  \n",
       "4        1.944236  "
      ]
     },
     "execution_count": 14,
     "metadata": {},
     "output_type": "execute_result"
    }
   ],
   "source": [
    "df_posteriors = display_estimation_results(\n",
    "\t['c_i', 'c_j', 'sigma', 'lambda', 'mu_0'],\n",
    "\t[param_c_i, param_c_j, param_sigma, param_lambda, 0],\n",
    "\tposteriors\n",
    ")\n",
    "df_posteriors.to_csv(f'contest_90_posteriors_{number_of_samples}_tests.csv', index=False)\n",
    "df_posteriors"
   ]
  },
  {
   "cell_type": "markdown",
   "id": "bb736c85",
   "metadata": {},
   "source": [
    "Compare posterior `m[1]..m[T]` with real"
   ]
  },
  {
   "cell_type": "markdown",
   "id": "a0f2466b",
   "metadata": {},
   "source": [
    "### Clean Up"
   ]
  },
  {
   "cell_type": "code",
   "execution_count": 15,
   "id": "7a33a5e3",
   "metadata": {},
   "outputs": [],
   "source": [
    "for file in output_dir.iterdir():\n",
    "\tif file.is_file():\n",
    "\t\tfile.unlink()"
   ]
  }
 ],
 "metadata": {
  "kernelspec": {
   "display_name": ".venv",
   "language": "python",
   "name": "python3"
  },
  "language_info": {
   "codemirror_mode": {
    "name": "ipython",
    "version": 3
   },
   "file_extension": ".py",
   "mimetype": "text/x-python",
   "name": "python",
   "nbconvert_exporter": "python",
   "pygments_lexer": "ipython3",
   "version": "3.13.3"
  }
 },
 "nbformat": 4,
 "nbformat_minor": 5
}
