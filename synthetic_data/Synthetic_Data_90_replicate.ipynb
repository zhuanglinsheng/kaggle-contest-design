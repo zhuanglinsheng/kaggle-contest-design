{
 "cells": [
  {
   "cell_type": "markdown",
   "id": "7ae08eed",
   "metadata": {},
   "source": [
    "# Synthetically Generated Data"
   ]
  },
  {
   "cell_type": "markdown",
   "id": "3c1c257d",
   "metadata": {},
   "source": [
    "We test the potential of our estimation algorithm by synthetically generated data."
   ]
  },
  {
   "cell_type": "code",
   "execution_count": 1,
   "id": "559d7d33",
   "metadata": {},
   "outputs": [],
   "source": [
    "# std library\n",
    "import os\n",
    "import json\n",
    "from pathlib import Path\n",
    "from pprint import pprint\n",
    "from datetime import datetime, timedelta\n",
    "from typing import Sequence\n",
    "\n",
    "# third-party\n",
    "from matplotlib import pyplot as plt\n",
    "import numpy as np\n",
    "import pandas as pd\n",
    "from numpy import typing as npt\n",
    "\n",
    "# local\n",
    "from synthetic_data import synthetic_data_simulation  # type: ignore\n",
    "\n",
    "roundint = lambda x: int(round(x))"
   ]
  },
  {
   "cell_type": "markdown",
   "id": "5b4eb71a",
   "metadata": {},
   "source": [
    "### 1. Model Setting"
   ]
  },
  {
   "cell_type": "code",
   "execution_count": 2,
   "id": "d5ff76b3",
   "metadata": {},
   "outputs": [
    {
     "name": "stdout",
     "output_type": "stream",
     "text": [
      "90 2160 2160\n"
     ]
    }
   ],
   "source": [
    "# Capacities & Total Innovation Uncertainty\n",
    "param_theta = 1.0\n",
    "\n",
    "param_c_i = 1.2\n",
    "param_c_j = 1.5\n",
    "param_sigma = 2.0\n",
    "param_lambda = 1.0\n",
    "param_r = 15.0\n",
    "\n",
    "# Contest Time Duaration\n",
    "start_time = datetime(2025, 1, 1, 0, 0, 0)\n",
    "end_time = datetime(2025, 4, 1, 0, 0, 0)\n",
    "contest_days = (end_time - start_time).days\n",
    "contest_seconds = int((end_time - start_time).total_seconds())\n",
    "contest_hours = int(contest_seconds / 3600)\n",
    "contest_timegrids: list[datetime] = np.arange(start_time, end_time, \\\n",
    "\t\ttimedelta(hours=1), dtype=datetime).tolist()\n",
    "time_unit_2f = 1 / 24\n",
    "\n",
    "print(contest_days, contest_hours, len(contest_timegrids))"
   ]
  },
  {
   "cell_type": "markdown",
   "id": "522f893f",
   "metadata": {},
   "source": [
    "### 2. Simulations"
   ]
  },
  {
   "cell_type": "code",
   "execution_count": 3,
   "id": "dc6cd47d",
   "metadata": {},
   "outputs": [],
   "source": [
    "number_of_samples = 20"
   ]
  },
  {
   "cell_type": "code",
   "execution_count": 4,
   "id": "621c0571",
   "metadata": {},
   "outputs": [],
   "source": [
    "combined_data = {\n",
    "\t'N_tests': number_of_samples,\n",
    "\t'theta': param_theta,\n",
    "\t'ratio': param_r,\n",
    "\t'Delta2f': time_unit_2f,\n",
    "\t'N_Delta': roundint((end_time - start_time).total_seconds() / 3600),\n",
    "\t'Ni_arr': [],\n",
    "\t'Nj_arr': [],\n",
    "\t'Ni_max': 0,\n",
    "\t'Nj_max': 0,\n",
    "\t'hat_t_i_arr': [],\n",
    "\t'hat_t_j_arr': [],\n",
    "\t'hat_y_arr': [],\n",
    "\t#'efforts_i_arr': [],\n",
    "\t#'efforts_j_arr': [],\n",
    "}"
   ]
  },
  {
   "cell_type": "code",
   "execution_count": 5,
   "id": "bb64f301",
   "metadata": {},
   "outputs": [],
   "source": [
    "Ni_max = 0\n",
    "Nj_max = 0\n",
    "\n",
    "for ii in range(number_of_samples):\n",
    "\trandom_seed = 1000 + 3 * ii\n",
    "\ttime_grids, i_effort_dynamic, j_effort_dynamic, \\\n",
    "\treal_gap_dynamic, perceived_gap_dynamic, observed_gap_dynamic, \\\n",
    "\tobserved_i_commits, observed_j_commits = \\\n",
    "\t\tsynthetic_data_simulation(\n",
    "\t\t\ttheta=param_theta,\n",
    "\t\t\tc_i=param_c_i,\n",
    "\t\t\tc_j=param_c_j,\n",
    "\t\t\tsigma=param_sigma,\n",
    "\t\t\tlamb=param_lambda,\n",
    "\t\t\tintensity_effort_ratio=param_r,\n",
    "\t\t\thour_arrival_ub=1.0,\n",
    "\t\t\tstart_time=start_time,\n",
    "\t\t\tend_time=end_time,\n",
    "\t\t\ttime_unit=timedelta(hours=1),\n",
    "\t\t\ttime_unit_2f=time_unit_2f,\n",
    "\t\t\tapprox = True,  # using approximated version by default\n",
    "\t\t\tseed_brownian = random_seed + 0,\n",
    "\t\t\tseed_poisson = random_seed + 1,\n",
    "\t\t\tseed_uniform = random_seed + 2,\n",
    "\t\t)\n",
    "\t# pprint(observed_gap_dynamic)\n",
    "\tNi = len(observed_i_commits)\n",
    "\tNj = len(observed_j_commits)\n",
    "\tif Ni > Ni_max:\n",
    "\t\tNi_max = Ni\n",
    "\tif Nj > Nj_max:\n",
    "\t\tNj_max = Nj\n",
    "\that_t_i = [(dt - start_time).total_seconds() / 3600 for dt in observed_i_commits]\n",
    "\that_t_j = [(dt - start_time).total_seconds() / 3600 for dt in observed_j_commits]\n",
    "\that_y = observed_gap_dynamic.tolist()\n",
    "\tefforts_i = i_effort_dynamic.tolist()\n",
    "\tefforts_j = j_effort_dynamic.tolist()\n",
    "\tcombined_data['Ni_arr'].append(Ni)\n",
    "\tcombined_data['Nj_arr'].append(Nj)\n",
    "\tcombined_data['hat_t_i_arr'].append(hat_t_i)\n",
    "\tcombined_data['hat_t_j_arr'].append(hat_t_j)\n",
    "\tcombined_data['hat_y_arr'].append(hat_y)\n",
    "combined_data['Ni_max'] = Ni_max\n",
    "combined_data['Nj_max'] = Nj_max"
   ]
  },
  {
   "cell_type": "code",
   "execution_count": 6,
   "id": "025c40ce",
   "metadata": {},
   "outputs": [],
   "source": [
    "for idx_test in range(number_of_samples):\n",
    "\t# hat_t_i_arr\n",
    "\that_t_i = combined_data['hat_t_i_arr'][idx_test]\n",
    "\that_t_i_len = len(hat_t_i)\n",
    "\tif hat_t_i_len < Ni_max:\n",
    "\t\that_t_i.extend([0] * (Ni_max - hat_t_i_len))\n",
    "\t# hat_t_j_arr\n",
    "\that_t_j = combined_data['hat_t_j_arr'][idx_test]\n",
    "\that_t_j_len = len(hat_t_j)\n",
    "\tif hat_t_j_len < Nj_max:\n",
    "\t\that_t_j.extend([0] * (Nj_max - hat_t_j_len))"
   ]
  },
  {
   "cell_type": "code",
   "execution_count": 7,
   "id": "1ffc76b1",
   "metadata": {},
   "outputs": [],
   "source": [
    "# save the observed data\n",
    "wd = os.getcwd()\n",
    "wd_synthetic_data = os.path.join(wd, f'data_{contest_days}_combined_{number_of_samples}.json')\n",
    "\n",
    "with open(wd_synthetic_data, 'w') as f:\n",
    "\tjson.dump(combined_data, f, indent=4)"
   ]
  },
  {
   "cell_type": "markdown",
   "id": "7f26f98f",
   "metadata": {},
   "source": [
    "### 3. Bayesian Inference"
   ]
  },
  {
   "cell_type": "code",
   "execution_count": 8,
   "id": "27044163",
   "metadata": {},
   "outputs": [],
   "source": [
    "# import cmdstanpy\n",
    "# cmdstanpy.install_cmdstan()\n",
    "from cmdstanpy import CmdStanModel, compile_stan_file"
   ]
  },
  {
   "cell_type": "code",
   "execution_count": 9,
   "id": "61580cab",
   "metadata": {},
   "outputs": [],
   "source": [
    "# build stan model\n",
    "stan_file = os.path.join(wd, f'synthetic_data_90_replicated.stan')\n",
    "output_dir = Path('./tmp')\n",
    "model = CmdStanModel(stan_file=stan_file)"
   ]
  },
  {
   "cell_type": "code",
   "execution_count": 10,
   "id": "faf55b4d",
   "metadata": {},
   "outputs": [
    {
     "name": "stderr",
     "output_type": "stream",
     "text": [
      "16:10:39 - cmdstanpy - INFO - CmdStan start processing\n"
     ]
    },
    {
     "data": {
      "application/vnd.jupyter.widget-view+json": {
       "model_id": "e4c191feacf54ae4bbc2ae2cad41cf51",
       "version_major": 2,
       "version_minor": 0
      },
      "text/plain": [
       "chain 1 |          | 00:00 Status"
      ]
     },
     "metadata": {},
     "output_type": "display_data"
    },
    {
     "data": {
      "application/vnd.jupyter.widget-view+json": {
       "model_id": "ee6b949fa3de41a6b994f353d81c8d45",
       "version_major": 2,
       "version_minor": 0
      },
      "text/plain": [
       "chain 2 |          | 00:00 Status"
      ]
     },
     "metadata": {},
     "output_type": "display_data"
    },
    {
     "data": {
      "application/vnd.jupyter.widget-view+json": {
       "model_id": "0a5610c4d4c04845b1c66024948cb4a4",
       "version_major": 2,
       "version_minor": 0
      },
      "text/plain": [
       "chain 3 |          | 00:00 Status"
      ]
     },
     "metadata": {},
     "output_type": "display_data"
    },
    {
     "data": {
      "application/vnd.jupyter.widget-view+json": {
       "model_id": "cf95d0c608614d57b0358fa3e361b065",
       "version_major": 2,
       "version_minor": 0
      },
      "text/plain": [
       "chain 4 |          | 00:00 Status"
      ]
     },
     "metadata": {},
     "output_type": "display_data"
    },
    {
     "name": "stdout",
     "output_type": "stream",
     "text": [
      "                                                                                                                                                                                                                                                                                                                                "
     ]
    },
    {
     "name": "stderr",
     "output_type": "stream",
     "text": [
      "16:29:43 - cmdstanpy - INFO - CmdStan done processing.\n"
     ]
    },
    {
     "name": "stdout",
     "output_type": "stream",
     "text": [
      "\n"
     ]
    }
   ],
   "source": [
    "# fit the model with data\n",
    "fit = model.sample( \\\n",
    "\t\tdata=wd_synthetic_data,\n",
    "\t\titer_warmup=1000,\n",
    "\t\titer_sampling=2000,\n",
    "\t\tchains=4,\n",
    "\t\tparallel_chains=4,\n",
    "\t\tshow_console=False,\n",
    "\t\t#max_treedepth=12,  # for difficult model\n",
    "\t\t#adapt_delta=0.99,  # for difficult model\n",
    "\t\toutput_dir=output_dir,\n",
    "\t\tseed=12345,\n",
    "\t)"
   ]
  },
  {
   "cell_type": "code",
   "execution_count": 11,
   "id": "6c7e8cf4",
   "metadata": {},
   "outputs": [],
   "source": [
    "# pprint(fit.diagnose())"
   ]
  },
  {
   "cell_type": "code",
   "execution_count": 12,
   "id": "25f885f0",
   "metadata": {},
   "outputs": [],
   "source": [
    "posteriors = fit.stan_variables()"
   ]
  },
  {
   "cell_type": "code",
   "execution_count": 13,
   "id": "e5978e99",
   "metadata": {},
   "outputs": [],
   "source": [
    "def rmse(true, mean, std):\n",
    "\treturn ((true - mean)**2 + std**2)**0.5\n",
    "\n",
    "def display_estimation_results(var_names: list[str], true_vals, posteriors):\n",
    "\tdata = []\n",
    "\tfor name, true_val in zip(var_names, true_vals):\n",
    "\t\tposterior_mean = posteriors[name].mean()\n",
    "\t\tposterior_std = posteriors[name].std()\n",
    "\t\trecord = (name, true_val, posterior_mean, posterior_std, rmse(true_val, posterior_mean, posterior_std))\n",
    "\t\tdata.append(record)\n",
    "\tcolumns = ['Name', 'True Val.', 'Posterior Mean', 'Posterior Std.', 'RMSE']\n",
    "\treturn pd.DataFrame(data, columns=columns)"
   ]
  },
  {
   "cell_type": "code",
   "execution_count": 14,
   "id": "e90bde28",
   "metadata": {},
   "outputs": [
    {
     "data": {
      "application/vnd.microsoft.datawrangler.viewer.v0+json": {
       "columns": [
        {
         "name": "index",
         "rawType": "int64",
         "type": "integer"
        },
        {
         "name": "Name",
         "rawType": "object",
         "type": "string"
        },
        {
         "name": "True Val.",
         "rawType": "float64",
         "type": "float"
        },
        {
         "name": "Posterior Mean",
         "rawType": "float64",
         "type": "float"
        },
        {
         "name": "Posterior Std.",
         "rawType": "float64",
         "type": "float"
        },
        {
         "name": "RMSE",
         "rawType": "float64",
         "type": "float"
        }
       ],
       "conversionMethod": "pd.DataFrame",
       "ref": "3407ce2f-f065-4e68-b1e9-6a6e957e1535",
       "rows": [
        [
         "0",
         "c_i",
         "1.2",
         "1.20563836875",
         "0.05944726067239368",
         "0.05971405197784272"
        ],
        [
         "1",
         "c_j",
         "1.5",
         "1.6387707925",
         "0.08954838323022334",
         "0.16515521726613716"
        ],
        [
         "2",
         "sigma",
         "2.0",
         "1.9806515587499998",
         "0.06866013397276326",
         "0.07133425667911954"
        ],
        [
         "3",
         "lambda",
         "1.0",
         "0.9897112211250001",
         "0.05949931901410913",
         "0.06038234786658575"
        ]
       ],
       "shape": {
        "columns": 5,
        "rows": 4
       }
      },
      "text/html": [
       "<div>\n",
       "<style scoped>\n",
       "    .dataframe tbody tr th:only-of-type {\n",
       "        vertical-align: middle;\n",
       "    }\n",
       "\n",
       "    .dataframe tbody tr th {\n",
       "        vertical-align: top;\n",
       "    }\n",
       "\n",
       "    .dataframe thead th {\n",
       "        text-align: right;\n",
       "    }\n",
       "</style>\n",
       "<table border=\"1\" class=\"dataframe\">\n",
       "  <thead>\n",
       "    <tr style=\"text-align: right;\">\n",
       "      <th></th>\n",
       "      <th>Name</th>\n",
       "      <th>True Val.</th>\n",
       "      <th>Posterior Mean</th>\n",
       "      <th>Posterior Std.</th>\n",
       "      <th>RMSE</th>\n",
       "    </tr>\n",
       "  </thead>\n",
       "  <tbody>\n",
       "    <tr>\n",
       "      <th>0</th>\n",
       "      <td>c_i</td>\n",
       "      <td>1.2</td>\n",
       "      <td>1.205638</td>\n",
       "      <td>0.059447</td>\n",
       "      <td>0.059714</td>\n",
       "    </tr>\n",
       "    <tr>\n",
       "      <th>1</th>\n",
       "      <td>c_j</td>\n",
       "      <td>1.5</td>\n",
       "      <td>1.638771</td>\n",
       "      <td>0.089548</td>\n",
       "      <td>0.165155</td>\n",
       "    </tr>\n",
       "    <tr>\n",
       "      <th>2</th>\n",
       "      <td>sigma</td>\n",
       "      <td>2.0</td>\n",
       "      <td>1.980652</td>\n",
       "      <td>0.068660</td>\n",
       "      <td>0.071334</td>\n",
       "    </tr>\n",
       "    <tr>\n",
       "      <th>3</th>\n",
       "      <td>lambda</td>\n",
       "      <td>1.0</td>\n",
       "      <td>0.989711</td>\n",
       "      <td>0.059499</td>\n",
       "      <td>0.060382</td>\n",
       "    </tr>\n",
       "  </tbody>\n",
       "</table>\n",
       "</div>"
      ],
      "text/plain": [
       "     Name  True Val.  Posterior Mean  Posterior Std.      RMSE\n",
       "0     c_i        1.2        1.205638        0.059447  0.059714\n",
       "1     c_j        1.5        1.638771        0.089548  0.165155\n",
       "2   sigma        2.0        1.980652        0.068660  0.071334\n",
       "3  lambda        1.0        0.989711        0.059499  0.060382"
      ]
     },
     "execution_count": 14,
     "metadata": {},
     "output_type": "execute_result"
    }
   ],
   "source": [
    "df_posteriors = display_estimation_results(\n",
    "\t['c_i', 'c_j', 'sigma', 'lambda'],\n",
    "\t[param_c_i, param_c_j, param_sigma, param_lambda],\n",
    "\tposteriors\n",
    ")\n",
    "df_posteriors.to_csv(f'contest_90_posteriors_{number_of_samples}_tests.csv', index=False)\n",
    "df_posteriors"
   ]
  },
  {
   "cell_type": "markdown",
   "id": "bb736c85",
   "metadata": {},
   "source": [
    "Compare posterior `m[1]..m[T]` with real"
   ]
  },
  {
   "cell_type": "markdown",
   "id": "a0f2466b",
   "metadata": {},
   "source": [
    "### Clean Up"
   ]
  },
  {
   "cell_type": "code",
   "execution_count": 15,
   "id": "7a33a5e3",
   "metadata": {},
   "outputs": [],
   "source": [
    "for file in output_dir.iterdir():\n",
    "\tif file.is_file():\n",
    "\t\tfile.unlink()"
   ]
  }
 ],
 "metadata": {
  "kernelspec": {
   "display_name": ".venv",
   "language": "python",
   "name": "python3"
  },
  "language_info": {
   "codemirror_mode": {
    "name": "ipython",
    "version": 3
   },
   "file_extension": ".py",
   "mimetype": "text/x-python",
   "name": "python",
   "nbconvert_exporter": "python",
   "pygments_lexer": "ipython3",
   "version": "3.13.2"
  }
 },
 "nbformat": 4,
 "nbformat_minor": 5
}
