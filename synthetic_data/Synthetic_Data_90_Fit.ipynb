{
 "cells": [
  {
   "cell_type": "code",
   "execution_count": null,
   "id": "883376a5",
   "metadata": {},
   "outputs": [],
   "source": [
    "import os\n",
    "from pathlib import Path"
   ]
  },
  {
   "cell_type": "code",
   "execution_count": null,
   "id": "ca81921d",
   "metadata": {},
   "outputs": [],
   "source": [
    "# import cmdstanpy\n",
    "# cmdstanpy.install_cmdstan()\n",
    "from cmdstanpy import CmdStanModel, compile_stan_file"
   ]
  },
  {
   "cell_type": "code",
   "execution_count": null,
   "id": "70472aa1",
   "metadata": {},
   "outputs": [],
   "source": [
    "wd = os.getcwd()\n",
    "\n",
    "stan_file = os.path.join(wd, f'synthetic_data.stan')\n",
    "output_dir = Path('./tmp')\n",
    "model = CmdStanModel(stan_file=stan_file)"
   ]
  },
  {
   "cell_type": "code",
   "execution_count": null,
   "id": "e6676dc5",
   "metadata": {},
   "outputs": [],
   "source": []
  }
 ],
 "metadata": {
  "kernelspec": {
   "display_name": ".venv",
   "language": "python",
   "name": "python3"
  },
  "language_info": {
   "name": "python",
   "version": "3.13.2"
  }
 },
 "nbformat": 4,
 "nbformat_minor": 5
}
