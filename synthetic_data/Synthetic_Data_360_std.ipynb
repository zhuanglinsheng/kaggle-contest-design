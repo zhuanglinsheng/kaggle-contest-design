{
 "cells": [
  {
   "cell_type": "markdown",
   "id": "7ae08eed",
   "metadata": {},
   "source": [
    "# Synthetically Generated Data"
   ]
  },
  {
   "cell_type": "markdown",
   "id": "3c1c257d",
   "metadata": {},
   "source": [
    "We test the potential of our estimation algorithm by synthetically generated data."
   ]
  },
  {
   "cell_type": "code",
   "execution_count": null,
   "id": "559d7d33",
   "metadata": {},
   "outputs": [],
   "source": [
    "# std library\n",
    "import os\n",
    "import json\n",
    "from pathlib import Path\n",
    "from pprint import pprint\n",
    "from datetime import datetime, timedelta\n",
    "from typing import Sequence\n",
    "\n",
    "# third-party\n",
    "from matplotlib import pyplot as plt\n",
    "import numpy as np\n",
    "import pandas as pd\n",
    "from numpy import typing as npt\n",
    "\n",
    "# local\n",
    "from synthetic_data import synthetic_data_simulation  # type: ignore"
   ]
  },
  {
   "cell_type": "markdown",
   "id": "5b4eb71a",
   "metadata": {},
   "source": [
    "### 1. Model Setting"
   ]
  },
  {
   "cell_type": "code",
   "execution_count": null,
   "id": "d5ff76b3",
   "metadata": {},
   "outputs": [],
   "source": [
    "# Capacities & Total Innovation Uncertainty\n",
    "param_theta = 1.0\n",
    "\n",
    "param_c_i = 1.2 / 4\n",
    "param_c_j = 1.5 / 4\n",
    "param_sigma = 2.0\n",
    "param_lambda = 1.0\n",
    "param_r = 15.0\n",
    "\n",
    "# Contest Time Duaration\n",
    "start_time = datetime(2025, 1, 1, 0, 0, 0)\n",
    "end_time = datetime(2026, 1, 1, 0, 0, 0)\n",
    "contest_days = (end_time - start_time).days\n",
    "contest_seconds = int((end_time - start_time).total_seconds())\n",
    "contest_hours = int(contest_seconds / 3600)\n",
    "contest_timegrids: list[datetime] = np.arange(start_time, end_time, \\\n",
    "\t\ttimedelta(hours=1), dtype=datetime).tolist()\n",
    "time_unit_2f = 1 / 24\n",
    "\n",
    "print(contest_days, contest_hours, len(contest_timegrids))"
   ]
  },
  {
   "cell_type": "markdown",
   "id": "522f893f",
   "metadata": {},
   "source": [
    "### 2. Simulations"
   ]
  },
  {
   "cell_type": "code",
   "execution_count": null,
   "id": "bb64f301",
   "metadata": {},
   "outputs": [],
   "source": [
    "random_seed = 1000\n",
    "\n",
    "time_grids, i_effort_dynamic, j_effort_dynamic, \\\n",
    "real_gap_dynamic, perceived_gap_dynamic, observed_gap_dynamic, \\\n",
    "observed_i_commits, observed_j_commits = synthetic_data_simulation(\n",
    "\ttheta=param_theta,\n",
    "\tc_i=param_c_i,\n",
    "\tc_j=param_c_j,\n",
    "\tsigma=param_sigma,\n",
    "\tlamb=param_lambda,\n",
    "\tintensity_effort_ratio=param_r,\n",
    "\thour_arrival_ub=1.0,\n",
    "\tstart_time=start_time,\n",
    "\tend_time=end_time,\n",
    "\ttime_unit=timedelta(hours=1),\n",
    "\ttime_unit_2f=time_unit_2f,\n",
    "\tapprox = True,  # using approximated version by default\n",
    "\tseed_brownian = random_seed + 0,\n",
    "\tseed_poisson = random_seed + 1,\n",
    "\tseed_uniform = random_seed + 2,\n",
    ")"
   ]
  },
  {
   "cell_type": "code",
   "execution_count": null,
   "id": "1ea7312b",
   "metadata": {},
   "outputs": [],
   "source": [
    "# pprint(observed_gap_dynamic)\n",
    "pprint(f'number of i submissions = {len(observed_i_commits)}')\n",
    "pprint(f'number of j submissions = {len(observed_j_commits)}')"
   ]
  },
  {
   "cell_type": "code",
   "execution_count": null,
   "id": "d2241807",
   "metadata": {},
   "outputs": [],
   "source": [
    "def plot_ts_events(\n",
    "\t\ttime_grids: Sequence[datetime] | npt.NDArray[np.datetime64],\n",
    "\t\tts: dict[str, Sequence | npt.NDArray],\n",
    "\t\tevents: dict[str, Sequence | npt.NDArray],\n",
    "\t\t*,\n",
    "\t\tfigsize=(10, 5),\n",
    "\t\theight_ratios=[3, 1],\n",
    "):\n",
    "\tfig, (ax_main, ax_events) = plt.subplots(\n",
    "\t\tnrows=2, ncols=1, figsize=figsize, height_ratios=height_ratios\n",
    "\t)\n",
    "\t# plot time series\n",
    "\tfor ts_key, ts_val in ts.items():\n",
    "\t\tax_main.plot(time_grids, ts_val, label=ts_key)\n",
    "\tax_main.legend()\n",
    "\txrange = ax_main.get_xlim()\n",
    "\t# plot events\n",
    "\tevent_height = 0.2\n",
    "\tytick = 0\n",
    "\tyticks = []\n",
    "\tyticklabels = []\n",
    "\tfor event_key, event_val in events.items():\n",
    "\t\tyticks.append(ytick)\n",
    "\t\tyticklabels.append(event_key)\n",
    "\t\tax_events.hlines(y=ytick, xmin=xrange[0], xmax=xrange[1])\n",
    "\t\tax_events.vlines(x=event_val, ymin=ytick - event_height, ymax=ytick + event_height)\n",
    "\t\tytick -= 2.5 * event_height\n",
    "\tax_events.set_xlim(xrange)\n",
    "\tax_events.get_xaxis().set_visible(False)\n",
    "\tax_events.set_yticks(yticks)\n",
    "\tax_events.set_yticklabels(yticklabels)\n",
    "\treturn fig, ax_main, ax_events"
   ]
  },
  {
   "cell_type": "code",
   "execution_count": null,
   "id": "d54e5082",
   "metadata": {},
   "outputs": [],
   "source": [
    "fig, _, _ = plot_ts_events(time_grids, {\n",
    "\t\t\t'real': real_gap_dynamic[:-1],\n",
    "\t\t\t'observed': observed_gap_dynamic[:-1],\n",
    "\t\t\t'perceived': perceived_gap_dynamic[:-1],\n",
    "\t\t\t#'effort gap (cumsum)': (i_effort_dynamic - j_effort_dynamic).cumsum(),\n",
    "\t\t}, {\n",
    "\t\t\t'player i': observed_i_commits,\n",
    "\t\t\t'player j': observed_j_commits,\n",
    "\t})"
   ]
  },
  {
   "cell_type": "code",
   "execution_count": null,
   "id": "b44fd068",
   "metadata": {},
   "outputs": [],
   "source": [
    "plt.figure(figsize=(10, 3))\n",
    "plt.plot(np.array(time_grids), i_effort_dynamic, label='player i')\n",
    "plt.plot(np.array(time_grids), j_effort_dynamic, label='player j')\n",
    "plt.legend()\n",
    "plt.show()"
   ]
  },
  {
   "cell_type": "code",
   "execution_count": null,
   "id": "1ffc76b1",
   "metadata": {},
   "outputs": [],
   "source": [
    "# save the observed data\n",
    "wd = os.getcwd()\n",
    "wd_synthetic_data = os.path.join(wd, f'data_{contest_days}.json')\n",
    "roundint = lambda x: int(round(x))\n",
    "\n",
    "with open(wd_synthetic_data, 'w') as f:\n",
    "\tjson.dump({\n",
    "\t\t'theta': param_theta,\n",
    "\t\t'ratio': param_r,\n",
    "\t\t'N_Delta': roundint((end_time - start_time).total_seconds() / 3600),\n",
    "\t\t'Delta2f': time_unit_2f,\n",
    "\t\t'Ni': len(observed_i_commits),\n",
    "\t\t'Nj': len(observed_j_commits),\n",
    "\t\t'hat_t_i': [(dt - start_time).total_seconds() / 3600 for dt in observed_i_commits],\n",
    "\t\t'hat_t_j': [(dt - start_time).total_seconds() / 3600 for dt in observed_j_commits],\n",
    "\t\t'hat_y': observed_gap_dynamic.tolist(),\n",
    "\t\t'efforts_i': i_effort_dynamic.tolist(),\n",
    "\t\t'efforts_j': j_effort_dynamic.tolist(),\n",
    "\t}, f, indent=4)"
   ]
  },
  {
   "cell_type": "markdown",
   "id": "7f26f98f",
   "metadata": {},
   "source": [
    "### 3. Bayesian Inference"
   ]
  },
  {
   "cell_type": "code",
   "execution_count": null,
   "id": "27044163",
   "metadata": {},
   "outputs": [],
   "source": [
    "# import cmdstanpy\n",
    "# cmdstanpy.install_cmdstan()\n",
    "from cmdstanpy import CmdStanModel, compile_stan_file"
   ]
  },
  {
   "cell_type": "code",
   "execution_count": null,
   "id": "61580cab",
   "metadata": {},
   "outputs": [],
   "source": [
    "# build stan model\n",
    "stan_file = os.path.join(wd, f'synthetic_data.stan')\n",
    "output_dir = Path('./tmp')\n",
    "exe_path = compile_stan_file(\n",
    "\tsrc=stan_file,\n",
    "\tcpp_options={\n",
    "\t\t\"LDFLAGS\": \"-headerpad_max_install_names\",\n",
    "\t\t\"CXXFLAGS\": \"-O3\",\n",
    "})\n",
    "model = CmdStanModel(stan_file=stan_file, exe_file=exe_path)"
   ]
  },
  {
   "cell_type": "code",
   "execution_count": null,
   "id": "faf55b4d",
   "metadata": {},
   "outputs": [],
   "source": [
    "# fit the model with data\n",
    "fit = model.sample( \\\n",
    "\t\tdata=wd_synthetic_data,\n",
    "\t\titer_warmup=1000,\n",
    "\t\titer_sampling=2000,\n",
    "\t\tchains=4,\n",
    "\t\tparallel_chains=4,\n",
    "\t\tshow_console=False,\n",
    "\t\t#max_treedepth=12,  # for difficult model\n",
    "\t\t#adapt_delta=0.99,  # for difficult model\n",
    "\t\toutput_dir=output_dir,\n",
    "\t\tseed=12345,\n",
    "\t)"
   ]
  },
  {
   "cell_type": "code",
   "execution_count": null,
   "id": "25f885f0",
   "metadata": {},
   "outputs": [],
   "source": [
    "posteriors = fit.stan_variables()"
   ]
  },
  {
   "cell_type": "code",
   "execution_count": null,
   "id": "e5978e99",
   "metadata": {},
   "outputs": [],
   "source": [
    "def rmse(true, mean, std):\n",
    "\treturn ((true - mean)**2 + std**2)**0.5\n",
    "\n",
    "def display_estimation_results(var_names: list[str], true_vals, posteriors):\n",
    "\tdata = []\n",
    "\tfor name, true_val in zip(var_names, true_vals):\n",
    "\t\tposterior_mean = posteriors[name].mean()\n",
    "\t\tposterior_std = posteriors[name].std()\n",
    "\t\tquantile_05, quantile_95 = np.percentile(posteriors[name], [2.5, 97.5])\n",
    "\t\trecord = (\n",
    "\t\t\tname, true_val, posterior_mean, posterior_std,\n",
    "\t\t\trmse(true_val, posterior_mean, posterior_std),\n",
    "\t\t\tquantile_05, quantile_95\n",
    "\t\t)\n",
    "\t\tdata.append(record)\n",
    "\tcolumns = ['Name', 'True Val.', 'Posterior Mean', 'Posterior Std.', 'RMSE', '2.5% Quantile', '97.5% Quantile']\n",
    "\treturn pd.DataFrame(data, columns=columns)"
   ]
  },
  {
   "cell_type": "code",
   "execution_count": null,
   "id": "e90bde28",
   "metadata": {},
   "outputs": [],
   "source": [
    "display_estimation_results(\n",
    "\t['c_i', 'c_j', 'r', 'sigma', 'lambda', 'mu_0'],\n",
    "\t[param_c_i, param_c_j, param_r, param_sigma, param_lambda, 0],\n",
    "\tposteriors\n",
    ")"
   ]
  },
  {
   "cell_type": "markdown",
   "id": "bb736c85",
   "metadata": {},
   "source": [
    "Compare posterior `m[1]..m[T]` with real"
   ]
  },
  {
   "cell_type": "code",
   "execution_count": null,
   "id": "99154406",
   "metadata": {},
   "outputs": [],
   "source": [
    "posterior_m_i_mean = fit.stan_variable('m_i').mean(axis=0)\n",
    "posterior_m_j_mean = fit.stan_variable('m_j').mean(axis=0)\n",
    "\n",
    "plt.figure(figsize=(10, 3))\n",
    "plt.plot(np.array(time_grids), posterior_m_i_mean, label='posterior m_i')\n",
    "plt.plot(np.array(time_grids), i_effort_dynamic, label='real m_i', linestyle='dotted')\n",
    "plt.legend()\n",
    "plt.show()\n",
    "print(np.sum(posterior_m_i_mean - i_effort_dynamic))\n",
    "\n",
    "plt.figure(figsize=(10, 3))\n",
    "plt.plot(np.array(time_grids), posterior_m_j_mean, label='posterior m_j')\n",
    "plt.plot(np.array(time_grids), j_effort_dynamic, label='real m_j', linestyle='dotted')\n",
    "plt.legend()\n",
    "plt.show()\n",
    "print(np.sum(posterior_m_j_mean - j_effort_dynamic))"
   ]
  },
  {
   "cell_type": "code",
   "execution_count": null,
   "id": "01c9ff8e",
   "metadata": {},
   "outputs": [],
   "source": [
    "## compare posterior \\tilde{y}[1]..\\tilde{y}[T] with real\n",
    "\n",
    "posterior_tilde_y_mean = fit.stan_variable('tilde_y').mean(axis=0)\n",
    "\n",
    "plt.figure(figsize=(10, 3))\n",
    "plt.plot(np.array(time_grids), posterior_tilde_y_mean[:-1], label=r'$\\tilde{y}_t$ (posterior)')\n",
    "plt.plot(np.array(time_grids), perceived_gap_dynamic[:-1], label=r'$\\tilde{y}_t$ (real)', linestyle='dotted')\n",
    "plt.legend()\n",
    "plt.show()\n",
    "print(np.sum(posterior_tilde_y_mean - perceived_gap_dynamic))"
   ]
  },
  {
   "cell_type": "markdown",
   "id": "1ec0fd20",
   "metadata": {},
   "source": [
    "### Clean Up"
   ]
  },
  {
   "cell_type": "code",
   "execution_count": null,
   "id": "0c0370fb",
   "metadata": {},
   "outputs": [],
   "source": [
    "for file in output_dir.iterdir():\n",
    "\tif file.is_file():\n",
    "\t\tfile.unlink()"
   ]
  }
 ],
 "metadata": {
  "kernelspec": {
   "display_name": ".venv",
   "language": "python",
   "name": "python3"
  },
  "language_info": {
   "codemirror_mode": {
    "name": "ipython",
    "version": 3
   },
   "file_extension": ".py",
   "mimetype": "text/x-python",
   "name": "python",
   "nbconvert_exporter": "python",
   "pygments_lexer": "ipython3",
   "version": "3.13.3"
  }
 },
 "nbformat": 4,
 "nbformat_minor": 5
}
